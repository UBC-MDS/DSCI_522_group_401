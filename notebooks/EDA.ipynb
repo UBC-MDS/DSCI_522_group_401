{
 "cells": [
  {
   "cell_type": "markdown",
   "metadata": {},
   "source": [
    "# UBC-MDS/DSCI_522_group_401\n",
    "# Predicting Medical Insurance Cost\n",
    "Authors: Karanpal Singh, Sreejith Munthikodu, Sirine Chahma  \n",
    "[Data Source](https://gist.github.com/meperezcuello/82a9f1c1c473d6585e750ad2e3c05a41)"
   ]
  },
  {
   "cell_type": "code",
   "execution_count": 1,
   "metadata": {},
   "outputs": [],
   "source": [
    "import pandas as pd\n",
    "import numpy as np\n",
    "import matplotlib.pyplot as plt\n",
    "import seaborn as sns\n",
    "import altair as alt\n",
    "\n",
    "from sklearn.model_selection import train_test_split"
   ]
  },
  {
   "cell_type": "markdown",
   "metadata": {},
   "source": [
    "### Load the data"
   ]
  },
  {
   "cell_type": "code",
   "execution_count": 2,
   "metadata": {},
   "outputs": [
    {
     "data": {
      "text/html": [
       "<div>\n",
       "<style scoped>\n",
       "    .dataframe tbody tr th:only-of-type {\n",
       "        vertical-align: middle;\n",
       "    }\n",
       "\n",
       "    .dataframe tbody tr th {\n",
       "        vertical-align: top;\n",
       "    }\n",
       "\n",
       "    .dataframe thead th {\n",
       "        text-align: right;\n",
       "    }\n",
       "</style>\n",
       "<table border=\"1\" class=\"dataframe\">\n",
       "  <thead>\n",
       "    <tr style=\"text-align: right;\">\n",
       "      <th></th>\n",
       "      <th>age</th>\n",
       "      <th>sex</th>\n",
       "      <th>bmi</th>\n",
       "      <th>children</th>\n",
       "      <th>smoker</th>\n",
       "      <th>region</th>\n",
       "      <th>charges</th>\n",
       "    </tr>\n",
       "  </thead>\n",
       "  <tbody>\n",
       "    <tr>\n",
       "      <th>0</th>\n",
       "      <td>64</td>\n",
       "      <td>female</td>\n",
       "      <td>22.990</td>\n",
       "      <td>0</td>\n",
       "      <td>yes</td>\n",
       "      <td>southeast</td>\n",
       "      <td>27037.91410</td>\n",
       "    </tr>\n",
       "    <tr>\n",
       "      <th>1</th>\n",
       "      <td>51</td>\n",
       "      <td>male</td>\n",
       "      <td>31.635</td>\n",
       "      <td>0</td>\n",
       "      <td>no</td>\n",
       "      <td>northwest</td>\n",
       "      <td>9174.13565</td>\n",
       "    </tr>\n",
       "    <tr>\n",
       "      <th>2</th>\n",
       "      <td>31</td>\n",
       "      <td>female</td>\n",
       "      <td>30.495</td>\n",
       "      <td>3</td>\n",
       "      <td>no</td>\n",
       "      <td>northeast</td>\n",
       "      <td>6113.23105</td>\n",
       "    </tr>\n",
       "    <tr>\n",
       "      <th>3</th>\n",
       "      <td>48</td>\n",
       "      <td>female</td>\n",
       "      <td>22.800</td>\n",
       "      <td>0</td>\n",
       "      <td>no</td>\n",
       "      <td>southwest</td>\n",
       "      <td>8269.04400</td>\n",
       "    </tr>\n",
       "    <tr>\n",
       "      <th>4</th>\n",
       "      <td>23</td>\n",
       "      <td>male</td>\n",
       "      <td>24.510</td>\n",
       "      <td>0</td>\n",
       "      <td>no</td>\n",
       "      <td>northeast</td>\n",
       "      <td>2396.09590</td>\n",
       "    </tr>\n",
       "  </tbody>\n",
       "</table>\n",
       "</div>"
      ],
      "text/plain": [
       "   age     sex     bmi  children smoker     region      charges\n",
       "0   64  female  22.990         0    yes  southeast  27037.91410\n",
       "1   51    male  31.635         0     no  northwest   9174.13565\n",
       "2   31  female  30.495         3     no  northeast   6113.23105\n",
       "3   48  female  22.800         0     no  southwest   8269.04400\n",
       "4   23    male  24.510         0     no  northeast   2396.09590"
      ]
     },
     "execution_count": 2,
     "metadata": {},
     "output_type": "execute_result"
    }
   ],
   "source": [
    "medical_data = pd.read_csv(\"../data/processed/medical_cost_data_train.csv\")\n",
    "medical_data.head()"
   ]
  },
  {
   "cell_type": "code",
   "execution_count": 3,
   "metadata": {},
   "outputs": [
    {
     "data": {
      "text/html": [
       "<div>\n",
       "<style scoped>\n",
       "    .dataframe tbody tr th:only-of-type {\n",
       "        vertical-align: middle;\n",
       "    }\n",
       "\n",
       "    .dataframe tbody tr th {\n",
       "        vertical-align: top;\n",
       "    }\n",
       "\n",
       "    .dataframe thead th {\n",
       "        text-align: right;\n",
       "    }\n",
       "</style>\n",
       "<table border=\"1\" class=\"dataframe\">\n",
       "  <thead>\n",
       "    <tr style=\"text-align: right;\">\n",
       "      <th></th>\n",
       "      <th>age</th>\n",
       "      <th>sex</th>\n",
       "      <th>bmi</th>\n",
       "      <th>children</th>\n",
       "      <th>smoker</th>\n",
       "      <th>region</th>\n",
       "    </tr>\n",
       "  </thead>\n",
       "  <tbody>\n",
       "    <tr>\n",
       "      <th>0</th>\n",
       "      <td>64</td>\n",
       "      <td>female</td>\n",
       "      <td>22.990</td>\n",
       "      <td>0</td>\n",
       "      <td>yes</td>\n",
       "      <td>southeast</td>\n",
       "    </tr>\n",
       "    <tr>\n",
       "      <th>1</th>\n",
       "      <td>51</td>\n",
       "      <td>male</td>\n",
       "      <td>31.635</td>\n",
       "      <td>0</td>\n",
       "      <td>no</td>\n",
       "      <td>northwest</td>\n",
       "    </tr>\n",
       "    <tr>\n",
       "      <th>2</th>\n",
       "      <td>31</td>\n",
       "      <td>female</td>\n",
       "      <td>30.495</td>\n",
       "      <td>3</td>\n",
       "      <td>no</td>\n",
       "      <td>northeast</td>\n",
       "    </tr>\n",
       "    <tr>\n",
       "      <th>3</th>\n",
       "      <td>48</td>\n",
       "      <td>female</td>\n",
       "      <td>22.800</td>\n",
       "      <td>0</td>\n",
       "      <td>no</td>\n",
       "      <td>southwest</td>\n",
       "    </tr>\n",
       "    <tr>\n",
       "      <th>4</th>\n",
       "      <td>23</td>\n",
       "      <td>male</td>\n",
       "      <td>24.510</td>\n",
       "      <td>0</td>\n",
       "      <td>no</td>\n",
       "      <td>northeast</td>\n",
       "    </tr>\n",
       "  </tbody>\n",
       "</table>\n",
       "</div>"
      ],
      "text/plain": [
       "   age     sex     bmi  children smoker     region\n",
       "0   64  female  22.990         0    yes  southeast\n",
       "1   51    male  31.635         0     no  northwest\n",
       "2   31  female  30.495         3     no  northeast\n",
       "3   48  female  22.800         0     no  southwest\n",
       "4   23    male  24.510         0     no  northeast"
      ]
     },
     "execution_count": 3,
     "metadata": {},
     "output_type": "execute_result"
    }
   ],
   "source": [
    "X_train = medical_data.drop(columns = \"charges\")\n",
    "X_train.head()"
   ]
  },
  {
   "cell_type": "code",
   "execution_count": 4,
   "metadata": {},
   "outputs": [
    {
     "data": {
      "text/html": [
       "<div>\n",
       "<style scoped>\n",
       "    .dataframe tbody tr th:only-of-type {\n",
       "        vertical-align: middle;\n",
       "    }\n",
       "\n",
       "    .dataframe tbody tr th {\n",
       "        vertical-align: top;\n",
       "    }\n",
       "\n",
       "    .dataframe thead th {\n",
       "        text-align: right;\n",
       "    }\n",
       "</style>\n",
       "<table border=\"1\" class=\"dataframe\">\n",
       "  <thead>\n",
       "    <tr style=\"text-align: right;\">\n",
       "      <th></th>\n",
       "      <th>charges</th>\n",
       "    </tr>\n",
       "  </thead>\n",
       "  <tbody>\n",
       "    <tr>\n",
       "      <th>0</th>\n",
       "      <td>27037.91410</td>\n",
       "    </tr>\n",
       "    <tr>\n",
       "      <th>1</th>\n",
       "      <td>9174.13565</td>\n",
       "    </tr>\n",
       "    <tr>\n",
       "      <th>2</th>\n",
       "      <td>6113.23105</td>\n",
       "    </tr>\n",
       "    <tr>\n",
       "      <th>3</th>\n",
       "      <td>8269.04400</td>\n",
       "    </tr>\n",
       "    <tr>\n",
       "      <th>4</th>\n",
       "      <td>2396.09590</td>\n",
       "    </tr>\n",
       "  </tbody>\n",
       "</table>\n",
       "</div>"
      ],
      "text/plain": [
       "       charges\n",
       "0  27037.91410\n",
       "1   9174.13565\n",
       "2   6113.23105\n",
       "3   8269.04400\n",
       "4   2396.09590"
      ]
     },
     "execution_count": 4,
     "metadata": {},
     "output_type": "execute_result"
    }
   ],
   "source": [
    "y_train = medical_data[[\"charges\"]]\n",
    "y_train.head()"
   ]
  },
  {
   "cell_type": "code",
   "execution_count": 5,
   "metadata": {},
   "outputs": [
    {
     "name": "stdout",
     "output_type": "stream",
     "text": [
      "Total number of train samples: 936\n"
     ]
    }
   ],
   "source": [
    "print(f\"Total number of train samples: {medical_data.shape[0]}\")"
   ]
  },
  {
   "cell_type": "markdown",
   "metadata": {},
   "source": [
    "# Exploratory Data Analysis "
   ]
  },
  {
   "cell_type": "markdown",
   "metadata": {},
   "source": [
    "### Basic preprocessing"
   ]
  },
  {
   "cell_type": "code",
   "execution_count": 6,
   "metadata": {},
   "outputs": [
    {
     "data": {
      "text/plain": [
       "age           int64\n",
       "sex          object\n",
       "bmi         float64\n",
       "children      int64\n",
       "smoker       object\n",
       "region       object\n",
       "dtype: object"
      ]
     },
     "execution_count": 6,
     "metadata": {},
     "output_type": "execute_result"
    }
   ],
   "source": [
    "X_train.dtypes"
   ]
  },
  {
   "cell_type": "code",
   "execution_count": 7,
   "metadata": {},
   "outputs": [
    {
     "data": {
      "text/plain": [
       "False"
      ]
     },
     "execution_count": 7,
     "metadata": {},
     "output_type": "execute_result"
    }
   ],
   "source": [
    "# Check for missing values\n",
    "X_train.isna().any().any()"
   ]
  },
  {
   "cell_type": "markdown",
   "metadata": {},
   "source": [
    "There are no missing values in our data"
   ]
  },
  {
   "cell_type": "code",
   "execution_count": 8,
   "metadata": {},
   "outputs": [
    {
     "name": "stdout",
     "output_type": "stream",
     "text": [
      "Numeric features are: ['age', 'bmi', 'children']\n",
      "Categoric features are: ['sex', 'smoker', 'region']\n"
     ]
    }
   ],
   "source": [
    "# Identify categoric and numeric features\n",
    "data_types = X_train.dtypes\n",
    "categoric_features = []\n",
    "numeric_features = []\n",
    "for d_type, feature in zip(data_types, data_types.index):\n",
    "    if d_type == \"object\":\n",
    "        categoric_features.append(feature)\n",
    "    else:\n",
    "        numeric_features.append(feature)\n",
    "\n",
    "numeric_features = numeric_features\n",
    "print(f\"Numeric features are: {numeric_features}\")\n",
    "print(f\"Categoric features are: {categoric_features}\")"
   ]
  },
  {
   "cell_type": "code",
   "execution_count": 9,
   "metadata": {},
   "outputs": [
    {
     "name": "stdout",
     "output_type": "stream",
     "text": [
      "Total samples: 936\n",
      "Number of unique values in sex is 2\n",
      "Number of unique values in smoker is 2\n",
      "Number of unique values in region is 4\n"
     ]
    }
   ],
   "source": [
    "# Explore cardinality in categoric features\n",
    "print(f\"Total samples: {X_train.shape[0]}\")\n",
    "for cat_feature in categoric_features:\n",
    "    print(f\"Number of unique values in {cat_feature} is {X_train[cat_feature].nunique()}\")"
   ]
  },
  {
   "cell_type": "code",
   "execution_count": 10,
   "metadata": {},
   "outputs": [
    {
     "name": "stdout",
     "output_type": "stream",
     "text": [
      "Total outliers in age is 1\n",
      "Total outliers in bmi is 9\n",
      "Total outliers in children is 1\n"
     ]
    }
   ],
   "source": [
    "# Detect outliers in numeric features\n",
    "\n",
    "def detect_outlier(x):\n",
    "    \"\"\"\n",
    "    Detect outliers from the given array using inter-quartile range. \n",
    "    Considered an outlier if value is less than Q1 - 1.5 IQR or\n",
    "    Q2 + 1.5 IQR\n",
    "    \n",
    "    Parameters\n",
    "    ----------\n",
    "    x : list, array-like\n",
    "        input array of numbers\n",
    "\n",
    "    Returns\n",
    "    -------\n",
    "    tuple\n",
    "        tuple containing indices of the outliers and outliers \n",
    "\n",
    "    \"\"\"\n",
    "    Q1 = np.percentile(x, 25)\n",
    "    Q3 = np.percentile(x, 75)\n",
    "    IQR = Q3 - Q1\n",
    "    ceil =  Q3 + 1.5*IQR\n",
    "    floor = Q1 - 1.5*IQR\n",
    "    outlier_index = x.index[(x < floor) | (x > ceil)]\n",
    "    outliers = x[outlier_index]\n",
    "    \n",
    "    return outlier_index, outliers\n",
    "\n",
    "outliers = {}\n",
    "for col in numeric_features:\n",
    "    outlier_index, outliers = detect_outlier(X_train[col])\n",
    "    outliers[col] = outlier_index\n",
    "    print(f\"Total outliers in {col} is {len(outliers)}\")\n",
    "    "
   ]
  },
  {
   "cell_type": "code",
   "execution_count": 11,
   "metadata": {},
   "outputs": [
    {
     "data": {
      "image/png": "[encoded data removed]",
      "text/plain": [
       "<Figure size 1440x360 with 3 Axes>"
      ]
     },
     "metadata": {
      "needs_background": "light"
     },
     "output_type": "display_data"
    }
   ],
   "source": [
    "# Visualize the distribution using boxplot\n",
    "fig, ax = plt.subplots(1, 3, figsize=(20, 5))\n",
    "axes = ax.reshape(-1)\n",
    "for col, ax in zip(numeric_features, axes):\n",
    "    sns.boxplot(col,  data = X_train, ax = ax)"
   ]
  },
  {
   "cell_type": "code",
   "execution_count": 12,
   "metadata": {},
   "outputs": [
    {
     "data": {
      "text/html": [
       "<div>\n",
       "<style scoped>\n",
       "    .dataframe tbody tr th:only-of-type {\n",
       "        vertical-align: middle;\n",
       "    }\n",
       "\n",
       "    .dataframe tbody tr th {\n",
       "        vertical-align: top;\n",
       "    }\n",
       "\n",
       "    .dataframe thead th {\n",
       "        text-align: right;\n",
       "    }\n",
       "</style>\n",
       "<table border=\"1\" class=\"dataframe\">\n",
       "  <thead>\n",
       "    <tr style=\"text-align: right;\">\n",
       "      <th></th>\n",
       "      <th>age</th>\n",
       "      <th>bmi</th>\n",
       "      <th>children</th>\n",
       "    </tr>\n",
       "  </thead>\n",
       "  <tbody>\n",
       "    <tr>\n",
       "      <th>count</th>\n",
       "      <td>936.000000</td>\n",
       "      <td>936.000000</td>\n",
       "      <td>936.000000</td>\n",
       "    </tr>\n",
       "    <tr>\n",
       "      <th>mean</th>\n",
       "      <td>39.337607</td>\n",
       "      <td>30.868691</td>\n",
       "      <td>1.083333</td>\n",
       "    </tr>\n",
       "    <tr>\n",
       "      <th>std</th>\n",
       "      <td>14.130761</td>\n",
       "      <td>6.022251</td>\n",
       "      <td>1.210250</td>\n",
       "    </tr>\n",
       "    <tr>\n",
       "      <th>min</th>\n",
       "      <td>18.000000</td>\n",
       "      <td>15.960000</td>\n",
       "      <td>0.000000</td>\n",
       "    </tr>\n",
       "    <tr>\n",
       "      <th>25%</th>\n",
       "      <td>26.750000</td>\n",
       "      <td>26.600000</td>\n",
       "      <td>0.000000</td>\n",
       "    </tr>\n",
       "    <tr>\n",
       "      <th>50%</th>\n",
       "      <td>40.000000</td>\n",
       "      <td>30.800000</td>\n",
       "      <td>1.000000</td>\n",
       "    </tr>\n",
       "    <tr>\n",
       "      <th>75%</th>\n",
       "      <td>52.000000</td>\n",
       "      <td>34.800000</td>\n",
       "      <td>2.000000</td>\n",
       "    </tr>\n",
       "    <tr>\n",
       "      <th>max</th>\n",
       "      <td>64.000000</td>\n",
       "      <td>53.130000</td>\n",
       "      <td>5.000000</td>\n",
       "    </tr>\n",
       "  </tbody>\n",
       "</table>\n",
       "</div>"
      ],
      "text/plain": [
       "              age         bmi    children\n",
       "count  936.000000  936.000000  936.000000\n",
       "mean    39.337607   30.868691    1.083333\n",
       "std     14.130761    6.022251    1.210250\n",
       "min     18.000000   15.960000    0.000000\n",
       "25%     26.750000   26.600000    0.000000\n",
       "50%     40.000000   30.800000    1.000000\n",
       "75%     52.000000   34.800000    2.000000\n",
       "max     64.000000   53.130000    5.000000"
      ]
     },
     "execution_count": 12,
     "metadata": {},
     "output_type": "execute_result"
    }
   ],
   "source": [
    "X_train.describe()\n"
   ]
  },
  {
   "cell_type": "markdown",
   "metadata": {},
   "source": [
    "When we look at the scope of the numerical features, we realize that all the values belong to a plausible range. Even though our previous analysis reveled some extreme values, we are going to keep those values because they corresponds to a rare situation that could occur, they are not related to an error in the measurement."
   ]
  },
  {
   "cell_type": "code",
   "execution_count": 233,
   "metadata": {},
   "outputs": [],
   "source": [
    "#Detect the correlation between the features\n",
    "\n",
    "cor = medical_data.corr().reset_index()\n",
    "cor = pd.melt(cor, id_vars=\"index\")"
   ]
  },
  {
   "cell_type": "code",
   "execution_count": 234,
   "metadata": {},
   "outputs": [],
   "source": [
    "cor = cor.replace([1], [None])\n"
   ]
  },
  {
   "cell_type": "code",
   "execution_count": 235,
   "metadata": {},
   "outputs": [
    {
     "data": {
      "text/html": [
       "<div>\n",
       "<style scoped>\n",
       "    .dataframe tbody tr th:only-of-type {\n",
       "        vertical-align: middle;\n",
       "    }\n",
       "\n",
       "    .dataframe tbody tr th {\n",
       "        vertical-align: top;\n",
       "    }\n",
       "\n",
       "    .dataframe thead th {\n",
       "        text-align: right;\n",
       "    }\n",
       "</style>\n",
       "<table border=\"1\" class=\"dataframe\">\n",
       "  <thead>\n",
       "    <tr style=\"text-align: right;\">\n",
       "      <th></th>\n",
       "      <th>index</th>\n",
       "      <th>variable</th>\n",
       "      <th>value</th>\n",
       "    </tr>\n",
       "  </thead>\n",
       "  <tbody>\n",
       "    <tr>\n",
       "      <th>0</th>\n",
       "      <td>age</td>\n",
       "      <td>age</td>\n",
       "      <td>None</td>\n",
       "    </tr>\n",
       "    <tr>\n",
       "      <th>1</th>\n",
       "      <td>bmi</td>\n",
       "      <td>age</td>\n",
       "      <td>0.113401</td>\n",
       "    </tr>\n",
       "    <tr>\n",
       "      <th>2</th>\n",
       "      <td>children</td>\n",
       "      <td>age</td>\n",
       "      <td>0.0660198</td>\n",
       "    </tr>\n",
       "    <tr>\n",
       "      <th>3</th>\n",
       "      <td>charges</td>\n",
       "      <td>age</td>\n",
       "      <td>0.286005</td>\n",
       "    </tr>\n",
       "    <tr>\n",
       "      <th>4</th>\n",
       "      <td>age</td>\n",
       "      <td>bmi</td>\n",
       "      <td>0.113401</td>\n",
       "    </tr>\n",
       "    <tr>\n",
       "      <th>5</th>\n",
       "      <td>bmi</td>\n",
       "      <td>bmi</td>\n",
       "      <td>None</td>\n",
       "    </tr>\n",
       "    <tr>\n",
       "      <th>6</th>\n",
       "      <td>children</td>\n",
       "      <td>bmi</td>\n",
       "      <td>0.0153649</td>\n",
       "    </tr>\n",
       "    <tr>\n",
       "      <th>7</th>\n",
       "      <td>charges</td>\n",
       "      <td>bmi</td>\n",
       "      <td>0.177589</td>\n",
       "    </tr>\n",
       "    <tr>\n",
       "      <th>8</th>\n",
       "      <td>age</td>\n",
       "      <td>children</td>\n",
       "      <td>0.0660198</td>\n",
       "    </tr>\n",
       "    <tr>\n",
       "      <th>9</th>\n",
       "      <td>bmi</td>\n",
       "      <td>children</td>\n",
       "      <td>0.0153649</td>\n",
       "    </tr>\n",
       "    <tr>\n",
       "      <th>10</th>\n",
       "      <td>children</td>\n",
       "      <td>children</td>\n",
       "      <td>None</td>\n",
       "    </tr>\n",
       "    <tr>\n",
       "      <th>11</th>\n",
       "      <td>charges</td>\n",
       "      <td>children</td>\n",
       "      <td>0.0881634</td>\n",
       "    </tr>\n",
       "    <tr>\n",
       "      <th>12</th>\n",
       "      <td>age</td>\n",
       "      <td>charges</td>\n",
       "      <td>0.286005</td>\n",
       "    </tr>\n",
       "    <tr>\n",
       "      <th>13</th>\n",
       "      <td>bmi</td>\n",
       "      <td>charges</td>\n",
       "      <td>0.177589</td>\n",
       "    </tr>\n",
       "    <tr>\n",
       "      <th>14</th>\n",
       "      <td>children</td>\n",
       "      <td>charges</td>\n",
       "      <td>0.0881634</td>\n",
       "    </tr>\n",
       "    <tr>\n",
       "      <th>15</th>\n",
       "      <td>charges</td>\n",
       "      <td>charges</td>\n",
       "      <td>None</td>\n",
       "    </tr>\n",
       "  </tbody>\n",
       "</table>\n",
       "</div>"
      ],
      "text/plain": [
       "       index  variable      value\n",
       "0        age       age       None\n",
       "1        bmi       age   0.113401\n",
       "2   children       age  0.0660198\n",
       "3    charges       age   0.286005\n",
       "4        age       bmi   0.113401\n",
       "5        bmi       bmi       None\n",
       "6   children       bmi  0.0153649\n",
       "7    charges       bmi   0.177589\n",
       "8        age  children  0.0660198\n",
       "9        bmi  children  0.0153649\n",
       "10  children  children       None\n",
       "11   charges  children  0.0881634\n",
       "12       age   charges   0.286005\n",
       "13       bmi   charges   0.177589\n",
       "14  children   charges  0.0881634\n",
       "15   charges   charges       None"
      ]
     },
     "execution_count": 235,
     "metadata": {},
     "output_type": "execute_result"
    }
   ],
   "source": [
    "cor"
   ]
  },
  {
   "cell_type": "code",
   "execution_count": 236,
   "metadata": {},
   "outputs": [
    {
     "data": {
      "text/html": [
       "<div>\n",
       "<style scoped>\n",
       "    .dataframe tbody tr th:only-of-type {\n",
       "        vertical-align: middle;\n",
       "    }\n",
       "\n",
       "    .dataframe tbody tr th {\n",
       "        vertical-align: top;\n",
       "    }\n",
       "\n",
       "    .dataframe thead th {\n",
       "        text-align: right;\n",
       "    }\n",
       "</style>\n",
       "<table border=\"1\" class=\"dataframe\">\n",
       "  <thead>\n",
       "    <tr style=\"text-align: right;\">\n",
       "      <th></th>\n",
       "      <th>index</th>\n",
       "      <th>variable</th>\n",
       "      <th>value</th>\n",
       "    </tr>\n",
       "  </thead>\n",
       "  <tbody>\n",
       "    <tr>\n",
       "      <th>0</th>\n",
       "      <td>age</td>\n",
       "      <td>age</td>\n",
       "      <td>None</td>\n",
       "    </tr>\n",
       "    <tr>\n",
       "      <th>1</th>\n",
       "      <td>bmi</td>\n",
       "      <td>age</td>\n",
       "      <td>0.113401</td>\n",
       "    </tr>\n",
       "    <tr>\n",
       "      <th>2</th>\n",
       "      <td>children</td>\n",
       "      <td>age</td>\n",
       "      <td>0.0660198</td>\n",
       "    </tr>\n",
       "    <tr>\n",
       "      <th>3</th>\n",
       "      <td>charges</td>\n",
       "      <td>age</td>\n",
       "      <td>0.286005</td>\n",
       "    </tr>\n",
       "    <tr>\n",
       "      <th>4</th>\n",
       "      <td>age</td>\n",
       "      <td>bmi</td>\n",
       "      <td>None</td>\n",
       "    </tr>\n",
       "    <tr>\n",
       "      <th>5</th>\n",
       "      <td>bmi</td>\n",
       "      <td>bmi</td>\n",
       "      <td>None</td>\n",
       "    </tr>\n",
       "    <tr>\n",
       "      <th>6</th>\n",
       "      <td>children</td>\n",
       "      <td>bmi</td>\n",
       "      <td>0.0153649</td>\n",
       "    </tr>\n",
       "    <tr>\n",
       "      <th>7</th>\n",
       "      <td>charges</td>\n",
       "      <td>bmi</td>\n",
       "      <td>0.177589</td>\n",
       "    </tr>\n",
       "    <tr>\n",
       "      <th>8</th>\n",
       "      <td>age</td>\n",
       "      <td>children</td>\n",
       "      <td>None</td>\n",
       "    </tr>\n",
       "    <tr>\n",
       "      <th>9</th>\n",
       "      <td>bmi</td>\n",
       "      <td>children</td>\n",
       "      <td>None</td>\n",
       "    </tr>\n",
       "    <tr>\n",
       "      <th>10</th>\n",
       "      <td>children</td>\n",
       "      <td>children</td>\n",
       "      <td>None</td>\n",
       "    </tr>\n",
       "    <tr>\n",
       "      <th>11</th>\n",
       "      <td>charges</td>\n",
       "      <td>children</td>\n",
       "      <td>0.0881634</td>\n",
       "    </tr>\n",
       "    <tr>\n",
       "      <th>12</th>\n",
       "      <td>age</td>\n",
       "      <td>charges</td>\n",
       "      <td>None</td>\n",
       "    </tr>\n",
       "    <tr>\n",
       "      <th>13</th>\n",
       "      <td>bmi</td>\n",
       "      <td>charges</td>\n",
       "      <td>None</td>\n",
       "    </tr>\n",
       "    <tr>\n",
       "      <th>14</th>\n",
       "      <td>children</td>\n",
       "      <td>charges</td>\n",
       "      <td>None</td>\n",
       "    </tr>\n",
       "    <tr>\n",
       "      <th>15</th>\n",
       "      <td>charges</td>\n",
       "      <td>charges</td>\n",
       "      <td>None</td>\n",
       "    </tr>\n",
       "  </tbody>\n",
       "</table>\n",
       "</div>"
      ],
      "text/plain": [
       "       index  variable      value\n",
       "0        age       age       None\n",
       "1        bmi       age   0.113401\n",
       "2   children       age  0.0660198\n",
       "3    charges       age   0.286005\n",
       "4        age       bmi       None\n",
       "5        bmi       bmi       None\n",
       "6   children       bmi  0.0153649\n",
       "7    charges       bmi   0.177589\n",
       "8        age  children       None\n",
       "9        bmi  children       None\n",
       "10  children  children       None\n",
       "11   charges  children  0.0881634\n",
       "12       age   charges       None\n",
       "13       bmi   charges       None\n",
       "14  children   charges       None\n",
       "15   charges   charges       None"
      ]
     },
     "execution_count": 236,
     "metadata": {},
     "output_type": "execute_result"
    }
   ],
   "source": [
    "#Set as None the values that we find twice in the correlation table\n",
    "\n",
    "ind={}\n",
    "\n",
    "for i in range(cor.shape[0]):\n",
    "    for elem in ind:\n",
    "        if cor['variable'][i] in ind[elem]:\n",
    "            if cor['index'][i] == elem:\n",
    "                cor.loc[[i], ['value']] = None\n",
    "    if cor['variable'][i] in ind :\n",
    "            ind[cor['variable'][i]].append(cor['index'][i])\n",
    "    else : \n",
    "        ind[cor['variable'][i]] = []\n",
    "\n",
    "cor"
   ]
  },
  {
   "cell_type": "code",
   "execution_count": 237,
   "metadata": {},
   "outputs": [],
   "source": [
    "cor.loc[[14], ['value']] = cor['value'][11]\n",
    "cor.loc[[11], ['value']] = None"
   ]
  },
  {
   "cell_type": "code",
   "execution_count": 239,
   "metadata": {},
   "outputs": [],
   "source": [
    "heatmap=alt.Chart(cor).mark_rect().encode(\n",
    "    alt.X('index:O', title=''),\n",
    "    alt.Y('variable:O', title=''),\n",
    "    alt.Color('value:Q',scale = alt.Scale(domain=[0, 1], scheme = 'purplered'))\n",
    ").properties(title=\"Correlation map of the features\",\n",
    "            width = 300,\n",
    "            height = 300\n",
    ")"
   ]
  },
  {
   "cell_type": "markdown",
   "metadata": {},
   "source": [
    "We can see that the numerical features don't seem to be correlated. "
   ]
  },
  {
   "cell_type": "code",
   "execution_count": 240,
   "metadata": {},
   "outputs": [],
   "source": [
    "text = heatmap.mark_text(baseline='middle', fontSize=20).encode(\n",
    "    text=alt.Text('value:Q', format='.2'),\n",
    "    color=alt.condition(\n",
    "        alt.datum.Correlation >= 0.95,\n",
    "        alt.value('black'),\n",
    "        alt.value('white')\n",
    "    )\n",
    ")\n",
    "corrMatrix_chart = (heatmap + text)"
   ]
  },
  {
   "cell_type": "code",
   "execution_count": 241,
   "metadata": {},
   "outputs": [
    {
     "data": {
      "application/vnd.vegalite.v3+json": {
       "$schema": "https://vega.github.io/schema/vega-lite/v3.4.0.json",
       "config": {
        "mark": {
         "tooltip": null
        },
        "view": {
         "height": 300,
         "width": 400
        }
       },
       "data": {
        "name": "data-20faf3530a5fd37e0aa936d4b0b5145f"
       },
       "datasets": {
        "data-20faf3530a5fd37e0aa936d4b0b5145f": [
         {
          "index": "age",
          "value": null,
          "variable": "age"
         },
         {
          "index": "bmi",
          "value": 0.11340122533826688,
          "variable": "age"
         },
         {
          "index": "children",
          "value": 0.06601983379415542,
          "variable": "age"
         },
         {
          "index": "charges",
          "value": 0.2860049089281804,
          "variable": "age"
         },
         {
          "index": "age",
          "value": null,
          "variable": "bmi"
         },
         {
          "index": "bmi",
          "value": null,
          "variable": "bmi"
         },
         {
          "index": "children",
          "value": 0.015364922661373901,
          "variable": "bmi"
         },
         {
          "index": "charges",
          "value": 0.17758934026241613,
          "variable": "bmi"
         },
         {
          "index": "age",
          "value": null,
          "variable": "children"
         },
         {
          "index": "bmi",
          "value": null,
          "variable": "children"
         },
         {
          "index": "children",
          "value": null,
          "variable": "children"
         },
         {
          "index": "charges",
          "value": null,
          "variable": "children"
         },
         {
          "index": "age",
          "value": null,
          "variable": "charges"
         },
         {
          "index": "bmi",
          "value": null,
          "variable": "charges"
         },
         {
          "index": "children",
          "value": 0.08816344239824256,
          "variable": "charges"
         },
         {
          "index": "charges",
          "value": null,
          "variable": "charges"
         }
        ]
       },
       "layer": [
        {
         "encoding": {
          "color": {
           "field": "value",
           "scale": {
            "domain": [
             0,
             1
            ],
            "scheme": "purplered"
           },
           "type": "quantitative"
          },
          "x": {
           "field": "index",
           "title": "",
           "type": "ordinal"
          },
          "y": {
           "field": "variable",
           "title": "",
           "type": "ordinal"
          }
         },
         "height": 300,
         "mark": "rect",
         "title": "Correlation map of the features",
         "width": 300
        },
        {
         "encoding": {
          "color": {
           "condition": {
            "test": "(datum.Correlation >= 0.95)",
            "value": "black"
           },
           "value": "white"
          },
          "text": {
           "field": "value",
           "format": ".2",
           "type": "quantitative"
          },
          "x": {
           "field": "index",
           "title": "",
           "type": "ordinal"
          },
          "y": {
           "field": "variable",
           "title": "",
           "type": "ordinal"
          }
         },
         "height": 300,
         "mark": {
          "baseline": "middle",
          "fontSize": 20,
          "type": "text"
         },
         "title": "Correlation map of the features",
         "width": 300
        }
       ]
      },
      "image/png": "[encoded data removed]",
      "text/plain": [
       "<VegaLite 3 object>\n",
       "\n",
       "If you see this message, it means the renderer has not been properly enabled\n",
       "for the frontend that you are using. For more information, see\n",
       "https://altair-viz.github.io/user_guide/troubleshooting.html\n"
      ]
     },
     "execution_count": 241,
     "metadata": {},
     "output_type": "execute_result"
    }
   ],
   "source": [
    "corrMatrix_chart"
   ]
  },
  {
   "cell_type": "markdown",
   "metadata": {},
   "source": [
    "### Exploring features"
   ]
  },
  {
   "cell_type": "markdown",
   "metadata": {},
   "source": [
    "**Let's see if medical expenses tend to change with the age of a person**"
   ]
  },
  {
   "cell_type": "code",
   "execution_count": 16,
   "metadata": {},
   "outputs": [
    {
     "data": {
      "application/vnd.vegalite.v3+json": {
       "$schema": "https://vega.github.io/schema/vega-lite/v3.4.0.json",
       "config": {
        "mark": {
         "tooltip": null
        },
        "view": {
         "height": 300,
         "width": 400
        }
       },
       "data": {
        "name": "data-c70b635b8a0f6e34e915a88046f1d9ae"
       },
       "datasets": {
        "data-c70b635b8a0f6e34e915a88046f1d9ae": [
         {
          "age": 18,
          "bmi": 31.362395833333334,
          "charges": 7985.541841041669,
          "children": 0.4791666666666667
         },
         {
          "age": 19,
          "bmi": 29.21479166666667,
          "charges": 11326.183509583332,
          "children": 0.375
         },
         {
          "age": 20,
          "bmi": 31.783421052631578,
          "charges": 8132.929054210525,
          "children": 1.0526315789473684
         },
         {
          "age": 21,
          "bmi": 29.177894736842106,
          "charges": 3753.742742631579,
          "children": 0.5789473684210527
         },
         {
          "age": 22,
          "bmi": 30.501315789473683,
          "charges": 5911.750934210527,
          "children": 0.3157894736842105
         },
         {
          "age": 23,
          "bmi": 30.698958333333334,
          "charges": 11132.358025416666,
          "children": 1.0416666666666667
         },
         {
          "age": 24,
          "bmi": 28.218333333333334,
          "charges": 14975.019810555552,
          "children": 0.2777777777777778
         },
         {
          "age": 25,
          "bmi": 30.108249999999998,
          "charges": 11391.0625175,
          "children": 0.85
         },
         {
          "age": 26,
          "bmi": 30.20052631578947,
          "charges": 6659.394665263158,
          "children": 1.105263157894737
         },
         {
          "age": 27,
          "bmi": 29.128913043478256,
          "charges": 11927.240302173912,
          "children": 0.8695652173913043
         },
         {
          "age": 28,
          "bmi": 30.292,
          "charges": 8726.819017,
          "children": 1
         },
         {
          "age": 29,
          "bmi": 30.378214285714286,
          "charges": 9951.969987857143,
          "children": 1.1428571428571428
         },
         {
          "age": 30,
          "bmi": 31.984666666666666,
          "charges": 13666.73068666667,
          "children": 1.8666666666666667
         },
         {
          "age": 31,
          "bmi": 30.351999999999997,
          "charges": 10712.5874572,
          "children": 1.48
         },
         {
          "age": 32,
          "bmi": 32.599999999999994,
          "charges": 8785.331831111112,
          "children": 1.2777777777777777
         },
         {
          "age": 33,
          "bmi": 29.54473684210526,
          "charges": 11057.25568263158,
          "children": 1.631578947368421
         },
         {
          "age": 34,
          "bmi": 30.50722222222222,
          "charges": 13819.430540000001,
          "children": 1
         },
         {
          "age": 35,
          "bmi": 32.10366666666667,
          "charges": 12019.169763333333,
          "children": 1.4
         },
         {
          "age": 36,
          "bmi": 28.466666666666665,
          "charges": 10194.568666666666,
          "children": 1.4666666666666666
         },
         {
          "age": 37,
          "bmi": 30.86361111111111,
          "charges": 14634.826034999998,
          "children": 1.8333333333333333
         },
         {
          "age": 38,
          "bmi": 27.874,
          "charges": 6941.163526666665,
          "children": 1.4666666666666666
         },
         {
          "age": 39,
          "bmi": 29.663666666666675,
          "charges": 12002.314442,
          "children": 2.3333333333333335
         },
         {
          "age": 40,
          "bmi": 30.36521739130435,
          "charges": 12220.61051826087,
          "children": 1.6521739130434783
         },
         {
          "age": 41,
          "bmi": 32.50825000000001,
          "charges": 10325.3979675,
          "children": 1.5
         },
         {
          "age": 42,
          "bmi": 28.829375,
          "charges": 13854.525747499998,
          "children": 0.875
         },
         {
          "age": 43,
          "bmi": 31.484473684210524,
          "charges": 18894.35524157895,
          "children": 1.8421052631578947
         },
         {
          "age": 44,
          "bmi": 30.153260869565223,
          "charges": 15584.514806521734,
          "children": 1.2173913043478262
         },
         {
          "age": 45,
          "bmi": 30.200882352941175,
          "charges": 15778.912624705885,
          "children": 1.7058823529411764
         },
         {
          "age": 46,
          "bmi": 31.753809523809526,
          "charges": 14114.151271428569,
          "children": 1.5238095238095237
         },
         {
          "age": 47,
          "bmi": 31.189,
          "charges": 18093.067902,
          "children": 1.4666666666666666
         },
         {
          "age": 48,
          "bmi": 31.568947368421057,
          "charges": 11634.545045789473,
          "children": 1.4736842105263157
         },
         {
          "age": 49,
          "bmi": 30.5425,
          "charges": 12338.298324999996,
          "children": 1.5
         },
         {
          "age": 50,
          "bmi": 30.900000000000002,
          "charges": 16436.81348222222,
          "children": 1.5
         },
         {
          "age": 51,
          "bmi": 31.88282608695653,
          "charges": 17305.992084782607,
          "children": 1.2608695652173914
         },
         {
          "age": 52,
          "bmi": 31.904523809523816,
          "charges": 16558.034335714285,
          "children": 1.380952380952381
         },
         {
          "age": 53,
          "bmi": 31.1995,
          "charges": 16512.616836,
          "children": 1.1
         },
         {
          "age": 54,
          "bmi": 31.806739130434774,
          "charges": 18825.882363478257,
          "children": 1.2608695652173914
         },
         {
          "age": 55,
          "bmi": 31.92809523809524,
          "charges": 17296.338847619045,
          "children": 0.9047619047619048
         },
         {
          "age": 56,
          "bmi": 30.707173913043476,
          "charges": 14111.21249347826,
          "children": 0.8695652173913043
         },
         {
          "age": 57,
          "bmi": 31.92333333333334,
          "charges": 15706.67348888889,
          "children": 0.7222222222222222
         },
         {
          "age": 58,
          "bmi": 33.249722222222225,
          "charges": 13912.571058333333,
          "children": 0.2222222222222222
         },
         {
          "age": 59,
          "bmi": 30.568571428571424,
          "charges": 18224.340994761907,
          "children": 1.0952380952380953
         },
         {
          "age": 60,
          "bmi": 29.527058823529416,
          "charges": 22080.20477117647,
          "children": 0.4117647058823529
         },
         {
          "age": 61,
          "bmi": 33.44083333333333,
          "charges": 22022.569950555553,
          "children": 0.6111111111111112
         },
         {
          "age": 62,
          "bmi": 34.233928571428564,
          "charges": 19422.89239857143,
          "children": 0.7857142857142857
         },
         {
          "age": 63,
          "bmi": 33.94464285714286,
          "charges": 15141.231482142855,
          "children": 0.5
         },
         {
          "age": 64,
          "bmi": 32.81571428571428,
          "charges": 27118.83148571428,
          "children": 0.7857142857142857
         }
        ]
       },
       "encoding": {
        "x": {
         "field": "age",
         "title": "Age",
         "type": "nominal"
        },
        "y": {
         "field": "charges",
         "title": "Expenses",
         "type": "quantitative"
        }
       },
       "mark": {
        "point": true,
        "type": "line"
       },
       "title": "Medical Expenses vs BMI"
      },
      "image/png": "[encoded data removed]",
      "text/plain": [
       "<VegaLite 3 object>\n",
       "\n",
       "If you see this message, it means the renderer has not been properly enabled\n",
       "for the frontend that you are using. For more information, see\n",
       "https://altair-viz.github.io/user_guide/troubleshooting.html\n"
      ]
     },
     "execution_count": 16,
     "metadata": {},
     "output_type": "execute_result"
    }
   ],
   "source": [
    "training_df = X_train\n",
    "training_df['charges'] = y_train\n",
    "\n",
    "\n",
    "alt.Chart(training_df.groupby(['age']).mean().reset_index()).mark_line(point = True).encode(\n",
    "    alt.X('age:N', title = 'Age'),\n",
    "    alt.Y('charges:Q', title = 'Expenses')\n",
    ").properties(title='Medical Expenses vs BMI')"
   ]
  },
  {
   "cell_type": "markdown",
   "metadata": {},
   "source": [
    "The charges seem to increase when the age of a person increases. There is a peak in the expenses at the age of 43."
   ]
  },
  {
   "cell_type": "markdown",
   "metadata": {},
   "source": [
    "**Let's see if medical expenses tend to change with the BMI of a person**"
   ]
  },
  {
   "cell_type": "code",
   "execution_count": 17,
   "metadata": {},
   "outputs": [
    {
     "data": {
      "application/vnd.vegalite.v3+json": {
       "$schema": "https://vega.github.io/schema/vega-lite/v3.4.0.json",
       "config": {
        "mark": {
         "tooltip": null
        },
        "view": {
         "height": 300,
         "width": 400
        }
       },
       "data": {
        "name": "data-1697d828ebf31b3ce0949f253f5bf30a"
       },
       "datasets": {
        "data-1697d828ebf31b3ce0949f253f5bf30a": [
         {
          "age": 36.1,
          "bmi": 22.598892857142864,
          "bmi_cat": "normal",
          "charges": 10240.595806571431,
          "children": 1.0642857142857143
         },
         {
          "age": 40.64671814671814,
          "bmi": 35.164333976833966,
          "bmi_cat": "obese",
          "charges": 15338.91175382239,
          "children": 1.1177606177606179
         },
         {
          "age": 38.86259541984733,
          "bmi": 27.607442748091607,
          "bmi_cat": "overweight",
          "charges": 11079.15031187023,
          "children": 1.0190839694656488
         },
         {
          "age": 33.0625,
          "bmi": 17.5609375,
          "bmi_cat": "underweight",
          "charges": 9876.789324999998,
          "children": 1.1875
         }
        ]
       },
       "encoding": {
        "x": {
         "field": "bmi_cat",
         "sort": [
          "underweight",
          "normal",
          "overweight",
          "obese"
         ],
         "title": "BMI",
         "type": "nominal"
        },
        "y": {
         "field": "charges",
         "title": "Expenses",
         "type": "quantitative"
        }
       },
       "mark": "bar",
       "title": "Medical Expenses vs BMI",
       "width": 300
      },
      "image/png": "[encoded data removed]",
      "text/plain": [
       "<VegaLite 3 object>\n",
       "\n",
       "If you see this message, it means the renderer has not been properly enabled\n",
       "for the frontend that you are using. For more information, see\n",
       "https://altair-viz.github.io/user_guide/troubleshooting.html\n"
      ]
     },
     "execution_count": 17,
     "metadata": {},
     "output_type": "execute_result"
    }
   ],
   "source": [
    "training_df = X_train\n",
    "training_df['charges'] = y_train\n",
    "\n",
    "training_df['bmi_cat'] = 'normal'\n",
    "training_df.loc[training_df['bmi'] < 18.5,'bmi_cat'] = 'underweight'\n",
    "training_df.loc[training_df['bmi'] > 25,'bmi_cat'] = 'overweight'\n",
    "training_df.loc[training_df['bmi'] > 30,'bmi_cat'] = 'obese'\n",
    "\n",
    "\n",
    "alt.Chart(training_df.groupby(['bmi_cat']).mean().reset_index()).mark_bar().encode(\n",
    "    alt.X('bmi_cat', title = 'BMI', sort=['underweight', 'normal', 'overweight', 'obese']),\n",
    "    alt.Y('charges:Q', title = 'Expenses')\n",
    ").properties(title='Medical Expenses vs BMI', width=300)"
   ]
  },
  {
   "cell_type": "markdown",
   "metadata": {},
   "source": [
    "The highest expenses seem to occur for people who are obese. "
   ]
  },
  {
   "cell_type": "markdown",
   "metadata": {},
   "source": [
    "**Let's see how much money males and females spending for medical treatments during their lifetime**"
   ]
  },
  {
   "cell_type": "code",
   "execution_count": 18,
   "metadata": {},
   "outputs": [
    {
     "data": {
      "application/vnd.vegalite.v3+json": {
       "$schema": "https://vega.github.io/schema/vega-lite/v3.4.0.json",
       "config": {
        "mark": {
         "tooltip": null
        },
        "view": {
         "height": 300,
         "width": 400
        }
       },
       "data": {
        "name": "data-d95cdd9419c0130b7b2385a28cd234b4"
       },
       "datasets": {
        "data-d95cdd9419c0130b7b2385a28cd234b4": [
         {
          "age": 18,
          "bmi": 32.157272727272726,
          "charges": 6227.760672727273,
          "children": 0.3181818181818182,
          "sex": "female"
         },
         {
          "age": 18,
          "bmi": 30.689807692307685,
          "charges": 9472.895137307692,
          "children": 0.6153846153846154,
          "sex": "male"
         },
         {
          "age": 19,
          "bmi": 29.639130434782604,
          "charges": 10682.582562608693,
          "children": 0.4782608695652174,
          "sex": "female"
         },
         {
          "age": 19,
          "bmi": 28.8244,
          "charges": 11918.296380799999,
          "children": 0.28,
          "sex": "male"
         },
         {
          "age": 20,
          "bmi": 30.448500000000006,
          "charges": 5657.582818000001,
          "children": 0.6,
          "sex": "female"
         },
         {
          "age": 20,
          "bmi": 33.266666666666666,
          "charges": 10883.31376111111,
          "children": 1.5555555555555556,
          "sex": "male"
         },
         {
          "age": 21,
          "bmi": 28.96277777777778,
          "charges": 3930.969038888889,
          "children": 0.6666666666666666,
          "sex": "female"
         },
         {
          "age": 21,
          "bmi": 29.371500000000005,
          "charges": 3594.2390760000003,
          "children": 0.5,
          "sex": "male"
         },
         {
          "age": 22,
          "bmi": 27.691428571428567,
          "charges": 2459.754514285714,
          "children": 0,
          "sex": "female"
         },
         {
          "age": 22,
          "bmi": 32.14041666666667,
          "charges": 7925.4155125,
          "children": 0.5,
          "sex": "male"
         },
         {
          "age": 23,
          "bmi": 30.9075,
          "charges": 15278.448084999998,
          "children": 1,
          "sex": "female"
         },
         {
          "age": 23,
          "bmi": 30.490416666666672,
          "charges": 6986.267965833335,
          "children": 1.0833333333333333,
          "sex": "male"
         },
         {
          "age": 24,
          "bmi": 24.993750000000002,
          "charges": 9106.26257625,
          "children": 0,
          "sex": "female"
         },
         {
          "age": 24,
          "bmi": 30.797999999999995,
          "charges": 19670.025598,
          "children": 0.5,
          "sex": "male"
         },
         {
          "age": 25,
          "bmi": 30.968333333333337,
          "charges": 9943.462163333334,
          "children": 0.5555555555555556,
          "sex": "female"
         },
         {
          "age": 25,
          "bmi": 29.404545454545453,
          "charges": 12575.462807272728,
          "children": 1.0909090909090908,
          "sex": "male"
         },
         {
          "age": 26,
          "bmi": 29.979374999999997,
          "charges": 7459.363173749999,
          "children": 1.25,
          "sex": "female"
         },
         {
          "age": 26,
          "bmi": 30.361363636363638,
          "charges": 6077.599386363637,
          "children": 1,
          "sex": "male"
         },
         {
          "age": 27,
          "bmi": 27.69818181818182,
          "charges": 15681.076072727274,
          "children": 0.8181818181818182,
          "sex": "female"
         },
         {
          "age": 27,
          "bmi": 30.440416666666664,
          "charges": 8486.224179166666,
          "children": 0.9166666666666666,
          "sex": "male"
         },
         {
          "age": 28,
          "bmi": 28.912499999999998,
          "charges": 5526.991341666667,
          "children": 0.9166666666666666,
          "sex": "female"
         },
         {
          "age": 28,
          "bmi": 32.36125,
          "charges": 13526.560529999999,
          "children": 1.125,
          "sex": "male"
         },
         {
          "age": 29,
          "bmi": 30.72857142857143,
          "charges": 5881.517142857142,
          "children": 0.8571428571428571,
          "sex": "female"
         },
         {
          "age": 29,
          "bmi": 30.02785714285714,
          "charges": 14022.422832857143,
          "children": 1.4285714285714286,
          "sex": "male"
         },
         {
          "age": 30,
          "bmi": 30.078750000000003,
          "charges": 11201.4182125,
          "children": 1.75,
          "sex": "female"
         },
         {
          "age": 30,
          "bmi": 34.16285714285714,
          "charges": 16484.230657142856,
          "children": 2,
          "sex": "male"
         },
         {
          "age": 31,
          "bmi": 29.508846153846157,
          "charges": 8744.112560000001,
          "children": 1.0769230769230769,
          "sex": "female"
         },
         {
          "age": 31,
          "bmi": 31.265416666666667,
          "charges": 12845.101929166667,
          "children": 1.9166666666666667,
          "sex": "male"
         },
         {
          "age": 32,
          "bmi": 31.508999999999997,
          "charges": 8885.253006,
          "children": 1.2,
          "sex": "female"
         },
         {
          "age": 32,
          "bmi": 33.963750000000005,
          "charges": 8660.4303625,
          "children": 1.375,
          "sex": "male"
         },
         {
          "age": 33,
          "bmi": 28.059500000000003,
          "charges": 9541.105205,
          "children": 1.3,
          "sex": "female"
         },
         {
          "age": 33,
          "bmi": 31.195,
          "charges": 12741.867324444444,
          "children": 2,
          "sex": "male"
         },
         {
          "age": 34,
          "bmi": 31.757142857142856,
          "charges": 15409.789885714288,
          "children": 1.1428571428571428,
          "sex": "female"
         },
         {
          "age": 34,
          "bmi": 29.71181818181818,
          "charges": 12807.383683636364,
          "children": 0.9090909090909091,
          "sex": "male"
         },
         {
          "age": 35,
          "bmi": 33.433125000000004,
          "charges": 11607.71829375,
          "children": 1.25,
          "sex": "female"
         },
         {
          "age": 35,
          "bmi": 30.58428571428572,
          "charges": 12489.400014285713,
          "children": 1.5714285714285714,
          "sex": "male"
         },
         {
          "age": 36,
          "bmi": 26.34777777777778,
          "charges": 7235.449188888889,
          "children": 1.2222222222222223,
          "sex": "female"
         },
         {
          "age": 36,
          "bmi": 31.645,
          "charges": 14633.247883333335,
          "children": 1.8333333333333333,
          "sex": "male"
         },
         {
          "age": 37,
          "bmi": 29.494285714285716,
          "charges": 14240.343342857144,
          "children": 1.8571428571428572,
          "sex": "female"
         },
         {
          "age": 37,
          "bmi": 31.734999999999992,
          "charges": 14885.860475454545,
          "children": 1.8181818181818181,
          "sex": "male"
         },
         {
          "age": 38,
          "bmi": 30.385833333333338,
          "charges": 6495.7416416666665,
          "children": 1.5,
          "sex": "female"
         },
         {
          "age": 38,
          "bmi": 26.199444444444445,
          "charges": 7238.11145,
          "children": 1.4444444444444444,
          "sex": "male"
         },
         {
          "age": 39,
          "bmi": 30.105624999999996,
          "charges": 8692.55731875,
          "children": 2.75,
          "sex": "female"
         },
         {
          "age": 39,
          "bmi": 29.15857142857143,
          "charges": 15784.894011428569,
          "children": 1.8571428571428572,
          "sex": "male"
         },
         {
          "age": 40,
          "bmi": 29.796538461538468,
          "charges": 13998.82418230769,
          "children": 1.6923076923076923,
          "sex": "female"
         },
         {
          "age": 40,
          "bmi": 31.104499999999994,
          "charges": 9908.932755,
          "children": 1.6,
          "sex": "male"
         },
         {
          "age": 41,
          "bmi": 32.844500000000004,
          "charges": 7205.656854999999,
          "children": 1.4,
          "sex": "female"
         },
         {
          "age": 41,
          "bmi": 32.172000000000004,
          "charges": 13445.139079999999,
          "children": 1.6,
          "sex": "male"
         },
         {
          "age": 42,
          "bmi": 30.5625,
          "charges": 11686.202208333334,
          "children": 0.5,
          "sex": "female"
         },
         {
          "age": 42,
          "bmi": 27.789499999999997,
          "charges": 15155.519871,
          "children": 1.1,
          "sex": "male"
         },
         {
          "age": 43,
          "bmi": 31.714,
          "charges": 20287.916831999995,
          "children": 1.4,
          "sex": "female"
         },
         {
          "age": 43,
          "bmi": 31.22944444444444,
          "charges": 17345.95347444444,
          "children": 2.3333333333333335,
          "sex": "male"
         },
         {
          "age": 44,
          "bmi": 29.61818181818182,
          "charges": 16238.27033,
          "children": 0.8181818181818182,
          "sex": "female"
         },
         {
          "age": 44,
          "bmi": 30.64375,
          "charges": 14985.238909999998,
          "children": 1.5833333333333333,
          "sex": "male"
         },
         {
          "age": 45,
          "bmi": 31.244,
          "charges": 13622.378390000002,
          "children": 1.6,
          "sex": "female"
         },
         {
          "age": 45,
          "bmi": 28.710714285714285,
          "charges": 18859.67581714286,
          "children": 1.8571428571428572,
          "sex": "male"
         },
         {
          "age": 46,
          "bmi": 30.612777777777776,
          "charges": 17488.31142777778,
          "children": 1.1111111111111112,
          "sex": "female"
         },
         {
          "age": 46,
          "bmi": 32.60958333333334,
          "charges": 11583.531154166667,
          "children": 1.8333333333333333,
          "sex": "male"
         },
         {
          "age": 47,
          "bmi": 31.49,
          "charges": 24000.220676,
          "children": 0.8,
          "sex": "female"
         },
         {
          "age": 47,
          "bmi": 31.0385,
          "charges": 15139.491515000002,
          "children": 1.8,
          "sex": "male"
         },
         {
          "age": 48,
          "bmi": 29.89333333333333,
          "charges": 10958.087066666667,
          "children": 1.4444444444444444,
          "sex": "female"
         },
         {
          "age": 48,
          "bmi": 33.077,
          "charges": 12243.357226999999,
          "children": 1.5,
          "sex": "male"
         },
         {
          "age": 49,
          "bmi": 30.962500000000002,
          "charges": 9926.725875,
          "children": 1.75,
          "sex": "female"
         },
         {
          "age": 49,
          "bmi": 30.122500000000002,
          "charges": 14749.870775,
          "children": 1.25,
          "sex": "male"
         },
         {
          "age": 50,
          "bmi": 28.083124999999995,
          "charges": 13288.360503750002,
          "children": 2.125,
          "sex": "female"
         },
         {
          "age": 50,
          "bmi": 33.153499999999994,
          "charges": 18955.575865,
          "children": 1,
          "sex": "male"
         },
         {
          "age": 51,
          "bmi": 32.041428571428575,
          "charges": 17499.07415714286,
          "children": 1.0714285714285714,
          "sex": "female"
         },
         {
          "age": 51,
          "bmi": 31.636111111111113,
          "charges": 17005.642194444445,
          "children": 1.5555555555555556,
          "sex": "male"
         },
         {
          "age": 52,
          "bmi": 30.596000000000004,
          "charges": 14099.763454000004,
          "children": 1,
          "sex": "female"
         },
         {
          "age": 52,
          "bmi": 33.09409090909091,
          "charges": 18792.82604636364,
          "children": 1.7272727272727273,
          "sex": "male"
         },
         {
          "age": 53,
          "bmi": 32.461111111111116,
          "charges": 19263.366346666666,
          "children": 1.5555555555555556,
          "sex": "female"
         },
         {
          "age": 53,
          "bmi": 30.16727272727272,
          "charges": 14262.003600000002,
          "children": 0.7272727272727273,
          "sex": "male"
         },
         {
          "age": 54,
          "bmi": 33.755,
          "charges": 18340.517947000004,
          "children": 1.6,
          "sex": "female"
         },
         {
          "age": 54,
          "bmi": 30.30807692307692,
          "charges": 19199.239606923078,
          "children": 1,
          "sex": "male"
         },
         {
          "age": 55,
          "bmi": 31.47,
          "charges": 17423.179057,
          "children": 1.3,
          "sex": "female"
         },
         {
          "age": 55,
          "bmi": 32.34454545454546,
          "charges": 17181.029566363635,
          "children": 0.5454545454545454,
          "sex": "male"
         },
         {
          "age": 56,
          "bmi": 29.98818181818182,
          "charges": 11875.41520909091,
          "children": 0.8181818181818182,
          "sex": "female"
         },
         {
          "age": 56,
          "bmi": 31.366249999999997,
          "charges": 16160.693337499999,
          "children": 0.9166666666666666,
          "sex": "male"
         },
         {
          "age": 57,
          "bmi": 27.909999999999997,
          "charges": 14440.81815,
          "children": 1.125,
          "sex": "female"
         },
         {
          "age": 57,
          "bmi": 35.134,
          "charges": 16719.35776,
          "children": 0.4,
          "sex": "male"
         },
         {
          "age": 58,
          "bmi": 31.170555555555552,
          "charges": 12168.125738888888,
          "children": 0.1111111111111111,
          "sex": "female"
         },
         {
          "age": 58,
          "bmi": 35.32888888888888,
          "charges": 15657.01637777778,
          "children": 0.3333333333333333,
          "sex": "male"
         },
         {
          "age": 59,
          "bmi": 30.741666666666667,
          "charges": 18887.49612666667,
          "children": 1.3333333333333333,
          "sex": "female"
         },
         {
          "age": 59,
          "bmi": 30.438749999999995,
          "charges": 17726.974645833336,
          "children": 0.9166666666666666,
          "sex": "male"
         },
         {
          "age": 60,
          "bmi": 28.509999999999998,
          "charges": 17715.175832,
          "children": 0.1,
          "sex": "female"
         },
         {
          "age": 60,
          "bmi": 30.979999999999997,
          "charges": 28315.960398571428,
          "children": 0.8571428571428571,
          "sex": "male"
         },
         {
          "age": 61,
          "bmi": 33.138333333333335,
          "charges": 21673.310334444443,
          "children": 0.7777777777777778,
          "sex": "female"
         },
         {
          "age": 61,
          "bmi": 33.74333333333333,
          "charges": 22371.829566666667,
          "children": 0.4444444444444444,
          "sex": "male"
         },
         {
          "age": 62,
          "bmi": 34.439166666666665,
          "charges": 14440.075775,
          "children": 1.1666666666666667,
          "sex": "female"
         },
         {
          "age": 62,
          "bmi": 34.08,
          "charges": 23160.004866249998,
          "children": 0.5,
          "sex": "male"
         },
         {
          "age": 63,
          "bmi": 32.035,
          "charges": 16555.978983333334,
          "children": 0.16666666666666666,
          "sex": "female"
         },
         {
          "age": 63,
          "bmi": 35.376875,
          "charges": 14080.170856249999,
          "children": 0.75,
          "sex": "male"
         },
         {
          "age": 64,
          "bmi": 31.686666666666667,
          "charges": 25335.645244444444,
          "children": 0.8888888888888888,
          "sex": "female"
         },
         {
          "age": 64,
          "bmi": 34.848,
          "charges": 30328.566720000003,
          "children": 0.6,
          "sex": "male"
         }
        ]
       },
       "encoding": {
        "color": {
         "field": "sex",
         "type": "nominal"
        },
        "x": {
         "field": "age",
         "title": "Age",
         "type": "nominal"
        },
        "y": {
         "field": "charges",
         "title": "Expenses",
         "type": "quantitative"
        }
       },
       "mark": {
        "point": true,
        "type": "line"
       },
       "title": "Male and Female Medical Expenses Over Age"
      },
      "image/png": "[encoded data removed]",
      "text/plain": [
       "<VegaLite 3 object>\n",
       "\n",
       "If you see this message, it means the renderer has not been properly enabled\n",
       "for the frontend that you are using. For more information, see\n",
       "https://altair-viz.github.io/user_guide/troubleshooting.html\n"
      ]
     },
     "execution_count": 18,
     "metadata": {},
     "output_type": "execute_result"
    }
   ],
   "source": [
    "training_df = X_train\n",
    "training_df['charges'] = y_train\n",
    "\n",
    "\n",
    "alt.Chart(training_df.groupby(['age','sex']).mean().reset_index()).mark_line(point = True).encode(\n",
    "    alt.X('age:N', title = 'Age'),\n",
    "    alt.Y('charges:Q', title = 'Expenses'),\n",
    "    alt.Color('sex:N')\n",
    ").properties(title='Male and Female Medical Expenses Over Age')"
   ]
  },
  {
   "cell_type": "markdown",
   "metadata": {},
   "source": [
    "The expenses seem to grow with age for both males and females. There is a peak in the male charges around the age of 60. The increase we noticed before that occurs at the age of 43 happens to both genders. "
   ]
  },
  {
   "cell_type": "markdown",
   "metadata": {},
   "source": [
    "**Let's see how smokers and non smokers are spending for medical treatments during their lifetime**\n",
    "\n",
    "We expect expenditures by smokers should be higher than the non smokers."
   ]
  },
  {
   "cell_type": "code",
   "execution_count": 19,
   "metadata": {},
   "outputs": [
    {
     "data": {
      "application/vnd.vegalite.v3+json": {
       "$schema": "https://vega.github.io/schema/vega-lite/v3.4.0.json",
       "config": {
        "mark": {
         "tooltip": null
        },
        "view": {
         "height": 300,
         "width": 400
        }
       },
       "data": {
        "name": "data-8f8401859486afea10011ffdb998c83a"
       },
       "datasets": {
        "data-8f8401859486afea10011ffdb998c83a": [
         {
          "age": 18,
          "bmi": 31.964868421052635,
          "charges": 3425.3106228947368,
          "children": 0.39473684210526316,
          "smoker": "no"
         },
         {
          "age": 18,
          "bmi": 29.073000000000008,
          "charges": 25314.420469999997,
          "children": 0.8,
          "smoker": "yes"
         },
         {
          "age": 19,
          "bmi": 27.936818181818182,
          "charges": 3700.4345584848484,
          "children": 0.45454545454545453,
          "smoker": "no"
         },
         {
          "age": 19,
          "bmi": 32.02633333333333,
          "charges": 28102.831201999998,
          "children": 0.2,
          "smoker": "yes"
         },
         {
          "age": 20,
          "bmi": 32.773,
          "charges": 4149.8216600000005,
          "children": 1,
          "smoker": "no"
         },
         {
          "age": 20,
          "bmi": 28.0725,
          "charges": 23069.581782499998,
          "children": 1.25,
          "smoker": "yes"
         },
         {
          "age": 21,
          "bmi": 29.584999999999997,
          "charges": 3109.000422777778,
          "children": 0.5555555555555556,
          "smoker": "no"
         },
         {
          "age": 21,
          "bmi": 21.85,
          "charges": 15359.1045,
          "children": 1,
          "smoker": "yes"
         },
         {
          "age": 22,
          "bmi": 29.78264705882353,
          "charges": 2327.7957617647057,
          "children": 0.29411764705882354,
          "smoker": "no"
         },
         {
          "age": 22,
          "bmi": 36.61,
          "charges": 36375.369900000005,
          "children": 0.5,
          "smoker": "yes"
         },
         {
          "age": 23,
          "bmi": 30.53552631578948,
          "charges": 6418.283347894737,
          "children": 1,
          "smoker": "no"
         },
         {
          "age": 23,
          "bmi": 31.32,
          "charges": 29045.841800000002,
          "children": 1.2,
          "smoker": "yes"
         },
         {
          "age": 24,
          "bmi": 27.09708333333333,
          "charges": 7860.78123,
          "children": 0.4166666666666667,
          "smoker": "no"
         },
         {
          "age": 24,
          "bmi": 30.46083333333333,
          "charges": 29203.496971666667,
          "children": 0,
          "smoker": "yes"
         },
         {
          "age": 25,
          "bmi": 29.310312500000002,
          "charges": 6241.612646875001,
          "children": 0.8125,
          "smoker": "no"
         },
         {
          "age": 25,
          "bmi": 33.3,
          "charges": 31988.862,
          "children": 1,
          "smoker": "yes"
         },
         {
          "age": 26,
          "bmi": 30.806764705882355,
          "charges": 4469.860917058823,
          "children": 1,
          "smoker": "no"
         },
         {
          "age": 26,
          "bmi": 25.0475,
          "charges": 25270.431525,
          "children": 2,
          "smoker": "yes"
         },
         {
          "age": 27,
          "bmi": 29.437499999999996,
          "charges": 6212.855724999999,
          "children": 1.0625,
          "smoker": "no"
         },
         {
          "age": 27,
          "bmi": 28.423571428571428,
          "charges": 24988.690764285715,
          "children": 0.42857142857142855,
          "smoker": "yes"
         },
         {
          "age": 28,
          "bmi": 29.875555555555554,
          "charges": 4926.093000000001,
          "children": 1.0555555555555556,
          "smoker": "no"
         },
         {
          "age": 28,
          "bmi": 34.04,
          "charges": 42933.35317,
          "children": 0.5,
          "smoker": "yes"
         },
         {
          "age": 29,
          "bmi": 31.368181818181814,
          "charges": 5680.732491818181,
          "children": 1.2727272727272727,
          "smoker": "no"
         },
         {
          "age": 29,
          "bmi": 26.748333333333335,
          "charges": 25613.17414,
          "children": 0.6666666666666666,
          "smoker": "yes"
         },
         {
          "age": 30,
          "bmi": 31.055,
          "charges": 4772.166450000001,
          "children": 1.9,
          "smoker": "no"
         },
         {
          "age": 30,
          "bmi": 33.844,
          "charges": 31455.859160000004,
          "children": 1.8,
          "smoker": "yes"
         },
         {
          "age": 31,
          "bmi": 29.715250000000005,
          "charges": 4661.797197500001,
          "children": 1.4,
          "smoker": "no"
         },
         {
          "age": 31,
          "bmi": 32.899,
          "charges": 34915.748496,
          "children": 1.8,
          "smoker": "yes"
         },
         {
          "age": 32,
          "bmi": 33.4628125,
          "charges": 5487.141185,
          "children": 1.25,
          "smoker": "no"
         },
         {
          "age": 32,
          "bmi": 25.6975,
          "charges": 35170.857,
          "children": 1.5,
          "smoker": "yes"
         },
         {
          "age": 33,
          "bmi": 30.07928571428571,
          "charges": 5786.002097857143,
          "children": 1.9285714285714286,
          "smoker": "no"
         },
         {
          "age": 33,
          "bmi": 28.048000000000002,
          "charges": 25816.765720000003,
          "children": 0.8,
          "smoker": "yes"
         },
         {
          "age": 34,
          "bmi": 31.005,
          "charges": 7125.402166923078,
          "children": 1,
          "smoker": "no"
         },
         {
          "age": 34,
          "bmi": 29.213000000000005,
          "charges": 31223.904309999994,
          "children": 1,
          "smoker": "yes"
         },
         {
          "age": 35,
          "bmi": 32.274090909090916,
          "charges": 5391.899622727272,
          "children": 1.3636363636363635,
          "smoker": "no"
         },
         {
          "age": 35,
          "bmi": 31.635,
          "charges": 30244.16265,
          "children": 1.5,
          "smoker": "yes"
         },
         {
          "age": 36,
          "bmi": 27.87333333333333,
          "charges": 5815.2752666666665,
          "children": 1.3333333333333333,
          "smoker": "no"
         },
         {
          "age": 36,
          "bmi": 30.840000000000003,
          "charges": 27711.742266666668,
          "children": 2,
          "smoker": "yes"
         },
         {
          "age": 37,
          "bmi": 29.372857142857136,
          "charges": 8354.467419999999,
          "children": 1.7857142857142858,
          "smoker": "no"
         },
         {
          "age": 37,
          "bmi": 36.081250000000004,
          "charges": 36616.0811875,
          "children": 2,
          "smoker": "yes"
         },
         {
          "age": 38,
          "bmi": 28.48642857142857,
          "charges": 6306.9109928571415,
          "children": 1.5714285714285714,
          "smoker": "no"
         },
         {
          "age": 38,
          "bmi": 19.3,
          "charges": 15820.698999999999,
          "children": 0,
          "smoker": "yes"
         },
         {
          "age": 39,
          "bmi": 30.41208333333333,
          "charges": 8396.520310833333,
          "children": 2.3333333333333335,
          "smoker": "no"
         },
         {
          "age": 39,
          "bmi": 26.669999999999998,
          "charges": 26425.490966666664,
          "children": 2.3333333333333335,
          "smoker": "yes"
         },
         {
          "age": 40,
          "bmi": 30.658421052631578,
          "charges": 8429.976043157894,
          "children": 1.6842105263157894,
          "smoker": "no"
         },
         {
          "age": 40,
          "bmi": 28.972499999999997,
          "charges": 30226.124275000002,
          "children": 1.5,
          "smoker": "yes"
         },
         {
          "age": 41,
          "bmi": 32.424166666666665,
          "charges": 7035.383702777777,
          "children": 1.4444444444444444,
          "smoker": "no"
         },
         {
          "age": 41,
          "bmi": 33.265,
          "charges": 39935.52635,
          "children": 2,
          "smoker": "yes"
         },
         {
          "age": 42,
          "bmi": 30.767499999999995,
          "charges": 6855.098825000001,
          "children": 0.8,
          "smoker": "no"
         },
         {
          "age": 42,
          "bmi": 25.599166666666665,
          "charges": 25520.237285,
          "children": 1,
          "smoker": "yes"
         },
         {
          "age": 43,
          "bmi": 30.713333333333335,
          "charges": 10173.069086666666,
          "children": 2,
          "smoker": "no"
         },
         {
          "age": 43,
          "bmi": 32.806428571428576,
          "charges": 33845.13150714286,
          "children": 1.5714285714285714,
          "smoker": "yes"
         },
         {
          "age": 44,
          "bmi": 29.707222222222224,
          "charges": 9356.966460555554,
          "children": 1.3333333333333333,
          "smoker": "no"
         },
         {
          "age": 44,
          "bmi": 31.759000000000004,
          "charges": 38003.68885200001,
          "children": 0.8,
          "smoker": "yes"
         },
         {
          "age": 45,
          "bmi": 30.819230769230767,
          "charges": 9968.274292307691,
          "children": 1.8461538461538463,
          "smoker": "no"
         },
         {
          "age": 45,
          "bmi": 28.191249999999997,
          "charges": 34663.487205,
          "children": 1.25,
          "smoker": "yes"
         },
         {
          "age": 46,
          "bmi": 31.217352941176472,
          "charges": 8517.382473529413,
          "children": 1.588235294117647,
          "smoker": "no"
         },
         {
          "age": 46,
          "bmi": 34.03375,
          "charges": 37900.4186625,
          "children": 1.25,
          "smoker": "yes"
         },
         {
          "age": 47,
          "bmi": 31.60444444444444,
          "charges": 10147.304719999998,
          "children": 1.5555555555555556,
          "smoker": "no"
         },
         {
          "age": 47,
          "bmi": 30.56583333333333,
          "charges": 30011.712675,
          "children": 1.3333333333333333,
          "smoker": "yes"
         },
         {
          "age": 48,
          "bmi": 31.886666666666663,
          "charges": 10937.523464999998,
          "children": 1.3888888888888888,
          "smoker": "no"
         },
         {
          "age": 48,
          "bmi": 25.85,
          "charges": 24180.9335,
          "children": 3,
          "smoker": "yes"
         },
         {
          "age": 49,
          "bmi": 30.87,
          "charges": 9598.472299999998,
          "children": 1.5714285714285714,
          "smoker": "no"
         },
         {
          "age": 49,
          "bmi": 28.25,
          "charges": 31517.080500000004,
          "children": 1,
          "smoker": "yes"
         },
         {
          "age": 50,
          "bmi": 30.733928571428574,
          "charges": 10390.662995000002,
          "children": 1.6428571428571428,
          "smoker": "no"
         },
         {
          "age": 50,
          "bmi": 31.48125,
          "charges": 37598.3401875,
          "children": 1,
          "smoker": "yes"
         },
         {
          "age": 51,
          "bmi": 31.31352941176471,
          "charges": 9946.62998235294,
          "children": 1.1176470588235294,
          "smoker": "no"
         },
         {
          "age": 51,
          "bmi": 33.49583333333334,
          "charges": 38157.51804166667,
          "children": 1.6666666666666667,
          "smoker": "yes"
         },
         {
          "age": 52,
          "bmi": 32.923529411764704,
          "charges": 12620.364716470589,
          "children": 1.2941176470588236,
          "smoker": "no"
         },
         {
          "age": 52,
          "bmi": 27.573749999999997,
          "charges": 33293.1302175,
          "children": 1.75,
          "smoker": "yes"
         },
         {
          "age": 53,
          "bmi": 31.8278125,
          "charges": 12243.491760625,
          "children": 1.125,
          "smoker": "no"
         },
         {
          "age": 53,
          "bmi": 28.686249999999998,
          "charges": 33589.1171375,
          "children": 1,
          "smoker": "yes"
         },
         {
          "age": 54,
          "bmi": 30.930526315789464,
          "charges": 13331.256368421053,
          "children": 1.1578947368421053,
          "smoker": "no"
         },
         {
          "age": 54,
          "bmi": 35.96875,
          "charges": 44925.35584,
          "children": 1.75,
          "smoker": "yes"
         },
         {
          "age": 55,
          "bmi": 31.821315789473687,
          "charges": 14552.401086842105,
          "children": 1,
          "smoker": "no"
         },
         {
          "age": 55,
          "bmi": 32.9425,
          "charges": 43363.747575,
          "children": 0,
          "smoker": "yes"
         },
         {
          "age": 56,
          "bmi": 31.391499999999997,
          "charges": 11611.102185000002,
          "children": 0.85,
          "smoker": "no"
         },
         {
          "age": 56,
          "bmi": 26.145,
          "charges": 30778.61455,
          "children": 1,
          "smoker": "yes"
         },
         {
          "age": 57,
          "bmi": 31.580333333333332,
          "charges": 11952.816996666666,
          "children": 0.8,
          "smoker": "no"
         },
         {
          "age": 57,
          "bmi": 33.63833333333333,
          "charges": 34475.955949999996,
          "children": 0.3333333333333333,
          "smoker": "yes"
         },
         {
          "age": 58,
          "bmi": 33.03176470588235,
          "charges": 11937.046152941175,
          "children": 0.11764705882352941,
          "smoker": "no"
         },
         {
          "age": 58,
          "bmi": 36.955,
          "charges": 47496.49445,
          "children": 2,
          "smoker": "yes"
         },
         {
          "age": 59,
          "bmi": 30.406388888888884,
          "charges": 15437.622118888892,
          "children": 1.0555555555555556,
          "smoker": "no"
         },
         {
          "age": 59,
          "bmi": 31.541666666666668,
          "charges": 34944.65425,
          "children": 1.3333333333333333,
          "smoker": "yes"
         },
         {
          "age": 60,
          "bmi": 28.11230769230769,
          "charges": 14112.292978461539,
          "children": 0.3076923076923077,
          "smoker": "no"
         },
         {
          "age": 60,
          "bmi": 34.125,
          "charges": 47975.9180975,
          "children": 0.75,
          "smoker": "yes"
         },
         {
          "age": 61,
          "bmi": 33.53923076923077,
          "charges": 15067.360258461538,
          "children": 0.6153846153846154,
          "smoker": "no"
         },
         {
          "age": 61,
          "bmi": 33.184999999999995,
          "charges": 40106.115150000005,
          "children": 0.6,
          "smoker": "yes"
         },
         {
          "age": 62,
          "bmi": 34.69875,
          "charges": 14957.676873333336,
          "children": 0.6666666666666666,
          "smoker": "no"
         },
         {
          "age": 62,
          "bmi": 31.445,
          "charges": 46214.185549999995,
          "children": 1.5,
          "smoker": "yes"
         },
         {
          "age": 63,
          "bmi": 34.480384615384615,
          "charges": 14078.982426923076,
          "children": 0.5384615384615384,
          "smoker": "no"
         },
         {
          "age": 63,
          "bmi": 26.98,
          "charges": 28950.4692,
          "children": 0,
          "smoker": "yes"
         },
         {
          "age": 64,
          "bmi": 35.692142857142855,
          "charges": 14954.602935714285,
          "children": 0.8571428571428571,
          "smoker": "no"
         },
         {
          "age": 64,
          "bmi": 29.939285714285713,
          "charges": 39283.06003571429,
          "children": 0.7142857142857143,
          "smoker": "yes"
         }
        ]
       },
       "encoding": {
        "color": {
         "field": "smoker",
         "type": "nominal"
        },
        "x": {
         "field": "age",
         "title": "Age",
         "type": "nominal"
        },
        "y": {
         "field": "charges",
         "title": "Expenses",
         "type": "quantitative"
        }
       },
       "mark": {
        "point": true,
        "type": "line"
       },
       "title": "Smokers & Non Smokers Medical Expenses Over Age"
      },
      "image/png": "[encoded data removed]",
      "text/plain": [
       "<VegaLite 3 object>\n",
       "\n",
       "If you see this message, it means the renderer has not been properly enabled\n",
       "for the frontend that you are using. For more information, see\n",
       "https://altair-viz.github.io/user_guide/troubleshooting.html\n"
      ]
     },
     "execution_count": 19,
     "metadata": {},
     "output_type": "execute_result"
    }
   ],
   "source": [
    "alt.Chart(training_df.groupby(['age','smoker']).mean().reset_index()).mark_line(point = True).encode(\n",
    "    alt.X('age:N', title = 'Age'),\n",
    "    alt.Y('charges:Q', title = 'Expenses'),\n",
    "    alt.Color('smoker:N')\n",
    ").properties(title='Smokers & Non Smokers Medical Expenses Over Age')"
   ]
  },
  {
   "cell_type": "markdown",
   "metadata": {},
   "source": [
    "Health expenses of smokers are a lot higher than the one of non-smokers. "
   ]
  },
  {
   "cell_type": "markdown",
   "metadata": {},
   "source": [
    "**Let's see how BMI is changing with Age for Males and Females**\n",
    "\n",
    "We are expecting both male and females have usual BMI."
   ]
  },
  {
   "cell_type": "code",
   "execution_count": 20,
   "metadata": {},
   "outputs": [
    {
     "data": {
      "application/vnd.vegalite.v3+json": {
       "$schema": "https://vega.github.io/schema/vega-lite/v3.4.0.json",
       "config": {
        "mark": {
         "tooltip": null
        },
        "view": {
         "height": 300,
         "width": 400
        }
       },
       "data": {
        "name": "data-33f3562af56942ffd0ae07204c440e71"
       },
       "datasets": {
        "data-33f3562af56942ffd0ae07204c440e71": [
         {
          "age": 64,
          "bmi": 22.99,
          "bmi_cat": "normal",
          "charges": 27037.9141,
          "children": 0,
          "region": "southeast",
          "sex": "female",
          "smoker": "yes"
         },
         {
          "age": 51,
          "bmi": 31.635,
          "bmi_cat": "obese",
          "charges": 9174.13565,
          "children": 0,
          "region": "northwest",
          "sex": "male",
          "smoker": "no"
         },
         {
          "age": 31,
          "bmi": 30.495,
          "bmi_cat": "obese",
          "charges": 6113.23105,
          "children": 3,
          "region": "northeast",
          "sex": "female",
          "smoker": "no"
         },
         {
          "age": 48,
          "bmi": 22.8,
          "bmi_cat": "normal",
          "charges": 8269.044,
          "children": 0,
          "region": "southwest",
          "sex": "female",
          "smoker": "no"
         },
         {
          "age": 23,
          "bmi": 24.51,
          "bmi_cat": "normal",
          "charges": 2396.0959,
          "children": 0,
          "region": "northeast",
          "sex": "male",
          "smoker": "no"
         },
         {
          "age": 30,
          "bmi": 28.405,
          "bmi_cat": "overweight",
          "charges": 4527.18295,
          "children": 1,
          "region": "northwest",
          "sex": "female",
          "smoker": "no"
         },
         {
          "age": 46,
          "bmi": 33.345,
          "bmi_cat": "obese",
          "charges": 8334.45755,
          "children": 1,
          "region": "northeast",
          "sex": "male",
          "smoker": "no"
         },
         {
          "age": 19,
          "bmi": 24.605,
          "bmi_cat": "normal",
          "charges": 2709.24395,
          "children": 1,
          "region": "northwest",
          "sex": "female",
          "smoker": "no"
         },
         {
          "age": 59,
          "bmi": 31.35,
          "bmi_cat": "obese",
          "charges": 12622.1795,
          "children": 0,
          "region": "northwest",
          "sex": "female",
          "smoker": "no"
         },
         {
          "age": 59,
          "bmi": 27.72,
          "bmi_cat": "overweight",
          "charges": 14001.1338,
          "children": 3,
          "region": "southeast",
          "sex": "female",
          "smoker": "no"
         },
         {
          "age": 35,
          "bmi": 31,
          "bmi_cat": "obese",
          "charges": 5240.765,
          "children": 1,
          "region": "southwest",
          "sex": "female",
          "smoker": "no"
         },
         {
          "age": 20,
          "bmi": 33,
          "bmi_cat": "obese",
          "charges": 1980.07,
          "children": 1,
          "region": "southwest",
          "sex": "male",
          "smoker": "no"
         },
         {
          "age": 39,
          "bmi": 32.5,
          "bmi_cat": "obese",
          "charges": 6238.298000000001,
          "children": 1,
          "region": "southwest",
          "sex": "female",
          "smoker": "no"
         },
         {
          "age": 20,
          "bmi": 31.13,
          "bmi_cat": "obese",
          "charges": 2566.4707,
          "children": 2,
          "region": "southeast",
          "sex": "male",
          "smoker": "no"
         },
         {
          "age": 25,
          "bmi": 41.325,
          "bmi_cat": "obese",
          "charges": 17878.900680000002,
          "children": 0,
          "region": "northeast",
          "sex": "female",
          "smoker": "no"
         },
         {
          "age": 42,
          "bmi": 33.155,
          "bmi_cat": "obese",
          "charges": 7639.41745,
          "children": 1,
          "region": "northeast",
          "sex": "female",
          "smoker": "no"
         },
         {
          "age": 57,
          "bmi": 29.81,
          "bmi_cat": "overweight",
          "charges": 27533.9129,
          "children": 0,
          "region": "southeast",
          "sex": "female",
          "smoker": "yes"
         },
         {
          "age": 57,
          "bmi": 40.37,
          "bmi_cat": "obese",
          "charges": 10982.5013,
          "children": 0,
          "region": "southeast",
          "sex": "male",
          "smoker": "no"
         },
         {
          "age": 54,
          "bmi": 47.41,
          "bmi_cat": "obese",
          "charges": 63770.42801,
          "children": 0,
          "region": "southeast",
          "sex": "female",
          "smoker": "yes"
         },
         {
          "age": 53,
          "bmi": 31.16,
          "bmi_cat": "obese",
          "charges": 10461.9794,
          "children": 1,
          "region": "northwest",
          "sex": "male",
          "smoker": "no"
         },
         {
          "age": 60,
          "bmi": 35.1,
          "bmi_cat": "obese",
          "charges": 12644.589,
          "children": 0,
          "region": "southwest",
          "sex": "female",
          "smoker": "no"
         },
         {
          "age": 44,
          "bmi": 29.735,
          "bmi_cat": "overweight",
          "charges": 32108.662819999998,
          "children": 2,
          "region": "northeast",
          "sex": "male",
          "smoker": "no"
         },
         {
          "age": 43,
          "bmi": 25.08,
          "bmi_cat": "overweight",
          "charges": 7325.0482,
          "children": 0,
          "region": "northeast",
          "sex": "female",
          "smoker": "no"
         },
         {
          "age": 38,
          "bmi": 31,
          "bmi_cat": "obese",
          "charges": 5488.262,
          "children": 1,
          "region": "southwest",
          "sex": "male",
          "smoker": "no"
         },
         {
          "age": 31,
          "bmi": 39.49,
          "bmi_cat": "obese",
          "charges": 3875.7341,
          "children": 1,
          "region": "southeast",
          "sex": "male",
          "smoker": "no"
         },
         {
          "age": 58,
          "bmi": 34.865,
          "bmi_cat": "obese",
          "charges": 11944.59435,
          "children": 0,
          "region": "northeast",
          "sex": "male",
          "smoker": "no"
         },
         {
          "age": 20,
          "bmi": 30.59,
          "bmi_cat": "obese",
          "charges": 2459.7201,
          "children": 0,
          "region": "northeast",
          "sex": "female",
          "smoker": "no"
         },
         {
          "age": 33,
          "bmi": 29.4,
          "bmi_cat": "overweight",
          "charges": 6059.173000000001,
          "children": 4,
          "region": "southwest",
          "sex": "male",
          "smoker": "no"
         },
         {
          "age": 47,
          "bmi": 28.215,
          "bmi_cat": "overweight",
          "charges": 10407.08585,
          "children": 4,
          "region": "northeast",
          "sex": "male",
          "smoker": "no"
         },
         {
          "age": 53,
          "bmi": 26.6,
          "bmi_cat": "overweight",
          "charges": 10355.641,
          "children": 0,
          "region": "northwest",
          "sex": "female",
          "smoker": "no"
         },
         {
          "age": 59,
          "bmi": 25.46,
          "bmi_cat": "overweight",
          "charges": 12913.9924,
          "children": 1,
          "region": "northeast",
          "sex": "male",
          "smoker": "no"
         },
         {
          "age": 31,
          "bmi": 28.5,
          "bmi_cat": "overweight",
          "charges": 6799.4580000000005,
          "children": 5,
          "region": "northeast",
          "sex": "male",
          "smoker": "no"
         },
         {
          "age": 34,
          "bmi": 30.21,
          "bmi_cat": "obese",
          "charges": 43943.8761,
          "children": 1,
          "region": "northwest",
          "sex": "female",
          "smoker": "yes"
         },
         {
          "age": 34,
          "bmi": 22.42,
          "bmi_cat": "normal",
          "charges": 27375.90478,
          "children": 2,
          "region": "northeast",
          "sex": "male",
          "smoker": "no"
         },
         {
          "age": 53,
          "bmi": 36.6,
          "bmi_cat": "obese",
          "charges": 11264.541000000001,
          "children": 3,
          "region": "southwest",
          "sex": "male",
          "smoker": "no"
         },
         {
          "age": 25,
          "bmi": 32.23,
          "bmi_cat": "obese",
          "charges": 18218.16139,
          "children": 1,
          "region": "southeast",
          "sex": "female",
          "smoker": "no"
         },
         {
          "age": 32,
          "bmi": 37.145,
          "bmi_cat": "obese",
          "charges": 6334.34355,
          "children": 3,
          "region": "northeast",
          "sex": "female",
          "smoker": "no"
         },
         {
          "age": 22,
          "bmi": 28.82,
          "bmi_cat": "overweight",
          "charges": 2156.7518,
          "children": 0,
          "region": "southeast",
          "sex": "female",
          "smoker": "no"
         },
         {
          "age": 19,
          "bmi": 20.615,
          "bmi_cat": "normal",
          "charges": 2803.69785,
          "children": 2,
          "region": "northwest",
          "sex": "male",
          "smoker": "no"
         },
         {
          "age": 24,
          "bmi": 26.6,
          "bmi_cat": "overweight",
          "charges": 3046.062,
          "children": 0,
          "region": "northeast",
          "sex": "female",
          "smoker": "no"
         },
         {
          "age": 19,
          "bmi": 33.1,
          "bmi_cat": "obese",
          "charges": 23082.95533,
          "children": 0,
          "region": "southwest",
          "sex": "male",
          "smoker": "no"
         },
         {
          "age": 55,
          "bmi": 26.98,
          "bmi_cat": "overweight",
          "charges": 11082.5772,
          "children": 0,
          "region": "northwest",
          "sex": "female",
          "smoker": "no"
         },
         {
          "age": 52,
          "bmi": 33.25,
          "bmi_cat": "obese",
          "charges": 9722.7695,
          "children": 0,
          "region": "northeast",
          "sex": "male",
          "smoker": "no"
         },
         {
          "age": 45,
          "bmi": 25.7,
          "bmi_cat": "overweight",
          "charges": 9101.798,
          "children": 3,
          "region": "southwest",
          "sex": "female",
          "smoker": "no"
         },
         {
          "age": 51,
          "bmi": 25.8,
          "bmi_cat": "overweight",
          "charges": 9861.025,
          "children": 1,
          "region": "southwest",
          "sex": "female",
          "smoker": "no"
         },
         {
          "age": 19,
          "bmi": 32.49,
          "bmi_cat": "obese",
          "charges": 36898.73308,
          "children": 0,
          "region": "northwest",
          "sex": "female",
          "smoker": "yes"
         },
         {
          "age": 19,
          "bmi": 28.88,
          "bmi_cat": "overweight",
          "charges": 17748.5062,
          "children": 0,
          "region": "northwest",
          "sex": "female",
          "smoker": "yes"
         },
         {
          "age": 34,
          "bmi": 27,
          "bmi_cat": "overweight",
          "charges": 11737.84884,
          "children": 2,
          "region": "southwest",
          "sex": "male",
          "smoker": "no"
         },
         {
          "age": 59,
          "bmi": 37.4,
          "bmi_cat": "obese",
          "charges": 21797.0004,
          "children": 0,
          "region": "southwest",
          "sex": "male",
          "smoker": "no"
         },
         {
          "age": 34,
          "bmi": 33.25,
          "bmi_cat": "obese",
          "charges": 5594.8455,
          "children": 1,
          "region": "northeast",
          "sex": "female",
          "smoker": "no"
         },
         {
          "age": 59,
          "bmi": 41.14,
          "bmi_cat": "obese",
          "charges": 48970.2476,
          "children": 1,
          "region": "southeast",
          "sex": "male",
          "smoker": "yes"
         },
         {
          "age": 25,
          "bmi": 30.3,
          "bmi_cat": "obese",
          "charges": 2632.992,
          "children": 0,
          "region": "southwest",
          "sex": "female",
          "smoker": "no"
         },
         {
          "age": 21,
          "bmi": 28.975,
          "bmi_cat": "overweight",
          "charges": 1906.35825,
          "children": 0,
          "region": "northwest",
          "sex": "male",
          "smoker": "no"
         },
         {
          "age": 54,
          "bmi": 24.605,
          "bmi_cat": "normal",
          "charges": 12479.70895,
          "children": 3,
          "region": "northwest",
          "sex": "female",
          "smoker": "no"
         },
         {
          "age": 26,
          "bmi": 32.9,
          "bmi_cat": "obese",
          "charges": 36085.219,
          "children": 2,
          "region": "southwest",
          "sex": "male",
          "smoker": "yes"
         },
         {
          "age": 63,
          "bmi": 28.31,
          "bmi_cat": "overweight",
          "charges": 13770.0979,
          "children": 0,
          "region": "northwest",
          "sex": "male",
          "smoker": "no"
         },
         {
          "age": 58,
          "bmi": 35.7,
          "bmi_cat": "obese",
          "charges": 11362.755,
          "children": 0,
          "region": "southwest",
          "sex": "male",
          "smoker": "no"
         },
         {
          "age": 23,
          "bmi": 34.4,
          "bmi_cat": "obese",
          "charges": 1826.8429999999998,
          "children": 0,
          "region": "southwest",
          "sex": "male",
          "smoker": "no"
         },
         {
          "age": 40,
          "bmi": 36.19,
          "bmi_cat": "obese",
          "charges": 5920.1041,
          "children": 0,
          "region": "southeast",
          "sex": "female",
          "smoker": "no"
         },
         {
          "age": 24,
          "bmi": 33.63,
          "bmi_cat": "obese",
          "charges": 17128.42608,
          "children": 4,
          "region": "northeast",
          "sex": "male",
          "smoker": "no"
         },
         {
          "age": 38,
          "bmi": 21.12,
          "bmi_cat": "normal",
          "charges": 6652.5288,
          "children": 3,
          "region": "southeast",
          "sex": "male",
          "smoker": "no"
         },
         {
          "age": 48,
          "bmi": 25.85,
          "bmi_cat": "overweight",
          "charges": 24180.9335,
          "children": 3,
          "region": "southeast",
          "sex": "female",
          "smoker": "yes"
         },
         {
          "age": 57,
          "bmi": 20.1,
          "bmi_cat": "normal",
          "charges": 12032.326000000001,
          "children": 1,
          "region": "southwest",
          "sex": "female",
          "smoker": "no"
         },
         {
          "age": 29,
          "bmi": 31.73,
          "bmi_cat": "obese",
          "charges": 4433.3877,
          "children": 2,
          "region": "northwest",
          "sex": "male",
          "smoker": "no"
         },
         {
          "age": 33,
          "bmi": 38.9,
          "bmi_cat": "obese",
          "charges": 5972.378000000001,
          "children": 3,
          "region": "southwest",
          "sex": "female",
          "smoker": "no"
         },
         {
          "age": 31,
          "bmi": 25.9,
          "bmi_cat": "overweight",
          "charges": 19199.944,
          "children": 3,
          "region": "southwest",
          "sex": "male",
          "smoker": "yes"
         },
         {
          "age": 28,
          "bmi": 33.4,
          "bmi_cat": "obese",
          "charges": 3172.018,
          "children": 0,
          "region": "southwest",
          "sex": "female",
          "smoker": "no"
         },
         {
          "age": 30,
          "bmi": 31.57,
          "bmi_cat": "obese",
          "charges": 4837.5823,
          "children": 3,
          "region": "southeast",
          "sex": "male",
          "smoker": "no"
         },
         {
          "age": 44,
          "bmi": 37.1,
          "bmi_cat": "obese",
          "charges": 7740.3369999999995,
          "children": 2,
          "region": "southwest",
          "sex": "male",
          "smoker": "no"
         },
         {
          "age": 52,
          "bmi": 18.335,
          "bmi_cat": "underweight",
          "charges": 9991.03765,
          "children": 0,
          "region": "northwest",
          "sex": "female",
          "smoker": "no"
         },
         {
          "age": 24,
          "bmi": 29.925,
          "bmi_cat": "overweight",
          "charges": 2850.68375,
          "children": 0,
          "region": "northwest",
          "sex": "female",
          "smoker": "no"
         },
         {
          "age": 57,
          "bmi": 31.54,
          "bmi_cat": "obese",
          "charges": 11353.2276,
          "children": 0,
          "region": "northwest",
          "sex": "male",
          "smoker": "no"
         },
         {
          "age": 23,
          "bmi": 32.56,
          "bmi_cat": "obese",
          "charges": 1824.2854,
          "children": 0,
          "region": "southeast",
          "sex": "male",
          "smoker": "no"
         },
         {
          "age": 61,
          "bmi": 39.1,
          "bmi_cat": "obese",
          "charges": 14235.072,
          "children": 2,
          "region": "southwest",
          "sex": "female",
          "smoker": "no"
         },
         {
          "age": 48,
          "bmi": 32.3,
          "bmi_cat": "obese",
          "charges": 8765.249,
          "children": 1,
          "region": "northwest",
          "sex": "male",
          "smoker": "no"
         },
         {
          "age": 26,
          "bmi": 30,
          "bmi_cat": "overweight",
          "charges": 2904.0879999999997,
          "children": 1,
          "region": "southwest",
          "sex": "male",
          "smoker": "no"
         },
         {
          "age": 37,
          "bmi": 29.64,
          "bmi_cat": "overweight",
          "charges": 5028.1466,
          "children": 0,
          "region": "northwest",
          "sex": "male",
          "smoker": "no"
         },
         {
          "age": 60,
          "bmi": 18.335,
          "bmi_cat": "underweight",
          "charges": 13204.28565,
          "children": 0,
          "region": "northeast",
          "sex": "female",
          "smoker": "no"
         },
         {
          "age": 22,
          "bmi": 33.77,
          "bmi_cat": "obese",
          "charges": 1674.6323,
          "children": 0,
          "region": "southeast",
          "sex": "male",
          "smoker": "no"
         },
         {
          "age": 46,
          "bmi": 40.375,
          "bmi_cat": "obese",
          "charges": 8733.22925,
          "children": 2,
          "region": "northwest",
          "sex": "male",
          "smoker": "no"
         },
         {
          "age": 40,
          "bmi": 22.22,
          "bmi_cat": "normal",
          "charges": 19444.2658,
          "children": 2,
          "region": "southeast",
          "sex": "female",
          "smoker": "yes"
         },
         {
          "age": 30,
          "bmi": 37.8,
          "bmi_cat": "obese",
          "charges": 39241.442,
          "children": 2,
          "region": "southwest",
          "sex": "male",
          "smoker": "yes"
         },
         {
          "age": 52,
          "bmi": 36.7,
          "bmi_cat": "obese",
          "charges": 9144.565,
          "children": 0,
          "region": "southwest",
          "sex": "male",
          "smoker": "no"
         },
         {
          "age": 30,
          "bmi": 39.05,
          "bmi_cat": "obese",
          "charges": 40932.4295,
          "children": 3,
          "region": "southeast",
          "sex": "female",
          "smoker": "yes"
         },
         {
          "age": 19,
          "bmi": 28.3,
          "bmi_cat": "overweight",
          "charges": 17081.08,
          "children": 0,
          "region": "southwest",
          "sex": "female",
          "smoker": "yes"
         },
         {
          "age": 40,
          "bmi": 30.875,
          "bmi_cat": "obese",
          "charges": 8162.71625,
          "children": 4,
          "region": "northwest",
          "sex": "male",
          "smoker": "no"
         },
         {
          "age": 53,
          "bmi": 26.41,
          "bmi_cat": "overweight",
          "charges": 11244.3769,
          "children": 2,
          "region": "northeast",
          "sex": "male",
          "smoker": "no"
         },
         {
          "age": 28,
          "bmi": 22.515,
          "bmi_cat": "normal",
          "charges": 4428.88785,
          "children": 2,
          "region": "northeast",
          "sex": "male",
          "smoker": "no"
         },
         {
          "age": 26,
          "bmi": 46.53,
          "bmi_cat": "obese",
          "charges": 2927.0647,
          "children": 1,
          "region": "southeast",
          "sex": "male",
          "smoker": "no"
         },
         {
          "age": 33,
          "bmi": 33.44,
          "bmi_cat": "obese",
          "charges": 6653.7886,
          "children": 5,
          "region": "southeast",
          "sex": "male",
          "smoker": "no"
         },
         {
          "age": 55,
          "bmi": 26.8,
          "bmi_cat": "overweight",
          "charges": 35160.13457,
          "children": 1,
          "region": "southwest",
          "sex": "female",
          "smoker": "no"
         },
         {
          "age": 51,
          "bmi": 34.2,
          "bmi_cat": "obese",
          "charges": 9872.701,
          "children": 1,
          "region": "southwest",
          "sex": "female",
          "smoker": "no"
         },
         {
          "age": 44,
          "bmi": 25,
          "bmi_cat": "normal",
          "charges": 7623.518,
          "children": 1,
          "region": "southwest",
          "sex": "female",
          "smoker": "no"
         },
         {
          "age": 43,
          "bmi": 25.52,
          "bmi_cat": "overweight",
          "charges": 14478.33015,
          "children": 5,
          "region": "southeast",
          "sex": "male",
          "smoker": "no"
         },
         {
          "age": 19,
          "bmi": 33.11,
          "bmi_cat": "obese",
          "charges": 34439.8559,
          "children": 0,
          "region": "southeast",
          "sex": "female",
          "smoker": "yes"
         },
         {
          "age": 24,
          "bmi": 28.5,
          "bmi_cat": "overweight",
          "charges": 35147.52848,
          "children": 0,
          "region": "northeast",
          "sex": "male",
          "smoker": "yes"
         },
         {
          "age": 35,
          "bmi": 24.13,
          "bmi_cat": "normal",
          "charges": 5125.2157,
          "children": 1,
          "region": "northwest",
          "sex": "male",
          "smoker": "no"
         },
         {
          "age": 43,
          "bmi": 38.06,
          "bmi_cat": "obese",
          "charges": 42560.4304,
          "children": 2,
          "region": "southeast",
          "sex": "male",
          "smoker": "yes"
         },
         {
          "age": 47,
          "bmi": 32.3,
          "bmi_cat": "obese",
          "charges": 8062.764,
          "children": 1,
          "region": "southwest",
          "sex": "male",
          "smoker": "no"
         },
         {
          "age": 50,
          "bmi": 27.83,
          "bmi_cat": "overweight",
          "charges": 19749.383380000003,
          "children": 3,
          "region": "southeast",
          "sex": "female",
          "smoker": "no"
         },
         {
          "age": 40,
          "bmi": 25.46,
          "bmi_cat": "overweight",
          "charges": 7077.1894,
          "children": 1,
          "region": "northeast",
          "sex": "female",
          "smoker": "no"
         },
         {
          "age": 45,
          "bmi": 24.31,
          "bmi_cat": "normal",
          "charges": 9788.8659,
          "children": 5,
          "region": "southeast",
          "sex": "male",
          "smoker": "no"
         },
         {
          "age": 54,
          "bmi": 31.6,
          "bmi_cat": "obese",
          "charges": 9850.431999999999,
          "children": 0,
          "region": "southwest",
          "sex": "male",
          "smoker": "no"
         },
         {
          "age": 40,
          "bmi": 34.105,
          "bmi_cat": "obese",
          "charges": 6600.20595,
          "children": 1,
          "region": "northeast",
          "sex": "male",
          "smoker": "no"
         },
         {
          "age": 29,
          "bmi": 22.515,
          "bmi_cat": "normal",
          "charges": 5209.57885,
          "children": 3,
          "region": "northeast",
          "sex": "male",
          "smoker": "no"
         },
         {
          "age": 20,
          "bmi": 30.115,
          "bmi_cat": "obese",
          "charges": 4915.05985,
          "children": 5,
          "region": "northeast",
          "sex": "male",
          "smoker": "no"
         },
         {
          "age": 35,
          "bmi": 36.67,
          "bmi_cat": "obese",
          "charges": 39774.2763,
          "children": 1,
          "region": "northeast",
          "sex": "male",
          "smoker": "yes"
         },
         {
          "age": 26,
          "bmi": 17.67,
          "bmi_cat": "underweight",
          "charges": 2680.9493,
          "children": 0,
          "region": "northwest",
          "sex": "male",
          "smoker": "no"
         },
         {
          "age": 44,
          "bmi": 25.8,
          "bmi_cat": "overweight",
          "charges": 7624.63,
          "children": 1,
          "region": "southwest",
          "sex": "female",
          "smoker": "no"
         },
         {
          "age": 19,
          "bmi": 34.1,
          "bmi_cat": "obese",
          "charges": 1261.442,
          "children": 0,
          "region": "southwest",
          "sex": "male",
          "smoker": "no"
         },
         {
          "age": 32,
          "bmi": 46.53,
          "bmi_cat": "obese",
          "charges": 4686.3887,
          "children": 2,
          "region": "southeast",
          "sex": "male",
          "smoker": "no"
         },
         {
          "age": 61,
          "bmi": 35.91,
          "bmi_cat": "obese",
          "charges": 13635.6379,
          "children": 0,
          "region": "northeast",
          "sex": "female",
          "smoker": "no"
         },
         {
          "age": 49,
          "bmi": 29.925,
          "bmi_cat": "overweight",
          "charges": 8988.15875,
          "children": 0,
          "region": "northwest",
          "sex": "female",
          "smoker": "no"
         },
         {
          "age": 20,
          "bmi": 21.8,
          "bmi_cat": "normal",
          "charges": 20167.336030000002,
          "children": 0,
          "region": "southwest",
          "sex": "female",
          "smoker": "yes"
         },
         {
          "age": 19,
          "bmi": 30.59,
          "bmi_cat": "obese",
          "charges": 1639.5631,
          "children": 0,
          "region": "northwest",
          "sex": "male",
          "smoker": "no"
         },
         {
          "age": 49,
          "bmi": 23.18,
          "bmi_cat": "normal",
          "charges": 10156.7832,
          "children": 2,
          "region": "northwest",
          "sex": "female",
          "smoker": "no"
         },
         {
          "age": 62,
          "bmi": 39.2,
          "bmi_cat": "obese",
          "charges": 13470.86,
          "children": 0,
          "region": "southwest",
          "sex": "female",
          "smoker": "no"
         },
         {
          "age": 61,
          "bmi": 36.3,
          "bmi_cat": "obese",
          "charges": 47403.88,
          "children": 1,
          "region": "southwest",
          "sex": "male",
          "smoker": "yes"
         },
         {
          "age": 63,
          "bmi": 36.765,
          "bmi_cat": "obese",
          "charges": 13981.85035,
          "children": 0,
          "region": "northeast",
          "sex": "male",
          "smoker": "no"
         },
         {
          "age": 56,
          "bmi": 39.6,
          "bmi_cat": "obese",
          "charges": 10601.412,
          "children": 0,
          "region": "southwest",
          "sex": "male",
          "smoker": "no"
         },
         {
          "age": 19,
          "bmi": 22.61,
          "bmi_cat": "normal",
          "charges": 1628.4709,
          "children": 0,
          "region": "northwest",
          "sex": "male",
          "smoker": "no"
         },
         {
          "age": 28,
          "bmi": 25.8,
          "bmi_cat": "overweight",
          "charges": 3161.454,
          "children": 0,
          "region": "southwest",
          "sex": "female",
          "smoker": "no"
         },
         {
          "age": 26,
          "bmi": 29.48,
          "bmi_cat": "overweight",
          "charges": 3392.3652,
          "children": 1,
          "region": "southeast",
          "sex": "female",
          "smoker": "no"
         },
         {
          "age": 18,
          "bmi": 34.43,
          "bmi_cat": "obese",
          "charges": 1137.4697,
          "children": 0,
          "region": "southeast",
          "sex": "male",
          "smoker": "no"
         },
         {
          "age": 62,
          "bmi": 32.68,
          "bmi_cat": "obese",
          "charges": 13844.7972,
          "children": 0,
          "region": "northwest",
          "sex": "female",
          "smoker": "no"
         },
         {
          "age": 32,
          "bmi": 29.59,
          "bmi_cat": "overweight",
          "charges": 4562.8421,
          "children": 1,
          "region": "southeast",
          "sex": "female",
          "smoker": "no"
         },
         {
          "age": 23,
          "bmi": 28.12,
          "bmi_cat": "overweight",
          "charges": 2690.1138,
          "children": 0,
          "region": "northwest",
          "sex": "female",
          "smoker": "no"
         },
         {
          "age": 37,
          "bmi": 36.19,
          "bmi_cat": "obese",
          "charges": 19214.705530000003,
          "children": 0,
          "region": "southeast",
          "sex": "male",
          "smoker": "no"
         },
         {
          "age": 38,
          "bmi": 27.835,
          "bmi_cat": "overweight",
          "charges": 6455.86265,
          "children": 2,
          "region": "northwest",
          "sex": "male",
          "smoker": "no"
         },
         {
          "age": 52,
          "bmi": 31.73,
          "bmi_cat": "obese",
          "charges": 11187.6567,
          "children": 2,
          "region": "northwest",
          "sex": "female",
          "smoker": "no"
         },
         {
          "age": 56,
          "bmi": 31.79,
          "bmi_cat": "obese",
          "charges": 43813.8661,
          "children": 2,
          "region": "southeast",
          "sex": "male",
          "smoker": "yes"
         },
         {
          "age": 48,
          "bmi": 41.23,
          "bmi_cat": "obese",
          "charges": 11033.6617,
          "children": 4,
          "region": "northwest",
          "sex": "female",
          "smoker": "no"
         },
         {
          "age": 29,
          "bmi": 35.53,
          "bmi_cat": "obese",
          "charges": 3366.6697,
          "children": 0,
          "region": "southeast",
          "sex": "female",
          "smoker": "no"
         },
         {
          "age": 42,
          "bmi": 29.48,
          "bmi_cat": "overweight",
          "charges": 7640.3092,
          "children": 2,
          "region": "southeast",
          "sex": "female",
          "smoker": "no"
         },
         {
          "age": 33,
          "bmi": 32.9,
          "bmi_cat": "obese",
          "charges": 5375.0380000000005,
          "children": 2,
          "region": "southwest",
          "sex": "female",
          "smoker": "no"
         },
         {
          "age": 28,
          "bmi": 33.11,
          "bmi_cat": "obese",
          "charges": 3171.6149,
          "children": 0,
          "region": "southeast",
          "sex": "female",
          "smoker": "no"
         },
         {
          "age": 36,
          "bmi": 27.74,
          "bmi_cat": "overweight",
          "charges": 5469.0066,
          "children": 0,
          "region": "northeast",
          "sex": "female",
          "smoker": "no"
         },
         {
          "age": 50,
          "bmi": 23.54,
          "bmi_cat": "normal",
          "charges": 10107.2206,
          "children": 2,
          "region": "southeast",
          "sex": "female",
          "smoker": "no"
         },
         {
          "age": 29,
          "bmi": 31.16,
          "bmi_cat": "obese",
          "charges": 3943.5954,
          "children": 0,
          "region": "northeast",
          "sex": "female",
          "smoker": "no"
         },
         {
          "age": 51,
          "bmi": 37,
          "bmi_cat": "obese",
          "charges": 8798.593,
          "children": 0,
          "region": "southwest",
          "sex": "male",
          "smoker": "no"
         },
         {
          "age": 21,
          "bmi": 31.02,
          "bmi_cat": "obese",
          "charges": 16586.49771,
          "children": 0,
          "region": "southeast",
          "sex": "male",
          "smoker": "no"
         },
         {
          "age": 61,
          "bmi": 33.33,
          "bmi_cat": "obese",
          "charges": 36580.28216,
          "children": 4,
          "region": "southeast",
          "sex": "female",
          "smoker": "no"
         },
         {
          "age": 46,
          "bmi": 25.745,
          "bmi_cat": "overweight",
          "charges": 9301.89355,
          "children": 3,
          "region": "northwest",
          "sex": "male",
          "smoker": "no"
         },
         {
          "age": 27,
          "bmi": 17.955,
          "bmi_cat": "underweight",
          "charges": 15006.57945,
          "children": 2,
          "region": "northeast",
          "sex": "female",
          "smoker": "yes"
         },
         {
          "age": 60,
          "bmi": 39.9,
          "bmi_cat": "obese",
          "charges": 48173.361,
          "children": 0,
          "region": "southwest",
          "sex": "male",
          "smoker": "yes"
         },
         {
          "age": 32,
          "bmi": 44.22,
          "bmi_cat": "obese",
          "charges": 3994.1778,
          "children": 0,
          "region": "southeast",
          "sex": "female",
          "smoker": "no"
         },
         {
          "age": 19,
          "bmi": 29.8,
          "bmi_cat": "overweight",
          "charges": 1744.465,
          "children": 0,
          "region": "southwest",
          "sex": "female",
          "smoker": "no"
         },
         {
          "age": 64,
          "bmi": 39.33,
          "bmi_cat": "obese",
          "charges": 14901.5167,
          "children": 0,
          "region": "northeast",
          "sex": "female",
          "smoker": "no"
         },
         {
          "age": 55,
          "bmi": 21.5,
          "bmi_cat": "normal",
          "charges": 10791.96,
          "children": 1,
          "region": "southwest",
          "sex": "male",
          "smoker": "no"
         },
         {
          "age": 53,
          "bmi": 38.06,
          "bmi_cat": "obese",
          "charges": 20462.99766,
          "children": 3,
          "region": "southeast",
          "sex": "female",
          "smoker": "no"
         },
         {
          "age": 41,
          "bmi": 34.2,
          "bmi_cat": "obese",
          "charges": 7261.741,
          "children": 2,
          "region": "northwest",
          "sex": "male",
          "smoker": "no"
         },
         {
          "age": 36,
          "bmi": 41.895,
          "bmi_cat": "obese",
          "charges": 43753.33705,
          "children": 3,
          "region": "northeast",
          "sex": "male",
          "smoker": "yes"
         },
         {
          "age": 57,
          "bmi": 30.495,
          "bmi_cat": "obese",
          "charges": 11840.77505,
          "children": 0,
          "region": "northwest",
          "sex": "female",
          "smoker": "no"
         },
         {
          "age": 22,
          "bmi": 27.1,
          "bmi_cat": "overweight",
          "charges": 2154.361,
          "children": 0,
          "region": "southwest",
          "sex": "female",
          "smoker": "no"
         },
         {
          "age": 63,
          "bmi": 33.1,
          "bmi_cat": "obese",
          "charges": 13393.756000000001,
          "children": 0,
          "region": "southwest",
          "sex": "male",
          "smoker": "no"
         },
         {
          "age": 21,
          "bmi": 26.03,
          "bmi_cat": "overweight",
          "charges": 2102.2647,
          "children": 0,
          "region": "northeast",
          "sex": "male",
          "smoker": "no"
         },
         {
          "age": 61,
          "bmi": 28.2,
          "bmi_cat": "overweight",
          "charges": 13041.921,
          "children": 0,
          "region": "southwest",
          "sex": "female",
          "smoker": "no"
         },
         {
          "age": 39,
          "bmi": 24.51,
          "bmi_cat": "normal",
          "charges": 6710.1919,
          "children": 2,
          "region": "northwest",
          "sex": "male",
          "smoker": "no"
         },
         {
          "age": 44,
          "bmi": 30.69,
          "bmi_cat": "obese",
          "charges": 7731.4271,
          "children": 2,
          "region": "southeast",
          "sex": "male",
          "smoker": "no"
         },
         {
          "age": 26,
          "bmi": 17.195,
          "bmi_cat": "underweight",
          "charges": 14455.64405,
          "children": 2,
          "region": "northeast",
          "sex": "female",
          "smoker": "yes"
         },
         {
          "age": 36,
          "bmi": 28.88,
          "bmi_cat": "overweight",
          "charges": 6748.5912,
          "children": 3,
          "region": "northeast",
          "sex": "male",
          "smoker": "no"
         },
         {
          "age": 58,
          "bmi": 32.395,
          "bmi_cat": "obese",
          "charges": 13019.16105,
          "children": 1,
          "region": "northeast",
          "sex": "female",
          "smoker": "no"
         },
         {
          "age": 28,
          "bmi": 17.29,
          "bmi_cat": "underweight",
          "charges": 3732.6251,
          "children": 0,
          "region": "northeast",
          "sex": "female",
          "smoker": "no"
         },
         {
          "age": 46,
          "bmi": 22.3,
          "bmi_cat": "normal",
          "charges": 7147.105,
          "children": 0,
          "region": "southwest",
          "sex": "male",
          "smoker": "no"
         },
         {
          "age": 35,
          "bmi": 34.32,
          "bmi_cat": "obese",
          "charges": 5934.3798,
          "children": 3,
          "region": "southeast",
          "sex": "male",
          "smoker": "no"
         },
         {
          "age": 50,
          "bmi": 44.77,
          "bmi_cat": "obese",
          "charges": 9058.7303,
          "children": 1,
          "region": "southeast",
          "sex": "male",
          "smoker": "no"
         },
         {
          "age": 53,
          "bmi": 20.9,
          "bmi_cat": "normal",
          "charges": 21195.818,
          "children": 0,
          "region": "southeast",
          "sex": "male",
          "smoker": "yes"
         },
         {
          "age": 32,
          "bmi": 29.735,
          "bmi_cat": "overweight",
          "charges": 4357.04365,
          "children": 0,
          "region": "northwest",
          "sex": "female",
          "smoker": "no"
         },
         {
          "age": 37,
          "bmi": 22.705,
          "bmi_cat": "normal",
          "charges": 6985.50695,
          "children": 3,
          "region": "northeast",
          "sex": "male",
          "smoker": "no"
         },
         {
          "age": 56,
          "bmi": 33.82,
          "bmi_cat": "obese",
          "charges": 12643.3778,
          "children": 2,
          "region": "northwest",
          "sex": "female",
          "smoker": "no"
         },
         {
          "age": 35,
          "bmi": 34.21,
          "bmi_cat": "obese",
          "charges": 5245.2269,
          "children": 1,
          "region": "southeast",
          "sex": "female",
          "smoker": "no"
         },
         {
          "age": 18,
          "bmi": 21.78,
          "bmi_cat": "normal",
          "charges": 11884.04858,
          "children": 2,
          "region": "southeast",
          "sex": "male",
          "smoker": "no"
         },
         {
          "age": 55,
          "bmi": 30.14,
          "bmi_cat": "obese",
          "charges": 11881.9696,
          "children": 2,
          "region": "southeast",
          "sex": "female",
          "smoker": "no"
         },
         {
          "age": 56,
          "bmi": 28.595,
          "bmi_cat": "overweight",
          "charges": 11658.11505,
          "children": 0,
          "region": "northeast",
          "sex": "female",
          "smoker": "no"
         },
         {
          "age": 46,
          "bmi": 43.89,
          "bmi_cat": "obese",
          "charges": 8944.1151,
          "children": 3,
          "region": "southeast",
          "sex": "male",
          "smoker": "no"
         },
         {
          "age": 59,
          "bmi": 31.79,
          "bmi_cat": "obese",
          "charges": 12928.7911,
          "children": 2,
          "region": "southeast",
          "sex": "male",
          "smoker": "no"
         },
         {
          "age": 49,
          "bmi": 25.84,
          "bmi_cat": "overweight",
          "charges": 9282.4806,
          "children": 1,
          "region": "northeast",
          "sex": "male",
          "smoker": "no"
         },
         {
          "age": 18,
          "bmi": 39.82,
          "bmi_cat": "obese",
          "charges": 1633.9618,
          "children": 0,
          "region": "southeast",
          "sex": "female",
          "smoker": "no"
         },
         {
          "age": 48,
          "bmi": 30.78,
          "bmi_cat": "obese",
          "charges": 10141.1362,
          "children": 3,
          "region": "northeast",
          "sex": "male",
          "smoker": "no"
         },
         {
          "age": 33,
          "bmi": 35.75,
          "bmi_cat": "obese",
          "charges": 4889.9995,
          "children": 2,
          "region": "southeast",
          "sex": "male",
          "smoker": "no"
         },
         {
          "age": 43,
          "bmi": 32.56,
          "bmi_cat": "obese",
          "charges": 40941.2854,
          "children": 3,
          "region": "southeast",
          "sex": "female",
          "smoker": "yes"
         },
         {
          "age": 27,
          "bmi": 23.1,
          "bmi_cat": "normal",
          "charges": 2483.736,
          "children": 0,
          "region": "southeast",
          "sex": "male",
          "smoker": "no"
         },
         {
          "age": 49,
          "bmi": 25.6,
          "bmi_cat": "overweight",
          "charges": 23306.547000000002,
          "children": 2,
          "region": "southwest",
          "sex": "male",
          "smoker": "yes"
         },
         {
          "age": 41,
          "bmi": 35.75,
          "bmi_cat": "obese",
          "charges": 40273.6455,
          "children": 1,
          "region": "southeast",
          "sex": "male",
          "smoker": "yes"
         },
         {
          "age": 60,
          "bmi": 25.74,
          "bmi_cat": "overweight",
          "charges": 12142.5786,
          "children": 0,
          "region": "southeast",
          "sex": "male",
          "smoker": "no"
         },
         {
          "age": 30,
          "bmi": 44.22,
          "bmi_cat": "obese",
          "charges": 4266.1658,
          "children": 2,
          "region": "southeast",
          "sex": "male",
          "smoker": "no"
         },
         {
          "age": 23,
          "bmi": 24.225,
          "bmi_cat": "normal",
          "charges": 22395.74424,
          "children": 2,
          "region": "northeast",
          "sex": "female",
          "smoker": "no"
         },
         {
          "age": 46,
          "bmi": 28.05,
          "bmi_cat": "overweight",
          "charges": 8233.0975,
          "children": 1,
          "region": "southeast",
          "sex": "female",
          "smoker": "no"
         },
         {
          "age": 54,
          "bmi": 25.46,
          "bmi_cat": "overweight",
          "charges": 25517.11363,
          "children": 1,
          "region": "northeast",
          "sex": "male",
          "smoker": "no"
         },
         {
          "age": 19,
          "bmi": 34.7,
          "bmi_cat": "obese",
          "charges": 36397.576,
          "children": 2,
          "region": "southwest",
          "sex": "female",
          "smoker": "yes"
         },
         {
          "age": 19,
          "bmi": 35.4,
          "bmi_cat": "obese",
          "charges": 1263.249,
          "children": 0,
          "region": "southwest",
          "sex": "male",
          "smoker": "no"
         },
         {
          "age": 26,
          "bmi": 33.915,
          "bmi_cat": "obese",
          "charges": 3292.52985,
          "children": 1,
          "region": "northwest",
          "sex": "male",
          "smoker": "no"
         },
         {
          "age": 37,
          "bmi": 47.6,
          "bmi_cat": "obese",
          "charges": 46113.511,
          "children": 2,
          "region": "southwest",
          "sex": "female",
          "smoker": "yes"
         },
         {
          "age": 26,
          "bmi": 42.4,
          "bmi_cat": "obese",
          "charges": 3410.324,
          "children": 1,
          "region": "southwest",
          "sex": "female",
          "smoker": "no"
         },
         {
          "age": 48,
          "bmi": 36.67,
          "bmi_cat": "obese",
          "charges": 28468.91901,
          "children": 1,
          "region": "northwest",
          "sex": "male",
          "smoker": "no"
         },
         {
          "age": 31,
          "bmi": 31.065,
          "bmi_cat": "obese",
          "charges": 5425.02335,
          "children": 3,
          "region": "northwest",
          "sex": "male",
          "smoker": "no"
         },
         {
          "age": 57,
          "bmi": 28.785,
          "bmi_cat": "overweight",
          "charges": 14394.39815,
          "children": 4,
          "region": "northeast",
          "sex": "female",
          "smoker": "no"
         },
         {
          "age": 54,
          "bmi": 39.6,
          "bmi_cat": "obese",
          "charges": 10450.552,
          "children": 1,
          "region": "southwest",
          "sex": "male",
          "smoker": "no"
         },
         {
          "age": 31,
          "bmi": 38.39,
          "bmi_cat": "obese",
          "charges": 4463.2051,
          "children": 2,
          "region": "southeast",
          "sex": "male",
          "smoker": "no"
         },
         {
          "age": 31,
          "bmi": 38.095,
          "bmi_cat": "obese",
          "charges": 58571.074479999996,
          "children": 1,
          "region": "northeast",
          "sex": "female",
          "smoker": "yes"
         },
         {
          "age": 42,
          "bmi": 37.9,
          "bmi_cat": "obese",
          "charges": 6474.013000000001,
          "children": 0,
          "region": "southwest",
          "sex": "female",
          "smoker": "no"
         },
         {
          "age": 58,
          "bmi": 49.06,
          "bmi_cat": "obese",
          "charges": 11381.3254,
          "children": 0,
          "region": "southeast",
          "sex": "male",
          "smoker": "no"
         },
         {
          "age": 40,
          "bmi": 23.37,
          "bmi_cat": "normal",
          "charges": 8252.2843,
          "children": 3,
          "region": "northeast",
          "sex": "female",
          "smoker": "no"
         },
         {
          "age": 28,
          "bmi": 31.68,
          "bmi_cat": "obese",
          "charges": 34672.1472,
          "children": 0,
          "region": "southeast",
          "sex": "male",
          "smoker": "yes"
         },
         {
          "age": 18,
          "bmi": 27.28,
          "bmi_cat": "overweight",
          "charges": 18223.4512,
          "children": 3,
          "region": "southeast",
          "sex": "female",
          "smoker": "yes"
         },
         {
          "age": 46,
          "bmi": 33.44,
          "bmi_cat": "obese",
          "charges": 8334.5896,
          "children": 1,
          "region": "northeast",
          "sex": "male",
          "smoker": "no"
         },
         {
          "age": 19,
          "bmi": 35.15,
          "bmi_cat": "obese",
          "charges": 2134.9015,
          "children": 0,
          "region": "northwest",
          "sex": "female",
          "smoker": "no"
         },
         {
          "age": 54,
          "bmi": 30.8,
          "bmi_cat": "obese",
          "charges": 41999.52,
          "children": 1,
          "region": "southeast",
          "sex": "male",
          "smoker": "yes"
         },
         {
          "age": 42,
          "bmi": 24.86,
          "bmi_cat": "normal",
          "charges": 5966.8874,
          "children": 0,
          "region": "southeast",
          "sex": "male",
          "smoker": "no"
         },
         {
          "age": 40,
          "bmi": 41.69,
          "bmi_cat": "obese",
          "charges": 5438.7491,
          "children": 0,
          "region": "southeast",
          "sex": "male",
          "smoker": "no"
         },
         {
          "age": 39,
          "bmi": 22.8,
          "bmi_cat": "normal",
          "charges": 7985.815,
          "children": 3,
          "region": "northeast",
          "sex": "female",
          "smoker": "no"
         },
         {
          "age": 45,
          "bmi": 27.645,
          "bmi_cat": "overweight",
          "charges": 28340.18885,
          "children": 1,
          "region": "northwest",
          "sex": "female",
          "smoker": "no"
         },
         {
          "age": 60,
          "bmi": 29.64,
          "bmi_cat": "overweight",
          "charges": 12730.9996,
          "children": 0,
          "region": "northeast",
          "sex": "male",
          "smoker": "no"
         },
         {
          "age": 45,
          "bmi": 33.7,
          "bmi_cat": "obese",
          "charges": 7445.918000000001,
          "children": 1,
          "region": "southwest",
          "sex": "male",
          "smoker": "no"
         },
         {
          "age": 48,
          "bmi": 27.36,
          "bmi_cat": "overweight",
          "charges": 9447.3824,
          "children": 1,
          "region": "northeast",
          "sex": "female",
          "smoker": "no"
         },
         {
          "age": 18,
          "bmi": 35.2,
          "bmi_cat": "obese",
          "charges": 1727.54,
          "children": 1,
          "region": "southeast",
          "sex": "male",
          "smoker": "no"
         },
         {
          "age": 36,
          "bmi": 29.92,
          "bmi_cat": "overweight",
          "charges": 5478.0368,
          "children": 1,
          "region": "southeast",
          "sex": "female",
          "smoker": "no"
         },
         {
          "age": 59,
          "bmi": 37.1,
          "bmi_cat": "obese",
          "charges": 12347.171999999999,
          "children": 1,
          "region": "southwest",
          "sex": "male",
          "smoker": "no"
         },
         {
          "age": 19,
          "bmi": 34.4,
          "bmi_cat": "obese",
          "charges": 1261.859,
          "children": 0,
          "region": "southwest",
          "sex": "male",
          "smoker": "no"
         },
         {
          "age": 34,
          "bmi": 31.92,
          "bmi_cat": "obese",
          "charges": 37701.8768,
          "children": 1,
          "region": "northeast",
          "sex": "female",
          "smoker": "yes"
         },
         {
          "age": 62,
          "bmi": 39.93,
          "bmi_cat": "obese",
          "charges": 12982.8747,
          "children": 0,
          "region": "southeast",
          "sex": "male",
          "smoker": "no"
         },
         {
          "age": 47,
          "bmi": 36.08,
          "bmi_cat": "obese",
          "charges": 42211.1382,
          "children": 1,
          "region": "southeast",
          "sex": "male",
          "smoker": "yes"
         },
         {
          "age": 28,
          "bmi": 37.1,
          "bmi_cat": "obese",
          "charges": 3277.1609999999996,
          "children": 1,
          "region": "southwest",
          "sex": "male",
          "smoker": "no"
         },
         {
          "age": 27,
          "bmi": 18.905,
          "bmi_cat": "normal",
          "charges": 4827.90495,
          "children": 3,
          "region": "northeast",
          "sex": "male",
          "smoker": "no"
         },
         {
          "age": 55,
          "bmi": 37.715,
          "bmi_cat": "obese",
          "charges": 30063.58055,
          "children": 3,
          "region": "northwest",
          "sex": "male",
          "smoker": "no"
         },
         {
          "age": 61,
          "bmi": 35.86,
          "bmi_cat": "obese",
          "charges": 46599.1084,
          "children": 0,
          "region": "southeast",
          "sex": "male",
          "smoker": "yes"
         },
         {
          "age": 21,
          "bmi": 23.75,
          "bmi_cat": "normal",
          "charges": 3077.0955,
          "children": 2,
          "region": "northwest",
          "sex": "male",
          "smoker": "no"
         },
         {
          "age": 28,
          "bmi": 25.935,
          "bmi_cat": "overweight",
          "charges": 4133.64165,
          "children": 1,
          "region": "northwest",
          "sex": "female",
          "smoker": "no"
         },
         {
          "age": 41,
          "bmi": 32.965,
          "bmi_cat": "obese",
          "charges": 6571.02435,
          "children": 0,
          "region": "northwest",
          "sex": "female",
          "smoker": "no"
         },
         {
          "age": 54,
          "bmi": 46.7,
          "bmi_cat": "obese",
          "charges": 11538.421,
          "children": 2,
          "region": "southwest",
          "sex": "female",
          "smoker": "no"
         },
         {
          "age": 43,
          "bmi": 30.115,
          "bmi_cat": "obese",
          "charges": 8410.04685,
          "children": 3,
          "region": "northwest",
          "sex": "male",
          "smoker": "no"
         },
         {
          "age": 54,
          "bmi": 25.1,
          "bmi_cat": "overweight",
          "charges": 25382.297000000002,
          "children": 3,
          "region": "southwest",
          "sex": "male",
          "smoker": "yes"
         },
         {
          "age": 25,
          "bmi": 34.485,
          "bmi_cat": "obese",
          "charges": 3021.80915,
          "children": 0,
          "region": "northwest",
          "sex": "female",
          "smoker": "no"
         },
         {
          "age": 45,
          "bmi": 25.175,
          "bmi_cat": "overweight",
          "charges": 9095.06825,
          "children": 2,
          "region": "northeast",
          "sex": "female",
          "smoker": "no"
         },
         {
          "age": 21,
          "bmi": 36.85,
          "bmi_cat": "obese",
          "charges": 1534.3045,
          "children": 0,
          "region": "southeast",
          "sex": "male",
          "smoker": "no"
         },
         {
          "age": 39,
          "bmi": 41.8,
          "bmi_cat": "obese",
          "charges": 5662.225,
          "children": 0,
          "region": "southeast",
          "sex": "female",
          "smoker": "no"
         },
         {
          "age": 18,
          "bmi": 53.13,
          "bmi_cat": "obese",
          "charges": 1163.4627,
          "children": 0,
          "region": "southeast",
          "sex": "male",
          "smoker": "no"
         },
         {
          "age": 40,
          "bmi": 41.42,
          "bmi_cat": "obese",
          "charges": 28476.734989999997,
          "children": 1,
          "region": "northwest",
          "sex": "female",
          "smoker": "no"
         },
         {
          "age": 29,
          "bmi": 29.64,
          "bmi_cat": "overweight",
          "charges": 20277.80751,
          "children": 1,
          "region": "northeast",
          "sex": "male",
          "smoker": "no"
         },
         {
          "age": 19,
          "bmi": 27.7,
          "bmi_cat": "overweight",
          "charges": 16297.846000000001,
          "children": 0,
          "region": "southwest",
          "sex": "male",
          "smoker": "yes"
         },
         {
          "age": 57,
          "bmi": 28.1,
          "bmi_cat": "overweight",
          "charges": 10965.446000000002,
          "children": 0,
          "region": "southwest",
          "sex": "male",
          "smoker": "no"
         },
         {
          "age": 19,
          "bmi": 28.31,
          "bmi_cat": "overweight",
          "charges": 17468.9839,
          "children": 0,
          "region": "northwest",
          "sex": "female",
          "smoker": "yes"
         },
         {
          "age": 19,
          "bmi": 24.51,
          "bmi_cat": "normal",
          "charges": 2709.1119,
          "children": 1,
          "region": "northwest",
          "sex": "female",
          "smoker": "no"
         },
         {
          "age": 36,
          "bmi": 25.9,
          "bmi_cat": "overweight",
          "charges": 5472.4490000000005,
          "children": 1,
          "region": "southwest",
          "sex": "female",
          "smoker": "no"
         },
         {
          "age": 55,
          "bmi": 32.67,
          "bmi_cat": "obese",
          "charges": 10807.4863,
          "children": 1,
          "region": "southeast",
          "sex": "male",
          "smoker": "no"
         },
         {
          "age": 22,
          "bmi": 32.11,
          "bmi_cat": "obese",
          "charges": 2055.3249,
          "children": 0,
          "region": "northwest",
          "sex": "male",
          "smoker": "no"
         },
         {
          "age": 48,
          "bmi": 28.9,
          "bmi_cat": "overweight",
          "charges": 8277.523000000001,
          "children": 0,
          "region": "southwest",
          "sex": "female",
          "smoker": "no"
         },
         {
          "age": 22,
          "bmi": 37.62,
          "bmi_cat": "obese",
          "charges": 37165.1638,
          "children": 1,
          "region": "southeast",
          "sex": "male",
          "smoker": "yes"
         },
         {
          "age": 40,
          "bmi": 29.9,
          "bmi_cat": "overweight",
          "charges": 6600.361,
          "children": 2,
          "region": "southwest",
          "sex": "male",
          "smoker": "no"
         },
         {
          "age": 19,
          "bmi": 25.745,
          "bmi_cat": "overweight",
          "charges": 2710.82855,
          "children": 1,
          "region": "northwest",
          "sex": "female",
          "smoker": "no"
         },
         {
          "age": 41,
          "bmi": 29.64,
          "bmi_cat": "overweight",
          "charges": 9222.4026,
          "children": 5,
          "region": "northeast",
          "sex": "male",
          "smoker": "no"
         },
         {
          "age": 57,
          "bmi": 34.01,
          "bmi_cat": "obese",
          "charges": 11356.6609,
          "children": 0,
          "region": "northwest",
          "sex": "male",
          "smoker": "no"
         },
         {
          "age": 47,
          "bmi": 29.8,
          "bmi_cat": "overweight",
          "charges": 25309.488999999998,
          "children": 3,
          "region": "southwest",
          "sex": "male",
          "smoker": "yes"
         },
         {
          "age": 56,
          "bmi": 35.8,
          "bmi_cat": "obese",
          "charges": 11674.13,
          "children": 1,
          "region": "southwest",
          "sex": "female",
          "smoker": "no"
         },
         {
          "age": 18,
          "bmi": 30.03,
          "bmi_cat": "obese",
          "charges": 1720.3537,
          "children": 1,
          "region": "southeast",
          "sex": "male",
          "smoker": "no"
         },
         {
          "age": 34,
          "bmi": 30.8,
          "bmi_cat": "obese",
          "charges": 35491.64,
          "children": 0,
          "region": "southwest",
          "sex": "male",
          "smoker": "yes"
         },
         {
          "age": 52,
          "bmi": 32.205,
          "bmi_cat": "obese",
          "charges": 11488.31695,
          "children": 3,
          "region": "northeast",
          "sex": "male",
          "smoker": "no"
         },
         {
          "age": 55,
          "bmi": 32.775,
          "bmi_cat": "obese",
          "charges": 10601.63225,
          "children": 0,
          "region": "northwest",
          "sex": "male",
          "smoker": "no"
         },
         {
          "age": 59,
          "bmi": 23.655,
          "bmi_cat": "normal",
          "charges": 25678.77845,
          "children": 0,
          "region": "northwest",
          "sex": "female",
          "smoker": "yes"
         },
         {
          "age": 19,
          "bmi": 20.3,
          "bmi_cat": "normal",
          "charges": 1242.26,
          "children": 0,
          "region": "southwest",
          "sex": "male",
          "smoker": "no"
         },
         {
          "age": 39,
          "bmi": 24.225,
          "bmi_cat": "normal",
          "charges": 8965.79575,
          "children": 5,
          "region": "northwest",
          "sex": "female",
          "smoker": "no"
         },
         {
          "age": 43,
          "bmi": 34.4,
          "bmi_cat": "obese",
          "charges": 8522.003,
          "children": 3,
          "region": "southwest",
          "sex": "female",
          "smoker": "no"
         },
         {
          "age": 34,
          "bmi": 34.675,
          "bmi_cat": "obese",
          "charges": 4518.82625,
          "children": 0,
          "region": "northeast",
          "sex": "male",
          "smoker": "no"
         },
         {
          "age": 19,
          "bmi": 37.43,
          "bmi_cat": "obese",
          "charges": 2138.0707,
          "children": 0,
          "region": "northwest",
          "sex": "female",
          "smoker": "no"
         },
         {
          "age": 31,
          "bmi": 25.935,
          "bmi_cat": "overweight",
          "charges": 4239.89265,
          "children": 1,
          "region": "northwest",
          "sex": "male",
          "smoker": "no"
         },
         {
          "age": 31,
          "bmi": 26.62,
          "bmi_cat": "overweight",
          "charges": 3757.8448,
          "children": 0,
          "region": "southeast",
          "sex": "female",
          "smoker": "no"
         },
         {
          "age": 42,
          "bmi": 26.315,
          "bmi_cat": "overweight",
          "charges": 6940.90985,
          "children": 1,
          "region": "northwest",
          "sex": "male",
          "smoker": "no"
         },
         {
          "age": 20,
          "bmi": 28.025,
          "bmi_cat": "overweight",
          "charges": 17560.37975,
          "children": 1,
          "region": "northwest",
          "sex": "male",
          "smoker": "yes"
         },
         {
          "age": 25,
          "bmi": 26.22,
          "bmi_cat": "overweight",
          "charges": 2721.3208,
          "children": 0,
          "region": "northeast",
          "sex": "male",
          "smoker": "no"
         },
         {
          "age": 59,
          "bmi": 28.785,
          "bmi_cat": "overweight",
          "charges": 12129.61415,
          "children": 0,
          "region": "northwest",
          "sex": "male",
          "smoker": "no"
         },
         {
          "age": 30,
          "bmi": 19.95,
          "bmi_cat": "normal",
          "charges": 5693.4305,
          "children": 3,
          "region": "northwest",
          "sex": "female",
          "smoker": "no"
         },
         {
          "age": 64,
          "bmi": 32.965,
          "bmi_cat": "obese",
          "charges": 14692.66935,
          "children": 0,
          "region": "northwest",
          "sex": "female",
          "smoker": "no"
         },
         {
          "age": 49,
          "bmi": 36.63,
          "bmi_cat": "obese",
          "charges": 10381.4787,
          "children": 3,
          "region": "southeast",
          "sex": "female",
          "smoker": "no"
         },
         {
          "age": 42,
          "bmi": 24.605,
          "bmi_cat": "normal",
          "charges": 21259.37795,
          "children": 2,
          "region": "northeast",
          "sex": "male",
          "smoker": "yes"
         },
         {
          "age": 22,
          "bmi": 35.6,
          "bmi_cat": "obese",
          "charges": 35585.576,
          "children": 0,
          "region": "southwest",
          "sex": "male",
          "smoker": "yes"
         },
         {
          "age": 35,
          "bmi": 34.77,
          "bmi_cat": "obese",
          "charges": 5729.0053,
          "children": 2,
          "region": "northwest",
          "sex": "male",
          "smoker": "no"
         },
         {
          "age": 19,
          "bmi": 24.6,
          "bmi_cat": "normal",
          "charges": 1837.237,
          "children": 1,
          "region": "southwest",
          "sex": "male",
          "smoker": "no"
         },
         {
          "age": 54,
          "bmi": 29.2,
          "bmi_cat": "overweight",
          "charges": 10436.096,
          "children": 1,
          "region": "southwest",
          "sex": "male",
          "smoker": "no"
         },
         {
          "age": 23,
          "bmi": 31.4,
          "bmi_cat": "obese",
          "charges": 34166.273,
          "children": 0,
          "region": "southwest",
          "sex": "female",
          "smoker": "yes"
         },
         {
          "age": 38,
          "bmi": 37.73,
          "bmi_cat": "obese",
          "charges": 5397.6167,
          "children": 0,
          "region": "southeast",
          "sex": "female",
          "smoker": "no"
         },
         {
          "age": 34,
          "bmi": 35.815,
          "bmi_cat": "obese",
          "charges": 4320.41085,
          "children": 0,
          "region": "northwest",
          "sex": "male",
          "smoker": "no"
         },
         {
          "age": 27,
          "bmi": 36.08,
          "bmi_cat": "obese",
          "charges": 37133.8982,
          "children": 0,
          "region": "southeast",
          "sex": "female",
          "smoker": "yes"
         },
         {
          "age": 62,
          "bmi": 38.83,
          "bmi_cat": "obese",
          "charges": 12981.3457,
          "children": 0,
          "region": "southeast",
          "sex": "male",
          "smoker": "no"
         },
         {
          "age": 32,
          "bmi": 41.1,
          "bmi_cat": "obese",
          "charges": 3989.841,
          "children": 0,
          "region": "southwest",
          "sex": "female",
          "smoker": "no"
         },
         {
          "age": 35,
          "bmi": 43.34,
          "bmi_cat": "obese",
          "charges": 5846.9176,
          "children": 2,
          "region": "southeast",
          "sex": "female",
          "smoker": "no"
         },
         {
          "age": 27,
          "bmi": 31.4,
          "bmi_cat": "obese",
          "charges": 34838.873,
          "children": 0,
          "region": "southwest",
          "sex": "female",
          "smoker": "yes"
         },
         {
          "age": 51,
          "bmi": 24.415,
          "bmi_cat": "normal",
          "charges": 11520.09985,
          "children": 4,
          "region": "northwest",
          "sex": "male",
          "smoker": "no"
         },
         {
          "age": 61,
          "bmi": 43.4,
          "bmi_cat": "obese",
          "charges": 12574.048999999999,
          "children": 0,
          "region": "southwest",
          "sex": "male",
          "smoker": "no"
         },
         {
          "age": 59,
          "bmi": 25.46,
          "bmi_cat": "overweight",
          "charges": 12124.9924,
          "children": 0,
          "region": "northwest",
          "sex": "male",
          "smoker": "no"
         },
         {
          "age": 60,
          "bmi": 25.84,
          "bmi_cat": "overweight",
          "charges": 28923.136919999997,
          "children": 0,
          "region": "northwest",
          "sex": "female",
          "smoker": "no"
         },
         {
          "age": 50,
          "bmi": 30.97,
          "bmi_cat": "obese",
          "charges": 10600.5483,
          "children": 3,
          "region": "northwest",
          "sex": "male",
          "smoker": "no"
         },
         {
          "age": 47,
          "bmi": 47.52,
          "bmi_cat": "obese",
          "charges": 8083.9198,
          "children": 1,
          "region": "southeast",
          "sex": "male",
          "smoker": "no"
         },
         {
          "age": 26,
          "bmi": 30.875,
          "bmi_cat": "obese",
          "charges": 3877.30425,
          "children": 2,
          "region": "northwest",
          "sex": "male",
          "smoker": "no"
         },
         {
          "age": 37,
          "bmi": 27.74,
          "bmi_cat": "overweight",
          "charges": 7281.5056,
          "children": 3,
          "region": "northwest",
          "sex": "female",
          "smoker": "no"
         },
         {
          "age": 29,
          "bmi": 26.03,
          "bmi_cat": "overweight",
          "charges": 3736.4647,
          "children": 0,
          "region": "northwest",
          "sex": "female",
          "smoker": "no"
         },
         {
          "age": 58,
          "bmi": 25.2,
          "bmi_cat": "overweight",
          "charges": 11837.16,
          "children": 0,
          "region": "southwest",
          "sex": "female",
          "smoker": "no"
         },
         {
          "age": 34,
          "bmi": 38,
          "bmi_cat": "obese",
          "charges": 6196.448,
          "children": 3,
          "region": "southwest",
          "sex": "female",
          "smoker": "no"
         },
         {
          "age": 45,
          "bmi": 27.83,
          "bmi_cat": "overweight",
          "charges": 8515.7587,
          "children": 2,
          "region": "southeast",
          "sex": "female",
          "smoker": "no"
         },
         {
          "age": 54,
          "bmi": 40.565,
          "bmi_cat": "obese",
          "charges": 48549.17835,
          "children": 3,
          "region": "northeast",
          "sex": "male",
          "smoker": "yes"
         },
         {
          "age": 55,
          "bmi": 29.83,
          "bmi_cat": "overweight",
          "charges": 11286.5387,
          "children": 0,
          "region": "northeast",
          "sex": "female",
          "smoker": "no"
         },
         {
          "age": 26,
          "bmi": 40.185,
          "bmi_cat": "obese",
          "charges": 3201.24515,
          "children": 0,
          "region": "northwest",
          "sex": "female",
          "smoker": "no"
         },
         {
          "age": 49,
          "bmi": 28.7,
          "bmi_cat": "overweight",
          "charges": 8703.456,
          "children": 1,
          "region": "southwest",
          "sex": "male",
          "smoker": "no"
         },
         {
          "age": 24,
          "bmi": 20.52,
          "bmi_cat": "normal",
          "charges": 14571.8908,
          "children": 0,
          "region": "northeast",
          "sex": "female",
          "smoker": "yes"
         },
         {
          "age": 30,
          "bmi": 24.13,
          "bmi_cat": "normal",
          "charges": 4032.2407,
          "children": 1,
          "region": "northwest",
          "sex": "male",
          "smoker": "no"
         },
         {
          "age": 20,
          "bmi": 29.6,
          "bmi_cat": "overweight",
          "charges": 1875.344,
          "children": 0,
          "region": "southwest",
          "sex": "female",
          "smoker": "no"
         },
         {
          "age": 37,
          "bmi": 34.1,
          "bmi_cat": "obese",
          "charges": 40182.246,
          "children": 4,
          "region": "southwest",
          "sex": "male",
          "smoker": "yes"
         },
         {
          "age": 27,
          "bmi": 21.47,
          "bmi_cat": "normal",
          "charges": 3353.4703,
          "children": 0,
          "region": "northwest",
          "sex": "female",
          "smoker": "no"
         },
         {
          "age": 64,
          "bmi": 26.885,
          "bmi_cat": "overweight",
          "charges": 29330.98315,
          "children": 0,
          "region": "northwest",
          "sex": "female",
          "smoker": "yes"
         },
         {
          "age": 61,
          "bmi": 29.07,
          "bmi_cat": "overweight",
          "charges": 29141.3603,
          "children": 0,
          "region": "northwest",
          "sex": "female",
          "smoker": "yes"
         },
         {
          "age": 22,
          "bmi": 23.18,
          "bmi_cat": "normal",
          "charges": 2731.9122,
          "children": 0,
          "region": "northeast",
          "sex": "female",
          "smoker": "no"
         },
         {
          "age": 62,
          "bmi": 38.095,
          "bmi_cat": "obese",
          "charges": 15230.32405,
          "children": 2,
          "region": "northeast",
          "sex": "female",
          "smoker": "no"
         },
         {
          "age": 22,
          "bmi": 24.3,
          "bmi_cat": "normal",
          "charges": 2150.469,
          "children": 0,
          "region": "southwest",
          "sex": "female",
          "smoker": "no"
         },
         {
          "age": 23,
          "bmi": 36.67,
          "bmi_cat": "obese",
          "charges": 38511.6283,
          "children": 2,
          "region": "northeast",
          "sex": "female",
          "smoker": "yes"
         },
         {
          "age": 33,
          "bmi": 35.75,
          "bmi_cat": "obese",
          "charges": 38282.7495,
          "children": 1,
          "region": "southeast",
          "sex": "male",
          "smoker": "yes"
         },
         {
          "age": 56,
          "bmi": 36.1,
          "bmi_cat": "obese",
          "charges": 12363.546999999999,
          "children": 3,
          "region": "southwest",
          "sex": "male",
          "smoker": "no"
         },
         {
          "age": 35,
          "bmi": 34.105,
          "bmi_cat": "obese",
          "charges": 39983.42595,
          "children": 3,
          "region": "northwest",
          "sex": "female",
          "smoker": "yes"
         },
         {
          "age": 23,
          "bmi": 28,
          "bmi_cat": "overweight",
          "charges": 13126.67745,
          "children": 0,
          "region": "southwest",
          "sex": "female",
          "smoker": "no"
         },
         {
          "age": 53,
          "bmi": 41.47,
          "bmi_cat": "obese",
          "charges": 9504.3103,
          "children": 0,
          "region": "southeast",
          "sex": "male",
          "smoker": "no"
         },
         {
          "age": 62,
          "bmi": 32.965,
          "bmi_cat": "obese",
          "charges": 15612.19335,
          "children": 3,
          "region": "northwest",
          "sex": "female",
          "smoker": "no"
         },
         {
          "age": 19,
          "bmi": 19.8,
          "bmi_cat": "normal",
          "charges": 1241.565,
          "children": 0,
          "region": "southwest",
          "sex": "male",
          "smoker": "no"
         },
         {
          "age": 19,
          "bmi": 30.495,
          "bmi_cat": "obese",
          "charges": 2128.43105,
          "children": 0,
          "region": "northwest",
          "sex": "female",
          "smoker": "no"
         },
         {
          "age": 56,
          "bmi": 37.51,
          "bmi_cat": "obese",
          "charges": 12265.5069,
          "children": 2,
          "region": "southeast",
          "sex": "female",
          "smoker": "no"
         },
         {
          "age": 51,
          "bmi": 36.67,
          "bmi_cat": "obese",
          "charges": 10848.1343,
          "children": 2,
          "region": "northwest",
          "sex": "female",
          "smoker": "no"
         },
         {
          "age": 18,
          "bmi": 31.73,
          "bmi_cat": "obese",
          "charges": 33732.6867,
          "children": 0,
          "region": "northeast",
          "sex": "male",
          "smoker": "yes"
         },
         {
          "age": 56,
          "bmi": 40.3,
          "bmi_cat": "obese",
          "charges": 10602.385,
          "children": 0,
          "region": "southwest",
          "sex": "male",
          "smoker": "no"
         },
         {
          "age": 37,
          "bmi": 24.32,
          "bmi_cat": "normal",
          "charges": 6198.7518,
          "children": 2,
          "region": "northwest",
          "sex": "male",
          "smoker": "no"
         },
         {
          "age": 60,
          "bmi": 32.8,
          "bmi_cat": "obese",
          "charges": 52590.82939,
          "children": 0,
          "region": "southwest",
          "sex": "male",
          "smoker": "yes"
         },
         {
          "age": 24,
          "bmi": 40.15,
          "bmi_cat": "obese",
          "charges": 38126.2465,
          "children": 0,
          "region": "southeast",
          "sex": "male",
          "smoker": "yes"
         },
         {
          "age": 25,
          "bmi": 28.595,
          "bmi_cat": "overweight",
          "charges": 3213.62205,
          "children": 0,
          "region": "northeast",
          "sex": "female",
          "smoker": "no"
         },
         {
          "age": 20,
          "bmi": 33,
          "bmi_cat": "obese",
          "charges": 1880.07,
          "children": 0,
          "region": "southeast",
          "sex": "female",
          "smoker": "no"
         },
         {
          "age": 40,
          "bmi": 35.3,
          "bmi_cat": "obese",
          "charges": 7196.866999999999,
          "children": 3,
          "region": "southwest",
          "sex": "male",
          "smoker": "no"
         },
         {
          "age": 28,
          "bmi": 34.77,
          "bmi_cat": "obese",
          "charges": 3556.9223,
          "children": 0,
          "region": "northwest",
          "sex": "female",
          "smoker": "no"
         },
         {
          "age": 30,
          "bmi": 30.9,
          "bmi_cat": "obese",
          "charges": 5325.651,
          "children": 3,
          "region": "southwest",
          "sex": "female",
          "smoker": "no"
         },
         {
          "age": 24,
          "bmi": 26.79,
          "bmi_cat": "overweight",
          "charges": 12609.88702,
          "children": 1,
          "region": "northwest",
          "sex": "male",
          "smoker": "no"
         },
         {
          "age": 56,
          "bmi": 25.935,
          "bmi_cat": "overweight",
          "charges": 11165.41765,
          "children": 0,
          "region": "northeast",
          "sex": "male",
          "smoker": "no"
         },
         {
          "age": 48,
          "bmi": 31.445,
          "bmi_cat": "obese",
          "charges": 8964.06055,
          "children": 1,
          "region": "northeast",
          "sex": "male",
          "smoker": "no"
         },
         {
          "age": 54,
          "bmi": 31.9,
          "bmi_cat": "obese",
          "charges": 27322.733860000004,
          "children": 3,
          "region": "southeast",
          "sex": "female",
          "smoker": "no"
         },
         {
          "age": 31,
          "bmi": 34.39,
          "bmi_cat": "obese",
          "charges": 38746.3551,
          "children": 3,
          "region": "northwest",
          "sex": "male",
          "smoker": "yes"
         },
         {
          "age": 61,
          "bmi": 21.09,
          "bmi_cat": "normal",
          "charges": 13415.0381,
          "children": 0,
          "region": "northwest",
          "sex": "female",
          "smoker": "no"
         },
         {
          "age": 40,
          "bmi": 29.81,
          "bmi_cat": "overweight",
          "charges": 6500.2359,
          "children": 1,
          "region": "southeast",
          "sex": "female",
          "smoker": "no"
         },
         {
          "age": 41,
          "bmi": 32.2,
          "bmi_cat": "obese",
          "charges": 6775.960999999999,
          "children": 1,
          "region": "southwest",
          "sex": "female",
          "smoker": "no"
         },
         {
          "age": 39,
          "bmi": 34.32,
          "bmi_cat": "obese",
          "charges": 8596.8278,
          "children": 5,
          "region": "southeast",
          "sex": "female",
          "smoker": "no"
         },
         {
          "age": 50,
          "bmi": 26.6,
          "bmi_cat": "overweight",
          "charges": 8444.474,
          "children": 0,
          "region": "southwest",
          "sex": "male",
          "smoker": "no"
         },
         {
          "age": 63,
          "bmi": 36.85,
          "bmi_cat": "obese",
          "charges": 13887.9685,
          "children": 0,
          "region": "southeast",
          "sex": "female",
          "smoker": "no"
         },
         {
          "age": 36,
          "bmi": 22.6,
          "bmi_cat": "normal",
          "charges": 18608.262,
          "children": 2,
          "region": "southwest",
          "sex": "female",
          "smoker": "yes"
         },
         {
          "age": 49,
          "bmi": 31.9,
          "bmi_cat": "obese",
          "charges": 11552.903999999999,
          "children": 5,
          "region": "southwest",
          "sex": "female",
          "smoker": "no"
         },
         {
          "age": 55,
          "bmi": 30.685,
          "bmi_cat": "obese",
          "charges": 42303.69215,
          "children": 0,
          "region": "northeast",
          "sex": "male",
          "smoker": "yes"
         },
         {
          "age": 26,
          "bmi": 20.8,
          "bmi_cat": "normal",
          "charges": 2302.3,
          "children": 0,
          "region": "southwest",
          "sex": "male",
          "smoker": "no"
         },
         {
          "age": 59,
          "bmi": 34.8,
          "bmi_cat": "obese",
          "charges": 36910.60803,
          "children": 2,
          "region": "southwest",
          "sex": "female",
          "smoker": "no"
         },
         {
          "age": 44,
          "bmi": 27.645,
          "bmi_cat": "overweight",
          "charges": 7421.19455,
          "children": 0,
          "region": "northwest",
          "sex": "female",
          "smoker": "no"
         },
         {
          "age": 54,
          "bmi": 35.815,
          "bmi_cat": "obese",
          "charges": 12495.29085,
          "children": 3,
          "region": "northwest",
          "sex": "female",
          "smoker": "no"
         },
         {
          "age": 60,
          "bmi": 32.45,
          "bmi_cat": "obese",
          "charges": 45008.9555,
          "children": 0,
          "region": "southeast",
          "sex": "female",
          "smoker": "yes"
         },
         {
          "age": 56,
          "bmi": 28.31,
          "bmi_cat": "overweight",
          "charges": 11657.7189,
          "children": 0,
          "region": "northeast",
          "sex": "female",
          "smoker": "no"
         },
         {
          "age": 18,
          "bmi": 28.31,
          "bmi_cat": "overweight",
          "charges": 11272.331390000001,
          "children": 1,
          "region": "northeast",
          "sex": "male",
          "smoker": "no"
         },
         {
          "age": 42,
          "bmi": 28.31,
          "bmi_cat": "overweight",
          "charges": 32787.458589999995,
          "children": 3,
          "region": "northwest",
          "sex": "male",
          "smoker": "yes"
         },
         {
          "age": 37,
          "bmi": 23.37,
          "bmi_cat": "normal",
          "charges": 6686.4313,
          "children": 2,
          "region": "northwest",
          "sex": "female",
          "smoker": "no"
         },
         {
          "age": 19,
          "bmi": 30.02,
          "bmi_cat": "obese",
          "charges": 33307.5508,
          "children": 0,
          "region": "northwest",
          "sex": "female",
          "smoker": "yes"
         },
         {
          "age": 61,
          "bmi": 36.385,
          "bmi_cat": "obese",
          "charges": 48517.56315,
          "children": 1,
          "region": "northeast",
          "sex": "female",
          "smoker": "yes"
         },
         {
          "age": 59,
          "bmi": 29.7,
          "bmi_cat": "overweight",
          "charges": 12925.886,
          "children": 2,
          "region": "southeast",
          "sex": "male",
          "smoker": "no"
         },
         {
          "age": 31,
          "bmi": 32.68,
          "bmi_cat": "obese",
          "charges": 4738.2682,
          "children": 1,
          "region": "northwest",
          "sex": "female",
          "smoker": "no"
         },
         {
          "age": 51,
          "bmi": 18.05,
          "bmi_cat": "underweight",
          "charges": 9644.2525,
          "children": 0,
          "region": "northwest",
          "sex": "female",
          "smoker": "no"
         },
         {
          "age": 44,
          "bmi": 23.98,
          "bmi_cat": "normal",
          "charges": 8211.1002,
          "children": 2,
          "region": "southeast",
          "sex": "female",
          "smoker": "no"
         },
         {
          "age": 43,
          "bmi": 32.6,
          "bmi_cat": "obese",
          "charges": 7441.501,
          "children": 2,
          "region": "southwest",
          "sex": "male",
          "smoker": "no"
         },
         {
          "age": 29,
          "bmi": 21.85,
          "bmi_cat": "normal",
          "charges": 16115.3045,
          "children": 0,
          "region": "northeast",
          "sex": "female",
          "smoker": "yes"
         },
         {
          "age": 49,
          "bmi": 29.83,
          "bmi_cat": "overweight",
          "charges": 9288.0267,
          "children": 1,
          "region": "northeast",
          "sex": "male",
          "smoker": "no"
         },
         {
          "age": 20,
          "bmi": 40.47,
          "bmi_cat": "obese",
          "charges": 1984.4533,
          "children": 0,
          "region": "northeast",
          "sex": "male",
          "smoker": "no"
         },
         {
          "age": 55,
          "bmi": 40.81,
          "bmi_cat": "obese",
          "charges": 12485.8009,
          "children": 3,
          "region": "southeast",
          "sex": "female",
          "smoker": "no"
         },
         {
          "age": 31,
          "bmi": 26.885,
          "bmi_cat": "overweight",
          "charges": 4441.21315,
          "children": 1,
          "region": "northeast",
          "sex": "male",
          "smoker": "no"
         },
         {
          "age": 40,
          "bmi": 28.69,
          "bmi_cat": "overweight",
          "charges": 8059.6791,
          "children": 3,
          "region": "northwest",
          "sex": "female",
          "smoker": "no"
         },
         {
          "age": 19,
          "bmi": 25.555,
          "bmi_cat": "overweight",
          "charges": 1632.56445,
          "children": 0,
          "region": "northwest",
          "sex": "male",
          "smoker": "no"
         },
         {
          "age": 25,
          "bmi": 30.59,
          "bmi_cat": "obese",
          "charges": 2727.3951,
          "children": 0,
          "region": "northeast",
          "sex": "male",
          "smoker": "no"
         },
         {
          "age": 31,
          "bmi": 27.645,
          "bmi_cat": "overweight",
          "charges": 5031.26955,
          "children": 2,
          "region": "northeast",
          "sex": "male",
          "smoker": "no"
         },
         {
          "age": 31,
          "bmi": 25.74,
          "bmi_cat": "overweight",
          "charges": 3756.6216,
          "children": 0,
          "region": "southeast",
          "sex": "female",
          "smoker": "no"
         },
         {
          "age": 52,
          "bmi": 37.4,
          "bmi_cat": "obese",
          "charges": 9634.538,
          "children": 0,
          "region": "southwest",
          "sex": "female",
          "smoker": "no"
         },
         {
          "age": 41,
          "bmi": 28.8,
          "bmi_cat": "overweight",
          "charges": 6282.235,
          "children": 1,
          "region": "southwest",
          "sex": "male",
          "smoker": "no"
         },
         {
          "age": 40,
          "bmi": 32.775,
          "bmi_cat": "obese",
          "charges": 40003.33225,
          "children": 2,
          "region": "northwest",
          "sex": "female",
          "smoker": "yes"
         },
         {
          "age": 33,
          "bmi": 24.795,
          "bmi_cat": "normal",
          "charges": 17904.52705,
          "children": 0,
          "region": "northeast",
          "sex": "male",
          "smoker": "yes"
         },
         {
          "age": 60,
          "bmi": 24.53,
          "bmi_cat": "normal",
          "charges": 12629.8967,
          "children": 0,
          "region": "southeast",
          "sex": "female",
          "smoker": "no"
         },
         {
          "age": 23,
          "bmi": 31.73,
          "bmi_cat": "obese",
          "charges": 36189.1017,
          "children": 3,
          "region": "northeast",
          "sex": "male",
          "smoker": "yes"
         },
         {
          "age": 61,
          "bmi": 28.31,
          "bmi_cat": "overweight",
          "charges": 28868.6639,
          "children": 1,
          "region": "northwest",
          "sex": "male",
          "smoker": "yes"
         },
         {
          "age": 19,
          "bmi": 29.07,
          "bmi_cat": "overweight",
          "charges": 17352.6803,
          "children": 0,
          "region": "northwest",
          "sex": "male",
          "smoker": "yes"
         },
         {
          "age": 46,
          "bmi": 27.72,
          "bmi_cat": "overweight",
          "charges": 8232.6388,
          "children": 1,
          "region": "southeast",
          "sex": "female",
          "smoker": "no"
         },
         {
          "age": 25,
          "bmi": 25.74,
          "bmi_cat": "overweight",
          "charges": 2137.6536,
          "children": 0,
          "region": "southeast",
          "sex": "male",
          "smoker": "no"
         },
         {
          "age": 18,
          "bmi": 36.85,
          "bmi_cat": "obese",
          "charges": 1629.8335,
          "children": 0,
          "region": "southeast",
          "sex": "female",
          "smoker": "no"
         },
         {
          "age": 46,
          "bmi": 34.6,
          "bmi_cat": "obese",
          "charges": 41661.602,
          "children": 1,
          "region": "southwest",
          "sex": "female",
          "smoker": "yes"
         },
         {
          "age": 57,
          "bmi": 25.74,
          "bmi_cat": "overweight",
          "charges": 12629.1656,
          "children": 2,
          "region": "southeast",
          "sex": "female",
          "smoker": "no"
         },
         {
          "age": 51,
          "bmi": 37.73,
          "bmi_cat": "obese",
          "charges": 9877.6077,
          "children": 1,
          "region": "southeast",
          "sex": "female",
          "smoker": "no"
         },
         {
          "age": 19,
          "bmi": 25.555,
          "bmi_cat": "overweight",
          "charges": 2221.56445,
          "children": 1,
          "region": "northwest",
          "sex": "male",
          "smoker": "no"
         },
         {
          "age": 29,
          "bmi": 32.11,
          "bmi_cat": "obese",
          "charges": 4922.9159,
          "children": 2,
          "region": "northwest",
          "sex": "female",
          "smoker": "no"
         },
         {
          "age": 18,
          "bmi": 33.535,
          "bmi_cat": "obese",
          "charges": 34617.84065,
          "children": 0,
          "region": "northeast",
          "sex": "male",
          "smoker": "yes"
         },
         {
          "age": 61,
          "bmi": 31.57,
          "bmi_cat": "obese",
          "charges": 12557.6053,
          "children": 0,
          "region": "southeast",
          "sex": "male",
          "smoker": "no"
         },
         {
          "age": 45,
          "bmi": 33.1,
          "bmi_cat": "obese",
          "charges": 7345.084,
          "children": 0,
          "region": "southwest",
          "sex": "female",
          "smoker": "no"
         },
         {
          "age": 49,
          "bmi": 27.17,
          "bmi_cat": "overweight",
          "charges": 8601.3293,
          "children": 0,
          "region": "southeast",
          "sex": "female",
          "smoker": "no"
         },
         {
          "age": 40,
          "bmi": 27.4,
          "bmi_cat": "overweight",
          "charges": 6496.8859999999995,
          "children": 1,
          "region": "southwest",
          "sex": "female",
          "smoker": "no"
         },
         {
          "age": 52,
          "bmi": 24.13,
          "bmi_cat": "normal",
          "charges": 23887.6627,
          "children": 1,
          "region": "northwest",
          "sex": "female",
          "smoker": "yes"
         },
         {
          "age": 25,
          "bmi": 33.33,
          "bmi_cat": "obese",
          "charges": 36124.5737,
          "children": 2,
          "region": "southeast",
          "sex": "male",
          "smoker": "yes"
         },
         {
          "age": 53,
          "bmi": 22.88,
          "bmi_cat": "normal",
          "charges": 23244.7902,
          "children": 1,
          "region": "southeast",
          "sex": "female",
          "smoker": "yes"
         },
         {
          "age": 24,
          "bmi": 24.225,
          "bmi_cat": "normal",
          "charges": 2842.76075,
          "children": 0,
          "region": "northwest",
          "sex": "female",
          "smoker": "no"
         },
         {
          "age": 26,
          "bmi": 27.265,
          "bmi_cat": "overweight",
          "charges": 4661.28635,
          "children": 3,
          "region": "northeast",
          "sex": "male",
          "smoker": "no"
         },
         {
          "age": 43,
          "bmi": 27.36,
          "bmi_cat": "overweight",
          "charges": 8606.2174,
          "children": 3,
          "region": "northeast",
          "sex": "male",
          "smoker": "no"
         },
         {
          "age": 22,
          "bmi": 30.4,
          "bmi_cat": "obese",
          "charges": 2741.948,
          "children": 0,
          "region": "northeast",
          "sex": "female",
          "smoker": "no"
         },
         {
          "age": 43,
          "bmi": 24.7,
          "bmi_cat": "normal",
          "charges": 21880.82,
          "children": 2,
          "region": "northwest",
          "sex": "female",
          "smoker": "yes"
         },
         {
          "age": 25,
          "bmi": 33.99,
          "bmi_cat": "obese",
          "charges": 3227.1211,
          "children": 1,
          "region": "southeast",
          "sex": "female",
          "smoker": "no"
         },
         {
          "age": 55,
          "bmi": 27.645,
          "bmi_cat": "overweight",
          "charges": 10594.50155,
          "children": 0,
          "region": "northwest",
          "sex": "male",
          "smoker": "no"
         },
         {
          "age": 64,
          "bmi": 40.48,
          "bmi_cat": "obese",
          "charges": 13831.1152,
          "children": 0,
          "region": "southeast",
          "sex": "male",
          "smoker": "no"
         },
         {
          "age": 32,
          "bmi": 27.835,
          "bmi_cat": "overweight",
          "charges": 4454.40265,
          "children": 1,
          "region": "northwest",
          "sex": "male",
          "smoker": "no"
         },
         {
          "age": 41,
          "bmi": 34.21,
          "bmi_cat": "obese",
          "charges": 6289.7549,
          "children": 1,
          "region": "southeast",
          "sex": "male",
          "smoker": "no"
         },
         {
          "age": 52,
          "bmi": 37.525,
          "bmi_cat": "obese",
          "charges": 33471.97189,
          "children": 2,
          "region": "northwest",
          "sex": "female",
          "smoker": "no"
         },
         {
          "age": 23,
          "bmi": 34.96,
          "bmi_cat": "obese",
          "charges": 4466.6214,
          "children": 3,
          "region": "northwest",
          "sex": "female",
          "smoker": "no"
         },
         {
          "age": 23,
          "bmi": 34.865,
          "bmi_cat": "obese",
          "charges": 2899.48935,
          "children": 0,
          "region": "northeast",
          "sex": "female",
          "smoker": "no"
         },
         {
          "age": 48,
          "bmi": 27.93,
          "bmi_cat": "overweight",
          "charges": 11015.1747,
          "children": 4,
          "region": "northwest",
          "sex": "female",
          "smoker": "no"
         },
         {
          "age": 33,
          "bmi": 27.1,
          "bmi_cat": "overweight",
          "charges": 19040.876,
          "children": 1,
          "region": "southwest",
          "sex": "male",
          "smoker": "yes"
         },
         {
          "age": 60,
          "bmi": 24.035,
          "bmi_cat": "normal",
          "charges": 13012.20865,
          "children": 0,
          "region": "northwest",
          "sex": "female",
          "smoker": "no"
         },
         {
          "age": 47,
          "bmi": 27.83,
          "bmi_cat": "overweight",
          "charges": 23065.4207,
          "children": 0,
          "region": "southeast",
          "sex": "female",
          "smoker": "yes"
         },
         {
          "age": 54,
          "bmi": 30.02,
          "bmi_cat": "obese",
          "charges": 24476.47851,
          "children": 0,
          "region": "northwest",
          "sex": "male",
          "smoker": "no"
         },
         {
          "age": 26,
          "bmi": 29.45,
          "bmi_cat": "overweight",
          "charges": 2897.3235,
          "children": 0,
          "region": "northeast",
          "sex": "male",
          "smoker": "no"
         },
         {
          "age": 27,
          "bmi": 31.13,
          "bmi_cat": "obese",
          "charges": 34806.4677,
          "children": 1,
          "region": "southeast",
          "sex": "male",
          "smoker": "yes"
         },
         {
          "age": 18,
          "bmi": 17.29,
          "bmi_cat": "underweight",
          "charges": 12829.4551,
          "children": 2,
          "region": "northeast",
          "sex": "male",
          "smoker": "yes"
         },
         {
          "age": 19,
          "bmi": 35.53,
          "bmi_cat": "obese",
          "charges": 1646.4297,
          "children": 0,
          "region": "northwest",
          "sex": "male",
          "smoker": "no"
         },
         {
          "age": 61,
          "bmi": 33.915,
          "bmi_cat": "obese",
          "charges": 13143.86485,
          "children": 0,
          "region": "northeast",
          "sex": "male",
          "smoker": "no"
         },
         {
          "age": 54,
          "bmi": 30.21,
          "bmi_cat": "obese",
          "charges": 10231.4999,
          "children": 0,
          "region": "northwest",
          "sex": "male",
          "smoker": "no"
         },
         {
          "age": 18,
          "bmi": 36.85,
          "bmi_cat": "obese",
          "charges": 36149.4835,
          "children": 0,
          "region": "southeast",
          "sex": "female",
          "smoker": "yes"
         },
         {
          "age": 26,
          "bmi": 29.64,
          "bmi_cat": "overweight",
          "charges": 24671.66334,
          "children": 4,
          "region": "northeast",
          "sex": "female",
          "smoker": "no"
         },
         {
          "age": 58,
          "bmi": 27.17,
          "bmi_cat": "overweight",
          "charges": 12222.8983,
          "children": 0,
          "region": "northwest",
          "sex": "female",
          "smoker": "no"
         },
         {
          "age": 32,
          "bmi": 33.155,
          "bmi_cat": "obese",
          "charges": 6128.79745,
          "children": 3,
          "region": "northwest",
          "sex": "female",
          "smoker": "no"
         },
         {
          "age": 33,
          "bmi": 33.5,
          "bmi_cat": "obese",
          "charges": 37079.372,
          "children": 0,
          "region": "southwest",
          "sex": "female",
          "smoker": "yes"
         },
         {
          "age": 21,
          "bmi": 36.86,
          "bmi_cat": "obese",
          "charges": 1917.3184,
          "children": 0,
          "region": "northwest",
          "sex": "male",
          "smoker": "no"
         },
         {
          "age": 21,
          "bmi": 35.53,
          "bmi_cat": "obese",
          "charges": 1532.4697,
          "children": 0,
          "region": "southeast",
          "sex": "male",
          "smoker": "no"
         },
         {
          "age": 37,
          "bmi": 17.29,
          "bmi_cat": "underweight",
          "charges": 6877.9801,
          "children": 2,
          "region": "northeast",
          "sex": "female",
          "smoker": "no"
         },
         {
          "age": 18,
          "bmi": 25.08,
          "bmi_cat": "overweight",
          "charges": 2196.4732,
          "children": 0,
          "region": "northeast",
          "sex": "female",
          "smoker": "no"
         },
         {
          "age": 26,
          "bmi": 29.15,
          "bmi_cat": "overweight",
          "charges": 2902.9065,
          "children": 1,
          "region": "southeast",
          "sex": "male",
          "smoker": "no"
         },
         {
          "age": 44,
          "bmi": 25.365,
          "bmi_cat": "overweight",
          "charges": 7518.02535,
          "children": 1,
          "region": "northwest",
          "sex": "male",
          "smoker": "no"
         },
         {
          "age": 56,
          "bmi": 26.695,
          "bmi_cat": "overweight",
          "charges": 26109.32905,
          "children": 1,
          "region": "northwest",
          "sex": "male",
          "smoker": "yes"
         },
         {
          "age": 64,
          "bmi": 31.3,
          "bmi_cat": "obese",
          "charges": 47291.055,
          "children": 2,
          "region": "southwest",
          "sex": "female",
          "smoker": "yes"
         },
         {
          "age": 48,
          "bmi": 29.6,
          "bmi_cat": "overweight",
          "charges": 21232.182259999998,
          "children": 0,
          "region": "southwest",
          "sex": "male",
          "smoker": "no"
         },
         {
          "age": 64,
          "bmi": 30.115,
          "bmi_cat": "obese",
          "charges": 16455.70785,
          "children": 3,
          "region": "northwest",
          "sex": "female",
          "smoker": "no"
         },
         {
          "age": 62,
          "bmi": 30.02,
          "bmi_cat": "obese",
          "charges": 13352.0998,
          "children": 0,
          "region": "northwest",
          "sex": "male",
          "smoker": "no"
         },
         {
          "age": 34,
          "bmi": 33.7,
          "bmi_cat": "obese",
          "charges": 5012.471,
          "children": 1,
          "region": "southwest",
          "sex": "female",
          "smoker": "no"
         },
         {
          "age": 45,
          "bmi": 30.495,
          "bmi_cat": "obese",
          "charges": 39725.51805,
          "children": 1,
          "region": "northwest",
          "sex": "female",
          "smoker": "yes"
         },
         {
          "age": 42,
          "bmi": 26.6,
          "bmi_cat": "overweight",
          "charges": 21348.706000000002,
          "children": 0,
          "region": "northwest",
          "sex": "female",
          "smoker": "yes"
         },
         {
          "age": 55,
          "bmi": 37.1,
          "bmi_cat": "obese",
          "charges": 10713.643999999998,
          "children": 0,
          "region": "southwest",
          "sex": "female",
          "smoker": "no"
         },
         {
          "age": 56,
          "bmi": 25.65,
          "bmi_cat": "overweight",
          "charges": 11454.0215,
          "children": 0,
          "region": "northwest",
          "sex": "female",
          "smoker": "no"
         },
         {
          "age": 33,
          "bmi": 22.135,
          "bmi_cat": "normal",
          "charges": 5354.07465,
          "children": 1,
          "region": "northeast",
          "sex": "female",
          "smoker": "no"
         },
         {
          "age": 20,
          "bmi": 32.395,
          "bmi_cat": "obese",
          "charges": 2362.22905,
          "children": 1,
          "region": "northwest",
          "sex": "male",
          "smoker": "no"
         },
         {
          "age": 24,
          "bmi": 29.83,
          "bmi_cat": "overweight",
          "charges": 18648.4217,
          "children": 0,
          "region": "northeast",
          "sex": "male",
          "smoker": "yes"
         },
         {
          "age": 38,
          "bmi": 28.025,
          "bmi_cat": "overweight",
          "charges": 6067.12675,
          "children": 1,
          "region": "northeast",
          "sex": "male",
          "smoker": "no"
         },
         {
          "age": 36,
          "bmi": 28.025,
          "bmi_cat": "overweight",
          "charges": 20773.62775,
          "children": 1,
          "region": "northeast",
          "sex": "male",
          "smoker": "yes"
         },
         {
          "age": 33,
          "bmi": 24.31,
          "bmi_cat": "normal",
          "charges": 4185.0979,
          "children": 0,
          "region": "southeast",
          "sex": "female",
          "smoker": "no"
         },
         {
          "age": 41,
          "bmi": 31.635,
          "bmi_cat": "obese",
          "charges": 7358.17565,
          "children": 1,
          "region": "northeast",
          "sex": "female",
          "smoker": "no"
         },
         {
          "age": 19,
          "bmi": 34.8,
          "bmi_cat": "obese",
          "charges": 34779.615,
          "children": 0,
          "region": "southwest",
          "sex": "male",
          "smoker": "yes"
         },
         {
          "age": 31,
          "bmi": 29.26,
          "bmi_cat": "overweight",
          "charges": 4350.5144,
          "children": 1,
          "region": "southeast",
          "sex": "female",
          "smoker": "no"
         },
         {
          "age": 47,
          "bmi": 33.345,
          "bmi_cat": "obese",
          "charges": 20878.78443,
          "children": 0,
          "region": "northeast",
          "sex": "female",
          "smoker": "no"
         },
         {
          "age": 56,
          "bmi": 33.725,
          "bmi_cat": "obese",
          "charges": 10976.24575,
          "children": 0,
          "region": "northwest",
          "sex": "male",
          "smoker": "no"
         },
         {
          "age": 45,
          "bmi": 39.995,
          "bmi_cat": "obese",
          "charges": 9704.66805,
          "children": 3,
          "region": "northeast",
          "sex": "female",
          "smoker": "no"
         },
         {
          "age": 63,
          "bmi": 41.47,
          "bmi_cat": "obese",
          "charges": 13405.3903,
          "children": 0,
          "region": "southeast",
          "sex": "male",
          "smoker": "no"
         },
         {
          "age": 18,
          "bmi": 34.1,
          "bmi_cat": "obese",
          "charges": 1137.011,
          "children": 0,
          "region": "southeast",
          "sex": "male",
          "smoker": "no"
         },
         {
          "age": 19,
          "bmi": 44.88,
          "bmi_cat": "obese",
          "charges": 39722.7462,
          "children": 0,
          "region": "southeast",
          "sex": "male",
          "smoker": "yes"
         },
         {
          "age": 51,
          "bmi": 39.5,
          "bmi_cat": "obese",
          "charges": 9880.068000000001,
          "children": 1,
          "region": "southwest",
          "sex": "female",
          "smoker": "no"
         },
         {
          "age": 36,
          "bmi": 27.55,
          "bmi_cat": "overweight",
          "charges": 6746.7425,
          "children": 3,
          "region": "northeast",
          "sex": "male",
          "smoker": "no"
         },
         {
          "age": 50,
          "bmi": 28.12,
          "bmi_cat": "overweight",
          "charges": 11085.5868,
          "children": 3,
          "region": "northwest",
          "sex": "female",
          "smoker": "no"
         },
         {
          "age": 22,
          "bmi": 39.805,
          "bmi_cat": "obese",
          "charges": 2755.02095,
          "children": 0,
          "region": "northeast",
          "sex": "female",
          "smoker": "no"
         },
         {
          "age": 56,
          "bmi": 32.11,
          "bmi_cat": "obese",
          "charges": 11763.0009,
          "children": 1,
          "region": "northeast",
          "sex": "male",
          "smoker": "no"
         },
         {
          "age": 22,
          "bmi": 31.35,
          "bmi_cat": "obese",
          "charges": 2643.2685,
          "children": 1,
          "region": "northwest",
          "sex": "male",
          "smoker": "no"
         },
         {
          "age": 32,
          "bmi": 29.8,
          "bmi_cat": "overweight",
          "charges": 5152.134,
          "children": 2,
          "region": "southwest",
          "sex": "female",
          "smoker": "no"
         },
         {
          "age": 18,
          "bmi": 26.73,
          "bmi_cat": "overweight",
          "charges": 1615.7667,
          "children": 0,
          "region": "southeast",
          "sex": "female",
          "smoker": "no"
         },
         {
          "age": 52,
          "bmi": 30.2,
          "bmi_cat": "obese",
          "charges": 9724.53,
          "children": 1,
          "region": "southwest",
          "sex": "male",
          "smoker": "no"
         },
         {
          "age": 33,
          "bmi": 19.095,
          "bmi_cat": "normal",
          "charges": 16776.30405,
          "children": 2,
          "region": "northeast",
          "sex": "female",
          "smoker": "yes"
         },
         {
          "age": 23,
          "bmi": 28.49,
          "bmi_cat": "overweight",
          "charges": 18328.2381,
          "children": 1,
          "region": "southeast",
          "sex": "female",
          "smoker": "yes"
         },
         {
          "age": 63,
          "bmi": 39.8,
          "bmi_cat": "obese",
          "charges": 15170.069,
          "children": 3,
          "region": "southwest",
          "sex": "male",
          "smoker": "no"
         },
         {
          "age": 41,
          "bmi": 36.08,
          "bmi_cat": "obese",
          "charges": 6781.3542,
          "children": 1,
          "region": "southeast",
          "sex": "female",
          "smoker": "no"
         },
         {
          "age": 27,
          "bmi": 28.5,
          "bmi_cat": "overweight",
          "charges": 18310.742,
          "children": 0,
          "region": "northwest",
          "sex": "male",
          "smoker": "yes"
         },
         {
          "age": 63,
          "bmi": 31.8,
          "bmi_cat": "obese",
          "charges": 13880.948999999999,
          "children": 0,
          "region": "southwest",
          "sex": "female",
          "smoker": "no"
         },
         {
          "age": 29,
          "bmi": 22.895,
          "bmi_cat": "normal",
          "charges": 16138.76205,
          "children": 0,
          "region": "northeast",
          "sex": "male",
          "smoker": "yes"
         },
         {
          "age": 62,
          "bmi": 32.11,
          "bmi_cat": "obese",
          "charges": 13555.0049,
          "children": 0,
          "region": "northeast",
          "sex": "male",
          "smoker": "no"
         },
         {
          "age": 47,
          "bmi": 29.83,
          "bmi_cat": "overweight",
          "charges": 9620.3307,
          "children": 3,
          "region": "northwest",
          "sex": "male",
          "smoker": "no"
         },
         {
          "age": 58,
          "bmi": 32.965,
          "bmi_cat": "obese",
          "charges": 12430.95335,
          "children": 0,
          "region": "northeast",
          "sex": "female",
          "smoker": "no"
         },
         {
          "age": 36,
          "bmi": 19.855,
          "bmi_cat": "normal",
          "charges": 5458.04645,
          "children": 0,
          "region": "northeast",
          "sex": "female",
          "smoker": "no"
         },
         {
          "age": 33,
          "bmi": 27.455,
          "bmi_cat": "overweight",
          "charges": 5261.46945,
          "children": 2,
          "region": "northwest",
          "sex": "male",
          "smoker": "no"
         },
         {
          "age": 32,
          "bmi": 17.765,
          "bmi_cat": "underweight",
          "charges": 32734.1863,
          "children": 2,
          "region": "northwest",
          "sex": "female",
          "smoker": "yes"
         },
         {
          "age": 23,
          "bmi": 50.38,
          "bmi_cat": "obese",
          "charges": 2438.0552,
          "children": 1,
          "region": "southeast",
          "sex": "male",
          "smoker": "no"
         },
         {
          "age": 35,
          "bmi": 38.6,
          "bmi_cat": "obese",
          "charges": 4762.329000000001,
          "children": 1,
          "region": "southwest",
          "sex": "male",
          "smoker": "no"
         },
         {
          "age": 59,
          "bmi": 27.83,
          "bmi_cat": "overweight",
          "charges": 14001.2867,
          "children": 3,
          "region": "southeast",
          "sex": "female",
          "smoker": "no"
         },
         {
          "age": 56,
          "bmi": 28.785,
          "bmi_cat": "overweight",
          "charges": 11658.37915,
          "children": 0,
          "region": "northeast",
          "sex": "female",
          "smoker": "no"
         },
         {
          "age": 46,
          "bmi": 19.855,
          "bmi_cat": "normal",
          "charges": 7526.70645,
          "children": 0,
          "region": "northwest",
          "sex": "male",
          "smoker": "no"
         },
         {
          "age": 61,
          "bmi": 23.655,
          "bmi_cat": "normal",
          "charges": 13129.60345,
          "children": 0,
          "region": "northeast",
          "sex": "male",
          "smoker": "no"
         },
         {
          "age": 52,
          "bmi": 38.6,
          "bmi_cat": "obese",
          "charges": 10325.206,
          "children": 2,
          "region": "southwest",
          "sex": "male",
          "smoker": "no"
         },
         {
          "age": 39,
          "bmi": 26.41,
          "bmi_cat": "overweight",
          "charges": 20149.3229,
          "children": 0,
          "region": "northeast",
          "sex": "male",
          "smoker": "yes"
         },
         {
          "age": 52,
          "bmi": 32.775,
          "bmi_cat": "obese",
          "charges": 11289.10925,
          "children": 3,
          "region": "northwest",
          "sex": "male",
          "smoker": "no"
         },
         {
          "age": 19,
          "bmi": 36.955,
          "bmi_cat": "obese",
          "charges": 36219.40545,
          "children": 0,
          "region": "northwest",
          "sex": "male",
          "smoker": "yes"
         },
         {
          "age": 53,
          "bmi": 32.3,
          "bmi_cat": "obese",
          "charges": 29186.48236,
          "children": 2,
          "region": "northeast",
          "sex": "female",
          "smoker": "no"
         },
         {
          "age": 19,
          "bmi": 32.11,
          "bmi_cat": "obese",
          "charges": 2130.6759,
          "children": 0,
          "region": "northwest",
          "sex": "female",
          "smoker": "no"
         },
         {
          "age": 21,
          "bmi": 33.63,
          "bmi_cat": "obese",
          "charges": 3579.8287,
          "children": 2,
          "region": "northwest",
          "sex": "female",
          "smoker": "no"
         },
         {
          "age": 42,
          "bmi": 24.64,
          "bmi_cat": "normal",
          "charges": 19515.5416,
          "children": 0,
          "region": "southeast",
          "sex": "male",
          "smoker": "yes"
         },
         {
          "age": 49,
          "bmi": 33.345,
          "bmi_cat": "obese",
          "charges": 10370.91255,
          "children": 2,
          "region": "northeast",
          "sex": "female",
          "smoker": "no"
         },
         {
          "age": 50,
          "bmi": 25.3,
          "bmi_cat": "overweight",
          "charges": 8442.667,
          "children": 0,
          "region": "southeast",
          "sex": "male",
          "smoker": "no"
         },
         {
          "age": 38,
          "bmi": 19.475,
          "bmi_cat": "normal",
          "charges": 6933.24225,
          "children": 2,
          "region": "northwest",
          "sex": "female",
          "smoker": "no"
         },
         {
          "age": 22,
          "bmi": 26.84,
          "bmi_cat": "overweight",
          "charges": 1664.9996,
          "children": 0,
          "region": "southeast",
          "sex": "male",
          "smoker": "no"
         },
         {
          "age": 35,
          "bmi": 26.125,
          "bmi_cat": "overweight",
          "charges": 5227.98875,
          "children": 0,
          "region": "northeast",
          "sex": "female",
          "smoker": "no"
         },
         {
          "age": 18,
          "bmi": 23.085,
          "bmi_cat": "normal",
          "charges": 1704.70015,
          "children": 0,
          "region": "northeast",
          "sex": "male",
          "smoker": "no"
         },
         {
          "age": 30,
          "bmi": 35.3,
          "bmi_cat": "obese",
          "charges": 36837.467000000004,
          "children": 0,
          "region": "southwest",
          "sex": "male",
          "smoker": "yes"
         },
         {
          "age": 28,
          "bmi": 28.88,
          "bmi_cat": "overweight",
          "charges": 4337.7352,
          "children": 1,
          "region": "northeast",
          "sex": "female",
          "smoker": "no"
         },
         {
          "age": 44,
          "bmi": 31.35,
          "bmi_cat": "obese",
          "charges": 39556.4945,
          "children": 1,
          "region": "northeast",
          "sex": "male",
          "smoker": "yes"
         },
         {
          "age": 47,
          "bmi": 19.57,
          "bmi_cat": "normal",
          "charges": 8428.0693,
          "children": 1,
          "region": "northwest",
          "sex": "male",
          "smoker": "no"
         },
         {
          "age": 52,
          "bmi": 33.3,
          "bmi_cat": "obese",
          "charges": 10806.839,
          "children": 2,
          "region": "southwest",
          "sex": "female",
          "smoker": "no"
         },
         {
          "age": 29,
          "bmi": 35.5,
          "bmi_cat": "obese",
          "charges": 44585.45587,
          "children": 2,
          "region": "southwest",
          "sex": "male",
          "smoker": "yes"
         },
         {
          "age": 38,
          "bmi": 37.05,
          "bmi_cat": "obese",
          "charges": 6079.6715,
          "children": 1,
          "region": "northeast",
          "sex": "male",
          "smoker": "no"
         },
         {
          "age": 52,
          "bmi": 27.36,
          "bmi_cat": "overweight",
          "charges": 24393.6224,
          "children": 0,
          "region": "northwest",
          "sex": "male",
          "smoker": "yes"
         },
         {
          "age": 40,
          "bmi": 28.12,
          "bmi_cat": "overweight",
          "charges": 22331.5668,
          "children": 1,
          "region": "northeast",
          "sex": "female",
          "smoker": "yes"
         },
         {
          "age": 21,
          "bmi": 39.49,
          "bmi_cat": "obese",
          "charges": 2026.9741,
          "children": 0,
          "region": "southeast",
          "sex": "female",
          "smoker": "no"
         },
         {
          "age": 48,
          "bmi": 31.13,
          "bmi_cat": "obese",
          "charges": 8280.6227,
          "children": 0,
          "region": "southeast",
          "sex": "female",
          "smoker": "no"
         },
         {
          "age": 22,
          "bmi": 25.175,
          "bmi_cat": "overweight",
          "charges": 2045.68525,
          "children": 0,
          "region": "northwest",
          "sex": "male",
          "smoker": "no"
         },
         {
          "age": 51,
          "bmi": 34.1,
          "bmi_cat": "obese",
          "charges": 9283.562,
          "children": 0,
          "region": "southeast",
          "sex": "female",
          "smoker": "no"
         },
         {
          "age": 40,
          "bmi": 29.3,
          "bmi_cat": "overweight",
          "charges": 15828.821730000001,
          "children": 4,
          "region": "southwest",
          "sex": "female",
          "smoker": "no"
         },
         {
          "age": 48,
          "bmi": 30.2,
          "bmi_cat": "obese",
          "charges": 8968.33,
          "children": 2,
          "region": "southwest",
          "sex": "male",
          "smoker": "no"
         },
         {
          "age": 53,
          "bmi": 28.88,
          "bmi_cat": "overweight",
          "charges": 9869.8102,
          "children": 0,
          "region": "northwest",
          "sex": "male",
          "smoker": "no"
         },
         {
          "age": 55,
          "bmi": 35.245,
          "bmi_cat": "obese",
          "charges": 11394.06555,
          "children": 1,
          "region": "northeast",
          "sex": "male",
          "smoker": "no"
         },
         {
          "age": 18,
          "bmi": 29.37,
          "bmi_cat": "overweight",
          "charges": 1719.4363,
          "children": 1,
          "region": "southeast",
          "sex": "male",
          "smoker": "no"
         },
         {
          "age": 41,
          "bmi": 40.26,
          "bmi_cat": "obese",
          "charges": 5709.1644,
          "children": 0,
          "region": "southeast",
          "sex": "male",
          "smoker": "no"
         },
         {
          "age": 38,
          "bmi": 19.95,
          "bmi_cat": "normal",
          "charges": 7133.9025,
          "children": 2,
          "region": "northeast",
          "sex": "female",
          "smoker": "no"
         },
         {
          "age": 20,
          "bmi": 37,
          "bmi_cat": "obese",
          "charges": 4830.63,
          "children": 5,
          "region": "southwest",
          "sex": "female",
          "smoker": "no"
         },
         {
          "age": 48,
          "bmi": 40.15,
          "bmi_cat": "obese",
          "charges": 7804.1605,
          "children": 0,
          "region": "southeast",
          "sex": "male",
          "smoker": "no"
         },
         {
          "age": 50,
          "bmi": 31.825,
          "bmi_cat": "obese",
          "charges": 41097.16175,
          "children": 0,
          "region": "northeast",
          "sex": "male",
          "smoker": "yes"
         },
         {
          "age": 56,
          "bmi": 22.1,
          "bmi_cat": "normal",
          "charges": 10577.087,
          "children": 0,
          "region": "southwest",
          "sex": "male",
          "smoker": "no"
         },
         {
          "age": 40,
          "bmi": 22.705,
          "bmi_cat": "normal",
          "charges": 7173.35995,
          "children": 2,
          "region": "northeast",
          "sex": "male",
          "smoker": "no"
         },
         {
          "age": 27,
          "bmi": 24.75,
          "bmi_cat": "normal",
          "charges": 16577.7795,
          "children": 0,
          "region": "southeast",
          "sex": "female",
          "smoker": "yes"
         },
         {
          "age": 53,
          "bmi": 26.7,
          "bmi_cat": "overweight",
          "charges": 11150.78,
          "children": 2,
          "region": "southwest",
          "sex": "female",
          "smoker": "no"
         },
         {
          "age": 50,
          "bmi": 28.16,
          "bmi_cat": "overweight",
          "charges": 10702.6424,
          "children": 3,
          "region": "southeast",
          "sex": "female",
          "smoker": "no"
         },
         {
          "age": 51,
          "bmi": 33.33,
          "bmi_cat": "obese",
          "charges": 10560.4917,
          "children": 3,
          "region": "southeast",
          "sex": "male",
          "smoker": "no"
         },
         {
          "age": 22,
          "bmi": 31.73,
          "bmi_cat": "obese",
          "charges": 2254.7967,
          "children": 0,
          "region": "northeast",
          "sex": "male",
          "smoker": "no"
         },
         {
          "age": 19,
          "bmi": 18.6,
          "bmi_cat": "normal",
          "charges": 1728.8970000000002,
          "children": 0,
          "region": "southwest",
          "sex": "female",
          "smoker": "no"
         },
         {
          "age": 25,
          "bmi": 25.84,
          "bmi_cat": "overweight",
          "charges": 3309.7926,
          "children": 1,
          "region": "northeast",
          "sex": "male",
          "smoker": "no"
         },
         {
          "age": 28,
          "bmi": 30.875,
          "bmi_cat": "obese",
          "charges": 3062.50825,
          "children": 0,
          "region": "northwest",
          "sex": "male",
          "smoker": "no"
         },
         {
          "age": 34,
          "bmi": 42.13,
          "bmi_cat": "obese",
          "charges": 5124.1887,
          "children": 2,
          "region": "southeast",
          "sex": "male",
          "smoker": "no"
         },
         {
          "age": 44,
          "bmi": 20.235,
          "bmi_cat": "normal",
          "charges": 19594.80965,
          "children": 1,
          "region": "northeast",
          "sex": "female",
          "smoker": "yes"
         },
         {
          "age": 55,
          "bmi": 35.2,
          "bmi_cat": "obese",
          "charges": 44423.803,
          "children": 0,
          "region": "southeast",
          "sex": "female",
          "smoker": "yes"
         },
         {
          "age": 56,
          "bmi": 34.43,
          "bmi_cat": "obese",
          "charges": 10594.2257,
          "children": 0,
          "region": "southeast",
          "sex": "male",
          "smoker": "no"
         },
         {
          "age": 36,
          "bmi": 29.7,
          "bmi_cat": "overweight",
          "charges": 4399.731,
          "children": 0,
          "region": "southeast",
          "sex": "male",
          "smoker": "no"
         },
         {
          "age": 33,
          "bmi": 42.46,
          "bmi_cat": "obese",
          "charges": 11326.71487,
          "children": 1,
          "region": "southeast",
          "sex": "male",
          "smoker": "no"
         },
         {
          "age": 55,
          "bmi": 37.3,
          "bmi_cat": "obese",
          "charges": 20630.28351,
          "children": 0,
          "region": "southwest",
          "sex": "male",
          "smoker": "no"
         },
         {
          "age": 54,
          "bmi": 32.3,
          "bmi_cat": "obese",
          "charges": 11512.405,
          "children": 1,
          "region": "northeast",
          "sex": "female",
          "smoker": "no"
         },
         {
          "age": 57,
          "bmi": 42.13,
          "bmi_cat": "obese",
          "charges": 48675.5177,
          "children": 1,
          "region": "southeast",
          "sex": "male",
          "smoker": "yes"
         },
         {
          "age": 57,
          "bmi": 33.63,
          "bmi_cat": "obese",
          "charges": 11945.1327,
          "children": 1,
          "region": "northwest",
          "sex": "male",
          "smoker": "no"
         },
         {
          "age": 51,
          "bmi": 36.385,
          "bmi_cat": "obese",
          "charges": 11436.73815,
          "children": 3,
          "region": "northwest",
          "sex": "female",
          "smoker": "no"
         },
         {
          "age": 52,
          "bmi": 23.18,
          "bmi_cat": "normal",
          "charges": 10197.7722,
          "children": 0,
          "region": "northeast",
          "sex": "female",
          "smoker": "no"
         },
         {
          "age": 24,
          "bmi": 23.21,
          "bmi_cat": "normal",
          "charges": 25081.76784,
          "children": 0,
          "region": "southeast",
          "sex": "female",
          "smoker": "no"
         },
         {
          "age": 47,
          "bmi": 36.2,
          "bmi_cat": "obese",
          "charges": 8068.185,
          "children": 1,
          "region": "southwest",
          "sex": "male",
          "smoker": "no"
         },
         {
          "age": 53,
          "bmi": 33.25,
          "bmi_cat": "obese",
          "charges": 10564.8845,
          "children": 0,
          "region": "northeast",
          "sex": "female",
          "smoker": "no"
         },
         {
          "age": 39,
          "bmi": 34.1,
          "bmi_cat": "obese",
          "charges": 23563.016180000002,
          "children": 2,
          "region": "southeast",
          "sex": "male",
          "smoker": "no"
         },
         {
          "age": 21,
          "bmi": 25.8,
          "bmi_cat": "overweight",
          "charges": 2007.945,
          "children": 0,
          "region": "southwest",
          "sex": "female",
          "smoker": "no"
         },
         {
          "age": 18,
          "bmi": 23.75,
          "bmi_cat": "normal",
          "charges": 1705.6245,
          "children": 0,
          "region": "northeast",
          "sex": "male",
          "smoker": "no"
         },
         {
          "age": 42,
          "bmi": 34.1,
          "bmi_cat": "obese",
          "charges": 5979.731,
          "children": 0,
          "region": "southwest",
          "sex": "male",
          "smoker": "no"
         },
         {
          "age": 43,
          "bmi": 26.03,
          "bmi_cat": "overweight",
          "charges": 6837.3687,
          "children": 0,
          "region": "northeast",
          "sex": "male",
          "smoker": "no"
         },
         {
          "age": 22,
          "bmi": 34.8,
          "bmi_cat": "obese",
          "charges": 3443.0640000000003,
          "children": 3,
          "region": "southwest",
          "sex": "male",
          "smoker": "no"
         },
         {
          "age": 54,
          "bmi": 31.24,
          "bmi_cat": "obese",
          "charges": 10338.9316,
          "children": 0,
          "region": "southeast",
          "sex": "female",
          "smoker": "no"
         },
         {
          "age": 53,
          "bmi": 34.105,
          "bmi_cat": "obese",
          "charges": 43254.41795,
          "children": 0,
          "region": "northeast",
          "sex": "male",
          "smoker": "yes"
         },
         {
          "age": 34,
          "bmi": 27.835,
          "bmi_cat": "overweight",
          "charges": 20009.63365,
          "children": 1,
          "region": "northwest",
          "sex": "male",
          "smoker": "yes"
         },
         {
          "age": 19,
          "bmi": 31.825,
          "bmi_cat": "obese",
          "charges": 2719.27975,
          "children": 1,
          "region": "northwest",
          "sex": "female",
          "smoker": "no"
         },
         {
          "age": 18,
          "bmi": 40.28,
          "bmi_cat": "obese",
          "charges": 2217.6012,
          "children": 0,
          "region": "northeast",
          "sex": "female",
          "smoker": "no"
         },
         {
          "age": 63,
          "bmi": 25.08,
          "bmi_cat": "overweight",
          "charges": 14254.6082,
          "children": 0,
          "region": "northwest",
          "sex": "female",
          "smoker": "no"
         },
         {
          "age": 46,
          "bmi": 19.95,
          "bmi_cat": "normal",
          "charges": 9193.8385,
          "children": 2,
          "region": "northwest",
          "sex": "female",
          "smoker": "no"
         },
         {
          "age": 24,
          "bmi": 27.6,
          "bmi_cat": "overweight",
          "charges": 18955.22017,
          "children": 0,
          "region": "southwest",
          "sex": "female",
          "smoker": "no"
         },
         {
          "age": 25,
          "bmi": 26.79,
          "bmi_cat": "overweight",
          "charges": 4189.1131,
          "children": 2,
          "region": "northwest",
          "sex": "female",
          "smoker": "no"
         },
         {
          "age": 32,
          "bmi": 37.335,
          "bmi_cat": "obese",
          "charges": 4667.60765,
          "children": 1,
          "region": "northeast",
          "sex": "male",
          "smoker": "no"
         },
         {
          "age": 19,
          "bmi": 30.25,
          "bmi_cat": "obese",
          "charges": 32548.3405,
          "children": 0,
          "region": "southeast",
          "sex": "male",
          "smoker": "yes"
         },
         {
          "age": 55,
          "bmi": 28.975,
          "bmi_cat": "overweight",
          "charges": 10796.35025,
          "children": 0,
          "region": "northeast",
          "sex": "male",
          "smoker": "no"
         },
         {
          "age": 18,
          "bmi": 33.77,
          "bmi_cat": "obese",
          "charges": 1725.5523,
          "children": 1,
          "region": "southeast",
          "sex": "male",
          "smoker": "no"
         },
         {
          "age": 54,
          "bmi": 21.01,
          "bmi_cat": "normal",
          "charges": 11013.7119,
          "children": 2,
          "region": "southeast",
          "sex": "male",
          "smoker": "no"
         },
         {
          "age": 37,
          "bmi": 37.07,
          "bmi_cat": "obese",
          "charges": 39871.7043,
          "children": 1,
          "region": "southeast",
          "sex": "male",
          "smoker": "yes"
         },
         {
          "age": 54,
          "bmi": 33.63,
          "bmi_cat": "obese",
          "charges": 10825.2537,
          "children": 1,
          "region": "northwest",
          "sex": "male",
          "smoker": "no"
         },
         {
          "age": 32,
          "bmi": 31.5,
          "bmi_cat": "obese",
          "charges": 4076.4970000000003,
          "children": 1,
          "region": "southwest",
          "sex": "male",
          "smoker": "no"
         },
         {
          "age": 26,
          "bmi": 35.42,
          "bmi_cat": "obese",
          "charges": 2322.6218,
          "children": 0,
          "region": "southeast",
          "sex": "male",
          "smoker": "no"
         },
         {
          "age": 40,
          "bmi": 29.6,
          "bmi_cat": "overweight",
          "charges": 5910.944,
          "children": 0,
          "region": "southwest",
          "sex": "female",
          "smoker": "no"
         },
         {
          "age": 23,
          "bmi": 23.18,
          "bmi_cat": "normal",
          "charges": 14426.07385,
          "children": 2,
          "region": "northwest",
          "sex": "female",
          "smoker": "no"
         },
         {
          "age": 51,
          "bmi": 33.915,
          "bmi_cat": "obese",
          "charges": 9866.30485,
          "children": 0,
          "region": "northeast",
          "sex": "female",
          "smoker": "no"
         },
         {
          "age": 49,
          "bmi": 30.9,
          "bmi_cat": "obese",
          "charges": 39727.614,
          "children": 0,
          "region": "southwest",
          "sex": "male",
          "smoker": "yes"
         },
         {
          "age": 43,
          "bmi": 35.72,
          "bmi_cat": "obese",
          "charges": 19144.57652,
          "children": 2,
          "region": "northeast",
          "sex": "female",
          "smoker": "no"
         },
         {
          "age": 58,
          "bmi": 36.955,
          "bmi_cat": "obese",
          "charges": 47496.49445,
          "children": 2,
          "region": "northwest",
          "sex": "male",
          "smoker": "yes"
         },
         {
          "age": 36,
          "bmi": 22.135,
          "bmi_cat": "normal",
          "charges": 7228.21565,
          "children": 3,
          "region": "northeast",
          "sex": "female",
          "smoker": "no"
         },
         {
          "age": 52,
          "bmi": 34.485,
          "bmi_cat": "obese",
          "charges": 60021.39897,
          "children": 3,
          "region": "northwest",
          "sex": "male",
          "smoker": "yes"
         },
         {
          "age": 59,
          "bmi": 26.4,
          "bmi_cat": "overweight",
          "charges": 11743.298999999999,
          "children": 0,
          "region": "southeast",
          "sex": "male",
          "smoker": "no"
         },
         {
          "age": 60,
          "bmi": 33.11,
          "bmi_cat": "obese",
          "charges": 13919.8229,
          "children": 3,
          "region": "southeast",
          "sex": "male",
          "smoker": "no"
         },
         {
          "age": 18,
          "bmi": 39.16,
          "bmi_cat": "obese",
          "charges": 1633.0444,
          "children": 0,
          "region": "southeast",
          "sex": "female",
          "smoker": "no"
         },
         {
          "age": 59,
          "bmi": 27.5,
          "bmi_cat": "overweight",
          "charges": 12233.828000000001,
          "children": 0,
          "region": "southwest",
          "sex": "female",
          "smoker": "no"
         },
         {
          "age": 58,
          "bmi": 39.05,
          "bmi_cat": "obese",
          "charges": 11856.4115,
          "children": 0,
          "region": "southeast",
          "sex": "female",
          "smoker": "no"
         },
         {
          "age": 52,
          "bmi": 24.32,
          "bmi_cat": "normal",
          "charges": 24869.8368,
          "children": 3,
          "region": "northeast",
          "sex": "male",
          "smoker": "yes"
         },
         {
          "age": 40,
          "bmi": 26.315,
          "bmi_cat": "overweight",
          "charges": 6389.37785,
          "children": 1,
          "region": "northwest",
          "sex": "male",
          "smoker": "no"
         },
         {
          "age": 18,
          "bmi": 33.33,
          "bmi_cat": "obese",
          "charges": 1135.9407,
          "children": 0,
          "region": "southeast",
          "sex": "male",
          "smoker": "no"
         },
         {
          "age": 21,
          "bmi": 31.255,
          "bmi_cat": "obese",
          "charges": 1909.52745,
          "children": 0,
          "region": "northwest",
          "sex": "male",
          "smoker": "no"
         },
         {
          "age": 18,
          "bmi": 32.12,
          "bmi_cat": "obese",
          "charges": 2801.2588,
          "children": 2,
          "region": "southeast",
          "sex": "female",
          "smoker": "no"
         },
         {
          "age": 18,
          "bmi": 28.215,
          "bmi_cat": "overweight",
          "charges": 2200.83085,
          "children": 0,
          "region": "northeast",
          "sex": "female",
          "smoker": "no"
         },
         {
          "age": 27,
          "bmi": 29.15,
          "bmi_cat": "overweight",
          "charges": 18246.4955,
          "children": 0,
          "region": "southeast",
          "sex": "male",
          "smoker": "yes"
         },
         {
          "age": 37,
          "bmi": 29.8,
          "bmi_cat": "overweight",
          "charges": 20420.60465,
          "children": 0,
          "region": "southwest",
          "sex": "male",
          "smoker": "no"
         },
         {
          "age": 33,
          "bmi": 28.27,
          "bmi_cat": "overweight",
          "charges": 4779.6023,
          "children": 1,
          "region": "southeast",
          "sex": "female",
          "smoker": "no"
         },
         {
          "age": 55,
          "bmi": 25.365,
          "bmi_cat": "overweight",
          "charges": 13047.33235,
          "children": 3,
          "region": "northeast",
          "sex": "female",
          "smoker": "no"
         },
         {
          "age": 46,
          "bmi": 38.17,
          "bmi_cat": "obese",
          "charges": 8347.1643,
          "children": 2,
          "region": "southeast",
          "sex": "male",
          "smoker": "no"
         },
         {
          "age": 27,
          "bmi": 32.67,
          "bmi_cat": "obese",
          "charges": 2497.0383,
          "children": 0,
          "region": "southeast",
          "sex": "male",
          "smoker": "no"
         },
         {
          "age": 56,
          "bmi": 27.2,
          "bmi_cat": "overweight",
          "charges": 11073.176000000001,
          "children": 0,
          "region": "southwest",
          "sex": "female",
          "smoker": "no"
         },
         {
          "age": 43,
          "bmi": 35.64,
          "bmi_cat": "obese",
          "charges": 7345.7266,
          "children": 1,
          "region": "southeast",
          "sex": "female",
          "smoker": "no"
         },
         {
          "age": 54,
          "bmi": 31.9,
          "bmi_cat": "obese",
          "charges": 10928.848999999998,
          "children": 1,
          "region": "southeast",
          "sex": "female",
          "smoker": "no"
         },
         {
          "age": 50,
          "bmi": 30.115,
          "bmi_cat": "obese",
          "charges": 9910.35985,
          "children": 1,
          "region": "northwest",
          "sex": "female",
          "smoker": "no"
         },
         {
          "age": 23,
          "bmi": 18.715,
          "bmi_cat": "normal",
          "charges": 21595.38229,
          "children": 0,
          "region": "northwest",
          "sex": "male",
          "smoker": "no"
         },
         {
          "age": 23,
          "bmi": 39.27,
          "bmi_cat": "obese",
          "charges": 3500.6123,
          "children": 2,
          "region": "southeast",
          "sex": "female",
          "smoker": "no"
         },
         {
          "age": 46,
          "bmi": 48.07,
          "bmi_cat": "obese",
          "charges": 9432.9253,
          "children": 2,
          "region": "northeast",
          "sex": "female",
          "smoker": "no"
         },
         {
          "age": 33,
          "bmi": 18.5,
          "bmi_cat": "normal",
          "charges": 4766.022,
          "children": 1,
          "region": "southwest",
          "sex": "female",
          "smoker": "no"
         },
         {
          "age": 51,
          "bmi": 21.56,
          "bmi_cat": "normal",
          "charges": 9855.1314,
          "children": 1,
          "region": "southeast",
          "sex": "female",
          "smoker": "no"
         },
         {
          "age": 27,
          "bmi": 33.66,
          "bmi_cat": "obese",
          "charges": 2498.4144,
          "children": 0,
          "region": "southeast",
          "sex": "male",
          "smoker": "no"
         },
         {
          "age": 61,
          "bmi": 44,
          "bmi_cat": "obese",
          "charges": 13063.883,
          "children": 0,
          "region": "southwest",
          "sex": "female",
          "smoker": "no"
         },
         {
          "age": 58,
          "bmi": 33.1,
          "bmi_cat": "obese",
          "charges": 11848.141000000001,
          "children": 0,
          "region": "southwest",
          "sex": "female",
          "smoker": "no"
         },
         {
          "age": 45,
          "bmi": 36.48,
          "bmi_cat": "obese",
          "charges": 42760.5022,
          "children": 2,
          "region": "northwest",
          "sex": "male",
          "smoker": "yes"
         },
         {
          "age": 49,
          "bmi": 30.3,
          "bmi_cat": "obese",
          "charges": 8116.68,
          "children": 0,
          "region": "southwest",
          "sex": "male",
          "smoker": "no"
         },
         {
          "age": 47,
          "bmi": 25.41,
          "bmi_cat": "overweight",
          "charges": 21978.6769,
          "children": 1,
          "region": "southeast",
          "sex": "male",
          "smoker": "yes"
         },
         {
          "age": 37,
          "bmi": 34.105,
          "bmi_cat": "obese",
          "charges": 6112.35295,
          "children": 1,
          "region": "northwest",
          "sex": "female",
          "smoker": "no"
         },
         {
          "age": 18,
          "bmi": 23.32,
          "bmi_cat": "normal",
          "charges": 1711.0268,
          "children": 1,
          "region": "southeast",
          "sex": "male",
          "smoker": "no"
         },
         {
          "age": 60,
          "bmi": 31.35,
          "bmi_cat": "obese",
          "charges": 46130.5265,
          "children": 3,
          "region": "northwest",
          "sex": "male",
          "smoker": "yes"
         },
         {
          "age": 46,
          "bmi": 39.425,
          "bmi_cat": "obese",
          "charges": 8342.90875,
          "children": 1,
          "region": "northeast",
          "sex": "male",
          "smoker": "no"
         },
         {
          "age": 32,
          "bmi": 35.2,
          "bmi_cat": "obese",
          "charges": 4670.64,
          "children": 2,
          "region": "southwest",
          "sex": "male",
          "smoker": "no"
         },
         {
          "age": 39,
          "bmi": 18.3,
          "bmi_cat": "underweight",
          "charges": 19023.26,
          "children": 5,
          "region": "southwest",
          "sex": "female",
          "smoker": "yes"
         },
         {
          "age": 21,
          "bmi": 21.89,
          "bmi_cat": "normal",
          "charges": 3180.5101,
          "children": 2,
          "region": "southeast",
          "sex": "female",
          "smoker": "no"
         },
         {
          "age": 58,
          "bmi": 29,
          "bmi_cat": "overweight",
          "charges": 11842.442,
          "children": 0,
          "region": "southwest",
          "sex": "female",
          "smoker": "no"
         },
         {
          "age": 50,
          "bmi": 27.6,
          "bmi_cat": "overweight",
          "charges": 24520.264,
          "children": 1,
          "region": "southwest",
          "sex": "female",
          "smoker": "yes"
         },
         {
          "age": 28,
          "bmi": 38.06,
          "bmi_cat": "obese",
          "charges": 2689.4954,
          "children": 0,
          "region": "southeast",
          "sex": "male",
          "smoker": "no"
         },
         {
          "age": 30,
          "bmi": 27.93,
          "bmi_cat": "overweight",
          "charges": 4137.5227,
          "children": 0,
          "region": "northeast",
          "sex": "female",
          "smoker": "no"
         },
         {
          "age": 19,
          "bmi": 40.5,
          "bmi_cat": "obese",
          "charges": 1759.338,
          "children": 0,
          "region": "southwest",
          "sex": "female",
          "smoker": "no"
         },
         {
          "age": 63,
          "bmi": 31.445,
          "bmi_cat": "obese",
          "charges": 13974.45555,
          "children": 0,
          "region": "northeast",
          "sex": "male",
          "smoker": "no"
         },
         {
          "age": 43,
          "bmi": 25.27,
          "bmi_cat": "overweight",
          "charges": 21771.3423,
          "children": 1,
          "region": "northeast",
          "sex": "female",
          "smoker": "yes"
         },
         {
          "age": 45,
          "bmi": 35.3,
          "bmi_cat": "obese",
          "charges": 7348.142,
          "children": 0,
          "region": "southwest",
          "sex": "female",
          "smoker": "no"
         },
         {
          "age": 55,
          "bmi": 29.7,
          "bmi_cat": "overweight",
          "charges": 11881.358,
          "children": 2,
          "region": "southwest",
          "sex": "female",
          "smoker": "no"
         },
         {
          "age": 44,
          "bmi": 34.32,
          "bmi_cat": "obese",
          "charges": 7147.4728,
          "children": 1,
          "region": "southeast",
          "sex": "male",
          "smoker": "no"
         },
         {
          "age": 59,
          "bmi": 29.83,
          "bmi_cat": "overweight",
          "charges": 30184.9367,
          "children": 3,
          "region": "northeast",
          "sex": "male",
          "smoker": "yes"
         },
         {
          "age": 44,
          "bmi": 38.06,
          "bmi_cat": "obese",
          "charges": 48885.135610000005,
          "children": 0,
          "region": "southeast",
          "sex": "female",
          "smoker": "yes"
         },
         {
          "age": 53,
          "bmi": 36.1,
          "bmi_cat": "obese",
          "charges": 10085.846,
          "children": 1,
          "region": "southwest",
          "sex": "male",
          "smoker": "no"
         },
         {
          "age": 28,
          "bmi": 29.26,
          "bmi_cat": "overweight",
          "charges": 4438.2634,
          "children": 2,
          "region": "northeast",
          "sex": "male",
          "smoker": "no"
         },
         {
          "age": 49,
          "bmi": 37.51,
          "bmi_cat": "obese",
          "charges": 9304.7019,
          "children": 2,
          "region": "southeast",
          "sex": "male",
          "smoker": "no"
         },
         {
          "age": 24,
          "bmi": 35.86,
          "bmi_cat": "obese",
          "charges": 1986.9334,
          "children": 0,
          "region": "southeast",
          "sex": "male",
          "smoker": "no"
         },
         {
          "age": 34,
          "bmi": 27.5,
          "bmi_cat": "overweight",
          "charges": 5003.853,
          "children": 1,
          "region": "southwest",
          "sex": "female",
          "smoker": "no"
         },
         {
          "age": 51,
          "bmi": 37.05,
          "bmi_cat": "obese",
          "charges": 46255.1125,
          "children": 3,
          "region": "northeast",
          "sex": "female",
          "smoker": "yes"
         },
         {
          "age": 19,
          "bmi": 22.515,
          "bmi_cat": "normal",
          "charges": 2117.33885,
          "children": 0,
          "region": "northwest",
          "sex": "female",
          "smoker": "no"
         },
         {
          "age": 44,
          "bmi": 30.2,
          "bmi_cat": "obese",
          "charges": 38998.546,
          "children": 2,
          "region": "southwest",
          "sex": "male",
          "smoker": "yes"
         },
         {
          "age": 47,
          "bmi": 27.645,
          "bmi_cat": "overweight",
          "charges": 24535.69855,
          "children": 2,
          "region": "northwest",
          "sex": "female",
          "smoker": "yes"
         },
         {
          "age": 19,
          "bmi": 24.7,
          "bmi_cat": "normal",
          "charges": 1737.376,
          "children": 0,
          "region": "southwest",
          "sex": "female",
          "smoker": "no"
         },
         {
          "age": 54,
          "bmi": 32.68,
          "bmi_cat": "obese",
          "charges": 10923.9332,
          "children": 0,
          "region": "northeast",
          "sex": "female",
          "smoker": "no"
         },
         {
          "age": 24,
          "bmi": 32.7,
          "bmi_cat": "obese",
          "charges": 34472.841,
          "children": 0,
          "region": "southwest",
          "sex": "male",
          "smoker": "yes"
         },
         {
          "age": 63,
          "bmi": 41.325,
          "bmi_cat": "obese",
          "charges": 15555.18875,
          "children": 3,
          "region": "northwest",
          "sex": "male",
          "smoker": "no"
         },
         {
          "age": 29,
          "bmi": 28.975,
          "bmi_cat": "overweight",
          "charges": 4040.55825,
          "children": 1,
          "region": "northeast",
          "sex": "male",
          "smoker": "no"
         },
         {
          "age": 20,
          "bmi": 33.3,
          "bmi_cat": "obese",
          "charges": 1880.487,
          "children": 0,
          "region": "southwest",
          "sex": "female",
          "smoker": "no"
         },
         {
          "age": 26,
          "bmi": 22.23,
          "bmi_cat": "normal",
          "charges": 3176.2877,
          "children": 0,
          "region": "northwest",
          "sex": "female",
          "smoker": "no"
         },
         {
          "age": 35,
          "bmi": 17.86,
          "bmi_cat": "underweight",
          "charges": 5116.5004,
          "children": 1,
          "region": "northwest",
          "sex": "male",
          "smoker": "no"
         },
         {
          "age": 40,
          "bmi": 25.08,
          "bmi_cat": "overweight",
          "charges": 5415.6612,
          "children": 0,
          "region": "southeast",
          "sex": "male",
          "smoker": "no"
         },
         {
          "age": 27,
          "bmi": 31.255,
          "bmi_cat": "obese",
          "charges": 3956.07145,
          "children": 1,
          "region": "northwest",
          "sex": "female",
          "smoker": "no"
         },
         {
          "age": 56,
          "bmi": 19.95,
          "bmi_cat": "normal",
          "charges": 22412.6485,
          "children": 0,
          "region": "northeast",
          "sex": "male",
          "smoker": "yes"
         },
         {
          "age": 55,
          "bmi": 38.28,
          "bmi_cat": "obese",
          "charges": 10226.2842,
          "children": 0,
          "region": "southeast",
          "sex": "male",
          "smoker": "no"
         },
         {
          "age": 18,
          "bmi": 31.68,
          "bmi_cat": "obese",
          "charges": 34303.1672,
          "children": 2,
          "region": "southeast",
          "sex": "male",
          "smoker": "yes"
         },
         {
          "age": 27,
          "bmi": 32.585,
          "bmi_cat": "obese",
          "charges": 4846.92015,
          "children": 3,
          "region": "northeast",
          "sex": "male",
          "smoker": "no"
         },
         {
          "age": 42,
          "bmi": 26.07,
          "bmi_cat": "overweight",
          "charges": 38245.59327,
          "children": 1,
          "region": "southeast",
          "sex": "male",
          "smoker": "yes"
         },
         {
          "age": 18,
          "bmi": 31.13,
          "bmi_cat": "obese",
          "charges": 1621.8827,
          "children": 0,
          "region": "southeast",
          "sex": "female",
          "smoker": "no"
         },
         {
          "age": 38,
          "bmi": 40.15,
          "bmi_cat": "obese",
          "charges": 5400.9805,
          "children": 0,
          "region": "southeast",
          "sex": "female",
          "smoker": "no"
         },
         {
          "age": 51,
          "bmi": 39.7,
          "bmi_cat": "obese",
          "charges": 9391.346,
          "children": 1,
          "region": "southwest",
          "sex": "male",
          "smoker": "no"
         },
         {
          "age": 20,
          "bmi": 26.84,
          "bmi_cat": "overweight",
          "charges": 17085.2676,
          "children": 1,
          "region": "southeast",
          "sex": "female",
          "smoker": "yes"
         },
         {
          "age": 20,
          "bmi": 31.46,
          "bmi_cat": "obese",
          "charges": 1877.9294,
          "children": 0,
          "region": "southeast",
          "sex": "female",
          "smoker": "no"
         },
         {
          "age": 20,
          "bmi": 31.92,
          "bmi_cat": "obese",
          "charges": 2261.5688,
          "children": 0,
          "region": "northwest",
          "sex": "female",
          "smoker": "no"
         },
         {
          "age": 58,
          "bmi": 30.305,
          "bmi_cat": "obese",
          "charges": 11938.25595,
          "children": 0,
          "region": "northeast",
          "sex": "male",
          "smoker": "no"
         },
         {
          "age": 44,
          "bmi": 32.34,
          "bmi_cat": "obese",
          "charges": 7633.7206,
          "children": 1,
          "region": "southeast",
          "sex": "female",
          "smoker": "no"
         },
         {
          "age": 38,
          "bmi": 16.815,
          "bmi_cat": "underweight",
          "charges": 6640.54485,
          "children": 2,
          "region": "northeast",
          "sex": "male",
          "smoker": "no"
         },
         {
          "age": 21,
          "bmi": 34.87,
          "bmi_cat": "obese",
          "charges": 2020.5523,
          "children": 0,
          "region": "southeast",
          "sex": "female",
          "smoker": "no"
         },
         {
          "age": 59,
          "bmi": 27.5,
          "bmi_cat": "overweight",
          "charges": 12333.828000000001,
          "children": 1,
          "region": "southwest",
          "sex": "male",
          "smoker": "no"
         },
         {
          "age": 34,
          "bmi": 27.72,
          "bmi_cat": "overweight",
          "charges": 4415.1588,
          "children": 0,
          "region": "southeast",
          "sex": "female",
          "smoker": "no"
         },
         {
          "age": 39,
          "bmi": 34.1,
          "bmi_cat": "obese",
          "charges": 7418.522,
          "children": 3,
          "region": "southwest",
          "sex": "female",
          "smoker": "no"
         },
         {
          "age": 30,
          "bmi": 22.895,
          "bmi_cat": "normal",
          "charges": 4719.52405,
          "children": 1,
          "region": "northeast",
          "sex": "female",
          "smoker": "no"
         },
         {
          "age": 19,
          "bmi": 28.7,
          "bmi_cat": "overweight",
          "charges": 1253.9360000000001,
          "children": 0,
          "region": "southwest",
          "sex": "male",
          "smoker": "no"
         },
         {
          "age": 18,
          "bmi": 38.17,
          "bmi_cat": "obese",
          "charges": 36307.7983,
          "children": 0,
          "region": "southeast",
          "sex": "male",
          "smoker": "yes"
         },
         {
          "age": 41,
          "bmi": 33.55,
          "bmi_cat": "obese",
          "charges": 5699.8375,
          "children": 0,
          "region": "southeast",
          "sex": "male",
          "smoker": "no"
         },
         {
          "age": 23,
          "bmi": 27.36,
          "bmi_cat": "overweight",
          "charges": 2789.0574,
          "children": 1,
          "region": "northwest",
          "sex": "male",
          "smoker": "no"
         },
         {
          "age": 58,
          "bmi": 28.215,
          "bmi_cat": "overweight",
          "charges": 12224.35085,
          "children": 0,
          "region": "northwest",
          "sex": "female",
          "smoker": "no"
         },
         {
          "age": 18,
          "bmi": 37.29,
          "bmi_cat": "obese",
          "charges": 1141.4451,
          "children": 0,
          "region": "southeast",
          "sex": "male",
          "smoker": "no"
         },
         {
          "age": 45,
          "bmi": 22.895,
          "bmi_cat": "normal",
          "charges": 35069.37452,
          "children": 0,
          "region": "northeast",
          "sex": "male",
          "smoker": "yes"
         },
         {
          "age": 41,
          "bmi": 32.6,
          "bmi_cat": "obese",
          "charges": 7954.517,
          "children": 3,
          "region": "southwest",
          "sex": "female",
          "smoker": "no"
         },
         {
          "age": 33,
          "bmi": 26.695,
          "bmi_cat": "overweight",
          "charges": 4571.41305,
          "children": 0,
          "region": "northwest",
          "sex": "female",
          "smoker": "no"
         },
         {
          "age": 58,
          "bmi": 32.01,
          "bmi_cat": "obese",
          "charges": 11946.6259,
          "children": 1,
          "region": "southeast",
          "sex": "male",
          "smoker": "no"
         },
         {
          "age": 18,
          "bmi": 39.14,
          "bmi_cat": "obese",
          "charges": 12890.05765,
          "children": 0,
          "region": "northeast",
          "sex": "male",
          "smoker": "no"
         },
         {
          "age": 64,
          "bmi": 33.8,
          "bmi_cat": "obese",
          "charges": 47928.03,
          "children": 1,
          "region": "southwest",
          "sex": "female",
          "smoker": "yes"
         },
         {
          "age": 50,
          "bmi": 32.3,
          "bmi_cat": "obese",
          "charges": 41919.097,
          "children": 1,
          "region": "northeast",
          "sex": "male",
          "smoker": "yes"
         },
         {
          "age": 31,
          "bmi": 25.8,
          "bmi_cat": "overweight",
          "charges": 4934.705,
          "children": 2,
          "region": "southwest",
          "sex": "female",
          "smoker": "no"
         },
         {
          "age": 60,
          "bmi": 38.06,
          "bmi_cat": "obese",
          "charges": 12648.7034,
          "children": 0,
          "region": "southeast",
          "sex": "female",
          "smoker": "no"
         },
         {
          "age": 18,
          "bmi": 30.4,
          "bmi_cat": "obese",
          "charges": 3481.868,
          "children": 3,
          "region": "northeast",
          "sex": "male",
          "smoker": "no"
         },
         {
          "age": 18,
          "bmi": 25.46,
          "bmi_cat": "overweight",
          "charges": 1708.0014,
          "children": 0,
          "region": "northeast",
          "sex": "male",
          "smoker": "no"
         },
         {
          "age": 37,
          "bmi": 30.8,
          "bmi_cat": "obese",
          "charges": 6313.759,
          "children": 2,
          "region": "southeast",
          "sex": "female",
          "smoker": "no"
         },
         {
          "age": 36,
          "bmi": 29.92,
          "bmi_cat": "overweight",
          "charges": 4889.0368,
          "children": 0,
          "region": "southeast",
          "sex": "female",
          "smoker": "no"
         },
         {
          "age": 46,
          "bmi": 35.53,
          "bmi_cat": "obese",
          "charges": 42111.6647,
          "children": 0,
          "region": "northeast",
          "sex": "female",
          "smoker": "yes"
         },
         {
          "age": 23,
          "bmi": 28.31,
          "bmi_cat": "overweight",
          "charges": 18033.9679,
          "children": 0,
          "region": "northwest",
          "sex": "female",
          "smoker": "yes"
         },
         {
          "age": 54,
          "bmi": 23,
          "bmi_cat": "normal",
          "charges": 12094.478000000001,
          "children": 3,
          "region": "southwest",
          "sex": "female",
          "smoker": "no"
         },
         {
          "age": 43,
          "bmi": 30.685,
          "bmi_cat": "obese",
          "charges": 8310.83915,
          "children": 2,
          "region": "northwest",
          "sex": "female",
          "smoker": "no"
         },
         {
          "age": 37,
          "bmi": 25.555,
          "bmi_cat": "overweight",
          "charges": 20296.86345,
          "children": 1,
          "region": "northeast",
          "sex": "female",
          "smoker": "yes"
         },
         {
          "age": 56,
          "bmi": 26.6,
          "bmi_cat": "overweight",
          "charges": 12044.341999999999,
          "children": 1,
          "region": "northwest",
          "sex": "female",
          "smoker": "no"
         },
         {
          "age": 21,
          "bmi": 21.85,
          "bmi_cat": "normal",
          "charges": 15359.1045,
          "children": 1,
          "region": "northeast",
          "sex": "female",
          "smoker": "yes"
         },
         {
          "age": 40,
          "bmi": 33,
          "bmi_cat": "obese",
          "charges": 7682.67,
          "children": 3,
          "region": "southeast",
          "sex": "female",
          "smoker": "no"
         },
         {
          "age": 33,
          "bmi": 24.605,
          "bmi_cat": "normal",
          "charges": 5257.50795,
          "children": 2,
          "region": "northwest",
          "sex": "male",
          "smoker": "no"
         },
         {
          "age": 29,
          "bmi": 29.59,
          "bmi_cat": "overweight",
          "charges": 3947.4131,
          "children": 1,
          "region": "southeast",
          "sex": "female",
          "smoker": "no"
         },
         {
          "age": 23,
          "bmi": 32.7,
          "bmi_cat": "obese",
          "charges": 3591.48,
          "children": 3,
          "region": "southwest",
          "sex": "male",
          "smoker": "no"
         },
         {
          "age": 46,
          "bmi": 42.35,
          "bmi_cat": "obese",
          "charges": 46151.1245,
          "children": 3,
          "region": "southeast",
          "sex": "male",
          "smoker": "yes"
         },
         {
          "age": 18,
          "bmi": 38.28,
          "bmi_cat": "obese",
          "charges": 14133.03775,
          "children": 0,
          "region": "southeast",
          "sex": "female",
          "smoker": "no"
         },
         {
          "age": 18,
          "bmi": 24.09,
          "bmi_cat": "normal",
          "charges": 2201.0971,
          "children": 1,
          "region": "southeast",
          "sex": "female",
          "smoker": "no"
         },
         {
          "age": 27,
          "bmi": 33.155,
          "bmi_cat": "obese",
          "charges": 4058.71245,
          "children": 2,
          "region": "northwest",
          "sex": "male",
          "smoker": "no"
         },
         {
          "age": 31,
          "bmi": 32.775,
          "bmi_cat": "obese",
          "charges": 5327.40025,
          "children": 2,
          "region": "northwest",
          "sex": "female",
          "smoker": "no"
         },
         {
          "age": 43,
          "bmi": 30.1,
          "bmi_cat": "obese",
          "charges": 6849.026,
          "children": 1,
          "region": "southwest",
          "sex": "male",
          "smoker": "no"
         },
         {
          "age": 39,
          "bmi": 35.3,
          "bmi_cat": "obese",
          "charges": 40103.89,
          "children": 2,
          "region": "southwest",
          "sex": "male",
          "smoker": "yes"
         },
         {
          "age": 62,
          "bmi": 31.46,
          "bmi_cat": "obese",
          "charges": 27000.98473,
          "children": 1,
          "region": "southeast",
          "sex": "male",
          "smoker": "no"
         },
         {
          "age": 34,
          "bmi": 21.375,
          "bmi_cat": "normal",
          "charges": 4500.33925,
          "children": 0,
          "region": "northeast",
          "sex": "male",
          "smoker": "no"
         },
         {
          "age": 32,
          "bmi": 28.88,
          "bmi_cat": "overweight",
          "charges": 3866.8552,
          "children": 0,
          "region": "northwest",
          "sex": "male",
          "smoker": "no"
         },
         {
          "age": 28,
          "bmi": 24.32,
          "bmi_cat": "normal",
          "charges": 23288.9284,
          "children": 1,
          "region": "northeast",
          "sex": "female",
          "smoker": "no"
         },
         {
          "age": 58,
          "bmi": 36.08,
          "bmi_cat": "obese",
          "charges": 11363.2832,
          "children": 0,
          "region": "southeast",
          "sex": "male",
          "smoker": "no"
         },
         {
          "age": 38,
          "bmi": 34.8,
          "bmi_cat": "obese",
          "charges": 6571.544,
          "children": 2,
          "region": "southwest",
          "sex": "female",
          "smoker": "no"
         },
         {
          "age": 19,
          "bmi": 17.48,
          "bmi_cat": "underweight",
          "charges": 1621.3402,
          "children": 0,
          "region": "northwest",
          "sex": "male",
          "smoker": "no"
         },
         {
          "age": 46,
          "bmi": 23.655,
          "bmi_cat": "normal",
          "charges": 21677.28345,
          "children": 1,
          "region": "northwest",
          "sex": "female",
          "smoker": "yes"
         },
         {
          "age": 25,
          "bmi": 24.985,
          "bmi_cat": "normal",
          "charges": 23241.47453,
          "children": 2,
          "region": "northeast",
          "sex": "male",
          "smoker": "no"
         },
         {
          "age": 42,
          "bmi": 26.125,
          "bmi_cat": "overweight",
          "charges": 7729.64575,
          "children": 2,
          "region": "northeast",
          "sex": "male",
          "smoker": "no"
         },
         {
          "age": 48,
          "bmi": 35.625,
          "bmi_cat": "obese",
          "charges": 10736.87075,
          "children": 4,
          "region": "northeast",
          "sex": "male",
          "smoker": "no"
         },
         {
          "age": 52,
          "bmi": 26.4,
          "bmi_cat": "overweight",
          "charges": 25992.82104,
          "children": 3,
          "region": "southeast",
          "sex": "male",
          "smoker": "no"
         },
         {
          "age": 49,
          "bmi": 34.77,
          "bmi_cat": "obese",
          "charges": 9583.8933,
          "children": 1,
          "region": "northwest",
          "sex": "female",
          "smoker": "no"
         },
         {
          "age": 30,
          "bmi": 28.38,
          "bmi_cat": "overweight",
          "charges": 19521.9682,
          "children": 1,
          "region": "southeast",
          "sex": "female",
          "smoker": "yes"
         },
         {
          "age": 45,
          "bmi": 36.3,
          "bmi_cat": "obese",
          "charges": 8527.532,
          "children": 2,
          "region": "southeast",
          "sex": "female",
          "smoker": "no"
         },
         {
          "age": 33,
          "bmi": 36.29,
          "bmi_cat": "obese",
          "charges": 6551.7501,
          "children": 3,
          "region": "northeast",
          "sex": "female",
          "smoker": "no"
         },
         {
          "age": 22,
          "bmi": 20.235,
          "bmi_cat": "normal",
          "charges": 2527.81865,
          "children": 0,
          "region": "northwest",
          "sex": "female",
          "smoker": "no"
         },
         {
          "age": 58,
          "bmi": 33.44,
          "bmi_cat": "obese",
          "charges": 12231.6136,
          "children": 0,
          "region": "northwest",
          "sex": "female",
          "smoker": "no"
         },
         {
          "age": 25,
          "bmi": 35.625,
          "bmi_cat": "obese",
          "charges": 2534.39375,
          "children": 0,
          "region": "northwest",
          "sex": "male",
          "smoker": "no"
         },
         {
          "age": 34,
          "bmi": 25.27,
          "bmi_cat": "overweight",
          "charges": 4894.7533,
          "children": 1,
          "region": "northwest",
          "sex": "male",
          "smoker": "no"
         },
         {
          "age": 37,
          "bmi": 29.83,
          "bmi_cat": "overweight",
          "charges": 6406.4107,
          "children": 2,
          "region": "northeast",
          "sex": "male",
          "smoker": "no"
         },
         {
          "age": 27,
          "bmi": 32.395,
          "bmi_cat": "obese",
          "charges": 18903.49141,
          "children": 1,
          "region": "northeast",
          "sex": "female",
          "smoker": "no"
         },
         {
          "age": 48,
          "bmi": 36.575,
          "bmi_cat": "obese",
          "charges": 8671.19125,
          "children": 0,
          "region": "northwest",
          "sex": "female",
          "smoker": "no"
         },
         {
          "age": 51,
          "bmi": 42.9,
          "bmi_cat": "obese",
          "charges": 47462.894,
          "children": 2,
          "region": "southeast",
          "sex": "male",
          "smoker": "yes"
         },
         {
          "age": 23,
          "bmi": 23.845,
          "bmi_cat": "normal",
          "charges": 2395.17155,
          "children": 0,
          "region": "northeast",
          "sex": "male",
          "smoker": "no"
         },
         {
          "age": 63,
          "bmi": 35.2,
          "bmi_cat": "obese",
          "charges": 14474.675,
          "children": 1,
          "region": "southeast",
          "sex": "female",
          "smoker": "no"
         },
         {
          "age": 23,
          "bmi": 33.4,
          "bmi_cat": "obese",
          "charges": 10795.937329999999,
          "children": 0,
          "region": "southwest",
          "sex": "female",
          "smoker": "no"
         },
         {
          "age": 53,
          "bmi": 30.495,
          "bmi_cat": "obese",
          "charges": 10072.05505,
          "children": 0,
          "region": "northeast",
          "sex": "male",
          "smoker": "no"
         },
         {
          "age": 51,
          "bmi": 34.96,
          "bmi_cat": "obese",
          "charges": 44641.1974,
          "children": 2,
          "region": "northeast",
          "sex": "female",
          "smoker": "yes"
         },
         {
          "age": 55,
          "bmi": 33,
          "bmi_cat": "obese",
          "charges": 20781.48892,
          "children": 0,
          "region": "southeast",
          "sex": "male",
          "smoker": "no"
         },
         {
          "age": 63,
          "bmi": 30.8,
          "bmi_cat": "obese",
          "charges": 13390.559,
          "children": 0,
          "region": "southwest",
          "sex": "male",
          "smoker": "no"
         },
         {
          "age": 64,
          "bmi": 36.96,
          "bmi_cat": "obese",
          "charges": 49577.6624,
          "children": 2,
          "region": "southeast",
          "sex": "male",
          "smoker": "yes"
         },
         {
          "age": 47,
          "bmi": 36.63,
          "bmi_cat": "obese",
          "charges": 42969.8527,
          "children": 1,
          "region": "southeast",
          "sex": "female",
          "smoker": "yes"
         },
         {
          "age": 27,
          "bmi": 26.03,
          "bmi_cat": "overweight",
          "charges": 3070.8087,
          "children": 0,
          "region": "northeast",
          "sex": "male",
          "smoker": "no"
         },
         {
          "age": 38,
          "bmi": 30.21,
          "bmi_cat": "obese",
          "charges": 7537.1639,
          "children": 3,
          "region": "northwest",
          "sex": "female",
          "smoker": "no"
         },
         {
          "age": 44,
          "bmi": 27.5,
          "bmi_cat": "overweight",
          "charges": 7626.993,
          "children": 1,
          "region": "southwest",
          "sex": "female",
          "smoker": "no"
         },
         {
          "age": 18,
          "bmi": 40.26,
          "bmi_cat": "obese",
          "charges": 1634.5734,
          "children": 0,
          "region": "southeast",
          "sex": "female",
          "smoker": "no"
         },
         {
          "age": 64,
          "bmi": 33.88,
          "bmi_cat": "obese",
          "charges": 46889.2612,
          "children": 0,
          "region": "southeast",
          "sex": "male",
          "smoker": "yes"
         },
         {
          "age": 59,
          "bmi": 36.52,
          "bmi_cat": "obese",
          "charges": 28287.897660000002,
          "children": 1,
          "region": "southeast",
          "sex": "female",
          "smoker": "no"
         },
         {
          "age": 23,
          "bmi": 17.385,
          "bmi_cat": "underweight",
          "charges": 2775.19215,
          "children": 1,
          "region": "northwest",
          "sex": "male",
          "smoker": "no"
         },
         {
          "age": 21,
          "bmi": 34.6,
          "bmi_cat": "obese",
          "charges": 2020.1770000000001,
          "children": 0,
          "region": "southwest",
          "sex": "female",
          "smoker": "no"
         },
         {
          "age": 31,
          "bmi": 36.63,
          "bmi_cat": "obese",
          "charges": 4949.7587,
          "children": 2,
          "region": "southeast",
          "sex": "female",
          "smoker": "no"
         },
         {
          "age": 41,
          "bmi": 30.78,
          "bmi_cat": "obese",
          "charges": 39597.4072,
          "children": 3,
          "region": "northeast",
          "sex": "male",
          "smoker": "yes"
         },
         {
          "age": 22,
          "bmi": 39.5,
          "bmi_cat": "obese",
          "charges": 1682.5970000000002,
          "children": 0,
          "region": "southwest",
          "sex": "male",
          "smoker": "no"
         },
         {
          "age": 53,
          "bmi": 24.32,
          "bmi_cat": "normal",
          "charges": 9863.4718,
          "children": 0,
          "region": "northwest",
          "sex": "male",
          "smoker": "no"
         },
         {
          "age": 56,
          "bmi": 25.3,
          "bmi_cat": "overweight",
          "charges": 11070.535,
          "children": 0,
          "region": "southwest",
          "sex": "female",
          "smoker": "no"
         },
         {
          "age": 50,
          "bmi": 25.6,
          "bmi_cat": "overweight",
          "charges": 8932.084,
          "children": 0,
          "region": "southwest",
          "sex": "female",
          "smoker": "no"
         },
         {
          "age": 25,
          "bmi": 30.2,
          "bmi_cat": "obese",
          "charges": 33900.653,
          "children": 0,
          "region": "southwest",
          "sex": "female",
          "smoker": "yes"
         },
         {
          "age": 39,
          "bmi": 29.6,
          "bmi_cat": "overweight",
          "charges": 7512.267,
          "children": 4,
          "region": "southwest",
          "sex": "male",
          "smoker": "no"
         },
         {
          "age": 23,
          "bmi": 35.2,
          "bmi_cat": "obese",
          "charges": 2416.955,
          "children": 1,
          "region": "southwest",
          "sex": "male",
          "smoker": "no"
         },
         {
          "age": 19,
          "bmi": 26.03,
          "bmi_cat": "overweight",
          "charges": 16450.8947,
          "children": 1,
          "region": "northwest",
          "sex": "male",
          "smoker": "yes"
         },
         {
          "age": 51,
          "bmi": 20.6,
          "bmi_cat": "normal",
          "charges": 9264.796999999999,
          "children": 0,
          "region": "southwest",
          "sex": "female",
          "smoker": "no"
         },
         {
          "age": 62,
          "bmi": 37.4,
          "bmi_cat": "obese",
          "charges": 12979.358,
          "children": 0,
          "region": "southwest",
          "sex": "male",
          "smoker": "no"
         },
         {
          "age": 57,
          "bmi": 31.825,
          "bmi_cat": "obese",
          "charges": 11842.62375,
          "children": 0,
          "region": "northwest",
          "sex": "female",
          "smoker": "no"
         },
         {
          "age": 20,
          "bmi": 33.33,
          "bmi_cat": "obese",
          "charges": 1391.5287,
          "children": 0,
          "region": "southeast",
          "sex": "male",
          "smoker": "no"
         },
         {
          "age": 24,
          "bmi": 31.065,
          "bmi_cat": "obese",
          "charges": 34254.05335,
          "children": 0,
          "region": "northeast",
          "sex": "male",
          "smoker": "yes"
         },
         {
          "age": 53,
          "bmi": 21.4,
          "bmi_cat": "normal",
          "charges": 10065.413,
          "children": 1,
          "region": "southwest",
          "sex": "male",
          "smoker": "no"
         },
         {
          "age": 48,
          "bmi": 27.265,
          "bmi_cat": "overweight",
          "charges": 9447.25035,
          "children": 1,
          "region": "northeast",
          "sex": "female",
          "smoker": "no"
         },
         {
          "age": 31,
          "bmi": 30.875,
          "bmi_cat": "obese",
          "charges": 3857.75925,
          "children": 0,
          "region": "northeast",
          "sex": "male",
          "smoker": "no"
         },
         {
          "age": 37,
          "bmi": 46.53,
          "bmi_cat": "obese",
          "charges": 6435.6237,
          "children": 3,
          "region": "southeast",
          "sex": "male",
          "smoker": "no"
         },
         {
          "age": 45,
          "bmi": 22.895,
          "bmi_cat": "normal",
          "charges": 21098.55405,
          "children": 2,
          "region": "northwest",
          "sex": "male",
          "smoker": "yes"
         },
         {
          "age": 60,
          "bmi": 30.5,
          "bmi_cat": "obese",
          "charges": 12638.195,
          "children": 0,
          "region": "southwest",
          "sex": "female",
          "smoker": "no"
         },
         {
          "age": 52,
          "bmi": 30.78,
          "bmi_cat": "obese",
          "charges": 10797.3362,
          "children": 1,
          "region": "northeast",
          "sex": "female",
          "smoker": "no"
         },
         {
          "age": 50,
          "bmi": 37.07,
          "bmi_cat": "obese",
          "charges": 9048.0273,
          "children": 1,
          "region": "southeast",
          "sex": "male",
          "smoker": "no"
         },
         {
          "age": 48,
          "bmi": 34.3,
          "bmi_cat": "obese",
          "charges": 9563.029,
          "children": 3,
          "region": "southwest",
          "sex": "male",
          "smoker": "no"
         },
         {
          "age": 44,
          "bmi": 38.95,
          "bmi_cat": "obese",
          "charges": 42983.4585,
          "children": 0,
          "region": "northwest",
          "sex": "female",
          "smoker": "yes"
         },
         {
          "age": 44,
          "bmi": 29.81,
          "bmi_cat": "overweight",
          "charges": 8219.2039,
          "children": 2,
          "region": "southeast",
          "sex": "female",
          "smoker": "no"
         },
         {
          "age": 31,
          "bmi": 29.81,
          "bmi_cat": "overweight",
          "charges": 19350.3689,
          "children": 0,
          "region": "southeast",
          "sex": "male",
          "smoker": "yes"
         },
         {
          "age": 57,
          "bmi": 28.975,
          "bmi_cat": "overweight",
          "charges": 27218.43725,
          "children": 0,
          "region": "northeast",
          "sex": "male",
          "smoker": "yes"
         },
         {
          "age": 61,
          "bmi": 32.3,
          "bmi_cat": "obese",
          "charges": 14119.62,
          "children": 2,
          "region": "northwest",
          "sex": "male",
          "smoker": "no"
         },
         {
          "age": 28,
          "bmi": 36.4,
          "bmi_cat": "obese",
          "charges": 51194.55914,
          "children": 1,
          "region": "southwest",
          "sex": "male",
          "smoker": "yes"
         },
         {
          "age": 46,
          "bmi": 30.2,
          "bmi_cat": "obese",
          "charges": 8825.086,
          "children": 2,
          "region": "southwest",
          "sex": "female",
          "smoker": "no"
         },
         {
          "age": 19,
          "bmi": 20.425,
          "bmi_cat": "normal",
          "charges": 1625.43375,
          "children": 0,
          "region": "northwest",
          "sex": "male",
          "smoker": "no"
         },
         {
          "age": 51,
          "bmi": 23.21,
          "bmi_cat": "normal",
          "charges": 22218.1149,
          "children": 1,
          "region": "southeast",
          "sex": "male",
          "smoker": "yes"
         },
         {
          "age": 18,
          "bmi": 27.36,
          "bmi_cat": "overweight",
          "charges": 17178.6824,
          "children": 1,
          "region": "northeast",
          "sex": "male",
          "smoker": "yes"
         },
         {
          "age": 55,
          "bmi": 32.775,
          "bmi_cat": "obese",
          "charges": 12268.63225,
          "children": 2,
          "region": "northwest",
          "sex": "female",
          "smoker": "no"
         },
         {
          "age": 41,
          "bmi": 33.06,
          "bmi_cat": "obese",
          "charges": 7749.1564,
          "children": 2,
          "region": "northwest",
          "sex": "female",
          "smoker": "no"
         },
         {
          "age": 62,
          "bmi": 30.875,
          "bmi_cat": "obese",
          "charges": 46718.16325,
          "children": 3,
          "region": "northwest",
          "sex": "male",
          "smoker": "yes"
         },
         {
          "age": 52,
          "bmi": 31.2,
          "bmi_cat": "obese",
          "charges": 9625.92,
          "children": 0,
          "region": "southwest",
          "sex": "female",
          "smoker": "no"
         },
         {
          "age": 57,
          "bmi": 43.7,
          "bmi_cat": "obese",
          "charges": 11576.13,
          "children": 1,
          "region": "southwest",
          "sex": "male",
          "smoker": "no"
         },
         {
          "age": 28,
          "bmi": 26.315,
          "bmi_cat": "overweight",
          "charges": 5312.16985,
          "children": 3,
          "region": "northwest",
          "sex": "female",
          "smoker": "no"
         },
         {
          "age": 45,
          "bmi": 30.2,
          "bmi_cat": "obese",
          "charges": 7441.053000000001,
          "children": 1,
          "region": "southwest",
          "sex": "male",
          "smoker": "no"
         },
         {
          "age": 57,
          "bmi": 22.23,
          "bmi_cat": "normal",
          "charges": 12029.2867,
          "children": 0,
          "region": "northeast",
          "sex": "female",
          "smoker": "no"
         },
         {
          "age": 20,
          "bmi": 35.31,
          "bmi_cat": "obese",
          "charges": 27724.28875,
          "children": 1,
          "region": "southeast",
          "sex": "male",
          "smoker": "no"
         },
         {
          "age": 32,
          "bmi": 23.65,
          "bmi_cat": "normal",
          "charges": 17626.23951,
          "children": 1,
          "region": "southeast",
          "sex": "female",
          "smoker": "no"
         },
         {
          "age": 27,
          "bmi": 30.59,
          "bmi_cat": "obese",
          "charges": 16796.41194,
          "children": 1,
          "region": "northeast",
          "sex": "female",
          "smoker": "no"
         },
         {
          "age": 32,
          "bmi": 33.63,
          "bmi_cat": "obese",
          "charges": 37607.5277,
          "children": 1,
          "region": "northeast",
          "sex": "male",
          "smoker": "yes"
         },
         {
          "age": 27,
          "bmi": 25.175,
          "bmi_cat": "overweight",
          "charges": 3558.62025,
          "children": 0,
          "region": "northeast",
          "sex": "female",
          "smoker": "no"
         },
         {
          "age": 26,
          "bmi": 28.785,
          "bmi_cat": "overweight",
          "charges": 3385.39915,
          "children": 0,
          "region": "northeast",
          "sex": "female",
          "smoker": "no"
         },
         {
          "age": 50,
          "bmi": 36.2,
          "bmi_cat": "obese",
          "charges": 8457.818000000001,
          "children": 0,
          "region": "southwest",
          "sex": "male",
          "smoker": "no"
         },
         {
          "age": 48,
          "bmi": 29.7,
          "bmi_cat": "overweight",
          "charges": 7789.635,
          "children": 0,
          "region": "southeast",
          "sex": "male",
          "smoker": "no"
         },
         {
          "age": 44,
          "bmi": 27.4,
          "bmi_cat": "overweight",
          "charges": 7726.854,
          "children": 2,
          "region": "southwest",
          "sex": "male",
          "smoker": "no"
         },
         {
          "age": 64,
          "bmi": 23.76,
          "bmi_cat": "normal",
          "charges": 26926.5144,
          "children": 0,
          "region": "southeast",
          "sex": "male",
          "smoker": "yes"
         },
         {
          "age": 28,
          "bmi": 33,
          "bmi_cat": "obese",
          "charges": 4349.462,
          "children": 2,
          "region": "southeast",
          "sex": "female",
          "smoker": "no"
         },
         {
          "age": 30,
          "bmi": 43.12,
          "bmi_cat": "obese",
          "charges": 4753.6368,
          "children": 2,
          "region": "southeast",
          "sex": "female",
          "smoker": "no"
         },
         {
          "age": 42,
          "bmi": 35.97,
          "bmi_cat": "obese",
          "charges": 7160.3303,
          "children": 2,
          "region": "southeast",
          "sex": "male",
          "smoker": "no"
         },
         {
          "age": 38,
          "bmi": 19.3,
          "bmi_cat": "normal",
          "charges": 15820.698999999999,
          "children": 0,
          "region": "southwest",
          "sex": "male",
          "smoker": "yes"
         },
         {
          "age": 37,
          "bmi": 28.025,
          "bmi_cat": "overweight",
          "charges": 6203.90175,
          "children": 2,
          "region": "northwest",
          "sex": "male",
          "smoker": "no"
         },
         {
          "age": 41,
          "bmi": 33.155,
          "bmi_cat": "obese",
          "charges": 8538.28845,
          "children": 3,
          "region": "northeast",
          "sex": "female",
          "smoker": "no"
         },
         {
          "age": 25,
          "bmi": 45.54,
          "bmi_cat": "obese",
          "charges": 42112.2356,
          "children": 2,
          "region": "southeast",
          "sex": "male",
          "smoker": "yes"
         },
         {
          "age": 42,
          "bmi": 32.87,
          "bmi_cat": "obese",
          "charges": 7050.0213,
          "children": 0,
          "region": "northeast",
          "sex": "female",
          "smoker": "no"
         },
         {
          "age": 60,
          "bmi": 27.55,
          "bmi_cat": "overweight",
          "charges": 13217.0945,
          "children": 0,
          "region": "northeast",
          "sex": "female",
          "smoker": "no"
         },
         {
          "age": 19,
          "bmi": 34.9,
          "bmi_cat": "obese",
          "charges": 34828.654,
          "children": 0,
          "region": "southwest",
          "sex": "male",
          "smoker": "yes"
         },
         {
          "age": 30,
          "bmi": 37.43,
          "bmi_cat": "obese",
          "charges": 5428.7277,
          "children": 3,
          "region": "northeast",
          "sex": "male",
          "smoker": "no"
         },
         {
          "age": 42,
          "bmi": 26.9,
          "bmi_cat": "overweight",
          "charges": 5969.723000000001,
          "children": 0,
          "region": "southwest",
          "sex": "male",
          "smoker": "no"
         },
         {
          "age": 36,
          "bmi": 30.02,
          "bmi_cat": "obese",
          "charges": 5272.1758,
          "children": 0,
          "region": "northwest",
          "sex": "female",
          "smoker": "no"
         },
         {
          "age": 49,
          "bmi": 30.78,
          "bmi_cat": "obese",
          "charges": 9778.3472,
          "children": 1,
          "region": "northeast",
          "sex": "female",
          "smoker": "no"
         },
         {
          "age": 18,
          "bmi": 21.66,
          "bmi_cat": "normal",
          "charges": 14283.4594,
          "children": 0,
          "region": "northeast",
          "sex": "female",
          "smoker": "yes"
         },
         {
          "age": 31,
          "bmi": 21.755,
          "bmi_cat": "normal",
          "charges": 4134.08245,
          "children": 0,
          "region": "northwest",
          "sex": "female",
          "smoker": "no"
         },
         {
          "age": 25,
          "bmi": 20.8,
          "bmi_cat": "normal",
          "charges": 3208.7870000000003,
          "children": 1,
          "region": "southwest",
          "sex": "female",
          "smoker": "no"
         },
         {
          "age": 56,
          "bmi": 33.66,
          "bmi_cat": "obese",
          "charges": 12949.1554,
          "children": 4,
          "region": "southeast",
          "sex": "male",
          "smoker": "no"
         },
         {
          "age": 60,
          "bmi": 24.32,
          "bmi_cat": "normal",
          "charges": 12523.6048,
          "children": 0,
          "region": "northwest",
          "sex": "male",
          "smoker": "no"
         },
         {
          "age": 41,
          "bmi": 23.94,
          "bmi_cat": "normal",
          "charges": 6858.4796,
          "children": 1,
          "region": "northeast",
          "sex": "male",
          "smoker": "no"
         },
         {
          "age": 59,
          "bmi": 24.7,
          "bmi_cat": "normal",
          "charges": 12323.936000000002,
          "children": 0,
          "region": "northeast",
          "sex": "male",
          "smoker": "no"
         },
         {
          "age": 36,
          "bmi": 33.82,
          "bmi_cat": "obese",
          "charges": 5377.4578,
          "children": 1,
          "region": "northwest",
          "sex": "male",
          "smoker": "no"
         },
         {
          "age": 45,
          "bmi": 30.9,
          "bmi_cat": "obese",
          "charges": 8520.026,
          "children": 2,
          "region": "southwest",
          "sex": "female",
          "smoker": "no"
         },
         {
          "age": 18,
          "bmi": 30.115,
          "bmi_cat": "obese",
          "charges": 21344.8467,
          "children": 0,
          "region": "northeast",
          "sex": "female",
          "smoker": "no"
         },
         {
          "age": 18,
          "bmi": 38.17,
          "bmi_cat": "obese",
          "charges": 1631.6683,
          "children": 0,
          "region": "southeast",
          "sex": "female",
          "smoker": "no"
         },
         {
          "age": 44,
          "bmi": 36.48,
          "bmi_cat": "obese",
          "charges": 12797.20962,
          "children": 0,
          "region": "northeast",
          "sex": "female",
          "smoker": "no"
         },
         {
          "age": 22,
          "bmi": 28.31,
          "bmi_cat": "overweight",
          "charges": 2639.0429,
          "children": 1,
          "region": "northwest",
          "sex": "male",
          "smoker": "no"
         },
         {
          "age": 18,
          "bmi": 25.175,
          "bmi_cat": "overweight",
          "charges": 15518.18025,
          "children": 0,
          "region": "northeast",
          "sex": "male",
          "smoker": "yes"
         },
         {
          "age": 44,
          "bmi": 39.52,
          "bmi_cat": "obese",
          "charges": 6948.7008,
          "children": 0,
          "region": "northwest",
          "sex": "male",
          "smoker": "no"
         },
         {
          "age": 41,
          "bmi": 30.59,
          "bmi_cat": "obese",
          "charges": 7256.7231,
          "children": 2,
          "region": "northwest",
          "sex": "male",
          "smoker": "no"
         },
         {
          "age": 45,
          "bmi": 30.495,
          "bmi_cat": "obese",
          "charges": 8413.46305,
          "children": 2,
          "region": "northwest",
          "sex": "male",
          "smoker": "no"
         },
         {
          "age": 20,
          "bmi": 35.625,
          "bmi_cat": "obese",
          "charges": 37465.34375,
          "children": 3,
          "region": "northwest",
          "sex": "male",
          "smoker": "yes"
         },
         {
          "age": 29,
          "bmi": 38.94,
          "bmi_cat": "obese",
          "charges": 3471.4096,
          "children": 1,
          "region": "southeast",
          "sex": "male",
          "smoker": "no"
         },
         {
          "age": 46,
          "bmi": 26.62,
          "bmi_cat": "overweight",
          "charges": 7742.1098,
          "children": 1,
          "region": "southeast",
          "sex": "male",
          "smoker": "no"
         },
         {
          "age": 39,
          "bmi": 32.34,
          "bmi_cat": "obese",
          "charges": 6338.0756,
          "children": 2,
          "region": "southeast",
          "sex": "male",
          "smoker": "no"
         },
         {
          "age": 40,
          "bmi": 32.775,
          "bmi_cat": "obese",
          "charges": 39125.33225,
          "children": 1,
          "region": "northeast",
          "sex": "male",
          "smoker": "yes"
         },
         {
          "age": 35,
          "bmi": 28.025,
          "bmi_cat": "overweight",
          "charges": 20234.85475,
          "children": 0,
          "region": "northwest",
          "sex": "female",
          "smoker": "yes"
         },
         {
          "age": 61,
          "bmi": 38.38,
          "bmi_cat": "obese",
          "charges": 12950.0712,
          "children": 0,
          "region": "northwest",
          "sex": "male",
          "smoker": "no"
         },
         {
          "age": 62,
          "bmi": 33.2,
          "bmi_cat": "obese",
          "charges": 13462.52,
          "children": 0,
          "region": "southwest",
          "sex": "female",
          "smoker": "no"
         },
         {
          "age": 27,
          "bmi": 30.4,
          "bmi_cat": "obese",
          "charges": 18804.7524,
          "children": 3,
          "region": "northwest",
          "sex": "female",
          "smoker": "no"
         },
         {
          "age": 26,
          "bmi": 29.92,
          "bmi_cat": "overweight",
          "charges": 3981.9768,
          "children": 2,
          "region": "southeast",
          "sex": "female",
          "smoker": "no"
         },
         {
          "age": 46,
          "bmi": 25.8,
          "bmi_cat": "overweight",
          "charges": 10096.97,
          "children": 5,
          "region": "southwest",
          "sex": "male",
          "smoker": "no"
         },
         {
          "age": 21,
          "bmi": 23.21,
          "bmi_cat": "normal",
          "charges": 1515.3449,
          "children": 0,
          "region": "southeast",
          "sex": "male",
          "smoker": "no"
         },
         {
          "age": 51,
          "bmi": 38.06,
          "bmi_cat": "obese",
          "charges": 44400.4064,
          "children": 0,
          "region": "southeast",
          "sex": "female",
          "smoker": "yes"
         },
         {
          "age": 36,
          "bmi": 29.04,
          "bmi_cat": "overweight",
          "charges": 7243.8136,
          "children": 4,
          "region": "southeast",
          "sex": "female",
          "smoker": "no"
         },
         {
          "age": 34,
          "bmi": 34.21,
          "bmi_cat": "obese",
          "charges": 3935.1799,
          "children": 0,
          "region": "southeast",
          "sex": "male",
          "smoker": "no"
         },
         {
          "age": 22,
          "bmi": 28.88,
          "bmi_cat": "overweight",
          "charges": 2250.8352,
          "children": 0,
          "region": "northeast",
          "sex": "male",
          "smoker": "no"
         },
         {
          "age": 57,
          "bmi": 34.295,
          "bmi_cat": "obese",
          "charges": 13224.05705,
          "children": 2,
          "region": "northeast",
          "sex": "female",
          "smoker": "no"
         },
         {
          "age": 38,
          "bmi": 19.95,
          "bmi_cat": "normal",
          "charges": 5855.9025,
          "children": 1,
          "region": "northwest",
          "sex": "male",
          "smoker": "no"
         },
         {
          "age": 44,
          "bmi": 22.135,
          "bmi_cat": "normal",
          "charges": 8302.53565,
          "children": 2,
          "region": "northeast",
          "sex": "male",
          "smoker": "no"
         },
         {
          "age": 35,
          "bmi": 35.86,
          "bmi_cat": "obese",
          "charges": 5836.5204,
          "children": 2,
          "region": "southeast",
          "sex": "female",
          "smoker": "no"
         },
         {
          "age": 64,
          "bmi": 35.97,
          "bmi_cat": "obese",
          "charges": 14313.8463,
          "children": 0,
          "region": "southeast",
          "sex": "female",
          "smoker": "no"
         },
         {
          "age": 24,
          "bmi": 23.655,
          "bmi_cat": "normal",
          "charges": 2352.96845,
          "children": 0,
          "region": "northwest",
          "sex": "male",
          "smoker": "no"
         },
         {
          "age": 44,
          "bmi": 21.85,
          "bmi_cat": "normal",
          "charges": 8891.1395,
          "children": 3,
          "region": "northeast",
          "sex": "male",
          "smoker": "no"
         },
         {
          "age": 23,
          "bmi": 37.1,
          "bmi_cat": "obese",
          "charges": 3597.5959999999995,
          "children": 3,
          "region": "southwest",
          "sex": "male",
          "smoker": "no"
         },
         {
          "age": 47,
          "bmi": 32,
          "bmi_cat": "obese",
          "charges": 8551.347,
          "children": 1,
          "region": "southwest",
          "sex": "female",
          "smoker": "no"
         },
         {
          "age": 59,
          "bmi": 35.2,
          "bmi_cat": "obese",
          "charges": 12244.531,
          "children": 0,
          "region": "southeast",
          "sex": "female",
          "smoker": "no"
         },
         {
          "age": 19,
          "bmi": 23.4,
          "bmi_cat": "normal",
          "charges": 2913.5690000000004,
          "children": 2,
          "region": "southwest",
          "sex": "female",
          "smoker": "no"
         },
         {
          "age": 41,
          "bmi": 28.05,
          "bmi_cat": "overweight",
          "charges": 6770.1925,
          "children": 1,
          "region": "southeast",
          "sex": "female",
          "smoker": "no"
         },
         {
          "age": 35,
          "bmi": 34.8,
          "bmi_cat": "obese",
          "charges": 5246.047,
          "children": 1,
          "region": "southwest",
          "sex": "female",
          "smoker": "no"
         },
         {
          "age": 50,
          "bmi": 33.7,
          "bmi_cat": "obese",
          "charges": 11299.343,
          "children": 4,
          "region": "southwest",
          "sex": "female",
          "smoker": "no"
         },
         {
          "age": 62,
          "bmi": 30.495,
          "bmi_cat": "obese",
          "charges": 15019.76005,
          "children": 2,
          "region": "northwest",
          "sex": "female",
          "smoker": "no"
         },
         {
          "age": 29,
          "bmi": 38.83,
          "bmi_cat": "obese",
          "charges": 5138.2567,
          "children": 3,
          "region": "southeast",
          "sex": "female",
          "smoker": "no"
         },
         {
          "age": 21,
          "bmi": 26.4,
          "bmi_cat": "overweight",
          "charges": 2597.779,
          "children": 1,
          "region": "southwest",
          "sex": "female",
          "smoker": "no"
         },
         {
          "age": 18,
          "bmi": 37.29,
          "bmi_cat": "obese",
          "charges": 2219.4451,
          "children": 1,
          "region": "southeast",
          "sex": "female",
          "smoker": "no"
         },
         {
          "age": 43,
          "bmi": 46.2,
          "bmi_cat": "obese",
          "charges": 45863.205,
          "children": 0,
          "region": "southeast",
          "sex": "female",
          "smoker": "yes"
         },
         {
          "age": 19,
          "bmi": 27.265,
          "bmi_cat": "overweight",
          "charges": 22493.65964,
          "children": 2,
          "region": "northwest",
          "sex": "male",
          "smoker": "no"
         },
         {
          "age": 63,
          "bmi": 26.98,
          "bmi_cat": "overweight",
          "charges": 28950.4692,
          "children": 0,
          "region": "northwest",
          "sex": "female",
          "smoker": "yes"
         },
         {
          "age": 51,
          "bmi": 24.795,
          "bmi_cat": "normal",
          "charges": 23967.38305,
          "children": 2,
          "region": "northwest",
          "sex": "male",
          "smoker": "yes"
         },
         {
          "age": 51,
          "bmi": 27.74,
          "bmi_cat": "overweight",
          "charges": 9957.7216,
          "children": 1,
          "region": "northeast",
          "sex": "male",
          "smoker": "no"
         },
         {
          "age": 43,
          "bmi": 35.97,
          "bmi_cat": "obese",
          "charges": 42124.5153,
          "children": 3,
          "region": "southeast",
          "sex": "male",
          "smoker": "yes"
         },
         {
          "age": 28,
          "bmi": 33,
          "bmi_cat": "obese",
          "charges": 4449.462,
          "children": 3,
          "region": "southeast",
          "sex": "male",
          "smoker": "no"
         },
         {
          "age": 37,
          "bmi": 30.875,
          "bmi_cat": "obese",
          "charges": 6796.86325,
          "children": 3,
          "region": "northwest",
          "sex": "male",
          "smoker": "no"
         },
         {
          "age": 58,
          "bmi": 34.39,
          "bmi_cat": "obese",
          "charges": 11743.9341,
          "children": 0,
          "region": "northwest",
          "sex": "male",
          "smoker": "no"
         },
         {
          "age": 18,
          "bmi": 35.625,
          "bmi_cat": "obese",
          "charges": 2211.13075,
          "children": 0,
          "region": "northeast",
          "sex": "female",
          "smoker": "no"
         },
         {
          "age": 25,
          "bmi": 23.9,
          "bmi_cat": "normal",
          "charges": 5080.096,
          "children": 5,
          "region": "southwest",
          "sex": "male",
          "smoker": "no"
         },
         {
          "age": 50,
          "bmi": 34.2,
          "bmi_cat": "obese",
          "charges": 42856.837999999996,
          "children": 2,
          "region": "southwest",
          "sex": "male",
          "smoker": "yes"
         },
         {
          "age": 56,
          "bmi": 32.3,
          "bmi_cat": "obese",
          "charges": 13430.265,
          "children": 3,
          "region": "northeast",
          "sex": "female",
          "smoker": "no"
         },
         {
          "age": 60,
          "bmi": 28.7,
          "bmi_cat": "overweight",
          "charges": 13224.693000000001,
          "children": 1,
          "region": "southwest",
          "sex": "female",
          "smoker": "no"
         },
         {
          "age": 47,
          "bmi": 25.46,
          "bmi_cat": "overweight",
          "charges": 9225.2564,
          "children": 2,
          "region": "northeast",
          "sex": "male",
          "smoker": "no"
         },
         {
          "age": 21,
          "bmi": 20.235,
          "bmi_cat": "normal",
          "charges": 3861.20965,
          "children": 3,
          "region": "northeast",
          "sex": "male",
          "smoker": "no"
         },
         {
          "age": 32,
          "bmi": 30.8,
          "bmi_cat": "obese",
          "charges": 5253.524,
          "children": 3,
          "region": "southwest",
          "sex": "male",
          "smoker": "no"
         },
         {
          "age": 41,
          "bmi": 31.6,
          "bmi_cat": "obese",
          "charges": 6186.1269999999995,
          "children": 0,
          "region": "southwest",
          "sex": "female",
          "smoker": "no"
         },
         {
          "age": 25,
          "bmi": 24.13,
          "bmi_cat": "normal",
          "charges": 15817.9857,
          "children": 0,
          "region": "northwest",
          "sex": "male",
          "smoker": "yes"
         },
         {
          "age": 52,
          "bmi": 38.38,
          "bmi_cat": "obese",
          "charges": 11396.9002,
          "children": 2,
          "region": "northeast",
          "sex": "female",
          "smoker": "no"
         },
         {
          "age": 30,
          "bmi": 28.69,
          "bmi_cat": "overweight",
          "charges": 20745.9891,
          "children": 3,
          "region": "northwest",
          "sex": "male",
          "smoker": "yes"
         },
         {
          "age": 53,
          "bmi": 35.9,
          "bmi_cat": "obese",
          "charges": 11163.568000000001,
          "children": 2,
          "region": "southwest",
          "sex": "female",
          "smoker": "no"
         },
         {
          "age": 31,
          "bmi": 31.065,
          "bmi_cat": "obese",
          "charges": 4347.02335,
          "children": 0,
          "region": "northeast",
          "sex": "female",
          "smoker": "no"
         },
         {
          "age": 18,
          "bmi": 31.35,
          "bmi_cat": "obese",
          "charges": 1622.1885,
          "children": 0,
          "region": "southeast",
          "sex": "female",
          "smoker": "no"
         },
         {
          "age": 24,
          "bmi": 22.6,
          "bmi_cat": "normal",
          "charges": 2457.502,
          "children": 0,
          "region": "southwest",
          "sex": "female",
          "smoker": "no"
         },
         {
          "age": 28,
          "bmi": 37.62,
          "bmi_cat": "obese",
          "charges": 3766.8838,
          "children": 1,
          "region": "southeast",
          "sex": "female",
          "smoker": "no"
         },
         {
          "age": 54,
          "bmi": 32.775,
          "bmi_cat": "obese",
          "charges": 10435.06525,
          "children": 0,
          "region": "northeast",
          "sex": "male",
          "smoker": "no"
         },
         {
          "age": 64,
          "bmi": 39.16,
          "bmi_cat": "obese",
          "charges": 14418.2804,
          "children": 1,
          "region": "southeast",
          "sex": "male",
          "smoker": "no"
         },
         {
          "age": 39,
          "bmi": 21.85,
          "bmi_cat": "normal",
          "charges": 6117.4945,
          "children": 1,
          "region": "northwest",
          "sex": "male",
          "smoker": "no"
         },
         {
          "age": 53,
          "bmi": 36.86,
          "bmi_cat": "obese",
          "charges": 46661.4424,
          "children": 3,
          "region": "northwest",
          "sex": "female",
          "smoker": "yes"
         },
         {
          "age": 46,
          "bmi": 27.74,
          "bmi_cat": "overweight",
          "charges": 8026.6666,
          "children": 0,
          "region": "northwest",
          "sex": "female",
          "smoker": "no"
         },
         {
          "age": 34,
          "bmi": 25.3,
          "bmi_cat": "overweight",
          "charges": 18972.495,
          "children": 2,
          "region": "southeast",
          "sex": "male",
          "smoker": "yes"
         },
         {
          "age": 20,
          "bmi": 28.975,
          "bmi_cat": "overweight",
          "charges": 2257.47525,
          "children": 0,
          "region": "northwest",
          "sex": "female",
          "smoker": "no"
         },
         {
          "age": 19,
          "bmi": 27.93,
          "bmi_cat": "overweight",
          "charges": 18838.70366,
          "children": 3,
          "region": "northwest",
          "sex": "female",
          "smoker": "no"
         },
         {
          "age": 31,
          "bmi": 36.3,
          "bmi_cat": "obese",
          "charges": 38711,
          "children": 2,
          "region": "southwest",
          "sex": "male",
          "smoker": "yes"
         },
         {
          "age": 43,
          "bmi": 26.885,
          "bmi_cat": "overweight",
          "charges": 21774.32215,
          "children": 0,
          "region": "northwest",
          "sex": "female",
          "smoker": "yes"
         },
         {
          "age": 40,
          "bmi": 32.3,
          "bmi_cat": "obese",
          "charges": 6986.696999999999,
          "children": 2,
          "region": "northwest",
          "sex": "male",
          "smoker": "no"
         },
         {
          "age": 38,
          "bmi": 34.7,
          "bmi_cat": "obese",
          "charges": 6082.405,
          "children": 2,
          "region": "southwest",
          "sex": "male",
          "smoker": "no"
         },
         {
          "age": 35,
          "bmi": 27.74,
          "bmi_cat": "overweight",
          "charges": 20984.0936,
          "children": 2,
          "region": "northeast",
          "sex": "male",
          "smoker": "yes"
         },
         {
          "age": 21,
          "bmi": 22.135,
          "bmi_cat": "normal",
          "charges": 2585.85065,
          "children": 0,
          "region": "northeast",
          "sex": "female",
          "smoker": "no"
         },
         {
          "age": 41,
          "bmi": 37.1,
          "bmi_cat": "obese",
          "charges": 7371.772,
          "children": 2,
          "region": "southwest",
          "sex": "female",
          "smoker": "no"
         },
         {
          "age": 52,
          "bmi": 47.74,
          "bmi_cat": "obese",
          "charges": 9748.9106,
          "children": 1,
          "region": "southeast",
          "sex": "male",
          "smoker": "no"
         },
         {
          "age": 25,
          "bmi": 27.55,
          "bmi_cat": "overweight",
          "charges": 2523.1695,
          "children": 0,
          "region": "northwest",
          "sex": "male",
          "smoker": "no"
         },
         {
          "age": 24,
          "bmi": 25.8,
          "bmi_cat": "overweight",
          "charges": 1972.95,
          "children": 0,
          "region": "southwest",
          "sex": "male",
          "smoker": "no"
         },
         {
          "age": 53,
          "bmi": 39.6,
          "bmi_cat": "obese",
          "charges": 10579.711000000001,
          "children": 1,
          "region": "southeast",
          "sex": "female",
          "smoker": "no"
         },
         {
          "age": 28,
          "bmi": 26.51,
          "bmi_cat": "overweight",
          "charges": 4340.4409,
          "children": 2,
          "region": "southeast",
          "sex": "female",
          "smoker": "no"
         },
         {
          "age": 39,
          "bmi": 32.8,
          "bmi_cat": "obese",
          "charges": 5649.715,
          "children": 0,
          "region": "southwest",
          "sex": "female",
          "smoker": "no"
         },
         {
          "age": 18,
          "bmi": 15.96,
          "bmi_cat": "underweight",
          "charges": 1694.7964,
          "children": 0,
          "region": "northeast",
          "sex": "male",
          "smoker": "no"
         },
         {
          "age": 19,
          "bmi": 36.575,
          "bmi_cat": "obese",
          "charges": 2136.88225,
          "children": 0,
          "region": "northwest",
          "sex": "female",
          "smoker": "no"
         },
         {
          "age": 18,
          "bmi": 20.79,
          "bmi_cat": "normal",
          "charges": 1607.5101,
          "children": 0,
          "region": "southeast",
          "sex": "female",
          "smoker": "no"
         },
         {
          "age": 18,
          "bmi": 26.315,
          "bmi_cat": "overweight",
          "charges": 2198.18985,
          "children": 0,
          "region": "northeast",
          "sex": "female",
          "smoker": "no"
         },
         {
          "age": 31,
          "bmi": 23.6,
          "bmi_cat": "normal",
          "charges": 4931.647,
          "children": 2,
          "region": "southwest",
          "sex": "female",
          "smoker": "no"
         },
         {
          "age": 62,
          "bmi": 32.015,
          "bmi_cat": "obese",
          "charges": 45710.20785,
          "children": 0,
          "region": "northeast",
          "sex": "male",
          "smoker": "yes"
         },
         {
          "age": 42,
          "bmi": 23.37,
          "bmi_cat": "normal",
          "charges": 19964.7463,
          "children": 0,
          "region": "northeast",
          "sex": "female",
          "smoker": "yes"
         },
         {
          "age": 49,
          "bmi": 32.3,
          "bmi_cat": "obese",
          "charges": 10269.46,
          "children": 3,
          "region": "northwest",
          "sex": "male",
          "smoker": "no"
         },
         {
          "age": 27,
          "bmi": 30.5,
          "bmi_cat": "obese",
          "charges": 2494.022,
          "children": 0,
          "region": "southwest",
          "sex": "male",
          "smoker": "no"
         },
         {
          "age": 50,
          "bmi": 32.3,
          "bmi_cat": "obese",
          "charges": 9630.396999999999,
          "children": 2,
          "region": "southwest",
          "sex": "male",
          "smoker": "no"
         },
         {
          "age": 27,
          "bmi": 45.9,
          "bmi_cat": "obese",
          "charges": 3693.428,
          "children": 2,
          "region": "southwest",
          "sex": "male",
          "smoker": "no"
         },
         {
          "age": 59,
          "bmi": 32.1,
          "bmi_cat": "obese",
          "charges": 14007.222,
          "children": 3,
          "region": "southwest",
          "sex": "female",
          "smoker": "no"
         },
         {
          "age": 63,
          "bmi": 36.3,
          "bmi_cat": "obese",
          "charges": 13887.204,
          "children": 0,
          "region": "southeast",
          "sex": "female",
          "smoker": "no"
         },
         {
          "age": 31,
          "bmi": 29.1,
          "bmi_cat": "overweight",
          "charges": 3761.292,
          "children": 0,
          "region": "southwest",
          "sex": "female",
          "smoker": "no"
         },
         {
          "age": 27,
          "bmi": 23.21,
          "bmi_cat": "normal",
          "charges": 3561.8889,
          "children": 1,
          "region": "southeast",
          "sex": "female",
          "smoker": "no"
         },
         {
          "age": 61,
          "bmi": 31.16,
          "bmi_cat": "obese",
          "charges": 13429.0354,
          "children": 0,
          "region": "northwest",
          "sex": "female",
          "smoker": "no"
         },
         {
          "age": 24,
          "bmi": 25.27,
          "bmi_cat": "overweight",
          "charges": 3044.2133,
          "children": 0,
          "region": "northeast",
          "sex": "female",
          "smoker": "no"
         },
         {
          "age": 32,
          "bmi": 28.93,
          "bmi_cat": "overweight",
          "charges": 3972.9247,
          "children": 0,
          "region": "southeast",
          "sex": "female",
          "smoker": "no"
         },
         {
          "age": 57,
          "bmi": 40.945,
          "bmi_cat": "obese",
          "charges": 11566.30055,
          "children": 0,
          "region": "northeast",
          "sex": "male",
          "smoker": "no"
         },
         {
          "age": 64,
          "bmi": 31.825,
          "bmi_cat": "obese",
          "charges": 16069.08475,
          "children": 2,
          "region": "northeast",
          "sex": "female",
          "smoker": "no"
         },
         {
          "age": 54,
          "bmi": 24.035,
          "bmi_cat": "normal",
          "charges": 10422.91665,
          "children": 0,
          "region": "northeast",
          "sex": "male",
          "smoker": "no"
         },
         {
          "age": 43,
          "bmi": 35.31,
          "bmi_cat": "obese",
          "charges": 18806.14547,
          "children": 2,
          "region": "southeast",
          "sex": "male",
          "smoker": "no"
         },
         {
          "age": 58,
          "bmi": 28.595,
          "bmi_cat": "overweight",
          "charges": 11735.87905,
          "children": 0,
          "region": "northwest",
          "sex": "male",
          "smoker": "no"
         },
         {
          "age": 57,
          "bmi": 27.94,
          "bmi_cat": "overweight",
          "charges": 11554.2236,
          "children": 1,
          "region": "southeast",
          "sex": "male",
          "smoker": "no"
         },
         {
          "age": 18,
          "bmi": 41.14,
          "bmi_cat": "obese",
          "charges": 1146.7966,
          "children": 0,
          "region": "southeast",
          "sex": "male",
          "smoker": "no"
         },
         {
          "age": 44,
          "bmi": 38.06,
          "bmi_cat": "obese",
          "charges": 7152.6714,
          "children": 1,
          "region": "southeast",
          "sex": "male",
          "smoker": "no"
         }
        ]
       },
       "encoding": {
        "color": {
         "field": "sex",
         "type": "nominal"
        },
        "x": {
         "field": "age",
         "title": "Age",
         "type": "nominal"
        },
        "y": {
         "field": "bmi",
         "title": "BMI",
         "type": "quantitative"
        }
       },
       "mark": "point",
       "title": "Males & Females BMI Over Age"
      },
      "image/png": "[encoded data removed]",
      "text/plain": [
       "<VegaLite 3 object>\n",
       "\n",
       "If you see this message, it means the renderer has not been properly enabled\n",
       "for the frontend that you are using. For more information, see\n",
       "https://altair-viz.github.io/user_guide/troubleshooting.html\n"
      ]
     },
     "execution_count": 20,
     "metadata": {},
     "output_type": "execute_result"
    }
   ],
   "source": [
    "alt.Chart(X_train).mark_point().encode(\n",
    "    \n",
    "    alt.X('age:N', title = 'Age'),\n",
    "    alt.Y('bmi:Q', title = 'BMI'),\n",
    "    alt.Color('sex:N')\n",
    ").properties(title='Males & Females BMI Over Age')"
   ]
  },
  {
   "cell_type": "markdown",
   "metadata": {},
   "source": [
    "The BMI doesn't seem to vary depending on the age nor the sex."
   ]
  },
  {
   "cell_type": "markdown",
   "metadata": {},
   "source": [
    "**Let's see how the spending for medical treatments changes regarding to the BMI of a person**\n",
    "\n",
    "We expect expenditures to be higher for people who have very high BMI."
   ]
  },
  {
   "cell_type": "code",
   "execution_count": 21,
   "metadata": {},
   "outputs": [
    {
     "data": {
      "application/vnd.vegalite.v3+json": {
       "$schema": "https://vega.github.io/schema/vega-lite/v3.4.0.json",
       "config": {
        "mark": {
         "tooltip": null
        },
        "view": {
         "height": 300,
         "width": 400
        }
       },
       "data": {
        "name": "data-5f2b5ac5a01c95172c4ef28535a41ce8"
       },
       "datasets": {
        "data-5f2b5ac5a01c95172c4ef28535a41ce8": [
         {
          "age": 35.47222222222222,
          "bmi": 22.52409722222222,
          "bmi_cat": "normal",
          "charges": 10419.311477361112,
          "children": 1.0138888888888888,
          "sex": "female"
         },
         {
          "age": 36.76470588235294,
          "bmi": 22.678088235294123,
          "bmi_cat": "normal",
          "charges": 10051.367449264704,
          "children": 1.1176470588235294,
          "sex": "male"
         },
         {
          "age": 40.70762711864407,
          "bmi": 34.947902542372894,
          "bmi_cat": "obese",
          "charges": 14247.530830550844,
          "children": 1.1101694915254237,
          "sex": "female"
         },
         {
          "age": 40.59574468085106,
          "bmi": 35.345460992907775,
          "bmi_cat": "obese",
          "charges": 16252.266001666672,
          "children": 1.124113475177305,
          "sex": "male"
         },
         {
          "age": 39.36764705882353,
          "bmi": 27.620257352941167,
          "bmi_cat": "overweight",
          "charges": 10544.290201249996,
          "children": 0.8823529411764706,
          "sex": "female"
         },
         {
          "age": 38.317460317460316,
          "bmi": 27.593611111111116,
          "bmi_cat": "overweight",
          "charges": 11656.45963761905,
          "children": 1.1666666666666667,
          "sex": "male"
         },
         {
          "age": 39.111111111111114,
          "bmi": 17.834999999999997,
          "bmi_cat": "underweight",
          "charges": 13852.205644444444,
          "children": 1.4444444444444444,
          "sex": "female"
         },
         {
          "age": 25.285714285714285,
          "bmi": 17.208571428571428,
          "bmi_cat": "underweight",
          "charges": 4765.539771428572,
          "children": 0.8571428571428571,
          "sex": "male"
         }
        ]
       },
       "encoding": {
        "color": {
         "field": "sex",
         "type": "nominal"
        },
        "column": {
         "field": "bmi_cat",
         "sort": [
          "underweight",
          "normal",
          "overweight",
          "obese"
         ],
         "title": "",
         "type": "nominal"
        },
        "x": {
         "axis": {
          "labelAngle": 0
         },
         "field": "sex",
         "sort": [
          "underweight",
          "normal",
          "overweight",
          "obese"
         ],
         "title": "",
         "type": "nominal"
        },
        "y": {
         "field": "charges",
         "title": "Expenses",
         "type": "quantitative"
        }
       },
       "mark": "bar",
       "title": "Medical Expenses vs BMI for each sex",
       "width": 100
      },
      "image/png": "[encoded data removed]",
      "text/plain": [
       "<VegaLite 3 object>\n",
       "\n",
       "If you see this message, it means the renderer has not been properly enabled\n",
       "for the frontend that you are using. For more information, see\n",
       "https://altair-viz.github.io/user_guide/troubleshooting.html\n"
      ]
     },
     "execution_count": 21,
     "metadata": {},
     "output_type": "execute_result"
    }
   ],
   "source": [
    "alt.Chart(training_df.groupby(['bmi_cat','sex']).mean().reset_index()).mark_bar().encode(\n",
    "        alt.X('sex:N', title = '', sort=['underweight', 'normal', 'overweight', 'obese'], axis=alt.Axis(labelAngle=0)),\n",
    "        alt.Y('charges:Q', title = 'Expenses'),\n",
    "        alt.Color('sex:N'), \n",
    "        alt.Column('bmi_cat:N', sort=['underweight', 'normal', 'overweight', 'obese'], title='')\n",
    ").properties(title='Medical Expenses vs BMI for each sex', width=100)"
   ]
  },
  {
   "cell_type": "markdown",
   "metadata": {},
   "source": [
    "The highest expenses seem to occur for people from both genders who are obese. "
   ]
  },
  {
   "cell_type": "code",
   "execution_count": null,
   "metadata": {},
   "outputs": [],
   "source": []
  }
 ],
 "metadata": {
  "kernelspec": {
   "display_name": "Python 3",
   "language": "python",
   "name": "python3"
  },
  "language_info": {
   "codemirror_mode": {
    "name": "ipython",
    "version": 3
   },
   "file_extension": ".py",
   "mimetype": "text/x-python",
   "name": "python",
   "nbconvert_exporter": "python",
   "pygments_lexer": "ipython3",
   "version": "3.7.3"
  }
 },
 "nbformat": 4,
 "nbformat_minor": 4
}
