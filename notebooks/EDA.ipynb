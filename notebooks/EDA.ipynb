{
 "cells": [
  {
   "cell_type": "markdown",
   "metadata": {},
   "source": [
    "# UBC-MDS/DSCI_522_group_401\n",
    "# Predicting Medical Insurance Cost\n",
    "Authors: Karanpal Singh, Sreejith Munthikodu, Sirine Chahma  \n",
    "[Data Source](https://gist.github.com/meperezcuello/82a9f1c1c473d6585e750ad2e3c05a41)"
   ]
  },
  {
   "cell_type": "code",
   "execution_count": 1,
   "metadata": {},
   "outputs": [],
   "source": [
    "import pandas as pd\n",
    "import numpy as np\n",
    "import matplotlib.pyplot as plt\n",
    "import seaborn as sns\n",
    "import altair as alt\n",
    "\n",
    "from sklearn.model_selection import train_test_split"
   ]
  },
  {
   "cell_type": "markdown",
   "metadata": {},
   "source": [
    "### Load the data"
   ]
  },
  {
   "cell_type": "code",
   "execution_count": 2,
   "metadata": {},
   "outputs": [
    {
     "data": {
      "text/html": [
       "<div>\n",
       "<style scoped>\n",
       "    .dataframe tbody tr th:only-of-type {\n",
       "        vertical-align: middle;\n",
       "    }\n",
       "\n",
       "    .dataframe tbody tr th {\n",
       "        vertical-align: top;\n",
       "    }\n",
       "\n",
       "    .dataframe thead th {\n",
       "        text-align: right;\n",
       "    }\n",
       "</style>\n",
       "<table border=\"1\" class=\"dataframe\">\n",
       "  <thead>\n",
       "    <tr style=\"text-align: right;\">\n",
       "      <th></th>\n",
       "      <th>age</th>\n",
       "      <th>sex</th>\n",
       "      <th>bmi</th>\n",
       "      <th>children</th>\n",
       "      <th>smoker</th>\n",
       "      <th>region</th>\n",
       "      <th>charges</th>\n",
       "    </tr>\n",
       "  </thead>\n",
       "  <tbody>\n",
       "    <tr>\n",
       "      <th>0</th>\n",
       "      <td>19</td>\n",
       "      <td>female</td>\n",
       "      <td>27.900</td>\n",
       "      <td>0</td>\n",
       "      <td>yes</td>\n",
       "      <td>southwest</td>\n",
       "      <td>16884.92400</td>\n",
       "    </tr>\n",
       "    <tr>\n",
       "      <th>1</th>\n",
       "      <td>18</td>\n",
       "      <td>male</td>\n",
       "      <td>33.770</td>\n",
       "      <td>1</td>\n",
       "      <td>no</td>\n",
       "      <td>southeast</td>\n",
       "      <td>1725.55230</td>\n",
       "    </tr>\n",
       "    <tr>\n",
       "      <th>2</th>\n",
       "      <td>28</td>\n",
       "      <td>male</td>\n",
       "      <td>33.000</td>\n",
       "      <td>3</td>\n",
       "      <td>no</td>\n",
       "      <td>southeast</td>\n",
       "      <td>4449.46200</td>\n",
       "    </tr>\n",
       "    <tr>\n",
       "      <th>3</th>\n",
       "      <td>33</td>\n",
       "      <td>male</td>\n",
       "      <td>22.705</td>\n",
       "      <td>0</td>\n",
       "      <td>no</td>\n",
       "      <td>northwest</td>\n",
       "      <td>21984.47061</td>\n",
       "    </tr>\n",
       "    <tr>\n",
       "      <th>4</th>\n",
       "      <td>32</td>\n",
       "      <td>male</td>\n",
       "      <td>28.880</td>\n",
       "      <td>0</td>\n",
       "      <td>no</td>\n",
       "      <td>northwest</td>\n",
       "      <td>3866.85520</td>\n",
       "    </tr>\n",
       "  </tbody>\n",
       "</table>\n",
       "</div>"
      ],
      "text/plain": [
       "   age     sex     bmi  children smoker     region      charges\n",
       "0   19  female  27.900         0    yes  southwest  16884.92400\n",
       "1   18    male  33.770         1     no  southeast   1725.55230\n",
       "2   28    male  33.000         3     no  southeast   4449.46200\n",
       "3   33    male  22.705         0     no  northwest  21984.47061\n",
       "4   32    male  28.880         0     no  northwest   3866.85520"
      ]
     },
     "execution_count": 2,
     "metadata": {},
     "output_type": "execute_result"
    }
   ],
   "source": [
    "medical_data = pd.read_csv(\"../data/original/medical_cost_data.csv\")\n",
    "medical_data.head()"
   ]
  },
  {
   "cell_type": "code",
   "execution_count": 3,
   "metadata": {},
   "outputs": [
    {
     "name": "stdout",
     "output_type": "stream",
     "text": [
      "Total number of samples: 1338\n"
     ]
    }
   ],
   "source": [
    "print(f\"Total number of samples: {medical_data.shape[0]}\")"
   ]
  },
  {
   "cell_type": "markdown",
   "metadata": {},
   "source": [
    "### Split the data into training and test"
   ]
  },
  {
   "cell_type": "code",
   "execution_count": 4,
   "metadata": {},
   "outputs": [],
   "source": [
    "X = medical_data.drop(columns=\"charges\")\n",
    "y = medical_data.charges\n",
    "\n",
    "X_train, X_test, y_train, y_test = train_test_split(X, y, test_size=0.3, random_state=123)"
   ]
  },
  {
   "cell_type": "markdown",
   "metadata": {},
   "source": [
    "### Save the training and test data"
   ]
  },
  {
   "cell_type": "code",
   "execution_count": 5,
   "metadata": {},
   "outputs": [],
   "source": [
    "# Combine X and y\n",
    "medical_cost_data_training = pd.concat([X_train, y_train], axis=1)\n",
    "medical_cost_data_test = pd.concat([X_test, y_test], axis=1)\n",
    "\n",
    "medical_cost_data_training.to_csv(\"../data/processed/medical_cost_data_training.csv\", index=False )\n",
    "medical_cost_data_test.to_csv(\"../data/processed/medical_cost_data_test.csv\", index=False)\n",
    "\n",
    "# Resetting variables to zero to prevent any data leakage\n",
    "X_train, X_test, y_train, y_test = 0, 0, 0, 0"
   ]
  },
  {
   "cell_type": "markdown",
   "metadata": {},
   "source": [
    "# Exploratory Data Analysis\n",
    "### Hereafter only the training data is used. "
   ]
  },
  {
   "cell_type": "code",
   "execution_count": 6,
   "metadata": {},
   "outputs": [],
   "source": [
    "# load training data\n",
    "medical_data = pd.read_csv(\"../data/processed/medical_cost_data_training.csv\") \n",
    "\n",
    "X_train = medical_data.drop(columns=\"charges\")\n",
    "y_train = medical_data.charges"
   ]
  },
  {
   "cell_type": "markdown",
   "metadata": {},
   "source": [
    "### Basic preprocessing"
   ]
  },
  {
   "cell_type": "code",
   "execution_count": 7,
   "metadata": {},
   "outputs": [
    {
     "data": {
      "text/plain": [
       "age           int64\n",
       "sex          object\n",
       "bmi         float64\n",
       "children      int64\n",
       "smoker       object\n",
       "region       object\n",
       "dtype: object"
      ]
     },
     "execution_count": 7,
     "metadata": {},
     "output_type": "execute_result"
    }
   ],
   "source": [
    "X_train.dtypes"
   ]
  },
  {
   "cell_type": "code",
   "execution_count": 8,
   "metadata": {},
   "outputs": [
    {
     "data": {
      "text/plain": [
       "False"
      ]
     },
     "execution_count": 8,
     "metadata": {},
     "output_type": "execute_result"
    }
   ],
   "source": [
    "# Check for missing values\n",
    "X_train.isna().any().any()"
   ]
  },
  {
   "cell_type": "code",
   "execution_count": 9,
   "metadata": {},
   "outputs": [
    {
     "name": "stdout",
     "output_type": "stream",
     "text": [
      "Numeric features are: ['age', 'bmi', 'children']\n",
      "Categoric features are: ['sex', 'smoker', 'region']\n"
     ]
    }
   ],
   "source": [
    "# Identify categoric and numeric features\n",
    "data_types = X_train.dtypes\n",
    "categoric_features = []\n",
    "numeric_features = []\n",
    "for d_type, feature in zip(data_types, data_types.index):\n",
    "    if d_type == \"object\":\n",
    "        categoric_features.append(feature)\n",
    "    else:\n",
    "        numeric_features.append(feature)\n",
    "\n",
    "numeric_features = numeric_features\n",
    "print(f\"Numeric features are: {numeric_features}\")\n",
    "print(f\"Categoric features are: {categoric_features}\")"
   ]
  },
  {
   "cell_type": "code",
   "execution_count": 10,
   "metadata": {},
   "outputs": [
    {
     "name": "stdout",
     "output_type": "stream",
     "text": [
      "Total samples: 936\n",
      "Number of unique values in sex is 2\n",
      "Number of unique values in smoker is 2\n",
      "Number of unique values in region is 4\n"
     ]
    }
   ],
   "source": [
    "# Explore cardinality in categoric features\n",
    "print(f\"Total samples: {X_train.shape[0]}\")\n",
    "for cat_feature in categoric_features:\n",
    "    print(f\"Number of unique values in {cat_feature} is {X_train[cat_feature].nunique()}\")"
   ]
  },
  {
   "cell_type": "code",
   "execution_count": 11,
   "metadata": {},
   "outputs": [
    {
     "name": "stdout",
     "output_type": "stream",
     "text": [
      "Total outliers in age is 1\n",
      "Total outliers in bmi is 9\n",
      "Total outliers in children is 1\n"
     ]
    }
   ],
   "source": [
    "# Detect outliers in numeric features\n",
    "\n",
    "def detect_outlier(x):\n",
    "    \"\"\"\n",
    "    Detect outliers from the given array using inter-quartile range. \n",
    "    Considered an outlier if value is less than Q1 - 1.5 IQR or\n",
    "    Q2 + 1.5 IQR\n",
    "    \n",
    "    Parameters\n",
    "    ----------\n",
    "    x : list, array-like\n",
    "        input array of numbers\n",
    "\n",
    "    Returns\n",
    "    -------\n",
    "    tuple\n",
    "        tuple containing indices of the outliers and outliers \n",
    "\n",
    "    \"\"\"\n",
    "    Q1 = np.percentile(x, 25)\n",
    "    Q3 = np.percentile(x, 75)\n",
    "    IQR = Q3 - Q1\n",
    "    ceil =  Q3 + 1.5*IQR\n",
    "    floor = Q1 - 1.5*IQR\n",
    "    outlier_index = x.index[(x < floor) | (x > ceil)]\n",
    "    outliers = x[outlier_index]\n",
    "    \n",
    "    return outlier_index, outliers\n",
    "\n",
    "outliers = {}\n",
    "for col in numeric_features:\n",
    "    outlier_index, outliers = detect_outlier(X_train[col])\n",
    "    outliers[col] = outlier_index\n",
    "    print(f\"Total outliers in {col} is {len(outliers)}\")\n",
    "    "
   ]
  },
  {
   "cell_type": "code",
   "execution_count": 12,
   "metadata": {},
   "outputs": [
    {
     "data": {
      "image/png": "[encoded data removed]",
      "text/plain": [
       "<Figure size 1440x360 with 3 Axes>"
      ]
     },
     "metadata": {
      "needs_background": "light"
     },
     "output_type": "display_data"
    }
   ],
   "source": [
    "# Visualize the distribution using boxplot\n",
    "fig, ax = plt.subplots(1, 3, figsize=(20, 5))\n",
    "axes = ax.reshape(-1)\n",
    "for col, ax in zip(numeric_features, axes):\n",
    "    sns.boxplot(col,  data = X_train, ax = ax)"
   ]
  },
  {
   "cell_type": "markdown",
   "metadata": {},
   "source": [
    "### Exploring features"
   ]
  },
  {
   "cell_type": "markdown",
   "metadata": {},
   "source": [
    "**Let's see how much money males and females spending for medical treatments during their lifetime**"
   ]
  },
  {
   "cell_type": "code",
   "execution_count": 50,
   "metadata": {},
   "outputs": [
    {
     "data": {
      "application/vnd.vegalite.v3+json": {
       "$schema": "https://vega.github.io/schema/vega-lite/v3.4.0.json",
       "config": {
        "mark": {
         "tooltip": null
        },
        "view": {
         "height": 300,
         "width": 400
        }
       },
       "data": {
        "name": "data-b509ca115f90f33bd64c78e9a6ce9ecc"
       },
       "datasets": {
        "data-b509ca115f90f33bd64c78e9a6ce9ecc": [
         {
          "age": 18,
          "bmi": 33.31590909090908,
          "charges": 5404.031395454545,
          "children": 0.3181818181818182,
          "sex": "female"
         },
         {
          "age": 18,
          "bmi": 29.881666666666664,
          "charges": 6736.837805,
          "children": 0.5416666666666666,
          "sex": "male"
         },
         {
          "age": 19,
          "bmi": 27.3652,
          "charges": 8582.068511599999,
          "children": 0.56,
          "sex": "female"
         },
         {
          "age": 19,
          "bmi": 27.641964285714288,
          "charges": 10205.318959642858,
          "children": 0.25,
          "sex": "male"
         },
         {
          "age": 20,
          "bmi": 30.1475,
          "charges": 6133.696122,
          "children": 0.7,
          "sex": "female"
         },
         {
          "age": 20,
          "bmi": 32.33909090909091,
          "charges": 12567.829322727273,
          "children": 1.4545454545454546,
          "sex": "male"
         },
         {
          "age": 21,
          "bmi": 30.7825,
          "charges": 7148.507215,
          "children": 1,
          "sex": "female"
         },
         {
          "age": 21,
          "bmi": 29.612000000000002,
          "charges": 4924.7033710000005,
          "children": 0.5,
          "sex": "male"
         },
         {
          "age": 22,
          "bmi": 28.368500000000004,
          "charges": 8947.262214999999,
          "children": 0.5,
          "sex": "female"
         },
         {
          "age": 22,
          "bmi": 33.96653846153846,
          "charges": 13493.553950000001,
          "children": 0.6923076923076923,
          "sex": "male"
         },
         {
          "age": 23,
          "bmi": 31.366666666666667,
          "charges": 14340.787324444445,
          "children": 0.8888888888888888,
          "sex": "female"
         },
         {
          "age": 23,
          "bmi": 32.471875,
          "charges": 2385.9129062499997,
          "children": 0.625,
          "sex": "male"
         },
         {
          "age": 24,
          "bmi": 27.331923076923083,
          "charges": 6884.345996923076,
          "children": 0.46153846153846156,
          "sex": "female"
         },
         {
          "age": 24,
          "bmi": 32.23857142857143,
          "charges": 13972.574954285712,
          "children": 0.5714285714285714,
          "sex": "male"
         },
         {
          "age": 25,
          "bmi": 30.688000000000006,
          "charges": 9329.918382,
          "children": 0.7,
          "sex": "female"
         },
         {
          "age": 25,
          "bmi": 29.239545454545453,
          "charges": 10234.720730000001,
          "children": 1.8181818181818181,
          "sex": "male"
         },
         {
          "age": 26,
          "bmi": 26.225,
          "charges": 7501.2695925,
          "children": 1.125,
          "sex": "female"
         },
         {
          "age": 26,
          "bmi": 28.38272727272727,
          "charges": 6109.667263636365,
          "children": 1,
          "sex": "male"
         },
         {
          "age": 27,
          "bmi": 25.0945,
          "charges": 10110.893375000003,
          "children": 0.9,
          "sex": "female"
         },
         {
          "age": 27,
          "bmi": 32.47611111111111,
          "charges": 8942.332127777778,
          "children": 0.7777777777777778,
          "sex": "male"
         },
         {
          "age": 28,
          "bmi": 27.386000000000003,
          "charges": 5761.511700000001,
          "children": 0.7,
          "sex": "female"
         },
         {
          "age": 28,
          "bmi": 30.883000000000003,
          "charges": 11826.108483999997,
          "children": 1.6,
          "sex": "male"
         },
         {
          "age": 29,
          "bmi": 28.938,
          "charges": 7173.43882,
          "children": 1.2,
          "sex": "female"
         },
         {
          "age": 29,
          "bmi": 31.349545454545456,
          "charges": 11037.759523636363,
          "children": 1.3636363636363635,
          "sex": "male"
         },
         {
          "age": 30,
          "bmi": 29.573499999999996,
          "charges": 11252.563665,
          "children": 1.8,
          "sex": "female"
         },
         {
          "age": 30,
          "bmi": 33.50600000000001,
          "charges": 14177.001161999997,
          "children": 1.6,
          "sex": "male"
         },
         {
          "age": 31,
          "bmi": 29.470000000000006,
          "charges": 9906.534242999998,
          "children": 1,
          "sex": "female"
         },
         {
          "age": 31,
          "bmi": 30.239615384615384,
          "charges": 12016.922219230768,
          "children": 1.6153846153846154,
          "sex": "male"
         },
         {
          "age": 32,
          "bmi": 31.103,
          "charges": 7202.650571,
          "children": 0.6,
          "sex": "female"
         },
         {
          "age": 32,
          "bmi": 32.051875,
          "charges": 8499.07035625,
          "children": 1.625,
          "sex": "male"
         },
         {
          "age": 33,
          "bmi": 30.53142857142857,
          "charges": 18806.983312857144,
          "children": 1.4285714285714286,
          "sex": "female"
         },
         {
          "age": 33,
          "bmi": 30.309999999999995,
          "charges": 11075.531256666667,
          "children": 1.8888888888888888,
          "sex": "male"
         },
         {
          "age": 34,
          "bmi": 30.213181818181816,
          "charges": 11802.545795454545,
          "children": 1.2727272727272727,
          "sex": "female"
         },
         {
          "age": 34,
          "bmi": 30.53666666666666,
          "charges": 15769.07613,
          "children": 0.6666666666666666,
          "sex": "male"
         },
         {
          "age": 35,
          "bmi": 32.42545454545455,
          "charges": 11853.381764545455,
          "children": 1.4545454545454546,
          "sex": "female"
         },
         {
          "age": 35,
          "bmi": 29.59777777777778,
          "charges": 13856.340052222222,
          "children": 1.7777777777777777,
          "sex": "male"
         },
         {
          "age": 36,
          "bmi": 26.986666666666668,
          "charges": 5830.2928,
          "children": 1.1666666666666667,
          "sex": "female"
         },
         {
          "age": 36,
          "bmi": 31.498,
          "charges": 12163.237219999999,
          "children": 1.4,
          "sex": "male"
         },
         {
          "age": 37,
          "bmi": 27.994999999999997,
          "charges": 18139.94305,
          "children": 1.2,
          "sex": "female"
         },
         {
          "age": 37,
          "bmi": 32.02375,
          "charges": 15584.82538166667,
          "children": 1.75,
          "sex": "male"
         },
         {
          "age": 38,
          "bmi": 28.05777777777778,
          "charges": 6556.95008888889,
          "children": 1.4444444444444444,
          "sex": "female"
         },
         {
          "age": 38,
          "bmi": 26.321875,
          "charges": 11841.93565625,
          "children": 1.5,
          "sex": "male"
         },
         {
          "age": 39,
          "bmi": 31.214375000000004,
          "charges": 9071.16223125,
          "children": 2.625,
          "sex": "female"
         },
         {
          "age": 39,
          "bmi": 30.215000000000003,
          "charges": 14169.9979975,
          "children": 1.375,
          "sex": "male"
         },
         {
          "age": 40,
          "bmi": 30.073124999999997,
          "charges": 16781.00300875,
          "children": 2.375,
          "sex": "female"
         },
         {
          "age": 40,
          "bmi": 31.30944444444444,
          "charges": 10234.095127777779,
          "children": 1.5555555555555556,
          "sex": "male"
         },
         {
          "age": 41,
          "bmi": 31.620555555555555,
          "charges": 7829.714393333333,
          "children": 1.2222222222222223,
          "sex": "female"
         },
         {
          "age": 41,
          "bmi": 32.39944444444444,
          "charges": 10581.988227777776,
          "children": 1.4444444444444444,
          "sex": "male"
         },
         {
          "age": 42,
          "bmi": 32.3575,
          "charges": 13615.534925,
          "children": 0.9,
          "sex": "female"
         },
         {
          "age": 42,
          "bmi": 30.599545454545453,
          "charges": 11718.932249090909,
          "children": 1.0909090909090908,
          "sex": "male"
         },
         {
          "age": 43,
          "bmi": 30.708333333333332,
          "charges": 20107.394916666668,
          "children": 1.2222222222222223,
          "sex": "female"
         },
         {
          "age": 43,
          "bmi": 30.620555555555555,
          "charges": 23192.82463333333,
          "children": 2.111111111111111,
          "sex": "male"
         },
         {
          "age": 44,
          "bmi": 29.54909090909091,
          "charges": 15804.107528181823,
          "children": 0.9090909090909091,
          "sex": "female"
         },
         {
          "age": 44,
          "bmi": 30.047500000000003,
          "charges": 14703.623171250001,
          "children": 1.5,
          "sex": "male"
         },
         {
          "age": 45,
          "bmi": 31.955833333333334,
          "charges": 13442.225489166667,
          "children": 1.3333333333333333,
          "sex": "female"
         },
         {
          "age": 45,
          "bmi": 28.033749999999998,
          "charges": 8121.291912500001,
          "children": 1.75,
          "sex": "male"
         },
         {
          "age": 46,
          "bmi": 31.689444444444444,
          "charges": 13799.430216666668,
          "children": 1.2222222222222223,
          "sex": "female"
         },
         {
          "age": 46,
          "bmi": 31.617222222222225,
          "charges": 17940.031646666666,
          "children": 1.6666666666666667,
          "sex": "male"
         },
         {
          "age": 47,
          "bmi": 30.43909090909091,
          "charges": 18672.563868181816,
          "children": 1,
          "sex": "female"
         },
         {
          "age": 47,
          "bmi": 30.709999999999997,
          "charges": 18115.708483333332,
          "children": 1.6666666666666667,
          "sex": "male"
         },
         {
          "age": 48,
          "bmi": 29.841250000000002,
          "charges": 14537.867453333334,
          "children": 1.1666666666666667,
          "sex": "female"
         },
         {
          "age": 48,
          "bmi": 33.005,
          "charges": 12915.002447500001,
          "children": 1.5,
          "sex": "male"
         },
         {
          "age": 49,
          "bmi": 29.831000000000007,
          "charges": 9955.628090000002,
          "children": 1.9,
          "sex": "female"
         },
         {
          "age": 49,
          "bmi": 30.399545454545454,
          "charges": 14474.114731818177,
          "children": 1.0909090909090908,
          "sex": "male"
         },
         {
          "age": 50,
          "bmi": 27.919999999999998,
          "charges": 14274.682890000002,
          "children": 1.5,
          "sex": "female"
         },
         {
          "age": 50,
          "bmi": 31.53611111111111,
          "charges": 22284.647482222223,
          "children": 0.7777777777777778,
          "sex": "male"
         },
         {
          "age": 51,
          "bmi": 34.19954545454545,
          "charges": 16151.953095454546,
          "children": 0.7272727272727273,
          "sex": "female"
         },
         {
          "age": 51,
          "bmi": 32.708999999999996,
          "charges": 13381.538509999998,
          "children": 1.1,
          "sex": "male"
         },
         {
          "age": 52,
          "bmi": 31.490416666666665,
          "charges": 16112.152381666669,
          "children": 1.1666666666666667,
          "sex": "female"
         },
         {
          "age": 52,
          "bmi": 33.25409090909091,
          "charges": 20671.832715454544,
          "children": 1.5454545454545454,
          "sex": "male"
         },
         {
          "age": 53,
          "bmi": 31.1435,
          "charges": 18039.414190999996,
          "children": 1.7,
          "sex": "female"
         },
         {
          "age": 53,
          "bmi": 30.49666666666667,
          "charges": 15854.406652222222,
          "children": 0.7777777777777778,
          "sex": "male"
         },
         {
          "age": 54,
          "bmi": 30.398124999999997,
          "charges": 11657.88639375,
          "children": 1.75,
          "sex": "female"
         },
         {
          "age": 54,
          "bmi": 30.201,
          "charges": 20424.247513,
          "children": 1.2,
          "sex": "male"
         },
         {
          "age": 55,
          "bmi": 30.925454545454546,
          "charges": 16792.480251818182,
          "children": 1,
          "sex": "female"
         },
         {
          "age": 55,
          "bmi": 32.73285714285714,
          "charges": 15203.52018857143,
          "children": 1.1428571428571428,
          "sex": "male"
         },
         {
          "age": 56,
          "bmi": 30.457,
          "charges": 11955.90323,
          "children": 0.9,
          "sex": "female"
         },
         {
          "age": 56,
          "bmi": 31.092142857142854,
          "charges": 20769.211792857146,
          "children": 1.2857142857142858,
          "sex": "male"
         },
         {
          "age": 57,
          "bmi": 26.651111111111113,
          "charges": 14974.410701111112,
          "children": 0.6666666666666666,
          "sex": "female"
         },
         {
          "age": 57,
          "bmi": 33.085,
          "charges": 17376.96903888889,
          "children": 0.4444444444444444,
          "sex": "male"
         },
         {
          "age": 58,
          "bmi": 32.356818181818184,
          "charges": 13323.739826363639,
          "children": 0.18181818181818182,
          "sex": "female"
         },
         {
          "age": 58,
          "bmi": 33.03875,
          "charges": 11601.3058625,
          "children": 0.125,
          "sex": "male"
         },
         {
          "age": 59,
          "bmi": 30.319583333333338,
          "charges": 20619.042628333336,
          "children": 1.5833333333333333,
          "sex": "female"
         },
         {
          "age": 59,
          "bmi": 32.48142857142857,
          "charges": 21554.715242857143,
          "children": 1.1428571428571428,
          "sex": "male"
         },
         {
          "age": 60,
          "bmi": 28.47357142857143,
          "charges": 19891.30245285714,
          "children": 0,
          "sex": "female"
         },
         {
          "age": 60,
          "bmi": 32.579375,
          "charges": 33198.96231875,
          "children": 0.875,
          "sex": "male"
         },
         {
          "age": 61,
          "bmi": 29.492499999999996,
          "charges": 23134.46681833333,
          "children": 0.8333333333333334,
          "sex": "female"
         },
         {
          "age": 61,
          "bmi": 34.986875,
          "charges": 21194.81420375,
          "children": 0.875,
          "sex": "male"
         },
         {
          "age": 62,
          "bmi": 33.62142857142857,
          "charges": 18719.70630857143,
          "children": 0.7142857142857143,
          "sex": "female"
         },
         {
          "age": 62,
          "bmi": 30.320714285714292,
          "charges": 20071.768982857142,
          "children": 0.7142857142857143,
          "sex": "male"
         },
         {
          "age": 63,
          "bmi": 30.285500000000006,
          "charges": 23980.96184499999,
          "children": 0.3,
          "sex": "female"
         },
         {
          "age": 63,
          "bmi": 34.40785714285714,
          "charges": 18816.575349999996,
          "children": 0.5714285714285714,
          "sex": "male"
         },
         {
          "age": 64,
          "bmi": 32.406875,
          "charges": 22292.840431250002,
          "children": 0.625,
          "sex": "female"
         },
         {
          "age": 64,
          "bmi": 33.13055555555555,
          "charges": 21073.832491111112,
          "children": 0.4444444444444444,
          "sex": "male"
         }
        ]
       },
       "encoding": {
        "color": {
         "field": "sex",
         "type": "nominal"
        },
        "x": {
         "field": "age",
         "title": "Age",
         "type": "nominal"
        },
        "y": {
         "field": "charges",
         "title": "Charges",
         "type": "quantitative"
        }
       },
       "mark": {
        "point": true,
        "type": "line"
       }
      },
      "image/png": "[encoded data removed]",
      "text/plain": [
       "<VegaLite 3 object>\n",
       "\n",
       "If you see this message, it means the renderer has not been properly enabled\n",
       "for the frontend that you are using. For more information, see\n",
       "https://altair-viz.github.io/user_guide/troubleshooting.html\n"
      ]
     },
     "execution_count": 50,
     "metadata": {},
     "output_type": "execute_result"
    }
   ],
   "source": [
    "training_df = X_train\n",
    "training_df['charges'] = y_train\n",
    "\n",
    "\n",
    "alt.Chart(training_df.groupby(['age','sex']).mean().reset_index()).mark_line(point = True).encode(\n",
    "    alt.X('age:N', title = 'Age'),\n",
    "    alt.Y('charges:Q', title = 'Charges'),\n",
    "    alt.Color('sex:N')\n",
    ")"
   ]
  },
  {
   "cell_type": "markdown",
   "metadata": {},
   "source": [
    "**Let's see how smokers and non smokers are spending for medical treatments during their lifetime**\n",
    "\n",
    "We expect expenditures by smokers should be higher than the non smokers."
   ]
  },
  {
   "cell_type": "code",
   "execution_count": 54,
   "metadata": {},
   "outputs": [
    {
     "data": {
      "application/vnd.vegalite.v3+json": {
       "$schema": "https://vega.github.io/schema/vega-lite/v3.4.0.json",
       "config": {
        "mark": {
         "tooltip": null
        },
        "view": {
         "height": 300,
         "width": 400
        }
       },
       "data": {
        "name": "data-03b2ec987c1f3cc635cf51fa4e89ce01"
       },
       "datasets": {
        "data-03b2ec987c1f3cc635cf51fa4e89ce01": [
         {
          "age": 18,
          "bmi": 31.715874999999993,
          "charges": 3134.2400192500004,
          "children": 0.375,
          "smoker": "no"
         },
         {
          "age": 18,
          "bmi": 30.245833333333334,
          "charges": 25867.199541666672,
          "children": 0.8333333333333334,
          "smoker": "yes"
         },
         {
          "age": 19,
          "bmi": 26.31705128205128,
          "charges": 3596.027257948719,
          "children": 0.5384615384615384,
          "smoker": "no"
         },
         {
          "age": 19,
          "bmi": 30.83857142857143,
          "charges": 25718.25575714286,
          "children": 0,
          "smoker": "yes"
         },
         {
          "age": 20,
          "bmi": 31.707187500000003,
          "charges": 4085.96098125,
          "children": 1.0625,
          "smoker": "no"
         },
         {
          "age": 20,
          "bmi": 29.978,
          "charges": 26841.541613999998,
          "children": 1.2,
          "smoker": "yes"
         },
         {
          "age": 21,
          "bmi": 30.926875000000003,
          "charges": 4570.867558125,
          "children": 0.5,
          "smoker": "no"
         },
         {
          "age": 21,
          "bmi": 23.775,
          "charges": 16650.60525,
          "children": 2.5,
          "smoker": "yes"
         },
         {
          "age": 22,
          "bmi": 29.468235294117648,
          "charges": 2391.1234352941183,
          "children": 0.4117647058823529,
          "smoker": "no"
         },
         {
          "age": 22,
          "bmi": 37.38166666666667,
          "charges": 37373.28751666666,
          "children": 1.1666666666666667,
          "smoker": "yes"
         },
         {
          "age": 23,
          "bmi": 31.389,
          "charges": 5928.130104666667,
          "children": 0.7333333333333333,
          "smoker": "no"
         },
         {
          "age": 23,
          "bmi": 35.62,
          "charges": 29616.218800000002,
          "children": 1,
          "smoker": "yes"
         },
         {
          "age": 24,
          "bmi": 28.779411764705888,
          "charges": 5903.078352352942,
          "children": 0.5882352941176471,
          "smoker": "no"
         },
         {
          "age": 24,
          "bmi": 30.578333333333333,
          "charges": 28984.063550000003,
          "children": 0,
          "smoker": "yes"
         },
         {
          "age": 25,
          "bmi": 29.059722222222224,
          "charges": 6107.486958333334,
          "children": 1.2222222222222223,
          "smoker": "no"
         },
         {
          "age": 25,
          "bmi": 35.14666666666667,
          "charges": 31982.11553333333,
          "children": 1.6666666666666667,
          "smoker": "yes"
         },
         {
          "age": 26,
          "bmi": 27.75970588235294,
          "charges": 4510.331387647059,
          "children": 0.9411764705882353,
          "smoker": "no"
         },
         {
          "age": 26,
          "bmi": 25.0475,
          "charges": 25270.431525,
          "children": 2,
          "smoker": "yes"
         },
         {
          "age": 27,
          "bmi": 29.275000000000002,
          "charges": 5404.4692642857135,
          "children": 0.7857142857142857,
          "smoker": "no"
         },
         {
          "age": 27,
          "bmi": 26.676,
          "charges": 21185.47064,
          "children": 1,
          "smoker": "yes"
         },
         {
          "age": 28,
          "bmi": 28.589444444444446,
          "charges": 5000.527527777777,
          "children": 1.2222222222222223,
          "smoker": "no"
         },
         {
          "age": 28,
          "bmi": 34.04,
          "charges": 42933.35317,
          "children": 0.5,
          "smoker": "yes"
         },
         {
          "age": 29,
          "bmi": 30.513928571428576,
          "charges": 7284.076447142857,
          "children": 1.4285714285714286,
          "smoker": "no"
         },
         {
          "age": 29,
          "bmi": 31.17,
          "charges": 27652.7393,
          "children": 0.5,
          "smoker": "yes"
         },
         {
          "age": 30,
          "bmi": 31.263571428571428,
          "charges": 5581.263379999999,
          "children": 1.5714285714285714,
          "smoker": "no"
         },
         {
          "age": 30,
          "bmi": 32.18416666666666,
          "charges": 29359.660158333336,
          "children": 2,
          "smoker": "yes"
         },
         {
          "age": 31,
          "bmi": 29.073333333333338,
          "charges": 4483.699377777778,
          "children": 1.2222222222222223,
          "smoker": "no"
         },
         {
          "age": 31,
          "bmi": 32.899,
          "charges": 34915.748496,
          "children": 1.8,
          "smoker": "yes"
         },
         {
          "age": 32,
          "bmi": 32.38633333333334,
          "charges": 5422.039270666666,
          "children": 0.9333333333333333,
          "smoker": "no"
         },
         {
          "age": 32,
          "bmi": 27.21666666666667,
          "charges": 19562.8265,
          "children": 1.6666666666666667,
          "smoker": "yes"
         },
         {
          "age": 33,
          "bmi": 31.49909090909091,
          "charges": 7762.925755454547,
          "children": 2.1818181818181817,
          "smoker": "no"
         },
         {
          "age": 33,
          "bmi": 28.004,
          "charges": 29187.296238000003,
          "children": 0.6,
          "smoker": "yes"
         },
         {
          "age": 34,
          "bmi": 30.564230769230768,
          "charges": 6794.813279230769,
          "children": 1.0769230769230769,
          "smoker": "no"
         },
         {
          "age": 34,
          "bmi": 29.5575,
          "charges": 34027.471975,
          "children": 1,
          "smoker": "yes"
         },
         {
          "age": 35,
          "bmi": 31.473333333333333,
          "charges": 7650.374032000001,
          "children": 1.5333333333333334,
          "smoker": "no"
         },
         {
          "age": 35,
          "bmi": 30.191999999999997,
          "charges": 28067.72988,
          "children": 1.8,
          "smoker": "yes"
         },
         {
          "age": 36,
          "bmi": 29.09071428571428,
          "charges": 5725.8840928571435,
          "children": 1.4285714285714286,
          "smoker": "no"
         },
         {
          "age": 36,
          "bmi": 34.815,
          "charges": 38225.87585,
          "children": 0.5,
          "smoker": "yes"
         },
         {
          "age": 37,
          "bmi": 30.559545454545454,
          "charges": 7410.011534545455,
          "children": 1.8181818181818181,
          "smoker": "no"
         },
         {
          "age": 37,
          "bmi": 31.35083333333333,
          "charges": 32701.24882499999,
          "children": 1.1666666666666667,
          "smoker": "yes"
         },
         {
          "age": 38,
          "bmi": 27.026999999999997,
          "charges": 6398.539529999999,
          "children": 1.4666666666666666,
          "smoker": "no"
         },
         {
          "age": 38,
          "bmi": 28.845,
          "charges": 28884.971550000002,
          "children": 1.5,
          "smoker": "yes"
         },
         {
          "age": 39,
          "bmi": 31.825833333333335,
          "charges": 8381.318756666666,
          "children": 2.25,
          "smoker": "no"
         },
         {
          "age": 39,
          "bmi": 27.381249999999998,
          "charges": 21338.3641875,
          "children": 1.25,
          "smoker": "yes"
         },
         {
          "age": 40,
          "bmi": 31.042857142857144,
          "charges": 9127.282137142856,
          "children": 2,
          "smoker": "no"
         },
         {
          "age": 40,
          "bmi": 29.256666666666664,
          "charges": 32857.64343333334,
          "children": 1.6666666666666667,
          "smoker": "yes"
         },
         {
          "age": 41,
          "bmi": 31.789999999999996,
          "charges": 7378.334005294117,
          "children": 1.3529411764705883,
          "smoker": "no"
         },
         {
          "age": 41,
          "bmi": 35.75,
          "charges": 40273.6455,
          "children": 1,
          "smoker": "yes"
         },
         {
          "age": 42,
          "bmi": 32.458666666666666,
          "charges": 7027.116213333333,
          "children": 1.0666666666666667,
          "smoker": "no"
         },
         {
          "age": 42,
          "bmi": 28.88166666666667,
          "charges": 26609.476798333333,
          "children": 0.8333333333333334,
          "smoker": "yes"
         },
         {
          "age": 43,
          "bmi": 29.419999999999998,
          "charges": 8432.82195,
          "children": 1.8888888888888888,
          "smoker": "no"
         },
         {
          "age": 43,
          "bmi": 31.908888888888896,
          "charges": 34867.3976,
          "children": 1.4444444444444444,
          "smoker": "yes"
         },
         {
          "age": 44,
          "bmi": 29.12166666666667,
          "charges": 9363.617994666669,
          "children": 1.3333333333333333,
          "smoker": "no"
         },
         {
          "age": 44,
          "bmi": 32.14875,
          "charges": 37754.974565000004,
          "children": 0.5,
          "smoker": "yes"
         },
         {
          "age": 45,
          "bmi": 30.381315789473685,
          "charges": 9818.501216842107,
          "children": 1.5263157894736843,
          "smoker": "no"
         },
         {
          "age": 45,
          "bmi": 30.495,
          "charges": 39725.51805,
          "children": 1,
          "smoker": "yes"
         },
         {
          "age": 46,
          "bmi": 31.266428571428577,
          "charges": 9642.466647857143,
          "children": 1.3571428571428572,
          "smoker": "no"
         },
         {
          "age": 46,
          "bmi": 33.0075,
          "charges": 37665.155925,
          "children": 1.75,
          "smoker": "yes"
         },
         {
          "age": 47,
          "bmi": 30.673214285714284,
          "charges": 10908.84432857143,
          "children": 1.3571428571428572,
          "smoker": "no"
         },
         {
          "age": 47,
          "bmi": 30.436111111111114,
          "charges": 30006.98708333333,
          "children": 1.3333333333333333,
          "smoker": "yes"
         },
         {
          "age": 48,
          "bmi": 31.77119047619048,
          "charges": 11462.43182904762,
          "children": 1.3333333333333333,
          "smoker": "no"
         },
         {
          "age": 48,
          "bmi": 28.986666666666668,
          "charges": 29574.4568,
          "children": 1.3333333333333333,
          "smoker": "yes"
         },
         {
          "age": 49,
          "bmi": 30.575833333333335,
          "charges": 9551.674519444445,
          "children": 1.5,
          "smoker": "no"
         },
         {
          "age": 49,
          "bmi": 27.44666666666667,
          "charges": 28947.133866666667,
          "children": 1.3333333333333333,
          "smoker": "yes"
         },
         {
          "age": 50,
          "bmi": 29.418333333333337,
          "charges": 13361.4023275,
          "children": 1.0833333333333333,
          "smoker": "no"
         },
         {
          "age": 50,
          "bmi": 32.775,
          "charges": 41957.69891666667,
          "children": 1,
          "smoker": "yes"
         },
         {
          "age": 51,
          "bmi": 32.63138888888889,
          "charges": 9721.242852777777,
          "children": 0.8333333333333334,
          "smoker": "no"
         },
         {
          "age": 51,
          "bmi": 38.64000000000001,
          "charges": 45501.49926666667,
          "children": 1.3333333333333333,
          "smoker": "yes"
         },
         {
          "age": 52,
          "bmi": 32.80083333333333,
          "charges": 13306.325404444446,
          "children": 1.1666666666666667,
          "smoker": "no"
         },
         {
          "age": 52,
          "bmi": 30.653,
          "charges": 36244.426234,
          "children": 2,
          "smoker": "yes"
         },
         {
          "age": 53,
          "bmi": 31.29666666666667,
          "charges": 12336.651088666666,
          "children": 1.1333333333333333,
          "smoker": "no"
         },
         {
          "age": 53,
          "bmi": 29.11375,
          "charges": 34508.508862500006,
          "children": 1.75,
          "smoker": "yes"
         },
         {
          "age": 54,
          "bmi": 29.91533333333334,
          "charges": 12104.971395333332,
          "children": 1.2666666666666666,
          "smoker": "no"
         },
         {
          "age": 54,
          "bmi": 32.155,
          "charges": 38643.66511666666,
          "children": 2.3333333333333335,
          "smoker": "yes"
         },
         {
          "age": 55,
          "bmi": 31.418235294117654,
          "charges": 14512.830652352943,
          "children": 1.1176470588235294,
          "smoker": "no"
         },
         {
          "age": 55,
          "bmi": 35.2,
          "charges": 44423.803,
          "children": 0,
          "smoker": "yes"
         },
         {
          "age": 56,
          "bmi": 30.453000000000007,
          "charges": 11813.89767,
          "children": 1.0666666666666667,
          "smoker": "no"
         },
         {
          "age": 56,
          "bmi": 32.71,
          "charges": 43867.524900000004,
          "children": 1,
          "smoker": "yes"
         },
         {
          "age": 57,
          "bmi": 29.113999999999997,
          "charges": 12515.636654,
          "children": 0.6,
          "smoker": "no"
         },
         {
          "age": 57,
          "bmi": 33.638333333333335,
          "charges": 34475.955949999996,
          "children": 0.3333333333333333,
          "smoker": "yes"
         },
         {
          "age": 58,
          "bmi": 32.64394736842105,
          "charges": 12598.504473157891,
          "children": 0.15789473684210525,
          "smoker": "no"
         },
         {
          "age": 59,
          "bmi": 30.65433333333333,
          "charges": 16372.05094266667,
          "children": 1.4666666666666666,
          "smoker": "no"
         },
         {
          "age": 59,
          "bmi": 32.8475,
          "charges": 38182.688525,
          "children": 1.25,
          "smoker": "yes"
         },
         {
          "age": 60,
          "bmi": 28.252999999999997,
          "charges": 16425.358453,
          "children": 0.4,
          "smoker": "no"
         },
         {
          "age": 60,
          "bmi": 35.484,
          "charges": 48115.446238,
          "children": 0.6,
          "smoker": "yes"
         },
         {
          "age": 61,
          "bmi": 32.35045454545455,
          "charges": 16688.655226363637,
          "children": 0.8181818181818182,
          "smoker": "no"
         },
         {
          "age": 61,
          "bmi": 33.665,
          "charges": 41596.70235,
          "children": 1,
          "smoker": "yes"
         },
         {
          "age": 62,
          "bmi": 32.535833333333336,
          "charges": 16417.7865575,
          "children": 0.5833333333333334,
          "smoker": "no"
         },
         {
          "age": 62,
          "bmi": 28.5825,
          "charges": 37263.444175,
          "children": 1.5,
          "smoker": "yes"
         },
         {
          "age": 63,
          "bmi": 32.00000000000001,
          "charges": 14155.560333333333,
          "children": 0.4166666666666667,
          "smoker": "no"
         },
         {
          "age": 63,
          "bmi": 31.942,
          "charges": 40331.78438,
          "children": 0.4,
          "smoker": "yes"
         },
         {
          "age": 64,
          "bmi": 34.88458333333333,
          "charges": 15877.624001666669,
          "children": 0.5833333333333334,
          "smoker": "no"
         },
         {
          "age": 64,
          "bmi": 27.762999999999998,
          "charges": 35495.14557,
          "children": 0.4,
          "smoker": "yes"
         }
        ]
       },
       "encoding": {
        "color": {
         "field": "smoker",
         "type": "nominal"
        },
        "x": {
         "field": "age",
         "title": "Age",
         "type": "nominal"
        },
        "y": {
         "field": "charges",
         "title": "Charges",
         "type": "quantitative"
        }
       },
       "mark": {
        "point": true,
        "type": "line"
       }
      },
      "image/png": "[encoded data removed]",
      "text/plain": [
       "<VegaLite 3 object>\n",
       "\n",
       "If you see this message, it means the renderer has not been properly enabled\n",
       "for the frontend that you are using. For more information, see\n",
       "https://altair-viz.github.io/user_guide/troubleshooting.html\n"
      ]
     },
     "execution_count": 54,
     "metadata": {},
     "output_type": "execute_result"
    }
   ],
   "source": [
    "alt.Chart(training_df.groupby(['age','smoker']).mean().reset_index()).mark_line(point = True).encode(\n",
    "    alt.X('age:N', title = 'Age'),\n",
    "    alt.Y('charges:Q', title = 'Charges'),\n",
    "    alt.Color('smoker:N')\n",
    ")"
   ]
  },
  {
   "cell_type": "markdown",
   "metadata": {},
   "source": [
    "**Let's see how BMI is changing with Age for Males and Females**\n",
    "\n",
    "We are expecting both male and females have usual BMI."
   ]
  },
  {
   "cell_type": "code",
   "execution_count": 21,
   "metadata": {},
   "outputs": [
    {
     "data": {
      "application/vnd.vegalite.v3+json": {
       "$schema": "https://vega.github.io/schema/vega-lite/v3.4.0.json",
       "config": {
        "mark": {
         "tooltip": null
        },
        "view": {
         "height": 300,
         "width": 400
        }
       },
       "data": {
        "name": "data-c3ed0103d08f501addcb79263a8fe734"
       },
       "datasets": {
        "data-c3ed0103d08f501addcb79263a8fe734": [
         {
          "age": 36,
          "bmi": 27.55,
          "children": 3,
          "region": "northeast",
          "sex": "male",
          "smoker": "no"
         },
         {
          "age": 60,
          "bmi": 35.1,
          "children": 0,
          "region": "southwest",
          "sex": "female",
          "smoker": "no"
         },
         {
          "age": 30,
          "bmi": 31.57,
          "children": 3,
          "region": "southeast",
          "sex": "male",
          "smoker": "no"
         },
         {
          "age": 49,
          "bmi": 25.6,
          "children": 2,
          "region": "southwest",
          "sex": "male",
          "smoker": "yes"
         },
         {
          "age": 26,
          "bmi": 32.9,
          "children": 2,
          "region": "southwest",
          "sex": "male",
          "smoker": "yes"
         },
         {
          "age": 48,
          "bmi": 28.88,
          "children": 1,
          "region": "northwest",
          "sex": "female",
          "smoker": "no"
         },
         {
          "age": 39,
          "bmi": 24.89,
          "children": 3,
          "region": "northeast",
          "sex": "female",
          "smoker": "yes"
         },
         {
          "age": 44,
          "bmi": 22.135,
          "children": 2,
          "region": "northeast",
          "sex": "male",
          "smoker": "no"
         },
         {
          "age": 63,
          "bmi": 32.2,
          "children": 2,
          "region": "southwest",
          "sex": "female",
          "smoker": "yes"
         },
         {
          "age": 48,
          "bmi": 27.265,
          "children": 1,
          "region": "northeast",
          "sex": "female",
          "smoker": "no"
         },
         {
          "age": 29,
          "bmi": 27.94,
          "children": 0,
          "region": "southeast",
          "sex": "male",
          "smoker": "no"
         },
         {
          "age": 28,
          "bmi": 35.435,
          "children": 0,
          "region": "northeast",
          "sex": "male",
          "smoker": "no"
         },
         {
          "age": 40,
          "bmi": 22.705,
          "children": 2,
          "region": "northeast",
          "sex": "male",
          "smoker": "no"
         },
         {
          "age": 58,
          "bmi": 22.77,
          "children": 0,
          "region": "southeast",
          "sex": "female",
          "smoker": "no"
         },
         {
          "age": 34,
          "bmi": 27.5,
          "children": 1,
          "region": "southwest",
          "sex": "female",
          "smoker": "no"
         },
         {
          "age": 51,
          "bmi": 34.96,
          "children": 2,
          "region": "northeast",
          "sex": "female",
          "smoker": "yes"
         },
         {
          "age": 53,
          "bmi": 34.105,
          "children": 0,
          "region": "northeast",
          "sex": "male",
          "smoker": "yes"
         },
         {
          "age": 58,
          "bmi": 33.1,
          "children": 0,
          "region": "southwest",
          "sex": "female",
          "smoker": "no"
         },
         {
          "age": 52,
          "bmi": 37.525,
          "children": 2,
          "region": "northwest",
          "sex": "female",
          "smoker": "no"
         },
         {
          "age": 19,
          "bmi": 28.88,
          "children": 0,
          "region": "northwest",
          "sex": "female",
          "smoker": "yes"
         },
         {
          "age": 47,
          "bmi": 32,
          "children": 1,
          "region": "southwest",
          "sex": "female",
          "smoker": "no"
         },
         {
          "age": 48,
          "bmi": 33.33,
          "children": 0,
          "region": "southeast",
          "sex": "female",
          "smoker": "no"
         },
         {
          "age": 45,
          "bmi": 30.495,
          "children": 2,
          "region": "northwest",
          "sex": "male",
          "smoker": "no"
         },
         {
          "age": 34,
          "bmi": 35.815,
          "children": 0,
          "region": "northwest",
          "sex": "male",
          "smoker": "no"
         },
         {
          "age": 63,
          "bmi": 27.74,
          "children": 0,
          "region": "northeast",
          "sex": "female",
          "smoker": "yes"
         },
         {
          "age": 64,
          "bmi": 39.16,
          "children": 1,
          "region": "southeast",
          "sex": "male",
          "smoker": "no"
         },
         {
          "age": 62,
          "bmi": 39.2,
          "children": 0,
          "region": "southwest",
          "sex": "female",
          "smoker": "no"
         },
         {
          "age": 63,
          "bmi": 35.09,
          "children": 0,
          "region": "southeast",
          "sex": "male",
          "smoker": "yes"
         },
         {
          "age": 18,
          "bmi": 38.17,
          "children": 0,
          "region": "southeast",
          "sex": "female",
          "smoker": "no"
         },
         {
          "age": 30,
          "bmi": 31.4,
          "children": 1,
          "region": "southwest",
          "sex": "male",
          "smoker": "no"
         },
         {
          "age": 19,
          "bmi": 36.575,
          "children": 0,
          "region": "northwest",
          "sex": "female",
          "smoker": "no"
         },
         {
          "age": 49,
          "bmi": 35.86,
          "children": 0,
          "region": "southeast",
          "sex": "male",
          "smoker": "no"
         },
         {
          "age": 19,
          "bmi": 21.7,
          "children": 0,
          "region": "southwest",
          "sex": "female",
          "smoker": "yes"
         },
         {
          "age": 18,
          "bmi": 26.18,
          "children": 2,
          "region": "southeast",
          "sex": "male",
          "smoker": "no"
         },
         {
          "age": 36,
          "bmi": 27.74,
          "children": 0,
          "region": "northeast",
          "sex": "female",
          "smoker": "no"
         },
         {
          "age": 18,
          "bmi": 42.24,
          "children": 0,
          "region": "southeast",
          "sex": "female",
          "smoker": "yes"
         },
         {
          "age": 60,
          "bmi": 25.84,
          "children": 0,
          "region": "northwest",
          "sex": "female",
          "smoker": "no"
         },
         {
          "age": 53,
          "bmi": 26.6,
          "children": 0,
          "region": "northwest",
          "sex": "female",
          "smoker": "no"
         },
         {
          "age": 58,
          "bmi": 23.3,
          "children": 0,
          "region": "southwest",
          "sex": "male",
          "smoker": "no"
         },
         {
          "age": 18,
          "bmi": 25.175,
          "children": 0,
          "region": "northeast",
          "sex": "male",
          "smoker": "yes"
         },
         {
          "age": 39,
          "bmi": 34.1,
          "children": 2,
          "region": "southeast",
          "sex": "male",
          "smoker": "no"
         },
         {
          "age": 51,
          "bmi": 37.73,
          "children": 1,
          "region": "southeast",
          "sex": "female",
          "smoker": "no"
         },
         {
          "age": 26,
          "bmi": 19.8,
          "children": 1,
          "region": "southwest",
          "sex": "female",
          "smoker": "no"
         },
         {
          "age": 19,
          "bmi": 28.9,
          "children": 0,
          "region": "southwest",
          "sex": "female",
          "smoker": "no"
         },
         {
          "age": 61,
          "bmi": 31.57,
          "children": 0,
          "region": "southeast",
          "sex": "male",
          "smoker": "no"
         },
         {
          "age": 42,
          "bmi": 33.155,
          "children": 1,
          "region": "northeast",
          "sex": "female",
          "smoker": "no"
         },
         {
          "age": 45,
          "bmi": 35.815,
          "children": 0,
          "region": "northwest",
          "sex": "female",
          "smoker": "no"
         },
         {
          "age": 40,
          "bmi": 35.3,
          "children": 3,
          "region": "southwest",
          "sex": "male",
          "smoker": "no"
         },
         {
          "age": 33,
          "bmi": 30.25,
          "children": 0,
          "region": "southeast",
          "sex": "male",
          "smoker": "no"
         },
         {
          "age": 43,
          "bmi": 30.685,
          "children": 2,
          "region": "northwest",
          "sex": "female",
          "smoker": "no"
         },
         {
          "age": 37,
          "bmi": 27.74,
          "children": 3,
          "region": "northwest",
          "sex": "female",
          "smoker": "no"
         },
         {
          "age": 49,
          "bmi": 23.18,
          "children": 2,
          "region": "northwest",
          "sex": "female",
          "smoker": "no"
         },
         {
          "age": 37,
          "bmi": 30.8,
          "children": 0,
          "region": "southwest",
          "sex": "male",
          "smoker": "no"
         },
         {
          "age": 31,
          "bmi": 32.775,
          "children": 2,
          "region": "northwest",
          "sex": "female",
          "smoker": "no"
         },
         {
          "age": 20,
          "bmi": 30.115,
          "children": 5,
          "region": "northeast",
          "sex": "male",
          "smoker": "no"
         },
         {
          "age": 30,
          "bmi": 37.43,
          "children": 3,
          "region": "northeast",
          "sex": "male",
          "smoker": "no"
         },
         {
          "age": 50,
          "bmi": 23.54,
          "children": 2,
          "region": "southeast",
          "sex": "female",
          "smoker": "no"
         },
         {
          "age": 61,
          "bmi": 22.04,
          "children": 0,
          "region": "northeast",
          "sex": "female",
          "smoker": "no"
         },
         {
          "age": 25,
          "bmi": 26.8,
          "children": 3,
          "region": "southwest",
          "sex": "male",
          "smoker": "no"
         },
         {
          "age": 47,
          "bmi": 28.215,
          "children": 3,
          "region": "northwest",
          "sex": "male",
          "smoker": "yes"
         },
         {
          "age": 37,
          "bmi": 29.64,
          "children": 0,
          "region": "northwest",
          "sex": "male",
          "smoker": "no"
         },
         {
          "age": 21,
          "bmi": 34.6,
          "children": 0,
          "region": "southwest",
          "sex": "female",
          "smoker": "no"
         },
         {
          "age": 40,
          "bmi": 29.3,
          "children": 4,
          "region": "southwest",
          "sex": "female",
          "smoker": "no"
         },
         {
          "age": 53,
          "bmi": 39.6,
          "children": 1,
          "region": "southeast",
          "sex": "female",
          "smoker": "no"
         },
         {
          "age": 62,
          "bmi": 30.875,
          "children": 3,
          "region": "northwest",
          "sex": "male",
          "smoker": "yes"
         },
         {
          "age": 62,
          "bmi": 38.83,
          "children": 0,
          "region": "southeast",
          "sex": "male",
          "smoker": "no"
         },
         {
          "age": 40,
          "bmi": 22.22,
          "children": 2,
          "region": "southeast",
          "sex": "female",
          "smoker": "yes"
         },
         {
          "age": 62,
          "bmi": 30.495,
          "children": 2,
          "region": "northwest",
          "sex": "female",
          "smoker": "no"
         },
         {
          "age": 29,
          "bmi": 33.345,
          "children": 2,
          "region": "northwest",
          "sex": "male",
          "smoker": "no"
         },
         {
          "age": 48,
          "bmi": 33.11,
          "children": 0,
          "region": "southeast",
          "sex": "female",
          "smoker": "yes"
         },
         {
          "age": 56,
          "bmi": 33.63,
          "children": 0,
          "region": "northwest",
          "sex": "male",
          "smoker": "yes"
         },
         {
          "age": 35,
          "bmi": 34.105,
          "children": 3,
          "region": "northwest",
          "sex": "female",
          "smoker": "yes"
         },
         {
          "age": 48,
          "bmi": 31.445,
          "children": 1,
          "region": "northeast",
          "sex": "male",
          "smoker": "no"
         },
         {
          "age": 36,
          "bmi": 33.82,
          "children": 1,
          "region": "northwest",
          "sex": "male",
          "smoker": "no"
         },
         {
          "age": 26,
          "bmi": 20.8,
          "children": 0,
          "region": "southwest",
          "sex": "male",
          "smoker": "no"
         },
         {
          "age": 47,
          "bmi": 33.915,
          "children": 3,
          "region": "northwest",
          "sex": "female",
          "smoker": "no"
         },
         {
          "age": 21,
          "bmi": 22.3,
          "children": 1,
          "region": "southwest",
          "sex": "male",
          "smoker": "no"
         },
         {
          "age": 40,
          "bmi": 23.37,
          "children": 3,
          "region": "northeast",
          "sex": "female",
          "smoker": "no"
         },
         {
          "age": 18,
          "bmi": 33.88,
          "children": 0,
          "region": "southeast",
          "sex": "female",
          "smoker": "no"
         },
         {
          "age": 21,
          "bmi": 26.03,
          "children": 0,
          "region": "northeast",
          "sex": "male",
          "smoker": "no"
         },
         {
          "age": 38,
          "bmi": 27.835,
          "children": 2,
          "region": "northwest",
          "sex": "male",
          "smoker": "no"
         },
         {
          "age": 59,
          "bmi": 32.1,
          "children": 3,
          "region": "southwest",
          "sex": "female",
          "smoker": "no"
         },
         {
          "age": 22,
          "bmi": 31.73,
          "children": 0,
          "region": "northeast",
          "sex": "male",
          "smoker": "no"
         },
         {
          "age": 42,
          "bmi": 35.8,
          "children": 2,
          "region": "southwest",
          "sex": "male",
          "smoker": "no"
         },
         {
          "age": 52,
          "bmi": 41.8,
          "children": 2,
          "region": "southeast",
          "sex": "male",
          "smoker": "yes"
         },
         {
          "age": 58,
          "bmi": 25.175,
          "children": 0,
          "region": "northeast",
          "sex": "male",
          "smoker": "no"
         },
         {
          "age": 20,
          "bmi": 32.395,
          "children": 1,
          "region": "northwest",
          "sex": "male",
          "smoker": "no"
         },
         {
          "age": 49,
          "bmi": 41.47,
          "children": 4,
          "region": "southeast",
          "sex": "female",
          "smoker": "no"
         },
         {
          "age": 21,
          "bmi": 39.49,
          "children": 0,
          "region": "southeast",
          "sex": "female",
          "smoker": "no"
         },
         {
          "age": 26,
          "bmi": 22.61,
          "children": 0,
          "region": "northwest",
          "sex": "female",
          "smoker": "no"
         },
         {
          "age": 21,
          "bmi": 36.85,
          "children": 0,
          "region": "southeast",
          "sex": "male",
          "smoker": "no"
         },
         {
          "age": 27,
          "bmi": 23.21,
          "children": 1,
          "region": "southeast",
          "sex": "female",
          "smoker": "no"
         },
         {
          "age": 64,
          "bmi": 24.7,
          "children": 1,
          "region": "northwest",
          "sex": "male",
          "smoker": "no"
         },
         {
          "age": 18,
          "bmi": 31.68,
          "children": 2,
          "region": "southeast",
          "sex": "male",
          "smoker": "yes"
         },
         {
          "age": 24,
          "bmi": 26.6,
          "children": 0,
          "region": "northeast",
          "sex": "female",
          "smoker": "no"
         },
         {
          "age": 47,
          "bmi": 45.32,
          "children": 1,
          "region": "southeast",
          "sex": "female",
          "smoker": "no"
         },
         {
          "age": 25,
          "bmi": 45.54,
          "children": 2,
          "region": "southeast",
          "sex": "male",
          "smoker": "yes"
         },
         {
          "age": 59,
          "bmi": 32.395,
          "children": 3,
          "region": "northeast",
          "sex": "female",
          "smoker": "no"
         },
         {
          "age": 31,
          "bmi": 29.1,
          "children": 0,
          "region": "southwest",
          "sex": "female",
          "smoker": "no"
         },
         {
          "age": 24,
          "bmi": 22.6,
          "children": 0,
          "region": "southwest",
          "sex": "female",
          "smoker": "no"
         },
         {
          "age": 19,
          "bmi": 19.8,
          "children": 0,
          "region": "southwest",
          "sex": "male",
          "smoker": "no"
         },
         {
          "age": 62,
          "bmi": 38.095,
          "children": 2,
          "region": "northeast",
          "sex": "female",
          "smoker": "no"
         },
         {
          "age": 50,
          "bmi": 25.365,
          "children": 2,
          "region": "northwest",
          "sex": "male",
          "smoker": "no"
         },
         {
          "age": 42,
          "bmi": 29,
          "children": 1,
          "region": "southwest",
          "sex": "female",
          "smoker": "no"
         },
         {
          "age": 30,
          "bmi": 32.4,
          "children": 1,
          "region": "southwest",
          "sex": "female",
          "smoker": "no"
         },
         {
          "age": 62,
          "bmi": 32.68,
          "children": 0,
          "region": "northwest",
          "sex": "female",
          "smoker": "no"
         },
         {
          "age": 49,
          "bmi": 31.9,
          "children": 5,
          "region": "southwest",
          "sex": "female",
          "smoker": "no"
         },
         {
          "age": 59,
          "bmi": 26.505,
          "children": 0,
          "region": "northeast",
          "sex": "female",
          "smoker": "no"
         },
         {
          "age": 27,
          "bmi": 45.9,
          "children": 2,
          "region": "southwest",
          "sex": "male",
          "smoker": "no"
         },
         {
          "age": 54,
          "bmi": 33.63,
          "children": 1,
          "region": "northwest",
          "sex": "male",
          "smoker": "no"
         },
         {
          "age": 24,
          "bmi": 30.1,
          "children": 3,
          "region": "southwest",
          "sex": "female",
          "smoker": "no"
         },
         {
          "age": 41,
          "bmi": 36.08,
          "children": 1,
          "region": "southeast",
          "sex": "female",
          "smoker": "no"
         },
         {
          "age": 63,
          "bmi": 31.8,
          "children": 0,
          "region": "southwest",
          "sex": "female",
          "smoker": "no"
         },
         {
          "age": 52,
          "bmi": 32.205,
          "children": 3,
          "region": "northeast",
          "sex": "male",
          "smoker": "no"
         },
         {
          "age": 24,
          "bmi": 24.225,
          "children": 0,
          "region": "northwest",
          "sex": "female",
          "smoker": "no"
         },
         {
          "age": 41,
          "bmi": 40.26,
          "children": 0,
          "region": "southeast",
          "sex": "male",
          "smoker": "no"
         },
         {
          "age": 24,
          "bmi": 32.01,
          "children": 0,
          "region": "southeast",
          "sex": "male",
          "smoker": "no"
         },
         {
          "age": 18,
          "bmi": 37.29,
          "children": 0,
          "region": "southeast",
          "sex": "male",
          "smoker": "no"
         },
         {
          "age": 48,
          "bmi": 28,
          "children": 1,
          "region": "southwest",
          "sex": "male",
          "smoker": "yes"
         },
         {
          "age": 48,
          "bmi": 29.7,
          "children": 0,
          "region": "southeast",
          "sex": "male",
          "smoker": "no"
         },
         {
          "age": 31,
          "bmi": 36.63,
          "children": 2,
          "region": "southeast",
          "sex": "female",
          "smoker": "no"
         },
         {
          "age": 27,
          "bmi": 33.155,
          "children": 2,
          "region": "northwest",
          "sex": "male",
          "smoker": "no"
         },
         {
          "age": 34,
          "bmi": 30.21,
          "children": 1,
          "region": "northwest",
          "sex": "female",
          "smoker": "yes"
         },
         {
          "age": 52,
          "bmi": 33.25,
          "children": 0,
          "region": "northeast",
          "sex": "male",
          "smoker": "no"
         },
         {
          "age": 25,
          "bmi": 22.515,
          "children": 1,
          "region": "northwest",
          "sex": "female",
          "smoker": "no"
         },
         {
          "age": 33,
          "bmi": 28.27,
          "children": 1,
          "region": "southeast",
          "sex": "female",
          "smoker": "no"
         },
         {
          "age": 18,
          "bmi": 25.46,
          "children": 0,
          "region": "northeast",
          "sex": "male",
          "smoker": "no"
         },
         {
          "age": 24,
          "bmi": 23.21,
          "children": 0,
          "region": "southeast",
          "sex": "female",
          "smoker": "no"
         },
         {
          "age": 27,
          "bmi": 31.255,
          "children": 1,
          "region": "northwest",
          "sex": "female",
          "smoker": "no"
         },
         {
          "age": 35,
          "bmi": 27.61,
          "children": 1,
          "region": "southeast",
          "sex": "male",
          "smoker": "no"
         },
         {
          "age": 61,
          "bmi": 36.1,
          "children": 3,
          "region": "southwest",
          "sex": "male",
          "smoker": "no"
         },
         {
          "age": 43,
          "bmi": 32.6,
          "children": 2,
          "region": "southwest",
          "sex": "male",
          "smoker": "no"
         },
         {
          "age": 25,
          "bmi": 42.13,
          "children": 1,
          "region": "southeast",
          "sex": "female",
          "smoker": "no"
         },
         {
          "age": 29,
          "bmi": 29.64,
          "children": 1,
          "region": "northeast",
          "sex": "male",
          "smoker": "no"
         },
         {
          "age": 47,
          "bmi": 19.57,
          "children": 1,
          "region": "northwest",
          "sex": "male",
          "smoker": "no"
         },
         {
          "age": 55,
          "bmi": 37.715,
          "children": 3,
          "region": "northwest",
          "sex": "male",
          "smoker": "no"
         },
         {
          "age": 44,
          "bmi": 29.735,
          "children": 2,
          "region": "northeast",
          "sex": "male",
          "smoker": "no"
         },
         {
          "age": 49,
          "bmi": 30.9,
          "children": 0,
          "region": "southwest",
          "sex": "male",
          "smoker": "yes"
         },
         {
          "age": 34,
          "bmi": 29.26,
          "children": 3,
          "region": "southeast",
          "sex": "female",
          "smoker": "no"
         },
         {
          "age": 38,
          "bmi": 40.565,
          "children": 1,
          "region": "northwest",
          "sex": "female",
          "smoker": "no"
         },
         {
          "age": 49,
          "bmi": 36.85,
          "children": 0,
          "region": "southeast",
          "sex": "male",
          "smoker": "no"
         },
         {
          "age": 56,
          "bmi": 28.595,
          "children": 0,
          "region": "northeast",
          "sex": "female",
          "smoker": "no"
         },
         {
          "age": 40,
          "bmi": 29.355,
          "children": 1,
          "region": "northwest",
          "sex": "male",
          "smoker": "no"
         },
         {
          "age": 29,
          "bmi": 25.6,
          "children": 4,
          "region": "southwest",
          "sex": "female",
          "smoker": "no"
         },
         {
          "age": 32,
          "bmi": 28.88,
          "children": 0,
          "region": "northwest",
          "sex": "male",
          "smoker": "no"
         },
         {
          "age": 59,
          "bmi": 26.695,
          "children": 3,
          "region": "northwest",
          "sex": "female",
          "smoker": "no"
         },
         {
          "age": 53,
          "bmi": 22.61,
          "children": 3,
          "region": "northeast",
          "sex": "female",
          "smoker": "yes"
         },
         {
          "age": 31,
          "bmi": 34.39,
          "children": 3,
          "region": "northwest",
          "sex": "male",
          "smoker": "yes"
         },
         {
          "age": 18,
          "bmi": 21.565,
          "children": 0,
          "region": "northeast",
          "sex": "male",
          "smoker": "yes"
         },
         {
          "age": 50,
          "bmi": 27.455,
          "children": 1,
          "region": "northeast",
          "sex": "male",
          "smoker": "no"
         },
         {
          "age": 26,
          "bmi": 23.7,
          "children": 2,
          "region": "southwest",
          "sex": "male",
          "smoker": "no"
         },
         {
          "age": 63,
          "bmi": 31.445,
          "children": 0,
          "region": "northeast",
          "sex": "male",
          "smoker": "no"
         },
         {
          "age": 55,
          "bmi": 32.775,
          "children": 2,
          "region": "northwest",
          "sex": "female",
          "smoker": "no"
         },
         {
          "age": 47,
          "bmi": 36.63,
          "children": 1,
          "region": "southeast",
          "sex": "female",
          "smoker": "yes"
         },
         {
          "age": 27,
          "bmi": 21.47,
          "children": 0,
          "region": "northwest",
          "sex": "female",
          "smoker": "no"
         },
         {
          "age": 45,
          "bmi": 31.79,
          "children": 0,
          "region": "southeast",
          "sex": "female",
          "smoker": "no"
         },
         {
          "age": 35,
          "bmi": 27.7,
          "children": 3,
          "region": "southwest",
          "sex": "female",
          "smoker": "no"
         },
         {
          "age": 63,
          "bmi": 37.7,
          "children": 0,
          "region": "southwest",
          "sex": "female",
          "smoker": "yes"
         },
         {
          "age": 19,
          "bmi": 34.9,
          "children": 0,
          "region": "southwest",
          "sex": "male",
          "smoker": "yes"
         },
         {
          "age": 41,
          "bmi": 35.75,
          "children": 1,
          "region": "southeast",
          "sex": "male",
          "smoker": "yes"
         },
         {
          "age": 51,
          "bmi": 37,
          "children": 0,
          "region": "southwest",
          "sex": "male",
          "smoker": "no"
         },
         {
          "age": 20,
          "bmi": 37,
          "children": 5,
          "region": "southwest",
          "sex": "female",
          "smoker": "no"
         },
         {
          "age": 44,
          "bmi": 32.015,
          "children": 2,
          "region": "northwest",
          "sex": "male",
          "smoker": "no"
         },
         {
          "age": 56,
          "bmi": 25.935,
          "children": 0,
          "region": "northeast",
          "sex": "male",
          "smoker": "no"
         },
         {
          "age": 24,
          "bmi": 20.52,
          "children": 0,
          "region": "northeast",
          "sex": "female",
          "smoker": "yes"
         },
         {
          "age": 46,
          "bmi": 26.62,
          "children": 1,
          "region": "southeast",
          "sex": "male",
          "smoker": "no"
         },
         {
          "age": 59,
          "bmi": 41.14,
          "children": 1,
          "region": "southeast",
          "sex": "male",
          "smoker": "yes"
         },
         {
          "age": 40,
          "bmi": 28.69,
          "children": 3,
          "region": "northwest",
          "sex": "female",
          "smoker": "no"
         },
         {
          "age": 29,
          "bmi": 27.94,
          "children": 1,
          "region": "southeast",
          "sex": "female",
          "smoker": "yes"
         },
         {
          "age": 37,
          "bmi": 30.78,
          "children": 0,
          "region": "northeast",
          "sex": "female",
          "smoker": "yes"
         },
         {
          "age": 35,
          "bmi": 34.8,
          "children": 1,
          "region": "southwest",
          "sex": "female",
          "smoker": "no"
         },
         {
          "age": 44,
          "bmi": 31.35,
          "children": 1,
          "region": "northeast",
          "sex": "male",
          "smoker": "yes"
         },
         {
          "age": 38,
          "bmi": 27.6,
          "children": 0,
          "region": "southwest",
          "sex": "female",
          "smoker": "no"
         },
         {
          "age": 25,
          "bmi": 26.22,
          "children": 0,
          "region": "northeast",
          "sex": "male",
          "smoker": "no"
         },
         {
          "age": 20,
          "bmi": 31.79,
          "children": 2,
          "region": "southeast",
          "sex": "female",
          "smoker": "no"
         },
         {
          "age": 44,
          "bmi": 38.06,
          "children": 1,
          "region": "southeast",
          "sex": "male",
          "smoker": "no"
         },
         {
          "age": 25,
          "bmi": 28.595,
          "children": 0,
          "region": "northeast",
          "sex": "female",
          "smoker": "no"
         },
         {
          "age": 54,
          "bmi": 39.6,
          "children": 1,
          "region": "southwest",
          "sex": "male",
          "smoker": "no"
         },
         {
          "age": 46,
          "bmi": 19.855,
          "children": 0,
          "region": "northwest",
          "sex": "male",
          "smoker": "no"
         },
         {
          "age": 27,
          "bmi": 32.395,
          "children": 1,
          "region": "northeast",
          "sex": "female",
          "smoker": "no"
         },
         {
          "age": 47,
          "bmi": 19.19,
          "children": 1,
          "region": "northeast",
          "sex": "male",
          "smoker": "no"
         },
         {
          "age": 24,
          "bmi": 29.925,
          "children": 0,
          "region": "northwest",
          "sex": "female",
          "smoker": "no"
         },
         {
          "age": 35,
          "bmi": 38.095,
          "children": 2,
          "region": "northeast",
          "sex": "female",
          "smoker": "no"
         },
         {
          "age": 41,
          "bmi": 31.6,
          "children": 0,
          "region": "southwest",
          "sex": "female",
          "smoker": "no"
         },
         {
          "age": 55,
          "bmi": 35.2,
          "children": 0,
          "region": "southeast",
          "sex": "female",
          "smoker": "yes"
         },
         {
          "age": 54,
          "bmi": 21.01,
          "children": 2,
          "region": "southeast",
          "sex": "male",
          "smoker": "no"
         },
         {
          "age": 50,
          "bmi": 32.3,
          "children": 1,
          "region": "northeast",
          "sex": "male",
          "smoker": "yes"
         },
         {
          "age": 18,
          "bmi": 30.4,
          "children": 3,
          "region": "northeast",
          "sex": "male",
          "smoker": "no"
         },
         {
          "age": 19,
          "bmi": 30.495,
          "children": 0,
          "region": "northwest",
          "sex": "female",
          "smoker": "no"
         },
         {
          "age": 33,
          "bmi": 27.455,
          "children": 2,
          "region": "northwest",
          "sex": "male",
          "smoker": "no"
         },
         {
          "age": 42,
          "bmi": 41.325,
          "children": 1,
          "region": "northeast",
          "sex": "female",
          "smoker": "no"
         },
         {
          "age": 38,
          "bmi": 27.265,
          "children": 1,
          "region": "northeast",
          "sex": "female",
          "smoker": "no"
         },
         {
          "age": 30,
          "bmi": 28.69,
          "children": 3,
          "region": "northwest",
          "sex": "male",
          "smoker": "yes"
         },
         {
          "age": 35,
          "bmi": 28.025,
          "children": 0,
          "region": "northwest",
          "sex": "female",
          "smoker": "yes"
         },
         {
          "age": 58,
          "bmi": 29,
          "children": 0,
          "region": "southwest",
          "sex": "female",
          "smoker": "no"
         },
         {
          "age": 43,
          "bmi": 26.885,
          "children": 0,
          "region": "northwest",
          "sex": "female",
          "smoker": "yes"
         },
         {
          "age": 40,
          "bmi": 29.9,
          "children": 2,
          "region": "southwest",
          "sex": "male",
          "smoker": "no"
         },
         {
          "age": 19,
          "bmi": 30.59,
          "children": 0,
          "region": "northwest",
          "sex": "male",
          "smoker": "no"
         },
         {
          "age": 41,
          "bmi": 32.965,
          "children": 0,
          "region": "northwest",
          "sex": "female",
          "smoker": "no"
         },
         {
          "age": 18,
          "bmi": 24.09,
          "children": 1,
          "region": "southeast",
          "sex": "female",
          "smoker": "no"
         },
         {
          "age": 19,
          "bmi": 32.9,
          "children": 0,
          "region": "southwest",
          "sex": "female",
          "smoker": "no"
         },
         {
          "age": 21,
          "bmi": 31.1,
          "children": 0,
          "region": "southwest",
          "sex": "male",
          "smoker": "no"
         },
         {
          "age": 58,
          "bmi": 34.39,
          "children": 0,
          "region": "northwest",
          "sex": "male",
          "smoker": "no"
         },
         {
          "age": 28,
          "bmi": 31.68,
          "children": 0,
          "region": "southeast",
          "sex": "male",
          "smoker": "yes"
         },
         {
          "age": 49,
          "bmi": 33.345,
          "children": 2,
          "region": "northeast",
          "sex": "female",
          "smoker": "no"
         },
         {
          "age": 49,
          "bmi": 31.35,
          "children": 1,
          "region": "northeast",
          "sex": "male",
          "smoker": "no"
         },
         {
          "age": 18,
          "bmi": 23.32,
          "children": 1,
          "region": "southeast",
          "sex": "male",
          "smoker": "no"
         },
         {
          "age": 18,
          "bmi": 28.31,
          "children": 1,
          "region": "northeast",
          "sex": "male",
          "smoker": "no"
         },
         {
          "age": 53,
          "bmi": 24.795,
          "children": 1,
          "region": "northwest",
          "sex": "female",
          "smoker": "no"
         },
         {
          "age": 63,
          "bmi": 41.47,
          "children": 0,
          "region": "southeast",
          "sex": "male",
          "smoker": "no"
         },
         {
          "age": 41,
          "bmi": 37.05,
          "children": 2,
          "region": "northwest",
          "sex": "male",
          "smoker": "no"
         },
         {
          "age": 57,
          "bmi": 34.01,
          "children": 0,
          "region": "northwest",
          "sex": "male",
          "smoker": "no"
         },
         {
          "age": 20,
          "bmi": 30.59,
          "children": 0,
          "region": "northeast",
          "sex": "female",
          "smoker": "no"
         },
         {
          "age": 29,
          "bmi": 27.2,
          "children": 0,
          "region": "southwest",
          "sex": "male",
          "smoker": "no"
         },
         {
          "age": 22,
          "bmi": 20.235,
          "children": 0,
          "region": "northwest",
          "sex": "female",
          "smoker": "no"
         },
         {
          "age": 26,
          "bmi": 33.915,
          "children": 1,
          "region": "northwest",
          "sex": "male",
          "smoker": "no"
         },
         {
          "age": 58,
          "bmi": 31.825,
          "children": 2,
          "region": "northeast",
          "sex": "female",
          "smoker": "no"
         },
         {
          "age": 41,
          "bmi": 28.31,
          "children": 1,
          "region": "northwest",
          "sex": "female",
          "smoker": "no"
         },
         {
          "age": 56,
          "bmi": 27.2,
          "children": 0,
          "region": "southwest",
          "sex": "female",
          "smoker": "no"
         },
         {
          "age": 26,
          "bmi": 30.875,
          "children": 2,
          "region": "northwest",
          "sex": "male",
          "smoker": "no"
         },
         {
          "age": 33,
          "bmi": 38.9,
          "children": 3,
          "region": "southwest",
          "sex": "female",
          "smoker": "no"
         },
         {
          "age": 18,
          "bmi": 26.73,
          "children": 0,
          "region": "southeast",
          "sex": "female",
          "smoker": "no"
         },
         {
          "age": 44,
          "bmi": 23.98,
          "children": 2,
          "region": "southeast",
          "sex": "female",
          "smoker": "no"
         },
         {
          "age": 21,
          "bmi": 31.255,
          "children": 0,
          "region": "northwest",
          "sex": "male",
          "smoker": "no"
         },
         {
          "age": 55,
          "bmi": 28.975,
          "children": 0,
          "region": "northeast",
          "sex": "male",
          "smoker": "no"
         },
         {
          "age": 28,
          "bmi": 24.3,
          "children": 5,
          "region": "southwest",
          "sex": "male",
          "smoker": "no"
         },
         {
          "age": 47,
          "bmi": 29.83,
          "children": 3,
          "region": "northwest",
          "sex": "male",
          "smoker": "no"
         },
         {
          "age": 49,
          "bmi": 25.84,
          "children": 1,
          "region": "northeast",
          "sex": "male",
          "smoker": "no"
         },
         {
          "age": 42,
          "bmi": 30,
          "children": 0,
          "region": "southwest",
          "sex": "male",
          "smoker": "yes"
         },
         {
          "age": 44,
          "bmi": 27.4,
          "children": 2,
          "region": "southwest",
          "sex": "male",
          "smoker": "no"
         },
         {
          "age": 34,
          "bmi": 37.335,
          "children": 2,
          "region": "northwest",
          "sex": "female",
          "smoker": "no"
         },
         {
          "age": 31,
          "bmi": 20.4,
          "children": 0,
          "region": "southwest",
          "sex": "male",
          "smoker": "no"
         },
         {
          "age": 46,
          "bmi": 48.07,
          "children": 2,
          "region": "northeast",
          "sex": "female",
          "smoker": "no"
         },
         {
          "age": 18,
          "bmi": 25.08,
          "children": 0,
          "region": "northeast",
          "sex": "female",
          "smoker": "no"
         },
         {
          "age": 18,
          "bmi": 37.29,
          "children": 1,
          "region": "southeast",
          "sex": "female",
          "smoker": "no"
         },
         {
          "age": 41,
          "bmi": 32.6,
          "children": 3,
          "region": "southwest",
          "sex": "female",
          "smoker": "no"
         },
         {
          "age": 32,
          "bmi": 24.6,
          "children": 0,
          "region": "southwest",
          "sex": "female",
          "smoker": "yes"
         },
         {
          "age": 49,
          "bmi": 29.83,
          "children": 1,
          "region": "northeast",
          "sex": "male",
          "smoker": "no"
         },
         {
          "age": 48,
          "bmi": 27.36,
          "children": 1,
          "region": "northeast",
          "sex": "female",
          "smoker": "no"
         },
         {
          "age": 19,
          "bmi": 27.265,
          "children": 2,
          "region": "northwest",
          "sex": "male",
          "smoker": "no"
         },
         {
          "age": 62,
          "bmi": 26.29,
          "children": 0,
          "region": "southeast",
          "sex": "female",
          "smoker": "yes"
         },
         {
          "age": 39,
          "bmi": 26.22,
          "children": 1,
          "region": "northwest",
          "sex": "male",
          "smoker": "no"
         },
         {
          "age": 58,
          "bmi": 41.91,
          "children": 0,
          "region": "southeast",
          "sex": "female",
          "smoker": "no"
         },
         {
          "age": 45,
          "bmi": 27.83,
          "children": 2,
          "region": "southeast",
          "sex": "female",
          "smoker": "no"
         },
         {
          "age": 60,
          "bmi": 18.335,
          "children": 0,
          "region": "northeast",
          "sex": "female",
          "smoker": "no"
         },
         {
          "age": 63,
          "bmi": 23.085,
          "children": 0,
          "region": "northeast",
          "sex": "female",
          "smoker": "no"
         },
         {
          "age": 31,
          "bmi": 29.26,
          "children": 1,
          "region": "southeast",
          "sex": "female",
          "smoker": "no"
         },
         {
          "age": 41,
          "bmi": 23.94,
          "children": 1,
          "region": "northeast",
          "sex": "male",
          "smoker": "no"
         },
         {
          "age": 37,
          "bmi": 34.2,
          "children": 1,
          "region": "northeast",
          "sex": "male",
          "smoker": "yes"
         },
         {
          "age": 55,
          "bmi": 26.8,
          "children": 1,
          "region": "southwest",
          "sex": "female",
          "smoker": "no"
         },
         {
          "age": 24,
          "bmi": 31.065,
          "children": 0,
          "region": "northeast",
          "sex": "male",
          "smoker": "yes"
         },
         {
          "age": 41,
          "bmi": 21.755,
          "children": 1,
          "region": "northeast",
          "sex": "female",
          "smoker": "no"
         },
         {
          "age": 39,
          "bmi": 26.315,
          "children": 2,
          "region": "northwest",
          "sex": "female",
          "smoker": "no"
         },
         {
          "age": 30,
          "bmi": 21.945,
          "children": 1,
          "region": "northeast",
          "sex": "female",
          "smoker": "no"
         },
         {
          "age": 28,
          "bmi": 30.875,
          "children": 0,
          "region": "northwest",
          "sex": "male",
          "smoker": "no"
         },
         {
          "age": 62,
          "bmi": 31.46,
          "children": 1,
          "region": "southeast",
          "sex": "male",
          "smoker": "no"
         },
         {
          "age": 21,
          "bmi": 31.02,
          "children": 0,
          "region": "southeast",
          "sex": "male",
          "smoker": "no"
         },
         {
          "age": 29,
          "bmi": 31.73,
          "children": 2,
          "region": "northwest",
          "sex": "male",
          "smoker": "no"
         },
         {
          "age": 37,
          "bmi": 25.555,
          "children": 1,
          "region": "northeast",
          "sex": "female",
          "smoker": "yes"
         },
         {
          "age": 36,
          "bmi": 34.43,
          "children": 2,
          "region": "southeast",
          "sex": "male",
          "smoker": "no"
         },
         {
          "age": 26,
          "bmi": 31.065,
          "children": 0,
          "region": "northwest",
          "sex": "male",
          "smoker": "no"
         },
         {
          "age": 37,
          "bmi": 30.875,
          "children": 3,
          "region": "northwest",
          "sex": "male",
          "smoker": "no"
         },
         {
          "age": 57,
          "bmi": 25.74,
          "children": 2,
          "region": "southeast",
          "sex": "female",
          "smoker": "no"
         },
         {
          "age": 43,
          "bmi": 34.96,
          "children": 1,
          "region": "northeast",
          "sex": "male",
          "smoker": "yes"
         },
         {
          "age": 40,
          "bmi": 30.875,
          "children": 4,
          "region": "northwest",
          "sex": "male",
          "smoker": "no"
         },
         {
          "age": 64,
          "bmi": 23.76,
          "children": 0,
          "region": "southeast",
          "sex": "male",
          "smoker": "yes"
         },
         {
          "age": 52,
          "bmi": 38.6,
          "children": 2,
          "region": "southwest",
          "sex": "male",
          "smoker": "no"
         },
         {
          "age": 45,
          "bmi": 39.805,
          "children": 0,
          "region": "northeast",
          "sex": "male",
          "smoker": "no"
         },
         {
          "age": 55,
          "bmi": 37.1,
          "children": 0,
          "region": "southwest",
          "sex": "female",
          "smoker": "no"
         },
         {
          "age": 45,
          "bmi": 35.3,
          "children": 0,
          "region": "southwest",
          "sex": "female",
          "smoker": "no"
         },
         {
          "age": 33,
          "bmi": 35.245,
          "children": 0,
          "region": "northeast",
          "sex": "male",
          "smoker": "no"
         },
         {
          "age": 35,
          "bmi": 17.86,
          "children": 1,
          "region": "northwest",
          "sex": "male",
          "smoker": "no"
         },
         {
          "age": 23,
          "bmi": 32.56,
          "children": 0,
          "region": "southeast",
          "sex": "male",
          "smoker": "no"
         },
         {
          "age": 51,
          "bmi": 27.74,
          "children": 1,
          "region": "northeast",
          "sex": "male",
          "smoker": "no"
         },
         {
          "age": 19,
          "bmi": 30.4,
          "children": 0,
          "region": "southwest",
          "sex": "male",
          "smoker": "no"
         },
         {
          "age": 18,
          "bmi": 31.35,
          "children": 0,
          "region": "southeast",
          "sex": "female",
          "smoker": "no"
         },
         {
          "age": 39,
          "bmi": 34.32,
          "children": 5,
          "region": "southeast",
          "sex": "female",
          "smoker": "no"
         },
         {
          "age": 18,
          "bmi": 38.28,
          "children": 0,
          "region": "southeast",
          "sex": "female",
          "smoker": "no"
         },
         {
          "age": 53,
          "bmi": 37.43,
          "children": 1,
          "region": "northwest",
          "sex": "female",
          "smoker": "no"
         },
         {
          "age": 61,
          "bmi": 28.2,
          "children": 0,
          "region": "southwest",
          "sex": "female",
          "smoker": "no"
         },
         {
          "age": 19,
          "bmi": 28.7,
          "children": 0,
          "region": "southwest",
          "sex": "male",
          "smoker": "no"
         },
         {
          "age": 26,
          "bmi": 22.23,
          "children": 0,
          "region": "northwest",
          "sex": "female",
          "smoker": "no"
         },
         {
          "age": 48,
          "bmi": 30.78,
          "children": 3,
          "region": "northeast",
          "sex": "male",
          "smoker": "no"
         },
         {
          "age": 21,
          "bmi": 26.4,
          "children": 1,
          "region": "southwest",
          "sex": "female",
          "smoker": "no"
         },
         {
          "age": 59,
          "bmi": 31.35,
          "children": 0,
          "region": "northwest",
          "sex": "female",
          "smoker": "no"
         },
         {
          "age": 48,
          "bmi": 22.8,
          "children": 0,
          "region": "southwest",
          "sex": "female",
          "smoker": "no"
         },
         {
          "age": 47,
          "bmi": 27.645,
          "children": 2,
          "region": "northwest",
          "sex": "female",
          "smoker": "yes"
         },
         {
          "age": 47,
          "bmi": 24.1,
          "children": 1,
          "region": "southwest",
          "sex": "female",
          "smoker": "no"
         },
         {
          "age": 41,
          "bmi": 29.64,
          "children": 5,
          "region": "northeast",
          "sex": "male",
          "smoker": "no"
         },
         {
          "age": 55,
          "bmi": 27.645,
          "children": 0,
          "region": "northwest",
          "sex": "male",
          "smoker": "no"
         },
         {
          "age": 39,
          "bmi": 42.655,
          "children": 0,
          "region": "northeast",
          "sex": "male",
          "smoker": "no"
         },
         {
          "age": 31,
          "bmi": 38.39,
          "children": 2,
          "region": "southeast",
          "sex": "male",
          "smoker": "no"
         },
         {
          "age": 23,
          "bmi": 50.38,
          "children": 1,
          "region": "southeast",
          "sex": "male",
          "smoker": "no"
         },
         {
          "age": 51,
          "bmi": 38.06,
          "children": 0,
          "region": "southeast",
          "sex": "female",
          "smoker": "yes"
         },
         {
          "age": 23,
          "bmi": 28.12,
          "children": 0,
          "region": "northwest",
          "sex": "female",
          "smoker": "no"
         },
         {
          "age": 49,
          "bmi": 30.78,
          "children": 1,
          "region": "northeast",
          "sex": "female",
          "smoker": "no"
         },
         {
          "age": 42,
          "bmi": 28.31,
          "children": 3,
          "region": "northwest",
          "sex": "male",
          "smoker": "yes"
         },
         {
          "age": 59,
          "bmi": 37.1,
          "children": 1,
          "region": "southwest",
          "sex": "male",
          "smoker": "no"
         },
         {
          "age": 39,
          "bmi": 34.1,
          "children": 3,
          "region": "southwest",
          "sex": "female",
          "smoker": "no"
         },
         {
          "age": 42,
          "bmi": 35.97,
          "children": 2,
          "region": "southeast",
          "sex": "male",
          "smoker": "no"
         },
         {
          "age": 37,
          "bmi": 34.1,
          "children": 4,
          "region": "southwest",
          "sex": "male",
          "smoker": "yes"
         },
         {
          "age": 48,
          "bmi": 40.15,
          "children": 0,
          "region": "southeast",
          "sex": "male",
          "smoker": "no"
         },
         {
          "age": 26,
          "bmi": 35.42,
          "children": 0,
          "region": "southeast",
          "sex": "male",
          "smoker": "no"
         },
         {
          "age": 52,
          "bmi": 32.775,
          "children": 3,
          "region": "northwest",
          "sex": "male",
          "smoker": "no"
         },
         {
          "age": 19,
          "bmi": 25.745,
          "children": 1,
          "region": "northwest",
          "sex": "female",
          "smoker": "no"
         },
         {
          "age": 34,
          "bmi": 27.72,
          "children": 0,
          "region": "southeast",
          "sex": "female",
          "smoker": "no"
         },
         {
          "age": 21,
          "bmi": 27.36,
          "children": 0,
          "region": "northeast",
          "sex": "male",
          "smoker": "no"
         },
         {
          "age": 44,
          "bmi": 32.34,
          "children": 1,
          "region": "southeast",
          "sex": "female",
          "smoker": "no"
         },
         {
          "age": 64,
          "bmi": 34.5,
          "children": 0,
          "region": "southwest",
          "sex": "male",
          "smoker": "no"
         },
         {
          "age": 22,
          "bmi": 27.1,
          "children": 0,
          "region": "southwest",
          "sex": "female",
          "smoker": "no"
         },
         {
          "age": 22,
          "bmi": 23.18,
          "children": 0,
          "region": "northeast",
          "sex": "female",
          "smoker": "no"
         },
         {
          "age": 60,
          "bmi": 24.035,
          "children": 0,
          "region": "northwest",
          "sex": "female",
          "smoker": "no"
         },
         {
          "age": 42,
          "bmi": 36.195,
          "children": 1,
          "region": "northwest",
          "sex": "female",
          "smoker": "no"
         },
         {
          "age": 56,
          "bmi": 36.1,
          "children": 3,
          "region": "southwest",
          "sex": "male",
          "smoker": "no"
         },
         {
          "age": 32,
          "bmi": 33.82,
          "children": 1,
          "region": "northwest",
          "sex": "male",
          "smoker": "no"
         },
         {
          "age": 53,
          "bmi": 26.41,
          "children": 2,
          "region": "northeast",
          "sex": "male",
          "smoker": "no"
         },
         {
          "age": 18,
          "bmi": 39.14,
          "children": 0,
          "region": "northeast",
          "sex": "male",
          "smoker": "no"
         },
         {
          "age": 19,
          "bmi": 17.8,
          "children": 0,
          "region": "southwest",
          "sex": "female",
          "smoker": "no"
         },
         {
          "age": 32,
          "bmi": 31.54,
          "children": 1,
          "region": "northeast",
          "sex": "female",
          "smoker": "no"
         },
         {
          "age": 37,
          "bmi": 29.5,
          "children": 2,
          "region": "southwest",
          "sex": "female",
          "smoker": "no"
         },
         {
          "age": 62,
          "bmi": 30.02,
          "children": 0,
          "region": "northwest",
          "sex": "male",
          "smoker": "no"
         },
         {
          "age": 53,
          "bmi": 35.9,
          "children": 2,
          "region": "southwest",
          "sex": "female",
          "smoker": "no"
         },
         {
          "age": 28,
          "bmi": 17.29,
          "children": 0,
          "region": "northeast",
          "sex": "female",
          "smoker": "no"
         },
         {
          "age": 63,
          "bmi": 36.765,
          "children": 0,
          "region": "northeast",
          "sex": "male",
          "smoker": "no"
         },
         {
          "age": 32,
          "bmi": 44.22,
          "children": 0,
          "region": "southeast",
          "sex": "female",
          "smoker": "no"
         },
         {
          "age": 50,
          "bmi": 31.825,
          "children": 0,
          "region": "northeast",
          "sex": "male",
          "smoker": "yes"
         },
         {
          "age": 28,
          "bmi": 33.11,
          "children": 0,
          "region": "southeast",
          "sex": "female",
          "smoker": "no"
         },
         {
          "age": 55,
          "bmi": 32.395,
          "children": 1,
          "region": "northeast",
          "sex": "female",
          "smoker": "no"
         },
         {
          "age": 43,
          "bmi": 32.56,
          "children": 3,
          "region": "southeast",
          "sex": "female",
          "smoker": "yes"
         },
         {
          "age": 22,
          "bmi": 37.62,
          "children": 1,
          "region": "southeast",
          "sex": "male",
          "smoker": "yes"
         },
         {
          "age": 20,
          "bmi": 22.42,
          "children": 0,
          "region": "northwest",
          "sex": "female",
          "smoker": "yes"
         },
         {
          "age": 60,
          "bmi": 31.35,
          "children": 3,
          "region": "northwest",
          "sex": "male",
          "smoker": "yes"
         },
         {
          "age": 51,
          "bmi": 35.97,
          "children": 1,
          "region": "southeast",
          "sex": "male",
          "smoker": "no"
         },
         {
          "age": 55,
          "bmi": 32.67,
          "children": 1,
          "region": "southeast",
          "sex": "male",
          "smoker": "no"
         },
         {
          "age": 24,
          "bmi": 29.3,
          "children": 0,
          "region": "southwest",
          "sex": "male",
          "smoker": "no"
         },
         {
          "age": 34,
          "bmi": 34.675,
          "children": 0,
          "region": "northeast",
          "sex": "male",
          "smoker": "no"
         },
         {
          "age": 53,
          "bmi": 28.6,
          "children": 3,
          "region": "southwest",
          "sex": "male",
          "smoker": "no"
         },
         {
          "age": 63,
          "bmi": 25.08,
          "children": 0,
          "region": "northwest",
          "sex": "female",
          "smoker": "no"
         },
         {
          "age": 25,
          "bmi": 34.485,
          "children": 0,
          "region": "northwest",
          "sex": "female",
          "smoker": "no"
         },
         {
          "age": 64,
          "bmi": 22.99,
          "children": 0,
          "region": "southeast",
          "sex": "female",
          "smoker": "yes"
         },
         {
          "age": 61,
          "bmi": 33.33,
          "children": 4,
          "region": "southeast",
          "sex": "female",
          "smoker": "no"
         },
         {
          "age": 26,
          "bmi": 29.355,
          "children": 2,
          "region": "northeast",
          "sex": "female",
          "smoker": "no"
         },
         {
          "age": 64,
          "bmi": 30.115,
          "children": 3,
          "region": "northwest",
          "sex": "female",
          "smoker": "no"
         },
         {
          "age": 46,
          "bmi": 38.17,
          "children": 2,
          "region": "southeast",
          "sex": "male",
          "smoker": "no"
         },
         {
          "age": 18,
          "bmi": 23.75,
          "children": 0,
          "region": "northeast",
          "sex": "male",
          "smoker": "no"
         },
         {
          "age": 48,
          "bmi": 37.29,
          "children": 2,
          "region": "southeast",
          "sex": "male",
          "smoker": "no"
         },
         {
          "age": 19,
          "bmi": 30.02,
          "children": 0,
          "region": "northwest",
          "sex": "female",
          "smoker": "yes"
         },
         {
          "age": 27,
          "bmi": 32.67,
          "children": 0,
          "region": "southeast",
          "sex": "male",
          "smoker": "no"
         },
         {
          "age": 27,
          "bmi": 20.045,
          "children": 3,
          "region": "northwest",
          "sex": "female",
          "smoker": "yes"
         },
         {
          "age": 30,
          "bmi": 28.38,
          "children": 1,
          "region": "southeast",
          "sex": "female",
          "smoker": "yes"
         },
         {
          "age": 25,
          "bmi": 30.59,
          "children": 0,
          "region": "northeast",
          "sex": "male",
          "smoker": "no"
         },
         {
          "age": 32,
          "bmi": 28.12,
          "children": 4,
          "region": "northwest",
          "sex": "male",
          "smoker": "yes"
         },
         {
          "age": 26,
          "bmi": 27.265,
          "children": 3,
          "region": "northeast",
          "sex": "male",
          "smoker": "no"
         },
         {
          "age": 20,
          "bmi": 33.33,
          "children": 0,
          "region": "southeast",
          "sex": "male",
          "smoker": "no"
         },
         {
          "age": 24,
          "bmi": 23.655,
          "children": 0,
          "region": "northwest",
          "sex": "male",
          "smoker": "no"
         },
         {
          "age": 35,
          "bmi": 39.71,
          "children": 4,
          "region": "northeast",
          "sex": "male",
          "smoker": "no"
         },
         {
          "age": 40,
          "bmi": 25.08,
          "children": 0,
          "region": "southeast",
          "sex": "male",
          "smoker": "no"
         },
         {
          "age": 42,
          "bmi": 34.1,
          "children": 0,
          "region": "southwest",
          "sex": "male",
          "smoker": "no"
         },
         {
          "age": 51,
          "bmi": 39.5,
          "children": 1,
          "region": "southwest",
          "sex": "female",
          "smoker": "no"
         },
         {
          "age": 22,
          "bmi": 31.35,
          "children": 1,
          "region": "northwest",
          "sex": "male",
          "smoker": "no"
         },
         {
          "age": 27,
          "bmi": 23.1,
          "children": 0,
          "region": "southeast",
          "sex": "male",
          "smoker": "no"
         },
         {
          "age": 34,
          "bmi": 23.56,
          "children": 0,
          "region": "northeast",
          "sex": "female",
          "smoker": "no"
         },
         {
          "age": 24,
          "bmi": 30.21,
          "children": 3,
          "region": "northwest",
          "sex": "female",
          "smoker": "no"
         },
         {
          "age": 18,
          "bmi": 35.2,
          "children": 1,
          "region": "southeast",
          "sex": "male",
          "smoker": "no"
         },
         {
          "age": 44,
          "bmi": 25.8,
          "children": 1,
          "region": "southwest",
          "sex": "female",
          "smoker": "no"
         },
         {
          "age": 45,
          "bmi": 24.31,
          "children": 5,
          "region": "southeast",
          "sex": "male",
          "smoker": "no"
         },
         {
          "age": 20,
          "bmi": 24.42,
          "children": 0,
          "region": "southeast",
          "sex": "female",
          "smoker": "yes"
         },
         {
          "age": 30,
          "bmi": 38.83,
          "children": 1,
          "region": "southeast",
          "sex": "male",
          "smoker": "no"
         },
         {
          "age": 55,
          "bmi": 33,
          "children": 0,
          "region": "southeast",
          "sex": "male",
          "smoker": "no"
         },
         {
          "age": 52,
          "bmi": 36.7,
          "children": 0,
          "region": "southwest",
          "sex": "male",
          "smoker": "no"
         },
         {
          "age": 19,
          "bmi": 27.835,
          "children": 0,
          "region": "northwest",
          "sex": "male",
          "smoker": "no"
         },
         {
          "age": 38,
          "bmi": 28.025,
          "children": 1,
          "region": "northeast",
          "sex": "male",
          "smoker": "no"
         },
         {
          "age": 31,
          "bmi": 25.935,
          "children": 1,
          "region": "northwest",
          "sex": "male",
          "smoker": "no"
         },
         {
          "age": 19,
          "bmi": 20.3,
          "children": 0,
          "region": "southwest",
          "sex": "male",
          "smoker": "no"
         },
         {
          "age": 50,
          "bmi": 36.2,
          "children": 0,
          "region": "southwest",
          "sex": "male",
          "smoker": "no"
         },
         {
          "age": 18,
          "bmi": 34.1,
          "children": 0,
          "region": "southeast",
          "sex": "male",
          "smoker": "no"
         },
         {
          "age": 60,
          "bmi": 24.32,
          "children": 1,
          "region": "northwest",
          "sex": "male",
          "smoker": "no"
         },
         {
          "age": 28,
          "bmi": 36.4,
          "children": 1,
          "region": "southwest",
          "sex": "male",
          "smoker": "yes"
         },
         {
          "age": 19,
          "bmi": 20.615,
          "children": 2,
          "region": "northwest",
          "sex": "male",
          "smoker": "no"
         },
         {
          "age": 19,
          "bmi": 35.15,
          "children": 0,
          "region": "northwest",
          "sex": "female",
          "smoker": "no"
         },
         {
          "age": 45,
          "bmi": 21.375,
          "children": 0,
          "region": "northwest",
          "sex": "male",
          "smoker": "no"
         },
         {
          "age": 61,
          "bmi": 21.09,
          "children": 0,
          "region": "northwest",
          "sex": "female",
          "smoker": "no"
         },
         {
          "age": 50,
          "bmi": 27.83,
          "children": 3,
          "region": "southeast",
          "sex": "female",
          "smoker": "no"
         },
         {
          "age": 63,
          "bmi": 26.22,
          "children": 0,
          "region": "northwest",
          "sex": "female",
          "smoker": "no"
         },
         {
          "age": 44,
          "bmi": 26.41,
          "children": 0,
          "region": "northwest",
          "sex": "female",
          "smoker": "no"
         },
         {
          "age": 44,
          "bmi": 36.955,
          "children": 1,
          "region": "northwest",
          "sex": "female",
          "smoker": "no"
         },
         {
          "age": 41,
          "bmi": 28.8,
          "children": 1,
          "region": "southwest",
          "sex": "male",
          "smoker": "no"
         },
         {
          "age": 59,
          "bmi": 29.7,
          "children": 2,
          "region": "southeast",
          "sex": "male",
          "smoker": "no"
         },
         {
          "age": 37,
          "bmi": 36.19,
          "children": 0,
          "region": "southeast",
          "sex": "male",
          "smoker": "no"
         },
         {
          "age": 31,
          "bmi": 21.755,
          "children": 0,
          "region": "northwest",
          "sex": "female",
          "smoker": "no"
         },
         {
          "age": 56,
          "bmi": 35.8,
          "children": 1,
          "region": "southwest",
          "sex": "female",
          "smoker": "no"
         },
         {
          "age": 52,
          "bmi": 24.86,
          "children": 0,
          "region": "southeast",
          "sex": "female",
          "smoker": "no"
         },
         {
          "age": 54,
          "bmi": 31.6,
          "children": 0,
          "region": "southwest",
          "sex": "male",
          "smoker": "no"
         },
         {
          "age": 42,
          "bmi": 26.6,
          "children": 0,
          "region": "northwest",
          "sex": "female",
          "smoker": "yes"
         },
         {
          "age": 59,
          "bmi": 24.7,
          "children": 0,
          "region": "northeast",
          "sex": "male",
          "smoker": "no"
         },
         {
          "age": 29,
          "bmi": 35.53,
          "children": 0,
          "region": "southeast",
          "sex": "female",
          "smoker": "no"
         },
         {
          "age": 42,
          "bmi": 26.18,
          "children": 1,
          "region": "southeast",
          "sex": "female",
          "smoker": "no"
         },
         {
          "age": 52,
          "bmi": 37.4,
          "children": 0,
          "region": "southwest",
          "sex": "female",
          "smoker": "no"
         },
         {
          "age": 46,
          "bmi": 33.44,
          "children": 1,
          "region": "southeast",
          "sex": "female",
          "smoker": "no"
         },
         {
          "age": 19,
          "bmi": 30.59,
          "children": 0,
          "region": "northwest",
          "sex": "male",
          "smoker": "no"
         },
         {
          "age": 31,
          "bmi": 26.885,
          "children": 1,
          "region": "northeast",
          "sex": "male",
          "smoker": "no"
         },
         {
          "age": 30,
          "bmi": 30.9,
          "children": 3,
          "region": "southwest",
          "sex": "female",
          "smoker": "no"
         },
         {
          "age": 57,
          "bmi": 20.1,
          "children": 1,
          "region": "southwest",
          "sex": "female",
          "smoker": "no"
         },
         {
          "age": 19,
          "bmi": 44.88,
          "children": 0,
          "region": "southeast",
          "sex": "male",
          "smoker": "yes"
         },
         {
          "age": 21,
          "bmi": 21.89,
          "children": 2,
          "region": "southeast",
          "sex": "female",
          "smoker": "no"
         },
         {
          "age": 43,
          "bmi": 35.64,
          "children": 1,
          "region": "southeast",
          "sex": "female",
          "smoker": "no"
         },
         {
          "age": 54,
          "bmi": 27.645,
          "children": 1,
          "region": "northwest",
          "sex": "female",
          "smoker": "no"
         },
         {
          "age": 25,
          "bmi": 25.74,
          "children": 0,
          "region": "southeast",
          "sex": "male",
          "smoker": "no"
         },
         {
          "age": 64,
          "bmi": 40.48,
          "children": 0,
          "region": "southeast",
          "sex": "male",
          "smoker": "no"
         },
         {
          "age": 18,
          "bmi": 38.28,
          "children": 0,
          "region": "southeast",
          "sex": "female",
          "smoker": "no"
         },
         {
          "age": 45,
          "bmi": 30.9,
          "children": 2,
          "region": "southwest",
          "sex": "female",
          "smoker": "no"
         },
         {
          "age": 31,
          "bmi": 31.065,
          "children": 0,
          "region": "northeast",
          "sex": "female",
          "smoker": "no"
         },
         {
          "age": 25,
          "bmi": 24.985,
          "children": 2,
          "region": "northeast",
          "sex": "male",
          "smoker": "no"
         },
         {
          "age": 18,
          "bmi": 28.5,
          "children": 0,
          "region": "northeast",
          "sex": "male",
          "smoker": "no"
         },
         {
          "age": 20,
          "bmi": 28.975,
          "children": 0,
          "region": "northwest",
          "sex": "female",
          "smoker": "no"
         },
         {
          "age": 54,
          "bmi": 35.815,
          "children": 3,
          "region": "northwest",
          "sex": "female",
          "smoker": "no"
         },
         {
          "age": 23,
          "bmi": 41.91,
          "children": 0,
          "region": "southeast",
          "sex": "male",
          "smoker": "no"
         },
         {
          "age": 19,
          "bmi": 35.53,
          "children": 0,
          "region": "northwest",
          "sex": "male",
          "smoker": "no"
         },
         {
          "age": 51,
          "bmi": 34.1,
          "children": 0,
          "region": "southeast",
          "sex": "female",
          "smoker": "no"
         },
         {
          "age": 52,
          "bmi": 34.1,
          "children": 0,
          "region": "southeast",
          "sex": "male",
          "smoker": "no"
         },
         {
          "age": 50,
          "bmi": 27.075,
          "children": 1,
          "region": "northeast",
          "sex": "female",
          "smoker": "no"
         },
         {
          "age": 54,
          "bmi": 25.1,
          "children": 3,
          "region": "southwest",
          "sex": "male",
          "smoker": "yes"
         },
         {
          "age": 52,
          "bmi": 30.2,
          "children": 1,
          "region": "southwest",
          "sex": "male",
          "smoker": "no"
         },
         {
          "age": 49,
          "bmi": 32.3,
          "children": 3,
          "region": "northwest",
          "sex": "male",
          "smoker": "no"
         },
         {
          "age": 52,
          "bmi": 31.2,
          "children": 0,
          "region": "southwest",
          "sex": "female",
          "smoker": "no"
         },
         {
          "age": 53,
          "bmi": 41.47,
          "children": 0,
          "region": "southeast",
          "sex": "male",
          "smoker": "no"
         },
         {
          "age": 30,
          "bmi": 23.655,
          "children": 3,
          "region": "northwest",
          "sex": "female",
          "smoker": "yes"
         },
         {
          "age": 24,
          "bmi": 33.63,
          "children": 4,
          "region": "northeast",
          "sex": "male",
          "smoker": "no"
         },
         {
          "age": 32,
          "bmi": 27.835,
          "children": 1,
          "region": "northwest",
          "sex": "male",
          "smoker": "no"
         },
         {
          "age": 54,
          "bmi": 25.46,
          "children": 1,
          "region": "northeast",
          "sex": "male",
          "smoker": "no"
         },
         {
          "age": 40,
          "bmi": 32.775,
          "children": 2,
          "region": "northwest",
          "sex": "female",
          "smoker": "yes"
         },
         {
          "age": 52,
          "bmi": 27.36,
          "children": 0,
          "region": "northwest",
          "sex": "male",
          "smoker": "yes"
         },
         {
          "age": 41,
          "bmi": 34.2,
          "children": 2,
          "region": "northwest",
          "sex": "male",
          "smoker": "no"
         },
         {
          "age": 27,
          "bmi": 24.1,
          "children": 0,
          "region": "southwest",
          "sex": "female",
          "smoker": "no"
         },
         {
          "age": 45,
          "bmi": 36.3,
          "children": 2,
          "region": "southeast",
          "sex": "female",
          "smoker": "no"
         },
         {
          "age": 56,
          "bmi": 25.65,
          "children": 0,
          "region": "northwest",
          "sex": "female",
          "smoker": "no"
         },
         {
          "age": 47,
          "bmi": 36.2,
          "children": 1,
          "region": "southwest",
          "sex": "male",
          "smoker": "no"
         },
         {
          "age": 30,
          "bmi": 25.46,
          "children": 0,
          "region": "northeast",
          "sex": "male",
          "smoker": "no"
         },
         {
          "age": 60,
          "bmi": 29.64,
          "children": 0,
          "region": "northeast",
          "sex": "male",
          "smoker": "no"
         },
         {
          "age": 45,
          "bmi": 24.035,
          "children": 2,
          "region": "northeast",
          "sex": "male",
          "smoker": "no"
         },
         {
          "age": 47,
          "bmi": 36.08,
          "children": 1,
          "region": "southeast",
          "sex": "male",
          "smoker": "yes"
         },
         {
          "age": 22,
          "bmi": 28.31,
          "children": 1,
          "region": "northwest",
          "sex": "male",
          "smoker": "no"
         },
         {
          "age": 35,
          "bmi": 27.74,
          "children": 2,
          "region": "northeast",
          "sex": "male",
          "smoker": "yes"
         },
         {
          "age": 41,
          "bmi": 28.405,
          "children": 1,
          "region": "northwest",
          "sex": "male",
          "smoker": "no"
         },
         {
          "age": 49,
          "bmi": 29.925,
          "children": 0,
          "region": "northwest",
          "sex": "female",
          "smoker": "no"
         },
         {
          "age": 64,
          "bmi": 31.3,
          "children": 2,
          "region": "southwest",
          "sex": "female",
          "smoker": "yes"
         },
         {
          "age": 19,
          "bmi": 33.1,
          "children": 0,
          "region": "southwest",
          "sex": "male",
          "smoker": "no"
         },
         {
          "age": 59,
          "bmi": 36.765,
          "children": 1,
          "region": "northeast",
          "sex": "female",
          "smoker": "yes"
         },
         {
          "age": 31,
          "bmi": 25.9,
          "children": 3,
          "region": "southwest",
          "sex": "male",
          "smoker": "yes"
         },
         {
          "age": 64,
          "bmi": 39.7,
          "children": 0,
          "region": "southwest",
          "sex": "female",
          "smoker": "no"
         },
         {
          "age": 45,
          "bmi": 27.645,
          "children": 1,
          "region": "northwest",
          "sex": "female",
          "smoker": "no"
         },
         {
          "age": 58,
          "bmi": 36.48,
          "children": 0,
          "region": "northwest",
          "sex": "female",
          "smoker": "no"
         },
         {
          "age": 53,
          "bmi": 30.495,
          "children": 0,
          "region": "northeast",
          "sex": "male",
          "smoker": "no"
         },
         {
          "age": 36,
          "bmi": 22.135,
          "children": 3,
          "region": "northeast",
          "sex": "female",
          "smoker": "no"
         },
         {
          "age": 22,
          "bmi": 31.02,
          "children": 3,
          "region": "southeast",
          "sex": "female",
          "smoker": "yes"
         },
         {
          "age": 25,
          "bmi": 32.23,
          "children": 1,
          "region": "southeast",
          "sex": "female",
          "smoker": "no"
         },
         {
          "age": 30,
          "bmi": 39.05,
          "children": 3,
          "region": "southeast",
          "sex": "female",
          "smoker": "yes"
         },
         {
          "age": 64,
          "bmi": 35.97,
          "children": 0,
          "region": "southeast",
          "sex": "female",
          "smoker": "no"
         },
         {
          "age": 34,
          "bmi": 25.3,
          "children": 2,
          "region": "southeast",
          "sex": "male",
          "smoker": "yes"
         },
         {
          "age": 35,
          "bmi": 34.21,
          "children": 1,
          "region": "southeast",
          "sex": "female",
          "smoker": "no"
         },
         {
          "age": 53,
          "bmi": 31.16,
          "children": 1,
          "region": "northwest",
          "sex": "male",
          "smoker": "no"
         },
         {
          "age": 33,
          "bmi": 33.44,
          "children": 5,
          "region": "southeast",
          "sex": "male",
          "smoker": "no"
         },
         {
          "age": 45,
          "bmi": 20.35,
          "children": 3,
          "region": "southeast",
          "sex": "male",
          "smoker": "no"
         },
         {
          "age": 23,
          "bmi": 26.51,
          "children": 0,
          "region": "southeast",
          "sex": "male",
          "smoker": "no"
         },
         {
          "age": 20,
          "bmi": 35.625,
          "children": 3,
          "region": "northwest",
          "sex": "male",
          "smoker": "yes"
         },
         {
          "age": 51,
          "bmi": 30.03,
          "children": 1,
          "region": "southeast",
          "sex": "male",
          "smoker": "no"
         },
         {
          "age": 23,
          "bmi": 24.51,
          "children": 0,
          "region": "northeast",
          "sex": "male",
          "smoker": "no"
         },
         {
          "age": 52,
          "bmi": 25.3,
          "children": 2,
          "region": "southeast",
          "sex": "female",
          "smoker": "yes"
         },
         {
          "age": 27,
          "bmi": 30.3,
          "children": 3,
          "region": "southwest",
          "sex": "male",
          "smoker": "no"
         },
         {
          "age": 25,
          "bmi": 25.84,
          "children": 1,
          "region": "northeast",
          "sex": "male",
          "smoker": "no"
         },
         {
          "age": 62,
          "bmi": 32.11,
          "children": 0,
          "region": "northeast",
          "sex": "male",
          "smoker": "no"
         },
         {
          "age": 46,
          "bmi": 28.05,
          "children": 1,
          "region": "southeast",
          "sex": "female",
          "smoker": "no"
         },
         {
          "age": 45,
          "bmi": 30.2,
          "children": 1,
          "region": "southwest",
          "sex": "male",
          "smoker": "no"
         },
         {
          "age": 28,
          "bmi": 25.935,
          "children": 1,
          "region": "northwest",
          "sex": "female",
          "smoker": "no"
         },
         {
          "age": 23,
          "bmi": 23.18,
          "children": 2,
          "region": "northwest",
          "sex": "female",
          "smoker": "no"
         },
         {
          "age": 31,
          "bmi": 26.62,
          "children": 0,
          "region": "southeast",
          "sex": "female",
          "smoker": "no"
         },
         {
          "age": 57,
          "bmi": 31.825,
          "children": 0,
          "region": "northwest",
          "sex": "female",
          "smoker": "no"
         },
         {
          "age": 49,
          "bmi": 25.84,
          "children": 2,
          "region": "northwest",
          "sex": "male",
          "smoker": "yes"
         },
         {
          "age": 60,
          "bmi": 32.8,
          "children": 0,
          "region": "southwest",
          "sex": "male",
          "smoker": "yes"
         },
         {
          "age": 56,
          "bmi": 34.43,
          "children": 0,
          "region": "southeast",
          "sex": "male",
          "smoker": "no"
         },
         {
          "age": 38,
          "bmi": 19.95,
          "children": 2,
          "region": "northeast",
          "sex": "female",
          "smoker": "no"
         },
         {
          "age": 49,
          "bmi": 27.17,
          "children": 0,
          "region": "southeast",
          "sex": "female",
          "smoker": "no"
         },
         {
          "age": 51,
          "bmi": 25.8,
          "children": 1,
          "region": "southwest",
          "sex": "female",
          "smoker": "no"
         },
         {
          "age": 44,
          "bmi": 25.365,
          "children": 1,
          "region": "northwest",
          "sex": "male",
          "smoker": "no"
         },
         {
          "age": 25,
          "bmi": 41.325,
          "children": 0,
          "region": "northeast",
          "sex": "female",
          "smoker": "no"
         },
         {
          "age": 25,
          "bmi": 23.9,
          "children": 5,
          "region": "southwest",
          "sex": "male",
          "smoker": "no"
         },
         {
          "age": 30,
          "bmi": 27.93,
          "children": 0,
          "region": "northeast",
          "sex": "female",
          "smoker": "no"
         },
         {
          "age": 24,
          "bmi": 33.345,
          "children": 0,
          "region": "northwest",
          "sex": "female",
          "smoker": "no"
         },
         {
          "age": 63,
          "bmi": 35.2,
          "children": 1,
          "region": "southeast",
          "sex": "female",
          "smoker": "no"
         },
         {
          "age": 51,
          "bmi": 20.6,
          "children": 0,
          "region": "southwest",
          "sex": "female",
          "smoker": "no"
         },
         {
          "age": 28,
          "bmi": 26.51,
          "children": 2,
          "region": "southeast",
          "sex": "female",
          "smoker": "no"
         },
         {
          "age": 45,
          "bmi": 30.495,
          "children": 1,
          "region": "northwest",
          "sex": "female",
          "smoker": "yes"
         },
         {
          "age": 59,
          "bmi": 37.4,
          "children": 0,
          "region": "southwest",
          "sex": "male",
          "smoker": "no"
         },
         {
          "age": 51,
          "bmi": 33.915,
          "children": 0,
          "region": "northeast",
          "sex": "female",
          "smoker": "no"
         },
         {
          "age": 35,
          "bmi": 34.77,
          "children": 2,
          "region": "northwest",
          "sex": "male",
          "smoker": "no"
         },
         {
          "age": 29,
          "bmi": 34.4,
          "children": 0,
          "region": "southwest",
          "sex": "male",
          "smoker": "yes"
         },
         {
          "age": 52,
          "bmi": 34.485,
          "children": 3,
          "region": "northwest",
          "sex": "male",
          "smoker": "yes"
         },
         {
          "age": 19,
          "bmi": 24.7,
          "children": 0,
          "region": "southwest",
          "sex": "female",
          "smoker": "no"
         },
         {
          "age": 19,
          "bmi": 18.6,
          "children": 0,
          "region": "southwest",
          "sex": "female",
          "smoker": "no"
         },
         {
          "age": 35,
          "bmi": 31,
          "children": 1,
          "region": "southwest",
          "sex": "female",
          "smoker": "no"
         },
         {
          "age": 42,
          "bmi": 31.255,
          "children": 0,
          "region": "northwest",
          "sex": "male",
          "smoker": "no"
         },
         {
          "age": 42,
          "bmi": 23.37,
          "children": 0,
          "region": "northeast",
          "sex": "female",
          "smoker": "yes"
         },
         {
          "age": 58,
          "bmi": 49.06,
          "children": 0,
          "region": "southeast",
          "sex": "male",
          "smoker": "no"
         },
         {
          "age": 62,
          "bmi": 31.73,
          "children": 0,
          "region": "northeast",
          "sex": "female",
          "smoker": "no"
         },
         {
          "age": 28,
          "bmi": 24.32,
          "children": 1,
          "region": "northeast",
          "sex": "female",
          "smoker": "no"
         },
         {
          "age": 52,
          "bmi": 33.3,
          "children": 2,
          "region": "southwest",
          "sex": "female",
          "smoker": "no"
         },
         {
          "age": 59,
          "bmi": 36.52,
          "children": 1,
          "region": "southeast",
          "sex": "female",
          "smoker": "no"
         },
         {
          "age": 55,
          "bmi": 35.245,
          "children": 1,
          "region": "northeast",
          "sex": "male",
          "smoker": "no"
         },
         {
          "age": 58,
          "bmi": 28.215,
          "children": 0,
          "region": "northwest",
          "sex": "female",
          "smoker": "no"
         },
         {
          "age": 42,
          "bmi": 40.37,
          "children": 2,
          "region": "southeast",
          "sex": "female",
          "smoker": "yes"
         },
         {
          "age": 34,
          "bmi": 31.92,
          "children": 1,
          "region": "northeast",
          "sex": "female",
          "smoker": "yes"
         },
         {
          "age": 29,
          "bmi": 22.515,
          "children": 3,
          "region": "northeast",
          "sex": "male",
          "smoker": "no"
         },
         {
          "age": 22,
          "bmi": 35.6,
          "children": 0,
          "region": "southwest",
          "sex": "male",
          "smoker": "yes"
         },
         {
          "age": 55,
          "bmi": 33.88,
          "children": 3,
          "region": "southeast",
          "sex": "male",
          "smoker": "no"
         },
         {
          "age": 19,
          "bmi": 27.9,
          "children": 0,
          "region": "southwest",
          "sex": "female",
          "smoker": "yes"
         },
         {
          "age": 19,
          "bmi": 20.7,
          "children": 0,
          "region": "southwest",
          "sex": "male",
          "smoker": "no"
         },
         {
          "age": 54,
          "bmi": 28.88,
          "children": 2,
          "region": "northeast",
          "sex": "female",
          "smoker": "no"
         },
         {
          "age": 20,
          "bmi": 40.47,
          "children": 0,
          "region": "northeast",
          "sex": "male",
          "smoker": "no"
         },
         {
          "age": 60,
          "bmi": 33.11,
          "children": 3,
          "region": "southeast",
          "sex": "male",
          "smoker": "no"
         },
         {
          "age": 53,
          "bmi": 29.48,
          "children": 0,
          "region": "southeast",
          "sex": "male",
          "smoker": "no"
         },
         {
          "age": 18,
          "bmi": 33.535,
          "children": 0,
          "region": "northeast",
          "sex": "male",
          "smoker": "yes"
         },
         {
          "age": 18,
          "bmi": 30.305,
          "children": 0,
          "region": "northeast",
          "sex": "female",
          "smoker": "no"
         },
         {
          "age": 60,
          "bmi": 28.595,
          "children": 0,
          "region": "northeast",
          "sex": "male",
          "smoker": "no"
         },
         {
          "age": 26,
          "bmi": 17.67,
          "children": 0,
          "region": "northwest",
          "sex": "male",
          "smoker": "no"
         },
         {
          "age": 24,
          "bmi": 25.27,
          "children": 0,
          "region": "northeast",
          "sex": "female",
          "smoker": "no"
         },
         {
          "age": 19,
          "bmi": 28.6,
          "children": 5,
          "region": "southwest",
          "sex": "female",
          "smoker": "no"
         },
         {
          "age": 32,
          "bmi": 37.145,
          "children": 3,
          "region": "northeast",
          "sex": "female",
          "smoker": "no"
         },
         {
          "age": 58,
          "bmi": 36.08,
          "children": 0,
          "region": "southeast",
          "sex": "male",
          "smoker": "no"
         },
         {
          "age": 61,
          "bmi": 36.3,
          "children": 1,
          "region": "southwest",
          "sex": "male",
          "smoker": "yes"
         },
         {
          "age": 35,
          "bmi": 36.67,
          "children": 1,
          "region": "northeast",
          "sex": "male",
          "smoker": "yes"
         },
         {
          "age": 37,
          "bmi": 28.025,
          "children": 2,
          "region": "northwest",
          "sex": "male",
          "smoker": "no"
         },
         {
          "age": 31,
          "bmi": 36.3,
          "children": 2,
          "region": "southwest",
          "sex": "male",
          "smoker": "yes"
         },
         {
          "age": 35,
          "bmi": 23.465,
          "children": 2,
          "region": "northeast",
          "sex": "female",
          "smoker": "no"
         },
         {
          "age": 64,
          "bmi": 39.33,
          "children": 0,
          "region": "northeast",
          "sex": "female",
          "smoker": "no"
         },
         {
          "age": 28,
          "bmi": 28.88,
          "children": 1,
          "region": "northeast",
          "sex": "female",
          "smoker": "no"
         },
         {
          "age": 28,
          "bmi": 23.845,
          "children": 2,
          "region": "northwest",
          "sex": "female",
          "smoker": "no"
         },
         {
          "age": 54,
          "bmi": 31.9,
          "children": 1,
          "region": "southeast",
          "sex": "female",
          "smoker": "no"
         },
         {
          "age": 29,
          "bmi": 32.11,
          "children": 2,
          "region": "northwest",
          "sex": "male",
          "smoker": "no"
         },
         {
          "age": 25,
          "bmi": 29.7,
          "children": 3,
          "region": "southwest",
          "sex": "male",
          "smoker": "yes"
         },
         {
          "age": 43,
          "bmi": 25.08,
          "children": 0,
          "region": "northeast",
          "sex": "female",
          "smoker": "no"
         },
         {
          "age": 58,
          "bmi": 28.595,
          "children": 0,
          "region": "northwest",
          "sex": "male",
          "smoker": "no"
         },
         {
          "age": 44,
          "bmi": 29.81,
          "children": 2,
          "region": "southeast",
          "sex": "female",
          "smoker": "no"
         },
         {
          "age": 51,
          "bmi": 24.415,
          "children": 4,
          "region": "northwest",
          "sex": "male",
          "smoker": "no"
         },
         {
          "age": 44,
          "bmi": 34.32,
          "children": 1,
          "region": "southeast",
          "sex": "male",
          "smoker": "no"
         },
         {
          "age": 19,
          "bmi": 17.48,
          "children": 0,
          "region": "northwest",
          "sex": "male",
          "smoker": "no"
         },
         {
          "age": 53,
          "bmi": 38.06,
          "children": 3,
          "region": "southeast",
          "sex": "female",
          "smoker": "no"
         },
         {
          "age": 19,
          "bmi": 28.3,
          "children": 0,
          "region": "southwest",
          "sex": "female",
          "smoker": "yes"
         },
         {
          "age": 30,
          "bmi": 28.405,
          "children": 1,
          "region": "northwest",
          "sex": "female",
          "smoker": "no"
         },
         {
          "age": 58,
          "bmi": 33.44,
          "children": 0,
          "region": "northwest",
          "sex": "female",
          "smoker": "no"
         },
         {
          "age": 45,
          "bmi": 33.7,
          "children": 1,
          "region": "southwest",
          "sex": "male",
          "smoker": "no"
         },
         {
          "age": 18,
          "bmi": 22.99,
          "children": 0,
          "region": "northeast",
          "sex": "male",
          "smoker": "no"
         },
         {
          "age": 39,
          "bmi": 23.87,
          "children": 5,
          "region": "southeast",
          "sex": "female",
          "smoker": "no"
         },
         {
          "age": 36,
          "bmi": 29.04,
          "children": 4,
          "region": "southeast",
          "sex": "female",
          "smoker": "no"
         },
         {
          "age": 51,
          "bmi": 32.3,
          "children": 1,
          "region": "northeast",
          "sex": "male",
          "smoker": "no"
         },
         {
          "age": 39,
          "bmi": 31.92,
          "children": 2,
          "region": "northwest",
          "sex": "female",
          "smoker": "no"
         },
         {
          "age": 48,
          "bmi": 31.13,
          "children": 0,
          "region": "southeast",
          "sex": "female",
          "smoker": "no"
         },
         {
          "age": 18,
          "bmi": 39.82,
          "children": 0,
          "region": "southeast",
          "sex": "female",
          "smoker": "no"
         },
         {
          "age": 37,
          "bmi": 46.53,
          "children": 3,
          "region": "southeast",
          "sex": "male",
          "smoker": "no"
         },
         {
          "age": 64,
          "bmi": 26.885,
          "children": 0,
          "region": "northwest",
          "sex": "female",
          "smoker": "yes"
         },
         {
          "age": 38,
          "bmi": 19.95,
          "children": 1,
          "region": "northwest",
          "sex": "male",
          "smoker": "no"
         },
         {
          "age": 52,
          "bmi": 30.875,
          "children": 0,
          "region": "northeast",
          "sex": "female",
          "smoker": "no"
         },
         {
          "age": 29,
          "bmi": 38.94,
          "children": 1,
          "region": "southeast",
          "sex": "male",
          "smoker": "no"
         },
         {
          "age": 20,
          "bmi": 28.025,
          "children": 1,
          "region": "northwest",
          "sex": "male",
          "smoker": "yes"
         },
         {
          "age": 31,
          "bmi": 28.5,
          "children": 5,
          "region": "northeast",
          "sex": "male",
          "smoker": "no"
         },
         {
          "age": 36,
          "bmi": 28.88,
          "children": 3,
          "region": "northeast",
          "sex": "male",
          "smoker": "no"
         },
         {
          "age": 39,
          "bmi": 24.51,
          "children": 2,
          "region": "northwest",
          "sex": "male",
          "smoker": "no"
         },
         {
          "age": 46,
          "bmi": 33.345,
          "children": 1,
          "region": "northeast",
          "sex": "male",
          "smoker": "no"
         },
         {
          "age": 50,
          "bmi": 30.115,
          "children": 1,
          "region": "northwest",
          "sex": "female",
          "smoker": "no"
         },
         {
          "age": 38,
          "bmi": 31,
          "children": 1,
          "region": "southwest",
          "sex": "male",
          "smoker": "no"
         },
         {
          "age": 59,
          "bmi": 27.5,
          "children": 0,
          "region": "southwest",
          "sex": "female",
          "smoker": "no"
         },
         {
          "age": 63,
          "bmi": 26.98,
          "children": 0,
          "region": "northwest",
          "sex": "female",
          "smoker": "yes"
         },
         {
          "age": 64,
          "bmi": 32.965,
          "children": 0,
          "region": "northwest",
          "sex": "female",
          "smoker": "no"
         },
         {
          "age": 42,
          "bmi": 37.18,
          "children": 2,
          "region": "southeast",
          "sex": "male",
          "smoker": "no"
         },
         {
          "age": 50,
          "bmi": 27.36,
          "children": 0,
          "region": "northeast",
          "sex": "female",
          "smoker": "no"
         },
         {
          "age": 57,
          "bmi": 28.7,
          "children": 0,
          "region": "southwest",
          "sex": "female",
          "smoker": "no"
         },
         {
          "age": 22,
          "bmi": 52.58,
          "children": 1,
          "region": "southeast",
          "sex": "male",
          "smoker": "yes"
         },
         {
          "age": 36,
          "bmi": 35.2,
          "children": 1,
          "region": "southeast",
          "sex": "male",
          "smoker": "yes"
         },
         {
          "age": 55,
          "bmi": 30.5,
          "children": 0,
          "region": "southwest",
          "sex": "female",
          "smoker": "no"
         },
         {
          "age": 58,
          "bmi": 39.05,
          "children": 0,
          "region": "southeast",
          "sex": "female",
          "smoker": "no"
         },
         {
          "age": 56,
          "bmi": 37.51,
          "children": 2,
          "region": "southeast",
          "sex": "female",
          "smoker": "no"
         },
         {
          "age": 54,
          "bmi": 31.24,
          "children": 0,
          "region": "southeast",
          "sex": "female",
          "smoker": "no"
         },
         {
          "age": 41,
          "bmi": 33.155,
          "children": 3,
          "region": "northeast",
          "sex": "female",
          "smoker": "no"
         },
         {
          "age": 48,
          "bmi": 32.23,
          "children": 1,
          "region": "southeast",
          "sex": "female",
          "smoker": "no"
         },
         {
          "age": 40,
          "bmi": 29.81,
          "children": 1,
          "region": "southeast",
          "sex": "female",
          "smoker": "no"
         },
         {
          "age": 24,
          "bmi": 33.99,
          "children": 0,
          "region": "southeast",
          "sex": "female",
          "smoker": "no"
         },
         {
          "age": 31,
          "bmi": 25.8,
          "children": 2,
          "region": "southwest",
          "sex": "female",
          "smoker": "no"
         },
         {
          "age": 52,
          "bmi": 23.18,
          "children": 0,
          "region": "northeast",
          "sex": "female",
          "smoker": "no"
         },
         {
          "age": 59,
          "bmi": 27.83,
          "children": 3,
          "region": "southeast",
          "sex": "female",
          "smoker": "no"
         },
         {
          "age": 35,
          "bmi": 24.42,
          "children": 3,
          "region": "southeast",
          "sex": "male",
          "smoker": "yes"
         },
         {
          "age": 39,
          "bmi": 29.6,
          "children": 4,
          "region": "southwest",
          "sex": "male",
          "smoker": "no"
         },
         {
          "age": 39,
          "bmi": 29.925,
          "children": 1,
          "region": "northeast",
          "sex": "male",
          "smoker": "yes"
         },
         {
          "age": 22,
          "bmi": 32.11,
          "children": 0,
          "region": "northwest",
          "sex": "male",
          "smoker": "no"
         },
         {
          "age": 34,
          "bmi": 26.41,
          "children": 1,
          "region": "northwest",
          "sex": "female",
          "smoker": "no"
         },
         {
          "age": 25,
          "bmi": 24.3,
          "children": 3,
          "region": "southwest",
          "sex": "female",
          "smoker": "no"
         },
         {
          "age": 59,
          "bmi": 34.8,
          "children": 2,
          "region": "southwest",
          "sex": "female",
          "smoker": "no"
         },
         {
          "age": 35,
          "bmi": 27.1,
          "children": 1,
          "region": "southwest",
          "sex": "male",
          "smoker": "no"
         },
         {
          "age": 46,
          "bmi": 30.8,
          "children": 3,
          "region": "southwest",
          "sex": "female",
          "smoker": "no"
         },
         {
          "age": 29,
          "bmi": 29.59,
          "children": 1,
          "region": "southeast",
          "sex": "female",
          "smoker": "no"
         },
         {
          "age": 59,
          "bmi": 27.5,
          "children": 1,
          "region": "southwest",
          "sex": "male",
          "smoker": "no"
         },
         {
          "age": 47,
          "bmi": 25.41,
          "children": 1,
          "region": "southeast",
          "sex": "male",
          "smoker": "yes"
         },
         {
          "age": 51,
          "bmi": 25.4,
          "children": 0,
          "region": "southwest",
          "sex": "male",
          "smoker": "no"
         },
         {
          "age": 28,
          "bmi": 37.1,
          "children": 1,
          "region": "southwest",
          "sex": "male",
          "smoker": "no"
         },
         {
          "age": 19,
          "bmi": 34.8,
          "children": 0,
          "region": "southwest",
          "sex": "male",
          "smoker": "yes"
         },
         {
          "age": 18,
          "bmi": 40.26,
          "children": 0,
          "region": "southeast",
          "sex": "female",
          "smoker": "no"
         },
         {
          "age": 49,
          "bmi": 22.61,
          "children": 1,
          "region": "northwest",
          "sex": "female",
          "smoker": "no"
         },
         {
          "age": 26,
          "bmi": 28.785,
          "children": 0,
          "region": "northeast",
          "sex": "female",
          "smoker": "no"
         },
         {
          "age": 40,
          "bmi": 41.69,
          "children": 0,
          "region": "southeast",
          "sex": "male",
          "smoker": "no"
         },
         {
          "age": 25,
          "bmi": 30.3,
          "children": 0,
          "region": "southwest",
          "sex": "female",
          "smoker": "no"
         },
         {
          "age": 32,
          "bmi": 28.93,
          "children": 0,
          "region": "southeast",
          "sex": "female",
          "smoker": "no"
         },
         {
          "age": 19,
          "bmi": 21.755,
          "children": 0,
          "region": "northwest",
          "sex": "male",
          "smoker": "no"
         },
         {
          "age": 31,
          "bmi": 29.81,
          "children": 0,
          "region": "southeast",
          "sex": "male",
          "smoker": "yes"
         },
         {
          "age": 38,
          "bmi": 27.835,
          "children": 2,
          "region": "northeast",
          "sex": "female",
          "smoker": "no"
         },
         {
          "age": 59,
          "bmi": 23.655,
          "children": 0,
          "region": "northwest",
          "sex": "female",
          "smoker": "yes"
         },
         {
          "age": 22,
          "bmi": 34.58,
          "children": 2,
          "region": "northeast",
          "sex": "female",
          "smoker": "no"
         },
         {
          "age": 42,
          "bmi": 37.9,
          "children": 0,
          "region": "southwest",
          "sex": "female",
          "smoker": "no"
         },
         {
          "age": 60,
          "bmi": 36.005,
          "children": 0,
          "region": "northeast",
          "sex": "female",
          "smoker": "no"
         },
         {
          "age": 18,
          "bmi": 30.14,
          "children": 0,
          "region": "southeast",
          "sex": "male",
          "smoker": "no"
         },
         {
          "age": 38,
          "bmi": 30.21,
          "children": 3,
          "region": "northwest",
          "sex": "female",
          "smoker": "no"
         },
         {
          "age": 34,
          "bmi": 38,
          "children": 3,
          "region": "southwest",
          "sex": "female",
          "smoker": "no"
         },
         {
          "age": 21,
          "bmi": 32.68,
          "children": 2,
          "region": "northwest",
          "sex": "female",
          "smoker": "no"
         },
         {
          "age": 54,
          "bmi": 30.8,
          "children": 1,
          "region": "southeast",
          "sex": "male",
          "smoker": "yes"
         },
         {
          "age": 22,
          "bmi": 24.3,
          "children": 0,
          "region": "southwest",
          "sex": "female",
          "smoker": "no"
         },
         {
          "age": 31,
          "bmi": 38.095,
          "children": 1,
          "region": "northeast",
          "sex": "female",
          "smoker": "yes"
         },
         {
          "age": 30,
          "bmi": 44.22,
          "children": 2,
          "region": "southeast",
          "sex": "male",
          "smoker": "no"
         },
         {
          "age": 37,
          "bmi": 37.07,
          "children": 1,
          "region": "southeast",
          "sex": "male",
          "smoker": "yes"
         },
         {
          "age": 64,
          "bmi": 25.6,
          "children": 2,
          "region": "southwest",
          "sex": "male",
          "smoker": "no"
         },
         {
          "age": 23,
          "bmi": 33.4,
          "children": 0,
          "region": "southwest",
          "sex": "female",
          "smoker": "no"
         },
         {
          "age": 25,
          "bmi": 20.8,
          "children": 1,
          "region": "southwest",
          "sex": "female",
          "smoker": "no"
         },
         {
          "age": 55,
          "bmi": 26.98,
          "children": 0,
          "region": "northwest",
          "sex": "female",
          "smoker": "no"
         },
         {
          "age": 22,
          "bmi": 39.5,
          "children": 0,
          "region": "southwest",
          "sex": "male",
          "smoker": "no"
         },
         {
          "age": 36,
          "bmi": 26.2,
          "children": 0,
          "region": "southwest",
          "sex": "female",
          "smoker": "no"
         },
         {
          "age": 43,
          "bmi": 24.7,
          "children": 2,
          "region": "northwest",
          "sex": "female",
          "smoker": "yes"
         },
         {
          "age": 18,
          "bmi": 28.215,
          "children": 0,
          "region": "northeast",
          "sex": "female",
          "smoker": "no"
         },
         {
          "age": 19,
          "bmi": 25.555,
          "children": 1,
          "region": "northwest",
          "sex": "male",
          "smoker": "no"
         },
         {
          "age": 33,
          "bmi": 29.4,
          "children": 4,
          "region": "southwest",
          "sex": "male",
          "smoker": "no"
         },
         {
          "age": 19,
          "bmi": 20.9,
          "children": 1,
          "region": "southwest",
          "sex": "male",
          "smoker": "no"
         },
         {
          "age": 29,
          "bmi": 37.29,
          "children": 2,
          "region": "southeast",
          "sex": "male",
          "smoker": "no"
         },
         {
          "age": 27,
          "bmi": 24.75,
          "children": 0,
          "region": "southeast",
          "sex": "female",
          "smoker": "yes"
         },
         {
          "age": 33,
          "bmi": 24.795,
          "children": 0,
          "region": "northeast",
          "sex": "male",
          "smoker": "yes"
         },
         {
          "age": 46,
          "bmi": 35.53,
          "children": 0,
          "region": "northeast",
          "sex": "female",
          "smoker": "yes"
         },
         {
          "age": 23,
          "bmi": 39.27,
          "children": 2,
          "region": "southeast",
          "sex": "female",
          "smoker": "no"
         },
         {
          "age": 46,
          "bmi": 25.745,
          "children": 3,
          "region": "northwest",
          "sex": "male",
          "smoker": "no"
         },
         {
          "age": 61,
          "bmi": 33.535,
          "children": 0,
          "region": "northeast",
          "sex": "male",
          "smoker": "no"
         },
         {
          "age": 22,
          "bmi": 34.8,
          "children": 3,
          "region": "southwest",
          "sex": "male",
          "smoker": "no"
         },
         {
          "age": 53,
          "bmi": 26.7,
          "children": 2,
          "region": "southwest",
          "sex": "female",
          "smoker": "no"
         },
         {
          "age": 24,
          "bmi": 40.15,
          "children": 0,
          "region": "southeast",
          "sex": "male",
          "smoker": "yes"
         },
         {
          "age": 51,
          "bmi": 42.9,
          "children": 2,
          "region": "southeast",
          "sex": "male",
          "smoker": "yes"
         },
         {
          "age": 36,
          "bmi": 29.7,
          "children": 0,
          "region": "southeast",
          "sex": "male",
          "smoker": "no"
         },
         {
          "age": 56,
          "bmi": 32.3,
          "children": 3,
          "region": "northeast",
          "sex": "female",
          "smoker": "no"
         },
         {
          "age": 43,
          "bmi": 30.115,
          "children": 3,
          "region": "northwest",
          "sex": "male",
          "smoker": "no"
         },
         {
          "age": 57,
          "bmi": 28.1,
          "children": 0,
          "region": "southwest",
          "sex": "male",
          "smoker": "no"
         },
         {
          "age": 39,
          "bmi": 28.3,
          "children": 1,
          "region": "southwest",
          "sex": "male",
          "smoker": "yes"
         },
         {
          "age": 61,
          "bmi": 32.3,
          "children": 2,
          "region": "northwest",
          "sex": "male",
          "smoker": "no"
         },
         {
          "age": 32,
          "bmi": 29.59,
          "children": 1,
          "region": "southeast",
          "sex": "female",
          "smoker": "no"
         },
         {
          "age": 27,
          "bmi": 25.175,
          "children": 0,
          "region": "northeast",
          "sex": "female",
          "smoker": "no"
         },
         {
          "age": 56,
          "bmi": 28.785,
          "children": 0,
          "region": "northeast",
          "sex": "female",
          "smoker": "no"
         },
         {
          "age": 50,
          "bmi": 44.77,
          "children": 1,
          "region": "southeast",
          "sex": "male",
          "smoker": "no"
         },
         {
          "age": 33,
          "bmi": 22.135,
          "children": 1,
          "region": "northeast",
          "sex": "female",
          "smoker": "no"
         },
         {
          "age": 60,
          "bmi": 32.45,
          "children": 0,
          "region": "southeast",
          "sex": "female",
          "smoker": "yes"
         },
         {
          "age": 46,
          "bmi": 23.655,
          "children": 1,
          "region": "northwest",
          "sex": "female",
          "smoker": "yes"
         },
         {
          "age": 32,
          "bmi": 31.5,
          "children": 1,
          "region": "southwest",
          "sex": "male",
          "smoker": "no"
         },
         {
          "age": 32,
          "bmi": 30.8,
          "children": 3,
          "region": "southwest",
          "sex": "male",
          "smoker": "no"
         },
         {
          "age": 43,
          "bmi": 46.2,
          "children": 0,
          "region": "southeast",
          "sex": "female",
          "smoker": "yes"
         },
         {
          "age": 47,
          "bmi": 36.19,
          "children": 0,
          "region": "southeast",
          "sex": "male",
          "smoker": "yes"
         },
         {
          "age": 54,
          "bmi": 24.035,
          "children": 0,
          "region": "northeast",
          "sex": "male",
          "smoker": "no"
         },
         {
          "age": 19,
          "bmi": 30.59,
          "children": 2,
          "region": "northwest",
          "sex": "female",
          "smoker": "no"
         },
         {
          "age": 45,
          "bmi": 33.1,
          "children": 0,
          "region": "southwest",
          "sex": "female",
          "smoker": "no"
         },
         {
          "age": 19,
          "bmi": 22.61,
          "children": 0,
          "region": "northwest",
          "sex": "male",
          "smoker": "no"
         },
         {
          "age": 57,
          "bmi": 27.94,
          "children": 1,
          "region": "southeast",
          "sex": "male",
          "smoker": "no"
         },
         {
          "age": 38,
          "bmi": 16.815,
          "children": 2,
          "region": "northeast",
          "sex": "male",
          "smoker": "no"
         },
         {
          "age": 33,
          "bmi": 42.4,
          "children": 5,
          "region": "southwest",
          "sex": "male",
          "smoker": "no"
         },
         {
          "age": 29,
          "bmi": 26.03,
          "children": 0,
          "region": "northwest",
          "sex": "female",
          "smoker": "no"
         },
         {
          "age": 27,
          "bmi": 42.13,
          "children": 0,
          "region": "southeast",
          "sex": "male",
          "smoker": "yes"
         },
         {
          "age": 47,
          "bmi": 28.215,
          "children": 4,
          "region": "northeast",
          "sex": "male",
          "smoker": "no"
         },
         {
          "age": 19,
          "bmi": 33.11,
          "children": 0,
          "region": "southeast",
          "sex": "female",
          "smoker": "yes"
         },
         {
          "age": 23,
          "bmi": 28,
          "children": 0,
          "region": "southwest",
          "sex": "female",
          "smoker": "no"
         },
         {
          "age": 22,
          "bmi": 37.07,
          "children": 2,
          "region": "southeast",
          "sex": "male",
          "smoker": "yes"
         },
         {
          "age": 30,
          "bmi": 19.95,
          "children": 3,
          "region": "northwest",
          "sex": "female",
          "smoker": "no"
         },
         {
          "age": 26,
          "bmi": 29.45,
          "children": 0,
          "region": "northeast",
          "sex": "male",
          "smoker": "no"
         },
         {
          "age": 52,
          "bmi": 38.38,
          "children": 2,
          "region": "northeast",
          "sex": "female",
          "smoker": "no"
         },
         {
          "age": 21,
          "bmi": 21.85,
          "children": 1,
          "region": "northeast",
          "sex": "female",
          "smoker": "yes"
         },
         {
          "age": 23,
          "bmi": 28.49,
          "children": 1,
          "region": "southeast",
          "sex": "female",
          "smoker": "yes"
         },
         {
          "age": 18,
          "bmi": 31.92,
          "children": 0,
          "region": "northeast",
          "sex": "female",
          "smoker": "no"
         },
         {
          "age": 25,
          "bmi": 35.625,
          "children": 0,
          "region": "northwest",
          "sex": "male",
          "smoker": "no"
         },
         {
          "age": 23,
          "bmi": 42.75,
          "children": 1,
          "region": "northeast",
          "sex": "female",
          "smoker": "yes"
         },
         {
          "age": 46,
          "bmi": 40.375,
          "children": 2,
          "region": "northwest",
          "sex": "male",
          "smoker": "no"
         },
         {
          "age": 59,
          "bmi": 27.72,
          "children": 3,
          "region": "southeast",
          "sex": "female",
          "smoker": "no"
         },
         {
          "age": 38,
          "bmi": 30.69,
          "children": 1,
          "region": "southeast",
          "sex": "female",
          "smoker": "no"
         },
         {
          "age": 35,
          "bmi": 30.5,
          "children": 1,
          "region": "southwest",
          "sex": "male",
          "smoker": "no"
         },
         {
          "age": 19,
          "bmi": 25.555,
          "children": 0,
          "region": "northwest",
          "sex": "male",
          "smoker": "no"
         },
         {
          "age": 18,
          "bmi": 33.77,
          "children": 1,
          "region": "southeast",
          "sex": "male",
          "smoker": "no"
         },
         {
          "age": 22,
          "bmi": 28.82,
          "children": 0,
          "region": "southeast",
          "sex": "female",
          "smoker": "no"
         },
         {
          "age": 28,
          "bmi": 25.8,
          "children": 0,
          "region": "southwest",
          "sex": "female",
          "smoker": "no"
         },
         {
          "age": 47,
          "bmi": 29.8,
          "children": 3,
          "region": "southwest",
          "sex": "male",
          "smoker": "yes"
         },
         {
          "age": 57,
          "bmi": 28.975,
          "children": 0,
          "region": "northeast",
          "sex": "male",
          "smoker": "yes"
         },
         {
          "age": 36,
          "bmi": 28.595,
          "children": 3,
          "region": "northwest",
          "sex": "male",
          "smoker": "no"
         },
         {
          "age": 32,
          "bmi": 23.65,
          "children": 1,
          "region": "southeast",
          "sex": "female",
          "smoker": "no"
         },
         {
          "age": 57,
          "bmi": 23.18,
          "children": 0,
          "region": "northwest",
          "sex": "female",
          "smoker": "no"
         },
         {
          "age": 23,
          "bmi": 27.36,
          "children": 1,
          "region": "northwest",
          "sex": "male",
          "smoker": "no"
         },
         {
          "age": 43,
          "bmi": 20.045,
          "children": 2,
          "region": "northeast",
          "sex": "female",
          "smoker": "yes"
         },
         {
          "age": 20,
          "bmi": 27.93,
          "children": 0,
          "region": "northeast",
          "sex": "male",
          "smoker": "no"
         },
         {
          "age": 61,
          "bmi": 36.385,
          "children": 1,
          "region": "northeast",
          "sex": "female",
          "smoker": "yes"
         },
         {
          "age": 36,
          "bmi": 34.43,
          "children": 0,
          "region": "southeast",
          "sex": "male",
          "smoker": "yes"
         },
         {
          "age": 39,
          "bmi": 41.8,
          "children": 0,
          "region": "southeast",
          "sex": "female",
          "smoker": "no"
         },
         {
          "age": 44,
          "bmi": 27.5,
          "children": 1,
          "region": "southwest",
          "sex": "female",
          "smoker": "no"
         },
         {
          "age": 44,
          "bmi": 38.06,
          "children": 0,
          "region": "southeast",
          "sex": "female",
          "smoker": "yes"
         },
         {
          "age": 38,
          "bmi": 19.475,
          "children": 2,
          "region": "northwest",
          "sex": "female",
          "smoker": "no"
         },
         {
          "age": 47,
          "bmi": 24.32,
          "children": 0,
          "region": "northeast",
          "sex": "female",
          "smoker": "no"
         },
         {
          "age": 43,
          "bmi": 27.8,
          "children": 0,
          "region": "southwest",
          "sex": "male",
          "smoker": "yes"
         },
         {
          "age": 54,
          "bmi": 30.21,
          "children": 0,
          "region": "northwest",
          "sex": "male",
          "smoker": "no"
         },
         {
          "age": 19,
          "bmi": 28.4,
          "children": 1,
          "region": "southwest",
          "sex": "male",
          "smoker": "no"
         },
         {
          "age": 20,
          "bmi": 35.31,
          "children": 1,
          "region": "southeast",
          "sex": "male",
          "smoker": "no"
         },
         {
          "age": 32,
          "bmi": 28.93,
          "children": 1,
          "region": "southeast",
          "sex": "male",
          "smoker": "yes"
         },
         {
          "age": 21,
          "bmi": 28.975,
          "children": 0,
          "region": "northwest",
          "sex": "male",
          "smoker": "no"
         },
         {
          "age": 28,
          "bmi": 29.26,
          "children": 2,
          "region": "northeast",
          "sex": "male",
          "smoker": "no"
         },
         {
          "age": 21,
          "bmi": 25.7,
          "children": 4,
          "region": "southwest",
          "sex": "male",
          "smoker": "yes"
         },
         {
          "age": 56,
          "bmi": 33.66,
          "children": 4,
          "region": "southeast",
          "sex": "male",
          "smoker": "no"
         },
         {
          "age": 19,
          "bmi": 25.175,
          "children": 0,
          "region": "northwest",
          "sex": "male",
          "smoker": "no"
         },
         {
          "age": 29,
          "bmi": 29.735,
          "children": 2,
          "region": "northwest",
          "sex": "male",
          "smoker": "no"
         },
         {
          "age": 19,
          "bmi": 29.07,
          "children": 0,
          "region": "northwest",
          "sex": "male",
          "smoker": "yes"
         },
         {
          "age": 64,
          "bmi": 37.905,
          "children": 0,
          "region": "northwest",
          "sex": "male",
          "smoker": "no"
         },
         {
          "age": 20,
          "bmi": 31.13,
          "children": 2,
          "region": "southeast",
          "sex": "male",
          "smoker": "no"
         },
         {
          "age": 44,
          "bmi": 38.95,
          "children": 0,
          "region": "northwest",
          "sex": "female",
          "smoker": "yes"
         },
         {
          "age": 43,
          "bmi": 23.2,
          "children": 0,
          "region": "southwest",
          "sex": "male",
          "smoker": "no"
         },
         {
          "age": 63,
          "bmi": 33.1,
          "children": 0,
          "region": "southwest",
          "sex": "male",
          "smoker": "no"
         },
         {
          "age": 32,
          "bmi": 20.52,
          "children": 0,
          "region": "northeast",
          "sex": "female",
          "smoker": "no"
         },
         {
          "age": 24,
          "bmi": 35.86,
          "children": 0,
          "region": "southeast",
          "sex": "male",
          "smoker": "no"
         },
         {
          "age": 48,
          "bmi": 32.3,
          "children": 1,
          "region": "northwest",
          "sex": "male",
          "smoker": "no"
         },
         {
          "age": 62,
          "bmi": 36.86,
          "children": 1,
          "region": "northeast",
          "sex": "female",
          "smoker": "no"
         },
         {
          "age": 35,
          "bmi": 43.34,
          "children": 2,
          "region": "southeast",
          "sex": "female",
          "smoker": "no"
         },
         {
          "age": 36,
          "bmi": 26.885,
          "children": 0,
          "region": "northwest",
          "sex": "female",
          "smoker": "no"
         },
         {
          "age": 62,
          "bmi": 27.55,
          "children": 1,
          "region": "northwest",
          "sex": "male",
          "smoker": "no"
         },
         {
          "age": 46,
          "bmi": 27.72,
          "children": 1,
          "region": "southeast",
          "sex": "female",
          "smoker": "no"
         },
         {
          "age": 19,
          "bmi": 28.31,
          "children": 0,
          "region": "northwest",
          "sex": "female",
          "smoker": "yes"
         },
         {
          "age": 63,
          "bmi": 21.66,
          "children": 1,
          "region": "northwest",
          "sex": "male",
          "smoker": "no"
         },
         {
          "age": 47,
          "bmi": 26.125,
          "children": 1,
          "region": "northeast",
          "sex": "female",
          "smoker": "yes"
         },
         {
          "age": 51,
          "bmi": 31.635,
          "children": 0,
          "region": "northwest",
          "sex": "male",
          "smoker": "no"
         },
         {
          "age": 50,
          "bmi": 26.41,
          "children": 0,
          "region": "northwest",
          "sex": "male",
          "smoker": "no"
         },
         {
          "age": 41,
          "bmi": 37.1,
          "children": 2,
          "region": "southwest",
          "sex": "female",
          "smoker": "no"
         },
         {
          "age": 19,
          "bmi": 31.825,
          "children": 1,
          "region": "northwest",
          "sex": "female",
          "smoker": "no"
         },
         {
          "age": 22,
          "bmi": 25.175,
          "children": 0,
          "region": "northwest",
          "sex": "male",
          "smoker": "no"
         },
         {
          "age": 60,
          "bmi": 40.92,
          "children": 0,
          "region": "southeast",
          "sex": "male",
          "smoker": "yes"
         },
         {
          "age": 40,
          "bmi": 32.775,
          "children": 1,
          "region": "northeast",
          "sex": "male",
          "smoker": "yes"
         },
         {
          "age": 34,
          "bmi": 33.7,
          "children": 1,
          "region": "southwest",
          "sex": "female",
          "smoker": "no"
         },
         {
          "age": 45,
          "bmi": 39.995,
          "children": 3,
          "region": "northeast",
          "sex": "female",
          "smoker": "no"
         },
         {
          "age": 32,
          "bmi": 46.53,
          "children": 2,
          "region": "southeast",
          "sex": "male",
          "smoker": "no"
         },
         {
          "age": 31,
          "bmi": 30.875,
          "children": 0,
          "region": "northeast",
          "sex": "male",
          "smoker": "no"
         },
         {
          "age": 46,
          "bmi": 27.6,
          "children": 0,
          "region": "southwest",
          "sex": "male",
          "smoker": "no"
         },
         {
          "age": 50,
          "bmi": 31.6,
          "children": 2,
          "region": "southwest",
          "sex": "female",
          "smoker": "no"
         },
         {
          "age": 47,
          "bmi": 27.83,
          "children": 0,
          "region": "southeast",
          "sex": "female",
          "smoker": "yes"
         },
         {
          "age": 43,
          "bmi": 34.58,
          "children": 1,
          "region": "northwest",
          "sex": "female",
          "smoker": "no"
         },
         {
          "age": 18,
          "bmi": 34.43,
          "children": 0,
          "region": "southeast",
          "sex": "male",
          "smoker": "no"
         },
         {
          "age": 47,
          "bmi": 47.52,
          "children": 1,
          "region": "southeast",
          "sex": "male",
          "smoker": "no"
         },
         {
          "age": 43,
          "bmi": 38.06,
          "children": 2,
          "region": "southeast",
          "sex": "male",
          "smoker": "yes"
         },
         {
          "age": 38,
          "bmi": 29.26,
          "children": 2,
          "region": "northwest",
          "sex": "male",
          "smoker": "no"
         },
         {
          "age": 24,
          "bmi": 27.72,
          "children": 0,
          "region": "southeast",
          "sex": "female",
          "smoker": "no"
         },
         {
          "age": 53,
          "bmi": 21.4,
          "children": 1,
          "region": "southwest",
          "sex": "male",
          "smoker": "no"
         },
         {
          "age": 19,
          "bmi": 27.6,
          "children": 0,
          "region": "southwest",
          "sex": "male",
          "smoker": "no"
         },
         {
          "age": 61,
          "bmi": 38.38,
          "children": 0,
          "region": "northwest",
          "sex": "male",
          "smoker": "no"
         },
         {
          "age": 34,
          "bmi": 30.8,
          "children": 0,
          "region": "southwest",
          "sex": "male",
          "smoker": "yes"
         },
         {
          "age": 19,
          "bmi": 24.51,
          "children": 1,
          "region": "northwest",
          "sex": "female",
          "smoker": "no"
         },
         {
          "age": 22,
          "bmi": 30.4,
          "children": 0,
          "region": "northwest",
          "sex": "female",
          "smoker": "yes"
         },
         {
          "age": 41,
          "bmi": 31.02,
          "children": 0,
          "region": "southeast",
          "sex": "female",
          "smoker": "no"
         },
         {
          "age": 63,
          "bmi": 36.85,
          "children": 0,
          "region": "southeast",
          "sex": "female",
          "smoker": "no"
         },
         {
          "age": 58,
          "bmi": 32.965,
          "children": 0,
          "region": "northeast",
          "sex": "female",
          "smoker": "no"
         },
         {
          "age": 30,
          "bmi": 43.12,
          "children": 2,
          "region": "southeast",
          "sex": "female",
          "smoker": "no"
         },
         {
          "age": 43,
          "bmi": 35.97,
          "children": 3,
          "region": "southeast",
          "sex": "male",
          "smoker": "yes"
         },
         {
          "age": 44,
          "bmi": 25,
          "children": 1,
          "region": "southwest",
          "sex": "female",
          "smoker": "no"
         },
         {
          "age": 40,
          "bmi": 34.105,
          "children": 1,
          "region": "northeast",
          "sex": "male",
          "smoker": "no"
         },
         {
          "age": 49,
          "bmi": 22.515,
          "children": 0,
          "region": "northeast",
          "sex": "male",
          "smoker": "no"
         },
         {
          "age": 18,
          "bmi": 33.155,
          "children": 0,
          "region": "northeast",
          "sex": "female",
          "smoker": "no"
         },
         {
          "age": 20,
          "bmi": 29.6,
          "children": 0,
          "region": "southwest",
          "sex": "female",
          "smoker": "no"
         },
         {
          "age": 27,
          "bmi": 30.59,
          "children": 1,
          "region": "northeast",
          "sex": "female",
          "smoker": "no"
         },
         {
          "age": 42,
          "bmi": 26.9,
          "children": 0,
          "region": "southwest",
          "sex": "male",
          "smoker": "no"
         },
         {
          "age": 31,
          "bmi": 39.49,
          "children": 1,
          "region": "southeast",
          "sex": "male",
          "smoker": "no"
         },
         {
          "age": 51,
          "bmi": 36.67,
          "children": 2,
          "region": "northwest",
          "sex": "female",
          "smoker": "no"
         },
         {
          "age": 19,
          "bmi": 31.92,
          "children": 0,
          "region": "northwest",
          "sex": "male",
          "smoker": "yes"
         },
         {
          "age": 49,
          "bmi": 21.3,
          "children": 1,
          "region": "southwest",
          "sex": "female",
          "smoker": "no"
         },
         {
          "age": 33,
          "bmi": 33.5,
          "children": 0,
          "region": "southwest",
          "sex": "female",
          "smoker": "yes"
         },
         {
          "age": 27,
          "bmi": 28.5,
          "children": 0,
          "region": "northwest",
          "sex": "male",
          "smoker": "yes"
         },
         {
          "age": 54,
          "bmi": 40.565,
          "children": 3,
          "region": "northeast",
          "sex": "male",
          "smoker": "yes"
         },
         {
          "age": 47,
          "bmi": 23.6,
          "children": 1,
          "region": "southwest",
          "sex": "female",
          "smoker": "no"
         },
         {
          "age": 18,
          "bmi": 43.01,
          "children": 0,
          "region": "southeast",
          "sex": "male",
          "smoker": "no"
         },
         {
          "age": 51,
          "bmi": 39.7,
          "children": 1,
          "region": "southwest",
          "sex": "male",
          "smoker": "no"
         },
         {
          "age": 41,
          "bmi": 33.55,
          "children": 0,
          "region": "southeast",
          "sex": "male",
          "smoker": "no"
         },
         {
          "age": 19,
          "bmi": 22.515,
          "children": 0,
          "region": "northwest",
          "sex": "female",
          "smoker": "no"
         },
         {
          "age": 40,
          "bmi": 33,
          "children": 3,
          "region": "southeast",
          "sex": "female",
          "smoker": "no"
         },
         {
          "age": 59,
          "bmi": 29.83,
          "children": 3,
          "region": "northeast",
          "sex": "male",
          "smoker": "yes"
         },
         {
          "age": 57,
          "bmi": 34.295,
          "children": 2,
          "region": "northeast",
          "sex": "female",
          "smoker": "no"
         },
         {
          "age": 26,
          "bmi": 29.15,
          "children": 1,
          "region": "southeast",
          "sex": "male",
          "smoker": "no"
         },
         {
          "age": 23,
          "bmi": 24.225,
          "children": 2,
          "region": "northeast",
          "sex": "female",
          "smoker": "no"
         },
         {
          "age": 19,
          "bmi": 30.25,
          "children": 0,
          "region": "southeast",
          "sex": "male",
          "smoker": "yes"
         },
         {
          "age": 42,
          "bmi": 26.125,
          "children": 2,
          "region": "northeast",
          "sex": "male",
          "smoker": "no"
         },
         {
          "age": 61,
          "bmi": 28.31,
          "children": 1,
          "region": "northwest",
          "sex": "male",
          "smoker": "yes"
         },
         {
          "age": 39,
          "bmi": 32.5,
          "children": 1,
          "region": "southwest",
          "sex": "female",
          "smoker": "no"
         },
         {
          "age": 34,
          "bmi": 34.21,
          "children": 0,
          "region": "southeast",
          "sex": "male",
          "smoker": "no"
         },
         {
          "age": 48,
          "bmi": 35.91,
          "children": 1,
          "region": "northeast",
          "sex": "female",
          "smoker": "no"
         },
         {
          "age": 48,
          "bmi": 27.93,
          "children": 4,
          "region": "northwest",
          "sex": "female",
          "smoker": "no"
         },
         {
          "age": 27,
          "bmi": 30.5,
          "children": 0,
          "region": "southwest",
          "sex": "male",
          "smoker": "no"
         },
         {
          "age": 30,
          "bmi": 37.8,
          "children": 2,
          "region": "southwest",
          "sex": "male",
          "smoker": "yes"
         },
         {
          "age": 45,
          "bmi": 28.6,
          "children": 2,
          "region": "southeast",
          "sex": "female",
          "smoker": "no"
         },
         {
          "age": 37,
          "bmi": 26.4,
          "children": 0,
          "region": "southeast",
          "sex": "female",
          "smoker": "yes"
         },
         {
          "age": 48,
          "bmi": 25.85,
          "children": 3,
          "region": "southeast",
          "sex": "female",
          "smoker": "yes"
         },
         {
          "age": 23,
          "bmi": 23.845,
          "children": 0,
          "region": "northeast",
          "sex": "male",
          "smoker": "no"
         },
         {
          "age": 43,
          "bmi": 25.52,
          "children": 5,
          "region": "southeast",
          "sex": "male",
          "smoker": "no"
         },
         {
          "age": 49,
          "bmi": 37.51,
          "children": 2,
          "region": "southeast",
          "sex": "male",
          "smoker": "no"
         },
         {
          "age": 58,
          "bmi": 27.17,
          "children": 0,
          "region": "northwest",
          "sex": "female",
          "smoker": "no"
         },
         {
          "age": 18,
          "bmi": 30.115,
          "children": 0,
          "region": "northeast",
          "sex": "female",
          "smoker": "no"
         },
         {
          "age": 27,
          "bmi": 26.03,
          "children": 0,
          "region": "northeast",
          "sex": "male",
          "smoker": "no"
         },
         {
          "age": 18,
          "bmi": 41.14,
          "children": 0,
          "region": "southeast",
          "sex": "male",
          "smoker": "no"
         },
         {
          "age": 22,
          "bmi": 28.05,
          "children": 0,
          "region": "southeast",
          "sex": "female",
          "smoker": "no"
         },
         {
          "age": 64,
          "bmi": 38.19,
          "children": 0,
          "region": "northeast",
          "sex": "male",
          "smoker": "no"
         },
         {
          "age": 49,
          "bmi": 36.63,
          "children": 3,
          "region": "southeast",
          "sex": "female",
          "smoker": "no"
         },
         {
          "age": 33,
          "bmi": 19.095,
          "children": 2,
          "region": "northeast",
          "sex": "female",
          "smoker": "yes"
         },
         {
          "age": 62,
          "bmi": 21.4,
          "children": 0,
          "region": "southwest",
          "sex": "male",
          "smoker": "no"
         },
         {
          "age": 56,
          "bmi": 22.1,
          "children": 0,
          "region": "southwest",
          "sex": "male",
          "smoker": "no"
         },
         {
          "age": 20,
          "bmi": 39.4,
          "children": 2,
          "region": "southwest",
          "sex": "male",
          "smoker": "yes"
         },
         {
          "age": 37,
          "bmi": 29.83,
          "children": 2,
          "region": "northeast",
          "sex": "male",
          "smoker": "no"
         },
         {
          "age": 21,
          "bmi": 35.53,
          "children": 0,
          "region": "southeast",
          "sex": "male",
          "smoker": "no"
         },
         {
          "age": 53,
          "bmi": 22.88,
          "children": 1,
          "region": "southeast",
          "sex": "female",
          "smoker": "yes"
         },
         {
          "age": 48,
          "bmi": 36.67,
          "children": 1,
          "region": "northwest",
          "sex": "male",
          "smoker": "no"
         },
         {
          "age": 33,
          "bmi": 27.1,
          "children": 1,
          "region": "southwest",
          "sex": "male",
          "smoker": "yes"
         },
         {
          "age": 25,
          "bmi": 26.695,
          "children": 4,
          "region": "northwest",
          "sex": "male",
          "smoker": "no"
         },
         {
          "age": 48,
          "bmi": 30.2,
          "children": 2,
          "region": "southwest",
          "sex": "male",
          "smoker": "no"
         },
         {
          "age": 63,
          "bmi": 41.325,
          "children": 3,
          "region": "northwest",
          "sex": "male",
          "smoker": "no"
         },
         {
          "age": 31,
          "bmi": 23.6,
          "children": 2,
          "region": "southwest",
          "sex": "female",
          "smoker": "no"
         },
         {
          "age": 19,
          "bmi": 20.6,
          "children": 0,
          "region": "southwest",
          "sex": "female",
          "smoker": "no"
         },
         {
          "age": 26,
          "bmi": 17.195,
          "children": 2,
          "region": "northeast",
          "sex": "female",
          "smoker": "yes"
         },
         {
          "age": 35,
          "bmi": 26.125,
          "children": 0,
          "region": "northeast",
          "sex": "female",
          "smoker": "no"
         },
         {
          "age": 46,
          "bmi": 27.74,
          "children": 0,
          "region": "northwest",
          "sex": "female",
          "smoker": "no"
         },
         {
          "age": 33,
          "bmi": 36.29,
          "children": 3,
          "region": "northeast",
          "sex": "female",
          "smoker": "no"
         },
         {
          "age": 33,
          "bmi": 35.53,
          "children": 0,
          "region": "northwest",
          "sex": "female",
          "smoker": "yes"
         },
         {
          "age": 57,
          "bmi": 40.945,
          "children": 0,
          "region": "northeast",
          "sex": "male",
          "smoker": "no"
         },
         {
          "age": 47,
          "bmi": 32.3,
          "children": 1,
          "region": "southwest",
          "sex": "male",
          "smoker": "no"
         },
         {
          "age": 26,
          "bmi": 29.64,
          "children": 4,
          "region": "northeast",
          "sex": "female",
          "smoker": "no"
         },
         {
          "age": 43,
          "bmi": 27.36,
          "children": 3,
          "region": "northeast",
          "sex": "male",
          "smoker": "no"
         },
         {
          "age": 19,
          "bmi": 23.4,
          "children": 2,
          "region": "southwest",
          "sex": "female",
          "smoker": "no"
         },
         {
          "age": 36,
          "bmi": 31.5,
          "children": 0,
          "region": "southwest",
          "sex": "male",
          "smoker": "no"
         },
         {
          "age": 36,
          "bmi": 29.92,
          "children": 0,
          "region": "southeast",
          "sex": "female",
          "smoker": "no"
         },
         {
          "age": 19,
          "bmi": 27.7,
          "children": 0,
          "region": "southwest",
          "sex": "male",
          "smoker": "yes"
         },
         {
          "age": 50,
          "bmi": 34.2,
          "children": 2,
          "region": "southwest",
          "sex": "male",
          "smoker": "yes"
         },
         {
          "age": 18,
          "bmi": 38.665,
          "children": 2,
          "region": "northeast",
          "sex": "female",
          "smoker": "no"
         },
         {
          "age": 54,
          "bmi": 32.3,
          "children": 1,
          "region": "northeast",
          "sex": "female",
          "smoker": "no"
         },
         {
          "age": 52,
          "bmi": 18.335,
          "children": 0,
          "region": "northwest",
          "sex": "female",
          "smoker": "no"
         },
         {
          "age": 48,
          "bmi": 32.3,
          "children": 2,
          "region": "northeast",
          "sex": "female",
          "smoker": "no"
         },
         {
          "age": 52,
          "bmi": 30.78,
          "children": 1,
          "region": "northeast",
          "sex": "female",
          "smoker": "no"
         },
         {
          "age": 61,
          "bmi": 43.4,
          "children": 0,
          "region": "southwest",
          "sex": "male",
          "smoker": "no"
         },
         {
          "age": 20,
          "bmi": 31.46,
          "children": 0,
          "region": "southeast",
          "sex": "female",
          "smoker": "no"
         },
         {
          "age": 56,
          "bmi": 26.6,
          "children": 1,
          "region": "northwest",
          "sex": "female",
          "smoker": "no"
         },
         {
          "age": 42,
          "bmi": 26.315,
          "children": 1,
          "region": "northwest",
          "sex": "male",
          "smoker": "no"
         },
         {
          "age": 57,
          "bmi": 43.7,
          "children": 1,
          "region": "southwest",
          "sex": "male",
          "smoker": "no"
         },
         {
          "age": 40,
          "bmi": 41.42,
          "children": 1,
          "region": "northwest",
          "sex": "female",
          "smoker": "no"
         },
         {
          "age": 53,
          "bmi": 31.35,
          "children": 0,
          "region": "southeast",
          "sex": "male",
          "smoker": "no"
         },
         {
          "age": 52,
          "bmi": 46.75,
          "children": 5,
          "region": "southeast",
          "sex": "female",
          "smoker": "no"
         },
         {
          "age": 34,
          "bmi": 22.42,
          "children": 2,
          "region": "northeast",
          "sex": "male",
          "smoker": "no"
         },
         {
          "age": 50,
          "bmi": 25.3,
          "children": 0,
          "region": "southeast",
          "sex": "male",
          "smoker": "no"
         },
         {
          "age": 57,
          "bmi": 33.63,
          "children": 1,
          "region": "northwest",
          "sex": "male",
          "smoker": "no"
         },
         {
          "age": 56,
          "bmi": 33.82,
          "children": 2,
          "region": "northwest",
          "sex": "female",
          "smoker": "no"
         },
         {
          "age": 22,
          "bmi": 28.88,
          "children": 0,
          "region": "northeast",
          "sex": "male",
          "smoker": "no"
         },
         {
          "age": 38,
          "bmi": 38.39,
          "children": 3,
          "region": "southeast",
          "sex": "male",
          "smoker": "yes"
         },
         {
          "age": 46,
          "bmi": 42.35,
          "children": 3,
          "region": "southeast",
          "sex": "male",
          "smoker": "yes"
         },
         {
          "age": 52,
          "bmi": 24.32,
          "children": 3,
          "region": "northeast",
          "sex": "male",
          "smoker": "yes"
         },
         {
          "age": 45,
          "bmi": 25.7,
          "children": 3,
          "region": "southwest",
          "sex": "female",
          "smoker": "no"
         },
         {
          "age": 19,
          "bmi": 24.605,
          "children": 1,
          "region": "northwest",
          "sex": "female",
          "smoker": "no"
         },
         {
          "age": 31,
          "bmi": 27.645,
          "children": 2,
          "region": "northeast",
          "sex": "male",
          "smoker": "no"
         },
         {
          "age": 33,
          "bmi": 22.705,
          "children": 0,
          "region": "northwest",
          "sex": "male",
          "smoker": "no"
         },
         {
          "age": 47,
          "bmi": 33.345,
          "children": 0,
          "region": "northeast",
          "sex": "female",
          "smoker": "no"
         },
         {
          "age": 57,
          "bmi": 23.98,
          "children": 1,
          "region": "southeast",
          "sex": "female",
          "smoker": "no"
         },
         {
          "age": 22,
          "bmi": 36,
          "children": 0,
          "region": "southwest",
          "sex": "female",
          "smoker": "no"
         },
         {
          "age": 55,
          "bmi": 29.83,
          "children": 0,
          "region": "northeast",
          "sex": "female",
          "smoker": "no"
         },
         {
          "age": 58,
          "bmi": 35.7,
          "children": 0,
          "region": "southwest",
          "sex": "male",
          "smoker": "no"
         },
         {
          "age": 60,
          "bmi": 27.55,
          "children": 0,
          "region": "northeast",
          "sex": "female",
          "smoker": "no"
         },
         {
          "age": 18,
          "bmi": 21.78,
          "children": 2,
          "region": "southeast",
          "sex": "male",
          "smoker": "no"
         },
         {
          "age": 18,
          "bmi": 23.21,
          "children": 0,
          "region": "southeast",
          "sex": "male",
          "smoker": "no"
         },
         {
          "age": 21,
          "bmi": 33.63,
          "children": 2,
          "region": "northwest",
          "sex": "female",
          "smoker": "no"
         },
         {
          "age": 57,
          "bmi": 42.13,
          "children": 1,
          "region": "southeast",
          "sex": "male",
          "smoker": "yes"
         },
         {
          "age": 31,
          "bmi": 28.595,
          "children": 1,
          "region": "northwest",
          "sex": "male",
          "smoker": "no"
         },
         {
          "age": 46,
          "bmi": 30.2,
          "children": 2,
          "region": "southwest",
          "sex": "female",
          "smoker": "no"
         },
         {
          "age": 26,
          "bmi": 40.185,
          "children": 0,
          "region": "northwest",
          "sex": "female",
          "smoker": "no"
         },
         {
          "age": 36,
          "bmi": 30.875,
          "children": 1,
          "region": "northwest",
          "sex": "male",
          "smoker": "no"
         },
         {
          "age": 28,
          "bmi": 23.8,
          "children": 2,
          "region": "southwest",
          "sex": "male",
          "smoker": "no"
         },
         {
          "age": 35,
          "bmi": 35.815,
          "children": 1,
          "region": "northwest",
          "sex": "female",
          "smoker": "no"
         },
         {
          "age": 57,
          "bmi": 18.335,
          "children": 0,
          "region": "northeast",
          "sex": "male",
          "smoker": "no"
         },
         {
          "age": 18,
          "bmi": 20.79,
          "children": 0,
          "region": "southeast",
          "sex": "female",
          "smoker": "no"
         },
         {
          "age": 20,
          "bmi": 33.3,
          "children": 0,
          "region": "southwest",
          "sex": "female",
          "smoker": "no"
         },
         {
          "age": 55,
          "bmi": 25.365,
          "children": 3,
          "region": "northeast",
          "sex": "female",
          "smoker": "no"
         },
         {
          "age": 48,
          "bmi": 35.625,
          "children": 4,
          "region": "northeast",
          "sex": "male",
          "smoker": "no"
         },
         {
          "age": 51,
          "bmi": 40.66,
          "children": 0,
          "region": "northeast",
          "sex": "female",
          "smoker": "no"
         },
         {
          "age": 23,
          "bmi": 34.865,
          "children": 0,
          "region": "northeast",
          "sex": "female",
          "smoker": "no"
         },
         {
          "age": 57,
          "bmi": 22.23,
          "children": 0,
          "region": "northeast",
          "sex": "female",
          "smoker": "no"
         },
         {
          "age": 25,
          "bmi": 30.2,
          "children": 0,
          "region": "southwest",
          "sex": "female",
          "smoker": "yes"
         },
         {
          "age": 30,
          "bmi": 35.53,
          "children": 0,
          "region": "southeast",
          "sex": "male",
          "smoker": "yes"
         },
         {
          "age": 44,
          "bmi": 20.235,
          "children": 1,
          "region": "northeast",
          "sex": "female",
          "smoker": "yes"
         },
         {
          "age": 48,
          "bmi": 29.6,
          "children": 0,
          "region": "southwest",
          "sex": "male",
          "smoker": "no"
         },
         {
          "age": 20,
          "bmi": 22,
          "children": 1,
          "region": "southwest",
          "sex": "male",
          "smoker": "no"
         },
         {
          "age": 48,
          "bmi": 34.3,
          "children": 3,
          "region": "southwest",
          "sex": "male",
          "smoker": "no"
         },
         {
          "age": 46,
          "bmi": 30.495,
          "children": 3,
          "region": "northwest",
          "sex": "male",
          "smoker": "yes"
         },
         {
          "age": 56,
          "bmi": 31.79,
          "children": 2,
          "region": "southeast",
          "sex": "male",
          "smoker": "yes"
         },
         {
          "age": 57,
          "bmi": 29.81,
          "children": 0,
          "region": "southeast",
          "sex": "female",
          "smoker": "yes"
         },
         {
          "age": 22,
          "bmi": 26.84,
          "children": 0,
          "region": "southeast",
          "sex": "male",
          "smoker": "no"
         },
         {
          "age": 56,
          "bmi": 28.31,
          "children": 0,
          "region": "northeast",
          "sex": "female",
          "smoker": "no"
         },
         {
          "age": 18,
          "bmi": 36.85,
          "children": 0,
          "region": "southeast",
          "sex": "female",
          "smoker": "no"
         },
         {
          "age": 61,
          "bmi": 35.91,
          "children": 0,
          "region": "northeast",
          "sex": "female",
          "smoker": "no"
         },
         {
          "age": 28,
          "bmi": 33.4,
          "children": 0,
          "region": "southwest",
          "sex": "female",
          "smoker": "no"
         },
         {
          "age": 55,
          "bmi": 33.535,
          "children": 2,
          "region": "northwest",
          "sex": "female",
          "smoker": "no"
         },
         {
          "age": 34,
          "bmi": 26.73,
          "children": 1,
          "region": "southeast",
          "sex": "female",
          "smoker": "no"
         },
         {
          "age": 18,
          "bmi": 27.28,
          "children": 3,
          "region": "southeast",
          "sex": "female",
          "smoker": "yes"
         },
         {
          "age": 27,
          "bmi": 17.955,
          "children": 2,
          "region": "northeast",
          "sex": "female",
          "smoker": "yes"
         },
         {
          "age": 38,
          "bmi": 19.3,
          "children": 0,
          "region": "southwest",
          "sex": "male",
          "smoker": "yes"
         },
         {
          "age": 32,
          "bmi": 41.1,
          "children": 0,
          "region": "southwest",
          "sex": "female",
          "smoker": "no"
         },
         {
          "age": 37,
          "bmi": 24.32,
          "children": 2,
          "region": "northwest",
          "sex": "male",
          "smoker": "no"
         },
         {
          "age": 38,
          "bmi": 28.93,
          "children": 1,
          "region": "southeast",
          "sex": "female",
          "smoker": "no"
         },
         {
          "age": 42,
          "bmi": 29.48,
          "children": 2,
          "region": "southeast",
          "sex": "female",
          "smoker": "no"
         },
         {
          "age": 60,
          "bmi": 39.9,
          "children": 0,
          "region": "southwest",
          "sex": "male",
          "smoker": "yes"
         },
         {
          "age": 24,
          "bmi": 27.6,
          "children": 0,
          "region": "southwest",
          "sex": "female",
          "smoker": "no"
         },
         {
          "age": 28,
          "bmi": 33,
          "children": 3,
          "region": "southeast",
          "sex": "male",
          "smoker": "no"
         },
         {
          "age": 30,
          "bmi": 24.13,
          "children": 1,
          "region": "northwest",
          "sex": "male",
          "smoker": "no"
         },
         {
          "age": 23,
          "bmi": 32.7,
          "children": 3,
          "region": "southwest",
          "sex": "male",
          "smoker": "no"
         },
         {
          "age": 54,
          "bmi": 24.605,
          "children": 3,
          "region": "northwest",
          "sex": "female",
          "smoker": "no"
         },
         {
          "age": 28,
          "bmi": 26.98,
          "children": 2,
          "region": "northeast",
          "sex": "male",
          "smoker": "no"
         },
         {
          "age": 64,
          "bmi": 33.88,
          "children": 0,
          "region": "southeast",
          "sex": "male",
          "smoker": "yes"
         },
         {
          "age": 32,
          "bmi": 29.735,
          "children": 0,
          "region": "northwest",
          "sex": "female",
          "smoker": "no"
         },
         {
          "age": 51,
          "bmi": 34.2,
          "children": 1,
          "region": "southwest",
          "sex": "female",
          "smoker": "no"
         },
         {
          "age": 55,
          "bmi": 29.7,
          "children": 2,
          "region": "southwest",
          "sex": "female",
          "smoker": "no"
         },
         {
          "age": 42,
          "bmi": 24.64,
          "children": 0,
          "region": "southeast",
          "sex": "male",
          "smoker": "yes"
         },
         {
          "age": 18,
          "bmi": 40.185,
          "children": 0,
          "region": "northeast",
          "sex": "female",
          "smoker": "no"
         },
         {
          "age": 58,
          "bmi": 32.01,
          "children": 1,
          "region": "southeast",
          "sex": "male",
          "smoker": "no"
         },
         {
          "age": 28,
          "bmi": 34.77,
          "children": 0,
          "region": "northwest",
          "sex": "female",
          "smoker": "no"
         },
         {
          "age": 39,
          "bmi": 26.41,
          "children": 0,
          "region": "northeast",
          "sex": "male",
          "smoker": "yes"
         },
         {
          "age": 21,
          "bmi": 35.72,
          "children": 0,
          "region": "northwest",
          "sex": "female",
          "smoker": "no"
         },
         {
          "age": 54,
          "bmi": 30.8,
          "children": 3,
          "region": "southwest",
          "sex": "female",
          "smoker": "no"
         },
         {
          "age": 37,
          "bmi": 22.705,
          "children": 3,
          "region": "northeast",
          "sex": "male",
          "smoker": "no"
         },
         {
          "age": 20,
          "bmi": 31.92,
          "children": 0,
          "region": "northwest",
          "sex": "female",
          "smoker": "no"
         },
         {
          "age": 19,
          "bmi": 28.4,
          "children": 1,
          "region": "southwest",
          "sex": "female",
          "smoker": "no"
         },
         {
          "age": 18,
          "bmi": 23.085,
          "children": 0,
          "region": "northeast",
          "sex": "male",
          "smoker": "no"
         },
         {
          "age": 53,
          "bmi": 36.86,
          "children": 3,
          "region": "northwest",
          "sex": "female",
          "smoker": "yes"
         }
        ]
       },
       "encoding": {
        "color": {
         "field": "sex",
         "type": "nominal"
        },
        "x": {
         "field": "age",
         "title": "Age",
         "type": "nominal"
        },
        "y": {
         "field": "bmi",
         "title": "BMI",
         "type": "quantitative"
        }
       },
       "mark": "point"
      },
      "image/png": "[encoded data removed]",
      "text/plain": [
       "<VegaLite 3 object>\n",
       "\n",
       "If you see this message, it means the renderer has not been properly enabled\n",
       "for the frontend that you are using. For more information, see\n",
       "https://altair-viz.github.io/user_guide/troubleshooting.html\n"
      ]
     },
     "execution_count": 21,
     "metadata": {},
     "output_type": "execute_result"
    }
   ],
   "source": [
    "alt.Chart(X_train).mark_point().encode(\n",
    "    \n",
    "    alt.X('age:N', title = 'Age'),\n",
    "    alt.Y('bmi:Q', title = 'BMI'),\n",
    "    alt.Color('sex:N')\n",
    ")"
   ]
  },
  {
   "cell_type": "markdown",
   "metadata": {},
   "source": []
  }
 ],
 "metadata": {
  "kernelspec": {
   "display_name": "Python 3",
   "language": "python",
   "name": "python3"
  },
  "language_info": {
   "codemirror_mode": {
    "name": "ipython",
    "version": 3
   },
   "file_extension": ".py",
   "mimetype": "text/x-python",
   "name": "python",
   "nbconvert_exporter": "python",
   "pygments_lexer": "ipython3",
   "version": "3.7.4"
  }
 },
 "nbformat": 4,
 "nbformat_minor": 4
}
