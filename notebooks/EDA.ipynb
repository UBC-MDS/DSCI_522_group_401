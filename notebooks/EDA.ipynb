{
 "cells": [
  {
   "cell_type": "markdown",
   "metadata": {},
   "source": [
    "# UBC-MDS/DSCI_522_group_401\n",
    "# Predicting Medical Insurance Cost\n",
    "Authors: Karanpal Singh, Sreejith Munthikodu, Sirine Chahma  \n",
    "[Data Source](https://gist.github.com/meperezcuello/82a9f1c1c473d6585e750ad2e3c05a41)"
   ]
  },
  {
   "cell_type": "code",
   "execution_count": 1,
   "metadata": {},
   "outputs": [],
   "source": [
    "import pandas as pd\n",
    "import numpy as np\n",
    "import matplotlib.pyplot as plt\n",
    "import seaborn as sns\n",
    "import altair as alt\n",
    "\n",
    "from sklearn.model_selection import train_test_split"
   ]
  },
  {
   "cell_type": "markdown",
   "metadata": {},
   "source": [
    "### Load the data"
   ]
  },
  {
   "cell_type": "code",
   "execution_count": 2,
   "metadata": {},
   "outputs": [
    {
     "data": {
      "text/html": [
       "<div>\n",
       "<style scoped>\n",
       "    .dataframe tbody tr th:only-of-type {\n",
       "        vertical-align: middle;\n",
       "    }\n",
       "\n",
       "    .dataframe tbody tr th {\n",
       "        vertical-align: top;\n",
       "    }\n",
       "\n",
       "    .dataframe thead th {\n",
       "        text-align: right;\n",
       "    }\n",
       "</style>\n",
       "<table border=\"1\" class=\"dataframe\">\n",
       "  <thead>\n",
       "    <tr style=\"text-align: right;\">\n",
       "      <th></th>\n",
       "      <th>age</th>\n",
       "      <th>sex</th>\n",
       "      <th>bmi</th>\n",
       "      <th>children</th>\n",
       "      <th>smoker</th>\n",
       "      <th>region</th>\n",
       "      <th>charges</th>\n",
       "    </tr>\n",
       "  </thead>\n",
       "  <tbody>\n",
       "    <tr>\n",
       "      <th>0</th>\n",
       "      <td>19</td>\n",
       "      <td>female</td>\n",
       "      <td>27.900</td>\n",
       "      <td>0</td>\n",
       "      <td>yes</td>\n",
       "      <td>southwest</td>\n",
       "      <td>16884.92400</td>\n",
       "    </tr>\n",
       "    <tr>\n",
       "      <th>1</th>\n",
       "      <td>18</td>\n",
       "      <td>male</td>\n",
       "      <td>33.770</td>\n",
       "      <td>1</td>\n",
       "      <td>no</td>\n",
       "      <td>southeast</td>\n",
       "      <td>1725.55230</td>\n",
       "    </tr>\n",
       "    <tr>\n",
       "      <th>2</th>\n",
       "      <td>28</td>\n",
       "      <td>male</td>\n",
       "      <td>33.000</td>\n",
       "      <td>3</td>\n",
       "      <td>no</td>\n",
       "      <td>southeast</td>\n",
       "      <td>4449.46200</td>\n",
       "    </tr>\n",
       "    <tr>\n",
       "      <th>3</th>\n",
       "      <td>33</td>\n",
       "      <td>male</td>\n",
       "      <td>22.705</td>\n",
       "      <td>0</td>\n",
       "      <td>no</td>\n",
       "      <td>northwest</td>\n",
       "      <td>21984.47061</td>\n",
       "    </tr>\n",
       "    <tr>\n",
       "      <th>4</th>\n",
       "      <td>32</td>\n",
       "      <td>male</td>\n",
       "      <td>28.880</td>\n",
       "      <td>0</td>\n",
       "      <td>no</td>\n",
       "      <td>northwest</td>\n",
       "      <td>3866.85520</td>\n",
       "    </tr>\n",
       "  </tbody>\n",
       "</table>\n",
       "</div>"
      ],
      "text/plain": [
       "   age     sex     bmi  children smoker     region      charges\n",
       "0   19  female  27.900         0    yes  southwest  16884.92400\n",
       "1   18    male  33.770         1     no  southeast   1725.55230\n",
       "2   28    male  33.000         3     no  southeast   4449.46200\n",
       "3   33    male  22.705         0     no  northwest  21984.47061\n",
       "4   32    male  28.880         0     no  northwest   3866.85520"
      ]
     },
     "execution_count": 2,
     "metadata": {},
     "output_type": "execute_result"
    }
   ],
   "source": [
    "medical_data = pd.read_csv(\"../data/original/medical_cost_data.csv\")\n",
    "medical_data.head()"
   ]
  },
  {
   "cell_type": "code",
   "execution_count": 3,
   "metadata": {},
   "outputs": [
    {
     "name": "stdout",
     "output_type": "stream",
     "text": [
      "Total number of samples: 1338\n"
     ]
    }
   ],
   "source": [
    "print(f\"Total number of samples: {medical_data.shape[0]}\")"
   ]
  },
  {
   "cell_type": "markdown",
   "metadata": {},
   "source": [
    "### Split the data into training and test"
   ]
  },
  {
   "cell_type": "code",
   "execution_count": 4,
   "metadata": {},
   "outputs": [],
   "source": [
    "X = medical_data.drop(columns=\"charges\")\n",
    "y = medical_data.charges\n",
    "\n",
    "X_train, X_test, y_train, y_test = train_test_split(X, y, test_size=0.3, random_state=123)"
   ]
  },
  {
   "cell_type": "markdown",
   "metadata": {},
   "source": [
    "### Save the training and test data"
   ]
  },
  {
   "cell_type": "code",
   "execution_count": 5,
   "metadata": {},
   "outputs": [],
   "source": [
    "# Combine X and y\n",
    "medical_cost_data_training = pd.concat([X_train, y_train], axis=1)\n",
    "medical_cost_data_test = pd.concat([X_test, y_test], axis=1)\n",
    "\n",
    "medical_cost_data_training.to_csv(\"../data/processed/medical_cost_data_training.csv\", index=False )\n",
    "medical_cost_data_test.to_csv(\"../data/processed/medical_cost_data_test.csv\", index=False)\n",
    "\n",
    "# Resetting variables to zero to prevent any data leakage\n",
    "X_train, X_test, y_train, y_test = 0, 0, 0, 0"
   ]
  },
  {
   "cell_type": "markdown",
   "metadata": {},
   "source": [
    "# Exploratory Data Analysis\n",
    "### Hereafter only the training data is used. "
   ]
  },
  {
   "cell_type": "code",
   "execution_count": 6,
   "metadata": {},
   "outputs": [],
   "source": [
    "# load training data\n",
    "medical_data = pd.read_csv(\"../data/processed/medical_cost_data_training.csv\") \n",
    "\n",
    "X_train = medical_data.drop(columns=\"charges\")\n",
    "y_train = medical_data.charges"
   ]
  },
  {
   "cell_type": "markdown",
   "metadata": {},
   "source": [
    "### Basic preprocessing"
   ]
  },
  {
   "cell_type": "code",
   "execution_count": 7,
   "metadata": {},
   "outputs": [
    {
     "data": {
      "text/plain": [
       "age           int64\n",
       "sex          object\n",
       "bmi         float64\n",
       "children      int64\n",
       "smoker       object\n",
       "region       object\n",
       "dtype: object"
      ]
     },
     "execution_count": 7,
     "metadata": {},
     "output_type": "execute_result"
    }
   ],
   "source": [
    "X_train.dtypes"
   ]
  },
  {
   "cell_type": "code",
   "execution_count": 8,
   "metadata": {},
   "outputs": [
    {
     "data": {
      "text/plain": [
       "False"
      ]
     },
     "execution_count": 8,
     "metadata": {},
     "output_type": "execute_result"
    }
   ],
   "source": [
    "# Check for missing values\n",
    "X_train.isna().any().any()"
   ]
  },
  {
   "cell_type": "markdown",
   "metadata": {},
   "source": [
    "There are no missing values in our data"
   ]
  },
  {
   "cell_type": "code",
   "execution_count": 9,
   "metadata": {},
   "outputs": [
    {
     "name": "stdout",
     "output_type": "stream",
     "text": [
      "Numeric features are: ['age', 'bmi', 'children']\n",
      "Categoric features are: ['sex', 'smoker', 'region']\n"
     ]
    }
   ],
   "source": [
    "# Identify categoric and numeric features\n",
    "data_types = X_train.dtypes\n",
    "categoric_features = []\n",
    "numeric_features = []\n",
    "for d_type, feature in zip(data_types, data_types.index):\n",
    "    if d_type == \"object\":\n",
    "        categoric_features.append(feature)\n",
    "    else:\n",
    "        numeric_features.append(feature)\n",
    "\n",
    "numeric_features = numeric_features\n",
    "print(f\"Numeric features are: {numeric_features}\")\n",
    "print(f\"Categoric features are: {categoric_features}\")"
   ]
  },
  {
   "cell_type": "code",
   "execution_count": 10,
   "metadata": {},
   "outputs": [
    {
     "name": "stdout",
     "output_type": "stream",
     "text": [
      "Total samples: 936\n",
      "Number of unique values in sex is 2\n",
      "Number of unique values in smoker is 2\n",
      "Number of unique values in region is 4\n"
     ]
    }
   ],
   "source": [
    "# Explore cardinality in categoric features\n",
    "print(f\"Total samples: {X_train.shape[0]}\")\n",
    "for cat_feature in categoric_features:\n",
    "    print(f\"Number of unique values in {cat_feature} is {X_train[cat_feature].nunique()}\")"
   ]
  },
  {
   "cell_type": "code",
   "execution_count": 11,
   "metadata": {},
   "outputs": [
    {
     "name": "stdout",
     "output_type": "stream",
     "text": [
      "Total outliers in age is 1\n",
      "Total outliers in bmi is 9\n",
      "Total outliers in children is 1\n"
     ]
    }
   ],
   "source": [
    "# Detect outliers in numeric features\n",
    "\n",
    "def detect_outlier(x):\n",
    "    \"\"\"\n",
    "    Detect outliers from the given array using inter-quartile range. \n",
    "    Considered an outlier if value is less than Q1 - 1.5 IQR or\n",
    "    Q2 + 1.5 IQR\n",
    "    \n",
    "    Parameters\n",
    "    ----------\n",
    "    x : list, array-like\n",
    "        input array of numbers\n",
    "\n",
    "    Returns\n",
    "    -------\n",
    "    tuple\n",
    "        tuple containing indices of the outliers and outliers \n",
    "\n",
    "    \"\"\"\n",
    "    Q1 = np.percentile(x, 25)\n",
    "    Q3 = np.percentile(x, 75)\n",
    "    IQR = Q3 - Q1\n",
    "    ceil =  Q3 + 1.5*IQR\n",
    "    floor = Q1 - 1.5*IQR\n",
    "    outlier_index = x.index[(x < floor) | (x > ceil)]\n",
    "    outliers = x[outlier_index]\n",
    "    \n",
    "    return outlier_index, outliers\n",
    "\n",
    "outliers = {}\n",
    "for col in numeric_features:\n",
    "    outlier_index, outliers = detect_outlier(X_train[col])\n",
    "    outliers[col] = outlier_index\n",
    "    print(f\"Total outliers in {col} is {len(outliers)}\")\n",
    "    "
   ]
  },
  {
   "cell_type": "code",
   "execution_count": 12,
   "metadata": {},
   "outputs": [
    {
     "data": {
      "image/png": "[encoded data removed]",
      "text/plain": [
       "<Figure size 1440x360 with 3 Axes>"
      ]
     },
     "metadata": {
      "needs_background": "light"
     },
     "output_type": "display_data"
    }
   ],
   "source": [
    "# Visualize the distribution using boxplot\n",
    "fig, ax = plt.subplots(1, 3, figsize=(20, 5))\n",
    "axes = ax.reshape(-1)\n",
    "for col, ax in zip(numeric_features, axes):\n",
    "    sns.boxplot(col,  data = X_train, ax = ax)"
   ]
  },
  {
   "cell_type": "code",
   "execution_count": 16,
   "metadata": {},
   "outputs": [
    {
     "data": {
      "text/html": [
       "<div>\n",
       "<style scoped>\n",
       "    .dataframe tbody tr th:only-of-type {\n",
       "        vertical-align: middle;\n",
       "    }\n",
       "\n",
       "    .dataframe tbody tr th {\n",
       "        vertical-align: top;\n",
       "    }\n",
       "\n",
       "    .dataframe thead th {\n",
       "        text-align: right;\n",
       "    }\n",
       "</style>\n",
       "<table border=\"1\" class=\"dataframe\">\n",
       "  <thead>\n",
       "    <tr style=\"text-align: right;\">\n",
       "      <th></th>\n",
       "      <th>age</th>\n",
       "      <th>bmi</th>\n",
       "      <th>children</th>\n",
       "    </tr>\n",
       "  </thead>\n",
       "  <tbody>\n",
       "    <tr>\n",
       "      <th>count</th>\n",
       "      <td>936.000000</td>\n",
       "      <td>936.000000</td>\n",
       "      <td>936.000000</td>\n",
       "    </tr>\n",
       "    <tr>\n",
       "      <th>mean</th>\n",
       "      <td>39.106838</td>\n",
       "      <td>30.628542</td>\n",
       "      <td>1.073718</td>\n",
       "    </tr>\n",
       "    <tr>\n",
       "      <th>std</th>\n",
       "      <td>14.092108</td>\n",
       "      <td>5.909664</td>\n",
       "      <td>1.221866</td>\n",
       "    </tr>\n",
       "    <tr>\n",
       "      <th>min</th>\n",
       "      <td>18.000000</td>\n",
       "      <td>16.815000</td>\n",
       "      <td>0.000000</td>\n",
       "    </tr>\n",
       "    <tr>\n",
       "      <th>25%</th>\n",
       "      <td>26.000000</td>\n",
       "      <td>26.410000</td>\n",
       "      <td>0.000000</td>\n",
       "    </tr>\n",
       "    <tr>\n",
       "      <th>50%</th>\n",
       "      <td>39.000000</td>\n",
       "      <td>30.275000</td>\n",
       "      <td>1.000000</td>\n",
       "    </tr>\n",
       "    <tr>\n",
       "      <th>75%</th>\n",
       "      <td>51.000000</td>\n",
       "      <td>34.430000</td>\n",
       "      <td>2.000000</td>\n",
       "    </tr>\n",
       "    <tr>\n",
       "      <th>max</th>\n",
       "      <td>64.000000</td>\n",
       "      <td>52.580000</td>\n",
       "      <td>5.000000</td>\n",
       "    </tr>\n",
       "  </tbody>\n",
       "</table>\n",
       "</div>"
      ],
      "text/plain": [
       "              age         bmi    children\n",
       "count  936.000000  936.000000  936.000000\n",
       "mean    39.106838   30.628542    1.073718\n",
       "std     14.092108    5.909664    1.221866\n",
       "min     18.000000   16.815000    0.000000\n",
       "25%     26.000000   26.410000    0.000000\n",
       "50%     39.000000   30.275000    1.000000\n",
       "75%     51.000000   34.430000    2.000000\n",
       "max     64.000000   52.580000    5.000000"
      ]
     },
     "execution_count": 16,
     "metadata": {},
     "output_type": "execute_result"
    }
   ],
   "source": [
    "X_train.describe()"
   ]
  },
  {
   "cell_type": "markdown",
   "metadata": {},
   "source": [
    "When we look at the scope of the numerical features, we realize that all the values belong to a plausible range. Even though our previous analysis reveled some extreme values, we are going to keep those values because they corresponds to a rare situation that could occur, they are not related to an error in the measurement."
   ]
  },
  {
   "cell_type": "markdown",
   "metadata": {},
   "source": [
    "### Exploring features"
   ]
  },
  {
   "cell_type": "markdown",
   "metadata": {},
   "source": [
    "**Let's see if medical expenses tend to change with the age of a person**"
   ]
  },
  {
   "cell_type": "code",
   "execution_count": null,
   "metadata": {},
   "outputs": [],
   "source": [
    "training_df = X_train\n",
    "training_df['charges'] = y_train\n",
    "\n",
    "\n",
    "alt.Chart(training_df.groupby(['age']).mean().reset_index()).mark_line(point = True).encode(\n",
    "    alt.X('age:N', title = 'Age'),\n",
    "    alt.Y('charges:Q', title = 'Charges')\n",
    ").properties(title='Charges VS age')"
   ]
  },
  {
   "cell_type": "markdown",
   "metadata": {},
   "source": [
    "The charges seem to increase when the age of a person increases. There is a peak in the expenses at the age of 43."
   ]
  },
  {
   "cell_type": "markdown",
   "metadata": {},
   "source": [
    "**Let's see if medical expenses tend to change with the BMI of a person**"
   ]
  },
  {
   "cell_type": "code",
   "execution_count": null,
   "metadata": {},
   "outputs": [],
   "source": [
    "training_df = X_train\n",
    "training_df['charges'] = y_train\n",
    "\n",
    "\n",
    "alt.Chart(training_df.groupby(['bmi']).mean().reset_index()).mark_area().encode(\n",
    "    alt.X('bmi:Q', title = 'BMI', bin=alt.Bin(maxbins=60)),\n",
    "    alt.Y('charges:Q', title = 'Charges')\n",
    ").properties(title='Charges VS BMI')"
   ]
  },
  {
   "cell_type": "markdown",
   "metadata": {},
   "source": [
    "The highest expenses seem to occur for people who have a BMI that is higher than 34. "
   ]
  },
  {
   "cell_type": "markdown",
   "metadata": {},
   "source": [
    "**Let's see how much money males and females spending for medical treatments during their lifetime**"
   ]
  },
  {
   "cell_type": "code",
   "execution_count": null,
   "metadata": {},
   "outputs": [],
   "source": [
    "training_df = X_train\n",
    "training_df['charges'] = y_train\n",
    "\n",
    "\n",
    "alt.Chart(training_df.groupby(['age','sex']).mean().reset_index()).mark_line(point = True).encode(\n",
    "    alt.X('age:N', title = 'Age'),\n",
    "    alt.Y('charges:Q', title = 'Charges'),\n",
    "    alt.Color('sex:N')\n",
    ").properties(title='Charges VS age for each sex')"
   ]
  },
  {
   "cell_type": "markdown",
   "metadata": {},
   "source": [
    "The expenses seem to grow with age for both males and females. There is a peak in the male charges around the age of 60. The increase we noticed before that occurs at the age of 43 happens to both genders. "
   ]
  },
  {
   "cell_type": "markdown",
   "metadata": {},
   "source": [
    "**Let's see how smokers and non smokers are spending for medical treatments during their lifetime**\n",
    "\n",
    "We expect expenditures by smokers should be higher than the non smokers."
   ]
  },
  {
   "cell_type": "code",
   "execution_count": null,
   "metadata": {},
   "outputs": [],
   "source": [
    "alt.Chart(training_df.groupby(['age','smoker']).mean().reset_index()).mark_line(point = True).encode(\n",
    "    alt.X('age:N', title = 'Age'),\n",
    "    alt.Y('charges:Q', title = 'Charges'),\n",
    "    alt.Color('smoker:N')\n",
    ").properties(title='Charges VS age for smokers and non-smokers')"
   ]
  },
  {
   "cell_type": "markdown",
   "metadata": {},
   "source": [
    "Health expenses of smokers are a lot higher than the one of non-smokers. "
   ]
  },
  {
   "cell_type": "markdown",
   "metadata": {},
   "source": [
    "**Let's see how BMI is changing with Age for Males and Females**\n",
    "\n",
    "We are expecting both male and females have usual BMI."
   ]
  },
  {
   "cell_type": "code",
   "execution_count": null,
   "metadata": {},
   "outputs": [],
   "source": [
    "alt.Chart(X_train).mark_point().encode(\n",
    "    \n",
    "    alt.X('age:N', title = 'Age'),\n",
    "    alt.Y('bmi:Q', title = 'BMI'),\n",
    "    alt.Color('sex:N')\n",
    ").properties(title='BMI vs Age for each sex')"
   ]
  },
  {
   "cell_type": "markdown",
   "metadata": {},
   "source": [
    "The BMI doesn't seem to vary depending on the age nor the sex."
   ]
  },
  {
   "cell_type": "markdown",
   "metadata": {},
   "source": [
    "**Let's see how the spending for medical treatments changes regarding to the BMI of a person**\n",
    "\n",
    "We expect expenditures to be higher for people who have very high BMI."
   ]
  },
  {
   "cell_type": "code",
   "execution_count": null,
   "metadata": {},
   "outputs": [],
   "source": [
    "training_df = X_train\n",
    "training_df['charges'] = y_train\n",
    "\n",
    "\n",
    "alt.Chart(training_df.groupby(['bmi','sex']).mean().reset_index()).mark_area().encode(\n",
    "    alt.X('bmi:Q', title = 'BMI', bin=alt.Bin(maxbins=60)),\n",
    "    alt.Y('charges:Q', title = 'Charges'),\n",
    "    alt.Color('sex:N')\n",
    ").properties(title='Charges VS BMI for each sex')"
   ]
  },
  {
   "cell_type": "markdown",
   "metadata": {},
   "source": [
    "The highest expenses seem to occur for people from both genders who have a BMI that is higher than 34. "
   ]
  }
 ],
 "metadata": {
  "kernelspec": {
   "display_name": "Python 3",
   "language": "python",
   "name": "python3"
  },
  "language_info": {
   "codemirror_mode": {
    "name": "ipython",
    "version": 3
   },
   "file_extension": ".py",
   "mimetype": "text/x-python",
   "name": "python",
   "nbconvert_exporter": "python",
   "pygments_lexer": "ipython3",
   "version": "3.7.3"
  }
 },
 "nbformat": 4,
 "nbformat_minor": 4
}
