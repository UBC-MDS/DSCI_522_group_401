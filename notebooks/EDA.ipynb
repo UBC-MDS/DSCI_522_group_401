{
 "cells": [
  {
   "cell_type": "markdown",
   "metadata": {},
   "source": [
    "# UBC-MDS/DSCI_522_group_401\n",
    "# Predicting Medical Insurance Cost\n",
    "Authors: Karanpal Singh, Sreejith Munthikodu, Sirine Chahma  \n",
    "[Data Source](https://gist.github.com/meperezcuello/82a9f1c1c473d6585e750ad2e3c05a41)"
   ]
  },
  {
   "cell_type": "code",
   "execution_count": 48,
   "metadata": {},
   "outputs": [],
   "source": [
    "import pandas as pd\n",
    "import numpy as np\n",
    "import matplotlib.pyplot as plt\n",
    "import seaborn as sns\n",
    "\n",
    "from sklearn.model_selection import train_test_split"
   ]
  },
  {
   "cell_type": "markdown",
   "metadata": {},
   "source": [
    "### Load the data"
   ]
  },
  {
   "cell_type": "code",
   "execution_count": 49,
   "metadata": {},
   "outputs": [
    {
     "data": {
      "text/html": [
       "<div>\n",
       "<style scoped>\n",
       "    .dataframe tbody tr th:only-of-type {\n",
       "        vertical-align: middle;\n",
       "    }\n",
       "\n",
       "    .dataframe tbody tr th {\n",
       "        vertical-align: top;\n",
       "    }\n",
       "\n",
       "    .dataframe thead th {\n",
       "        text-align: right;\n",
       "    }\n",
       "</style>\n",
       "<table border=\"1\" class=\"dataframe\">\n",
       "  <thead>\n",
       "    <tr style=\"text-align: right;\">\n",
       "      <th></th>\n",
       "      <th>age</th>\n",
       "      <th>sex</th>\n",
       "      <th>bmi</th>\n",
       "      <th>children</th>\n",
       "      <th>smoker</th>\n",
       "      <th>region</th>\n",
       "      <th>charges</th>\n",
       "    </tr>\n",
       "  </thead>\n",
       "  <tbody>\n",
       "    <tr>\n",
       "      <th>0</th>\n",
       "      <td>19</td>\n",
       "      <td>female</td>\n",
       "      <td>27.900</td>\n",
       "      <td>0</td>\n",
       "      <td>yes</td>\n",
       "      <td>southwest</td>\n",
       "      <td>16884.92400</td>\n",
       "    </tr>\n",
       "    <tr>\n",
       "      <th>1</th>\n",
       "      <td>18</td>\n",
       "      <td>male</td>\n",
       "      <td>33.770</td>\n",
       "      <td>1</td>\n",
       "      <td>no</td>\n",
       "      <td>southeast</td>\n",
       "      <td>1725.55230</td>\n",
       "    </tr>\n",
       "    <tr>\n",
       "      <th>2</th>\n",
       "      <td>28</td>\n",
       "      <td>male</td>\n",
       "      <td>33.000</td>\n",
       "      <td>3</td>\n",
       "      <td>no</td>\n",
       "      <td>southeast</td>\n",
       "      <td>4449.46200</td>\n",
       "    </tr>\n",
       "    <tr>\n",
       "      <th>3</th>\n",
       "      <td>33</td>\n",
       "      <td>male</td>\n",
       "      <td>22.705</td>\n",
       "      <td>0</td>\n",
       "      <td>no</td>\n",
       "      <td>northwest</td>\n",
       "      <td>21984.47061</td>\n",
       "    </tr>\n",
       "    <tr>\n",
       "      <th>4</th>\n",
       "      <td>32</td>\n",
       "      <td>male</td>\n",
       "      <td>28.880</td>\n",
       "      <td>0</td>\n",
       "      <td>no</td>\n",
       "      <td>northwest</td>\n",
       "      <td>3866.85520</td>\n",
       "    </tr>\n",
       "  </tbody>\n",
       "</table>\n",
       "</div>"
      ],
      "text/plain": [
       "   age     sex     bmi  children smoker     region      charges\n",
       "0   19  female  27.900         0    yes  southwest  16884.92400\n",
       "1   18    male  33.770         1     no  southeast   1725.55230\n",
       "2   28    male  33.000         3     no  southeast   4449.46200\n",
       "3   33    male  22.705         0     no  northwest  21984.47061\n",
       "4   32    male  28.880         0     no  northwest   3866.85520"
      ]
     },
     "execution_count": 49,
     "metadata": {},
     "output_type": "execute_result"
    }
   ],
   "source": [
    "medical_data = pd.read_csv(\"../data/original/medical_cost_data.csv\")\n",
    "medical_data.head()"
   ]
  },
  {
   "cell_type": "code",
   "execution_count": 50,
   "metadata": {},
   "outputs": [
    {
     "name": "stdout",
     "output_type": "stream",
     "text": [
      "Total number of samples: 1338\n"
     ]
    }
   ],
   "source": [
    "print(f\"Total number of samples: {medical_data.shape[0]}\")"
   ]
  },
  {
   "cell_type": "markdown",
   "metadata": {},
   "source": [
    "### Split the data into training and test"
   ]
  },
  {
   "cell_type": "code",
   "execution_count": 51,
   "metadata": {},
   "outputs": [],
   "source": [
    "X = medical_data.drop(columns=\"charges\")\n",
    "y = medical_data.charges\n",
    "\n",
    "X_train, X_test, y_train, y_test = train_test_split(X, y, test_size=0.3, random_state=123)"
   ]
  },
  {
   "cell_type": "markdown",
   "metadata": {},
   "source": [
    "### Save the training and test data"
   ]
  },
  {
   "cell_type": "code",
   "execution_count": 52,
   "metadata": {},
   "outputs": [],
   "source": [
    "# Combine X and y\n",
    "medical_cost_data_training = pd.concat([X_train, y_train], axis=1)\n",
    "medical_cost_data_test = pd.concat([X_test, y_test], axis=1)\n",
    "\n",
    "medical_cost_data_training.to_csv(\"../data/processed/medical_cost_data_training.csv\", index=False )\n",
    "medical_cost_data_test.to_csv(\"../data/processed/medical_cost_data_test.csv\", index=False)\n",
    "\n",
    "# Resetting variables to zero to prevent any data leakage\n",
    "X_train, X_test, y_train, y_test = 0, 0, 0, 0"
   ]
  },
  {
   "cell_type": "markdown",
   "metadata": {},
   "source": [
    "# Exploratory Data Analysis\n",
    "### Hereafter only the training data is used. "
   ]
  },
  {
   "cell_type": "code",
   "execution_count": 53,
   "metadata": {},
   "outputs": [],
   "source": [
    "# load training data\n",
    "medical_data = pd.read_csv(\"../data/processed/medical_cost_data_training.csv\") \n",
    "\n",
    "X_train = medical_data.drop(columns=\"charges\")\n",
    "y_train = medical_data.charges"
   ]
  },
  {
   "cell_type": "markdown",
   "metadata": {},
   "source": [
    "### Basic preprocessing"
   ]
  },
  {
   "cell_type": "code",
   "execution_count": 54,
   "metadata": {},
   "outputs": [
    {
     "data": {
      "text/plain": [
       "age           int64\n",
       "sex          object\n",
       "bmi         float64\n",
       "children      int64\n",
       "smoker       object\n",
       "region       object\n",
       "dtype: object"
      ]
     },
     "execution_count": 54,
     "metadata": {},
     "output_type": "execute_result"
    }
   ],
   "source": [
    "X_train.dtypes"
   ]
  },
  {
   "cell_type": "code",
   "execution_count": 55,
   "metadata": {},
   "outputs": [
    {
     "data": {
      "text/plain": [
       "False"
      ]
     },
     "execution_count": 55,
     "metadata": {},
     "output_type": "execute_result"
    }
   ],
   "source": [
    "# Check for missing values\n",
    "X_train.isna().any().any()"
   ]
  },
  {
   "cell_type": "code",
   "execution_count": 56,
   "metadata": {},
   "outputs": [
    {
     "name": "stdout",
     "output_type": "stream",
     "text": [
      "Numeric features are: ['age', 'bmi', 'children']\n",
      "Categoric features are: ['sex', 'smoker', 'region']\n"
     ]
    }
   ],
   "source": [
    "# Identify categoric and numeric features\n",
    "data_types = X_train.dtypes\n",
    "categoric_features = []\n",
    "numeric_features = []\n",
    "for d_type, feature in zip(data_types, data_types.index):\n",
    "    if d_type == \"object\":\n",
    "        categoric_features.append(feature)\n",
    "    else:\n",
    "        numeric_features.append(feature)\n",
    "\n",
    "numeric_features = numeric_features\n",
    "print(f\"Numeric features are: {numeric_features}\")\n",
    "print(f\"Categoric features are: {categoric_features}\")"
   ]
  },
  {
   "cell_type": "code",
   "execution_count": 57,
   "metadata": {},
   "outputs": [
    {
     "name": "stdout",
     "output_type": "stream",
     "text": [
      "Total samples: 936\n",
      "Number of unique values in sex is 2\n",
      "Number of unique values in smoker is 2\n",
      "Number of unique values in region is 4\n"
     ]
    }
   ],
   "source": [
    "# Explore cardinality in categoric features\n",
    "print(f\"Total samples: {X_train.shape[0]}\")\n",
    "for cat_feature in categoric_features:\n",
    "    print(f\"Number of unique values in {cat_feature} is {X_train[cat_feature].nunique()}\")"
   ]
  },
  {
   "cell_type": "code",
   "execution_count": 58,
   "metadata": {},
   "outputs": [
    {
     "name": "stdout",
     "output_type": "stream",
     "text": [
      "Total outliers in age is 1\n",
      "Total outliers in bmi is 9\n",
      "Total outliers in children is 1\n"
     ]
    }
   ],
   "source": [
    "# Detect outliers in numeric features\n",
    "\n",
    "def detect_outlier(x):\n",
    "    \"\"\"\n",
    "    Detect outliers from the given array using inter-quartile range. \n",
    "    Considered an outlier if value is less than Q1 - 1.5 IQR or\n",
    "    Q2 + 1.5 IQR\n",
    "    \n",
    "    Parameters\n",
    "    ----------\n",
    "    x : list, array-like\n",
    "        input array of numbers\n",
    "\n",
    "    Returns\n",
    "    -------\n",
    "    tuple\n",
    "        tuple containing indices of the outliers and outliers \n",
    "\n",
    "    \"\"\"\n",
    "    Q1 = np.percentile(x, 25)\n",
    "    Q3 = np.percentile(x, 75)\n",
    "    IQR = Q3 - Q1\n",
    "    ceil =  Q3 + 1.5*IQR\n",
    "    floor = Q1 - 1.5*IQR\n",
    "    outlier_index = x.index[(x < floor) | (x > ceil)]\n",
    "    outliers = x[outlier_index]\n",
    "    \n",
    "    return outlier_index, outliers\n",
    "\n",
    "outliers = {}\n",
    "for col in numeric_features:\n",
    "    outlier_index, outliers = detect_outlier(X_train[col])\n",
    "    outliers[col] = outlier_index\n",
    "    print(f\"Total outliers in {col} is {len(outliers)}\")\n",
    "    "
   ]
  },
  {
   "cell_type": "code",
   "execution_count": 59,
   "metadata": {},
   "outputs": [
    {
     "data": {
      "image/png": "[encoded data removed]",
      "text/plain": [
       "<Figure size 1440x360 with 3 Axes>"
      ]
     },
     "metadata": {
      "needs_background": "light"
     },
     "output_type": "display_data"
    }
   ],
   "source": [
    "# Visualize the distribution using boxplot\n",
    "fig, ax = plt.subplots(1, 3, figsize=(20, 5))\n",
    "axes = ax.reshape(-1)\n",
    "for col, ax in zip(numeric_features, axes):\n",
    "    sns.boxplot(col,  data = X_train, ax = ax)"
   ]
  },
  {
   "cell_type": "markdown",
   "metadata": {},
   "source": [
    "### Exploring features"
   ]
  },
  {
   "cell_type": "code",
   "execution_count": null,
   "metadata": {},
   "outputs": [],
   "source": []
  }
 ],
 "metadata": {
  "kernelspec": {
   "display_name": "Python 3",
   "language": "python",
   "name": "python3"
  },
  "language_info": {
   "codemirror_mode": {
    "name": "ipython",
    "version": 3
   },
   "file_extension": ".py",
   "mimetype": "text/x-python",
   "name": "python",
   "nbconvert_exporter": "python",
   "pygments_lexer": "ipython3",
   "version": "3.7.3"
  }
 },
 "nbformat": 4,
 "nbformat_minor": 4
}
