{
 "cells": [
  {
   "cell_type": "markdown",
   "metadata": {},
   "source": [
    "# UBC-MDS/DSCI_522_group_401\n",
    "# Predicting Medical Insurance Cost\n",
    "Authors: Karanpal Singh, Sreejith Munthikodu, Sirine Chahma  \n",
    "[Data Source](https://gist.github.com/meperezcuello/82a9f1c1c473d6585e750ad2e3c05a41)"
   ]
  },
  {
   "cell_type": "code",
   "execution_count": 1,
   "metadata": {},
   "outputs": [],
   "source": [
    "import pandas as pd\n",
    "import numpy as np\n",
    "import matplotlib.pyplot as plt\n",
    "import seaborn as sns\n",
    "import altair as alt\n",
    "\n",
    "from sklearn.model_selection import train_test_split"
   ]
  },
  {
   "cell_type": "markdown",
   "metadata": {},
   "source": [
    "### Load the data"
   ]
  },
  {
   "cell_type": "code",
   "execution_count": 2,
   "metadata": {},
   "outputs": [
    {
     "data": {
      "text/html": [
       "<div>\n",
       "<style scoped>\n",
       "    .dataframe tbody tr th:only-of-type {\n",
       "        vertical-align: middle;\n",
       "    }\n",
       "\n",
       "    .dataframe tbody tr th {\n",
       "        vertical-align: top;\n",
       "    }\n",
       "\n",
       "    .dataframe thead th {\n",
       "        text-align: right;\n",
       "    }\n",
       "</style>\n",
       "<table border=\"1\" class=\"dataframe\">\n",
       "  <thead>\n",
       "    <tr style=\"text-align: right;\">\n",
       "      <th></th>\n",
       "      <th>age</th>\n",
       "      <th>sex</th>\n",
       "      <th>bmi</th>\n",
       "      <th>children</th>\n",
       "      <th>smoker</th>\n",
       "      <th>region</th>\n",
       "      <th>charges</th>\n",
       "    </tr>\n",
       "  </thead>\n",
       "  <tbody>\n",
       "    <tr>\n",
       "      <th>0</th>\n",
       "      <td>19</td>\n",
       "      <td>female</td>\n",
       "      <td>27.900</td>\n",
       "      <td>0</td>\n",
       "      <td>yes</td>\n",
       "      <td>southwest</td>\n",
       "      <td>16884.92400</td>\n",
       "    </tr>\n",
       "    <tr>\n",
       "      <th>1</th>\n",
       "      <td>18</td>\n",
       "      <td>male</td>\n",
       "      <td>33.770</td>\n",
       "      <td>1</td>\n",
       "      <td>no</td>\n",
       "      <td>southeast</td>\n",
       "      <td>1725.55230</td>\n",
       "    </tr>\n",
       "    <tr>\n",
       "      <th>2</th>\n",
       "      <td>28</td>\n",
       "      <td>male</td>\n",
       "      <td>33.000</td>\n",
       "      <td>3</td>\n",
       "      <td>no</td>\n",
       "      <td>southeast</td>\n",
       "      <td>4449.46200</td>\n",
       "    </tr>\n",
       "    <tr>\n",
       "      <th>3</th>\n",
       "      <td>33</td>\n",
       "      <td>male</td>\n",
       "      <td>22.705</td>\n",
       "      <td>0</td>\n",
       "      <td>no</td>\n",
       "      <td>northwest</td>\n",
       "      <td>21984.47061</td>\n",
       "    </tr>\n",
       "    <tr>\n",
       "      <th>4</th>\n",
       "      <td>32</td>\n",
       "      <td>male</td>\n",
       "      <td>28.880</td>\n",
       "      <td>0</td>\n",
       "      <td>no</td>\n",
       "      <td>northwest</td>\n",
       "      <td>3866.85520</td>\n",
       "    </tr>\n",
       "  </tbody>\n",
       "</table>\n",
       "</div>"
      ],
      "text/plain": [
       "   age     sex     bmi  children smoker     region      charges\n",
       "0   19  female  27.900         0    yes  southwest  16884.92400\n",
       "1   18    male  33.770         1     no  southeast   1725.55230\n",
       "2   28    male  33.000         3     no  southeast   4449.46200\n",
       "3   33    male  22.705         0     no  northwest  21984.47061\n",
       "4   32    male  28.880         0     no  northwest   3866.85520"
      ]
     },
     "execution_count": 2,
     "metadata": {},
     "output_type": "execute_result"
    }
   ],
   "source": [
    "medical_data = pd.read_csv(\"../data/original/medical_cost_data.csv\")\n",
    "medical_data.head()"
   ]
  },
  {
   "cell_type": "code",
   "execution_count": 3,
   "metadata": {},
   "outputs": [
    {
     "name": "stdout",
     "output_type": "stream",
     "text": [
      "Total number of samples: 1338\n"
     ]
    }
   ],
   "source": [
    "print(f\"Total number of samples: {medical_data.shape[0]}\")"
   ]
  },
  {
   "cell_type": "markdown",
   "metadata": {},
   "source": [
    "### Split the data into training and test"
   ]
  },
  {
   "cell_type": "code",
   "execution_count": 4,
   "metadata": {},
   "outputs": [],
   "source": [
    "X = medical_data.drop(columns=\"charges\")\n",
    "y = medical_data.charges\n",
    "\n",
    "X_train, X_test, y_train, y_test = train_test_split(X, y, test_size=0.3, random_state=123)"
   ]
  },
  {
   "cell_type": "markdown",
   "metadata": {},
   "source": [
    "### Save the training and test data"
   ]
  },
  {
   "cell_type": "code",
   "execution_count": 5,
   "metadata": {},
   "outputs": [],
   "source": [
    "# Combine X and y\n",
    "medical_cost_data_training = pd.concat([X_train, y_train], axis=1)\n",
    "medical_cost_data_test = pd.concat([X_test, y_test], axis=1)\n",
    "\n",
    "medical_cost_data_training.to_csv(\"../data/processed/medical_cost_data_training.csv\", index=False )\n",
    "medical_cost_data_test.to_csv(\"../data/processed/medical_cost_data_test.csv\", index=False)\n",
    "\n",
    "# Resetting variables to zero to prevent any data leakage\n",
    "X_train, X_test, y_train, y_test = 0, 0, 0, 0"
   ]
  },
  {
   "cell_type": "markdown",
   "metadata": {},
   "source": [
    "# Exploratory Data Analysis\n",
    "### Hereafter only the training data is used. "
   ]
  },
  {
   "cell_type": "code",
   "execution_count": 6,
   "metadata": {},
   "outputs": [],
   "source": [
    "# load training data\n",
    "medical_data = pd.read_csv(\"../data/processed/medical_cost_data_training.csv\") \n",
    "\n",
    "X_train = medical_data.drop(columns=\"charges\")\n",
    "y_train = medical_data.charges"
   ]
  },
  {
   "cell_type": "markdown",
   "metadata": {},
   "source": [
    "### Basic preprocessing"
   ]
  },
  {
   "cell_type": "code",
   "execution_count": 7,
   "metadata": {},
   "outputs": [
    {
     "data": {
      "text/plain": [
       "age           int64\n",
       "sex          object\n",
       "bmi         float64\n",
       "children      int64\n",
       "smoker       object\n",
       "region       object\n",
       "dtype: object"
      ]
     },
     "execution_count": 7,
     "metadata": {},
     "output_type": "execute_result"
    }
   ],
   "source": [
    "X_train.dtypes"
   ]
  },
  {
   "cell_type": "code",
   "execution_count": 8,
   "metadata": {},
   "outputs": [
    {
     "data": {
      "text/plain": [
       "False"
      ]
     },
     "execution_count": 8,
     "metadata": {},
     "output_type": "execute_result"
    }
   ],
   "source": [
    "# Check for missing values\n",
    "X_train.isna().any().any()"
   ]
  },
  {
   "cell_type": "code",
   "execution_count": 9,
   "metadata": {},
   "outputs": [
    {
     "name": "stdout",
     "output_type": "stream",
     "text": [
      "Numeric features are: ['age', 'bmi', 'children']\n",
      "Categoric features are: ['sex', 'smoker', 'region']\n"
     ]
    }
   ],
   "source": [
    "# Identify categoric and numeric features\n",
    "data_types = X_train.dtypes\n",
    "categoric_features = []\n",
    "numeric_features = []\n",
    "for d_type, feature in zip(data_types, data_types.index):\n",
    "    if d_type == \"object\":\n",
    "        categoric_features.append(feature)\n",
    "    else:\n",
    "        numeric_features.append(feature)\n",
    "\n",
    "numeric_features = numeric_features\n",
    "print(f\"Numeric features are: {numeric_features}\")\n",
    "print(f\"Categoric features are: {categoric_features}\")"
   ]
  },
  {
   "cell_type": "code",
   "execution_count": 10,
   "metadata": {},
   "outputs": [
    {
     "name": "stdout",
     "output_type": "stream",
     "text": [
      "Total samples: 936\n",
      "Number of unique values in sex is 2\n",
      "Number of unique values in smoker is 2\n",
      "Number of unique values in region is 4\n"
     ]
    }
   ],
   "source": [
    "# Explore cardinality in categoric features\n",
    "print(f\"Total samples: {X_train.shape[0]}\")\n",
    "for cat_feature in categoric_features:\n",
    "    print(f\"Number of unique values in {cat_feature} is {X_train[cat_feature].nunique()}\")"
   ]
  },
  {
   "cell_type": "code",
   "execution_count": 11,
   "metadata": {},
   "outputs": [
    {
     "name": "stdout",
     "output_type": "stream",
     "text": [
      "Total outliers in age is 1\n",
      "Total outliers in bmi is 9\n",
      "Total outliers in children is 1\n"
     ]
    }
   ],
   "source": [
    "# Detect outliers in numeric features\n",
    "\n",
    "def detect_outlier(x):\n",
    "    \"\"\"\n",
    "    Detect outliers from the given array using inter-quartile range. \n",
    "    Considered an outlier if value is less than Q1 - 1.5 IQR or\n",
    "    Q2 + 1.5 IQR\n",
    "    \n",
    "    Parameters\n",
    "    ----------\n",
    "    x : list, array-like\n",
    "        input array of numbers\n",
    "\n",
    "    Returns\n",
    "    -------\n",
    "    tuple\n",
    "        tuple containing indices of the outliers and outliers \n",
    "\n",
    "    \"\"\"\n",
    "    Q1 = np.percentile(x, 25)\n",
    "    Q3 = np.percentile(x, 75)\n",
    "    IQR = Q3 - Q1\n",
    "    ceil =  Q3 + 1.5*IQR\n",
    "    floor = Q1 - 1.5*IQR\n",
    "    outlier_index = x.index[(x < floor) | (x > ceil)]\n",
    "    outliers = x[outlier_index]\n",
    "    \n",
    "    return outlier_index, outliers\n",
    "\n",
    "outliers = {}\n",
    "for col in numeric_features:\n",
    "    outlier_index, outliers = detect_outlier(X_train[col])\n",
    "    outliers[col] = outlier_index\n",
    "    print(f\"Total outliers in {col} is {len(outliers)}\")\n",
    "    "
   ]
  },
  {
   "cell_type": "code",
   "execution_count": 12,
   "metadata": {},
   "outputs": [
    {
     "data": {
      "image/png": "[encoded data removed]",
      "text/plain": [
       "<Figure size 1440x360 with 3 Axes>"
      ]
     },
     "metadata": {
      "needs_background": "light"
     },
     "output_type": "display_data"
    }
   ],
   "source": [
    "# Visualize the distribution using boxplot\n",
    "fig, ax = plt.subplots(1, 3, figsize=(20, 5))\n",
    "axes = ax.reshape(-1)\n",
    "for col, ax in zip(numeric_features, axes):\n",
    "    sns.boxplot(col,  data = X_train, ax = ax)"
   ]
  },
  {
   "cell_type": "markdown",
   "metadata": {},
   "source": [
    "### Exploring features"
   ]
  },
  {
   "cell_type": "markdown",
   "metadata": {},
   "source": [
    "**Let's see if medical expenses tend to change with the age of a person**"
   ]
  },
  {
   "cell_type": "code",
   "execution_count": 37,
   "metadata": {},
   "outputs": [
    {
     "data": {
      "application/vnd.vegalite.v3+json": {
       "$schema": "https://vega.github.io/schema/vega-lite/v3.4.0.json",
       "config": {
        "mark": {
         "tooltip": null
        },
        "view": {
         "height": 300,
         "width": 400
        }
       },
       "data": {
        "name": "data-cc17e1dc6676bf98e3e94799efa3aea1"
       },
       "datasets": {
        "data-cc17e1dc6676bf98e3e94799efa3aea1": [
         {
          "age": 18,
          "bmi": 31.524130434782606,
          "charges": 6099.408652608697,
          "children": 0.43478260869565216
         },
         {
          "age": 19,
          "bmi": 27.51141509433963,
          "charges": 9439.634786037735,
          "children": 0.39622641509433965
         },
         {
          "age": 20,
          "bmi": 31.295476190476187,
          "charges": 9503.95637,
          "children": 1.0952380952380953
         },
         {
          "age": 21,
          "bmi": 30.13222222222223,
          "charges": 5913.060635,
          "children": 0.7222222222222222
         },
         {
          "age": 22,
          "bmi": 31.532608695652176,
          "charges": 11516.90536956522,
          "children": 0.6086956521739131
         },
         {
          "age": 23,
          "bmi": 31.886764705882356,
          "charges": 8714.96406882353,
          "children": 0.7647058823529411
         },
         {
          "age": 24,
          "bmi": 29.04925,
          "charges": 9365.226132000002,
          "children": 0.5
         },
         {
          "age": 25,
          "bmi": 29.929285714285715,
          "charges": 9803.862469047619,
          "children": 1.2857142857142858
         },
         {
          "age": 26,
          "bmi": 27.47421052631579,
          "charges": 6695.60508631579,
          "children": 1.0526315789473684
         },
         {
          "age": 27,
          "bmi": 28.591052631578954,
          "charges": 9557.364363157894,
          "children": 0.8421052631578947
         },
         {
          "age": 28,
          "bmi": 29.134500000000003,
          "charges": 8793.810092,
          "children": 1.15
         },
         {
          "age": 29,
          "bmi": 30.595937499999998,
          "charges": 9830.15930375,
          "children": 1.3125
         },
         {
          "age": 30,
          "bmi": 31.53974999999999,
          "charges": 12714.7824135,
          "children": 1.7
         },
         {
          "age": 31,
          "bmi": 29.905,
          "charges": 11099.362229565219,
          "children": 1.3478260869565217
         },
         {
          "age": 32,
          "bmi": 31.524722222222223,
          "charges": 7778.837142222223,
          "children": 1.0555555555555556
         },
         {
          "age": 33,
          "bmi": 30.406875000000003,
          "charges": 14458.041531249999,
          "children": 1.6875
         },
         {
          "age": 34,
          "bmi": 30.327352941176475,
          "charges": 13202.497678235293,
          "children": 1.0588235294117647
         },
         {
          "age": 35,
          "bmi": 31.153,
          "charges": 12754.712994000001,
          "children": 1.6
         },
         {
          "age": 36,
          "bmi": 29.80625,
          "charges": 9788.383062500003,
          "children": 1.3125
         },
         {
          "age": 37,
          "bmi": 30.838823529411766,
          "charges": 16336.330578235293,
          "children": 1.588235294117647
         },
         {
          "age": 38,
          "bmi": 27.240882352941174,
          "charges": 9044.002120588235,
          "children": 1.4705882352941178
         },
         {
          "age": 39,
          "bmi": 30.714687500000004,
          "charges": 11620.580114375001,
          "children": 2
         },
         {
          "age": 40,
          "bmi": 30.72764705882352,
          "charges": 13314.992954117648,
          "children": 1.9411764705882353
         },
         {
          "age": 41,
          "bmi": 32.01,
          "charges": 9205.851310555554,
          "children": 1.3333333333333333
         },
         {
          "age": 42,
          "bmi": 31.43666666666667,
          "charges": 12622.07638047619,
          "children": 1
         },
         {
          "age": 43,
          "bmi": 30.66444444444444,
          "charges": 21650.109775,
          "children": 1.6666666666666667
         },
         {
          "age": 44,
          "bmi": 29.758947368421058,
          "charges": 15340.745693684212,
          "children": 1.1578947368421053
         },
         {
          "age": 45,
          "bmi": 30.387,
          "charges": 11313.8520585,
          "children": 1.5
         },
         {
          "age": 46,
          "bmi": 31.65333333333334,
          "charges": 15869.730931666667,
          "children": 1.4444444444444444
         },
         {
          "age": 47,
          "bmi": 30.580434782608698,
          "charges": 18382.03062391304,
          "children": 1.3478260869565217
         },
         {
          "age": 48,
          "bmi": 31.423125,
          "charges": 13726.43495041667,
          "children": 1.3333333333333333
         },
         {
          "age": 49,
          "bmi": 30.12880952380952,
          "charges": 12322.454426190476,
          "children": 1.4761904761904763
         },
         {
          "age": 50,
          "bmi": 30.08966666666667,
          "charges": 19080.661645333337,
          "children": 1.0666666666666667
         },
         {
          "age": 51,
          "bmi": 33.489761904761906,
          "charges": 14832.708054761906,
          "children": 0.9047619047619048
         },
         {
          "age": 52,
          "bmi": 32.33391304347826,
          "charges": 18292.869063043476,
          "children": 1.3478260869565217
         },
         {
          "age": 53,
          "bmi": 30.8371052631579,
          "charges": 17004.410620000002,
          "children": 1.263157894736842
         },
         {
          "age": 54,
          "bmi": 30.28861111111111,
          "charges": 16528.087015555557,
          "children": 1.4444444444444444
         },
         {
          "age": 55,
          "bmi": 31.628333333333337,
          "charges": 16174.551338333336,
          "children": 1.0555555555555556
         },
         {
          "age": 56,
          "bmi": 30.718529411764706,
          "charges": 15584.912638235293,
          "children": 1.0588235294117647
         },
         {
          "age": 57,
          "bmi": 29.868055555555557,
          "charges": 16175.689870000002,
          "children": 0.5555555555555556
         },
         {
          "age": 58,
          "bmi": 32.64394736842105,
          "charges": 12598.504473157891,
          "children": 0.15789473684210525
         },
         {
          "age": 59,
          "bmi": 31.116052631578942,
          "charges": 20963.764117894738,
          "children": 1.4210526315789473
         },
         {
          "age": 60,
          "bmi": 30.663333333333334,
          "charges": 26988.721048,
          "children": 0.4666666666666667
         },
         {
          "age": 61,
          "bmi": 32.63214285714285,
          "charges": 22026.093895714286,
          "children": 0.8571428571428571
         },
         {
          "age": 62,
          "bmi": 31.97107142857143,
          "charges": 19395.737645714285,
          "children": 0.7142857142857143
         },
         {
          "age": 63,
          "bmi": 31.982941176470597,
          "charges": 21854.449758823524,
          "children": 0.4117647058823529
         },
         {
          "age": 64,
          "bmi": 32.79,
          "charges": 21647.483286470586,
          "children": 0.5294117647058824
         }
        ]
       },
       "encoding": {
        "x": {
         "field": "age",
         "title": "Age",
         "type": "nominal"
        },
        "y": {
         "field": "charges",
         "title": "Charges",
         "type": "quantitative"
        }
       },
       "mark": {
        "point": true,
        "type": "line"
       },
       "title": "Charges VS age"
      },
      "image/png": "[encoded data removed]",
      "text/plain": [
       "<VegaLite 3 object>\n",
       "\n",
       "If you see this message, it means the renderer has not been properly enabled\n",
       "for the frontend that you are using. For more information, see\n",
       "https://altair-viz.github.io/user_guide/troubleshooting.html\n"
      ]
     },
     "execution_count": 37,
     "metadata": {},
     "output_type": "execute_result"
    }
   ],
   "source": [
    "training_df = X_train\n",
    "training_df['charges'] = y_train\n",
    "\n",
    "\n",
    "alt.Chart(training_df.groupby(['age']).mean().reset_index()).mark_line(point = True).encode(\n",
    "    alt.X('age:N', title = 'Age'),\n",
    "    alt.Y('charges:Q', title = 'Charges')\n",
    ").properties(title='Charges VS age')"
   ]
  },
  {
   "cell_type": "markdown",
   "metadata": {},
   "source": [
    "The charges seem to increase when the age of a person increases. There is a peak in the expenses at the age of 43."
   ]
  },
  {
   "cell_type": "markdown",
   "metadata": {},
   "source": [
    "**Let's see if medical expenses tend to change with the BMI of a person**"
   ]
  },
  {
   "cell_type": "code",
   "execution_count": 38,
   "metadata": {},
   "outputs": [
    {
     "data": {
      "application/vnd.vegalite.v3+json": {
       "$schema": "https://vega.github.io/schema/vega-lite/v3.4.0.json",
       "config": {
        "mark": {
         "tooltip": null
        },
        "view": {
         "height": 300,
         "width": 400
        }
       },
       "data": {
        "name": "data-4fe86fe1da6e96786240b85dc4425002"
       },
       "datasets": {
        "data-4fe86fe1da6e96786240b85dc4425002": [
         {
          "age": 38,
          "bmi": 16.815,
          "charges": 6640.54485,
          "children": 2
         },
         {
          "age": 26,
          "bmi": 17.195,
          "charges": 14455.64405,
          "children": 2
         },
         {
          "age": 28,
          "bmi": 17.29,
          "charges": 3732.6251,
          "children": 0
         },
         {
          "age": 19,
          "bmi": 17.48,
          "charges": 1621.3402,
          "children": 0
         },
         {
          "age": 26,
          "bmi": 17.67,
          "charges": 2680.9493,
          "children": 0
         },
         {
          "age": 19,
          "bmi": 17.8,
          "charges": 1727.785,
          "children": 0
         },
         {
          "age": 35,
          "bmi": 17.86,
          "charges": 5116.5004,
          "children": 1
         },
         {
          "age": 27,
          "bmi": 17.955,
          "charges": 15006.57945,
          "children": 2
         },
         {
          "age": 56.333333333333336,
          "bmi": 18.335,
          "charges": 11576.731983333333,
          "children": 0
         },
         {
          "age": 19,
          "bmi": 18.6,
          "charges": 1728.8970000000004,
          "children": 0
         },
         {
          "age": 33,
          "bmi": 19.095,
          "charges": 16776.30405,
          "children": 2
         },
         {
          "age": 47,
          "bmi": 19.19,
          "charges": 8627.5411,
          "children": 1
         },
         {
          "age": 38,
          "bmi": 19.3,
          "charges": 15820.699,
          "children": 0
         },
         {
          "age": 38,
          "bmi": 19.475,
          "charges": 6933.24225,
          "children": 2
         },
         {
          "age": 47,
          "bmi": 19.57,
          "charges": 8428.0693,
          "children": 1
         },
         {
          "age": 22.5,
          "bmi": 19.8,
          "charges": 2310.2375,
          "children": 0.5
         },
         {
          "age": 46,
          "bmi": 19.855,
          "charges": 7526.70645,
          "children": 0
         },
         {
          "age": 35.333333333333336,
          "bmi": 19.95,
          "charges": 6227.7451666666675,
          "children": 2
         },
         {
          "age": 35,
          "bmi": 20.045,
          "charges": 18109.274550000002,
          "children": 2.5
         },
         {
          "age": 57,
          "bmi": 20.1,
          "charges": 12032.326,
          "children": 1
         },
         {
          "age": 33,
          "bmi": 20.235,
          "charges": 11061.31415,
          "children": 0.5
         },
         {
          "age": 19,
          "bmi": 20.3,
          "charges": 1242.26,
          "children": 0
         },
         {
          "age": 45,
          "bmi": 20.35,
          "charges": 8605.3615,
          "children": 3
         },
         {
          "age": 31,
          "bmi": 20.4,
          "charges": 3260.199,
          "children": 0
         },
         {
          "age": 28,
          "bmi": 20.52,
          "charges": 9558.0628,
          "children": 0
         },
         {
          "age": 35,
          "bmi": 20.6,
          "charges": 5498.237,
          "children": 0
         },
         {
          "age": 19,
          "bmi": 20.615,
          "charges": 2803.69785,
          "children": 2
         },
         {
          "age": 19,
          "bmi": 20.7,
          "charges": 1242.816,
          "children": 0
         },
         {
          "age": 18,
          "bmi": 20.79,
          "charges": 1607.5101,
          "children": 0
         },
         {
          "age": 25.5,
          "bmi": 20.8,
          "charges": 2755.5435000000007,
          "children": 0.5
         },
         {
          "age": 19,
          "bmi": 20.9,
          "charges": 1832.094,
          "children": 1
         },
         {
          "age": 54,
          "bmi": 21.01,
          "charges": 11013.7119,
          "children": 2
         },
         {
          "age": 61,
          "bmi": 21.09,
          "charges": 13415.0381,
          "children": 0
         },
         {
          "age": 49,
          "bmi": 21.3,
          "charges": 9182.17,
          "children": 1
         },
         {
          "age": 45,
          "bmi": 21.375,
          "charges": 7222.78625,
          "children": 0
         },
         {
          "age": 57.5,
          "bmi": 21.4,
          "charges": 11511.265500000001,
          "children": 0.5
         },
         {
          "age": 27,
          "bmi": 21.47,
          "charges": 3353.4703,
          "children": 0
         },
         {
          "age": 18,
          "bmi": 21.565,
          "charges": 13747.87235,
          "children": 0
         },
         {
          "age": 63,
          "bmi": 21.66,
          "charges": 14349.8544,
          "children": 1
         },
         {
          "age": 19,
          "bmi": 21.7,
          "charges": 13844.506,
          "children": 0
         },
         {
          "age": 30.333333333333332,
          "bmi": 21.755,
          "charges": 6495.612246666667,
          "children": 0.3333333333333333
         },
         {
          "age": 18,
          "bmi": 21.78,
          "charges": 11884.04858,
          "children": 2
         },
         {
          "age": 21,
          "bmi": 21.85,
          "charges": 15359.1045,
          "children": 1
         },
         {
          "age": 21,
          "bmi": 21.89,
          "charges": 3180.5101,
          "children": 2
         },
         {
          "age": 30,
          "bmi": 21.945,
          "charges": 4718.20355,
          "children": 1
         },
         {
          "age": 20,
          "bmi": 22,
          "charges": 1964.78,
          "children": 1
         },
         {
          "age": 61,
          "bmi": 22.04,
          "charges": 13616.3586,
          "children": 0
         },
         {
          "age": 56,
          "bmi": 22.1,
          "charges": 10577.087,
          "children": 0
         },
         {
          "age": 37.666666666666664,
          "bmi": 22.135,
          "charges": 6961.608649999999,
          "children": 2
         },
         {
          "age": 40,
          "bmi": 22.22,
          "charges": 19444.2658,
          "children": 2
         },
         {
          "age": 41.5,
          "bmi": 22.23,
          "charges": 7602.787200000001,
          "children": 0
         },
         {
          "age": 21,
          "bmi": 22.3,
          "charges": 2103.08,
          "children": 1
         },
         {
          "age": 27,
          "bmi": 22.42,
          "charges": 21043.82429,
          "children": 1
         },
         {
          "age": 30.5,
          "bmi": 22.515,
          "charges": 4902.48685,
          "children": 1
         },
         {
          "age": 24,
          "bmi": 22.6,
          "charges": 2457.502,
          "children": 0
         },
         {
          "age": 36.75,
          "bmi": 22.61,
          "charges": 9811.41565,
          "children": 1
         },
         {
          "age": 36.666666666666664,
          "bmi": 22.705,
          "charges": 12047.779170000002,
          "children": 1.6666666666666667
         },
         {
          "age": 58,
          "bmi": 22.77,
          "charges": 11833.7823,
          "children": 0
         },
         {
          "age": 48,
          "bmi": 22.8,
          "charges": 8269.044,
          "children": 0
         },
         {
          "age": 53,
          "bmi": 22.88,
          "charges": 23244.7902,
          "children": 1
         },
         {
          "age": 41,
          "bmi": 22.99,
          "charges": 14371.241100000001,
          "children": 0
         },
         {
          "age": 40.5,
          "bmi": 23.085,
          "charges": 8078.267650000001,
          "children": 0
         },
         {
          "age": 27,
          "bmi": 23.1,
          "charges": 2483.736,
          "children": 0
         },
         {
          "age": 40.6,
          "bmi": 23.18,
          "charges": 9868.62973,
          "children": 0.8
         },
         {
          "age": 43,
          "bmi": 23.2,
          "charges": 6250.435,
          "children": 0
         },
         {
          "age": 23,
          "bmi": 23.21,
          "charges": 9921.843546666665,
          "children": 0.3333333333333333
         },
         {
          "age": 58,
          "bmi": 23.3,
          "charges": 11345.518999999998,
          "children": 0
         },
         {
          "age": 18,
          "bmi": 23.32,
          "charges": 1711.0268,
          "children": 1
         },
         {
          "age": 41,
          "bmi": 23.37,
          "charges": 14108.5153,
          "children": 1.5
         },
         {
          "age": 19,
          "bmi": 23.4,
          "charges": 2913.5690000000004,
          "children": 2
         },
         {
          "age": 35,
          "bmi": 23.465,
          "charges": 6402.29135,
          "children": 2
         },
         {
          "age": 50,
          "bmi": 23.54,
          "charges": 10107.2206,
          "children": 2
         },
         {
          "age": 34,
          "bmi": 23.56,
          "charges": 4992.3764,
          "children": 0
         },
         {
          "age": 39,
          "bmi": 23.6,
          "charges": 6735.659,
          "children": 1.5
         },
         {
          "age": 32,
          "bmi": 23.65,
          "charges": 17626.23951,
          "children": 1
         },
         {
          "age": 39.75,
          "bmi": 23.655,
          "charges": 17118.726450000002,
          "children": 1
         },
         {
          "age": 26,
          "bmi": 23.7,
          "charges": 3484.331,
          "children": 2
         },
         {
          "age": 18,
          "bmi": 23.75,
          "charges": 1705.6245,
          "children": 0
         },
         {
          "age": 64,
          "bmi": 23.76,
          "charges": 26926.5144,
          "children": 0
         },
         {
          "age": 28,
          "bmi": 23.8,
          "charges": 3847.674,
          "children": 2
         },
         {
          "age": 25.5,
          "bmi": 23.845,
          "charges": 3557.45405,
          "children": 1
         },
         {
          "age": 39,
          "bmi": 23.87,
          "charges": 8582.3023,
          "children": 5
         },
         {
          "age": 25,
          "bmi": 23.9,
          "charges": 5080.096,
          "children": 5
         },
         {
          "age": 41,
          "bmi": 23.94,
          "charges": 6858.4796,
          "children": 1
         },
         {
          "age": 50.5,
          "bmi": 23.98,
          "charges": 15201.768655,
          "children": 1.5
         },
         {
          "age": 53,
          "bmi": 24.035,
          "charges": 10679.86965,
          "children": 0.6666666666666666
         },
         {
          "age": 18,
          "bmi": 24.09,
          "charges": 2201.0971,
          "children": 1
         },
         {
          "age": 37,
          "bmi": 24.1,
          "charges": 14605.352985,
          "children": 0.5
         },
         {
          "age": 30,
          "bmi": 24.13,
          "charges": 4032.2407,
          "children": 1
         },
         {
          "age": 23.5,
          "bmi": 24.225,
          "charges": 12619.252495,
          "children": 1
         },
         {
          "age": 25,
          "bmi": 24.3,
          "charges": 4052.4966666666674,
          "children": 2.6666666666666665
         },
         {
          "age": 45,
          "bmi": 24.31,
          "charges": 9788.8659,
          "children": 5
         },
         {
          "age": 44.8,
          "bmi": 24.32,
          "charges": 15200.95872,
          "children": 1.4
         },
         {
          "age": 51,
          "bmi": 24.415,
          "charges": 11520.09985,
          "children": 4
         },
         {
          "age": 27.5,
          "bmi": 24.42,
          "charges": 22743.836785,
          "children": 1.5
         },
         {
          "age": 27,
          "bmi": 24.51,
          "charges": 3938.4665666666665,
          "children": 1
         },
         {
          "age": 32,
          "bmi": 24.6,
          "charges": 17496.306,
          "children": 0
         },
         {
          "age": 36.5,
          "bmi": 24.605,
          "charges": 7594.47645,
          "children": 2
         },
         {
          "age": 42,
          "bmi": 24.64,
          "charges": 19515.5416,
          "children": 0
         },
         {
          "age": 46.25,
          "bmi": 24.7,
          "charges": 16527.1875425,
          "children": 0.75
         },
         {
          "age": 27,
          "bmi": 24.75,
          "charges": 16577.7795,
          "children": 0
         },
         {
          "age": 43,
          "bmi": 24.795,
          "charges": 14423.32955,
          "children": 0.5
         },
         {
          "age": 52,
          "bmi": 24.86,
          "charges": 27117.99378,
          "children": 0
         },
         {
          "age": 39,
          "bmi": 24.89,
          "charges": 21659.9301,
          "children": 3
         },
         {
          "age": 25,
          "bmi": 24.985,
          "charges": 23241.47453,
          "children": 2
         },
         {
          "age": 44,
          "bmi": 25,
          "charges": 7623.518,
          "children": 1
         },
         {
          "age": 41,
          "bmi": 25.08,
          "charges": 7297.9477,
          "children": 0
         },
         {
          "age": 54,
          "bmi": 25.1,
          "charges": 25382.297,
          "children": 3
         },
         {
          "age": 28.8,
          "bmi": 25.175,
          "charges": 6937.12945,
          "children": 0
         },
         {
          "age": 24,
          "bmi": 25.27,
          "charges": 3044.2133,
          "children": 0
         },
         {
          "age": 45.333333333333336,
          "bmi": 25.3,
          "charges": 17360.860333333334,
          "children": 1.3333333333333333
         },
         {
          "age": 49.666666666666664,
          "bmi": 25.365,
          "charges": 16950.000213333333,
          "children": 2
         },
         {
          "age": 51,
          "bmi": 25.4,
          "charges": 8782.469000000001,
          "children": 0
         },
         {
          "age": 47,
          "bmi": 25.41,
          "charges": 21978.6769,
          "children": 1
         },
         {
          "age": 34,
          "bmi": 25.46,
          "charges": 10290.068143333334,
          "children": 0.3333333333333333
         },
         {
          "age": 43,
          "bmi": 25.52,
          "charges": 14478.33015,
          "children": 5
         },
         {
          "age": 25,
          "bmi": 25.555,
          "charges": 8050.330783333335,
          "children": 0.6666666666666666
         },
         {
          "age": 47.333333333333336,
          "bmi": 25.6,
          "charges": 14667.948666666665,
          "children": 2.6666666666666665
         },
         {
          "age": 56,
          "bmi": 25.65,
          "charges": 11454.0215,
          "children": 0
         },
         {
          "age": 33,
          "bmi": 25.7,
          "charges": 13521.952000000001,
          "children": 3.5
         },
         {
          "age": 41,
          "bmi": 25.74,
          "charges": 7383.4096,
          "children": 1
         },
         {
          "age": 32.5,
          "bmi": 25.745,
          "charges": 6006.36105,
          "children": 2
         },
         {
          "age": 38.5,
          "bmi": 25.8,
          "charges": 6395.4535000000005,
          "children": 1
         },
         {
          "age": 45.75,
          "bmi": 25.84,
          "charges": 16330.662680000001,
          "children": 1
         },
         {
          "age": 48,
          "bmi": 25.85,
          "charges": 24180.9335,
          "children": 3
         },
         {
          "age": 31,
          "bmi": 25.9,
          "charges": 19199.944,
          "children": 3
         },
         {
          "age": 38.333333333333336,
          "bmi": 25.935,
          "charges": 6512.983983333333,
          "children": 0.6666666666666666
         },
         {
          "age": 25.666666666666668,
          "bmi": 26.03,
          "charges": 2969.8460333333333,
          "children": 0
         },
         {
          "age": 41.333333333333336,
          "bmi": 26.125,
          "charges": 12119.64675,
          "children": 1
         },
         {
          "age": 30,
          "bmi": 26.18,
          "charges": 4675.3622,
          "children": 1.5
         },
         {
          "age": 36,
          "bmi": 26.2,
          "charges": 4883.866,
          "children": 0
         },
         {
          "age": 42.333333333333336,
          "bmi": 26.22,
          "charges": 7700.3607999999995,
          "children": 0.3333333333333333
         },
         {
          "age": 62,
          "bmi": 26.29,
          "charges": 27808.7251,
          "children": 0
         },
         {
          "age": 40.5,
          "bmi": 26.315,
          "charges": 7071.3053500000005,
          "children": 1.5
         },
         {
          "age": 29,
          "bmi": 26.4,
          "charges": 11068.510999999999,
          "children": 0.5
         },
         {
          "age": 44,
          "bmi": 26.41,
          "charges": 10605.1451,
          "children": 0.6
         },
         {
          "age": 59,
          "bmi": 26.505,
          "charges": 12815.44495,
          "children": 0
         },
         {
          "age": 25.5,
          "bmi": 26.51,
          "charges": 3078.1584,
          "children": 1
         },
         {
          "age": 43.75,
          "bmi": 26.6,
          "charges": 11698.687750000001,
          "children": 0.25
         },
         {
          "age": 38.5,
          "bmi": 26.62,
          "charges": 5749.9773000000005,
          "children": 0.5
         },
         {
          "age": 42,
          "bmi": 26.695,
          "charges": 9630.34505,
          "children": 3.5
         },
         {
          "age": 53,
          "bmi": 26.7,
          "charges": 11150.78,
          "children": 2
         },
         {
          "age": 26,
          "bmi": 26.73,
          "charges": 3309.2747,
          "children": 0.5
         },
         {
          "age": 40,
          "bmi": 26.8,
          "charges": 19533.130785,
          "children": 2
         },
         {
          "age": 22,
          "bmi": 26.84,
          "charges": 1664.9996,
          "children": 0
         },
         {
          "age": 43.5,
          "bmi": 26.885,
          "charges": 15203.58415,
          "children": 0.25
         },
         {
          "age": 42,
          "bmi": 26.9,
          "charges": 5969.723000000001,
          "children": 0
         },
         {
          "age": 48.666666666666664,
          "bmi": 26.98,
          "charges": 14822.713533333334,
          "children": 0.6666666666666666
         },
         {
          "age": 50,
          "bmi": 27.075,
          "charges": 10106.13425,
          "children": 1
         },
         {
          "age": 30,
          "bmi": 27.1,
          "charges": 8647.193666666666,
          "children": 0.6666666666666666
         },
         {
          "age": 53.5,
          "bmi": 27.17,
          "charges": 10412.1138,
          "children": 0
         },
         {
          "age": 42.5,
          "bmi": 27.2,
          "charges": 6969.6335,
          "children": 0
         },
         {
          "age": 32.75,
          "bmi": 27.265,
          "charges": 10789.316672500001,
          "children": 1.75
         },
         {
          "age": 18,
          "bmi": 27.28,
          "charges": 18223.4512,
          "children": 3
         },
         {
          "age": 39.5,
          "bmi": 27.36,
          "charges": 12166.161376666665,
          "children": 0.8333333333333334
         },
         {
          "age": 44,
          "bmi": 27.4,
          "charges": 7726.854,
          "children": 2
         },
         {
          "age": 41.5,
          "bmi": 27.455,
          "charges": 7439.56595,
          "children": 1.5
         },
         {
          "age": 49,
          "bmi": 27.5,
          "charges": 9299.6255,
          "children": 0.75
         },
         {
          "age": 52.666666666666664,
          "bmi": 27.55,
          "charges": 11300.501166666667,
          "children": 1.3333333333333333
         },
         {
          "age": 31.75,
          "bmi": 27.6,
          "charges": 12548.552885000001,
          "children": 0
         },
         {
          "age": 35,
          "bmi": 27.61,
          "charges": 4747.0529,
          "children": 1
         },
         {
          "age": 46.4,
          "bmi": 27.645,
          "charges": 15961.51861,
          "children": 1.2
         },
         {
          "age": 27,
          "bmi": 27.7,
          "charges": 11356.012,
          "children": 1.5
         },
         {
          "age": 40.75,
          "bmi": 27.72,
          "charges": 7278.38755,
          "children": 1
         },
         {
          "age": 44.666666666666664,
          "bmi": 27.74,
          "charges": 13540.359933333335,
          "children": 1
         },
         {
          "age": 43,
          "bmi": 27.8,
          "charges": 37829.7242,
          "children": 0
         },
         {
          "age": 50.25,
          "bmi": 27.83,
          "charges": 16332.962370000001,
          "children": 2
         },
         {
          "age": 31.75,
          "bmi": 27.835,
          "charges": 4922.7154,
          "children": 1.25
         },
         {
          "age": 19,
          "bmi": 27.9,
          "charges": 16884.924,
          "children": 0
         },
         {
          "age": 32.666666666666664,
          "bmi": 27.93,
          "charges": 5706.5733666666665,
          "children": 1.3333333333333333
         },
         {
          "age": 38.333333333333336,
          "bmi": 27.94,
          "charges": 11176.374266666666,
          "children": 0.6666666666666666
         },
         {
          "age": 35.5,
          "bmi": 28,
          "charges": 18347.474725,
          "children": 0.5
         },
         {
          "age": 32.5,
          "bmi": 28.025,
          "charges": 12516.56575,
          "children": 1
         },
         {
          "age": 34,
          "bmi": 28.05,
          "charges": 5194.3895,
          "children": 0.5
         },
         {
          "age": 57,
          "bmi": 28.1,
          "charges": 10965.446000000002,
          "children": 0
         },
         {
          "age": 27.5,
          "bmi": 28.12,
          "charges": 12081.2963,
          "children": 2
         },
         {
          "age": 61,
          "bmi": 28.2,
          "charges": 13041.921,
          "children": 0
         },
         {
          "age": 42.5,
          "bmi": 28.215,
          "charges": 12436.8721,
          "children": 1.75
         },
         {
          "age": 33,
          "bmi": 28.27,
          "charges": 4779.6023,
          "children": 1
         },
         {
          "age": 29,
          "bmi": 28.3,
          "charges": 19081.620000000003,
          "children": 0.5
         },
         {
          "age": 37,
          "bmi": 28.31,
          "charges": 15978.250497142855,
          "children": 1
         },
         {
          "age": 30,
          "bmi": 28.38,
          "charges": 19521.9682,
          "children": 1
         },
         {
          "age": 19,
          "bmi": 28.4,
          "charges": 2087.019,
          "children": 1
         },
         {
          "age": 35.5,
          "bmi": 28.405,
          "charges": 5595.934450000001,
          "children": 1
         },
         {
          "age": 23,
          "bmi": 28.49,
          "charges": 18328.2381,
          "children": 1
         },
         {
          "age": 25.333333333333332,
          "bmi": 28.5,
          "charges": 8940.809,
          "children": 1.6666666666666667
         },
         {
          "age": 44.333333333333336,
          "bmi": 28.595,
          "charges": 11276.566135000003,
          "children": 0.6666666666666666
         },
         {
          "age": 39,
          "bmi": 28.6,
          "charges": 8152.682333333333,
          "children": 3.3333333333333335
         },
         {
          "age": 35,
          "bmi": 28.69,
          "charges": 14402.8341,
          "children": 3
         },
         {
          "age": 38,
          "bmi": 28.7,
          "charges": 6354.608,
          "children": 0
         },
         {
          "age": 41,
          "bmi": 28.785,
          "charges": 7521.889150000001,
          "children": 0
         },
         {
          "age": 41,
          "bmi": 28.8,
          "charges": 6282.235,
          "children": 1
         },
         {
          "age": 22,
          "bmi": 28.82,
          "charges": 2156.7518,
          "children": 0
         },
         {
          "age": 34.142857142857146,
          "bmi": 28.88,
          "charges": 8042.667057142858,
          "children": 1
         },
         {
          "age": 19,
          "bmi": 28.9,
          "charges": 1743.214,
          "children": 0
         },
         {
          "age": 34,
          "bmi": 28.93,
          "charges": 9889.001366666665,
          "children": 0.6666666666666666
         },
         {
          "age": 38.25,
          "bmi": 28.975,
          "charges": 10544.655249999998,
          "children": 0
         },
         {
          "age": 50,
          "bmi": 29,
          "charges": 9446.542,
          "children": 0.5
         },
         {
          "age": 36,
          "bmi": 29.04,
          "charges": 7243.8136,
          "children": 4
         },
         {
          "age": 19,
          "bmi": 29.07,
          "charges": 17352.6803,
          "children": 0
         },
         {
          "age": 31,
          "bmi": 29.1,
          "charges": 3761.292,
          "children": 0
         },
         {
          "age": 26,
          "bmi": 29.15,
          "charges": 2902.9065,
          "children": 1
         },
         {
          "age": 32.75,
          "bmi": 29.26,
          "charges": 5357.730149999999,
          "children": 2
         },
         {
          "age": 32,
          "bmi": 29.3,
          "charges": 8903.318365,
          "children": 2
         },
         {
          "age": 33,
          "bmi": 29.355,
          "charges": 5478.89745,
          "children": 1.5
         },
         {
          "age": 33,
          "bmi": 29.4,
          "charges": 6059.173000000002,
          "children": 4
         },
         {
          "age": 26,
          "bmi": 29.45,
          "charges": 2897.3235,
          "children": 0
         },
         {
          "age": 47.5,
          "bmi": 29.48,
          "charges": 8563.9767,
          "children": 1
         },
         {
          "age": 37,
          "bmi": 29.5,
          "charges": 6311.951999999998,
          "children": 2
         },
         {
          "age": 30.5,
          "bmi": 29.59,
          "charges": 4255.1276,
          "children": 1
         },
         {
          "age": 35.666666666666664,
          "bmi": 29.6,
          "charges": 10206.597753333333,
          "children": 1.3333333333333333
         },
         {
          "age": 38.6,
          "bmi": 29.64,
          "charges": 14386.20393,
          "children": 2
         },
         {
          "age": 44.6,
          "bmi": 29.7,
          "charges": 11386.0136,
          "children": 1.4
         },
         {
          "age": 35,
          "bmi": 29.735,
          "charges": 18207.860823333333,
          "children": 1.3333333333333333
         },
         {
          "age": 47,
          "bmi": 29.8,
          "charges": 25309.489,
          "children": 3
         },
         {
          "age": 43,
          "bmi": 29.81,
          "charges": 15400.930400000001,
          "children": 0.75
         },
         {
          "age": 49.4,
          "bmi": 29.83,
          "charges": 13357.2487,
          "children": 1.8
         },
         {
          "age": 40,
          "bmi": 29.9,
          "charges": 6600.361,
          "children": 2
         },
         {
          "age": 36,
          "bmi": 29.92,
          "charges": 4889.0368,
          "children": 0
         },
         {
          "age": 37.333333333333336,
          "bmi": 29.925,
          "charges": 11433.628750000002,
          "children": 0.3333333333333333
         },
         {
          "age": 42,
          "bmi": 30,
          "charges": 22144.032000000007,
          "children": 0
         },
         {
          "age": 40.5,
          "bmi": 30.02,
          "charges": 23329.825299999997,
          "children": 0
         },
         {
          "age": 51,
          "bmi": 30.03,
          "charges": 9377.9047,
          "children": 1
         },
         {
          "age": 24,
          "bmi": 30.1,
          "charges": 4234.927,
          "children": 3
         },
         {
          "age": 39,
          "bmi": 30.115,
          "charges": 8378.92925,
          "children": 2.4
         },
         {
          "age": 18,
          "bmi": 30.14,
          "charges": 1131.5066,
          "children": 0
         },
         {
          "age": 43.2,
          "bmi": 30.2,
          "charges": 13771.930400000001,
          "children": 1.2
         },
         {
          "age": 37.5,
          "bmi": 30.21,
          "charges": 16582.65495,
          "children": 1.75
         },
         {
          "age": 26,
          "bmi": 30.25,
          "charges": 18126.3475,
          "children": 0
         },
         {
          "age": 26,
          "bmi": 30.3,
          "charges": 3446.868000000001,
          "children": 1.5
         },
         {
          "age": 18,
          "bmi": 30.305,
          "charges": 2203.73595,
          "children": 0
         },
         {
          "age": 19.666666666666668,
          "bmi": 30.4,
          "charges": 12881.904999999999,
          "children": 1
         },
         {
          "age": 45,
          "bmi": 30.495,
          "charges": 19346.629716666666,
          "children": 1.3333333333333333
         },
         {
          "age": 39,
          "bmi": 30.5,
          "charges": 5983.187333333332,
          "children": 0.3333333333333333
         },
         {
          "age": 21.5,
          "bmi": 30.59,
          "charges": 8220.388921666667,
          "children": 0.5
         },
         {
          "age": 43,
          "bmi": 30.685,
          "charges": 8310.83915,
          "children": 2
         },
         {
          "age": 38,
          "bmi": 30.69,
          "charges": 5976.8311,
          "children": 1
         },
         {
          "age": 46.5,
          "bmi": 30.78,
          "charges": 16996.742700000003,
          "children": 1.25
         },
         {
          "age": 42.833333333333336,
          "bmi": 30.8,
          "charges": 18151.947166666665,
          "children": 1.6666666666666667
         },
         {
          "age": 39,
          "bmi": 30.875,
          "charges": 12611.780613750001,
          "children": 1.625
         },
         {
          "age": 41.333333333333336,
          "bmi": 30.9,
          "charges": 17857.763666666666,
          "children": 1.6666666666666667
         },
         {
          "age": 36.5,
          "bmi": 31,
          "charges": 5364.5135,
          "children": 1
         },
         {
          "age": 28,
          "bmi": 31.02,
          "charges": 19455.80277,
          "children": 1
         },
         {
          "age": 27,
          "bmi": 31.065,
          "charges": 13766.881683333335,
          "children": 0
         },
         {
          "age": 21,
          "bmi": 31.1,
          "charges": 1526.312,
          "children": 0
         },
         {
          "age": 34,
          "bmi": 31.13,
          "charges": 5423.5467,
          "children": 1
         },
         {
          "age": 53,
          "bmi": 31.16,
          "charges": 10461.9794,
          "children": 1
         },
         {
          "age": 52,
          "bmi": 31.2,
          "charges": 9625.92,
          "children": 0
         },
         {
          "age": 54,
          "bmi": 31.24,
          "charges": 10338.9316,
          "children": 0
         },
         {
          "age": 30,
          "bmi": 31.255,
          "charges": 4074.7917833333336,
          "children": 0.3333333333333333
         },
         {
          "age": 64,
          "bmi": 31.3,
          "charges": 47291.055,
          "children": 2
         },
         {
          "age": 43.57142857142857,
          "bmi": 31.35,
          "charges": 19887.262724285712,
          "children": 0.8571428571428571
         },
         {
          "age": 30,
          "bmi": 31.4,
          "charges": 3659.346,
          "children": 1
         },
         {
          "age": 55.5,
          "bmi": 31.445,
          "charges": 11469.25805,
          "children": 0.5
         },
         {
          "age": 41,
          "bmi": 31.46,
          "charges": 14439.457065,
          "children": 0.5
         },
         {
          "age": 34,
          "bmi": 31.5,
          "charges": 4239.365,
          "children": 0.5
         },
         {
          "age": 32,
          "bmi": 31.54,
          "charges": 5148.5526,
          "children": 1
         },
         {
          "age": 45.5,
          "bmi": 31.57,
          "charges": 8697.593799999999,
          "children": 1.5
         },
         {
          "age": 48.333333333333336,
          "bmi": 31.6,
          "charges": 8718.327666666666,
          "children": 0.6666666666666666
         },
         {
          "age": 51,
          "bmi": 31.635,
          "charges": 9174.13565,
          "children": 0
         },
         {
          "age": 23,
          "bmi": 31.68,
          "charges": 34487.6572,
          "children": 1
         },
         {
          "age": 37.666666666666664,
          "bmi": 31.73,
          "charges": 6910.5536999999995,
          "children": 0.6666666666666666
         },
         {
          "age": 40.333333333333336,
          "bmi": 31.79,
          "charges": 21599.85252333333,
          "children": 1.3333333333333333
         },
         {
          "age": 63,
          "bmi": 31.8,
          "charges": 13880.949,
          "children": 0
         },
         {
          "age": 46,
          "bmi": 31.825,
          "charges": 17316.608500000002,
          "children": 0.75
         },
         {
          "age": 51.5,
          "bmi": 31.9,
          "charges": 11240.876499999998,
          "children": 3
         },
         {
          "age": 26,
          "bmi": 31.92,
          "charges": 16625.841999999997,
          "children": 0.6
         },
         {
          "age": 47,
          "bmi": 32,
          "charges": 8551.347,
          "children": 1
         },
         {
          "age": 41,
          "bmi": 32.01,
          "charges": 6964.103899999999,
          "children": 0.5
         },
         {
          "age": 44,
          "bmi": 32.015,
          "charges": 8116.26885,
          "children": 2
         },
         {
          "age": 59,
          "bmi": 32.1,
          "charges": 14007.222,
          "children": 3
         },
         {
          "age": 37.666666666666664,
          "bmi": 32.11,
          "charges": 6681.415233333333,
          "children": 0.6666666666666666
         },
         {
          "age": 63,
          "bmi": 32.2,
          "charges": 47305.305,
          "children": 2
         },
         {
          "age": 52,
          "bmi": 32.205,
          "charges": 11488.31695,
          "children": 3
         },
         {
          "age": 36.5,
          "bmi": 32.23,
          "charges": 13544.656545000002,
          "children": 1
         },
         {
          "age": 51.55555555555556,
          "bmi": 32.3,
          "charges": 14231.796555555553,
          "children": 1.6666666666666667
         },
         {
          "age": 44,
          "bmi": 32.34,
          "charges": 7633.7206,
          "children": 1
         },
         {
          "age": 40.25,
          "bmi": 32.395,
          "charges": 11933.86414,
          "children": 1.5
         },
         {
          "age": 30,
          "bmi": 32.4,
          "charges": 4149.736,
          "children": 1
         },
         {
          "age": 60,
          "bmi": 32.45,
          "charges": 45008.9555,
          "children": 0
         },
         {
          "age": 39,
          "bmi": 32.5,
          "charges": 6238.298000000002,
          "children": 1
         },
         {
          "age": 33,
          "bmi": 32.56,
          "charges": 21382.7854,
          "children": 1.5
         },
         {
          "age": 42,
          "bmi": 32.6,
          "charges": 7698.009,
          "children": 2.5
         },
         {
          "age": 41,
          "bmi": 32.67,
          "charges": 6652.2623,
          "children": 0.5
         },
         {
          "age": 41.5,
          "bmi": 32.68,
          "charges": 19931.87386,
          "children": 1
         },
         {
          "age": 23,
          "bmi": 32.7,
          "charges": 3591.48,
          "children": 3
         },
         {
          "age": 43.6,
          "bmi": 32.775,
          "charges": 21602.76125,
          "children": 2
         },
         {
          "age": 60,
          "bmi": 32.8,
          "charges": 52590.82939,
          "children": 0
         },
         {
          "age": 22.5,
          "bmi": 32.9,
          "charges": 18916.996499999997,
          "children": 1
         },
         {
          "age": 54.333333333333336,
          "bmi": 32.965,
          "charges": 11231.549016666666,
          "children": 0
         },
         {
          "age": 41,
          "bmi": 33,
          "charges": 10971.206973333334,
          "children": 2
         },
         {
          "age": 46.25,
          "bmi": 33.1,
          "charges": 13917.484082500001,
          "children": 0
         },
         {
          "age": 38.75,
          "bmi": 33.11,
          "charges": 23126.364650000003,
          "children": 0.75
         },
         {
          "age": 32,
          "bmi": 33.155,
          "charges": 5611.02895,
          "children": 1.5
         },
         {
          "age": 52,
          "bmi": 33.25,
          "charges": 9722.7695,
          "children": 0
         },
         {
          "age": 36,
          "bmi": 33.3,
          "charges": 6343.6630000000005,
          "children": 1
         },
         {
          "age": 43,
          "bmi": 33.33,
          "charges": 15418.497186666667,
          "children": 1.3333333333333333
         },
         {
          "age": 39,
          "bmi": 33.345,
          "charges": 12376.389116,
          "children": 1
         },
         {
          "age": 25.5,
          "bmi": 33.4,
          "charges": 6983.977665,
          "children": 0
         },
         {
          "age": 45.666666666666664,
          "bmi": 33.44,
          "charges": 9041.997266666667,
          "children": 2
         },
         {
          "age": 33,
          "bmi": 33.5,
          "charges": 37079.372,
          "children": 0
         },
         {
          "age": 44.666666666666664,
          "bmi": 33.535,
          "charges": 20010.28865,
          "children": 0.6666666666666666
         },
         {
          "age": 41,
          "bmi": 33.55,
          "charges": 5699.8375,
          "children": 0
         },
         {
          "age": 42.4,
          "bmi": 33.63,
          "charges": 17479.964976,
          "children": 1.6
         },
         {
          "age": 56,
          "bmi": 33.66,
          "charges": 12949.1554,
          "children": 4
         },
         {
          "age": 39.5,
          "bmi": 33.7,
          "charges": 6229.1945000000005,
          "children": 1
         },
         {
          "age": 18,
          "bmi": 33.77,
          "charges": 1725.5523,
          "children": 1
         },
         {
          "age": 41.333333333333336,
          "bmi": 33.82,
          "charges": 7494.519133333332,
          "children": 1.3333333333333333
         },
         {
          "age": 45.666666666666664,
          "bmi": 33.88,
          "charges": 23453.021416666666,
          "children": 1
         },
         {
          "age": 41.333333333333336,
          "bmi": 33.915,
          "charges": 7757.9478500000005,
          "children": 1.3333333333333333
         },
         {
          "age": 24,
          "bmi": 33.99,
          "charges": 2473.3341,
          "children": 0
         },
         {
          "age": 57,
          "bmi": 34.01,
          "charges": 11356.6609,
          "children": 0
         },
         {
          "age": 39.714285714285715,
          "bmi": 34.1,
          "charges": 13815.005597142857,
          "children": 1.2857142857142858
         },
         {
          "age": 42.666666666666664,
          "bmi": 34.105,
          "charges": 29946.01661666667,
          "children": 1.3333333333333333
         },
         {
          "age": 44.75,
          "bmi": 34.2,
          "charges": 24759.64125,
          "children": 1.5
         },
         {
          "age": 34.5,
          "bmi": 34.21,
          "charges": 4590.2034,
          "children": 0.5
         },
         {
          "age": 57,
          "bmi": 34.295,
          "charges": 13224.05705,
          "children": 2
         },
         {
          "age": 48,
          "bmi": 34.3,
          "charges": 9563.029,
          "children": 3
         },
         {
          "age": 41.5,
          "bmi": 34.32,
          "charges": 7872.150299999999,
          "children": 3
         },
         {
          "age": 44.5,
          "bmi": 34.39,
          "charges": 25245.1446,
          "children": 1.5
         },
         {
          "age": 29,
          "bmi": 34.4,
          "charges": 36197.699,
          "children": 0
         },
         {
          "age": 36.5,
          "bmi": 34.43,
          "charges": 13764.6442,
          "children": 0.5
         },
         {
          "age": 38.5,
          "bmi": 34.485,
          "charges": 31521.60406,
          "children": 1.5
         },
         {
          "age": 64,
          "bmi": 34.5,
          "charges": 13822.803,
          "children": 0
         },
         {
          "age": 32.5,
          "bmi": 34.58,
          "charges": 5826.5057,
          "children": 1.5
         },
         {
          "age": 21,
          "bmi": 34.6,
          "charges": 2020.177,
          "children": 0
         },
         {
          "age": 34,
          "bmi": 34.675,
          "charges": 4518.82625,
          "children": 0
         },
         {
          "age": 31.5,
          "bmi": 34.77,
          "charges": 4642.9637999999995,
          "children": 1
         },
         {
          "age": 33.75,
          "bmi": 34.8,
          "charges": 20094.8335075,
          "children": 1.5
         },
         {
          "age": 23,
          "bmi": 34.865,
          "charges": 2899.48935,
          "children": 0
         },
         {
          "age": 19,
          "bmi": 34.9,
          "charges": 34828.654,
          "children": 0
         },
         {
          "age": 47,
          "bmi": 34.96,
          "charges": 42837.7094,
          "children": 1.5
         },
         {
          "age": 63,
          "bmi": 35.09,
          "charges": 47055.5321,
          "children": 0
         },
         {
          "age": 60,
          "bmi": 35.1,
          "charges": 12644.589,
          "children": 0
         },
         {
          "age": 19,
          "bmi": 35.15,
          "charges": 2134.9015,
          "children": 0
         },
         {
          "age": 43,
          "bmi": 35.2,
          "charges": 24833.798499999997,
          "children": 0.75
         },
         {
          "age": 44,
          "bmi": 35.245,
          "charges": 11899.472324999999,
          "children": 0.5
         },
         {
          "age": 42.5,
          "bmi": 35.3,
          "charges": 7272.504499999999,
          "children": 1.5
         },
         {
          "age": 20,
          "bmi": 35.31,
          "charges": 27724.28875,
          "children": 1
         },
         {
          "age": 26,
          "bmi": 35.42,
          "charges": 2322.6218,
          "children": 0
         },
         {
          "age": 28,
          "bmi": 35.435,
          "charges": 3268.84665,
          "children": 0
         },
         {
          "age": 29.666666666666668,
          "bmi": 35.53,
          "charges": 23457.148765,
          "children": 0
         },
         {
          "age": 22,
          "bmi": 35.6,
          "charges": 35585.576,
          "children": 0
         },
         {
          "age": 31,
          "bmi": 35.625,
          "charges": 16912.20275,
          "children": 2.3333333333333335
         },
         {
          "age": 43,
          "bmi": 35.64,
          "charges": 7345.7266,
          "children": 1
         },
         {
          "age": 58,
          "bmi": 35.7,
          "charges": 11362.755,
          "children": 0
         },
         {
          "age": 21,
          "bmi": 35.72,
          "charges": 2404.7338,
          "children": 0
         },
         {
          "age": 41,
          "bmi": 35.75,
          "charges": 40273.6455,
          "children": 1
         },
         {
          "age": 49,
          "bmi": 35.8,
          "charges": 9417.112,
          "children": 1.5
         },
         {
          "age": 42,
          "bmi": 35.815,
          "charges": 7544.504349999999,
          "children": 1
         },
         {
          "age": 36.5,
          "bmi": 35.86,
          "charges": 5055.6709,
          "children": 0
         },
         {
          "age": 53,
          "bmi": 35.9,
          "charges": 11163.568,
          "children": 2
         },
         {
          "age": 54.5,
          "bmi": 35.91,
          "charges": 20013.949095,
          "children": 0.5
         },
         {
          "age": 50,
          "bmi": 35.97,
          "charges": 18246.2133,
          "children": 1.5
         },
         {
          "age": 22,
          "bmi": 36,
          "charges": 2166.732,
          "children": 0
         },
         {
          "age": 60,
          "bmi": 36.005,
          "charges": 13228.84695,
          "children": 0
         },
         {
          "age": 48.666666666666664,
          "bmi": 36.08,
          "charges": 20118.591866666666,
          "children": 0.6666666666666666
         },
         {
          "age": 58.5,
          "bmi": 36.1,
          "charges": 20152.41729,
          "children": 3
         },
         {
          "age": 42,
          "bmi": 36.19,
          "charges": 30445.393315000005,
          "children": 0
         },
         {
          "age": 42,
          "bmi": 36.195,
          "charges": 7443.64305,
          "children": 1
         },
         {
          "age": 48.5,
          "bmi": 36.2,
          "charges": 8263.0015,
          "children": 0.5
         },
         {
          "age": 33,
          "bmi": 36.29,
          "charges": 6551.7501,
          "children": 3
         },
         {
          "age": 45.666666666666664,
          "bmi": 36.3,
          "charges": 31547.470666666664,
          "children": 1.6666666666666667
         },
         {
          "age": 61,
          "bmi": 36.385,
          "charges": 48517.56315,
          "children": 1
         },
         {
          "age": 28,
          "bmi": 36.4,
          "charges": 51194.55914,
          "children": 1
         },
         {
          "age": 58,
          "bmi": 36.48,
          "charges": 12235.8392,
          "children": 0
         },
         {
          "age": 59,
          "bmi": 36.52,
          "charges": 28287.89766,
          "children": 1
         },
         {
          "age": 19,
          "bmi": 36.575,
          "charges": 2136.88225,
          "children": 0
         },
         {
          "age": 42.333333333333336,
          "bmi": 36.63,
          "charges": 19433.6967,
          "children": 2
         },
         {
          "age": 44.666666666666664,
          "bmi": 36.67,
          "charges": 26363.776536666668,
          "children": 1.3333333333333333
         },
         {
          "age": 52,
          "bmi": 36.7,
          "charges": 9144.565,
          "children": 0
         },
         {
          "age": 61,
          "bmi": 36.765,
          "charges": 30939.32085,
          "children": 0.5
         },
         {
          "age": 37.75,
          "bmi": 36.85,
          "charges": 6294.472750000001,
          "children": 0
         },
         {
          "age": 57.5,
          "bmi": 36.86,
          "charges": 39140.72173,
          "children": 2
         },
         {
          "age": 44,
          "bmi": 36.955,
          "charges": 8023.13545,
          "children": 1
         },
         {
          "age": 35.5,
          "bmi": 37,
          "charges": 6814.611500000001,
          "children": 2.5
         },
         {
          "age": 41,
          "bmi": 37.05,
          "charges": 7265.7025,
          "children": 2
         },
         {
          "age": 29.5,
          "bmi": 37.07,
          "charges": 38678.076799999995,
          "children": 1.5
         },
         {
          "age": 45.75,
          "bmi": 37.1,
          "charges": 8427.437249999999,
          "children": 1
         },
         {
          "age": 32,
          "bmi": 37.145,
          "charges": 6334.34355,
          "children": 3
         },
         {
          "age": 42,
          "bmi": 37.18,
          "charges": 7162.0122,
          "children": 2
         },
         {
          "age": 28.25,
          "bmi": 37.29,
          "charges": 4099.29785,
          "children": 1.25
         },
         {
          "age": 34,
          "bmi": 37.335,
          "charges": 5989.52365,
          "children": 2
         },
         {
          "age": 55.5,
          "bmi": 37.4,
          "charges": 15715.7692,
          "children": 0
         },
         {
          "age": 41.5,
          "bmi": 37.43,
          "charges": 8194.2112,
          "children": 2
         },
         {
          "age": 52.5,
          "bmi": 37.51,
          "charges": 10785.1044,
          "children": 2
         },
         {
          "age": 52,
          "bmi": 37.525,
          "charges": 33471.97189,
          "children": 2
         },
         {
          "age": 22,
          "bmi": 37.62,
          "charges": 37165.1638,
          "children": 1
         },
         {
          "age": 63,
          "bmi": 37.7,
          "charges": 48824.45,
          "children": 0
         },
         {
          "age": 55,
          "bmi": 37.715,
          "charges": 30063.58055,
          "children": 3
         },
         {
          "age": 51,
          "bmi": 37.73,
          "charges": 9877.6077,
          "children": 1
         },
         {
          "age": 30,
          "bmi": 37.8,
          "charges": 39241.442,
          "children": 2
         },
         {
          "age": 42,
          "bmi": 37.9,
          "charges": 6474.013000000001,
          "children": 0
         },
         {
          "age": 64,
          "bmi": 37.905,
          "charges": 14210.53595,
          "children": 0
         },
         {
          "age": 34,
          "bmi": 38,
          "charges": 6196.448,
          "children": 3
         },
         {
          "age": 47,
          "bmi": 38.06,
          "charges": 32692.328294,
          "children": 1.2
         },
         {
          "age": 42.666666666666664,
          "bmi": 38.095,
          "charges": 32905.48159666667,
          "children": 1.6666666666666667
         },
         {
          "age": 32,
          "bmi": 38.17,
          "charges": 4989.4163,
          "children": 1
         },
         {
          "age": 64,
          "bmi": 38.19,
          "charges": 14410.9321,
          "children": 0
         },
         {
          "age": 18,
          "bmi": 38.28,
          "charges": 7882.429475,
          "children": 0
         },
         {
          "age": 56.5,
          "bmi": 38.38,
          "charges": 12173.485700000001,
          "children": 1
         },
         {
          "age": 34.5,
          "bmi": 38.39,
          "charges": 23206.2246,
          "children": 2.5
         },
         {
          "age": 52,
          "bmi": 38.6,
          "charges": 10325.206,
          "children": 2
         },
         {
          "age": 18,
          "bmi": 38.665,
          "charges": 3393.35635,
          "children": 2
         },
         {
          "age": 46,
          "bmi": 38.83,
          "charges": 15972.25881,
          "children": 0.5
         },
         {
          "age": 33,
          "bmi": 38.9,
          "charges": 5972.3780000000015,
          "children": 3
         },
         {
          "age": 29,
          "bmi": 38.94,
          "charges": 3471.4096,
          "children": 1
         },
         {
          "age": 44,
          "bmi": 38.95,
          "charges": 42983.4585,
          "children": 0
         },
         {
          "age": 44,
          "bmi": 39.05,
          "charges": 26394.4205,
          "children": 1.5
         },
         {
          "age": 18,
          "bmi": 39.14,
          "charges": 12890.05765,
          "children": 0
         },
         {
          "age": 64,
          "bmi": 39.16,
          "charges": 14418.2804,
          "children": 1
         },
         {
          "age": 62,
          "bmi": 39.2,
          "charges": 13470.86,
          "children": 0
         },
         {
          "age": 23,
          "bmi": 39.27,
          "charges": 3500.6123,
          "children": 2
         },
         {
          "age": 64,
          "bmi": 39.33,
          "charges": 14901.5167,
          "children": 0
         },
         {
          "age": 20,
          "bmi": 39.4,
          "charges": 38344.566,
          "children": 2
         },
         {
          "age": 26,
          "bmi": 39.49,
          "charges": 2951.3541,
          "children": 0.5
         },
         {
          "age": 36.5,
          "bmi": 39.5,
          "charges": 5781.3324999999995,
          "children": 0.5
         },
         {
          "age": 53.5,
          "bmi": 39.6,
          "charges": 10515.1315,
          "children": 1
         },
         {
          "age": 57.5,
          "bmi": 39.7,
          "charges": 11855.1885,
          "children": 0.5
         },
         {
          "age": 35,
          "bmi": 39.71,
          "charges": 19496.71917,
          "children": 4
         },
         {
          "age": 45,
          "bmi": 39.805,
          "charges": 7448.40395,
          "children": 0
         },
         {
          "age": 18,
          "bmi": 39.82,
          "charges": 1633.9618,
          "children": 0
         },
         {
          "age": 60,
          "bmi": 39.9,
          "charges": 48173.361,
          "children": 0
         },
         {
          "age": 45,
          "bmi": 39.995,
          "charges": 9704.66805,
          "children": 3
         },
         {
          "age": 36,
          "bmi": 40.15,
          "charges": 22965.2035,
          "children": 0
         },
         {
          "age": 22,
          "bmi": 40.185,
          "charges": 2709.35715,
          "children": 0
         },
         {
          "age": 29.5,
          "bmi": 40.26,
          "charges": 3671.8689,
          "children": 0
         },
         {
          "age": 42,
          "bmi": 40.37,
          "charges": 43896.3763,
          "children": 2
         },
         {
          "age": 46,
          "bmi": 40.375,
          "charges": 8733.22925,
          "children": 2
         },
         {
          "age": 20,
          "bmi": 40.47,
          "charges": 1984.4533,
          "children": 0
         },
         {
          "age": 64,
          "bmi": 40.48,
          "charges": 13831.1152,
          "children": 0
         },
         {
          "age": 46,
          "bmi": 40.565,
          "charges": 27461.367850000002,
          "children": 2
         },
         {
          "age": 51,
          "bmi": 40.66,
          "charges": 9875.6804,
          "children": 0
         },
         {
          "age": 60,
          "bmi": 40.92,
          "charges": 48673.5588,
          "children": 0
         },
         {
          "age": 57,
          "bmi": 40.945,
          "charges": 11566.30055,
          "children": 0
         },
         {
          "age": 32,
          "bmi": 41.1,
          "charges": 3989.841,
          "children": 0
         },
         {
          "age": 38.5,
          "bmi": 41.14,
          "charges": 25058.522100000002,
          "children": 0.5
         },
         {
          "age": 43.333333333333336,
          "bmi": 41.325,
          "charges": 13694.954393333333,
          "children": 1.3333333333333333
         },
         {
          "age": 40,
          "bmi": 41.42,
          "charges": 28476.73499,
          "children": 1
         },
         {
          "age": 55,
          "bmi": 41.47,
          "charges": 11295.635633333331,
          "children": 1.3333333333333333
         },
         {
          "age": 40,
          "bmi": 41.69,
          "charges": 5438.7491,
          "children": 0
         },
         {
          "age": 45.5,
          "bmi": 41.8,
          "charges": 26466.039500000003,
          "children": 1
         },
         {
          "age": 40.5,
          "bmi": 41.91,
          "charges": 13032.309570000001,
          "children": 0
         },
         {
          "age": 36.333333333333336,
          "bmi": 42.13,
          "charges": 30508.570366666667,
          "children": 0.6666666666666666
         },
         {
          "age": 18,
          "bmi": 42.24,
          "charges": 38792.6856,
          "children": 0
         },
         {
          "age": 46,
          "bmi": 42.35,
          "charges": 46151.1245,
          "children": 3
         },
         {
          "age": 33,
          "bmi": 42.4,
          "charges": 6666.243,
          "children": 5
         },
         {
          "age": 39,
          "bmi": 42.655,
          "charges": 5757.41345,
          "children": 0
         },
         {
          "age": 23,
          "bmi": 42.75,
          "charges": 40904.1995,
          "children": 1
         },
         {
          "age": 51,
          "bmi": 42.9,
          "charges": 47462.894,
          "children": 2
         },
         {
          "age": 18,
          "bmi": 43.01,
          "charges": 1149.3959,
          "children": 0
         },
         {
          "age": 30,
          "bmi": 43.12,
          "charges": 4753.6368,
          "children": 2
         },
         {
          "age": 35,
          "bmi": 43.34,
          "charges": 5846.9176,
          "children": 2
         },
         {
          "age": 61,
          "bmi": 43.4,
          "charges": 12574.049,
          "children": 0
         },
         {
          "age": 57,
          "bmi": 43.7,
          "charges": 11576.13,
          "children": 1
         },
         {
          "age": 31,
          "bmi": 44.22,
          "charges": 4130.1718,
          "children": 1
         },
         {
          "age": 50,
          "bmi": 44.77,
          "charges": 9058.7303,
          "children": 1
         },
         {
          "age": 19,
          "bmi": 44.88,
          "charges": 39722.7462,
          "children": 0
         },
         {
          "age": 47,
          "bmi": 45.32,
          "charges": 8569.8618,
          "children": 1
         },
         {
          "age": 25,
          "bmi": 45.54,
          "charges": 42112.2356,
          "children": 2
         },
         {
          "age": 27,
          "bmi": 45.9,
          "charges": 3693.428,
          "children": 2
         },
         {
          "age": 43,
          "bmi": 46.2,
          "charges": 45863.205,
          "children": 0
         },
         {
          "age": 34.5,
          "bmi": 46.53,
          "charges": 5561.0062,
          "children": 2.5
         },
         {
          "age": 52,
          "bmi": 46.75,
          "charges": 12592.5345,
          "children": 5
         },
         {
          "age": 47,
          "bmi": 47.52,
          "charges": 8083.9198,
          "children": 1
         },
         {
          "age": 46,
          "bmi": 48.07,
          "charges": 9432.9253,
          "children": 2
         },
         {
          "age": 58,
          "bmi": 49.06,
          "charges": 11381.3254,
          "children": 0
         },
         {
          "age": 23,
          "bmi": 50.38,
          "charges": 2438.0552,
          "children": 1
         },
         {
          "age": 22,
          "bmi": 52.58,
          "charges": 44501.3982,
          "children": 1
         }
        ]
       },
       "encoding": {
        "x": {
         "bin": {
          "maxbins": 60
         },
         "field": "bmi",
         "title": "BMI",
         "type": "quantitative"
        },
        "y": {
         "field": "charges",
         "title": "Charges",
         "type": "quantitative"
        }
       },
       "mark": "area",
       "title": "Charges VS BMI for each sex"
      },
      "image/png": "[encoded data removed]",
      "text/plain": [
       "<VegaLite 3 object>\n",
       "\n",
       "If you see this message, it means the renderer has not been properly enabled\n",
       "for the frontend that you are using. For more information, see\n",
       "https://altair-viz.github.io/user_guide/troubleshooting.html\n"
      ]
     },
     "execution_count": 38,
     "metadata": {},
     "output_type": "execute_result"
    }
   ],
   "source": [
    "training_df = X_train\n",
    "training_df['charges'] = y_train\n",
    "\n",
    "\n",
    "alt.Chart(training_df.groupby(['bmi']).mean().reset_index()).mark_area().encode(\n",
    "    alt.X('bmi:Q', title = 'BMI', bin=alt.Bin(maxbins=60)),\n",
    "    alt.Y('charges:Q', title = 'Charges')\n",
    ").properties(title='Charges VS BMI')"
   ]
  },
  {
   "cell_type": "markdown",
   "metadata": {},
   "source": [
    "The highest expenses seem to occur for people who have a BMI that is higher than 34. "
   ]
  },
  {
   "cell_type": "markdown",
   "metadata": {},
   "source": [
    "**Let's see how much money males and females spending for medical treatments during their lifetime**"
   ]
  },
  {
   "cell_type": "code",
   "execution_count": 36,
   "metadata": {},
   "outputs": [
    {
     "data": {
      "application/vnd.vegalite.v3+json": {
       "$schema": "https://vega.github.io/schema/vega-lite/v3.4.0.json",
       "config": {
        "mark": {
         "tooltip": null
        },
        "view": {
         "height": 300,
         "width": 400
        }
       },
       "data": {
        "name": "data-b509ca115f90f33bd64c78e9a6ce9ecc"
       },
       "datasets": {
        "data-b509ca115f90f33bd64c78e9a6ce9ecc": [
         {
          "age": 18,
          "bmi": 33.31590909090908,
          "charges": 5404.031395454545,
          "children": 0.3181818181818182,
          "sex": "female"
         },
         {
          "age": 18,
          "bmi": 29.881666666666664,
          "charges": 6736.837805,
          "children": 0.5416666666666666,
          "sex": "male"
         },
         {
          "age": 19,
          "bmi": 27.3652,
          "charges": 8582.068511599999,
          "children": 0.56,
          "sex": "female"
         },
         {
          "age": 19,
          "bmi": 27.641964285714288,
          "charges": 10205.318959642858,
          "children": 0.25,
          "sex": "male"
         },
         {
          "age": 20,
          "bmi": 30.1475,
          "charges": 6133.696122,
          "children": 0.7,
          "sex": "female"
         },
         {
          "age": 20,
          "bmi": 32.33909090909091,
          "charges": 12567.829322727273,
          "children": 1.4545454545454546,
          "sex": "male"
         },
         {
          "age": 21,
          "bmi": 30.7825,
          "charges": 7148.507215,
          "children": 1,
          "sex": "female"
         },
         {
          "age": 21,
          "bmi": 29.612000000000002,
          "charges": 4924.7033710000005,
          "children": 0.5,
          "sex": "male"
         },
         {
          "age": 22,
          "bmi": 28.368500000000004,
          "charges": 8947.262214999999,
          "children": 0.5,
          "sex": "female"
         },
         {
          "age": 22,
          "bmi": 33.96653846153846,
          "charges": 13493.553950000001,
          "children": 0.6923076923076923,
          "sex": "male"
         },
         {
          "age": 23,
          "bmi": 31.366666666666667,
          "charges": 14340.787324444445,
          "children": 0.8888888888888888,
          "sex": "female"
         },
         {
          "age": 23,
          "bmi": 32.471875,
          "charges": 2385.9129062499997,
          "children": 0.625,
          "sex": "male"
         },
         {
          "age": 24,
          "bmi": 27.331923076923083,
          "charges": 6884.345996923076,
          "children": 0.46153846153846156,
          "sex": "female"
         },
         {
          "age": 24,
          "bmi": 32.23857142857143,
          "charges": 13972.574954285712,
          "children": 0.5714285714285714,
          "sex": "male"
         },
         {
          "age": 25,
          "bmi": 30.688000000000006,
          "charges": 9329.918382,
          "children": 0.7,
          "sex": "female"
         },
         {
          "age": 25,
          "bmi": 29.239545454545453,
          "charges": 10234.720730000001,
          "children": 1.8181818181818181,
          "sex": "male"
         },
         {
          "age": 26,
          "bmi": 26.225,
          "charges": 7501.2695925,
          "children": 1.125,
          "sex": "female"
         },
         {
          "age": 26,
          "bmi": 28.38272727272727,
          "charges": 6109.667263636365,
          "children": 1,
          "sex": "male"
         },
         {
          "age": 27,
          "bmi": 25.0945,
          "charges": 10110.893375000003,
          "children": 0.9,
          "sex": "female"
         },
         {
          "age": 27,
          "bmi": 32.47611111111111,
          "charges": 8942.332127777778,
          "children": 0.7777777777777778,
          "sex": "male"
         },
         {
          "age": 28,
          "bmi": 27.386000000000003,
          "charges": 5761.511700000001,
          "children": 0.7,
          "sex": "female"
         },
         {
          "age": 28,
          "bmi": 30.883000000000003,
          "charges": 11826.108483999997,
          "children": 1.6,
          "sex": "male"
         },
         {
          "age": 29,
          "bmi": 28.938,
          "charges": 7173.43882,
          "children": 1.2,
          "sex": "female"
         },
         {
          "age": 29,
          "bmi": 31.349545454545456,
          "charges": 11037.759523636363,
          "children": 1.3636363636363635,
          "sex": "male"
         },
         {
          "age": 30,
          "bmi": 29.573499999999996,
          "charges": 11252.563665,
          "children": 1.8,
          "sex": "female"
         },
         {
          "age": 30,
          "bmi": 33.50600000000001,
          "charges": 14177.001161999997,
          "children": 1.6,
          "sex": "male"
         },
         {
          "age": 31,
          "bmi": 29.470000000000006,
          "charges": 9906.534242999998,
          "children": 1,
          "sex": "female"
         },
         {
          "age": 31,
          "bmi": 30.239615384615384,
          "charges": 12016.922219230768,
          "children": 1.6153846153846154,
          "sex": "male"
         },
         {
          "age": 32,
          "bmi": 31.103,
          "charges": 7202.650571,
          "children": 0.6,
          "sex": "female"
         },
         {
          "age": 32,
          "bmi": 32.051875,
          "charges": 8499.07035625,
          "children": 1.625,
          "sex": "male"
         },
         {
          "age": 33,
          "bmi": 30.53142857142857,
          "charges": 18806.983312857144,
          "children": 1.4285714285714286,
          "sex": "female"
         },
         {
          "age": 33,
          "bmi": 30.309999999999995,
          "charges": 11075.531256666667,
          "children": 1.8888888888888888,
          "sex": "male"
         },
         {
          "age": 34,
          "bmi": 30.213181818181816,
          "charges": 11802.545795454545,
          "children": 1.2727272727272727,
          "sex": "female"
         },
         {
          "age": 34,
          "bmi": 30.53666666666666,
          "charges": 15769.07613,
          "children": 0.6666666666666666,
          "sex": "male"
         },
         {
          "age": 35,
          "bmi": 32.42545454545455,
          "charges": 11853.381764545455,
          "children": 1.4545454545454546,
          "sex": "female"
         },
         {
          "age": 35,
          "bmi": 29.59777777777778,
          "charges": 13856.340052222222,
          "children": 1.7777777777777777,
          "sex": "male"
         },
         {
          "age": 36,
          "bmi": 26.986666666666668,
          "charges": 5830.2928,
          "children": 1.1666666666666667,
          "sex": "female"
         },
         {
          "age": 36,
          "bmi": 31.498,
          "charges": 12163.237219999999,
          "children": 1.4,
          "sex": "male"
         },
         {
          "age": 37,
          "bmi": 27.994999999999997,
          "charges": 18139.94305,
          "children": 1.2,
          "sex": "female"
         },
         {
          "age": 37,
          "bmi": 32.02375,
          "charges": 15584.82538166667,
          "children": 1.75,
          "sex": "male"
         },
         {
          "age": 38,
          "bmi": 28.05777777777778,
          "charges": 6556.95008888889,
          "children": 1.4444444444444444,
          "sex": "female"
         },
         {
          "age": 38,
          "bmi": 26.321875,
          "charges": 11841.93565625,
          "children": 1.5,
          "sex": "male"
         },
         {
          "age": 39,
          "bmi": 31.214375000000004,
          "charges": 9071.16223125,
          "children": 2.625,
          "sex": "female"
         },
         {
          "age": 39,
          "bmi": 30.215000000000003,
          "charges": 14169.9979975,
          "children": 1.375,
          "sex": "male"
         },
         {
          "age": 40,
          "bmi": 30.073124999999997,
          "charges": 16781.00300875,
          "children": 2.375,
          "sex": "female"
         },
         {
          "age": 40,
          "bmi": 31.30944444444444,
          "charges": 10234.095127777779,
          "children": 1.5555555555555556,
          "sex": "male"
         },
         {
          "age": 41,
          "bmi": 31.620555555555555,
          "charges": 7829.714393333333,
          "children": 1.2222222222222223,
          "sex": "female"
         },
         {
          "age": 41,
          "bmi": 32.39944444444444,
          "charges": 10581.988227777776,
          "children": 1.4444444444444444,
          "sex": "male"
         },
         {
          "age": 42,
          "bmi": 32.3575,
          "charges": 13615.534925,
          "children": 0.9,
          "sex": "female"
         },
         {
          "age": 42,
          "bmi": 30.599545454545453,
          "charges": 11718.932249090909,
          "children": 1.0909090909090908,
          "sex": "male"
         },
         {
          "age": 43,
          "bmi": 30.708333333333332,
          "charges": 20107.394916666668,
          "children": 1.2222222222222223,
          "sex": "female"
         },
         {
          "age": 43,
          "bmi": 30.620555555555555,
          "charges": 23192.82463333333,
          "children": 2.111111111111111,
          "sex": "male"
         },
         {
          "age": 44,
          "bmi": 29.54909090909091,
          "charges": 15804.107528181823,
          "children": 0.9090909090909091,
          "sex": "female"
         },
         {
          "age": 44,
          "bmi": 30.047500000000003,
          "charges": 14703.623171250001,
          "children": 1.5,
          "sex": "male"
         },
         {
          "age": 45,
          "bmi": 31.955833333333334,
          "charges": 13442.225489166667,
          "children": 1.3333333333333333,
          "sex": "female"
         },
         {
          "age": 45,
          "bmi": 28.033749999999998,
          "charges": 8121.291912500001,
          "children": 1.75,
          "sex": "male"
         },
         {
          "age": 46,
          "bmi": 31.689444444444444,
          "charges": 13799.430216666668,
          "children": 1.2222222222222223,
          "sex": "female"
         },
         {
          "age": 46,
          "bmi": 31.617222222222225,
          "charges": 17940.031646666666,
          "children": 1.6666666666666667,
          "sex": "male"
         },
         {
          "age": 47,
          "bmi": 30.43909090909091,
          "charges": 18672.563868181816,
          "children": 1,
          "sex": "female"
         },
         {
          "age": 47,
          "bmi": 30.709999999999997,
          "charges": 18115.708483333332,
          "children": 1.6666666666666667,
          "sex": "male"
         },
         {
          "age": 48,
          "bmi": 29.841250000000002,
          "charges": 14537.867453333334,
          "children": 1.1666666666666667,
          "sex": "female"
         },
         {
          "age": 48,
          "bmi": 33.005,
          "charges": 12915.002447500001,
          "children": 1.5,
          "sex": "male"
         },
         {
          "age": 49,
          "bmi": 29.831000000000007,
          "charges": 9955.628090000002,
          "children": 1.9,
          "sex": "female"
         },
         {
          "age": 49,
          "bmi": 30.399545454545454,
          "charges": 14474.114731818177,
          "children": 1.0909090909090908,
          "sex": "male"
         },
         {
          "age": 50,
          "bmi": 27.919999999999998,
          "charges": 14274.682890000002,
          "children": 1.5,
          "sex": "female"
         },
         {
          "age": 50,
          "bmi": 31.53611111111111,
          "charges": 22284.647482222223,
          "children": 0.7777777777777778,
          "sex": "male"
         },
         {
          "age": 51,
          "bmi": 34.19954545454545,
          "charges": 16151.953095454546,
          "children": 0.7272727272727273,
          "sex": "female"
         },
         {
          "age": 51,
          "bmi": 32.708999999999996,
          "charges": 13381.538509999998,
          "children": 1.1,
          "sex": "male"
         },
         {
          "age": 52,
          "bmi": 31.490416666666665,
          "charges": 16112.152381666669,
          "children": 1.1666666666666667,
          "sex": "female"
         },
         {
          "age": 52,
          "bmi": 33.25409090909091,
          "charges": 20671.832715454544,
          "children": 1.5454545454545454,
          "sex": "male"
         },
         {
          "age": 53,
          "bmi": 31.1435,
          "charges": 18039.414190999996,
          "children": 1.7,
          "sex": "female"
         },
         {
          "age": 53,
          "bmi": 30.49666666666667,
          "charges": 15854.406652222222,
          "children": 0.7777777777777778,
          "sex": "male"
         },
         {
          "age": 54,
          "bmi": 30.398124999999997,
          "charges": 11657.88639375,
          "children": 1.75,
          "sex": "female"
         },
         {
          "age": 54,
          "bmi": 30.201,
          "charges": 20424.247513,
          "children": 1.2,
          "sex": "male"
         },
         {
          "age": 55,
          "bmi": 30.925454545454546,
          "charges": 16792.480251818182,
          "children": 1,
          "sex": "female"
         },
         {
          "age": 55,
          "bmi": 32.73285714285714,
          "charges": 15203.52018857143,
          "children": 1.1428571428571428,
          "sex": "male"
         },
         {
          "age": 56,
          "bmi": 30.457,
          "charges": 11955.90323,
          "children": 0.9,
          "sex": "female"
         },
         {
          "age": 56,
          "bmi": 31.092142857142854,
          "charges": 20769.211792857146,
          "children": 1.2857142857142858,
          "sex": "male"
         },
         {
          "age": 57,
          "bmi": 26.651111111111113,
          "charges": 14974.410701111112,
          "children": 0.6666666666666666,
          "sex": "female"
         },
         {
          "age": 57,
          "bmi": 33.085,
          "charges": 17376.96903888889,
          "children": 0.4444444444444444,
          "sex": "male"
         },
         {
          "age": 58,
          "bmi": 32.356818181818184,
          "charges": 13323.739826363639,
          "children": 0.18181818181818182,
          "sex": "female"
         },
         {
          "age": 58,
          "bmi": 33.03875,
          "charges": 11601.3058625,
          "children": 0.125,
          "sex": "male"
         },
         {
          "age": 59,
          "bmi": 30.319583333333338,
          "charges": 20619.042628333336,
          "children": 1.5833333333333333,
          "sex": "female"
         },
         {
          "age": 59,
          "bmi": 32.48142857142857,
          "charges": 21554.715242857143,
          "children": 1.1428571428571428,
          "sex": "male"
         },
         {
          "age": 60,
          "bmi": 28.47357142857143,
          "charges": 19891.30245285714,
          "children": 0,
          "sex": "female"
         },
         {
          "age": 60,
          "bmi": 32.579375,
          "charges": 33198.96231875,
          "children": 0.875,
          "sex": "male"
         },
         {
          "age": 61,
          "bmi": 29.492499999999996,
          "charges": 23134.46681833333,
          "children": 0.8333333333333334,
          "sex": "female"
         },
         {
          "age": 61,
          "bmi": 34.986875,
          "charges": 21194.81420375,
          "children": 0.875,
          "sex": "male"
         },
         {
          "age": 62,
          "bmi": 33.62142857142857,
          "charges": 18719.70630857143,
          "children": 0.7142857142857143,
          "sex": "female"
         },
         {
          "age": 62,
          "bmi": 30.320714285714292,
          "charges": 20071.768982857142,
          "children": 0.7142857142857143,
          "sex": "male"
         },
         {
          "age": 63,
          "bmi": 30.285500000000006,
          "charges": 23980.96184499999,
          "children": 0.3,
          "sex": "female"
         },
         {
          "age": 63,
          "bmi": 34.40785714285714,
          "charges": 18816.575349999996,
          "children": 0.5714285714285714,
          "sex": "male"
         },
         {
          "age": 64,
          "bmi": 32.406875,
          "charges": 22292.840431250002,
          "children": 0.625,
          "sex": "female"
         },
         {
          "age": 64,
          "bmi": 33.13055555555555,
          "charges": 21073.832491111112,
          "children": 0.4444444444444444,
          "sex": "male"
         }
        ]
       },
       "encoding": {
        "color": {
         "field": "sex",
         "type": "nominal"
        },
        "x": {
         "field": "age",
         "title": "Age",
         "type": "nominal"
        },
        "y": {
         "field": "charges",
         "title": "Charges",
         "type": "quantitative"
        }
       },
       "mark": {
        "point": true,
        "type": "line"
       },
       "title": "Charges VS age for each sex"
      },
      "image/png": "[encoded data removed]",
      "text/plain": [
       "<VegaLite 3 object>\n",
       "\n",
       "If you see this message, it means the renderer has not been properly enabled\n",
       "for the frontend that you are using. For more information, see\n",
       "https://altair-viz.github.io/user_guide/troubleshooting.html\n"
      ]
     },
     "execution_count": 36,
     "metadata": {},
     "output_type": "execute_result"
    }
   ],
   "source": [
    "training_df = X_train\n",
    "training_df['charges'] = y_train\n",
    "\n",
    "\n",
    "alt.Chart(training_df.groupby(['age','sex']).mean().reset_index()).mark_line(point = True).encode(\n",
    "    alt.X('age:N', title = 'Age'),\n",
    "    alt.Y('charges:Q', title = 'Charges'),\n",
    "    alt.Color('sex:N')\n",
    ").properties(title='Charges VS age for each sex')"
   ]
  },
  {
   "cell_type": "markdown",
   "metadata": {},
   "source": [
    "The expenses seem to grow with age for both males and females. There is a peak in the male charges around the age of 60. The increase we noticed before that occurs at the age of 43 happens to both genders. "
   ]
  },
  {
   "cell_type": "markdown",
   "metadata": {},
   "source": [
    "**Let's see how smokers and non smokers are spending for medical treatments during their lifetime**\n",
    "\n",
    "We expect expenditures by smokers should be higher than the non smokers."
   ]
  },
  {
   "cell_type": "code",
   "execution_count": 35,
   "metadata": {},
   "outputs": [
    {
     "data": {
      "application/vnd.vegalite.v3+json": {
       "$schema": "https://vega.github.io/schema/vega-lite/v3.4.0.json",
       "config": {
        "mark": {
         "tooltip": null
        },
        "view": {
         "height": 300,
         "width": 400
        }
       },
       "data": {
        "name": "data-03b2ec987c1f3cc635cf51fa4e89ce01"
       },
       "datasets": {
        "data-03b2ec987c1f3cc635cf51fa4e89ce01": [
         {
          "age": 18,
          "bmi": 31.715874999999993,
          "charges": 3134.2400192500004,
          "children": 0.375,
          "smoker": "no"
         },
         {
          "age": 18,
          "bmi": 30.245833333333334,
          "charges": 25867.199541666672,
          "children": 0.8333333333333334,
          "smoker": "yes"
         },
         {
          "age": 19,
          "bmi": 26.31705128205128,
          "charges": 3596.027257948719,
          "children": 0.5384615384615384,
          "smoker": "no"
         },
         {
          "age": 19,
          "bmi": 30.83857142857143,
          "charges": 25718.25575714286,
          "children": 0,
          "smoker": "yes"
         },
         {
          "age": 20,
          "bmi": 31.707187500000003,
          "charges": 4085.96098125,
          "children": 1.0625,
          "smoker": "no"
         },
         {
          "age": 20,
          "bmi": 29.978,
          "charges": 26841.541613999998,
          "children": 1.2,
          "smoker": "yes"
         },
         {
          "age": 21,
          "bmi": 30.926875000000003,
          "charges": 4570.867558125,
          "children": 0.5,
          "smoker": "no"
         },
         {
          "age": 21,
          "bmi": 23.775,
          "charges": 16650.60525,
          "children": 2.5,
          "smoker": "yes"
         },
         {
          "age": 22,
          "bmi": 29.468235294117648,
          "charges": 2391.1234352941183,
          "children": 0.4117647058823529,
          "smoker": "no"
         },
         {
          "age": 22,
          "bmi": 37.38166666666667,
          "charges": 37373.28751666666,
          "children": 1.1666666666666667,
          "smoker": "yes"
         },
         {
          "age": 23,
          "bmi": 31.389,
          "charges": 5928.130104666667,
          "children": 0.7333333333333333,
          "smoker": "no"
         },
         {
          "age": 23,
          "bmi": 35.62,
          "charges": 29616.218800000002,
          "children": 1,
          "smoker": "yes"
         },
         {
          "age": 24,
          "bmi": 28.779411764705888,
          "charges": 5903.078352352942,
          "children": 0.5882352941176471,
          "smoker": "no"
         },
         {
          "age": 24,
          "bmi": 30.578333333333333,
          "charges": 28984.063550000003,
          "children": 0,
          "smoker": "yes"
         },
         {
          "age": 25,
          "bmi": 29.059722222222224,
          "charges": 6107.486958333334,
          "children": 1.2222222222222223,
          "smoker": "no"
         },
         {
          "age": 25,
          "bmi": 35.14666666666667,
          "charges": 31982.11553333333,
          "children": 1.6666666666666667,
          "smoker": "yes"
         },
         {
          "age": 26,
          "bmi": 27.75970588235294,
          "charges": 4510.331387647059,
          "children": 0.9411764705882353,
          "smoker": "no"
         },
         {
          "age": 26,
          "bmi": 25.0475,
          "charges": 25270.431525,
          "children": 2,
          "smoker": "yes"
         },
         {
          "age": 27,
          "bmi": 29.275000000000002,
          "charges": 5404.4692642857135,
          "children": 0.7857142857142857,
          "smoker": "no"
         },
         {
          "age": 27,
          "bmi": 26.676,
          "charges": 21185.47064,
          "children": 1,
          "smoker": "yes"
         },
         {
          "age": 28,
          "bmi": 28.589444444444446,
          "charges": 5000.527527777777,
          "children": 1.2222222222222223,
          "smoker": "no"
         },
         {
          "age": 28,
          "bmi": 34.04,
          "charges": 42933.35317,
          "children": 0.5,
          "smoker": "yes"
         },
         {
          "age": 29,
          "bmi": 30.513928571428576,
          "charges": 7284.076447142857,
          "children": 1.4285714285714286,
          "smoker": "no"
         },
         {
          "age": 29,
          "bmi": 31.17,
          "charges": 27652.7393,
          "children": 0.5,
          "smoker": "yes"
         },
         {
          "age": 30,
          "bmi": 31.263571428571428,
          "charges": 5581.263379999999,
          "children": 1.5714285714285714,
          "smoker": "no"
         },
         {
          "age": 30,
          "bmi": 32.18416666666666,
          "charges": 29359.660158333336,
          "children": 2,
          "smoker": "yes"
         },
         {
          "age": 31,
          "bmi": 29.073333333333338,
          "charges": 4483.699377777778,
          "children": 1.2222222222222223,
          "smoker": "no"
         },
         {
          "age": 31,
          "bmi": 32.899,
          "charges": 34915.748496,
          "children": 1.8,
          "smoker": "yes"
         },
         {
          "age": 32,
          "bmi": 32.38633333333334,
          "charges": 5422.039270666666,
          "children": 0.9333333333333333,
          "smoker": "no"
         },
         {
          "age": 32,
          "bmi": 27.21666666666667,
          "charges": 19562.8265,
          "children": 1.6666666666666667,
          "smoker": "yes"
         },
         {
          "age": 33,
          "bmi": 31.49909090909091,
          "charges": 7762.925755454547,
          "children": 2.1818181818181817,
          "smoker": "no"
         },
         {
          "age": 33,
          "bmi": 28.004,
          "charges": 29187.296238000003,
          "children": 0.6,
          "smoker": "yes"
         },
         {
          "age": 34,
          "bmi": 30.564230769230768,
          "charges": 6794.813279230769,
          "children": 1.0769230769230769,
          "smoker": "no"
         },
         {
          "age": 34,
          "bmi": 29.5575,
          "charges": 34027.471975,
          "children": 1,
          "smoker": "yes"
         },
         {
          "age": 35,
          "bmi": 31.473333333333333,
          "charges": 7650.374032000001,
          "children": 1.5333333333333334,
          "smoker": "no"
         },
         {
          "age": 35,
          "bmi": 30.191999999999997,
          "charges": 28067.72988,
          "children": 1.8,
          "smoker": "yes"
         },
         {
          "age": 36,
          "bmi": 29.09071428571428,
          "charges": 5725.8840928571435,
          "children": 1.4285714285714286,
          "smoker": "no"
         },
         {
          "age": 36,
          "bmi": 34.815,
          "charges": 38225.87585,
          "children": 0.5,
          "smoker": "yes"
         },
         {
          "age": 37,
          "bmi": 30.559545454545454,
          "charges": 7410.011534545455,
          "children": 1.8181818181818181,
          "smoker": "no"
         },
         {
          "age": 37,
          "bmi": 31.35083333333333,
          "charges": 32701.24882499999,
          "children": 1.1666666666666667,
          "smoker": "yes"
         },
         {
          "age": 38,
          "bmi": 27.026999999999997,
          "charges": 6398.539529999999,
          "children": 1.4666666666666666,
          "smoker": "no"
         },
         {
          "age": 38,
          "bmi": 28.845,
          "charges": 28884.971550000002,
          "children": 1.5,
          "smoker": "yes"
         },
         {
          "age": 39,
          "bmi": 31.825833333333335,
          "charges": 8381.318756666666,
          "children": 2.25,
          "smoker": "no"
         },
         {
          "age": 39,
          "bmi": 27.381249999999998,
          "charges": 21338.3641875,
          "children": 1.25,
          "smoker": "yes"
         },
         {
          "age": 40,
          "bmi": 31.042857142857144,
          "charges": 9127.282137142856,
          "children": 2,
          "smoker": "no"
         },
         {
          "age": 40,
          "bmi": 29.256666666666664,
          "charges": 32857.64343333334,
          "children": 1.6666666666666667,
          "smoker": "yes"
         },
         {
          "age": 41,
          "bmi": 31.789999999999996,
          "charges": 7378.334005294117,
          "children": 1.3529411764705883,
          "smoker": "no"
         },
         {
          "age": 41,
          "bmi": 35.75,
          "charges": 40273.6455,
          "children": 1,
          "smoker": "yes"
         },
         {
          "age": 42,
          "bmi": 32.458666666666666,
          "charges": 7027.116213333333,
          "children": 1.0666666666666667,
          "smoker": "no"
         },
         {
          "age": 42,
          "bmi": 28.88166666666667,
          "charges": 26609.476798333333,
          "children": 0.8333333333333334,
          "smoker": "yes"
         },
         {
          "age": 43,
          "bmi": 29.419999999999998,
          "charges": 8432.82195,
          "children": 1.8888888888888888,
          "smoker": "no"
         },
         {
          "age": 43,
          "bmi": 31.908888888888896,
          "charges": 34867.3976,
          "children": 1.4444444444444444,
          "smoker": "yes"
         },
         {
          "age": 44,
          "bmi": 29.12166666666667,
          "charges": 9363.617994666669,
          "children": 1.3333333333333333,
          "smoker": "no"
         },
         {
          "age": 44,
          "bmi": 32.14875,
          "charges": 37754.974565000004,
          "children": 0.5,
          "smoker": "yes"
         },
         {
          "age": 45,
          "bmi": 30.381315789473685,
          "charges": 9818.501216842107,
          "children": 1.5263157894736843,
          "smoker": "no"
         },
         {
          "age": 45,
          "bmi": 30.495,
          "charges": 39725.51805,
          "children": 1,
          "smoker": "yes"
         },
         {
          "age": 46,
          "bmi": 31.266428571428577,
          "charges": 9642.466647857143,
          "children": 1.3571428571428572,
          "smoker": "no"
         },
         {
          "age": 46,
          "bmi": 33.0075,
          "charges": 37665.155925,
          "children": 1.75,
          "smoker": "yes"
         },
         {
          "age": 47,
          "bmi": 30.673214285714284,
          "charges": 10908.84432857143,
          "children": 1.3571428571428572,
          "smoker": "no"
         },
         {
          "age": 47,
          "bmi": 30.436111111111114,
          "charges": 30006.98708333333,
          "children": 1.3333333333333333,
          "smoker": "yes"
         },
         {
          "age": 48,
          "bmi": 31.77119047619048,
          "charges": 11462.43182904762,
          "children": 1.3333333333333333,
          "smoker": "no"
         },
         {
          "age": 48,
          "bmi": 28.986666666666668,
          "charges": 29574.4568,
          "children": 1.3333333333333333,
          "smoker": "yes"
         },
         {
          "age": 49,
          "bmi": 30.575833333333335,
          "charges": 9551.674519444445,
          "children": 1.5,
          "smoker": "no"
         },
         {
          "age": 49,
          "bmi": 27.44666666666667,
          "charges": 28947.133866666667,
          "children": 1.3333333333333333,
          "smoker": "yes"
         },
         {
          "age": 50,
          "bmi": 29.418333333333337,
          "charges": 13361.4023275,
          "children": 1.0833333333333333,
          "smoker": "no"
         },
         {
          "age": 50,
          "bmi": 32.775,
          "charges": 41957.69891666667,
          "children": 1,
          "smoker": "yes"
         },
         {
          "age": 51,
          "bmi": 32.63138888888889,
          "charges": 9721.242852777777,
          "children": 0.8333333333333334,
          "smoker": "no"
         },
         {
          "age": 51,
          "bmi": 38.64000000000001,
          "charges": 45501.49926666667,
          "children": 1.3333333333333333,
          "smoker": "yes"
         },
         {
          "age": 52,
          "bmi": 32.80083333333333,
          "charges": 13306.325404444446,
          "children": 1.1666666666666667,
          "smoker": "no"
         },
         {
          "age": 52,
          "bmi": 30.653,
          "charges": 36244.426234,
          "children": 2,
          "smoker": "yes"
         },
         {
          "age": 53,
          "bmi": 31.29666666666667,
          "charges": 12336.651088666666,
          "children": 1.1333333333333333,
          "smoker": "no"
         },
         {
          "age": 53,
          "bmi": 29.11375,
          "charges": 34508.508862500006,
          "children": 1.75,
          "smoker": "yes"
         },
         {
          "age": 54,
          "bmi": 29.91533333333334,
          "charges": 12104.971395333332,
          "children": 1.2666666666666666,
          "smoker": "no"
         },
         {
          "age": 54,
          "bmi": 32.155,
          "charges": 38643.66511666666,
          "children": 2.3333333333333335,
          "smoker": "yes"
         },
         {
          "age": 55,
          "bmi": 31.418235294117654,
          "charges": 14512.830652352943,
          "children": 1.1176470588235294,
          "smoker": "no"
         },
         {
          "age": 55,
          "bmi": 35.2,
          "charges": 44423.803,
          "children": 0,
          "smoker": "yes"
         },
         {
          "age": 56,
          "bmi": 30.453000000000007,
          "charges": 11813.89767,
          "children": 1.0666666666666667,
          "smoker": "no"
         },
         {
          "age": 56,
          "bmi": 32.71,
          "charges": 43867.524900000004,
          "children": 1,
          "smoker": "yes"
         },
         {
          "age": 57,
          "bmi": 29.113999999999997,
          "charges": 12515.636654,
          "children": 0.6,
          "smoker": "no"
         },
         {
          "age": 57,
          "bmi": 33.638333333333335,
          "charges": 34475.955949999996,
          "children": 0.3333333333333333,
          "smoker": "yes"
         },
         {
          "age": 58,
          "bmi": 32.64394736842105,
          "charges": 12598.504473157891,
          "children": 0.15789473684210525,
          "smoker": "no"
         },
         {
          "age": 59,
          "bmi": 30.65433333333333,
          "charges": 16372.05094266667,
          "children": 1.4666666666666666,
          "smoker": "no"
         },
         {
          "age": 59,
          "bmi": 32.8475,
          "charges": 38182.688525,
          "children": 1.25,
          "smoker": "yes"
         },
         {
          "age": 60,
          "bmi": 28.252999999999997,
          "charges": 16425.358453,
          "children": 0.4,
          "smoker": "no"
         },
         {
          "age": 60,
          "bmi": 35.484,
          "charges": 48115.446238,
          "children": 0.6,
          "smoker": "yes"
         },
         {
          "age": 61,
          "bmi": 32.35045454545455,
          "charges": 16688.655226363637,
          "children": 0.8181818181818182,
          "smoker": "no"
         },
         {
          "age": 61,
          "bmi": 33.665,
          "charges": 41596.70235,
          "children": 1,
          "smoker": "yes"
         },
         {
          "age": 62,
          "bmi": 32.535833333333336,
          "charges": 16417.7865575,
          "children": 0.5833333333333334,
          "smoker": "no"
         },
         {
          "age": 62,
          "bmi": 28.5825,
          "charges": 37263.444175,
          "children": 1.5,
          "smoker": "yes"
         },
         {
          "age": 63,
          "bmi": 32.00000000000001,
          "charges": 14155.560333333333,
          "children": 0.4166666666666667,
          "smoker": "no"
         },
         {
          "age": 63,
          "bmi": 31.942,
          "charges": 40331.78438,
          "children": 0.4,
          "smoker": "yes"
         },
         {
          "age": 64,
          "bmi": 34.88458333333333,
          "charges": 15877.624001666669,
          "children": 0.5833333333333334,
          "smoker": "no"
         },
         {
          "age": 64,
          "bmi": 27.762999999999998,
          "charges": 35495.14557,
          "children": 0.4,
          "smoker": "yes"
         }
        ]
       },
       "encoding": {
        "color": {
         "field": "smoker",
         "type": "nominal"
        },
        "x": {
         "field": "age",
         "title": "Age",
         "type": "nominal"
        },
        "y": {
         "field": "charges",
         "title": "Charges",
         "type": "quantitative"
        }
       },
       "mark": {
        "point": true,
        "type": "line"
       },
       "title": "Charges VS age for smokers and non-smokers"
      },
      "image/png": "[encoded data removed]",
      "text/plain": [
       "<VegaLite 3 object>\n",
       "\n",
       "If you see this message, it means the renderer has not been properly enabled\n",
       "for the frontend that you are using. For more information, see\n",
       "https://altair-viz.github.io/user_guide/troubleshooting.html\n"
      ]
     },
     "execution_count": 35,
     "metadata": {},
     "output_type": "execute_result"
    }
   ],
   "source": [
    "alt.Chart(training_df.groupby(['age','smoker']).mean().reset_index()).mark_line(point = True).encode(\n",
    "    alt.X('age:N', title = 'Age'),\n",
    "    alt.Y('charges:Q', title = 'Charges'),\n",
    "    alt.Color('smoker:N')\n",
    ").properties(title='Charges VS age for smokers and non-smokers')"
   ]
  },
  {
   "cell_type": "markdown",
   "metadata": {},
   "source": [
    "Health expenses of smokers are a lot higher than the one of non-smokers. "
   ]
  },
  {
   "cell_type": "markdown",
   "metadata": {},
   "source": [
    "**Let's see how BMI is changing with Age for Males and Females**\n",
    "\n",
    "We are expecting both male and females have usual BMI."
   ]
  },
  {
   "cell_type": "code",
   "execution_count": 33,
   "metadata": {},
   "outputs": [
    {
     "data": {
      "application/vnd.vegalite.v3+json": {
       "$schema": "https://vega.github.io/schema/vega-lite/v3.4.0.json",
       "config": {
        "mark": {
         "tooltip": null
        },
        "view": {
         "height": 300,
         "width": 400
        }
       },
       "data": {
        "name": "data-99beab882dfa49ed1de0dc0ee2c7c9f9"
       },
       "datasets": {
        "data-99beab882dfa49ed1de0dc0ee2c7c9f9": [
         {
          "age": 36,
          "bmi": 27.55,
          "charges": 6746.7425,
          "children": 3,
          "region": "northeast",
          "sex": "male",
          "smoker": "no"
         },
         {
          "age": 60,
          "bmi": 35.1,
          "charges": 12644.589,
          "children": 0,
          "region": "southwest",
          "sex": "female",
          "smoker": "no"
         },
         {
          "age": 30,
          "bmi": 31.57,
          "charges": 4837.5823,
          "children": 3,
          "region": "southeast",
          "sex": "male",
          "smoker": "no"
         },
         {
          "age": 49,
          "bmi": 25.6,
          "charges": 23306.547,
          "children": 2,
          "region": "southwest",
          "sex": "male",
          "smoker": "yes"
         },
         {
          "age": 26,
          "bmi": 32.9,
          "charges": 36085.219,
          "children": 2,
          "region": "southwest",
          "sex": "male",
          "smoker": "yes"
         },
         {
          "age": 48,
          "bmi": 28.88,
          "charges": 9249.4952,
          "children": 1,
          "region": "northwest",
          "sex": "female",
          "smoker": "no"
         },
         {
          "age": 39,
          "bmi": 24.89,
          "charges": 21659.9301,
          "children": 3,
          "region": "northeast",
          "sex": "female",
          "smoker": "yes"
         },
         {
          "age": 44,
          "bmi": 22.135,
          "charges": 8302.53565,
          "children": 2,
          "region": "northeast",
          "sex": "male",
          "smoker": "no"
         },
         {
          "age": 63,
          "bmi": 32.2,
          "charges": 47305.305,
          "children": 2,
          "region": "southwest",
          "sex": "female",
          "smoker": "yes"
         },
         {
          "age": 48,
          "bmi": 27.265,
          "charges": 9447.25035,
          "children": 1,
          "region": "northeast",
          "sex": "female",
          "smoker": "no"
         },
         {
          "age": 29,
          "bmi": 27.94,
          "charges": 2867.1196,
          "children": 0,
          "region": "southeast",
          "sex": "male",
          "smoker": "no"
         },
         {
          "age": 28,
          "bmi": 35.435,
          "charges": 3268.84665,
          "children": 0,
          "region": "northeast",
          "sex": "male",
          "smoker": "no"
         },
         {
          "age": 40,
          "bmi": 22.705,
          "charges": 7173.35995,
          "children": 2,
          "region": "northeast",
          "sex": "male",
          "smoker": "no"
         },
         {
          "age": 58,
          "bmi": 22.77,
          "charges": 11833.7823,
          "children": 0,
          "region": "southeast",
          "sex": "female",
          "smoker": "no"
         },
         {
          "age": 34,
          "bmi": 27.5,
          "charges": 5003.853,
          "children": 1,
          "region": "southwest",
          "sex": "female",
          "smoker": "no"
         },
         {
          "age": 51,
          "bmi": 34.96,
          "charges": 44641.1974,
          "children": 2,
          "region": "northeast",
          "sex": "female",
          "smoker": "yes"
         },
         {
          "age": 53,
          "bmi": 34.105,
          "charges": 43254.41795,
          "children": 0,
          "region": "northeast",
          "sex": "male",
          "smoker": "yes"
         },
         {
          "age": 58,
          "bmi": 33.1,
          "charges": 11848.141,
          "children": 0,
          "region": "southwest",
          "sex": "female",
          "smoker": "no"
         },
         {
          "age": 52,
          "bmi": 37.525,
          "charges": 33471.97189,
          "children": 2,
          "region": "northwest",
          "sex": "female",
          "smoker": "no"
         },
         {
          "age": 19,
          "bmi": 28.88,
          "charges": 17748.5062,
          "children": 0,
          "region": "northwest",
          "sex": "female",
          "smoker": "yes"
         },
         {
          "age": 47,
          "bmi": 32,
          "charges": 8551.347,
          "children": 1,
          "region": "southwest",
          "sex": "female",
          "smoker": "no"
         },
         {
          "age": 48,
          "bmi": 33.33,
          "charges": 8283.6807,
          "children": 0,
          "region": "southeast",
          "sex": "female",
          "smoker": "no"
         },
         {
          "age": 45,
          "bmi": 30.495,
          "charges": 8413.46305,
          "children": 2,
          "region": "northwest",
          "sex": "male",
          "smoker": "no"
         },
         {
          "age": 34,
          "bmi": 35.815,
          "charges": 4320.41085,
          "children": 0,
          "region": "northwest",
          "sex": "male",
          "smoker": "no"
         },
         {
          "age": 63,
          "bmi": 27.74,
          "charges": 29523.1656,
          "children": 0,
          "region": "northeast",
          "sex": "female",
          "smoker": "yes"
         },
         {
          "age": 64,
          "bmi": 39.16,
          "charges": 14418.2804,
          "children": 1,
          "region": "southeast",
          "sex": "male",
          "smoker": "no"
         },
         {
          "age": 62,
          "bmi": 39.2,
          "charges": 13470.86,
          "children": 0,
          "region": "southwest",
          "sex": "female",
          "smoker": "no"
         },
         {
          "age": 63,
          "bmi": 35.09,
          "charges": 47055.5321,
          "children": 0,
          "region": "southeast",
          "sex": "male",
          "smoker": "yes"
         },
         {
          "age": 18,
          "bmi": 38.17,
          "charges": 1631.6683,
          "children": 0,
          "region": "southeast",
          "sex": "female",
          "smoker": "no"
         },
         {
          "age": 30,
          "bmi": 31.4,
          "charges": 3659.346,
          "children": 1,
          "region": "southwest",
          "sex": "male",
          "smoker": "no"
         },
         {
          "age": 19,
          "bmi": 36.575,
          "charges": 2136.88225,
          "children": 0,
          "region": "northwest",
          "sex": "female",
          "smoker": "no"
         },
         {
          "age": 49,
          "bmi": 35.86,
          "charges": 8124.4084,
          "children": 0,
          "region": "southeast",
          "sex": "male",
          "smoker": "no"
         },
         {
          "age": 19,
          "bmi": 21.7,
          "charges": 13844.506,
          "children": 0,
          "region": "southwest",
          "sex": "female",
          "smoker": "yes"
         },
         {
          "age": 18,
          "bmi": 26.18,
          "charges": 2304.0022,
          "children": 2,
          "region": "southeast",
          "sex": "male",
          "smoker": "no"
         },
         {
          "age": 36,
          "bmi": 27.74,
          "charges": 5469.0066,
          "children": 0,
          "region": "northeast",
          "sex": "female",
          "smoker": "no"
         },
         {
          "age": 18,
          "bmi": 42.24,
          "charges": 38792.6856,
          "children": 0,
          "region": "southeast",
          "sex": "female",
          "smoker": "yes"
         },
         {
          "age": 60,
          "bmi": 25.84,
          "charges": 28923.13692,
          "children": 0,
          "region": "northwest",
          "sex": "female",
          "smoker": "no"
         },
         {
          "age": 53,
          "bmi": 26.6,
          "charges": 10355.641,
          "children": 0,
          "region": "northwest",
          "sex": "female",
          "smoker": "no"
         },
         {
          "age": 58,
          "bmi": 23.3,
          "charges": 11345.518999999998,
          "children": 0,
          "region": "southwest",
          "sex": "male",
          "smoker": "no"
         },
         {
          "age": 18,
          "bmi": 25.175,
          "charges": 15518.18025,
          "children": 0,
          "region": "northeast",
          "sex": "male",
          "smoker": "yes"
         },
         {
          "age": 39,
          "bmi": 34.1,
          "charges": 23563.01618,
          "children": 2,
          "region": "southeast",
          "sex": "male",
          "smoker": "no"
         },
         {
          "age": 51,
          "bmi": 37.73,
          "charges": 9877.6077,
          "children": 1,
          "region": "southeast",
          "sex": "female",
          "smoker": "no"
         },
         {
          "age": 26,
          "bmi": 19.8,
          "charges": 3378.91,
          "children": 1,
          "region": "southwest",
          "sex": "female",
          "smoker": "no"
         },
         {
          "age": 19,
          "bmi": 28.9,
          "charges": 1743.214,
          "children": 0,
          "region": "southwest",
          "sex": "female",
          "smoker": "no"
         },
         {
          "age": 61,
          "bmi": 31.57,
          "charges": 12557.6053,
          "children": 0,
          "region": "southeast",
          "sex": "male",
          "smoker": "no"
         },
         {
          "age": 42,
          "bmi": 33.155,
          "charges": 7639.41745,
          "children": 1,
          "region": "northeast",
          "sex": "female",
          "smoker": "no"
         },
         {
          "age": 45,
          "bmi": 35.815,
          "charges": 7731.85785,
          "children": 0,
          "region": "northwest",
          "sex": "female",
          "smoker": "no"
         },
         {
          "age": 40,
          "bmi": 35.3,
          "charges": 7196.866999999998,
          "children": 3,
          "region": "southwest",
          "sex": "male",
          "smoker": "no"
         },
         {
          "age": 33,
          "bmi": 30.25,
          "charges": 3704.3545,
          "children": 0,
          "region": "southeast",
          "sex": "male",
          "smoker": "no"
         },
         {
          "age": 43,
          "bmi": 30.685,
          "charges": 8310.83915,
          "children": 2,
          "region": "northwest",
          "sex": "female",
          "smoker": "no"
         },
         {
          "age": 37,
          "bmi": 27.74,
          "charges": 7281.5056,
          "children": 3,
          "region": "northwest",
          "sex": "female",
          "smoker": "no"
         },
         {
          "age": 49,
          "bmi": 23.18,
          "charges": 10156.7832,
          "children": 2,
          "region": "northwest",
          "sex": "female",
          "smoker": "no"
         },
         {
          "age": 37,
          "bmi": 30.8,
          "charges": 4646.759,
          "children": 0,
          "region": "southwest",
          "sex": "male",
          "smoker": "no"
         },
         {
          "age": 31,
          "bmi": 32.775,
          "charges": 5327.40025,
          "children": 2,
          "region": "northwest",
          "sex": "female",
          "smoker": "no"
         },
         {
          "age": 20,
          "bmi": 30.115,
          "charges": 4915.05985,
          "children": 5,
          "region": "northeast",
          "sex": "male",
          "smoker": "no"
         },
         {
          "age": 30,
          "bmi": 37.43,
          "charges": 5428.7277,
          "children": 3,
          "region": "northeast",
          "sex": "male",
          "smoker": "no"
         },
         {
          "age": 50,
          "bmi": 23.54,
          "charges": 10107.2206,
          "children": 2,
          "region": "southeast",
          "sex": "female",
          "smoker": "no"
         },
         {
          "age": 61,
          "bmi": 22.04,
          "charges": 13616.3586,
          "children": 0,
          "region": "northeast",
          "sex": "female",
          "smoker": "no"
         },
         {
          "age": 25,
          "bmi": 26.8,
          "charges": 3906.127,
          "children": 3,
          "region": "southwest",
          "sex": "male",
          "smoker": "no"
         },
         {
          "age": 47,
          "bmi": 28.215,
          "charges": 24915.22085,
          "children": 3,
          "region": "northwest",
          "sex": "male",
          "smoker": "yes"
         },
         {
          "age": 37,
          "bmi": 29.64,
          "charges": 5028.1466,
          "children": 0,
          "region": "northwest",
          "sex": "male",
          "smoker": "no"
         },
         {
          "age": 21,
          "bmi": 34.6,
          "charges": 2020.177,
          "children": 0,
          "region": "southwest",
          "sex": "female",
          "smoker": "no"
         },
         {
          "age": 40,
          "bmi": 29.3,
          "charges": 15828.82173,
          "children": 4,
          "region": "southwest",
          "sex": "female",
          "smoker": "no"
         },
         {
          "age": 53,
          "bmi": 39.6,
          "charges": 10579.711,
          "children": 1,
          "region": "southeast",
          "sex": "female",
          "smoker": "no"
         },
         {
          "age": 62,
          "bmi": 30.875,
          "charges": 46718.16325,
          "children": 3,
          "region": "northwest",
          "sex": "male",
          "smoker": "yes"
         },
         {
          "age": 62,
          "bmi": 38.83,
          "charges": 12981.3457,
          "children": 0,
          "region": "southeast",
          "sex": "male",
          "smoker": "no"
         },
         {
          "age": 40,
          "bmi": 22.22,
          "charges": 19444.2658,
          "children": 2,
          "region": "southeast",
          "sex": "female",
          "smoker": "yes"
         },
         {
          "age": 62,
          "bmi": 30.495,
          "charges": 15019.76005,
          "children": 2,
          "region": "northwest",
          "sex": "female",
          "smoker": "no"
         },
         {
          "age": 29,
          "bmi": 33.345,
          "charges": 19442.3535,
          "children": 2,
          "region": "northwest",
          "sex": "male",
          "smoker": "no"
         },
         {
          "age": 48,
          "bmi": 33.11,
          "charges": 40974.1649,
          "children": 0,
          "region": "southeast",
          "sex": "female",
          "smoker": "yes"
         },
         {
          "age": 56,
          "bmi": 33.63,
          "charges": 43921.1837,
          "children": 0,
          "region": "northwest",
          "sex": "male",
          "smoker": "yes"
         },
         {
          "age": 35,
          "bmi": 34.105,
          "charges": 39983.42595,
          "children": 3,
          "region": "northwest",
          "sex": "female",
          "smoker": "yes"
         },
         {
          "age": 48,
          "bmi": 31.445,
          "charges": 8964.06055,
          "children": 1,
          "region": "northeast",
          "sex": "male",
          "smoker": "no"
         },
         {
          "age": 36,
          "bmi": 33.82,
          "charges": 5377.4578,
          "children": 1,
          "region": "northwest",
          "sex": "male",
          "smoker": "no"
         },
         {
          "age": 26,
          "bmi": 20.8,
          "charges": 2302.3,
          "children": 0,
          "region": "southwest",
          "sex": "male",
          "smoker": "no"
         },
         {
          "age": 47,
          "bmi": 33.915,
          "charges": 10115.00885,
          "children": 3,
          "region": "northwest",
          "sex": "female",
          "smoker": "no"
         },
         {
          "age": 21,
          "bmi": 22.3,
          "charges": 2103.08,
          "children": 1,
          "region": "southwest",
          "sex": "male",
          "smoker": "no"
         },
         {
          "age": 40,
          "bmi": 23.37,
          "charges": 8252.2843,
          "children": 3,
          "region": "northeast",
          "sex": "female",
          "smoker": "no"
         },
         {
          "age": 18,
          "bmi": 33.88,
          "charges": 11482.63485,
          "children": 0,
          "region": "southeast",
          "sex": "female",
          "smoker": "no"
         },
         {
          "age": 21,
          "bmi": 26.03,
          "charges": 2102.2647,
          "children": 0,
          "region": "northeast",
          "sex": "male",
          "smoker": "no"
         },
         {
          "age": 38,
          "bmi": 27.835,
          "charges": 6455.86265,
          "children": 2,
          "region": "northwest",
          "sex": "male",
          "smoker": "no"
         },
         {
          "age": 59,
          "bmi": 32.1,
          "charges": 14007.222,
          "children": 3,
          "region": "southwest",
          "sex": "female",
          "smoker": "no"
         },
         {
          "age": 22,
          "bmi": 31.73,
          "charges": 2254.7967,
          "children": 0,
          "region": "northeast",
          "sex": "male",
          "smoker": "no"
         },
         {
          "age": 42,
          "bmi": 35.8,
          "charges": 7160.094,
          "children": 2,
          "region": "southwest",
          "sex": "male",
          "smoker": "no"
         },
         {
          "age": 52,
          "bmi": 41.8,
          "charges": 47269.85400000001,
          "children": 2,
          "region": "southeast",
          "sex": "male",
          "smoker": "yes"
         },
         {
          "age": 58,
          "bmi": 25.175,
          "charges": 11931.12525,
          "children": 0,
          "region": "northeast",
          "sex": "male",
          "smoker": "no"
         },
         {
          "age": 20,
          "bmi": 32.395,
          "charges": 2362.22905,
          "children": 1,
          "region": "northwest",
          "sex": "male",
          "smoker": "no"
         },
         {
          "age": 49,
          "bmi": 41.47,
          "charges": 10977.2063,
          "children": 4,
          "region": "southeast",
          "sex": "female",
          "smoker": "no"
         },
         {
          "age": 21,
          "bmi": 39.49,
          "charges": 2026.9741,
          "children": 0,
          "region": "southeast",
          "sex": "female",
          "smoker": "no"
         },
         {
          "age": 26,
          "bmi": 22.61,
          "charges": 3176.8159,
          "children": 0,
          "region": "northwest",
          "sex": "female",
          "smoker": "no"
         },
         {
          "age": 21,
          "bmi": 36.85,
          "charges": 1534.3045,
          "children": 0,
          "region": "southeast",
          "sex": "male",
          "smoker": "no"
         },
         {
          "age": 27,
          "bmi": 23.21,
          "charges": 3561.8889,
          "children": 1,
          "region": "southeast",
          "sex": "female",
          "smoker": "no"
         },
         {
          "age": 64,
          "bmi": 24.7,
          "charges": 30166.61817,
          "children": 1,
          "region": "northwest",
          "sex": "male",
          "smoker": "no"
         },
         {
          "age": 18,
          "bmi": 31.68,
          "charges": 34303.1672,
          "children": 2,
          "region": "southeast",
          "sex": "male",
          "smoker": "yes"
         },
         {
          "age": 24,
          "bmi": 26.6,
          "charges": 3046.062,
          "children": 0,
          "region": "northeast",
          "sex": "female",
          "smoker": "no"
         },
         {
          "age": 47,
          "bmi": 45.32,
          "charges": 8569.8618,
          "children": 1,
          "region": "southeast",
          "sex": "female",
          "smoker": "no"
         },
         {
          "age": 25,
          "bmi": 45.54,
          "charges": 42112.2356,
          "children": 2,
          "region": "southeast",
          "sex": "male",
          "smoker": "yes"
         },
         {
          "age": 59,
          "bmi": 32.395,
          "charges": 14590.63205,
          "children": 3,
          "region": "northeast",
          "sex": "female",
          "smoker": "no"
         },
         {
          "age": 31,
          "bmi": 29.1,
          "charges": 3761.292,
          "children": 0,
          "region": "southwest",
          "sex": "female",
          "smoker": "no"
         },
         {
          "age": 24,
          "bmi": 22.6,
          "charges": 2457.502,
          "children": 0,
          "region": "southwest",
          "sex": "female",
          "smoker": "no"
         },
         {
          "age": 19,
          "bmi": 19.8,
          "charges": 1241.565,
          "children": 0,
          "region": "southwest",
          "sex": "male",
          "smoker": "no"
         },
         {
          "age": 62,
          "bmi": 38.095,
          "charges": 15230.32405,
          "children": 2,
          "region": "northeast",
          "sex": "female",
          "smoker": "no"
         },
         {
          "age": 50,
          "bmi": 25.365,
          "charges": 30284.64294,
          "children": 2,
          "region": "northwest",
          "sex": "male",
          "smoker": "no"
         },
         {
          "age": 42,
          "bmi": 29,
          "charges": 7050.642,
          "children": 1,
          "region": "southwest",
          "sex": "female",
          "smoker": "no"
         },
         {
          "age": 30,
          "bmi": 32.4,
          "charges": 4149.736,
          "children": 1,
          "region": "southwest",
          "sex": "female",
          "smoker": "no"
         },
         {
          "age": 62,
          "bmi": 32.68,
          "charges": 13844.7972,
          "children": 0,
          "region": "northwest",
          "sex": "female",
          "smoker": "no"
         },
         {
          "age": 49,
          "bmi": 31.9,
          "charges": 11552.904,
          "children": 5,
          "region": "southwest",
          "sex": "female",
          "smoker": "no"
         },
         {
          "age": 59,
          "bmi": 26.505,
          "charges": 12815.44495,
          "children": 0,
          "region": "northeast",
          "sex": "female",
          "smoker": "no"
         },
         {
          "age": 27,
          "bmi": 45.9,
          "charges": 3693.428,
          "children": 2,
          "region": "southwest",
          "sex": "male",
          "smoker": "no"
         },
         {
          "age": 54,
          "bmi": 33.63,
          "charges": 10825.2537,
          "children": 1,
          "region": "northwest",
          "sex": "male",
          "smoker": "no"
         },
         {
          "age": 24,
          "bmi": 30.1,
          "charges": 4234.927,
          "children": 3,
          "region": "southwest",
          "sex": "female",
          "smoker": "no"
         },
         {
          "age": 41,
          "bmi": 36.08,
          "charges": 6781.3542,
          "children": 1,
          "region": "southeast",
          "sex": "female",
          "smoker": "no"
         },
         {
          "age": 63,
          "bmi": 31.8,
          "charges": 13880.949,
          "children": 0,
          "region": "southwest",
          "sex": "female",
          "smoker": "no"
         },
         {
          "age": 52,
          "bmi": 32.205,
          "charges": 11488.31695,
          "children": 3,
          "region": "northeast",
          "sex": "male",
          "smoker": "no"
         },
         {
          "age": 24,
          "bmi": 24.225,
          "charges": 2842.76075,
          "children": 0,
          "region": "northwest",
          "sex": "female",
          "smoker": "no"
         },
         {
          "age": 41,
          "bmi": 40.26,
          "charges": 5709.1644,
          "children": 0,
          "region": "southeast",
          "sex": "male",
          "smoker": "no"
         },
         {
          "age": 24,
          "bmi": 32.01,
          "charges": 1981.5819,
          "children": 0,
          "region": "southeast",
          "sex": "male",
          "smoker": "no"
         },
         {
          "age": 18,
          "bmi": 37.29,
          "charges": 1141.4451,
          "children": 0,
          "region": "southeast",
          "sex": "male",
          "smoker": "no"
         },
         {
          "age": 48,
          "bmi": 28,
          "charges": 23568.272,
          "children": 1,
          "region": "southwest",
          "sex": "male",
          "smoker": "yes"
         },
         {
          "age": 48,
          "bmi": 29.7,
          "charges": 7789.635,
          "children": 0,
          "region": "southeast",
          "sex": "male",
          "smoker": "no"
         },
         {
          "age": 31,
          "bmi": 36.63,
          "charges": 4949.7587,
          "children": 2,
          "region": "southeast",
          "sex": "female",
          "smoker": "no"
         },
         {
          "age": 27,
          "bmi": 33.155,
          "charges": 4058.71245,
          "children": 2,
          "region": "northwest",
          "sex": "male",
          "smoker": "no"
         },
         {
          "age": 34,
          "bmi": 30.21,
          "charges": 43943.8761,
          "children": 1,
          "region": "northwest",
          "sex": "female",
          "smoker": "yes"
         },
         {
          "age": 52,
          "bmi": 33.25,
          "charges": 9722.7695,
          "children": 0,
          "region": "northeast",
          "sex": "male",
          "smoker": "no"
         },
         {
          "age": 25,
          "bmi": 22.515,
          "charges": 3594.17085,
          "children": 1,
          "region": "northwest",
          "sex": "female",
          "smoker": "no"
         },
         {
          "age": 33,
          "bmi": 28.27,
          "charges": 4779.6023,
          "children": 1,
          "region": "southeast",
          "sex": "female",
          "smoker": "no"
         },
         {
          "age": 18,
          "bmi": 25.46,
          "charges": 1708.0014,
          "children": 0,
          "region": "northeast",
          "sex": "male",
          "smoker": "no"
         },
         {
          "age": 24,
          "bmi": 23.21,
          "charges": 25081.76784,
          "children": 0,
          "region": "southeast",
          "sex": "female",
          "smoker": "no"
         },
         {
          "age": 27,
          "bmi": 31.255,
          "charges": 3956.07145,
          "children": 1,
          "region": "northwest",
          "sex": "female",
          "smoker": "no"
         },
         {
          "age": 35,
          "bmi": 27.61,
          "charges": 4747.0529,
          "children": 1,
          "region": "southeast",
          "sex": "male",
          "smoker": "no"
         },
         {
          "age": 61,
          "bmi": 36.1,
          "charges": 27941.28758,
          "children": 3,
          "region": "southwest",
          "sex": "male",
          "smoker": "no"
         },
         {
          "age": 43,
          "bmi": 32.6,
          "charges": 7441.501,
          "children": 2,
          "region": "southwest",
          "sex": "male",
          "smoker": "no"
         },
         {
          "age": 25,
          "bmi": 42.13,
          "charges": 3238.4357,
          "children": 1,
          "region": "southeast",
          "sex": "female",
          "smoker": "no"
         },
         {
          "age": 29,
          "bmi": 29.64,
          "charges": 20277.80751,
          "children": 1,
          "region": "northeast",
          "sex": "male",
          "smoker": "no"
         },
         {
          "age": 47,
          "bmi": 19.57,
          "charges": 8428.0693,
          "children": 1,
          "region": "northwest",
          "sex": "male",
          "smoker": "no"
         },
         {
          "age": 55,
          "bmi": 37.715,
          "charges": 30063.58055,
          "children": 3,
          "region": "northwest",
          "sex": "male",
          "smoker": "no"
         },
         {
          "age": 44,
          "bmi": 29.735,
          "charges": 32108.66282,
          "children": 2,
          "region": "northeast",
          "sex": "male",
          "smoker": "no"
         },
         {
          "age": 49,
          "bmi": 30.9,
          "charges": 39727.614,
          "children": 0,
          "region": "southwest",
          "sex": "male",
          "smoker": "yes"
         },
         {
          "age": 34,
          "bmi": 29.26,
          "charges": 6184.2994,
          "children": 3,
          "region": "southeast",
          "sex": "female",
          "smoker": "no"
         },
         {
          "age": 38,
          "bmi": 40.565,
          "charges": 6373.55735,
          "children": 1,
          "region": "northwest",
          "sex": "female",
          "smoker": "no"
         },
         {
          "age": 49,
          "bmi": 36.85,
          "charges": 8125.7845,
          "children": 0,
          "region": "southeast",
          "sex": "male",
          "smoker": "no"
         },
         {
          "age": 56,
          "bmi": 28.595,
          "charges": 11658.11505,
          "children": 0,
          "region": "northeast",
          "sex": "female",
          "smoker": "no"
         },
         {
          "age": 40,
          "bmi": 29.355,
          "charges": 6393.60345,
          "children": 1,
          "region": "northwest",
          "sex": "male",
          "smoker": "no"
         },
         {
          "age": 29,
          "bmi": 25.6,
          "charges": 5708.866999999998,
          "children": 4,
          "region": "southwest",
          "sex": "female",
          "smoker": "no"
         },
         {
          "age": 32,
          "bmi": 28.88,
          "charges": 3866.8552,
          "children": 0,
          "region": "northwest",
          "sex": "male",
          "smoker": "no"
         },
         {
          "age": 59,
          "bmi": 26.695,
          "charges": 14382.70905,
          "children": 3,
          "region": "northwest",
          "sex": "female",
          "smoker": "no"
         },
         {
          "age": 53,
          "bmi": 22.61,
          "charges": 24873.3849,
          "children": 3,
          "region": "northeast",
          "sex": "female",
          "smoker": "yes"
         },
         {
          "age": 31,
          "bmi": 34.39,
          "charges": 38746.3551,
          "children": 3,
          "region": "northwest",
          "sex": "male",
          "smoker": "yes"
         },
         {
          "age": 18,
          "bmi": 21.565,
          "charges": 13747.87235,
          "children": 0,
          "region": "northeast",
          "sex": "male",
          "smoker": "yes"
         },
         {
          "age": 50,
          "bmi": 27.455,
          "charges": 9617.66245,
          "children": 1,
          "region": "northeast",
          "sex": "male",
          "smoker": "no"
         },
         {
          "age": 26,
          "bmi": 23.7,
          "charges": 3484.331,
          "children": 2,
          "region": "southwest",
          "sex": "male",
          "smoker": "no"
         },
         {
          "age": 63,
          "bmi": 31.445,
          "charges": 13974.45555,
          "children": 0,
          "region": "northeast",
          "sex": "male",
          "smoker": "no"
         },
         {
          "age": 55,
          "bmi": 32.775,
          "charges": 12268.63225,
          "children": 2,
          "region": "northwest",
          "sex": "female",
          "smoker": "no"
         },
         {
          "age": 47,
          "bmi": 36.63,
          "charges": 42969.8527,
          "children": 1,
          "region": "southeast",
          "sex": "female",
          "smoker": "yes"
         },
         {
          "age": 27,
          "bmi": 21.47,
          "charges": 3353.4703,
          "children": 0,
          "region": "northwest",
          "sex": "female",
          "smoker": "no"
         },
         {
          "age": 45,
          "bmi": 31.79,
          "charges": 17929.303369999998,
          "children": 0,
          "region": "southeast",
          "sex": "female",
          "smoker": "no"
         },
         {
          "age": 35,
          "bmi": 27.7,
          "charges": 6414.178000000001,
          "children": 3,
          "region": "southwest",
          "sex": "female",
          "smoker": "no"
         },
         {
          "age": 63,
          "bmi": 37.7,
          "charges": 48824.45,
          "children": 0,
          "region": "southwest",
          "sex": "female",
          "smoker": "yes"
         },
         {
          "age": 19,
          "bmi": 34.9,
          "charges": 34828.654,
          "children": 0,
          "region": "southwest",
          "sex": "male",
          "smoker": "yes"
         },
         {
          "age": 41,
          "bmi": 35.75,
          "charges": 40273.6455,
          "children": 1,
          "region": "southeast",
          "sex": "male",
          "smoker": "yes"
         },
         {
          "age": 51,
          "bmi": 37,
          "charges": 8798.593,
          "children": 0,
          "region": "southwest",
          "sex": "male",
          "smoker": "no"
         },
         {
          "age": 20,
          "bmi": 37,
          "charges": 4830.63,
          "children": 5,
          "region": "southwest",
          "sex": "female",
          "smoker": "no"
         },
         {
          "age": 44,
          "bmi": 32.015,
          "charges": 8116.26885,
          "children": 2,
          "region": "northwest",
          "sex": "male",
          "smoker": "no"
         },
         {
          "age": 56,
          "bmi": 25.935,
          "charges": 11165.41765,
          "children": 0,
          "region": "northeast",
          "sex": "male",
          "smoker": "no"
         },
         {
          "age": 24,
          "bmi": 20.52,
          "charges": 14571.8908,
          "children": 0,
          "region": "northeast",
          "sex": "female",
          "smoker": "yes"
         },
         {
          "age": 46,
          "bmi": 26.62,
          "charges": 7742.1098,
          "children": 1,
          "region": "southeast",
          "sex": "male",
          "smoker": "no"
         },
         {
          "age": 59,
          "bmi": 41.14,
          "charges": 48970.2476,
          "children": 1,
          "region": "southeast",
          "sex": "male",
          "smoker": "yes"
         },
         {
          "age": 40,
          "bmi": 28.69,
          "charges": 8059.6791,
          "children": 3,
          "region": "northwest",
          "sex": "female",
          "smoker": "no"
         },
         {
          "age": 29,
          "bmi": 27.94,
          "charges": 19107.7796,
          "children": 1,
          "region": "southeast",
          "sex": "female",
          "smoker": "yes"
         },
         {
          "age": 37,
          "bmi": 30.78,
          "charges": 37270.1512,
          "children": 0,
          "region": "northeast",
          "sex": "female",
          "smoker": "yes"
         },
         {
          "age": 35,
          "bmi": 34.8,
          "charges": 5246.047,
          "children": 1,
          "region": "southwest",
          "sex": "female",
          "smoker": "no"
         },
         {
          "age": 44,
          "bmi": 31.35,
          "charges": 39556.4945,
          "children": 1,
          "region": "northeast",
          "sex": "male",
          "smoker": "yes"
         },
         {
          "age": 38,
          "bmi": 27.6,
          "charges": 5383.536,
          "children": 0,
          "region": "southwest",
          "sex": "female",
          "smoker": "no"
         },
         {
          "age": 25,
          "bmi": 26.22,
          "charges": 2721.3208,
          "children": 0,
          "region": "northeast",
          "sex": "male",
          "smoker": "no"
         },
         {
          "age": 20,
          "bmi": 31.79,
          "charges": 3056.3881,
          "children": 2,
          "region": "southeast",
          "sex": "female",
          "smoker": "no"
         },
         {
          "age": 44,
          "bmi": 38.06,
          "charges": 7152.6714,
          "children": 1,
          "region": "southeast",
          "sex": "male",
          "smoker": "no"
         },
         {
          "age": 25,
          "bmi": 28.595,
          "charges": 3213.62205,
          "children": 0,
          "region": "northeast",
          "sex": "female",
          "smoker": "no"
         },
         {
          "age": 54,
          "bmi": 39.6,
          "charges": 10450.552,
          "children": 1,
          "region": "southwest",
          "sex": "male",
          "smoker": "no"
         },
         {
          "age": 46,
          "bmi": 19.855,
          "charges": 7526.70645,
          "children": 0,
          "region": "northwest",
          "sex": "male",
          "smoker": "no"
         },
         {
          "age": 27,
          "bmi": 32.395,
          "charges": 18903.49141,
          "children": 1,
          "region": "northeast",
          "sex": "female",
          "smoker": "no"
         },
         {
          "age": 47,
          "bmi": 19.19,
          "charges": 8627.5411,
          "children": 1,
          "region": "northeast",
          "sex": "male",
          "smoker": "no"
         },
         {
          "age": 24,
          "bmi": 29.925,
          "charges": 2850.68375,
          "children": 0,
          "region": "northwest",
          "sex": "female",
          "smoker": "no"
         },
         {
          "age": 35,
          "bmi": 38.095,
          "charges": 24915.04626,
          "children": 2,
          "region": "northeast",
          "sex": "female",
          "smoker": "no"
         },
         {
          "age": 41,
          "bmi": 31.6,
          "charges": 6186.127,
          "children": 0,
          "region": "southwest",
          "sex": "female",
          "smoker": "no"
         },
         {
          "age": 55,
          "bmi": 35.2,
          "charges": 44423.803,
          "children": 0,
          "region": "southeast",
          "sex": "female",
          "smoker": "yes"
         },
         {
          "age": 54,
          "bmi": 21.01,
          "charges": 11013.7119,
          "children": 2,
          "region": "southeast",
          "sex": "male",
          "smoker": "no"
         },
         {
          "age": 50,
          "bmi": 32.3,
          "charges": 41919.097,
          "children": 1,
          "region": "northeast",
          "sex": "male",
          "smoker": "yes"
         },
         {
          "age": 18,
          "bmi": 30.4,
          "charges": 3481.868,
          "children": 3,
          "region": "northeast",
          "sex": "male",
          "smoker": "no"
         },
         {
          "age": 19,
          "bmi": 30.495,
          "charges": 2128.43105,
          "children": 0,
          "region": "northwest",
          "sex": "female",
          "smoker": "no"
         },
         {
          "age": 33,
          "bmi": 27.455,
          "charges": 5261.46945,
          "children": 2,
          "region": "northwest",
          "sex": "male",
          "smoker": "no"
         },
         {
          "age": 42,
          "bmi": 41.325,
          "charges": 7650.77375,
          "children": 1,
          "region": "northeast",
          "sex": "female",
          "smoker": "no"
         },
         {
          "age": 38,
          "bmi": 27.265,
          "charges": 6555.07035,
          "children": 1,
          "region": "northeast",
          "sex": "female",
          "smoker": "no"
         },
         {
          "age": 30,
          "bmi": 28.69,
          "charges": 20745.9891,
          "children": 3,
          "region": "northwest",
          "sex": "male",
          "smoker": "yes"
         },
         {
          "age": 35,
          "bmi": 28.025,
          "charges": 20234.85475,
          "children": 0,
          "region": "northwest",
          "sex": "female",
          "smoker": "yes"
         },
         {
          "age": 58,
          "bmi": 29,
          "charges": 11842.442,
          "children": 0,
          "region": "southwest",
          "sex": "female",
          "smoker": "no"
         },
         {
          "age": 43,
          "bmi": 26.885,
          "charges": 21774.32215,
          "children": 0,
          "region": "northwest",
          "sex": "female",
          "smoker": "yes"
         },
         {
          "age": 40,
          "bmi": 29.9,
          "charges": 6600.361,
          "children": 2,
          "region": "southwest",
          "sex": "male",
          "smoker": "no"
         },
         {
          "age": 19,
          "bmi": 30.59,
          "charges": 1639.5631,
          "children": 0,
          "region": "northwest",
          "sex": "male",
          "smoker": "no"
         },
         {
          "age": 41,
          "bmi": 32.965,
          "charges": 6571.02435,
          "children": 0,
          "region": "northwest",
          "sex": "female",
          "smoker": "no"
         },
         {
          "age": 18,
          "bmi": 24.09,
          "charges": 2201.0971,
          "children": 1,
          "region": "southeast",
          "sex": "female",
          "smoker": "no"
         },
         {
          "age": 19,
          "bmi": 32.9,
          "charges": 1748.774,
          "children": 0,
          "region": "southwest",
          "sex": "female",
          "smoker": "no"
         },
         {
          "age": 21,
          "bmi": 31.1,
          "charges": 1526.312,
          "children": 0,
          "region": "southwest",
          "sex": "male",
          "smoker": "no"
         },
         {
          "age": 58,
          "bmi": 34.39,
          "charges": 11743.9341,
          "children": 0,
          "region": "northwest",
          "sex": "male",
          "smoker": "no"
         },
         {
          "age": 28,
          "bmi": 31.68,
          "charges": 34672.1472,
          "children": 0,
          "region": "southeast",
          "sex": "male",
          "smoker": "yes"
         },
         {
          "age": 49,
          "bmi": 33.345,
          "charges": 10370.91255,
          "children": 2,
          "region": "northeast",
          "sex": "female",
          "smoker": "no"
         },
         {
          "age": 49,
          "bmi": 31.35,
          "charges": 9290.1395,
          "children": 1,
          "region": "northeast",
          "sex": "male",
          "smoker": "no"
         },
         {
          "age": 18,
          "bmi": 23.32,
          "charges": 1711.0268,
          "children": 1,
          "region": "southeast",
          "sex": "male",
          "smoker": "no"
         },
         {
          "age": 18,
          "bmi": 28.31,
          "charges": 11272.33139,
          "children": 1,
          "region": "northeast",
          "sex": "male",
          "smoker": "no"
         },
         {
          "age": 53,
          "bmi": 24.795,
          "charges": 10942.13205,
          "children": 1,
          "region": "northwest",
          "sex": "female",
          "smoker": "no"
         },
         {
          "age": 63,
          "bmi": 41.47,
          "charges": 13405.3903,
          "children": 0,
          "region": "southeast",
          "sex": "male",
          "smoker": "no"
         },
         {
          "age": 41,
          "bmi": 37.05,
          "charges": 7265.7025,
          "children": 2,
          "region": "northwest",
          "sex": "male",
          "smoker": "no"
         },
         {
          "age": 57,
          "bmi": 34.01,
          "charges": 11356.6609,
          "children": 0,
          "region": "northwest",
          "sex": "male",
          "smoker": "no"
         },
         {
          "age": 20,
          "bmi": 30.59,
          "charges": 2459.7201,
          "children": 0,
          "region": "northeast",
          "sex": "female",
          "smoker": "no"
         },
         {
          "age": 29,
          "bmi": 27.2,
          "charges": 2866.091,
          "children": 0,
          "region": "southwest",
          "sex": "male",
          "smoker": "no"
         },
         {
          "age": 22,
          "bmi": 20.235,
          "charges": 2527.81865,
          "children": 0,
          "region": "northwest",
          "sex": "female",
          "smoker": "no"
         },
         {
          "age": 26,
          "bmi": 33.915,
          "charges": 3292.52985,
          "children": 1,
          "region": "northwest",
          "sex": "male",
          "smoker": "no"
         },
         {
          "age": 58,
          "bmi": 31.825,
          "charges": 13607.36875,
          "children": 2,
          "region": "northeast",
          "sex": "female",
          "smoker": "no"
         },
         {
          "age": 41,
          "bmi": 28.31,
          "charges": 7153.5539,
          "children": 1,
          "region": "northwest",
          "sex": "female",
          "smoker": "no"
         },
         {
          "age": 56,
          "bmi": 27.2,
          "charges": 11073.176,
          "children": 0,
          "region": "southwest",
          "sex": "female",
          "smoker": "no"
         },
         {
          "age": 26,
          "bmi": 30.875,
          "charges": 3877.30425,
          "children": 2,
          "region": "northwest",
          "sex": "male",
          "smoker": "no"
         },
         {
          "age": 33,
          "bmi": 38.9,
          "charges": 5972.3780000000015,
          "children": 3,
          "region": "southwest",
          "sex": "female",
          "smoker": "no"
         },
         {
          "age": 18,
          "bmi": 26.73,
          "charges": 1615.7667,
          "children": 0,
          "region": "southeast",
          "sex": "female",
          "smoker": "no"
         },
         {
          "age": 44,
          "bmi": 23.98,
          "charges": 8211.1002,
          "children": 2,
          "region": "southeast",
          "sex": "female",
          "smoker": "no"
         },
         {
          "age": 21,
          "bmi": 31.255,
          "charges": 1909.52745,
          "children": 0,
          "region": "northwest",
          "sex": "male",
          "smoker": "no"
         },
         {
          "age": 55,
          "bmi": 28.975,
          "charges": 10796.35025,
          "children": 0,
          "region": "northeast",
          "sex": "male",
          "smoker": "no"
         },
         {
          "age": 28,
          "bmi": 24.3,
          "charges": 5615.3690000000015,
          "children": 5,
          "region": "southwest",
          "sex": "male",
          "smoker": "no"
         },
         {
          "age": 47,
          "bmi": 29.83,
          "charges": 9620.3307,
          "children": 3,
          "region": "northwest",
          "sex": "male",
          "smoker": "no"
         },
         {
          "age": 49,
          "bmi": 25.84,
          "charges": 9282.4806,
          "children": 1,
          "region": "northeast",
          "sex": "male",
          "smoker": "no"
         },
         {
          "age": 42,
          "bmi": 30,
          "charges": 22144.032000000007,
          "children": 0,
          "region": "southwest",
          "sex": "male",
          "smoker": "yes"
         },
         {
          "age": 44,
          "bmi": 27.4,
          "charges": 7726.854,
          "children": 2,
          "region": "southwest",
          "sex": "male",
          "smoker": "no"
         },
         {
          "age": 34,
          "bmi": 37.335,
          "charges": 5989.52365,
          "children": 2,
          "region": "northwest",
          "sex": "female",
          "smoker": "no"
         },
         {
          "age": 31,
          "bmi": 20.4,
          "charges": 3260.199,
          "children": 0,
          "region": "southwest",
          "sex": "male",
          "smoker": "no"
         },
         {
          "age": 46,
          "bmi": 48.07,
          "charges": 9432.9253,
          "children": 2,
          "region": "northeast",
          "sex": "female",
          "smoker": "no"
         },
         {
          "age": 18,
          "bmi": 25.08,
          "charges": 2196.4732,
          "children": 0,
          "region": "northeast",
          "sex": "female",
          "smoker": "no"
         },
         {
          "age": 18,
          "bmi": 37.29,
          "charges": 2219.4451,
          "children": 1,
          "region": "southeast",
          "sex": "female",
          "smoker": "no"
         },
         {
          "age": 41,
          "bmi": 32.6,
          "charges": 7954.517,
          "children": 3,
          "region": "southwest",
          "sex": "female",
          "smoker": "no"
         },
         {
          "age": 32,
          "bmi": 24.6,
          "charges": 17496.306,
          "children": 0,
          "region": "southwest",
          "sex": "female",
          "smoker": "yes"
         },
         {
          "age": 49,
          "bmi": 29.83,
          "charges": 9288.0267,
          "children": 1,
          "region": "northeast",
          "sex": "male",
          "smoker": "no"
         },
         {
          "age": 48,
          "bmi": 27.36,
          "charges": 9447.3824,
          "children": 1,
          "region": "northeast",
          "sex": "female",
          "smoker": "no"
         },
         {
          "age": 19,
          "bmi": 27.265,
          "charges": 22493.65964,
          "children": 2,
          "region": "northwest",
          "sex": "male",
          "smoker": "no"
         },
         {
          "age": 62,
          "bmi": 26.29,
          "charges": 27808.7251,
          "children": 0,
          "region": "southeast",
          "sex": "female",
          "smoker": "yes"
         },
         {
          "age": 39,
          "bmi": 26.22,
          "charges": 6123.5688,
          "children": 1,
          "region": "northwest",
          "sex": "male",
          "smoker": "no"
         },
         {
          "age": 58,
          "bmi": 41.91,
          "charges": 24227.33724,
          "children": 0,
          "region": "southeast",
          "sex": "female",
          "smoker": "no"
         },
         {
          "age": 45,
          "bmi": 27.83,
          "charges": 8515.7587,
          "children": 2,
          "region": "southeast",
          "sex": "female",
          "smoker": "no"
         },
         {
          "age": 60,
          "bmi": 18.335,
          "charges": 13204.28565,
          "children": 0,
          "region": "northeast",
          "sex": "female",
          "smoker": "no"
         },
         {
          "age": 63,
          "bmi": 23.085,
          "charges": 14451.83515,
          "children": 0,
          "region": "northeast",
          "sex": "female",
          "smoker": "no"
         },
         {
          "age": 31,
          "bmi": 29.26,
          "charges": 4350.5144,
          "children": 1,
          "region": "southeast",
          "sex": "female",
          "smoker": "no"
         },
         {
          "age": 41,
          "bmi": 23.94,
          "charges": 6858.4796,
          "children": 1,
          "region": "northeast",
          "sex": "male",
          "smoker": "no"
         },
         {
          "age": 37,
          "bmi": 34.2,
          "charges": 39047.285,
          "children": 1,
          "region": "northeast",
          "sex": "male",
          "smoker": "yes"
         },
         {
          "age": 55,
          "bmi": 26.8,
          "charges": 35160.13457,
          "children": 1,
          "region": "southwest",
          "sex": "female",
          "smoker": "no"
         },
         {
          "age": 24,
          "bmi": 31.065,
          "charges": 34254.05335,
          "children": 0,
          "region": "northeast",
          "sex": "male",
          "smoker": "yes"
         },
         {
          "age": 41,
          "bmi": 21.755,
          "charges": 13725.47184,
          "children": 1,
          "region": "northeast",
          "sex": "female",
          "smoker": "no"
         },
         {
          "age": 39,
          "bmi": 26.315,
          "charges": 7201.70085,
          "children": 2,
          "region": "northwest",
          "sex": "female",
          "smoker": "no"
         },
         {
          "age": 30,
          "bmi": 21.945,
          "charges": 4718.20355,
          "children": 1,
          "region": "northeast",
          "sex": "female",
          "smoker": "no"
         },
         {
          "age": 28,
          "bmi": 30.875,
          "charges": 3062.50825,
          "children": 0,
          "region": "northwest",
          "sex": "male",
          "smoker": "no"
         },
         {
          "age": 62,
          "bmi": 31.46,
          "charges": 27000.98473,
          "children": 1,
          "region": "southeast",
          "sex": "male",
          "smoker": "no"
         },
         {
          "age": 21,
          "bmi": 31.02,
          "charges": 16586.49771,
          "children": 0,
          "region": "southeast",
          "sex": "male",
          "smoker": "no"
         },
         {
          "age": 29,
          "bmi": 31.73,
          "charges": 4433.3877,
          "children": 2,
          "region": "northwest",
          "sex": "male",
          "smoker": "no"
         },
         {
          "age": 37,
          "bmi": 25.555,
          "charges": 20296.86345,
          "children": 1,
          "region": "northeast",
          "sex": "female",
          "smoker": "yes"
         },
         {
          "age": 36,
          "bmi": 34.43,
          "charges": 5584.3057,
          "children": 2,
          "region": "southeast",
          "sex": "male",
          "smoker": "no"
         },
         {
          "age": 26,
          "bmi": 31.065,
          "charges": 2699.56835,
          "children": 0,
          "region": "northwest",
          "sex": "male",
          "smoker": "no"
         },
         {
          "age": 37,
          "bmi": 30.875,
          "charges": 6796.86325,
          "children": 3,
          "region": "northwest",
          "sex": "male",
          "smoker": "no"
         },
         {
          "age": 57,
          "bmi": 25.74,
          "charges": 12629.1656,
          "children": 2,
          "region": "southeast",
          "sex": "female",
          "smoker": "no"
         },
         {
          "age": 43,
          "bmi": 34.96,
          "charges": 41034.2214,
          "children": 1,
          "region": "northeast",
          "sex": "male",
          "smoker": "yes"
         },
         {
          "age": 40,
          "bmi": 30.875,
          "charges": 8162.71625,
          "children": 4,
          "region": "northwest",
          "sex": "male",
          "smoker": "no"
         },
         {
          "age": 64,
          "bmi": 23.76,
          "charges": 26926.5144,
          "children": 0,
          "region": "southeast",
          "sex": "male",
          "smoker": "yes"
         },
         {
          "age": 52,
          "bmi": 38.6,
          "charges": 10325.206,
          "children": 2,
          "region": "southwest",
          "sex": "male",
          "smoker": "no"
         },
         {
          "age": 45,
          "bmi": 39.805,
          "charges": 7448.40395,
          "children": 0,
          "region": "northeast",
          "sex": "male",
          "smoker": "no"
         },
         {
          "age": 55,
          "bmi": 37.1,
          "charges": 10713.643999999998,
          "children": 0,
          "region": "southwest",
          "sex": "female",
          "smoker": "no"
         },
         {
          "age": 45,
          "bmi": 35.3,
          "charges": 7348.142,
          "children": 0,
          "region": "southwest",
          "sex": "female",
          "smoker": "no"
         },
         {
          "age": 33,
          "bmi": 35.245,
          "charges": 12404.8791,
          "children": 0,
          "region": "northeast",
          "sex": "male",
          "smoker": "no"
         },
         {
          "age": 35,
          "bmi": 17.86,
          "charges": 5116.5004,
          "children": 1,
          "region": "northwest",
          "sex": "male",
          "smoker": "no"
         },
         {
          "age": 23,
          "bmi": 32.56,
          "charges": 1824.2854,
          "children": 0,
          "region": "southeast",
          "sex": "male",
          "smoker": "no"
         },
         {
          "age": 51,
          "bmi": 27.74,
          "charges": 9957.7216,
          "children": 1,
          "region": "northeast",
          "sex": "male",
          "smoker": "no"
         },
         {
          "age": 19,
          "bmi": 30.4,
          "charges": 1256.299,
          "children": 0,
          "region": "southwest",
          "sex": "male",
          "smoker": "no"
         },
         {
          "age": 18,
          "bmi": 31.35,
          "charges": 1622.1885,
          "children": 0,
          "region": "southeast",
          "sex": "female",
          "smoker": "no"
         },
         {
          "age": 39,
          "bmi": 34.32,
          "charges": 8596.8278,
          "children": 5,
          "region": "southeast",
          "sex": "female",
          "smoker": "no"
         },
         {
          "age": 18,
          "bmi": 38.28,
          "charges": 14133.03775,
          "children": 0,
          "region": "southeast",
          "sex": "female",
          "smoker": "no"
         },
         {
          "age": 53,
          "bmi": 37.43,
          "charges": 10959.6947,
          "children": 1,
          "region": "northwest",
          "sex": "female",
          "smoker": "no"
         },
         {
          "age": 61,
          "bmi": 28.2,
          "charges": 13041.921,
          "children": 0,
          "region": "southwest",
          "sex": "female",
          "smoker": "no"
         },
         {
          "age": 19,
          "bmi": 28.7,
          "charges": 1253.936,
          "children": 0,
          "region": "southwest",
          "sex": "male",
          "smoker": "no"
         },
         {
          "age": 26,
          "bmi": 22.23,
          "charges": 3176.2877,
          "children": 0,
          "region": "northwest",
          "sex": "female",
          "smoker": "no"
         },
         {
          "age": 48,
          "bmi": 30.78,
          "charges": 10141.1362,
          "children": 3,
          "region": "northeast",
          "sex": "male",
          "smoker": "no"
         },
         {
          "age": 21,
          "bmi": 26.4,
          "charges": 2597.779,
          "children": 1,
          "region": "southwest",
          "sex": "female",
          "smoker": "no"
         },
         {
          "age": 59,
          "bmi": 31.35,
          "charges": 12622.1795,
          "children": 0,
          "region": "northwest",
          "sex": "female",
          "smoker": "no"
         },
         {
          "age": 48,
          "bmi": 22.8,
          "charges": 8269.044,
          "children": 0,
          "region": "southwest",
          "sex": "female",
          "smoker": "no"
         },
         {
          "age": 47,
          "bmi": 27.645,
          "charges": 24535.69855,
          "children": 2,
          "region": "northwest",
          "sex": "female",
          "smoker": "yes"
         },
         {
          "age": 47,
          "bmi": 24.1,
          "charges": 26236.57997,
          "children": 1,
          "region": "southwest",
          "sex": "female",
          "smoker": "no"
         },
         {
          "age": 41,
          "bmi": 29.64,
          "charges": 9222.4026,
          "children": 5,
          "region": "northeast",
          "sex": "male",
          "smoker": "no"
         },
         {
          "age": 55,
          "bmi": 27.645,
          "charges": 10594.50155,
          "children": 0,
          "region": "northwest",
          "sex": "male",
          "smoker": "no"
         },
         {
          "age": 39,
          "bmi": 42.655,
          "charges": 5757.41345,
          "children": 0,
          "region": "northeast",
          "sex": "male",
          "smoker": "no"
         },
         {
          "age": 31,
          "bmi": 38.39,
          "charges": 4463.2051,
          "children": 2,
          "region": "southeast",
          "sex": "male",
          "smoker": "no"
         },
         {
          "age": 23,
          "bmi": 50.38,
          "charges": 2438.0552,
          "children": 1,
          "region": "southeast",
          "sex": "male",
          "smoker": "no"
         },
         {
          "age": 51,
          "bmi": 38.06,
          "charges": 44400.4064,
          "children": 0,
          "region": "southeast",
          "sex": "female",
          "smoker": "yes"
         },
         {
          "age": 23,
          "bmi": 28.12,
          "charges": 2690.1138,
          "children": 0,
          "region": "northwest",
          "sex": "female",
          "smoker": "no"
         },
         {
          "age": 49,
          "bmi": 30.78,
          "charges": 9778.3472,
          "children": 1,
          "region": "northeast",
          "sex": "female",
          "smoker": "no"
         },
         {
          "age": 42,
          "bmi": 28.31,
          "charges": 32787.458589999995,
          "children": 3,
          "region": "northwest",
          "sex": "male",
          "smoker": "yes"
         },
         {
          "age": 59,
          "bmi": 37.1,
          "charges": 12347.172,
          "children": 1,
          "region": "southwest",
          "sex": "male",
          "smoker": "no"
         },
         {
          "age": 39,
          "bmi": 34.1,
          "charges": 7418.522,
          "children": 3,
          "region": "southwest",
          "sex": "female",
          "smoker": "no"
         },
         {
          "age": 42,
          "bmi": 35.97,
          "charges": 7160.3303,
          "children": 2,
          "region": "southeast",
          "sex": "male",
          "smoker": "no"
         },
         {
          "age": 37,
          "bmi": 34.1,
          "charges": 40182.246,
          "children": 4,
          "region": "southwest",
          "sex": "male",
          "smoker": "yes"
         },
         {
          "age": 48,
          "bmi": 40.15,
          "charges": 7804.1605,
          "children": 0,
          "region": "southeast",
          "sex": "male",
          "smoker": "no"
         },
         {
          "age": 26,
          "bmi": 35.42,
          "charges": 2322.6218,
          "children": 0,
          "region": "southeast",
          "sex": "male",
          "smoker": "no"
         },
         {
          "age": 52,
          "bmi": 32.775,
          "charges": 11289.10925,
          "children": 3,
          "region": "northwest",
          "sex": "male",
          "smoker": "no"
         },
         {
          "age": 19,
          "bmi": 25.745,
          "charges": 2710.82855,
          "children": 1,
          "region": "northwest",
          "sex": "female",
          "smoker": "no"
         },
         {
          "age": 34,
          "bmi": 27.72,
          "charges": 4415.1588,
          "children": 0,
          "region": "southeast",
          "sex": "female",
          "smoker": "no"
         },
         {
          "age": 21,
          "bmi": 27.36,
          "charges": 2104.1134,
          "children": 0,
          "region": "northeast",
          "sex": "male",
          "smoker": "no"
         },
         {
          "age": 44,
          "bmi": 32.34,
          "charges": 7633.7206,
          "children": 1,
          "region": "southeast",
          "sex": "female",
          "smoker": "no"
         },
         {
          "age": 64,
          "bmi": 34.5,
          "charges": 13822.803,
          "children": 0,
          "region": "southwest",
          "sex": "male",
          "smoker": "no"
         },
         {
          "age": 22,
          "bmi": 27.1,
          "charges": 2154.361,
          "children": 0,
          "region": "southwest",
          "sex": "female",
          "smoker": "no"
         },
         {
          "age": 22,
          "bmi": 23.18,
          "charges": 2731.9122,
          "children": 0,
          "region": "northeast",
          "sex": "female",
          "smoker": "no"
         },
         {
          "age": 60,
          "bmi": 24.035,
          "charges": 13012.20865,
          "children": 0,
          "region": "northwest",
          "sex": "female",
          "smoker": "no"
         },
         {
          "age": 42,
          "bmi": 36.195,
          "charges": 7443.64305,
          "children": 1,
          "region": "northwest",
          "sex": "female",
          "smoker": "no"
         },
         {
          "age": 56,
          "bmi": 36.1,
          "charges": 12363.547,
          "children": 3,
          "region": "southwest",
          "sex": "male",
          "smoker": "no"
         },
         {
          "age": 32,
          "bmi": 33.82,
          "charges": 4462.7218,
          "children": 1,
          "region": "northwest",
          "sex": "male",
          "smoker": "no"
         },
         {
          "age": 53,
          "bmi": 26.41,
          "charges": 11244.3769,
          "children": 2,
          "region": "northeast",
          "sex": "male",
          "smoker": "no"
         },
         {
          "age": 18,
          "bmi": 39.14,
          "charges": 12890.05765,
          "children": 0,
          "region": "northeast",
          "sex": "male",
          "smoker": "no"
         },
         {
          "age": 19,
          "bmi": 17.8,
          "charges": 1727.785,
          "children": 0,
          "region": "southwest",
          "sex": "female",
          "smoker": "no"
         },
         {
          "age": 32,
          "bmi": 31.54,
          "charges": 5148.5526,
          "children": 1,
          "region": "northeast",
          "sex": "female",
          "smoker": "no"
         },
         {
          "age": 37,
          "bmi": 29.5,
          "charges": 6311.951999999998,
          "children": 2,
          "region": "southwest",
          "sex": "female",
          "smoker": "no"
         },
         {
          "age": 62,
          "bmi": 30.02,
          "charges": 13352.0998,
          "children": 0,
          "region": "northwest",
          "sex": "male",
          "smoker": "no"
         },
         {
          "age": 53,
          "bmi": 35.9,
          "charges": 11163.568,
          "children": 2,
          "region": "southwest",
          "sex": "female",
          "smoker": "no"
         },
         {
          "age": 28,
          "bmi": 17.29,
          "charges": 3732.6251,
          "children": 0,
          "region": "northeast",
          "sex": "female",
          "smoker": "no"
         },
         {
          "age": 63,
          "bmi": 36.765,
          "charges": 13981.85035,
          "children": 0,
          "region": "northeast",
          "sex": "male",
          "smoker": "no"
         },
         {
          "age": 32,
          "bmi": 44.22,
          "charges": 3994.1778,
          "children": 0,
          "region": "southeast",
          "sex": "female",
          "smoker": "no"
         },
         {
          "age": 50,
          "bmi": 31.825,
          "charges": 41097.16175,
          "children": 0,
          "region": "northeast",
          "sex": "male",
          "smoker": "yes"
         },
         {
          "age": 28,
          "bmi": 33.11,
          "charges": 3171.6149,
          "children": 0,
          "region": "southeast",
          "sex": "female",
          "smoker": "no"
         },
         {
          "age": 55,
          "bmi": 32.395,
          "charges": 11879.10405,
          "children": 1,
          "region": "northeast",
          "sex": "female",
          "smoker": "no"
         },
         {
          "age": 43,
          "bmi": 32.56,
          "charges": 40941.2854,
          "children": 3,
          "region": "southeast",
          "sex": "female",
          "smoker": "yes"
         },
         {
          "age": 22,
          "bmi": 37.62,
          "charges": 37165.1638,
          "children": 1,
          "region": "southeast",
          "sex": "male",
          "smoker": "yes"
         },
         {
          "age": 20,
          "bmi": 22.42,
          "charges": 14711.7438,
          "children": 0,
          "region": "northwest",
          "sex": "female",
          "smoker": "yes"
         },
         {
          "age": 60,
          "bmi": 31.35,
          "charges": 46130.5265,
          "children": 3,
          "region": "northwest",
          "sex": "male",
          "smoker": "yes"
         },
         {
          "age": 51,
          "bmi": 35.97,
          "charges": 9386.1613,
          "children": 1,
          "region": "southeast",
          "sex": "male",
          "smoker": "no"
         },
         {
          "age": 55,
          "bmi": 32.67,
          "charges": 10807.4863,
          "children": 1,
          "region": "southeast",
          "sex": "male",
          "smoker": "no"
         },
         {
          "age": 24,
          "bmi": 29.3,
          "charges": 1977.815,
          "children": 0,
          "region": "southwest",
          "sex": "male",
          "smoker": "no"
         },
         {
          "age": 34,
          "bmi": 34.675,
          "charges": 4518.82625,
          "children": 0,
          "region": "northeast",
          "sex": "male",
          "smoker": "no"
         },
         {
          "age": 53,
          "bmi": 28.6,
          "charges": 11253.421,
          "children": 3,
          "region": "southwest",
          "sex": "male",
          "smoker": "no"
         },
         {
          "age": 63,
          "bmi": 25.08,
          "charges": 14254.6082,
          "children": 0,
          "region": "northwest",
          "sex": "female",
          "smoker": "no"
         },
         {
          "age": 25,
          "bmi": 34.485,
          "charges": 3021.80915,
          "children": 0,
          "region": "northwest",
          "sex": "female",
          "smoker": "no"
         },
         {
          "age": 64,
          "bmi": 22.99,
          "charges": 27037.9141,
          "children": 0,
          "region": "southeast",
          "sex": "female",
          "smoker": "yes"
         },
         {
          "age": 61,
          "bmi": 33.33,
          "charges": 36580.28216,
          "children": 4,
          "region": "southeast",
          "sex": "female",
          "smoker": "no"
         },
         {
          "age": 26,
          "bmi": 29.355,
          "charges": 4564.19145,
          "children": 2,
          "region": "northeast",
          "sex": "female",
          "smoker": "no"
         },
         {
          "age": 64,
          "bmi": 30.115,
          "charges": 16455.70785,
          "children": 3,
          "region": "northwest",
          "sex": "female",
          "smoker": "no"
         },
         {
          "age": 46,
          "bmi": 38.17,
          "charges": 8347.1643,
          "children": 2,
          "region": "southeast",
          "sex": "male",
          "smoker": "no"
         },
         {
          "age": 18,
          "bmi": 23.75,
          "charges": 1705.6245,
          "children": 0,
          "region": "northeast",
          "sex": "male",
          "smoker": "no"
         },
         {
          "age": 48,
          "bmi": 37.29,
          "charges": 8978.1851,
          "children": 2,
          "region": "southeast",
          "sex": "male",
          "smoker": "no"
         },
         {
          "age": 19,
          "bmi": 30.02,
          "charges": 33307.5508,
          "children": 0,
          "region": "northwest",
          "sex": "female",
          "smoker": "yes"
         },
         {
          "age": 27,
          "bmi": 32.67,
          "charges": 2497.0383,
          "children": 0,
          "region": "southeast",
          "sex": "male",
          "smoker": "no"
         },
         {
          "age": 27,
          "bmi": 20.045,
          "charges": 16420.49455,
          "children": 3,
          "region": "northwest",
          "sex": "female",
          "smoker": "yes"
         },
         {
          "age": 30,
          "bmi": 28.38,
          "charges": 19521.9682,
          "children": 1,
          "region": "southeast",
          "sex": "female",
          "smoker": "yes"
         },
         {
          "age": 25,
          "bmi": 30.59,
          "charges": 2727.3951,
          "children": 0,
          "region": "northeast",
          "sex": "male",
          "smoker": "no"
         },
         {
          "age": 32,
          "bmi": 28.12,
          "charges": 21472.4788,
          "children": 4,
          "region": "northwest",
          "sex": "male",
          "smoker": "yes"
         },
         {
          "age": 26,
          "bmi": 27.265,
          "charges": 4661.28635,
          "children": 3,
          "region": "northeast",
          "sex": "male",
          "smoker": "no"
         },
         {
          "age": 20,
          "bmi": 33.33,
          "charges": 1391.5287,
          "children": 0,
          "region": "southeast",
          "sex": "male",
          "smoker": "no"
         },
         {
          "age": 24,
          "bmi": 23.655,
          "charges": 2352.96845,
          "children": 0,
          "region": "northwest",
          "sex": "male",
          "smoker": "no"
         },
         {
          "age": 35,
          "bmi": 39.71,
          "charges": 19496.71917,
          "children": 4,
          "region": "northeast",
          "sex": "male",
          "smoker": "no"
         },
         {
          "age": 40,
          "bmi": 25.08,
          "charges": 5415.6612,
          "children": 0,
          "region": "southeast",
          "sex": "male",
          "smoker": "no"
         },
         {
          "age": 42,
          "bmi": 34.1,
          "charges": 5979.731,
          "children": 0,
          "region": "southwest",
          "sex": "male",
          "smoker": "no"
         },
         {
          "age": 51,
          "bmi": 39.5,
          "charges": 9880.068,
          "children": 1,
          "region": "southwest",
          "sex": "female",
          "smoker": "no"
         },
         {
          "age": 22,
          "bmi": 31.35,
          "charges": 2643.2685,
          "children": 1,
          "region": "northwest",
          "sex": "male",
          "smoker": "no"
         },
         {
          "age": 27,
          "bmi": 23.1,
          "charges": 2483.736,
          "children": 0,
          "region": "southeast",
          "sex": "male",
          "smoker": "no"
         },
         {
          "age": 34,
          "bmi": 23.56,
          "charges": 4992.3764,
          "children": 0,
          "region": "northeast",
          "sex": "female",
          "smoker": "no"
         },
         {
          "age": 24,
          "bmi": 30.21,
          "charges": 4618.0799,
          "children": 3,
          "region": "northwest",
          "sex": "female",
          "smoker": "no"
         },
         {
          "age": 18,
          "bmi": 35.2,
          "charges": 1727.54,
          "children": 1,
          "region": "southeast",
          "sex": "male",
          "smoker": "no"
         },
         {
          "age": 44,
          "bmi": 25.8,
          "charges": 7624.63,
          "children": 1,
          "region": "southwest",
          "sex": "female",
          "smoker": "no"
         },
         {
          "age": 45,
          "bmi": 24.31,
          "charges": 9788.8659,
          "children": 5,
          "region": "southeast",
          "sex": "male",
          "smoker": "no"
         },
         {
          "age": 20,
          "bmi": 24.42,
          "charges": 26125.67477,
          "children": 0,
          "region": "southeast",
          "sex": "female",
          "smoker": "yes"
         },
         {
          "age": 30,
          "bmi": 38.83,
          "charges": 18963.17192,
          "children": 1,
          "region": "southeast",
          "sex": "male",
          "smoker": "no"
         },
         {
          "age": 55,
          "bmi": 33,
          "charges": 20781.48892,
          "children": 0,
          "region": "southeast",
          "sex": "male",
          "smoker": "no"
         },
         {
          "age": 52,
          "bmi": 36.7,
          "charges": 9144.565,
          "children": 0,
          "region": "southwest",
          "sex": "male",
          "smoker": "no"
         },
         {
          "age": 19,
          "bmi": 27.835,
          "charges": 1635.73365,
          "children": 0,
          "region": "northwest",
          "sex": "male",
          "smoker": "no"
         },
         {
          "age": 38,
          "bmi": 28.025,
          "charges": 6067.12675,
          "children": 1,
          "region": "northeast",
          "sex": "male",
          "smoker": "no"
         },
         {
          "age": 31,
          "bmi": 25.935,
          "charges": 4239.89265,
          "children": 1,
          "region": "northwest",
          "sex": "male",
          "smoker": "no"
         },
         {
          "age": 19,
          "bmi": 20.3,
          "charges": 1242.26,
          "children": 0,
          "region": "southwest",
          "sex": "male",
          "smoker": "no"
         },
         {
          "age": 50,
          "bmi": 36.2,
          "charges": 8457.818000000001,
          "children": 0,
          "region": "southwest",
          "sex": "male",
          "smoker": "no"
         },
         {
          "age": 18,
          "bmi": 34.1,
          "charges": 1137.011,
          "children": 0,
          "region": "southeast",
          "sex": "male",
          "smoker": "no"
         },
         {
          "age": 60,
          "bmi": 24.32,
          "charges": 13112.6048,
          "children": 1,
          "region": "northwest",
          "sex": "male",
          "smoker": "no"
         },
         {
          "age": 28,
          "bmi": 36.4,
          "charges": 51194.55914,
          "children": 1,
          "region": "southwest",
          "sex": "male",
          "smoker": "yes"
         },
         {
          "age": 19,
          "bmi": 20.615,
          "charges": 2803.69785,
          "children": 2,
          "region": "northwest",
          "sex": "male",
          "smoker": "no"
         },
         {
          "age": 19,
          "bmi": 35.15,
          "charges": 2134.9015,
          "children": 0,
          "region": "northwest",
          "sex": "female",
          "smoker": "no"
         },
         {
          "age": 45,
          "bmi": 21.375,
          "charges": 7222.78625,
          "children": 0,
          "region": "northwest",
          "sex": "male",
          "smoker": "no"
         },
         {
          "age": 61,
          "bmi": 21.09,
          "charges": 13415.0381,
          "children": 0,
          "region": "northwest",
          "sex": "female",
          "smoker": "no"
         },
         {
          "age": 50,
          "bmi": 27.83,
          "charges": 19749.383380000007,
          "children": 3,
          "region": "southeast",
          "sex": "female",
          "smoker": "no"
         },
         {
          "age": 63,
          "bmi": 26.22,
          "charges": 14256.1928,
          "children": 0,
          "region": "northwest",
          "sex": "female",
          "smoker": "no"
         },
         {
          "age": 44,
          "bmi": 26.41,
          "charges": 7419.4779,
          "children": 0,
          "region": "northwest",
          "sex": "female",
          "smoker": "no"
         },
         {
          "age": 44,
          "bmi": 36.955,
          "charges": 8023.13545,
          "children": 1,
          "region": "northwest",
          "sex": "female",
          "smoker": "no"
         },
         {
          "age": 41,
          "bmi": 28.8,
          "charges": 6282.235,
          "children": 1,
          "region": "southwest",
          "sex": "male",
          "smoker": "no"
         },
         {
          "age": 59,
          "bmi": 29.7,
          "charges": 12925.886,
          "children": 2,
          "region": "southeast",
          "sex": "male",
          "smoker": "no"
         },
         {
          "age": 37,
          "bmi": 36.19,
          "charges": 19214.705530000007,
          "children": 0,
          "region": "southeast",
          "sex": "male",
          "smoker": "no"
         },
         {
          "age": 31,
          "bmi": 21.755,
          "charges": 4134.08245,
          "children": 0,
          "region": "northwest",
          "sex": "female",
          "smoker": "no"
         },
         {
          "age": 56,
          "bmi": 35.8,
          "charges": 11674.13,
          "children": 1,
          "region": "southwest",
          "sex": "female",
          "smoker": "no"
         },
         {
          "age": 52,
          "bmi": 24.86,
          "charges": 27117.99378,
          "children": 0,
          "region": "southeast",
          "sex": "female",
          "smoker": "no"
         },
         {
          "age": 54,
          "bmi": 31.6,
          "charges": 9850.432,
          "children": 0,
          "region": "southwest",
          "sex": "male",
          "smoker": "no"
         },
         {
          "age": 42,
          "bmi": 26.6,
          "charges": 21348.706,
          "children": 0,
          "region": "northwest",
          "sex": "female",
          "smoker": "yes"
         },
         {
          "age": 59,
          "bmi": 24.7,
          "charges": 12323.936000000003,
          "children": 0,
          "region": "northeast",
          "sex": "male",
          "smoker": "no"
         },
         {
          "age": 29,
          "bmi": 35.53,
          "charges": 3366.6697,
          "children": 0,
          "region": "southeast",
          "sex": "female",
          "smoker": "no"
         },
         {
          "age": 42,
          "bmi": 26.18,
          "charges": 7046.7222,
          "children": 1,
          "region": "southeast",
          "sex": "female",
          "smoker": "no"
         },
         {
          "age": 52,
          "bmi": 37.4,
          "charges": 9634.538,
          "children": 0,
          "region": "southwest",
          "sex": "female",
          "smoker": "no"
         },
         {
          "age": 46,
          "bmi": 33.44,
          "charges": 8240.5896,
          "children": 1,
          "region": "southeast",
          "sex": "female",
          "smoker": "no"
         },
         {
          "age": 19,
          "bmi": 30.59,
          "charges": 1639.5631,
          "children": 0,
          "region": "northwest",
          "sex": "male",
          "smoker": "no"
         },
         {
          "age": 31,
          "bmi": 26.885,
          "charges": 4441.21315,
          "children": 1,
          "region": "northeast",
          "sex": "male",
          "smoker": "no"
         },
         {
          "age": 30,
          "bmi": 30.9,
          "charges": 5325.651,
          "children": 3,
          "region": "southwest",
          "sex": "female",
          "smoker": "no"
         },
         {
          "age": 57,
          "bmi": 20.1,
          "charges": 12032.326,
          "children": 1,
          "region": "southwest",
          "sex": "female",
          "smoker": "no"
         },
         {
          "age": 19,
          "bmi": 44.88,
          "charges": 39722.7462,
          "children": 0,
          "region": "southeast",
          "sex": "male",
          "smoker": "yes"
         },
         {
          "age": 21,
          "bmi": 21.89,
          "charges": 3180.5101,
          "children": 2,
          "region": "southeast",
          "sex": "female",
          "smoker": "no"
         },
         {
          "age": 43,
          "bmi": 35.64,
          "charges": 7345.7266,
          "children": 1,
          "region": "southeast",
          "sex": "female",
          "smoker": "no"
         },
         {
          "age": 54,
          "bmi": 27.645,
          "charges": 11305.93455,
          "children": 1,
          "region": "northwest",
          "sex": "female",
          "smoker": "no"
         },
         {
          "age": 25,
          "bmi": 25.74,
          "charges": 2137.6536,
          "children": 0,
          "region": "southeast",
          "sex": "male",
          "smoker": "no"
         },
         {
          "age": 64,
          "bmi": 40.48,
          "charges": 13831.1152,
          "children": 0,
          "region": "southeast",
          "sex": "male",
          "smoker": "no"
         },
         {
          "age": 18,
          "bmi": 38.28,
          "charges": 1631.8212,
          "children": 0,
          "region": "southeast",
          "sex": "female",
          "smoker": "no"
         },
         {
          "age": 45,
          "bmi": 30.9,
          "charges": 8520.026,
          "children": 2,
          "region": "southwest",
          "sex": "female",
          "smoker": "no"
         },
         {
          "age": 31,
          "bmi": 31.065,
          "charges": 4347.02335,
          "children": 0,
          "region": "northeast",
          "sex": "female",
          "smoker": "no"
         },
         {
          "age": 25,
          "bmi": 24.985,
          "charges": 23241.47453,
          "children": 2,
          "region": "northeast",
          "sex": "male",
          "smoker": "no"
         },
         {
          "age": 18,
          "bmi": 28.5,
          "charges": 1712.227,
          "children": 0,
          "region": "northeast",
          "sex": "male",
          "smoker": "no"
         },
         {
          "age": 20,
          "bmi": 28.975,
          "charges": 2257.47525,
          "children": 0,
          "region": "northwest",
          "sex": "female",
          "smoker": "no"
         },
         {
          "age": 54,
          "bmi": 35.815,
          "charges": 12495.29085,
          "children": 3,
          "region": "northwest",
          "sex": "female",
          "smoker": "no"
         },
         {
          "age": 23,
          "bmi": 41.91,
          "charges": 1837.2819,
          "children": 0,
          "region": "southeast",
          "sex": "male",
          "smoker": "no"
         },
         {
          "age": 19,
          "bmi": 35.53,
          "charges": 1646.4297,
          "children": 0,
          "region": "northwest",
          "sex": "male",
          "smoker": "no"
         },
         {
          "age": 51,
          "bmi": 34.1,
          "charges": 9283.562,
          "children": 0,
          "region": "southeast",
          "sex": "female",
          "smoker": "no"
         },
         {
          "age": 52,
          "bmi": 34.1,
          "charges": 9140.951,
          "children": 0,
          "region": "southeast",
          "sex": "male",
          "smoker": "no"
         },
         {
          "age": 50,
          "bmi": 27.075,
          "charges": 10106.13425,
          "children": 1,
          "region": "northeast",
          "sex": "female",
          "smoker": "no"
         },
         {
          "age": 54,
          "bmi": 25.1,
          "charges": 25382.297,
          "children": 3,
          "region": "southwest",
          "sex": "male",
          "smoker": "yes"
         },
         {
          "age": 52,
          "bmi": 30.2,
          "charges": 9724.53,
          "children": 1,
          "region": "southwest",
          "sex": "male",
          "smoker": "no"
         },
         {
          "age": 49,
          "bmi": 32.3,
          "charges": 10269.46,
          "children": 3,
          "region": "northwest",
          "sex": "male",
          "smoker": "no"
         },
         {
          "age": 52,
          "bmi": 31.2,
          "charges": 9625.92,
          "children": 0,
          "region": "southwest",
          "sex": "female",
          "smoker": "no"
         },
         {
          "age": 53,
          "bmi": 41.47,
          "charges": 9504.3103,
          "children": 0,
          "region": "southeast",
          "sex": "male",
          "smoker": "no"
         },
         {
          "age": 30,
          "bmi": 23.655,
          "charges": 18765.87545,
          "children": 3,
          "region": "northwest",
          "sex": "female",
          "smoker": "yes"
         },
         {
          "age": 24,
          "bmi": 33.63,
          "charges": 17128.42608,
          "children": 4,
          "region": "northeast",
          "sex": "male",
          "smoker": "no"
         },
         {
          "age": 32,
          "bmi": 27.835,
          "charges": 4454.40265,
          "children": 1,
          "region": "northwest",
          "sex": "male",
          "smoker": "no"
         },
         {
          "age": 54,
          "bmi": 25.46,
          "charges": 25517.11363,
          "children": 1,
          "region": "northeast",
          "sex": "male",
          "smoker": "no"
         },
         {
          "age": 40,
          "bmi": 32.775,
          "charges": 40003.33225,
          "children": 2,
          "region": "northwest",
          "sex": "female",
          "smoker": "yes"
         },
         {
          "age": 52,
          "bmi": 27.36,
          "charges": 24393.6224,
          "children": 0,
          "region": "northwest",
          "sex": "male",
          "smoker": "yes"
         },
         {
          "age": 41,
          "bmi": 34.2,
          "charges": 7261.741,
          "children": 2,
          "region": "northwest",
          "sex": "male",
          "smoker": "no"
         },
         {
          "age": 27,
          "bmi": 24.1,
          "charges": 2974.126,
          "children": 0,
          "region": "southwest",
          "sex": "female",
          "smoker": "no"
         },
         {
          "age": 45,
          "bmi": 36.3,
          "charges": 8527.532,
          "children": 2,
          "region": "southeast",
          "sex": "female",
          "smoker": "no"
         },
         {
          "age": 56,
          "bmi": 25.65,
          "charges": 11454.0215,
          "children": 0,
          "region": "northwest",
          "sex": "female",
          "smoker": "no"
         },
         {
          "age": 47,
          "bmi": 36.2,
          "charges": 8068.185,
          "children": 1,
          "region": "southwest",
          "sex": "male",
          "smoker": "no"
         },
         {
          "age": 30,
          "bmi": 25.46,
          "charges": 3645.0894,
          "children": 0,
          "region": "northeast",
          "sex": "male",
          "smoker": "no"
         },
         {
          "age": 60,
          "bmi": 29.64,
          "charges": 12730.9996,
          "children": 0,
          "region": "northeast",
          "sex": "male",
          "smoker": "no"
         },
         {
          "age": 45,
          "bmi": 24.035,
          "charges": 8604.48365,
          "children": 2,
          "region": "northeast",
          "sex": "male",
          "smoker": "no"
         },
         {
          "age": 47,
          "bmi": 36.08,
          "charges": 42211.1382,
          "children": 1,
          "region": "southeast",
          "sex": "male",
          "smoker": "yes"
         },
         {
          "age": 22,
          "bmi": 28.31,
          "charges": 2639.0429,
          "children": 1,
          "region": "northwest",
          "sex": "male",
          "smoker": "no"
         },
         {
          "age": 35,
          "bmi": 27.74,
          "charges": 20984.0936,
          "children": 2,
          "region": "northeast",
          "sex": "male",
          "smoker": "yes"
         },
         {
          "age": 41,
          "bmi": 28.405,
          "charges": 6664.68595,
          "children": 1,
          "region": "northwest",
          "sex": "male",
          "smoker": "no"
         },
         {
          "age": 49,
          "bmi": 29.925,
          "charges": 8988.15875,
          "children": 0,
          "region": "northwest",
          "sex": "female",
          "smoker": "no"
         },
         {
          "age": 64,
          "bmi": 31.3,
          "charges": 47291.055,
          "children": 2,
          "region": "southwest",
          "sex": "female",
          "smoker": "yes"
         },
         {
          "age": 19,
          "bmi": 33.1,
          "charges": 23082.95533,
          "children": 0,
          "region": "southwest",
          "sex": "male",
          "smoker": "no"
         },
         {
          "age": 59,
          "bmi": 36.765,
          "charges": 47896.79135,
          "children": 1,
          "region": "northeast",
          "sex": "female",
          "smoker": "yes"
         },
         {
          "age": 31,
          "bmi": 25.9,
          "charges": 19199.944,
          "children": 3,
          "region": "southwest",
          "sex": "male",
          "smoker": "yes"
         },
         {
          "age": 64,
          "bmi": 39.7,
          "charges": 14319.031,
          "children": 0,
          "region": "southwest",
          "sex": "female",
          "smoker": "no"
         },
         {
          "age": 45,
          "bmi": 27.645,
          "charges": 28340.18885,
          "children": 1,
          "region": "northwest",
          "sex": "female",
          "smoker": "no"
         },
         {
          "age": 58,
          "bmi": 36.48,
          "charges": 12235.8392,
          "children": 0,
          "region": "northwest",
          "sex": "female",
          "smoker": "no"
         },
         {
          "age": 53,
          "bmi": 30.495,
          "charges": 10072.05505,
          "children": 0,
          "region": "northeast",
          "sex": "male",
          "smoker": "no"
         },
         {
          "age": 36,
          "bmi": 22.135,
          "charges": 7228.21565,
          "children": 3,
          "region": "northeast",
          "sex": "female",
          "smoker": "no"
         },
         {
          "age": 22,
          "bmi": 31.02,
          "charges": 35595.5898,
          "children": 3,
          "region": "southeast",
          "sex": "female",
          "smoker": "yes"
         },
         {
          "age": 25,
          "bmi": 32.23,
          "charges": 18218.16139,
          "children": 1,
          "region": "southeast",
          "sex": "female",
          "smoker": "no"
         },
         {
          "age": 30,
          "bmi": 39.05,
          "charges": 40932.4295,
          "children": 3,
          "region": "southeast",
          "sex": "female",
          "smoker": "yes"
         },
         {
          "age": 64,
          "bmi": 35.97,
          "charges": 14313.8463,
          "children": 0,
          "region": "southeast",
          "sex": "female",
          "smoker": "no"
         },
         {
          "age": 34,
          "bmi": 25.3,
          "charges": 18972.495,
          "children": 2,
          "region": "southeast",
          "sex": "male",
          "smoker": "yes"
         },
         {
          "age": 35,
          "bmi": 34.21,
          "charges": 5245.2269,
          "children": 1,
          "region": "southeast",
          "sex": "female",
          "smoker": "no"
         },
         {
          "age": 53,
          "bmi": 31.16,
          "charges": 10461.9794,
          "children": 1,
          "region": "northwest",
          "sex": "male",
          "smoker": "no"
         },
         {
          "age": 33,
          "bmi": 33.44,
          "charges": 6653.7886,
          "children": 5,
          "region": "southeast",
          "sex": "male",
          "smoker": "no"
         },
         {
          "age": 45,
          "bmi": 20.35,
          "charges": 8605.3615,
          "children": 3,
          "region": "southeast",
          "sex": "male",
          "smoker": "no"
         },
         {
          "age": 23,
          "bmi": 26.51,
          "charges": 1815.8759,
          "children": 0,
          "region": "southeast",
          "sex": "male",
          "smoker": "no"
         },
         {
          "age": 20,
          "bmi": 35.625,
          "charges": 37465.34375,
          "children": 3,
          "region": "northwest",
          "sex": "male",
          "smoker": "yes"
         },
         {
          "age": 51,
          "bmi": 30.03,
          "charges": 9377.9047,
          "children": 1,
          "region": "southeast",
          "sex": "male",
          "smoker": "no"
         },
         {
          "age": 23,
          "bmi": 24.51,
          "charges": 2396.0959,
          "children": 0,
          "region": "northeast",
          "sex": "male",
          "smoker": "no"
         },
         {
          "age": 52,
          "bmi": 25.3,
          "charges": 24667.419,
          "children": 2,
          "region": "southeast",
          "sex": "female",
          "smoker": "yes"
         },
         {
          "age": 27,
          "bmi": 30.3,
          "charges": 4260.7440000000015,
          "children": 3,
          "region": "southwest",
          "sex": "male",
          "smoker": "no"
         },
         {
          "age": 25,
          "bmi": 25.84,
          "charges": 3309.7926,
          "children": 1,
          "region": "northeast",
          "sex": "male",
          "smoker": "no"
         },
         {
          "age": 62,
          "bmi": 32.11,
          "charges": 13555.0049,
          "children": 0,
          "region": "northeast",
          "sex": "male",
          "smoker": "no"
         },
         {
          "age": 46,
          "bmi": 28.05,
          "charges": 8233.0975,
          "children": 1,
          "region": "southeast",
          "sex": "female",
          "smoker": "no"
         },
         {
          "age": 45,
          "bmi": 30.2,
          "charges": 7441.053000000001,
          "children": 1,
          "region": "southwest",
          "sex": "male",
          "smoker": "no"
         },
         {
          "age": 28,
          "bmi": 25.935,
          "charges": 4133.64165,
          "children": 1,
          "region": "northwest",
          "sex": "female",
          "smoker": "no"
         },
         {
          "age": 23,
          "bmi": 23.18,
          "charges": 14426.07385,
          "children": 2,
          "region": "northwest",
          "sex": "female",
          "smoker": "no"
         },
         {
          "age": 31,
          "bmi": 26.62,
          "charges": 3757.8448,
          "children": 0,
          "region": "southeast",
          "sex": "female",
          "smoker": "no"
         },
         {
          "age": 57,
          "bmi": 31.825,
          "charges": 11842.62375,
          "children": 0,
          "region": "northwest",
          "sex": "female",
          "smoker": "no"
         },
         {
          "age": 49,
          "bmi": 25.84,
          "charges": 23807.2406,
          "children": 2,
          "region": "northwest",
          "sex": "male",
          "smoker": "yes"
         },
         {
          "age": 60,
          "bmi": 32.8,
          "charges": 52590.82939,
          "children": 0,
          "region": "southwest",
          "sex": "male",
          "smoker": "yes"
         },
         {
          "age": 56,
          "bmi": 34.43,
          "charges": 10594.2257,
          "children": 0,
          "region": "southeast",
          "sex": "male",
          "smoker": "no"
         },
         {
          "age": 38,
          "bmi": 19.95,
          "charges": 7133.9025,
          "children": 2,
          "region": "northeast",
          "sex": "female",
          "smoker": "no"
         },
         {
          "age": 49,
          "bmi": 27.17,
          "charges": 8601.3293,
          "children": 0,
          "region": "southeast",
          "sex": "female",
          "smoker": "no"
         },
         {
          "age": 51,
          "bmi": 25.8,
          "charges": 9861.025,
          "children": 1,
          "region": "southwest",
          "sex": "female",
          "smoker": "no"
         },
         {
          "age": 44,
          "bmi": 25.365,
          "charges": 7518.02535,
          "children": 1,
          "region": "northwest",
          "sex": "male",
          "smoker": "no"
         },
         {
          "age": 25,
          "bmi": 41.325,
          "charges": 17878.900680000002,
          "children": 0,
          "region": "northeast",
          "sex": "female",
          "smoker": "no"
         },
         {
          "age": 25,
          "bmi": 23.9,
          "charges": 5080.096,
          "children": 5,
          "region": "southwest",
          "sex": "male",
          "smoker": "no"
         },
         {
          "age": 30,
          "bmi": 27.93,
          "charges": 4137.5227,
          "children": 0,
          "region": "northeast",
          "sex": "female",
          "smoker": "no"
         },
         {
          "age": 24,
          "bmi": 33.345,
          "charges": 2855.43755,
          "children": 0,
          "region": "northwest",
          "sex": "female",
          "smoker": "no"
         },
         {
          "age": 63,
          "bmi": 35.2,
          "charges": 14474.675,
          "children": 1,
          "region": "southeast",
          "sex": "female",
          "smoker": "no"
         },
         {
          "age": 51,
          "bmi": 20.6,
          "charges": 9264.797,
          "children": 0,
          "region": "southwest",
          "sex": "female",
          "smoker": "no"
         },
         {
          "age": 28,
          "bmi": 26.51,
          "charges": 4340.4409,
          "children": 2,
          "region": "southeast",
          "sex": "female",
          "smoker": "no"
         },
         {
          "age": 45,
          "bmi": 30.495,
          "charges": 39725.51805,
          "children": 1,
          "region": "northwest",
          "sex": "female",
          "smoker": "yes"
         },
         {
          "age": 59,
          "bmi": 37.4,
          "charges": 21797.0004,
          "children": 0,
          "region": "southwest",
          "sex": "male",
          "smoker": "no"
         },
         {
          "age": 51,
          "bmi": 33.915,
          "charges": 9866.30485,
          "children": 0,
          "region": "northeast",
          "sex": "female",
          "smoker": "no"
         },
         {
          "age": 35,
          "bmi": 34.77,
          "charges": 5729.0053,
          "children": 2,
          "region": "northwest",
          "sex": "male",
          "smoker": "no"
         },
         {
          "age": 29,
          "bmi": 34.4,
          "charges": 36197.699,
          "children": 0,
          "region": "southwest",
          "sex": "male",
          "smoker": "yes"
         },
         {
          "age": 52,
          "bmi": 34.485,
          "charges": 60021.39897,
          "children": 3,
          "region": "northwest",
          "sex": "male",
          "smoker": "yes"
         },
         {
          "age": 19,
          "bmi": 24.7,
          "charges": 1737.376,
          "children": 0,
          "region": "southwest",
          "sex": "female",
          "smoker": "no"
         },
         {
          "age": 19,
          "bmi": 18.6,
          "charges": 1728.8970000000004,
          "children": 0,
          "region": "southwest",
          "sex": "female",
          "smoker": "no"
         },
         {
          "age": 35,
          "bmi": 31,
          "charges": 5240.765,
          "children": 1,
          "region": "southwest",
          "sex": "female",
          "smoker": "no"
         },
         {
          "age": 42,
          "bmi": 31.255,
          "charges": 6358.77645,
          "children": 0,
          "region": "northwest",
          "sex": "male",
          "smoker": "no"
         },
         {
          "age": 42,
          "bmi": 23.37,
          "charges": 19964.7463,
          "children": 0,
          "region": "northeast",
          "sex": "female",
          "smoker": "yes"
         },
         {
          "age": 58,
          "bmi": 49.06,
          "charges": 11381.3254,
          "children": 0,
          "region": "southeast",
          "sex": "male",
          "smoker": "no"
         },
         {
          "age": 62,
          "bmi": 31.73,
          "charges": 14043.4767,
          "children": 0,
          "region": "northeast",
          "sex": "female",
          "smoker": "no"
         },
         {
          "age": 28,
          "bmi": 24.32,
          "charges": 23288.9284,
          "children": 1,
          "region": "northeast",
          "sex": "female",
          "smoker": "no"
         },
         {
          "age": 52,
          "bmi": 33.3,
          "charges": 10806.839,
          "children": 2,
          "region": "southwest",
          "sex": "female",
          "smoker": "no"
         },
         {
          "age": 59,
          "bmi": 36.52,
          "charges": 28287.89766,
          "children": 1,
          "region": "southeast",
          "sex": "female",
          "smoker": "no"
         },
         {
          "age": 55,
          "bmi": 35.245,
          "charges": 11394.06555,
          "children": 1,
          "region": "northeast",
          "sex": "male",
          "smoker": "no"
         },
         {
          "age": 58,
          "bmi": 28.215,
          "charges": 12224.35085,
          "children": 0,
          "region": "northwest",
          "sex": "female",
          "smoker": "no"
         },
         {
          "age": 42,
          "bmi": 40.37,
          "charges": 43896.3763,
          "children": 2,
          "region": "southeast",
          "sex": "female",
          "smoker": "yes"
         },
         {
          "age": 34,
          "bmi": 31.92,
          "charges": 37701.8768,
          "children": 1,
          "region": "northeast",
          "sex": "female",
          "smoker": "yes"
         },
         {
          "age": 29,
          "bmi": 22.515,
          "charges": 5209.57885,
          "children": 3,
          "region": "northeast",
          "sex": "male",
          "smoker": "no"
         },
         {
          "age": 22,
          "bmi": 35.6,
          "charges": 35585.576,
          "children": 0,
          "region": "southwest",
          "sex": "male",
          "smoker": "yes"
         },
         {
          "age": 55,
          "bmi": 33.88,
          "charges": 11987.1682,
          "children": 3,
          "region": "southeast",
          "sex": "male",
          "smoker": "no"
         },
         {
          "age": 19,
          "bmi": 27.9,
          "charges": 16884.924,
          "children": 0,
          "region": "southwest",
          "sex": "female",
          "smoker": "yes"
         },
         {
          "age": 19,
          "bmi": 20.7,
          "charges": 1242.816,
          "children": 0,
          "region": "southwest",
          "sex": "male",
          "smoker": "no"
         },
         {
          "age": 54,
          "bmi": 28.88,
          "charges": 12096.6512,
          "children": 2,
          "region": "northeast",
          "sex": "female",
          "smoker": "no"
         },
         {
          "age": 20,
          "bmi": 40.47,
          "charges": 1984.4533,
          "children": 0,
          "region": "northeast",
          "sex": "male",
          "smoker": "no"
         },
         {
          "age": 60,
          "bmi": 33.11,
          "charges": 13919.8229,
          "children": 3,
          "region": "southeast",
          "sex": "male",
          "smoker": "no"
         },
         {
          "age": 53,
          "bmi": 29.48,
          "charges": 9487.6442,
          "children": 0,
          "region": "southeast",
          "sex": "male",
          "smoker": "no"
         },
         {
          "age": 18,
          "bmi": 33.535,
          "charges": 34617.84065,
          "children": 0,
          "region": "northeast",
          "sex": "male",
          "smoker": "yes"
         },
         {
          "age": 18,
          "bmi": 30.305,
          "charges": 2203.73595,
          "children": 0,
          "region": "northeast",
          "sex": "female",
          "smoker": "no"
         },
         {
          "age": 60,
          "bmi": 28.595,
          "charges": 30259.995560000007,
          "children": 0,
          "region": "northeast",
          "sex": "male",
          "smoker": "no"
         },
         {
          "age": 26,
          "bmi": 17.67,
          "charges": 2680.9493,
          "children": 0,
          "region": "northwest",
          "sex": "male",
          "smoker": "no"
         },
         {
          "age": 24,
          "bmi": 25.27,
          "charges": 3044.2133,
          "children": 0,
          "region": "northeast",
          "sex": "female",
          "smoker": "no"
         },
         {
          "age": 19,
          "bmi": 28.6,
          "charges": 4687.797000000001,
          "children": 5,
          "region": "southwest",
          "sex": "female",
          "smoker": "no"
         },
         {
          "age": 32,
          "bmi": 37.145,
          "charges": 6334.34355,
          "children": 3,
          "region": "northeast",
          "sex": "female",
          "smoker": "no"
         },
         {
          "age": 58,
          "bmi": 36.08,
          "charges": 11363.2832,
          "children": 0,
          "region": "southeast",
          "sex": "male",
          "smoker": "no"
         },
         {
          "age": 61,
          "bmi": 36.3,
          "charges": 47403.88,
          "children": 1,
          "region": "southwest",
          "sex": "male",
          "smoker": "yes"
         },
         {
          "age": 35,
          "bmi": 36.67,
          "charges": 39774.2763,
          "children": 1,
          "region": "northeast",
          "sex": "male",
          "smoker": "yes"
         },
         {
          "age": 37,
          "bmi": 28.025,
          "charges": 6203.90175,
          "children": 2,
          "region": "northwest",
          "sex": "male",
          "smoker": "no"
         },
         {
          "age": 31,
          "bmi": 36.3,
          "charges": 38711,
          "children": 2,
          "region": "southwest",
          "sex": "male",
          "smoker": "yes"
         },
         {
          "age": 35,
          "bmi": 23.465,
          "charges": 6402.29135,
          "children": 2,
          "region": "northeast",
          "sex": "female",
          "smoker": "no"
         },
         {
          "age": 64,
          "bmi": 39.33,
          "charges": 14901.5167,
          "children": 0,
          "region": "northeast",
          "sex": "female",
          "smoker": "no"
         },
         {
          "age": 28,
          "bmi": 28.88,
          "charges": 4337.7352,
          "children": 1,
          "region": "northeast",
          "sex": "female",
          "smoker": "no"
         },
         {
          "age": 28,
          "bmi": 23.845,
          "charges": 4719.73655,
          "children": 2,
          "region": "northwest",
          "sex": "female",
          "smoker": "no"
         },
         {
          "age": 54,
          "bmi": 31.9,
          "charges": 10928.848999999998,
          "children": 1,
          "region": "southeast",
          "sex": "female",
          "smoker": "no"
         },
         {
          "age": 29,
          "bmi": 32.11,
          "charges": 4433.9159,
          "children": 2,
          "region": "northwest",
          "sex": "male",
          "smoker": "no"
         },
         {
          "age": 25,
          "bmi": 29.7,
          "charges": 19933.458,
          "children": 3,
          "region": "southwest",
          "sex": "male",
          "smoker": "yes"
         },
         {
          "age": 43,
          "bmi": 25.08,
          "charges": 7325.0482,
          "children": 0,
          "region": "northeast",
          "sex": "female",
          "smoker": "no"
         },
         {
          "age": 58,
          "bmi": 28.595,
          "charges": 11735.87905,
          "children": 0,
          "region": "northwest",
          "sex": "male",
          "smoker": "no"
         },
         {
          "age": 44,
          "bmi": 29.81,
          "charges": 8219.2039,
          "children": 2,
          "region": "southeast",
          "sex": "female",
          "smoker": "no"
         },
         {
          "age": 51,
          "bmi": 24.415,
          "charges": 11520.09985,
          "children": 4,
          "region": "northwest",
          "sex": "male",
          "smoker": "no"
         },
         {
          "age": 44,
          "bmi": 34.32,
          "charges": 7147.4728,
          "children": 1,
          "region": "southeast",
          "sex": "male",
          "smoker": "no"
         },
         {
          "age": 19,
          "bmi": 17.48,
          "charges": 1621.3402,
          "children": 0,
          "region": "northwest",
          "sex": "male",
          "smoker": "no"
         },
         {
          "age": 53,
          "bmi": 38.06,
          "charges": 20462.99766,
          "children": 3,
          "region": "southeast",
          "sex": "female",
          "smoker": "no"
         },
         {
          "age": 19,
          "bmi": 28.3,
          "charges": 17081.08,
          "children": 0,
          "region": "southwest",
          "sex": "female",
          "smoker": "yes"
         },
         {
          "age": 30,
          "bmi": 28.405,
          "charges": 4527.18295,
          "children": 1,
          "region": "northwest",
          "sex": "female",
          "smoker": "no"
         },
         {
          "age": 58,
          "bmi": 33.44,
          "charges": 12231.6136,
          "children": 0,
          "region": "northwest",
          "sex": "female",
          "smoker": "no"
         },
         {
          "age": 45,
          "bmi": 33.7,
          "charges": 7445.9180000000015,
          "children": 1,
          "region": "southwest",
          "sex": "male",
          "smoker": "no"
         },
         {
          "age": 18,
          "bmi": 22.99,
          "charges": 1704.5681,
          "children": 0,
          "region": "northeast",
          "sex": "male",
          "smoker": "no"
         },
         {
          "age": 39,
          "bmi": 23.87,
          "charges": 8582.3023,
          "children": 5,
          "region": "southeast",
          "sex": "female",
          "smoker": "no"
         },
         {
          "age": 36,
          "bmi": 29.04,
          "charges": 7243.8136,
          "children": 4,
          "region": "southeast",
          "sex": "female",
          "smoker": "no"
         },
         {
          "age": 51,
          "bmi": 32.3,
          "charges": 9964.06,
          "children": 1,
          "region": "northeast",
          "sex": "male",
          "smoker": "no"
         },
         {
          "age": 39,
          "bmi": 31.92,
          "charges": 7209.4918,
          "children": 2,
          "region": "northwest",
          "sex": "female",
          "smoker": "no"
         },
         {
          "age": 48,
          "bmi": 31.13,
          "charges": 8280.6227,
          "children": 0,
          "region": "southeast",
          "sex": "female",
          "smoker": "no"
         },
         {
          "age": 18,
          "bmi": 39.82,
          "charges": 1633.9618,
          "children": 0,
          "region": "southeast",
          "sex": "female",
          "smoker": "no"
         },
         {
          "age": 37,
          "bmi": 46.53,
          "charges": 6435.6237,
          "children": 3,
          "region": "southeast",
          "sex": "male",
          "smoker": "no"
         },
         {
          "age": 64,
          "bmi": 26.885,
          "charges": 29330.98315,
          "children": 0,
          "region": "northwest",
          "sex": "female",
          "smoker": "yes"
         },
         {
          "age": 38,
          "bmi": 19.95,
          "charges": 5855.9025,
          "children": 1,
          "region": "northwest",
          "sex": "male",
          "smoker": "no"
         },
         {
          "age": 52,
          "bmi": 30.875,
          "charges": 23045.56616,
          "children": 0,
          "region": "northeast",
          "sex": "female",
          "smoker": "no"
         },
         {
          "age": 29,
          "bmi": 38.94,
          "charges": 3471.4096,
          "children": 1,
          "region": "southeast",
          "sex": "male",
          "smoker": "no"
         },
         {
          "age": 20,
          "bmi": 28.025,
          "charges": 17560.37975,
          "children": 1,
          "region": "northwest",
          "sex": "male",
          "smoker": "yes"
         },
         {
          "age": 31,
          "bmi": 28.5,
          "charges": 6799.458000000001,
          "children": 5,
          "region": "northeast",
          "sex": "male",
          "smoker": "no"
         },
         {
          "age": 36,
          "bmi": 28.88,
          "charges": 6748.5912,
          "children": 3,
          "region": "northeast",
          "sex": "male",
          "smoker": "no"
         },
         {
          "age": 39,
          "bmi": 24.51,
          "charges": 6710.1919,
          "children": 2,
          "region": "northwest",
          "sex": "male",
          "smoker": "no"
         },
         {
          "age": 46,
          "bmi": 33.345,
          "charges": 8334.45755,
          "children": 1,
          "region": "northeast",
          "sex": "male",
          "smoker": "no"
         },
         {
          "age": 50,
          "bmi": 30.115,
          "charges": 9910.35985,
          "children": 1,
          "region": "northwest",
          "sex": "female",
          "smoker": "no"
         },
         {
          "age": 38,
          "bmi": 31,
          "charges": 5488.262,
          "children": 1,
          "region": "southwest",
          "sex": "male",
          "smoker": "no"
         },
         {
          "age": 59,
          "bmi": 27.5,
          "charges": 12233.828,
          "children": 0,
          "region": "southwest",
          "sex": "female",
          "smoker": "no"
         },
         {
          "age": 63,
          "bmi": 26.98,
          "charges": 28950.4692,
          "children": 0,
          "region": "northwest",
          "sex": "female",
          "smoker": "yes"
         },
         {
          "age": 64,
          "bmi": 32.965,
          "charges": 14692.66935,
          "children": 0,
          "region": "northwest",
          "sex": "female",
          "smoker": "no"
         },
         {
          "age": 42,
          "bmi": 37.18,
          "charges": 7162.0122,
          "children": 2,
          "region": "southeast",
          "sex": "male",
          "smoker": "no"
         },
         {
          "age": 50,
          "bmi": 27.36,
          "charges": 25656.57526,
          "children": 0,
          "region": "northeast",
          "sex": "female",
          "smoker": "no"
         },
         {
          "age": 57,
          "bmi": 28.7,
          "charges": 11455.28,
          "children": 0,
          "region": "southwest",
          "sex": "female",
          "smoker": "no"
         },
         {
          "age": 22,
          "bmi": 52.58,
          "charges": 44501.3982,
          "children": 1,
          "region": "southeast",
          "sex": "male",
          "smoker": "yes"
         },
         {
          "age": 36,
          "bmi": 35.2,
          "charges": 38709.176,
          "children": 1,
          "region": "southeast",
          "sex": "male",
          "smoker": "yes"
         },
         {
          "age": 55,
          "bmi": 30.5,
          "charges": 10704.47,
          "children": 0,
          "region": "southwest",
          "sex": "female",
          "smoker": "no"
         },
         {
          "age": 58,
          "bmi": 39.05,
          "charges": 11856.4115,
          "children": 0,
          "region": "southeast",
          "sex": "female",
          "smoker": "no"
         },
         {
          "age": 56,
          "bmi": 37.51,
          "charges": 12265.5069,
          "children": 2,
          "region": "southeast",
          "sex": "female",
          "smoker": "no"
         },
         {
          "age": 54,
          "bmi": 31.24,
          "charges": 10338.9316,
          "children": 0,
          "region": "southeast",
          "sex": "female",
          "smoker": "no"
         },
         {
          "age": 41,
          "bmi": 33.155,
          "charges": 8538.28845,
          "children": 3,
          "region": "northeast",
          "sex": "female",
          "smoker": "no"
         },
         {
          "age": 48,
          "bmi": 32.23,
          "charges": 8871.1517,
          "children": 1,
          "region": "southeast",
          "sex": "female",
          "smoker": "no"
         },
         {
          "age": 40,
          "bmi": 29.81,
          "charges": 6500.2359,
          "children": 1,
          "region": "southeast",
          "sex": "female",
          "smoker": "no"
         },
         {
          "age": 24,
          "bmi": 33.99,
          "charges": 2473.3341,
          "children": 0,
          "region": "southeast",
          "sex": "female",
          "smoker": "no"
         },
         {
          "age": 31,
          "bmi": 25.8,
          "charges": 4934.705,
          "children": 2,
          "region": "southwest",
          "sex": "female",
          "smoker": "no"
         },
         {
          "age": 52,
          "bmi": 23.18,
          "charges": 10197.7722,
          "children": 0,
          "region": "northeast",
          "sex": "female",
          "smoker": "no"
         },
         {
          "age": 59,
          "bmi": 27.83,
          "charges": 14001.2867,
          "children": 3,
          "region": "southeast",
          "sex": "female",
          "smoker": "no"
         },
         {
          "age": 35,
          "bmi": 24.42,
          "charges": 19361.9988,
          "children": 3,
          "region": "southeast",
          "sex": "male",
          "smoker": "yes"
         },
         {
          "age": 39,
          "bmi": 29.6,
          "charges": 7512.267,
          "children": 4,
          "region": "southwest",
          "sex": "male",
          "smoker": "no"
         },
         {
          "age": 39,
          "bmi": 29.925,
          "charges": 22462.04375,
          "children": 1,
          "region": "northeast",
          "sex": "male",
          "smoker": "yes"
         },
         {
          "age": 22,
          "bmi": 32.11,
          "charges": 2055.3249,
          "children": 0,
          "region": "northwest",
          "sex": "male",
          "smoker": "no"
         },
         {
          "age": 34,
          "bmi": 26.41,
          "charges": 5385.3379,
          "children": 1,
          "region": "northwest",
          "sex": "female",
          "smoker": "no"
         },
         {
          "age": 25,
          "bmi": 24.3,
          "charges": 4391.652,
          "children": 3,
          "region": "southwest",
          "sex": "female",
          "smoker": "no"
         },
         {
          "age": 59,
          "bmi": 34.8,
          "charges": 36910.60803,
          "children": 2,
          "region": "southwest",
          "sex": "female",
          "smoker": "no"
         },
         {
          "age": 35,
          "bmi": 27.1,
          "charges": 4746.344,
          "children": 1,
          "region": "southwest",
          "sex": "male",
          "smoker": "no"
         },
         {
          "age": 46,
          "bmi": 30.8,
          "charges": 9414.92,
          "children": 3,
          "region": "southwest",
          "sex": "female",
          "smoker": "no"
         },
         {
          "age": 29,
          "bmi": 29.59,
          "charges": 3947.4131,
          "children": 1,
          "region": "southeast",
          "sex": "female",
          "smoker": "no"
         },
         {
          "age": 59,
          "bmi": 27.5,
          "charges": 12333.828,
          "children": 1,
          "region": "southwest",
          "sex": "male",
          "smoker": "no"
         },
         {
          "age": 47,
          "bmi": 25.41,
          "charges": 21978.6769,
          "children": 1,
          "region": "southeast",
          "sex": "male",
          "smoker": "yes"
         },
         {
          "age": 51,
          "bmi": 25.4,
          "charges": 8782.469000000001,
          "children": 0,
          "region": "southwest",
          "sex": "male",
          "smoker": "no"
         },
         {
          "age": 28,
          "bmi": 37.1,
          "charges": 3277.161,
          "children": 1,
          "region": "southwest",
          "sex": "male",
          "smoker": "no"
         },
         {
          "age": 19,
          "bmi": 34.8,
          "charges": 34779.615,
          "children": 0,
          "region": "southwest",
          "sex": "male",
          "smoker": "yes"
         },
         {
          "age": 18,
          "bmi": 40.26,
          "charges": 1634.5734,
          "children": 0,
          "region": "southeast",
          "sex": "female",
          "smoker": "no"
         },
         {
          "age": 49,
          "bmi": 22.61,
          "charges": 9566.9909,
          "children": 1,
          "region": "northwest",
          "sex": "female",
          "smoker": "no"
         },
         {
          "age": 26,
          "bmi": 28.785,
          "charges": 3385.39915,
          "children": 0,
          "region": "northeast",
          "sex": "female",
          "smoker": "no"
         },
         {
          "age": 40,
          "bmi": 41.69,
          "charges": 5438.7491,
          "children": 0,
          "region": "southeast",
          "sex": "male",
          "smoker": "no"
         },
         {
          "age": 25,
          "bmi": 30.3,
          "charges": 2632.992,
          "children": 0,
          "region": "southwest",
          "sex": "female",
          "smoker": "no"
         },
         {
          "age": 32,
          "bmi": 28.93,
          "charges": 3972.9247,
          "children": 0,
          "region": "southeast",
          "sex": "female",
          "smoker": "no"
         },
         {
          "age": 19,
          "bmi": 21.755,
          "charges": 1627.28245,
          "children": 0,
          "region": "northwest",
          "sex": "male",
          "smoker": "no"
         },
         {
          "age": 31,
          "bmi": 29.81,
          "charges": 19350.3689,
          "children": 0,
          "region": "southeast",
          "sex": "male",
          "smoker": "yes"
         },
         {
          "age": 38,
          "bmi": 27.835,
          "charges": 7144.86265,
          "children": 2,
          "region": "northeast",
          "sex": "female",
          "smoker": "no"
         },
         {
          "age": 59,
          "bmi": 23.655,
          "charges": 25678.77845,
          "children": 0,
          "region": "northwest",
          "sex": "female",
          "smoker": "yes"
         },
         {
          "age": 22,
          "bmi": 34.58,
          "charges": 3925.7582,
          "children": 2,
          "region": "northeast",
          "sex": "female",
          "smoker": "no"
         },
         {
          "age": 42,
          "bmi": 37.9,
          "charges": 6474.013000000001,
          "children": 0,
          "region": "southwest",
          "sex": "female",
          "smoker": "no"
         },
         {
          "age": 60,
          "bmi": 36.005,
          "charges": 13228.84695,
          "children": 0,
          "region": "northeast",
          "sex": "female",
          "smoker": "no"
         },
         {
          "age": 18,
          "bmi": 30.14,
          "charges": 1131.5066,
          "children": 0,
          "region": "southeast",
          "sex": "male",
          "smoker": "no"
         },
         {
          "age": 38,
          "bmi": 30.21,
          "charges": 7537.1639,
          "children": 3,
          "region": "northwest",
          "sex": "female",
          "smoker": "no"
         },
         {
          "age": 34,
          "bmi": 38,
          "charges": 6196.448,
          "children": 3,
          "region": "southwest",
          "sex": "female",
          "smoker": "no"
         },
         {
          "age": 21,
          "bmi": 32.68,
          "charges": 26018.95052,
          "children": 2,
          "region": "northwest",
          "sex": "female",
          "smoker": "no"
         },
         {
          "age": 54,
          "bmi": 30.8,
          "charges": 41999.52,
          "children": 1,
          "region": "southeast",
          "sex": "male",
          "smoker": "yes"
         },
         {
          "age": 22,
          "bmi": 24.3,
          "charges": 2150.469,
          "children": 0,
          "region": "southwest",
          "sex": "female",
          "smoker": "no"
         },
         {
          "age": 31,
          "bmi": 38.095,
          "charges": 58571.07448,
          "children": 1,
          "region": "northeast",
          "sex": "female",
          "smoker": "yes"
         },
         {
          "age": 30,
          "bmi": 44.22,
          "charges": 4266.1658,
          "children": 2,
          "region": "southeast",
          "sex": "male",
          "smoker": "no"
         },
         {
          "age": 37,
          "bmi": 37.07,
          "charges": 39871.7043,
          "children": 1,
          "region": "southeast",
          "sex": "male",
          "smoker": "yes"
         },
         {
          "age": 64,
          "bmi": 25.6,
          "charges": 14988.432,
          "children": 2,
          "region": "southwest",
          "sex": "male",
          "smoker": "no"
         },
         {
          "age": 23,
          "bmi": 33.4,
          "charges": 10795.93733,
          "children": 0,
          "region": "southwest",
          "sex": "female",
          "smoker": "no"
         },
         {
          "age": 25,
          "bmi": 20.8,
          "charges": 3208.7870000000007,
          "children": 1,
          "region": "southwest",
          "sex": "female",
          "smoker": "no"
         },
         {
          "age": 55,
          "bmi": 26.98,
          "charges": 11082.5772,
          "children": 0,
          "region": "northwest",
          "sex": "female",
          "smoker": "no"
         },
         {
          "age": 22,
          "bmi": 39.5,
          "charges": 1682.5970000000002,
          "children": 0,
          "region": "southwest",
          "sex": "male",
          "smoker": "no"
         },
         {
          "age": 36,
          "bmi": 26.2,
          "charges": 4883.866,
          "children": 0,
          "region": "southwest",
          "sex": "female",
          "smoker": "no"
         },
         {
          "age": 43,
          "bmi": 24.7,
          "charges": 21880.82,
          "children": 2,
          "region": "northwest",
          "sex": "female",
          "smoker": "yes"
         },
         {
          "age": 18,
          "bmi": 28.215,
          "charges": 2200.83085,
          "children": 0,
          "region": "northeast",
          "sex": "female",
          "smoker": "no"
         },
         {
          "age": 19,
          "bmi": 25.555,
          "charges": 2221.56445,
          "children": 1,
          "region": "northwest",
          "sex": "male",
          "smoker": "no"
         },
         {
          "age": 33,
          "bmi": 29.4,
          "charges": 6059.173000000002,
          "children": 4,
          "region": "southwest",
          "sex": "male",
          "smoker": "no"
         },
         {
          "age": 19,
          "bmi": 20.9,
          "charges": 1832.094,
          "children": 1,
          "region": "southwest",
          "sex": "male",
          "smoker": "no"
         },
         {
          "age": 29,
          "bmi": 37.29,
          "charges": 4058.1161,
          "children": 2,
          "region": "southeast",
          "sex": "male",
          "smoker": "no"
         },
         {
          "age": 27,
          "bmi": 24.75,
          "charges": 16577.7795,
          "children": 0,
          "region": "southeast",
          "sex": "female",
          "smoker": "yes"
         },
         {
          "age": 33,
          "bmi": 24.795,
          "charges": 17904.52705,
          "children": 0,
          "region": "northeast",
          "sex": "male",
          "smoker": "yes"
         },
         {
          "age": 46,
          "bmi": 35.53,
          "charges": 42111.6647,
          "children": 0,
          "region": "northeast",
          "sex": "female",
          "smoker": "yes"
         },
         {
          "age": 23,
          "bmi": 39.27,
          "charges": 3500.6123,
          "children": 2,
          "region": "southeast",
          "sex": "female",
          "smoker": "no"
         },
         {
          "age": 46,
          "bmi": 25.745,
          "charges": 9301.89355,
          "children": 3,
          "region": "northwest",
          "sex": "male",
          "smoker": "no"
         },
         {
          "age": 61,
          "bmi": 33.535,
          "charges": 13143.33665,
          "children": 0,
          "region": "northeast",
          "sex": "male",
          "smoker": "no"
         },
         {
          "age": 22,
          "bmi": 34.8,
          "charges": 3443.0640000000008,
          "children": 3,
          "region": "southwest",
          "sex": "male",
          "smoker": "no"
         },
         {
          "age": 53,
          "bmi": 26.7,
          "charges": 11150.78,
          "children": 2,
          "region": "southwest",
          "sex": "female",
          "smoker": "no"
         },
         {
          "age": 24,
          "bmi": 40.15,
          "charges": 38126.2465,
          "children": 0,
          "region": "southeast",
          "sex": "male",
          "smoker": "yes"
         },
         {
          "age": 51,
          "bmi": 42.9,
          "charges": 47462.894,
          "children": 2,
          "region": "southeast",
          "sex": "male",
          "smoker": "yes"
         },
         {
          "age": 36,
          "bmi": 29.7,
          "charges": 4399.731,
          "children": 0,
          "region": "southeast",
          "sex": "male",
          "smoker": "no"
         },
         {
          "age": 56,
          "bmi": 32.3,
          "charges": 13430.265,
          "children": 3,
          "region": "northeast",
          "sex": "female",
          "smoker": "no"
         },
         {
          "age": 43,
          "bmi": 30.115,
          "charges": 8410.04685,
          "children": 3,
          "region": "northwest",
          "sex": "male",
          "smoker": "no"
         },
         {
          "age": 57,
          "bmi": 28.1,
          "charges": 10965.446000000002,
          "children": 0,
          "region": "southwest",
          "sex": "male",
          "smoker": "no"
         },
         {
          "age": 39,
          "bmi": 28.3,
          "charges": 21082.16,
          "children": 1,
          "region": "southwest",
          "sex": "male",
          "smoker": "yes"
         },
         {
          "age": 61,
          "bmi": 32.3,
          "charges": 14119.62,
          "children": 2,
          "region": "northwest",
          "sex": "male",
          "smoker": "no"
         },
         {
          "age": 32,
          "bmi": 29.59,
          "charges": 4562.8421,
          "children": 1,
          "region": "southeast",
          "sex": "female",
          "smoker": "no"
         },
         {
          "age": 27,
          "bmi": 25.175,
          "charges": 3558.62025,
          "children": 0,
          "region": "northeast",
          "sex": "female",
          "smoker": "no"
         },
         {
          "age": 56,
          "bmi": 28.785,
          "charges": 11658.37915,
          "children": 0,
          "region": "northeast",
          "sex": "female",
          "smoker": "no"
         },
         {
          "age": 50,
          "bmi": 44.77,
          "charges": 9058.7303,
          "children": 1,
          "region": "southeast",
          "sex": "male",
          "smoker": "no"
         },
         {
          "age": 33,
          "bmi": 22.135,
          "charges": 5354.07465,
          "children": 1,
          "region": "northeast",
          "sex": "female",
          "smoker": "no"
         },
         {
          "age": 60,
          "bmi": 32.45,
          "charges": 45008.9555,
          "children": 0,
          "region": "southeast",
          "sex": "female",
          "smoker": "yes"
         },
         {
          "age": 46,
          "bmi": 23.655,
          "charges": 21677.28345,
          "children": 1,
          "region": "northwest",
          "sex": "female",
          "smoker": "yes"
         },
         {
          "age": 32,
          "bmi": 31.5,
          "charges": 4076.497,
          "children": 1,
          "region": "southwest",
          "sex": "male",
          "smoker": "no"
         },
         {
          "age": 32,
          "bmi": 30.8,
          "charges": 5253.524,
          "children": 3,
          "region": "southwest",
          "sex": "male",
          "smoker": "no"
         },
         {
          "age": 43,
          "bmi": 46.2,
          "charges": 45863.205,
          "children": 0,
          "region": "southeast",
          "sex": "female",
          "smoker": "yes"
         },
         {
          "age": 47,
          "bmi": 36.19,
          "charges": 41676.0811,
          "children": 0,
          "region": "southeast",
          "sex": "male",
          "smoker": "yes"
         },
         {
          "age": 54,
          "bmi": 24.035,
          "charges": 10422.91665,
          "children": 0,
          "region": "northeast",
          "sex": "male",
          "smoker": "no"
         },
         {
          "age": 19,
          "bmi": 30.59,
          "charges": 24059.68019,
          "children": 2,
          "region": "northwest",
          "sex": "female",
          "smoker": "no"
         },
         {
          "age": 45,
          "bmi": 33.1,
          "charges": 7345.084,
          "children": 0,
          "region": "southwest",
          "sex": "female",
          "smoker": "no"
         },
         {
          "age": 19,
          "bmi": 22.61,
          "charges": 1628.4709,
          "children": 0,
          "region": "northwest",
          "sex": "male",
          "smoker": "no"
         },
         {
          "age": 57,
          "bmi": 27.94,
          "charges": 11554.2236,
          "children": 1,
          "region": "southeast",
          "sex": "male",
          "smoker": "no"
         },
         {
          "age": 38,
          "bmi": 16.815,
          "charges": 6640.54485,
          "children": 2,
          "region": "northeast",
          "sex": "male",
          "smoker": "no"
         },
         {
          "age": 33,
          "bmi": 42.4,
          "charges": 6666.243,
          "children": 5,
          "region": "southwest",
          "sex": "male",
          "smoker": "no"
         },
         {
          "age": 29,
          "bmi": 26.03,
          "charges": 3736.4647,
          "children": 0,
          "region": "northwest",
          "sex": "female",
          "smoker": "no"
         },
         {
          "age": 27,
          "bmi": 42.13,
          "charges": 39611.7577,
          "children": 0,
          "region": "southeast",
          "sex": "male",
          "smoker": "yes"
         },
         {
          "age": 47,
          "bmi": 28.215,
          "charges": 10407.08585,
          "children": 4,
          "region": "northeast",
          "sex": "male",
          "smoker": "no"
         },
         {
          "age": 19,
          "bmi": 33.11,
          "charges": 34439.8559,
          "children": 0,
          "region": "southeast",
          "sex": "female",
          "smoker": "yes"
         },
         {
          "age": 23,
          "bmi": 28,
          "charges": 13126.67745,
          "children": 0,
          "region": "southwest",
          "sex": "female",
          "smoker": "no"
         },
         {
          "age": 22,
          "bmi": 37.07,
          "charges": 37484.4493,
          "children": 2,
          "region": "southeast",
          "sex": "male",
          "smoker": "yes"
         },
         {
          "age": 30,
          "bmi": 19.95,
          "charges": 5693.4305,
          "children": 3,
          "region": "northwest",
          "sex": "female",
          "smoker": "no"
         },
         {
          "age": 26,
          "bmi": 29.45,
          "charges": 2897.3235,
          "children": 0,
          "region": "northeast",
          "sex": "male",
          "smoker": "no"
         },
         {
          "age": 52,
          "bmi": 38.38,
          "charges": 11396.9002,
          "children": 2,
          "region": "northeast",
          "sex": "female",
          "smoker": "no"
         },
         {
          "age": 21,
          "bmi": 21.85,
          "charges": 15359.1045,
          "children": 1,
          "region": "northeast",
          "sex": "female",
          "smoker": "yes"
         },
         {
          "age": 23,
          "bmi": 28.49,
          "charges": 18328.2381,
          "children": 1,
          "region": "southeast",
          "sex": "female",
          "smoker": "yes"
         },
         {
          "age": 18,
          "bmi": 31.92,
          "charges": 2205.9808,
          "children": 0,
          "region": "northeast",
          "sex": "female",
          "smoker": "no"
         },
         {
          "age": 25,
          "bmi": 35.625,
          "charges": 2534.39375,
          "children": 0,
          "region": "northwest",
          "sex": "male",
          "smoker": "no"
         },
         {
          "age": 23,
          "bmi": 42.75,
          "charges": 40904.1995,
          "children": 1,
          "region": "northeast",
          "sex": "female",
          "smoker": "yes"
         },
         {
          "age": 46,
          "bmi": 40.375,
          "charges": 8733.22925,
          "children": 2,
          "region": "northwest",
          "sex": "male",
          "smoker": "no"
         },
         {
          "age": 59,
          "bmi": 27.72,
          "charges": 14001.1338,
          "children": 3,
          "region": "southeast",
          "sex": "female",
          "smoker": "no"
         },
         {
          "age": 38,
          "bmi": 30.69,
          "charges": 5976.8311,
          "children": 1,
          "region": "southeast",
          "sex": "female",
          "smoker": "no"
         },
         {
          "age": 35,
          "bmi": 30.5,
          "charges": 4751.07,
          "children": 1,
          "region": "southwest",
          "sex": "male",
          "smoker": "no"
         },
         {
          "age": 19,
          "bmi": 25.555,
          "charges": 1632.56445,
          "children": 0,
          "region": "northwest",
          "sex": "male",
          "smoker": "no"
         },
         {
          "age": 18,
          "bmi": 33.77,
          "charges": 1725.5523,
          "children": 1,
          "region": "southeast",
          "sex": "male",
          "smoker": "no"
         },
         {
          "age": 22,
          "bmi": 28.82,
          "charges": 2156.7518,
          "children": 0,
          "region": "southeast",
          "sex": "female",
          "smoker": "no"
         },
         {
          "age": 28,
          "bmi": 25.8,
          "charges": 3161.454,
          "children": 0,
          "region": "southwest",
          "sex": "female",
          "smoker": "no"
         },
         {
          "age": 47,
          "bmi": 29.8,
          "charges": 25309.489,
          "children": 3,
          "region": "southwest",
          "sex": "male",
          "smoker": "yes"
         },
         {
          "age": 57,
          "bmi": 28.975,
          "charges": 27218.43725,
          "children": 0,
          "region": "northeast",
          "sex": "male",
          "smoker": "yes"
         },
         {
          "age": 36,
          "bmi": 28.595,
          "charges": 6548.19505,
          "children": 3,
          "region": "northwest",
          "sex": "male",
          "smoker": "no"
         },
         {
          "age": 32,
          "bmi": 23.65,
          "charges": 17626.23951,
          "children": 1,
          "region": "southeast",
          "sex": "female",
          "smoker": "no"
         },
         {
          "age": 57,
          "bmi": 23.18,
          "charges": 11830.6072,
          "children": 0,
          "region": "northwest",
          "sex": "female",
          "smoker": "no"
         },
         {
          "age": 23,
          "bmi": 27.36,
          "charges": 2789.0574,
          "children": 1,
          "region": "northwest",
          "sex": "male",
          "smoker": "no"
         },
         {
          "age": 43,
          "bmi": 20.045,
          "charges": 19798.05455,
          "children": 2,
          "region": "northeast",
          "sex": "female",
          "smoker": "yes"
         },
         {
          "age": 20,
          "bmi": 27.93,
          "charges": 1967.0227,
          "children": 0,
          "region": "northeast",
          "sex": "male",
          "smoker": "no"
         },
         {
          "age": 61,
          "bmi": 36.385,
          "charges": 48517.56315,
          "children": 1,
          "region": "northeast",
          "sex": "female",
          "smoker": "yes"
         },
         {
          "age": 36,
          "bmi": 34.43,
          "charges": 37742.5757,
          "children": 0,
          "region": "southeast",
          "sex": "male",
          "smoker": "yes"
         },
         {
          "age": 39,
          "bmi": 41.8,
          "charges": 5662.225,
          "children": 0,
          "region": "southeast",
          "sex": "female",
          "smoker": "no"
         },
         {
          "age": 44,
          "bmi": 27.5,
          "charges": 7626.993,
          "children": 1,
          "region": "southwest",
          "sex": "female",
          "smoker": "no"
         },
         {
          "age": 44,
          "bmi": 38.06,
          "charges": 48885.13561000001,
          "children": 0,
          "region": "southeast",
          "sex": "female",
          "smoker": "yes"
         },
         {
          "age": 38,
          "bmi": 19.475,
          "charges": 6933.24225,
          "children": 2,
          "region": "northwest",
          "sex": "female",
          "smoker": "no"
         },
         {
          "age": 47,
          "bmi": 24.32,
          "charges": 8534.6718,
          "children": 0,
          "region": "northeast",
          "sex": "female",
          "smoker": "no"
         },
         {
          "age": 43,
          "bmi": 27.8,
          "charges": 37829.7242,
          "children": 0,
          "region": "southwest",
          "sex": "male",
          "smoker": "yes"
         },
         {
          "age": 54,
          "bmi": 30.21,
          "charges": 10231.4999,
          "children": 0,
          "region": "northwest",
          "sex": "male",
          "smoker": "no"
         },
         {
          "age": 19,
          "bmi": 28.4,
          "charges": 1842.519,
          "children": 1,
          "region": "southwest",
          "sex": "male",
          "smoker": "no"
         },
         {
          "age": 20,
          "bmi": 35.31,
          "charges": 27724.28875,
          "children": 1,
          "region": "southeast",
          "sex": "male",
          "smoker": "no"
         },
         {
          "age": 32,
          "bmi": 28.93,
          "charges": 19719.6947,
          "children": 1,
          "region": "southeast",
          "sex": "male",
          "smoker": "yes"
         },
         {
          "age": 21,
          "bmi": 28.975,
          "charges": 1906.35825,
          "children": 0,
          "region": "northwest",
          "sex": "male",
          "smoker": "no"
         },
         {
          "age": 28,
          "bmi": 29.26,
          "charges": 4438.2634,
          "children": 2,
          "region": "northeast",
          "sex": "male",
          "smoker": "no"
         },
         {
          "age": 21,
          "bmi": 25.7,
          "charges": 17942.106,
          "children": 4,
          "region": "southwest",
          "sex": "male",
          "smoker": "yes"
         },
         {
          "age": 56,
          "bmi": 33.66,
          "charges": 12949.1554,
          "children": 4,
          "region": "southeast",
          "sex": "male",
          "smoker": "no"
         },
         {
          "age": 19,
          "bmi": 25.175,
          "charges": 1632.03625,
          "children": 0,
          "region": "northwest",
          "sex": "male",
          "smoker": "no"
         },
         {
          "age": 29,
          "bmi": 29.735,
          "charges": 18157.876,
          "children": 2,
          "region": "northwest",
          "sex": "male",
          "smoker": "no"
         },
         {
          "age": 19,
          "bmi": 29.07,
          "charges": 17352.6803,
          "children": 0,
          "region": "northwest",
          "sex": "male",
          "smoker": "yes"
         },
         {
          "age": 64,
          "bmi": 37.905,
          "charges": 14210.53595,
          "children": 0,
          "region": "northwest",
          "sex": "male",
          "smoker": "no"
         },
         {
          "age": 20,
          "bmi": 31.13,
          "charges": 2566.4707,
          "children": 2,
          "region": "southeast",
          "sex": "male",
          "smoker": "no"
         },
         {
          "age": 44,
          "bmi": 38.95,
          "charges": 42983.4585,
          "children": 0,
          "region": "northwest",
          "sex": "female",
          "smoker": "yes"
         },
         {
          "age": 43,
          "bmi": 23.2,
          "charges": 6250.435,
          "children": 0,
          "region": "southwest",
          "sex": "male",
          "smoker": "no"
         },
         {
          "age": 63,
          "bmi": 33.1,
          "charges": 13393.756,
          "children": 0,
          "region": "southwest",
          "sex": "male",
          "smoker": "no"
         },
         {
          "age": 32,
          "bmi": 20.52,
          "charges": 4544.2348,
          "children": 0,
          "region": "northeast",
          "sex": "female",
          "smoker": "no"
         },
         {
          "age": 24,
          "bmi": 35.86,
          "charges": 1986.9334,
          "children": 0,
          "region": "southeast",
          "sex": "male",
          "smoker": "no"
         },
         {
          "age": 48,
          "bmi": 32.3,
          "charges": 8765.249,
          "children": 1,
          "region": "northwest",
          "sex": "male",
          "smoker": "no"
         },
         {
          "age": 62,
          "bmi": 36.86,
          "charges": 31620.00106,
          "children": 1,
          "region": "northeast",
          "sex": "female",
          "smoker": "no"
         },
         {
          "age": 35,
          "bmi": 43.34,
          "charges": 5846.9176,
          "children": 2,
          "region": "southeast",
          "sex": "female",
          "smoker": "no"
         },
         {
          "age": 36,
          "bmi": 26.885,
          "charges": 5267.81815,
          "children": 0,
          "region": "northwest",
          "sex": "female",
          "smoker": "no"
         },
         {
          "age": 62,
          "bmi": 27.55,
          "charges": 13937.6665,
          "children": 1,
          "region": "northwest",
          "sex": "male",
          "smoker": "no"
         },
         {
          "age": 46,
          "bmi": 27.72,
          "charges": 8232.6388,
          "children": 1,
          "region": "southeast",
          "sex": "female",
          "smoker": "no"
         },
         {
          "age": 19,
          "bmi": 28.31,
          "charges": 17468.9839,
          "children": 0,
          "region": "northwest",
          "sex": "female",
          "smoker": "yes"
         },
         {
          "age": 63,
          "bmi": 21.66,
          "charges": 14349.8544,
          "children": 1,
          "region": "northwest",
          "sex": "male",
          "smoker": "no"
         },
         {
          "age": 47,
          "bmi": 26.125,
          "charges": 23401.30575,
          "children": 1,
          "region": "northeast",
          "sex": "female",
          "smoker": "yes"
         },
         {
          "age": 51,
          "bmi": 31.635,
          "charges": 9174.13565,
          "children": 0,
          "region": "northwest",
          "sex": "male",
          "smoker": "no"
         },
         {
          "age": 50,
          "bmi": 26.41,
          "charges": 8827.2099,
          "children": 0,
          "region": "northwest",
          "sex": "male",
          "smoker": "no"
         },
         {
          "age": 41,
          "bmi": 37.1,
          "charges": 7371.772,
          "children": 2,
          "region": "southwest",
          "sex": "female",
          "smoker": "no"
         },
         {
          "age": 19,
          "bmi": 31.825,
          "charges": 2719.27975,
          "children": 1,
          "region": "northwest",
          "sex": "female",
          "smoker": "no"
         },
         {
          "age": 22,
          "bmi": 25.175,
          "charges": 2045.68525,
          "children": 0,
          "region": "northwest",
          "sex": "male",
          "smoker": "no"
         },
         {
          "age": 60,
          "bmi": 40.92,
          "charges": 48673.5588,
          "children": 0,
          "region": "southeast",
          "sex": "male",
          "smoker": "yes"
         },
         {
          "age": 40,
          "bmi": 32.775,
          "charges": 39125.33225,
          "children": 1,
          "region": "northeast",
          "sex": "male",
          "smoker": "yes"
         },
         {
          "age": 34,
          "bmi": 33.7,
          "charges": 5012.471,
          "children": 1,
          "region": "southwest",
          "sex": "female",
          "smoker": "no"
         },
         {
          "age": 45,
          "bmi": 39.995,
          "charges": 9704.66805,
          "children": 3,
          "region": "northeast",
          "sex": "female",
          "smoker": "no"
         },
         {
          "age": 32,
          "bmi": 46.53,
          "charges": 4686.3887,
          "children": 2,
          "region": "southeast",
          "sex": "male",
          "smoker": "no"
         },
         {
          "age": 31,
          "bmi": 30.875,
          "charges": 3857.75925,
          "children": 0,
          "region": "northeast",
          "sex": "male",
          "smoker": "no"
         },
         {
          "age": 46,
          "bmi": 27.6,
          "charges": 24603.04837,
          "children": 0,
          "region": "southwest",
          "sex": "male",
          "smoker": "no"
         },
         {
          "age": 50,
          "bmi": 31.6,
          "charges": 10118.424,
          "children": 2,
          "region": "southwest",
          "sex": "female",
          "smoker": "no"
         },
         {
          "age": 47,
          "bmi": 27.83,
          "charges": 23065.4207,
          "children": 0,
          "region": "southeast",
          "sex": "female",
          "smoker": "yes"
         },
         {
          "age": 43,
          "bmi": 34.58,
          "charges": 7727.2532,
          "children": 1,
          "region": "northwest",
          "sex": "female",
          "smoker": "no"
         },
         {
          "age": 18,
          "bmi": 34.43,
          "charges": 1137.4697,
          "children": 0,
          "region": "southeast",
          "sex": "male",
          "smoker": "no"
         },
         {
          "age": 47,
          "bmi": 47.52,
          "charges": 8083.9198,
          "children": 1,
          "region": "southeast",
          "sex": "male",
          "smoker": "no"
         },
         {
          "age": 43,
          "bmi": 38.06,
          "charges": 42560.4304,
          "children": 2,
          "region": "southeast",
          "sex": "male",
          "smoker": "yes"
         },
         {
          "age": 38,
          "bmi": 29.26,
          "charges": 6457.8434,
          "children": 2,
          "region": "northwest",
          "sex": "male",
          "smoker": "no"
         },
         {
          "age": 24,
          "bmi": 27.72,
          "charges": 2464.6188,
          "children": 0,
          "region": "southeast",
          "sex": "female",
          "smoker": "no"
         },
         {
          "age": 53,
          "bmi": 21.4,
          "charges": 10065.413,
          "children": 1,
          "region": "southwest",
          "sex": "male",
          "smoker": "no"
         },
         {
          "age": 19,
          "bmi": 27.6,
          "charges": 1252.407,
          "children": 0,
          "region": "southwest",
          "sex": "male",
          "smoker": "no"
         },
         {
          "age": 61,
          "bmi": 38.38,
          "charges": 12950.0712,
          "children": 0,
          "region": "northwest",
          "sex": "male",
          "smoker": "no"
         },
         {
          "age": 34,
          "bmi": 30.8,
          "charges": 35491.64,
          "children": 0,
          "region": "southwest",
          "sex": "male",
          "smoker": "yes"
         },
         {
          "age": 19,
          "bmi": 24.51,
          "charges": 2709.1119,
          "children": 1,
          "region": "northwest",
          "sex": "female",
          "smoker": "no"
         },
         {
          "age": 22,
          "bmi": 30.4,
          "charges": 33907.547999999995,
          "children": 0,
          "region": "northwest",
          "sex": "female",
          "smoker": "yes"
         },
         {
          "age": 41,
          "bmi": 31.02,
          "charges": 6185.3208,
          "children": 0,
          "region": "southeast",
          "sex": "female",
          "smoker": "no"
         },
         {
          "age": 63,
          "bmi": 36.85,
          "charges": 13887.9685,
          "children": 0,
          "region": "southeast",
          "sex": "female",
          "smoker": "no"
         },
         {
          "age": 58,
          "bmi": 32.965,
          "charges": 12430.95335,
          "children": 0,
          "region": "northeast",
          "sex": "female",
          "smoker": "no"
         },
         {
          "age": 30,
          "bmi": 43.12,
          "charges": 4753.6368,
          "children": 2,
          "region": "southeast",
          "sex": "female",
          "smoker": "no"
         },
         {
          "age": 43,
          "bmi": 35.97,
          "charges": 42124.5153,
          "children": 3,
          "region": "southeast",
          "sex": "male",
          "smoker": "yes"
         },
         {
          "age": 44,
          "bmi": 25,
          "charges": 7623.518,
          "children": 1,
          "region": "southwest",
          "sex": "female",
          "smoker": "no"
         },
         {
          "age": 40,
          "bmi": 34.105,
          "charges": 6600.20595,
          "children": 1,
          "region": "northeast",
          "sex": "male",
          "smoker": "no"
         },
         {
          "age": 49,
          "bmi": 22.515,
          "charges": 8688.85885,
          "children": 0,
          "region": "northeast",
          "sex": "male",
          "smoker": "no"
         },
         {
          "age": 18,
          "bmi": 33.155,
          "charges": 2207.69745,
          "children": 0,
          "region": "northeast",
          "sex": "female",
          "smoker": "no"
         },
         {
          "age": 20,
          "bmi": 29.6,
          "charges": 1875.344,
          "children": 0,
          "region": "southwest",
          "sex": "female",
          "smoker": "no"
         },
         {
          "age": 27,
          "bmi": 30.59,
          "charges": 16796.41194,
          "children": 1,
          "region": "northeast",
          "sex": "female",
          "smoker": "no"
         },
         {
          "age": 42,
          "bmi": 26.9,
          "charges": 5969.723000000001,
          "children": 0,
          "region": "southwest",
          "sex": "male",
          "smoker": "no"
         },
         {
          "age": 31,
          "bmi": 39.49,
          "charges": 3875.7341,
          "children": 1,
          "region": "southeast",
          "sex": "male",
          "smoker": "no"
         },
         {
          "age": 51,
          "bmi": 36.67,
          "charges": 10848.1343,
          "children": 2,
          "region": "northwest",
          "sex": "female",
          "smoker": "no"
         },
         {
          "age": 19,
          "bmi": 31.92,
          "charges": 33750.2918,
          "children": 0,
          "region": "northwest",
          "sex": "male",
          "smoker": "yes"
         },
         {
          "age": 49,
          "bmi": 21.3,
          "charges": 9182.17,
          "children": 1,
          "region": "southwest",
          "sex": "female",
          "smoker": "no"
         },
         {
          "age": 33,
          "bmi": 33.5,
          "charges": 37079.372,
          "children": 0,
          "region": "southwest",
          "sex": "female",
          "smoker": "yes"
         },
         {
          "age": 27,
          "bmi": 28.5,
          "charges": 18310.742,
          "children": 0,
          "region": "northwest",
          "sex": "male",
          "smoker": "yes"
         },
         {
          "age": 54,
          "bmi": 40.565,
          "charges": 48549.17835,
          "children": 3,
          "region": "northeast",
          "sex": "male",
          "smoker": "yes"
         },
         {
          "age": 47,
          "bmi": 23.6,
          "charges": 8539.671,
          "children": 1,
          "region": "southwest",
          "sex": "female",
          "smoker": "no"
         },
         {
          "age": 18,
          "bmi": 43.01,
          "charges": 1149.3959,
          "children": 0,
          "region": "southeast",
          "sex": "male",
          "smoker": "no"
         },
         {
          "age": 51,
          "bmi": 39.7,
          "charges": 9391.346,
          "children": 1,
          "region": "southwest",
          "sex": "male",
          "smoker": "no"
         },
         {
          "age": 41,
          "bmi": 33.55,
          "charges": 5699.8375,
          "children": 0,
          "region": "southeast",
          "sex": "male",
          "smoker": "no"
         },
         {
          "age": 19,
          "bmi": 22.515,
          "charges": 2117.33885,
          "children": 0,
          "region": "northwest",
          "sex": "female",
          "smoker": "no"
         },
         {
          "age": 40,
          "bmi": 33,
          "charges": 7682.67,
          "children": 3,
          "region": "southeast",
          "sex": "female",
          "smoker": "no"
         },
         {
          "age": 59,
          "bmi": 29.83,
          "charges": 30184.9367,
          "children": 3,
          "region": "northeast",
          "sex": "male",
          "smoker": "yes"
         },
         {
          "age": 57,
          "bmi": 34.295,
          "charges": 13224.05705,
          "children": 2,
          "region": "northeast",
          "sex": "female",
          "smoker": "no"
         },
         {
          "age": 26,
          "bmi": 29.15,
          "charges": 2902.9065,
          "children": 1,
          "region": "southeast",
          "sex": "male",
          "smoker": "no"
         },
         {
          "age": 23,
          "bmi": 24.225,
          "charges": 22395.74424,
          "children": 2,
          "region": "northeast",
          "sex": "female",
          "smoker": "no"
         },
         {
          "age": 19,
          "bmi": 30.25,
          "charges": 32548.3405,
          "children": 0,
          "region": "southeast",
          "sex": "male",
          "smoker": "yes"
         },
         {
          "age": 42,
          "bmi": 26.125,
          "charges": 7729.64575,
          "children": 2,
          "region": "northeast",
          "sex": "male",
          "smoker": "no"
         },
         {
          "age": 61,
          "bmi": 28.31,
          "charges": 28868.6639,
          "children": 1,
          "region": "northwest",
          "sex": "male",
          "smoker": "yes"
         },
         {
          "age": 39,
          "bmi": 32.5,
          "charges": 6238.298000000002,
          "children": 1,
          "region": "southwest",
          "sex": "female",
          "smoker": "no"
         },
         {
          "age": 34,
          "bmi": 34.21,
          "charges": 3935.1799,
          "children": 0,
          "region": "southeast",
          "sex": "male",
          "smoker": "no"
         },
         {
          "age": 48,
          "bmi": 35.91,
          "charges": 26392.26029,
          "children": 1,
          "region": "northeast",
          "sex": "female",
          "smoker": "no"
         },
         {
          "age": 48,
          "bmi": 27.93,
          "charges": 11015.1747,
          "children": 4,
          "region": "northwest",
          "sex": "female",
          "smoker": "no"
         },
         {
          "age": 27,
          "bmi": 30.5,
          "charges": 2494.022,
          "children": 0,
          "region": "southwest",
          "sex": "male",
          "smoker": "no"
         },
         {
          "age": 30,
          "bmi": 37.8,
          "charges": 39241.442,
          "children": 2,
          "region": "southwest",
          "sex": "male",
          "smoker": "yes"
         },
         {
          "age": 45,
          "bmi": 28.6,
          "charges": 8516.829,
          "children": 2,
          "region": "southeast",
          "sex": "female",
          "smoker": "no"
         },
         {
          "age": 37,
          "bmi": 26.4,
          "charges": 19539.243,
          "children": 0,
          "region": "southeast",
          "sex": "female",
          "smoker": "yes"
         },
         {
          "age": 48,
          "bmi": 25.85,
          "charges": 24180.9335,
          "children": 3,
          "region": "southeast",
          "sex": "female",
          "smoker": "yes"
         },
         {
          "age": 23,
          "bmi": 23.845,
          "charges": 2395.17155,
          "children": 0,
          "region": "northeast",
          "sex": "male",
          "smoker": "no"
         },
         {
          "age": 43,
          "bmi": 25.52,
          "charges": 14478.33015,
          "children": 5,
          "region": "southeast",
          "sex": "male",
          "smoker": "no"
         },
         {
          "age": 49,
          "bmi": 37.51,
          "charges": 9304.7019,
          "children": 2,
          "region": "southeast",
          "sex": "male",
          "smoker": "no"
         },
         {
          "age": 58,
          "bmi": 27.17,
          "charges": 12222.8983,
          "children": 0,
          "region": "northwest",
          "sex": "female",
          "smoker": "no"
         },
         {
          "age": 18,
          "bmi": 30.115,
          "charges": 2203.47185,
          "children": 0,
          "region": "northeast",
          "sex": "female",
          "smoker": "no"
         },
         {
          "age": 27,
          "bmi": 26.03,
          "charges": 3070.8087,
          "children": 0,
          "region": "northeast",
          "sex": "male",
          "smoker": "no"
         },
         {
          "age": 18,
          "bmi": 41.14,
          "charges": 1146.7966,
          "children": 0,
          "region": "southeast",
          "sex": "male",
          "smoker": "no"
         },
         {
          "age": 22,
          "bmi": 28.05,
          "charges": 2155.6815,
          "children": 0,
          "region": "southeast",
          "sex": "female",
          "smoker": "no"
         },
         {
          "age": 64,
          "bmi": 38.19,
          "charges": 14410.9321,
          "children": 0,
          "region": "northeast",
          "sex": "male",
          "smoker": "no"
         },
         {
          "age": 49,
          "bmi": 36.63,
          "charges": 10381.4787,
          "children": 3,
          "region": "southeast",
          "sex": "female",
          "smoker": "no"
         },
         {
          "age": 33,
          "bmi": 19.095,
          "charges": 16776.30405,
          "children": 2,
          "region": "northeast",
          "sex": "female",
          "smoker": "yes"
         },
         {
          "age": 62,
          "bmi": 21.4,
          "charges": 12957.118,
          "children": 0,
          "region": "southwest",
          "sex": "male",
          "smoker": "no"
         },
         {
          "age": 56,
          "bmi": 22.1,
          "charges": 10577.087,
          "children": 0,
          "region": "southwest",
          "sex": "male",
          "smoker": "no"
         },
         {
          "age": 20,
          "bmi": 39.4,
          "charges": 38344.566,
          "children": 2,
          "region": "southwest",
          "sex": "male",
          "smoker": "yes"
         },
         {
          "age": 37,
          "bmi": 29.83,
          "charges": 6406.4107,
          "children": 2,
          "region": "northeast",
          "sex": "male",
          "smoker": "no"
         },
         {
          "age": 21,
          "bmi": 35.53,
          "charges": 1532.4697,
          "children": 0,
          "region": "southeast",
          "sex": "male",
          "smoker": "no"
         },
         {
          "age": 53,
          "bmi": 22.88,
          "charges": 23244.7902,
          "children": 1,
          "region": "southeast",
          "sex": "female",
          "smoker": "yes"
         },
         {
          "age": 48,
          "bmi": 36.67,
          "charges": 28468.91901,
          "children": 1,
          "region": "northwest",
          "sex": "male",
          "smoker": "no"
         },
         {
          "age": 33,
          "bmi": 27.1,
          "charges": 19040.876,
          "children": 1,
          "region": "southwest",
          "sex": "male",
          "smoker": "yes"
         },
         {
          "age": 25,
          "bmi": 26.695,
          "charges": 4877.98105,
          "children": 4,
          "region": "northwest",
          "sex": "male",
          "smoker": "no"
         },
         {
          "age": 48,
          "bmi": 30.2,
          "charges": 8968.33,
          "children": 2,
          "region": "southwest",
          "sex": "male",
          "smoker": "no"
         },
         {
          "age": 63,
          "bmi": 41.325,
          "charges": 15555.18875,
          "children": 3,
          "region": "northwest",
          "sex": "male",
          "smoker": "no"
         },
         {
          "age": 31,
          "bmi": 23.6,
          "charges": 4931.647,
          "children": 2,
          "region": "southwest",
          "sex": "female",
          "smoker": "no"
         },
         {
          "age": 19,
          "bmi": 20.6,
          "charges": 1731.677,
          "children": 0,
          "region": "southwest",
          "sex": "female",
          "smoker": "no"
         },
         {
          "age": 26,
          "bmi": 17.195,
          "charges": 14455.64405,
          "children": 2,
          "region": "northeast",
          "sex": "female",
          "smoker": "yes"
         },
         {
          "age": 35,
          "bmi": 26.125,
          "charges": 5227.98875,
          "children": 0,
          "region": "northeast",
          "sex": "female",
          "smoker": "no"
         },
         {
          "age": 46,
          "bmi": 27.74,
          "charges": 8026.6666,
          "children": 0,
          "region": "northwest",
          "sex": "female",
          "smoker": "no"
         },
         {
          "age": 33,
          "bmi": 36.29,
          "charges": 6551.7501,
          "children": 3,
          "region": "northeast",
          "sex": "female",
          "smoker": "no"
         },
         {
          "age": 33,
          "bmi": 35.53,
          "charges": 55135.40209,
          "children": 0,
          "region": "northwest",
          "sex": "female",
          "smoker": "yes"
         },
         {
          "age": 57,
          "bmi": 40.945,
          "charges": 11566.30055,
          "children": 0,
          "region": "northeast",
          "sex": "male",
          "smoker": "no"
         },
         {
          "age": 47,
          "bmi": 32.3,
          "charges": 8062.764,
          "children": 1,
          "region": "southwest",
          "sex": "male",
          "smoker": "no"
         },
         {
          "age": 26,
          "bmi": 29.64,
          "charges": 24671.66334,
          "children": 4,
          "region": "northeast",
          "sex": "female",
          "smoker": "no"
         },
         {
          "age": 43,
          "bmi": 27.36,
          "charges": 8606.2174,
          "children": 3,
          "region": "northeast",
          "sex": "male",
          "smoker": "no"
         },
         {
          "age": 19,
          "bmi": 23.4,
          "charges": 2913.5690000000004,
          "children": 2,
          "region": "southwest",
          "sex": "female",
          "smoker": "no"
         },
         {
          "age": 36,
          "bmi": 31.5,
          "charges": 4402.233,
          "children": 0,
          "region": "southwest",
          "sex": "male",
          "smoker": "no"
         },
         {
          "age": 36,
          "bmi": 29.92,
          "charges": 4889.0368,
          "children": 0,
          "region": "southeast",
          "sex": "female",
          "smoker": "no"
         },
         {
          "age": 19,
          "bmi": 27.7,
          "charges": 16297.846,
          "children": 0,
          "region": "southwest",
          "sex": "male",
          "smoker": "yes"
         },
         {
          "age": 50,
          "bmi": 34.2,
          "charges": 42856.838,
          "children": 2,
          "region": "southwest",
          "sex": "male",
          "smoker": "yes"
         },
         {
          "age": 18,
          "bmi": 38.665,
          "charges": 3393.35635,
          "children": 2,
          "region": "northeast",
          "sex": "female",
          "smoker": "no"
         },
         {
          "age": 54,
          "bmi": 32.3,
          "charges": 11512.405,
          "children": 1,
          "region": "northeast",
          "sex": "female",
          "smoker": "no"
         },
         {
          "age": 52,
          "bmi": 18.335,
          "charges": 9991.03765,
          "children": 0,
          "region": "northwest",
          "sex": "female",
          "smoker": "no"
         },
         {
          "age": 48,
          "bmi": 32.3,
          "charges": 10043.249,
          "children": 2,
          "region": "northeast",
          "sex": "female",
          "smoker": "no"
         },
         {
          "age": 52,
          "bmi": 30.78,
          "charges": 10797.3362,
          "children": 1,
          "region": "northeast",
          "sex": "female",
          "smoker": "no"
         },
         {
          "age": 61,
          "bmi": 43.4,
          "charges": 12574.049,
          "children": 0,
          "region": "southwest",
          "sex": "male",
          "smoker": "no"
         },
         {
          "age": 20,
          "bmi": 31.46,
          "charges": 1877.9294,
          "children": 0,
          "region": "southeast",
          "sex": "female",
          "smoker": "no"
         },
         {
          "age": 56,
          "bmi": 26.6,
          "charges": 12044.342,
          "children": 1,
          "region": "northwest",
          "sex": "female",
          "smoker": "no"
         },
         {
          "age": 42,
          "bmi": 26.315,
          "charges": 6940.90985,
          "children": 1,
          "region": "northwest",
          "sex": "male",
          "smoker": "no"
         },
         {
          "age": 57,
          "bmi": 43.7,
          "charges": 11576.13,
          "children": 1,
          "region": "southwest",
          "sex": "male",
          "smoker": "no"
         },
         {
          "age": 40,
          "bmi": 41.42,
          "charges": 28476.73499,
          "children": 1,
          "region": "northwest",
          "sex": "female",
          "smoker": "no"
         },
         {
          "age": 53,
          "bmi": 31.35,
          "charges": 27346.04207,
          "children": 0,
          "region": "southeast",
          "sex": "male",
          "smoker": "no"
         },
         {
          "age": 52,
          "bmi": 46.75,
          "charges": 12592.5345,
          "children": 5,
          "region": "southeast",
          "sex": "female",
          "smoker": "no"
         },
         {
          "age": 34,
          "bmi": 22.42,
          "charges": 27375.90478,
          "children": 2,
          "region": "northeast",
          "sex": "male",
          "smoker": "no"
         },
         {
          "age": 50,
          "bmi": 25.3,
          "charges": 8442.667,
          "children": 0,
          "region": "southeast",
          "sex": "male",
          "smoker": "no"
         },
         {
          "age": 57,
          "bmi": 33.63,
          "charges": 11945.1327,
          "children": 1,
          "region": "northwest",
          "sex": "male",
          "smoker": "no"
         },
         {
          "age": 56,
          "bmi": 33.82,
          "charges": 12643.3778,
          "children": 2,
          "region": "northwest",
          "sex": "female",
          "smoker": "no"
         },
         {
          "age": 22,
          "bmi": 28.88,
          "charges": 2250.8352,
          "children": 0,
          "region": "northeast",
          "sex": "male",
          "smoker": "no"
         },
         {
          "age": 38,
          "bmi": 38.39,
          "charges": 41949.2441,
          "children": 3,
          "region": "southeast",
          "sex": "male",
          "smoker": "yes"
         },
         {
          "age": 46,
          "bmi": 42.35,
          "charges": 46151.1245,
          "children": 3,
          "region": "southeast",
          "sex": "male",
          "smoker": "yes"
         },
         {
          "age": 52,
          "bmi": 24.32,
          "charges": 24869.8368,
          "children": 3,
          "region": "northeast",
          "sex": "male",
          "smoker": "yes"
         },
         {
          "age": 45,
          "bmi": 25.7,
          "charges": 9101.798,
          "children": 3,
          "region": "southwest",
          "sex": "female",
          "smoker": "no"
         },
         {
          "age": 19,
          "bmi": 24.605,
          "charges": 2709.24395,
          "children": 1,
          "region": "northwest",
          "sex": "female",
          "smoker": "no"
         },
         {
          "age": 31,
          "bmi": 27.645,
          "charges": 5031.26955,
          "children": 2,
          "region": "northeast",
          "sex": "male",
          "smoker": "no"
         },
         {
          "age": 33,
          "bmi": 22.705,
          "charges": 21984.47061,
          "children": 0,
          "region": "northwest",
          "sex": "male",
          "smoker": "no"
         },
         {
          "age": 47,
          "bmi": 33.345,
          "charges": 20878.78443,
          "children": 0,
          "region": "northeast",
          "sex": "female",
          "smoker": "no"
         },
         {
          "age": 57,
          "bmi": 23.98,
          "charges": 22192.43711,
          "children": 1,
          "region": "southeast",
          "sex": "female",
          "smoker": "no"
         },
         {
          "age": 22,
          "bmi": 36,
          "charges": 2166.732,
          "children": 0,
          "region": "southwest",
          "sex": "female",
          "smoker": "no"
         },
         {
          "age": 55,
          "bmi": 29.83,
          "charges": 11286.5387,
          "children": 0,
          "region": "northeast",
          "sex": "female",
          "smoker": "no"
         },
         {
          "age": 58,
          "bmi": 35.7,
          "charges": 11362.755,
          "children": 0,
          "region": "southwest",
          "sex": "male",
          "smoker": "no"
         },
         {
          "age": 60,
          "bmi": 27.55,
          "charges": 13217.0945,
          "children": 0,
          "region": "northeast",
          "sex": "female",
          "smoker": "no"
         },
         {
          "age": 18,
          "bmi": 21.78,
          "charges": 11884.04858,
          "children": 2,
          "region": "southeast",
          "sex": "male",
          "smoker": "no"
         },
         {
          "age": 18,
          "bmi": 23.21,
          "charges": 1121.8739,
          "children": 0,
          "region": "southeast",
          "sex": "male",
          "smoker": "no"
         },
         {
          "age": 21,
          "bmi": 33.63,
          "charges": 3579.8287,
          "children": 2,
          "region": "northwest",
          "sex": "female",
          "smoker": "no"
         },
         {
          "age": 57,
          "bmi": 42.13,
          "charges": 48675.5177,
          "children": 1,
          "region": "southeast",
          "sex": "male",
          "smoker": "yes"
         },
         {
          "age": 31,
          "bmi": 28.595,
          "charges": 4243.59005,
          "children": 1,
          "region": "northwest",
          "sex": "male",
          "smoker": "no"
         },
         {
          "age": 46,
          "bmi": 30.2,
          "charges": 8825.086,
          "children": 2,
          "region": "southwest",
          "sex": "female",
          "smoker": "no"
         },
         {
          "age": 26,
          "bmi": 40.185,
          "charges": 3201.24515,
          "children": 0,
          "region": "northwest",
          "sex": "female",
          "smoker": "no"
         },
         {
          "age": 36,
          "bmi": 30.875,
          "charges": 5373.36425,
          "children": 1,
          "region": "northwest",
          "sex": "male",
          "smoker": "no"
         },
         {
          "age": 28,
          "bmi": 23.8,
          "charges": 3847.674,
          "children": 2,
          "region": "southwest",
          "sex": "male",
          "smoker": "no"
         },
         {
          "age": 35,
          "bmi": 35.815,
          "charges": 5630.45785,
          "children": 1,
          "region": "northwest",
          "sex": "female",
          "smoker": "no"
         },
         {
          "age": 57,
          "bmi": 18.335,
          "charges": 11534.87265,
          "children": 0,
          "region": "northeast",
          "sex": "male",
          "smoker": "no"
         },
         {
          "age": 18,
          "bmi": 20.79,
          "charges": 1607.5101,
          "children": 0,
          "region": "southeast",
          "sex": "female",
          "smoker": "no"
         },
         {
          "age": 20,
          "bmi": 33.3,
          "charges": 1880.487,
          "children": 0,
          "region": "southwest",
          "sex": "female",
          "smoker": "no"
         },
         {
          "age": 55,
          "bmi": 25.365,
          "charges": 13047.33235,
          "children": 3,
          "region": "northeast",
          "sex": "female",
          "smoker": "no"
         },
         {
          "age": 48,
          "bmi": 35.625,
          "charges": 10736.87075,
          "children": 4,
          "region": "northeast",
          "sex": "male",
          "smoker": "no"
         },
         {
          "age": 51,
          "bmi": 40.66,
          "charges": 9875.6804,
          "children": 0,
          "region": "northeast",
          "sex": "female",
          "smoker": "no"
         },
         {
          "age": 23,
          "bmi": 34.865,
          "charges": 2899.48935,
          "children": 0,
          "region": "northeast",
          "sex": "female",
          "smoker": "no"
         },
         {
          "age": 57,
          "bmi": 22.23,
          "charges": 12029.2867,
          "children": 0,
          "region": "northeast",
          "sex": "female",
          "smoker": "no"
         },
         {
          "age": 25,
          "bmi": 30.2,
          "charges": 33900.653,
          "children": 0,
          "region": "southwest",
          "sex": "female",
          "smoker": "yes"
         },
         {
          "age": 30,
          "bmi": 35.53,
          "charges": 36950.2567,
          "children": 0,
          "region": "southeast",
          "sex": "male",
          "smoker": "yes"
         },
         {
          "age": 44,
          "bmi": 20.235,
          "charges": 19594.80965,
          "children": 1,
          "region": "northeast",
          "sex": "female",
          "smoker": "yes"
         },
         {
          "age": 48,
          "bmi": 29.6,
          "charges": 21232.18226,
          "children": 0,
          "region": "southwest",
          "sex": "male",
          "smoker": "no"
         },
         {
          "age": 20,
          "bmi": 22,
          "charges": 1964.78,
          "children": 1,
          "region": "southwest",
          "sex": "male",
          "smoker": "no"
         },
         {
          "age": 48,
          "bmi": 34.3,
          "charges": 9563.029,
          "children": 3,
          "region": "southwest",
          "sex": "male",
          "smoker": "no"
         },
         {
          "age": 46,
          "bmi": 30.495,
          "charges": 40720.55105,
          "children": 3,
          "region": "northwest",
          "sex": "male",
          "smoker": "yes"
         },
         {
          "age": 56,
          "bmi": 31.79,
          "charges": 43813.8661,
          "children": 2,
          "region": "southeast",
          "sex": "male",
          "smoker": "yes"
         },
         {
          "age": 57,
          "bmi": 29.81,
          "charges": 27533.9129,
          "children": 0,
          "region": "southeast",
          "sex": "female",
          "smoker": "yes"
         },
         {
          "age": 22,
          "bmi": 26.84,
          "charges": 1664.9996,
          "children": 0,
          "region": "southeast",
          "sex": "male",
          "smoker": "no"
         },
         {
          "age": 56,
          "bmi": 28.31,
          "charges": 11657.7189,
          "children": 0,
          "region": "northeast",
          "sex": "female",
          "smoker": "no"
         },
         {
          "age": 18,
          "bmi": 36.85,
          "charges": 1629.8335,
          "children": 0,
          "region": "southeast",
          "sex": "female",
          "smoker": "no"
         },
         {
          "age": 61,
          "bmi": 35.91,
          "charges": 13635.6379,
          "children": 0,
          "region": "northeast",
          "sex": "female",
          "smoker": "no"
         },
         {
          "age": 28,
          "bmi": 33.4,
          "charges": 3172.018,
          "children": 0,
          "region": "southwest",
          "sex": "female",
          "smoker": "no"
         },
         {
          "age": 55,
          "bmi": 33.535,
          "charges": 12269.68865,
          "children": 2,
          "region": "northwest",
          "sex": "female",
          "smoker": "no"
         },
         {
          "age": 34,
          "bmi": 26.73,
          "charges": 5002.7827,
          "children": 1,
          "region": "southeast",
          "sex": "female",
          "smoker": "no"
         },
         {
          "age": 18,
          "bmi": 27.28,
          "charges": 18223.4512,
          "children": 3,
          "region": "southeast",
          "sex": "female",
          "smoker": "yes"
         },
         {
          "age": 27,
          "bmi": 17.955,
          "charges": 15006.57945,
          "children": 2,
          "region": "northeast",
          "sex": "female",
          "smoker": "yes"
         },
         {
          "age": 38,
          "bmi": 19.3,
          "charges": 15820.699,
          "children": 0,
          "region": "southwest",
          "sex": "male",
          "smoker": "yes"
         },
         {
          "age": 32,
          "bmi": 41.1,
          "charges": 3989.841,
          "children": 0,
          "region": "southwest",
          "sex": "female",
          "smoker": "no"
         },
         {
          "age": 37,
          "bmi": 24.32,
          "charges": 6198.7518,
          "children": 2,
          "region": "northwest",
          "sex": "male",
          "smoker": "no"
         },
         {
          "age": 38,
          "bmi": 28.93,
          "charges": 5974.3847,
          "children": 1,
          "region": "southeast",
          "sex": "female",
          "smoker": "no"
         },
         {
          "age": 42,
          "bmi": 29.48,
          "charges": 7640.3092,
          "children": 2,
          "region": "southeast",
          "sex": "female",
          "smoker": "no"
         },
         {
          "age": 60,
          "bmi": 39.9,
          "charges": 48173.361,
          "children": 0,
          "region": "southwest",
          "sex": "male",
          "smoker": "yes"
         },
         {
          "age": 24,
          "bmi": 27.6,
          "charges": 18955.22017,
          "children": 0,
          "region": "southwest",
          "sex": "female",
          "smoker": "no"
         },
         {
          "age": 28,
          "bmi": 33,
          "charges": 4449.462,
          "children": 3,
          "region": "southeast",
          "sex": "male",
          "smoker": "no"
         },
         {
          "age": 30,
          "bmi": 24.13,
          "charges": 4032.2407,
          "children": 1,
          "region": "northwest",
          "sex": "male",
          "smoker": "no"
         },
         {
          "age": 23,
          "bmi": 32.7,
          "charges": 3591.48,
          "children": 3,
          "region": "southwest",
          "sex": "male",
          "smoker": "no"
         },
         {
          "age": 54,
          "bmi": 24.605,
          "charges": 12479.70895,
          "children": 3,
          "region": "northwest",
          "sex": "female",
          "smoker": "no"
         },
         {
          "age": 28,
          "bmi": 26.98,
          "charges": 4435.0942,
          "children": 2,
          "region": "northeast",
          "sex": "male",
          "smoker": "no"
         },
         {
          "age": 64,
          "bmi": 33.88,
          "charges": 46889.2612,
          "children": 0,
          "region": "southeast",
          "sex": "male",
          "smoker": "yes"
         },
         {
          "age": 32,
          "bmi": 29.735,
          "charges": 4357.04365,
          "children": 0,
          "region": "northwest",
          "sex": "female",
          "smoker": "no"
         },
         {
          "age": 51,
          "bmi": 34.2,
          "charges": 9872.701,
          "children": 1,
          "region": "southwest",
          "sex": "female",
          "smoker": "no"
         },
         {
          "age": 55,
          "bmi": 29.7,
          "charges": 11881.358,
          "children": 2,
          "region": "southwest",
          "sex": "female",
          "smoker": "no"
         },
         {
          "age": 42,
          "bmi": 24.64,
          "charges": 19515.5416,
          "children": 0,
          "region": "southeast",
          "sex": "male",
          "smoker": "yes"
         },
         {
          "age": 18,
          "bmi": 40.185,
          "charges": 2217.46915,
          "children": 0,
          "region": "northeast",
          "sex": "female",
          "smoker": "no"
         },
         {
          "age": 58,
          "bmi": 32.01,
          "charges": 11946.6259,
          "children": 1,
          "region": "southeast",
          "sex": "male",
          "smoker": "no"
         },
         {
          "age": 28,
          "bmi": 34.77,
          "charges": 3556.9223,
          "children": 0,
          "region": "northwest",
          "sex": "female",
          "smoker": "no"
         },
         {
          "age": 39,
          "bmi": 26.41,
          "charges": 20149.3229,
          "children": 0,
          "region": "northeast",
          "sex": "male",
          "smoker": "yes"
         },
         {
          "age": 21,
          "bmi": 35.72,
          "charges": 2404.7338,
          "children": 0,
          "region": "northwest",
          "sex": "female",
          "smoker": "no"
         },
         {
          "age": 54,
          "bmi": 30.8,
          "charges": 12105.32,
          "children": 3,
          "region": "southwest",
          "sex": "female",
          "smoker": "no"
         },
         {
          "age": 37,
          "bmi": 22.705,
          "charges": 6985.50695,
          "children": 3,
          "region": "northeast",
          "sex": "male",
          "smoker": "no"
         },
         {
          "age": 20,
          "bmi": 31.92,
          "charges": 2261.5688,
          "children": 0,
          "region": "northwest",
          "sex": "female",
          "smoker": "no"
         },
         {
          "age": 19,
          "bmi": 28.4,
          "charges": 2331.519,
          "children": 1,
          "region": "southwest",
          "sex": "female",
          "smoker": "no"
         },
         {
          "age": 18,
          "bmi": 23.085,
          "charges": 1704.70015,
          "children": 0,
          "region": "northeast",
          "sex": "male",
          "smoker": "no"
         },
         {
          "age": 53,
          "bmi": 36.86,
          "charges": 46661.4424,
          "children": 3,
          "region": "northwest",
          "sex": "female",
          "smoker": "yes"
         }
        ]
       },
       "encoding": {
        "color": {
         "field": "sex",
         "type": "nominal"
        },
        "x": {
         "field": "age",
         "title": "Age",
         "type": "nominal"
        },
        "y": {
         "field": "bmi",
         "title": "BMI",
         "type": "quantitative"
        }
       },
       "mark": "point",
       "title": "BMI vs Age for each sex"
      },
      "image/png": "[encoded data removed]",
      "text/plain": [
       "<VegaLite 3 object>\n",
       "\n",
       "If you see this message, it means the renderer has not been properly enabled\n",
       "for the frontend that you are using. For more information, see\n",
       "https://altair-viz.github.io/user_guide/troubleshooting.html\n"
      ]
     },
     "execution_count": 33,
     "metadata": {},
     "output_type": "execute_result"
    }
   ],
   "source": [
    "alt.Chart(X_train).mark_point().encode(\n",
    "    \n",
    "    alt.X('age:N', title = 'Age'),\n",
    "    alt.Y('bmi:Q', title = 'BMI'),\n",
    "    alt.Color('sex:N')\n",
    ").properties(title='BMI vs Age for each sex')"
   ]
  },
  {
   "cell_type": "markdown",
   "metadata": {},
   "source": [
    "The BMI doesn't seem to vary depending on the age nor the sex."
   ]
  },
  {
   "cell_type": "markdown",
   "metadata": {},
   "source": [
    "**Let's see how the spending for medical treatments changes regarding to the BMI of a person**\n",
    "\n",
    "We expect expenditures to be higher for people who have very high BMI."
   ]
  },
  {
   "cell_type": "code",
   "execution_count": 34,
   "metadata": {},
   "outputs": [
    {
     "data": {
      "application/vnd.vegalite.v3+json": {
       "$schema": "https://vega.github.io/schema/vega-lite/v3.4.0.json",
       "config": {
        "mark": {
         "tooltip": null
        },
        "view": {
         "height": 300,
         "width": 400
        }
       },
       "data": {
        "name": "data-5d2464206649db38142765a9a32f50b9"
       },
       "datasets": {
        "data-5d2464206649db38142765a9a32f50b9": [
         {
          "age": 38,
          "bmi": 16.815,
          "charges": 6640.54485,
          "children": 2,
          "sex": "male"
         },
         {
          "age": 26,
          "bmi": 17.195,
          "charges": 14455.64405,
          "children": 2,
          "sex": "female"
         },
         {
          "age": 28,
          "bmi": 17.29,
          "charges": 3732.6251,
          "children": 0,
          "sex": "female"
         },
         {
          "age": 19,
          "bmi": 17.48,
          "charges": 1621.3402,
          "children": 0,
          "sex": "male"
         },
         {
          "age": 26,
          "bmi": 17.67,
          "charges": 2680.9493,
          "children": 0,
          "sex": "male"
         },
         {
          "age": 19,
          "bmi": 17.8,
          "charges": 1727.785,
          "children": 0,
          "sex": "female"
         },
         {
          "age": 35,
          "bmi": 17.86,
          "charges": 5116.5004,
          "children": 1,
          "sex": "male"
         },
         {
          "age": 27,
          "bmi": 17.955,
          "charges": 15006.57945,
          "children": 2,
          "sex": "female"
         },
         {
          "age": 56,
          "bmi": 18.335,
          "charges": 11597.66165,
          "children": 0,
          "sex": "female"
         },
         {
          "age": 57,
          "bmi": 18.335,
          "charges": 11534.87265,
          "children": 0,
          "sex": "male"
         },
         {
          "age": 19,
          "bmi": 18.6,
          "charges": 1728.8970000000004,
          "children": 0,
          "sex": "female"
         },
         {
          "age": 33,
          "bmi": 19.095,
          "charges": 16776.30405,
          "children": 2,
          "sex": "female"
         },
         {
          "age": 47,
          "bmi": 19.19,
          "charges": 8627.5411,
          "children": 1,
          "sex": "male"
         },
         {
          "age": 38,
          "bmi": 19.3,
          "charges": 15820.699,
          "children": 0,
          "sex": "male"
         },
         {
          "age": 38,
          "bmi": 19.475,
          "charges": 6933.24225,
          "children": 2,
          "sex": "female"
         },
         {
          "age": 47,
          "bmi": 19.57,
          "charges": 8428.0693,
          "children": 1,
          "sex": "male"
         },
         {
          "age": 26,
          "bmi": 19.8,
          "charges": 3378.91,
          "children": 1,
          "sex": "female"
         },
         {
          "age": 19,
          "bmi": 19.8,
          "charges": 1241.565,
          "children": 0,
          "sex": "male"
         },
         {
          "age": 46,
          "bmi": 19.855,
          "charges": 7526.70645,
          "children": 0,
          "sex": "male"
         },
         {
          "age": 34,
          "bmi": 19.95,
          "charges": 6413.6665,
          "children": 2.5,
          "sex": "female"
         },
         {
          "age": 38,
          "bmi": 19.95,
          "charges": 5855.9025,
          "children": 1,
          "sex": "male"
         },
         {
          "age": 35,
          "bmi": 20.045,
          "charges": 18109.274550000002,
          "children": 2.5,
          "sex": "female"
         },
         {
          "age": 57,
          "bmi": 20.1,
          "charges": 12032.326,
          "children": 1,
          "sex": "female"
         },
         {
          "age": 33,
          "bmi": 20.235,
          "charges": 11061.31415,
          "children": 0.5,
          "sex": "female"
         },
         {
          "age": 19,
          "bmi": 20.3,
          "charges": 1242.26,
          "children": 0,
          "sex": "male"
         },
         {
          "age": 45,
          "bmi": 20.35,
          "charges": 8605.3615,
          "children": 3,
          "sex": "male"
         },
         {
          "age": 31,
          "bmi": 20.4,
          "charges": 3260.199,
          "children": 0,
          "sex": "male"
         },
         {
          "age": 28,
          "bmi": 20.52,
          "charges": 9558.0628,
          "children": 0,
          "sex": "female"
         },
         {
          "age": 35,
          "bmi": 20.6,
          "charges": 5498.237,
          "children": 0,
          "sex": "female"
         },
         {
          "age": 19,
          "bmi": 20.615,
          "charges": 2803.69785,
          "children": 2,
          "sex": "male"
         },
         {
          "age": 19,
          "bmi": 20.7,
          "charges": 1242.816,
          "children": 0,
          "sex": "male"
         },
         {
          "age": 18,
          "bmi": 20.79,
          "charges": 1607.5101,
          "children": 0,
          "sex": "female"
         },
         {
          "age": 25,
          "bmi": 20.8,
          "charges": 3208.7870000000007,
          "children": 1,
          "sex": "female"
         },
         {
          "age": 26,
          "bmi": 20.8,
          "charges": 2302.3,
          "children": 0,
          "sex": "male"
         },
         {
          "age": 19,
          "bmi": 20.9,
          "charges": 1832.094,
          "children": 1,
          "sex": "male"
         },
         {
          "age": 54,
          "bmi": 21.01,
          "charges": 11013.7119,
          "children": 2,
          "sex": "male"
         },
         {
          "age": 61,
          "bmi": 21.09,
          "charges": 13415.0381,
          "children": 0,
          "sex": "female"
         },
         {
          "age": 49,
          "bmi": 21.3,
          "charges": 9182.17,
          "children": 1,
          "sex": "female"
         },
         {
          "age": 45,
          "bmi": 21.375,
          "charges": 7222.78625,
          "children": 0,
          "sex": "male"
         },
         {
          "age": 57.5,
          "bmi": 21.4,
          "charges": 11511.265500000001,
          "children": 0.5,
          "sex": "male"
         },
         {
          "age": 27,
          "bmi": 21.47,
          "charges": 3353.4703,
          "children": 0,
          "sex": "female"
         },
         {
          "age": 18,
          "bmi": 21.565,
          "charges": 13747.87235,
          "children": 0,
          "sex": "male"
         },
         {
          "age": 63,
          "bmi": 21.66,
          "charges": 14349.8544,
          "children": 1,
          "sex": "male"
         },
         {
          "age": 19,
          "bmi": 21.7,
          "charges": 13844.506,
          "children": 0,
          "sex": "female"
         },
         {
          "age": 36,
          "bmi": 21.755,
          "charges": 8929.777145,
          "children": 0.5,
          "sex": "female"
         },
         {
          "age": 19,
          "bmi": 21.755,
          "charges": 1627.28245,
          "children": 0,
          "sex": "male"
         },
         {
          "age": 18,
          "bmi": 21.78,
          "charges": 11884.04858,
          "children": 2,
          "sex": "male"
         },
         {
          "age": 21,
          "bmi": 21.85,
          "charges": 15359.1045,
          "children": 1,
          "sex": "female"
         },
         {
          "age": 21,
          "bmi": 21.89,
          "charges": 3180.5101,
          "children": 2,
          "sex": "female"
         },
         {
          "age": 30,
          "bmi": 21.945,
          "charges": 4718.20355,
          "children": 1,
          "sex": "female"
         },
         {
          "age": 20,
          "bmi": 22,
          "charges": 1964.78,
          "children": 1,
          "sex": "male"
         },
         {
          "age": 61,
          "bmi": 22.04,
          "charges": 13616.3586,
          "children": 0,
          "sex": "female"
         },
         {
          "age": 56,
          "bmi": 22.1,
          "charges": 10577.087,
          "children": 0,
          "sex": "male"
         },
         {
          "age": 34.5,
          "bmi": 22.135,
          "charges": 6291.14515,
          "children": 2,
          "sex": "female"
         },
         {
          "age": 44,
          "bmi": 22.135,
          "charges": 8302.53565,
          "children": 2,
          "sex": "male"
         },
         {
          "age": 40,
          "bmi": 22.22,
          "charges": 19444.2658,
          "children": 2,
          "sex": "female"
         },
         {
          "age": 41.5,
          "bmi": 22.23,
          "charges": 7602.787200000001,
          "children": 0,
          "sex": "female"
         },
         {
          "age": 21,
          "bmi": 22.3,
          "charges": 2103.08,
          "children": 1,
          "sex": "male"
         },
         {
          "age": 20,
          "bmi": 22.42,
          "charges": 14711.7438,
          "children": 0,
          "sex": "female"
         },
         {
          "age": 34,
          "bmi": 22.42,
          "charges": 27375.90478,
          "children": 2,
          "sex": "male"
         },
         {
          "age": 22,
          "bmi": 22.515,
          "charges": 2855.7548500000003,
          "children": 0.5,
          "sex": "female"
         },
         {
          "age": 39,
          "bmi": 22.515,
          "charges": 6949.21885,
          "children": 1.5,
          "sex": "male"
         },
         {
          "age": 24,
          "bmi": 22.6,
          "charges": 2457.502,
          "children": 0,
          "sex": "female"
         },
         {
          "age": 42.666666666666664,
          "bmi": 22.61,
          "charges": 12539.063900000001,
          "children": 1.3333333333333333,
          "sex": "female"
         },
         {
          "age": 19,
          "bmi": 22.61,
          "charges": 1628.4709,
          "children": 0,
          "sex": "male"
         },
         {
          "age": 36.666666666666664,
          "bmi": 22.705,
          "charges": 12047.779170000002,
          "children": 1.6666666666666667,
          "sex": "male"
         },
         {
          "age": 58,
          "bmi": 22.77,
          "charges": 11833.7823,
          "children": 0,
          "sex": "female"
         },
         {
          "age": 48,
          "bmi": 22.8,
          "charges": 8269.044,
          "children": 0,
          "sex": "female"
         },
         {
          "age": 53,
          "bmi": 22.88,
          "charges": 23244.7902,
          "children": 1,
          "sex": "female"
         },
         {
          "age": 64,
          "bmi": 22.99,
          "charges": 27037.9141,
          "children": 0,
          "sex": "female"
         },
         {
          "age": 18,
          "bmi": 22.99,
          "charges": 1704.5681,
          "children": 0,
          "sex": "male"
         },
         {
          "age": 63,
          "bmi": 23.085,
          "charges": 14451.83515,
          "children": 0,
          "sex": "female"
         },
         {
          "age": 18,
          "bmi": 23.085,
          "charges": 1704.70015,
          "children": 0,
          "sex": "male"
         },
         {
          "age": 27,
          "bmi": 23.1,
          "charges": 2483.736,
          "children": 0,
          "sex": "male"
         },
         {
          "age": 40.6,
          "bmi": 23.18,
          "charges": 9868.62973,
          "children": 0.8,
          "sex": "female"
         },
         {
          "age": 43,
          "bmi": 23.2,
          "charges": 6250.435,
          "children": 0,
          "sex": "male"
         },
         {
          "age": 25.5,
          "bmi": 23.21,
          "charges": 14321.82837,
          "children": 0.5,
          "sex": "female"
         },
         {
          "age": 18,
          "bmi": 23.21,
          "charges": 1121.8739,
          "children": 0,
          "sex": "male"
         },
         {
          "age": 58,
          "bmi": 23.3,
          "charges": 11345.518999999998,
          "children": 0,
          "sex": "male"
         },
         {
          "age": 18,
          "bmi": 23.32,
          "charges": 1711.0268,
          "children": 1,
          "sex": "male"
         },
         {
          "age": 41,
          "bmi": 23.37,
          "charges": 14108.5153,
          "children": 1.5,
          "sex": "female"
         },
         {
          "age": 19,
          "bmi": 23.4,
          "charges": 2913.5690000000004,
          "children": 2,
          "sex": "female"
         },
         {
          "age": 35,
          "bmi": 23.465,
          "charges": 6402.29135,
          "children": 2,
          "sex": "female"
         },
         {
          "age": 50,
          "bmi": 23.54,
          "charges": 10107.2206,
          "children": 2,
          "sex": "female"
         },
         {
          "age": 34,
          "bmi": 23.56,
          "charges": 4992.3764,
          "children": 0,
          "sex": "female"
         },
         {
          "age": 39,
          "bmi": 23.6,
          "charges": 6735.659,
          "children": 1.5,
          "sex": "female"
         },
         {
          "age": 32,
          "bmi": 23.65,
          "charges": 17626.23951,
          "children": 1,
          "sex": "female"
         },
         {
          "age": 45,
          "bmi": 23.655,
          "charges": 22040.645783333337,
          "children": 1.3333333333333333,
          "sex": "female"
         },
         {
          "age": 24,
          "bmi": 23.655,
          "charges": 2352.96845,
          "children": 0,
          "sex": "male"
         },
         {
          "age": 26,
          "bmi": 23.7,
          "charges": 3484.331,
          "children": 2,
          "sex": "male"
         },
         {
          "age": 18,
          "bmi": 23.75,
          "charges": 1705.6245,
          "children": 0,
          "sex": "male"
         },
         {
          "age": 64,
          "bmi": 23.76,
          "charges": 26926.5144,
          "children": 0,
          "sex": "male"
         },
         {
          "age": 28,
          "bmi": 23.8,
          "charges": 3847.674,
          "children": 2,
          "sex": "male"
         },
         {
          "age": 28,
          "bmi": 23.845,
          "charges": 4719.73655,
          "children": 2,
          "sex": "female"
         },
         {
          "age": 23,
          "bmi": 23.845,
          "charges": 2395.17155,
          "children": 0,
          "sex": "male"
         },
         {
          "age": 39,
          "bmi": 23.87,
          "charges": 8582.3023,
          "children": 5,
          "sex": "female"
         },
         {
          "age": 25,
          "bmi": 23.9,
          "charges": 5080.096,
          "children": 5,
          "sex": "male"
         },
         {
          "age": 41,
          "bmi": 23.94,
          "charges": 6858.4796,
          "children": 1,
          "sex": "male"
         },
         {
          "age": 50.5,
          "bmi": 23.98,
          "charges": 15201.768655,
          "children": 1.5,
          "sex": "female"
         },
         {
          "age": 60,
          "bmi": 24.035,
          "charges": 13012.20865,
          "children": 0,
          "sex": "female"
         },
         {
          "age": 49.5,
          "bmi": 24.035,
          "charges": 9513.70015,
          "children": 1,
          "sex": "male"
         },
         {
          "age": 18,
          "bmi": 24.09,
          "charges": 2201.0971,
          "children": 1,
          "sex": "female"
         },
         {
          "age": 37,
          "bmi": 24.1,
          "charges": 14605.352985,
          "children": 0.5,
          "sex": "female"
         },
         {
          "age": 30,
          "bmi": 24.13,
          "charges": 4032.2407,
          "children": 1,
          "sex": "male"
         },
         {
          "age": 23.5,
          "bmi": 24.225,
          "charges": 12619.252495,
          "children": 1,
          "sex": "female"
         },
         {
          "age": 23.5,
          "bmi": 24.3,
          "charges": 3271.0605,
          "children": 1.5,
          "sex": "female"
         },
         {
          "age": 28,
          "bmi": 24.3,
          "charges": 5615.3690000000015,
          "children": 5,
          "sex": "male"
         },
         {
          "age": 45,
          "bmi": 24.31,
          "charges": 9788.8659,
          "children": 5,
          "sex": "male"
         },
         {
          "age": 37.5,
          "bmi": 24.32,
          "charges": 15911.8001,
          "children": 0.5,
          "sex": "female"
         },
         {
          "age": 49.666666666666664,
          "bmi": 24.32,
          "charges": 14727.064466666665,
          "children": 2,
          "sex": "male"
         },
         {
          "age": 51,
          "bmi": 24.415,
          "charges": 11520.09985,
          "children": 4,
          "sex": "male"
         },
         {
          "age": 20,
          "bmi": 24.42,
          "charges": 26125.67477,
          "children": 0,
          "sex": "female"
         },
         {
          "age": 35,
          "bmi": 24.42,
          "charges": 19361.9988,
          "children": 3,
          "sex": "male"
         },
         {
          "age": 19,
          "bmi": 24.51,
          "charges": 2709.1119,
          "children": 1,
          "sex": "female"
         },
         {
          "age": 31,
          "bmi": 24.51,
          "charges": 4553.1439,
          "children": 1,
          "sex": "male"
         },
         {
          "age": 32,
          "bmi": 24.6,
          "charges": 17496.306,
          "children": 0,
          "sex": "female"
         },
         {
          "age": 36.5,
          "bmi": 24.605,
          "charges": 7594.47645,
          "children": 2,
          "sex": "female"
         },
         {
          "age": 42,
          "bmi": 24.64,
          "charges": 19515.5416,
          "children": 0,
          "sex": "male"
         },
         {
          "age": 31,
          "bmi": 24.7,
          "charges": 11809.098,
          "children": 1,
          "sex": "female"
         },
         {
          "age": 61.5,
          "bmi": 24.7,
          "charges": 21245.277085,
          "children": 0.5,
          "sex": "male"
         },
         {
          "age": 27,
          "bmi": 24.75,
          "charges": 16577.7795,
          "children": 0,
          "sex": "female"
         },
         {
          "age": 53,
          "bmi": 24.795,
          "charges": 10942.13205,
          "children": 1,
          "sex": "female"
         },
         {
          "age": 33,
          "bmi": 24.795,
          "charges": 17904.52705,
          "children": 0,
          "sex": "male"
         },
         {
          "age": 52,
          "bmi": 24.86,
          "charges": 27117.99378,
          "children": 0,
          "sex": "female"
         },
         {
          "age": 39,
          "bmi": 24.89,
          "charges": 21659.9301,
          "children": 3,
          "sex": "female"
         },
         {
          "age": 25,
          "bmi": 24.985,
          "charges": 23241.47453,
          "children": 2,
          "sex": "male"
         },
         {
          "age": 44,
          "bmi": 25,
          "charges": 7623.518,
          "children": 1,
          "sex": "female"
         },
         {
          "age": 41.333333333333336,
          "bmi": 25.08,
          "charges": 7925.376533333333,
          "children": 0,
          "sex": "female"
         },
         {
          "age": 40,
          "bmi": 25.08,
          "charges": 5415.6612,
          "children": 0,
          "sex": "male"
         },
         {
          "age": 54,
          "bmi": 25.1,
          "charges": 25382.297,
          "children": 3,
          "sex": "male"
         },
         {
          "age": 27,
          "bmi": 25.175,
          "charges": 3558.62025,
          "children": 0,
          "sex": "female"
         },
         {
          "age": 29.25,
          "bmi": 25.175,
          "charges": 7781.75675,
          "children": 0,
          "sex": "male"
         },
         {
          "age": 24,
          "bmi": 25.27,
          "charges": 3044.2133,
          "children": 0,
          "sex": "female"
         },
         {
          "age": 52,
          "bmi": 25.3,
          "charges": 24667.419,
          "children": 2,
          "sex": "female"
         },
         {
          "age": 42,
          "bmi": 25.3,
          "charges": 13707.580999999998,
          "children": 1,
          "sex": "male"
         },
         {
          "age": 55,
          "bmi": 25.365,
          "charges": 13047.33235,
          "children": 3,
          "sex": "female"
         },
         {
          "age": 47,
          "bmi": 25.365,
          "charges": 18901.334145,
          "children": 1.5,
          "sex": "male"
         },
         {
          "age": 51,
          "bmi": 25.4,
          "charges": 8782.469000000001,
          "children": 0,
          "sex": "male"
         },
         {
          "age": 47,
          "bmi": 25.41,
          "charges": 21978.6769,
          "children": 1,
          "sex": "male"
         },
         {
          "age": 34,
          "bmi": 25.46,
          "charges": 10290.068143333334,
          "children": 0.3333333333333333,
          "sex": "male"
         },
         {
          "age": 43,
          "bmi": 25.52,
          "charges": 14478.33015,
          "children": 5,
          "sex": "male"
         },
         {
          "age": 37,
          "bmi": 25.555,
          "charges": 20296.86345,
          "children": 1,
          "sex": "female"
         },
         {
          "age": 19,
          "bmi": 25.555,
          "charges": 1927.0644499999999,
          "children": 0.5,
          "sex": "male"
         },
         {
          "age": 29,
          "bmi": 25.6,
          "charges": 5708.866999999998,
          "children": 4,
          "sex": "female"
         },
         {
          "age": 56.5,
          "bmi": 25.6,
          "charges": 19147.4895,
          "children": 2,
          "sex": "male"
         },
         {
          "age": 56,
          "bmi": 25.65,
          "charges": 11454.0215,
          "children": 0,
          "sex": "female"
         },
         {
          "age": 45,
          "bmi": 25.7,
          "charges": 9101.798,
          "children": 3,
          "sex": "female"
         },
         {
          "age": 21,
          "bmi": 25.7,
          "charges": 17942.106,
          "children": 4,
          "sex": "male"
         },
         {
          "age": 57,
          "bmi": 25.74,
          "charges": 12629.1656,
          "children": 2,
          "sex": "female"
         },
         {
          "age": 25,
          "bmi": 25.74,
          "charges": 2137.6536,
          "children": 0,
          "sex": "male"
         },
         {
          "age": 19,
          "bmi": 25.745,
          "charges": 2710.82855,
          "children": 1,
          "sex": "female"
         },
         {
          "age": 46,
          "bmi": 25.745,
          "charges": 9301.89355,
          "children": 3,
          "sex": "male"
         },
         {
          "age": 38.5,
          "bmi": 25.8,
          "charges": 6395.4535000000005,
          "children": 1,
          "sex": "female"
         },
         {
          "age": 60,
          "bmi": 25.84,
          "charges": 28923.13692,
          "children": 0,
          "sex": "female"
         },
         {
          "age": 41,
          "bmi": 25.84,
          "charges": 12133.171266666666,
          "children": 1.3333333333333333,
          "sex": "male"
         },
         {
          "age": 48,
          "bmi": 25.85,
          "charges": 24180.9335,
          "children": 3,
          "sex": "female"
         },
         {
          "age": 31,
          "bmi": 25.9,
          "charges": 19199.944,
          "children": 3,
          "sex": "male"
         },
         {
          "age": 28,
          "bmi": 25.935,
          "charges": 4133.64165,
          "children": 1,
          "sex": "female"
         },
         {
          "age": 43.5,
          "bmi": 25.935,
          "charges": 7702.65515,
          "children": 0.5,
          "sex": "male"
         },
         {
          "age": 29,
          "bmi": 26.03,
          "charges": 3736.4647,
          "children": 0,
          "sex": "female"
         },
         {
          "age": 24,
          "bmi": 26.03,
          "charges": 2586.5367,
          "children": 0,
          "sex": "male"
         },
         {
          "age": 41,
          "bmi": 26.125,
          "charges": 14314.64725,
          "children": 0.5,
          "sex": "female"
         },
         {
          "age": 42,
          "bmi": 26.125,
          "charges": 7729.64575,
          "children": 2,
          "sex": "male"
         },
         {
          "age": 42,
          "bmi": 26.18,
          "charges": 7046.7222,
          "children": 1,
          "sex": "female"
         },
         {
          "age": 18,
          "bmi": 26.18,
          "charges": 2304.0022,
          "children": 2,
          "sex": "male"
         },
         {
          "age": 36,
          "bmi": 26.2,
          "charges": 4883.866,
          "children": 0,
          "sex": "female"
         },
         {
          "age": 63,
          "bmi": 26.22,
          "charges": 14256.1928,
          "children": 0,
          "sex": "female"
         },
         {
          "age": 32,
          "bmi": 26.22,
          "charges": 4422.4448,
          "children": 0.5,
          "sex": "male"
         },
         {
          "age": 62,
          "bmi": 26.29,
          "charges": 27808.7251,
          "children": 0,
          "sex": "female"
         },
         {
          "age": 39,
          "bmi": 26.315,
          "charges": 7201.70085,
          "children": 2,
          "sex": "female"
         },
         {
          "age": 42,
          "bmi": 26.315,
          "charges": 6940.90985,
          "children": 1,
          "sex": "male"
         },
         {
          "age": 29,
          "bmi": 26.4,
          "charges": 11068.510999999999,
          "children": 0.5,
          "sex": "female"
         },
         {
          "age": 39,
          "bmi": 26.41,
          "charges": 6402.4079,
          "children": 0.5,
          "sex": "female"
         },
         {
          "age": 47.333333333333336,
          "bmi": 26.41,
          "charges": 13406.969899999998,
          "children": 0.6666666666666666,
          "sex": "male"
         },
         {
          "age": 59,
          "bmi": 26.505,
          "charges": 12815.44495,
          "children": 0,
          "sex": "female"
         },
         {
          "age": 28,
          "bmi": 26.51,
          "charges": 4340.4409,
          "children": 2,
          "sex": "female"
         },
         {
          "age": 23,
          "bmi": 26.51,
          "charges": 1815.8759,
          "children": 0,
          "sex": "male"
         },
         {
          "age": 43.75,
          "bmi": 26.6,
          "charges": 11698.687750000001,
          "children": 0.25,
          "sex": "female"
         },
         {
          "age": 31,
          "bmi": 26.62,
          "charges": 3757.8448,
          "children": 0,
          "sex": "female"
         },
         {
          "age": 46,
          "bmi": 26.62,
          "charges": 7742.1098,
          "children": 1,
          "sex": "male"
         },
         {
          "age": 59,
          "bmi": 26.695,
          "charges": 14382.70905,
          "children": 3,
          "sex": "female"
         },
         {
          "age": 25,
          "bmi": 26.695,
          "charges": 4877.98105,
          "children": 4,
          "sex": "male"
         },
         {
          "age": 53,
          "bmi": 26.7,
          "charges": 11150.78,
          "children": 2,
          "sex": "female"
         },
         {
          "age": 26,
          "bmi": 26.73,
          "charges": 3309.2747,
          "children": 0.5,
          "sex": "female"
         },
         {
          "age": 55,
          "bmi": 26.8,
          "charges": 35160.13457,
          "children": 1,
          "sex": "female"
         },
         {
          "age": 25,
          "bmi": 26.8,
          "charges": 3906.127,
          "children": 3,
          "sex": "male"
         },
         {
          "age": 22,
          "bmi": 26.84,
          "charges": 1664.9996,
          "children": 0,
          "sex": "male"
         },
         {
          "age": 47.666666666666664,
          "bmi": 26.885,
          "charges": 18791.04115,
          "children": 0,
          "sex": "female"
         },
         {
          "age": 31,
          "bmi": 26.885,
          "charges": 4441.21315,
          "children": 1,
          "sex": "male"
         },
         {
          "age": 42,
          "bmi": 26.9,
          "charges": 5969.723000000001,
          "children": 0,
          "sex": "male"
         },
         {
          "age": 59,
          "bmi": 26.98,
          "charges": 20016.5232,
          "children": 0,
          "sex": "female"
         },
         {
          "age": 28,
          "bmi": 26.98,
          "charges": 4435.0942,
          "children": 2,
          "sex": "male"
         },
         {
          "age": 50,
          "bmi": 27.075,
          "charges": 10106.13425,
          "children": 1,
          "sex": "female"
         },
         {
          "age": 22,
          "bmi": 27.1,
          "charges": 2154.361,
          "children": 0,
          "sex": "female"
         },
         {
          "age": 34,
          "bmi": 27.1,
          "charges": 11893.61,
          "children": 1,
          "sex": "male"
         },
         {
          "age": 53.5,
          "bmi": 27.17,
          "charges": 10412.1138,
          "children": 0,
          "sex": "female"
         },
         {
          "age": 56,
          "bmi": 27.2,
          "charges": 11073.176,
          "children": 0,
          "sex": "female"
         },
         {
          "age": 29,
          "bmi": 27.2,
          "charges": 2866.091,
          "children": 0,
          "sex": "male"
         },
         {
          "age": 43,
          "bmi": 27.265,
          "charges": 8001.16035,
          "children": 1,
          "sex": "female"
         },
         {
          "age": 22.5,
          "bmi": 27.265,
          "charges": 13577.472995,
          "children": 2.5,
          "sex": "male"
         },
         {
          "age": 18,
          "bmi": 27.28,
          "charges": 18223.4512,
          "children": 3,
          "sex": "female"
         },
         {
          "age": 49,
          "bmi": 27.36,
          "charges": 17551.97883,
          "children": 0.5,
          "sex": "female"
         },
         {
          "age": 34.75,
          "bmi": 27.36,
          "charges": 9473.25265,
          "children": 1,
          "sex": "male"
         },
         {
          "age": 44,
          "bmi": 27.4,
          "charges": 7726.854,
          "children": 2,
          "sex": "male"
         },
         {
          "age": 41.5,
          "bmi": 27.455,
          "charges": 7439.56595,
          "children": 1.5,
          "sex": "male"
         },
         {
          "age": 45.666666666666664,
          "bmi": 27.5,
          "charges": 8288.224666666667,
          "children": 0.6666666666666666,
          "sex": "female"
         },
         {
          "age": 59,
          "bmi": 27.5,
          "charges": 12333.828,
          "children": 1,
          "sex": "male"
         },
         {
          "age": 60,
          "bmi": 27.55,
          "charges": 13217.0945,
          "children": 0,
          "sex": "female"
         },
         {
          "age": 49,
          "bmi": 27.55,
          "charges": 10342.2045,
          "children": 2,
          "sex": "male"
         },
         {
          "age": 31,
          "bmi": 27.6,
          "charges": 12169.378085,
          "children": 0,
          "sex": "female"
         },
         {
          "age": 32.5,
          "bmi": 27.6,
          "charges": 12927.727685,
          "children": 0,
          "sex": "male"
         },
         {
          "age": 35,
          "bmi": 27.61,
          "charges": 4747.0529,
          "children": 1,
          "sex": "male"
         },
         {
          "age": 48.666666666666664,
          "bmi": 27.645,
          "charges": 21393.94065,
          "children": 1.3333333333333333,
          "sex": "female"
         },
         {
          "age": 43,
          "bmi": 27.645,
          "charges": 7812.885550000001,
          "children": 1,
          "sex": "male"
         },
         {
          "age": 35,
          "bmi": 27.7,
          "charges": 6414.178000000001,
          "children": 3,
          "sex": "female"
         },
         {
          "age": 19,
          "bmi": 27.7,
          "charges": 16297.846,
          "children": 0,
          "sex": "male"
         },
         {
          "age": 40.75,
          "bmi": 27.72,
          "charges": 7278.38755,
          "children": 1,
          "sex": "female"
         },
         {
          "age": 45.5,
          "bmi": 27.74,
          "charges": 12575.0861,
          "children": 0.75,
          "sex": "female"
         },
         {
          "age": 43,
          "bmi": 27.74,
          "charges": 15470.9076,
          "children": 1.5,
          "sex": "male"
         },
         {
          "age": 43,
          "bmi": 27.8,
          "charges": 37829.7242,
          "children": 0,
          "sex": "male"
         },
         {
          "age": 50.25,
          "bmi": 27.83,
          "charges": 16332.962370000001,
          "children": 2,
          "sex": "female"
         },
         {
          "age": 38,
          "bmi": 27.835,
          "charges": 7144.86265,
          "children": 2,
          "sex": "female"
         },
         {
          "age": 29.666666666666668,
          "bmi": 27.835,
          "charges": 4181.999650000001,
          "children": 1,
          "sex": "male"
         },
         {
          "age": 19,
          "bmi": 27.9,
          "charges": 16884.924,
          "children": 0,
          "sex": "female"
         },
         {
          "age": 39,
          "bmi": 27.93,
          "charges": 7576.3487000000005,
          "children": 2,
          "sex": "female"
         },
         {
          "age": 20,
          "bmi": 27.93,
          "charges": 1967.0227,
          "children": 0,
          "sex": "male"
         },
         {
          "age": 29,
          "bmi": 27.94,
          "charges": 19107.7796,
          "children": 1,
          "sex": "female"
         },
         {
          "age": 43,
          "bmi": 27.94,
          "charges": 7210.6716,
          "children": 0.5,
          "sex": "male"
         },
         {
          "age": 23,
          "bmi": 28,
          "charges": 13126.67745,
          "children": 0,
          "sex": "female"
         },
         {
          "age": 48,
          "bmi": 28,
          "charges": 23568.272,
          "children": 1,
          "sex": "male"
         },
         {
          "age": 35,
          "bmi": 28.025,
          "charges": 20234.85475,
          "children": 0,
          "sex": "female"
         },
         {
          "age": 31.666666666666668,
          "bmi": 28.025,
          "charges": 9943.80275,
          "children": 1.3333333333333333,
          "sex": "male"
         },
         {
          "age": 34,
          "bmi": 28.05,
          "charges": 5194.3895,
          "children": 0.5,
          "sex": "female"
         },
         {
          "age": 57,
          "bmi": 28.1,
          "charges": 10965.446000000002,
          "children": 0,
          "sex": "male"
         },
         {
          "age": 23,
          "bmi": 28.12,
          "charges": 2690.1138,
          "children": 0,
          "sex": "female"
         },
         {
          "age": 32,
          "bmi": 28.12,
          "charges": 21472.4788,
          "children": 4,
          "sex": "male"
         },
         {
          "age": 61,
          "bmi": 28.2,
          "charges": 13041.921,
          "children": 0,
          "sex": "female"
         },
         {
          "age": 38,
          "bmi": 28.215,
          "charges": 7212.5908500000005,
          "children": 0,
          "sex": "female"
         },
         {
          "age": 47,
          "bmi": 28.215,
          "charges": 17661.15335,
          "children": 3.5,
          "sex": "male"
         },
         {
          "age": 33,
          "bmi": 28.27,
          "charges": 4779.6023,
          "children": 1,
          "sex": "female"
         },
         {
          "age": 19,
          "bmi": 28.3,
          "charges": 17081.08,
          "children": 0,
          "sex": "female"
         },
         {
          "age": 39,
          "bmi": 28.3,
          "charges": 21082.16,
          "children": 1,
          "sex": "male"
         },
         {
          "age": 38.666666666666664,
          "bmi": 28.31,
          "charges": 12093.418899999999,
          "children": 0.3333333333333333,
          "sex": "female"
         },
         {
          "age": 35.75,
          "bmi": 28.31,
          "charges": 18891.874194999997,
          "children": 1.5,
          "sex": "male"
         },
         {
          "age": 30,
          "bmi": 28.38,
          "charges": 19521.9682,
          "children": 1,
          "sex": "female"
         },
         {
          "age": 19,
          "bmi": 28.4,
          "charges": 2331.519,
          "children": 1,
          "sex": "female"
         },
         {
          "age": 19,
          "bmi": 28.4,
          "charges": 1842.519,
          "children": 1,
          "sex": "male"
         },
         {
          "age": 30,
          "bmi": 28.405,
          "charges": 4527.18295,
          "children": 1,
          "sex": "female"
         },
         {
          "age": 41,
          "bmi": 28.405,
          "charges": 6664.68595,
          "children": 1,
          "sex": "male"
         },
         {
          "age": 23,
          "bmi": 28.49,
          "charges": 18328.2381,
          "children": 1,
          "sex": "female"
         },
         {
          "age": 25.333333333333332,
          "bmi": 28.5,
          "charges": 8940.809,
          "children": 1.6666666666666667,
          "sex": "male"
         },
         {
          "age": 40.5,
          "bmi": 28.595,
          "charges": 7435.86855,
          "children": 0,
          "sex": "female"
         },
         {
          "age": 46.25,
          "bmi": 28.595,
          "charges": 13196.914927500002,
          "children": 1,
          "sex": "male"
         },
         {
          "age": 32,
          "bmi": 28.6,
          "charges": 6602.313,
          "children": 3.5,
          "sex": "female"
         },
         {
          "age": 53,
          "bmi": 28.6,
          "charges": 11253.421,
          "children": 3,
          "sex": "male"
         },
         {
          "age": 40,
          "bmi": 28.69,
          "charges": 8059.6791,
          "children": 3,
          "sex": "female"
         },
         {
          "age": 30,
          "bmi": 28.69,
          "charges": 20745.9891,
          "children": 3,
          "sex": "male"
         },
         {
          "age": 57,
          "bmi": 28.7,
          "charges": 11455.28,
          "children": 0,
          "sex": "female"
         },
         {
          "age": 19,
          "bmi": 28.7,
          "charges": 1253.936,
          "children": 0,
          "sex": "male"
         },
         {
          "age": 41,
          "bmi": 28.785,
          "charges": 7521.889150000001,
          "children": 0,
          "sex": "female"
         },
         {
          "age": 41,
          "bmi": 28.8,
          "charges": 6282.235,
          "children": 1,
          "sex": "male"
         },
         {
          "age": 22,
          "bmi": 28.82,
          "charges": 2156.7518,
          "children": 0,
          "sex": "female"
         },
         {
          "age": 37.25,
          "bmi": 28.88,
          "charges": 10858.096950000001,
          "children": 1,
          "sex": "female"
         },
         {
          "age": 30,
          "bmi": 28.88,
          "charges": 4288.760533333333,
          "children": 1,
          "sex": "male"
         },
         {
          "age": 19,
          "bmi": 28.9,
          "charges": 1743.214,
          "children": 0,
          "sex": "female"
         },
         {
          "age": 35,
          "bmi": 28.93,
          "charges": 4973.6547,
          "children": 0.5,
          "sex": "female"
         },
         {
          "age": 32,
          "bmi": 28.93,
          "charges": 19719.6947,
          "children": 1,
          "sex": "male"
         },
         {
          "age": 20,
          "bmi": 28.975,
          "charges": 2257.47525,
          "children": 0,
          "sex": "female"
         },
         {
          "age": 44.333333333333336,
          "bmi": 28.975,
          "charges": 13307.048583333331,
          "children": 0,
          "sex": "male"
         },
         {
          "age": 50,
          "bmi": 29,
          "charges": 9446.542,
          "children": 0.5,
          "sex": "female"
         },
         {
          "age": 36,
          "bmi": 29.04,
          "charges": 7243.8136,
          "children": 4,
          "sex": "female"
         },
         {
          "age": 19,
          "bmi": 29.07,
          "charges": 17352.6803,
          "children": 0,
          "sex": "male"
         },
         {
          "age": 31,
          "bmi": 29.1,
          "charges": 3761.292,
          "children": 0,
          "sex": "female"
         },
         {
          "age": 26,
          "bmi": 29.15,
          "charges": 2902.9065,
          "children": 1,
          "sex": "male"
         },
         {
          "age": 32.5,
          "bmi": 29.26,
          "charges": 5267.4069,
          "children": 2,
          "sex": "female"
         },
         {
          "age": 33,
          "bmi": 29.26,
          "charges": 5448.0534,
          "children": 2,
          "sex": "male"
         },
         {
          "age": 40,
          "bmi": 29.3,
          "charges": 15828.82173,
          "children": 4,
          "sex": "female"
         },
         {
          "age": 24,
          "bmi": 29.3,
          "charges": 1977.815,
          "children": 0,
          "sex": "male"
         },
         {
          "age": 26,
          "bmi": 29.355,
          "charges": 4564.19145,
          "children": 2,
          "sex": "female"
         },
         {
          "age": 40,
          "bmi": 29.355,
          "charges": 6393.60345,
          "children": 1,
          "sex": "male"
         },
         {
          "age": 33,
          "bmi": 29.4,
          "charges": 6059.173000000002,
          "children": 4,
          "sex": "male"
         },
         {
          "age": 26,
          "bmi": 29.45,
          "charges": 2897.3235,
          "children": 0,
          "sex": "male"
         },
         {
          "age": 42,
          "bmi": 29.48,
          "charges": 7640.3092,
          "children": 2,
          "sex": "female"
         },
         {
          "age": 53,
          "bmi": 29.48,
          "charges": 9487.6442,
          "children": 0,
          "sex": "male"
         },
         {
          "age": 37,
          "bmi": 29.5,
          "charges": 6311.951999999998,
          "children": 2,
          "sex": "female"
         },
         {
          "age": 30.5,
          "bmi": 29.59,
          "charges": 4255.1276,
          "children": 1,
          "sex": "female"
         },
         {
          "age": 20,
          "bmi": 29.6,
          "charges": 1875.344,
          "children": 0,
          "sex": "female"
         },
         {
          "age": 43.5,
          "bmi": 29.6,
          "charges": 14372.22463,
          "children": 2,
          "sex": "male"
         },
         {
          "age": 26,
          "bmi": 29.64,
          "charges": 24671.66334,
          "children": 4,
          "sex": "female"
         },
         {
          "age": 41.75,
          "bmi": 29.64,
          "charges": 11814.8390775,
          "children": 1.5,
          "sex": "male"
         },
         {
          "age": 55,
          "bmi": 29.7,
          "charges": 11881.358,
          "children": 2,
          "sex": "female"
         },
         {
          "age": 42,
          "bmi": 29.7,
          "charges": 11262.1775,
          "children": 1.25,
          "sex": "male"
         },
         {
          "age": 32,
          "bmi": 29.735,
          "charges": 4357.04365,
          "children": 0,
          "sex": "female"
         },
         {
          "age": 36.5,
          "bmi": 29.735,
          "charges": 25133.26941,
          "children": 2,
          "sex": "male"
         },
         {
          "age": 47,
          "bmi": 29.8,
          "charges": 25309.489,
          "children": 3,
          "sex": "male"
         },
         {
          "age": 47,
          "bmi": 29.81,
          "charges": 14084.450900000002,
          "children": 1,
          "sex": "female"
         },
         {
          "age": 31,
          "bmi": 29.81,
          "charges": 19350.3689,
          "children": 0,
          "sex": "male"
         },
         {
          "age": 55,
          "bmi": 29.83,
          "charges": 11286.5387,
          "children": 0,
          "sex": "female"
         },
         {
          "age": 48,
          "bmi": 29.83,
          "charges": 13874.9262,
          "children": 2.25,
          "sex": "male"
         },
         {
          "age": 40,
          "bmi": 29.9,
          "charges": 6600.361,
          "children": 2,
          "sex": "male"
         },
         {
          "age": 36,
          "bmi": 29.92,
          "charges": 4889.0368,
          "children": 0,
          "sex": "female"
         },
         {
          "age": 36.5,
          "bmi": 29.925,
          "charges": 5919.42125,
          "children": 0,
          "sex": "female"
         },
         {
          "age": 39,
          "bmi": 29.925,
          "charges": 22462.04375,
          "children": 1,
          "sex": "male"
         },
         {
          "age": 42,
          "bmi": 30,
          "charges": 22144.032000000007,
          "children": 0,
          "sex": "male"
         },
         {
          "age": 19,
          "bmi": 30.02,
          "charges": 33307.5508,
          "children": 0,
          "sex": "female"
         },
         {
          "age": 62,
          "bmi": 30.02,
          "charges": 13352.0998,
          "children": 0,
          "sex": "male"
         },
         {
          "age": 51,
          "bmi": 30.03,
          "charges": 9377.9047,
          "children": 1,
          "sex": "male"
         },
         {
          "age": 24,
          "bmi": 30.1,
          "charges": 4234.927,
          "children": 3,
          "sex": "female"
         },
         {
          "age": 44,
          "bmi": 30.115,
          "charges": 9523.17985,
          "children": 1.3333333333333333,
          "sex": "female"
         },
         {
          "age": 31.5,
          "bmi": 30.115,
          "charges": 6662.55335,
          "children": 4,
          "sex": "male"
         },
         {
          "age": 18,
          "bmi": 30.14,
          "charges": 1131.5066,
          "children": 0,
          "sex": "male"
         },
         {
          "age": 35.5,
          "bmi": 30.2,
          "charges": 21362.8695,
          "children": 1,
          "sex": "female"
         },
         {
          "age": 48.333333333333336,
          "bmi": 30.2,
          "charges": 8711.304333333333,
          "children": 1.3333333333333333,
          "sex": "male"
         },
         {
          "age": 32,
          "bmi": 30.21,
          "charges": 18699.70663333333,
          "children": 2.3333333333333335,
          "sex": "female"
         },
         {
          "age": 54,
          "bmi": 30.21,
          "charges": 10231.4999,
          "children": 0,
          "sex": "male"
         },
         {
          "age": 26,
          "bmi": 30.25,
          "charges": 18126.3475,
          "children": 0,
          "sex": "male"
         },
         {
          "age": 25,
          "bmi": 30.3,
          "charges": 2632.992,
          "children": 0,
          "sex": "female"
         },
         {
          "age": 27,
          "bmi": 30.3,
          "charges": 4260.7440000000015,
          "children": 3,
          "sex": "male"
         },
         {
          "age": 18,
          "bmi": 30.305,
          "charges": 2203.73595,
          "children": 0,
          "sex": "female"
         },
         {
          "age": 22,
          "bmi": 30.4,
          "charges": 33907.547999999995,
          "children": 0,
          "sex": "female"
         },
         {
          "age": 18.5,
          "bmi": 30.4,
          "charges": 2369.0834999999997,
          "children": 1.5,
          "sex": "male"
         },
         {
          "age": 42,
          "bmi": 30.495,
          "charges": 18957.903049999997,
          "children": 1,
          "sex": "female"
         },
         {
          "age": 48,
          "bmi": 30.495,
          "charges": 19735.356383333336,
          "children": 1.6666666666666667,
          "sex": "male"
         },
         {
          "age": 55,
          "bmi": 30.5,
          "charges": 10704.47,
          "children": 0,
          "sex": "female"
         },
         {
          "age": 31,
          "bmi": 30.5,
          "charges": 3622.546,
          "children": 0.5,
          "sex": "male"
         },
         {
          "age": 22,
          "bmi": 30.59,
          "charges": 14438.604076666665,
          "children": 1,
          "sex": "female"
         },
         {
          "age": 21,
          "bmi": 30.59,
          "charges": 2002.1737666666668,
          "children": 0,
          "sex": "male"
         },
         {
          "age": 43,
          "bmi": 30.685,
          "charges": 8310.83915,
          "children": 2,
          "sex": "female"
         },
         {
          "age": 38,
          "bmi": 30.69,
          "charges": 5976.8311,
          "children": 1,
          "sex": "female"
         },
         {
          "age": 46,
          "bmi": 30.78,
          "charges": 19281.944866666665,
          "children": 0.6666666666666666,
          "sex": "female"
         },
         {
          "age": 48,
          "bmi": 30.78,
          "charges": 10141.1362,
          "children": 3,
          "sex": "male"
         },
         {
          "age": 50,
          "bmi": 30.8,
          "charges": 10760.119999999999,
          "children": 3,
          "sex": "female"
         },
         {
          "age": 39.25,
          "bmi": 30.8,
          "charges": 21847.86075,
          "children": 1,
          "sex": "male"
         },
         {
          "age": 52,
          "bmi": 30.875,
          "charges": 23045.56616,
          "children": 0,
          "sex": "female"
         },
         {
          "age": 37.142857142857146,
          "bmi": 30.875,
          "charges": 11121.239821428573,
          "children": 1.8571428571428572,
          "sex": "male"
         },
         {
          "age": 37.5,
          "bmi": 30.9,
          "charges": 6922.8385,
          "children": 2.5,
          "sex": "female"
         },
         {
          "age": 49,
          "bmi": 30.9,
          "charges": 39727.614,
          "children": 0,
          "sex": "male"
         },
         {
          "age": 35,
          "bmi": 31,
          "charges": 5240.765,
          "children": 1,
          "sex": "female"
         },
         {
          "age": 38,
          "bmi": 31,
          "charges": 5488.262,
          "children": 1,
          "sex": "male"
         },
         {
          "age": 31.5,
          "bmi": 31.02,
          "charges": 20890.4553,
          "children": 1.5,
          "sex": "female"
         },
         {
          "age": 21,
          "bmi": 31.02,
          "charges": 16586.49771,
          "children": 0,
          "sex": "male"
         },
         {
          "age": 31,
          "bmi": 31.065,
          "charges": 4347.02335,
          "children": 0,
          "sex": "female"
         },
         {
          "age": 25,
          "bmi": 31.065,
          "charges": 18476.81085,
          "children": 0,
          "sex": "male"
         },
         {
          "age": 21,
          "bmi": 31.1,
          "charges": 1526.312,
          "children": 0,
          "sex": "male"
         },
         {
          "age": 48,
          "bmi": 31.13,
          "charges": 8280.6227,
          "children": 0,
          "sex": "female"
         },
         {
          "age": 20,
          "bmi": 31.13,
          "charges": 2566.4707,
          "children": 2,
          "sex": "male"
         },
         {
          "age": 53,
          "bmi": 31.16,
          "charges": 10461.9794,
          "children": 1,
          "sex": "male"
         },
         {
          "age": 52,
          "bmi": 31.2,
          "charges": 9625.92,
          "children": 0,
          "sex": "female"
         },
         {
          "age": 54,
          "bmi": 31.24,
          "charges": 10338.9316,
          "children": 0,
          "sex": "female"
         },
         {
          "age": 27,
          "bmi": 31.255,
          "charges": 3956.07145,
          "children": 1,
          "sex": "female"
         },
         {
          "age": 31.5,
          "bmi": 31.255,
          "charges": 4134.15195,
          "children": 0,
          "sex": "male"
         },
         {
          "age": 64,
          "bmi": 31.3,
          "charges": 47291.055,
          "children": 2,
          "sex": "female"
         },
         {
          "age": 38.5,
          "bmi": 31.35,
          "charges": 7122.184,
          "children": 0,
          "sex": "female"
         },
         {
          "age": 45.6,
          "bmi": 31.35,
          "charges": 24993.294214,
          "children": 1.2,
          "sex": "male"
         },
         {
          "age": 30,
          "bmi": 31.4,
          "charges": 3659.346,
          "children": 1,
          "sex": "male"
         },
         {
          "age": 55.5,
          "bmi": 31.445,
          "charges": 11469.25805,
          "children": 0.5,
          "sex": "male"
         },
         {
          "age": 20,
          "bmi": 31.46,
          "charges": 1877.9294,
          "children": 0,
          "sex": "female"
         },
         {
          "age": 62,
          "bmi": 31.46,
          "charges": 27000.98473,
          "children": 1,
          "sex": "male"
         },
         {
          "age": 34,
          "bmi": 31.5,
          "charges": 4239.365,
          "children": 0.5,
          "sex": "male"
         },
         {
          "age": 32,
          "bmi": 31.54,
          "charges": 5148.5526,
          "children": 1,
          "sex": "female"
         },
         {
          "age": 45.5,
          "bmi": 31.57,
          "charges": 8697.593799999999,
          "children": 1.5,
          "sex": "male"
         },
         {
          "age": 45.5,
          "bmi": 31.6,
          "charges": 8152.275500000001,
          "children": 1,
          "sex": "female"
         },
         {
          "age": 54,
          "bmi": 31.6,
          "charges": 9850.432,
          "children": 0,
          "sex": "male"
         },
         {
          "age": 51,
          "bmi": 31.635,
          "charges": 9174.13565,
          "children": 0,
          "sex": "male"
         },
         {
          "age": 23,
          "bmi": 31.68,
          "charges": 34487.6572,
          "children": 1,
          "sex": "male"
         },
         {
          "age": 62,
          "bmi": 31.73,
          "charges": 14043.4767,
          "children": 0,
          "sex": "female"
         },
         {
          "age": 25.5,
          "bmi": 31.73,
          "charges": 3344.0922,
          "children": 1,
          "sex": "male"
         },
         {
          "age": 32.5,
          "bmi": 31.79,
          "charges": 10492.845734999999,
          "children": 1,
          "sex": "female"
         },
         {
          "age": 56,
          "bmi": 31.79,
          "charges": 43813.8661,
          "children": 2,
          "sex": "male"
         },
         {
          "age": 63,
          "bmi": 31.8,
          "charges": 13880.949,
          "children": 0,
          "sex": "female"
         },
         {
          "age": 44.666666666666664,
          "bmi": 31.825,
          "charges": 9389.757416666667,
          "children": 1,
          "sex": "female"
         },
         {
          "age": 50,
          "bmi": 31.825,
          "charges": 41097.16175,
          "children": 0,
          "sex": "male"
         },
         {
          "age": 51.5,
          "bmi": 31.9,
          "charges": 11240.876499999998,
          "children": 3,
          "sex": "female"
         },
         {
          "age": 27.75,
          "bmi": 31.92,
          "charges": 12344.72955,
          "children": 0.75,
          "sex": "female"
         },
         {
          "age": 19,
          "bmi": 31.92,
          "charges": 33750.2918,
          "children": 0,
          "sex": "male"
         },
         {
          "age": 47,
          "bmi": 32,
          "charges": 8551.347,
          "children": 1,
          "sex": "female"
         },
         {
          "age": 41,
          "bmi": 32.01,
          "charges": 6964.103899999999,
          "children": 0.5,
          "sex": "male"
         },
         {
          "age": 44,
          "bmi": 32.015,
          "charges": 8116.26885,
          "children": 2,
          "sex": "male"
         },
         {
          "age": 59,
          "bmi": 32.1,
          "charges": 14007.222,
          "children": 3,
          "sex": "female"
         },
         {
          "age": 37.666666666666664,
          "bmi": 32.11,
          "charges": 6681.415233333333,
          "children": 0.6666666666666666,
          "sex": "male"
         },
         {
          "age": 63,
          "bmi": 32.2,
          "charges": 47305.305,
          "children": 2,
          "sex": "female"
         },
         {
          "age": 52,
          "bmi": 32.205,
          "charges": 11488.31695,
          "children": 3,
          "sex": "male"
         },
         {
          "age": 36.5,
          "bmi": 32.23,
          "charges": 13544.656545000002,
          "children": 1,
          "sex": "female"
         },
         {
          "age": 52.666666666666664,
          "bmi": 32.3,
          "charges": 11661.972999999998,
          "children": 2,
          "sex": "female"
         },
         {
          "age": 51,
          "bmi": 32.3,
          "charges": 15516.70833333333,
          "children": 1.5,
          "sex": "male"
         },
         {
          "age": 44,
          "bmi": 32.34,
          "charges": 7633.7206,
          "children": 1,
          "sex": "female"
         },
         {
          "age": 47,
          "bmi": 32.395,
          "charges": 15124.40917,
          "children": 1.6666666666666667,
          "sex": "female"
         },
         {
          "age": 20,
          "bmi": 32.395,
          "charges": 2362.22905,
          "children": 1,
          "sex": "male"
         },
         {
          "age": 30,
          "bmi": 32.4,
          "charges": 4149.736,
          "children": 1,
          "sex": "female"
         },
         {
          "age": 60,
          "bmi": 32.45,
          "charges": 45008.9555,
          "children": 0,
          "sex": "female"
         },
         {
          "age": 39,
          "bmi": 32.5,
          "charges": 6238.298000000002,
          "children": 1,
          "sex": "female"
         },
         {
          "age": 43,
          "bmi": 32.56,
          "charges": 40941.2854,
          "children": 3,
          "sex": "female"
         },
         {
          "age": 23,
          "bmi": 32.56,
          "charges": 1824.2854,
          "children": 0,
          "sex": "male"
         },
         {
          "age": 41,
          "bmi": 32.6,
          "charges": 7954.517,
          "children": 3,
          "sex": "female"
         },
         {
          "age": 43,
          "bmi": 32.6,
          "charges": 7441.501,
          "children": 2,
          "sex": "male"
         },
         {
          "age": 41,
          "bmi": 32.67,
          "charges": 6652.2623,
          "children": 0.5,
          "sex": "male"
         },
         {
          "age": 41.5,
          "bmi": 32.68,
          "charges": 19931.87386,
          "children": 1,
          "sex": "female"
         },
         {
          "age": 23,
          "bmi": 32.7,
          "charges": 3591.48,
          "children": 3,
          "sex": "male"
         },
         {
          "age": 42,
          "bmi": 32.775,
          "charges": 19199.78825,
          "children": 2,
          "sex": "female"
         },
         {
          "age": 46,
          "bmi": 32.775,
          "charges": 25207.22075,
          "children": 2,
          "sex": "male"
         },
         {
          "age": 60,
          "bmi": 32.8,
          "charges": 52590.82939,
          "children": 0,
          "sex": "male"
         },
         {
          "age": 19,
          "bmi": 32.9,
          "charges": 1748.774,
          "children": 0,
          "sex": "female"
         },
         {
          "age": 26,
          "bmi": 32.9,
          "charges": 36085.219,
          "children": 2,
          "sex": "male"
         },
         {
          "age": 54.333333333333336,
          "bmi": 32.965,
          "charges": 11231.549016666666,
          "children": 0,
          "sex": "female"
         },
         {
          "age": 40,
          "bmi": 33,
          "charges": 7682.67,
          "children": 3,
          "sex": "female"
         },
         {
          "age": 41.5,
          "bmi": 33,
          "charges": 12615.47546,
          "children": 1.5,
          "sex": "male"
         },
         {
          "age": 51.5,
          "bmi": 33.1,
          "charges": 9596.6125,
          "children": 0,
          "sex": "female"
         },
         {
          "age": 41,
          "bmi": 33.1,
          "charges": 18238.355665,
          "children": 0,
          "sex": "male"
         },
         {
          "age": 31.666666666666668,
          "bmi": 33.11,
          "charges": 26195.211900000006,
          "children": 0,
          "sex": "female"
         },
         {
          "age": 60,
          "bmi": 33.11,
          "charges": 13919.8229,
          "children": 3,
          "sex": "male"
         },
         {
          "age": 33.666666666666664,
          "bmi": 33.155,
          "charges": 6128.4677833333335,
          "children": 1.3333333333333333,
          "sex": "female"
         },
         {
          "age": 27,
          "bmi": 33.155,
          "charges": 4058.71245,
          "children": 2,
          "sex": "male"
         },
         {
          "age": 52,
          "bmi": 33.25,
          "charges": 9722.7695,
          "children": 0,
          "sex": "male"
         },
         {
          "age": 36,
          "bmi": 33.3,
          "charges": 6343.6630000000005,
          "children": 1,
          "sex": "female"
         },
         {
          "age": 54.5,
          "bmi": 33.33,
          "charges": 22431.98143,
          "children": 2,
          "sex": "female"
         },
         {
          "age": 20,
          "bmi": 33.33,
          "charges": 1391.5287,
          "children": 0,
          "sex": "male"
         },
         {
          "age": 40,
          "bmi": 33.345,
          "charges": 11368.378176666665,
          "children": 0.6666666666666666,
          "sex": "female"
         },
         {
          "age": 37.5,
          "bmi": 33.345,
          "charges": 13888.405525,
          "children": 1.5,
          "sex": "male"
         },
         {
          "age": 25.5,
          "bmi": 33.4,
          "charges": 6983.977665,
          "children": 0,
          "sex": "female"
         },
         {
          "age": 52,
          "bmi": 33.44,
          "charges": 10236.1016,
          "children": 0.5,
          "sex": "female"
         },
         {
          "age": 33,
          "bmi": 33.44,
          "charges": 6653.7886,
          "children": 5,
          "sex": "male"
         },
         {
          "age": 33,
          "bmi": 33.5,
          "charges": 37079.372,
          "children": 0,
          "sex": "female"
         },
         {
          "age": 55,
          "bmi": 33.535,
          "charges": 12269.68865,
          "children": 2,
          "sex": "female"
         },
         {
          "age": 39.5,
          "bmi": 33.535,
          "charges": 23880.588649999998,
          "children": 0,
          "sex": "male"
         },
         {
          "age": 41,
          "bmi": 33.55,
          "charges": 5699.8375,
          "children": 0,
          "sex": "male"
         },
         {
          "age": 21,
          "bmi": 33.63,
          "charges": 3579.8287,
          "children": 2,
          "sex": "female"
         },
         {
          "age": 47.75,
          "bmi": 33.63,
          "charges": 20954.999045,
          "children": 1.5,
          "sex": "male"
         },
         {
          "age": 56,
          "bmi": 33.66,
          "charges": 12949.1554,
          "children": 4,
          "sex": "male"
         },
         {
          "age": 34,
          "bmi": 33.7,
          "charges": 5012.471,
          "children": 1,
          "sex": "female"
         },
         {
          "age": 45,
          "bmi": 33.7,
          "charges": 7445.9180000000015,
          "children": 1,
          "sex": "male"
         },
         {
          "age": 18,
          "bmi": 33.77,
          "charges": 1725.5523,
          "children": 1,
          "sex": "male"
         },
         {
          "age": 56,
          "bmi": 33.82,
          "charges": 12643.3778,
          "children": 2,
          "sex": "female"
         },
         {
          "age": 34,
          "bmi": 33.82,
          "charges": 4920.0898,
          "children": 1,
          "sex": "male"
         },
         {
          "age": 18,
          "bmi": 33.88,
          "charges": 11482.63485,
          "children": 0,
          "sex": "female"
         },
         {
          "age": 59.5,
          "bmi": 33.88,
          "charges": 29438.2147,
          "children": 1.5,
          "sex": "male"
         },
         {
          "age": 49,
          "bmi": 33.915,
          "charges": 9990.65685,
          "children": 1.5,
          "sex": "female"
         },
         {
          "age": 26,
          "bmi": 33.915,
          "charges": 3292.52985,
          "children": 1,
          "sex": "male"
         },
         {
          "age": 24,
          "bmi": 33.99,
          "charges": 2473.3341,
          "children": 0,
          "sex": "female"
         },
         {
          "age": 57,
          "bmi": 34.01,
          "charges": 11356.6609,
          "children": 0,
          "sex": "male"
         },
         {
          "age": 45,
          "bmi": 34.1,
          "charges": 8351.042,
          "children": 1.5,
          "sex": "female"
         },
         {
          "age": 37.6,
          "bmi": 34.1,
          "charges": 16000.591035999998,
          "children": 1.2,
          "sex": "male"
         },
         {
          "age": 35,
          "bmi": 34.105,
          "charges": 39983.42595,
          "children": 3,
          "sex": "female"
         },
         {
          "age": 46.5,
          "bmi": 34.105,
          "charges": 24927.311950000003,
          "children": 0.5,
          "sex": "male"
         },
         {
          "age": 51,
          "bmi": 34.2,
          "charges": 9872.701,
          "children": 1,
          "sex": "female"
         },
         {
          "age": 42.666666666666664,
          "bmi": 34.2,
          "charges": 29721.95466666667,
          "children": 1.6666666666666667,
          "sex": "male"
         },
         {
          "age": 35,
          "bmi": 34.21,
          "charges": 5245.2269,
          "children": 1,
          "sex": "female"
         },
         {
          "age": 34,
          "bmi": 34.21,
          "charges": 3935.1799,
          "children": 0,
          "sex": "male"
         },
         {
          "age": 57,
          "bmi": 34.295,
          "charges": 13224.05705,
          "children": 2,
          "sex": "female"
         },
         {
          "age": 48,
          "bmi": 34.3,
          "charges": 9563.029,
          "children": 3,
          "sex": "male"
         },
         {
          "age": 39,
          "bmi": 34.32,
          "charges": 8596.8278,
          "children": 5,
          "sex": "female"
         },
         {
          "age": 44,
          "bmi": 34.32,
          "charges": 7147.4728,
          "children": 1,
          "sex": "male"
         },
         {
          "age": 44.5,
          "bmi": 34.39,
          "charges": 25245.1446,
          "children": 1.5,
          "sex": "male"
         },
         {
          "age": 29,
          "bmi": 34.4,
          "charges": 36197.699,
          "children": 0,
          "sex": "male"
         },
         {
          "age": 36.5,
          "bmi": 34.43,
          "charges": 13764.6442,
          "children": 0.5,
          "sex": "male"
         },
         {
          "age": 25,
          "bmi": 34.485,
          "charges": 3021.80915,
          "children": 0,
          "sex": "female"
         },
         {
          "age": 52,
          "bmi": 34.485,
          "charges": 60021.39897,
          "children": 3,
          "sex": "male"
         },
         {
          "age": 64,
          "bmi": 34.5,
          "charges": 13822.803,
          "children": 0,
          "sex": "male"
         },
         {
          "age": 32.5,
          "bmi": 34.58,
          "charges": 5826.5057,
          "children": 1.5,
          "sex": "female"
         },
         {
          "age": 21,
          "bmi": 34.6,
          "charges": 2020.177,
          "children": 0,
          "sex": "female"
         },
         {
          "age": 34,
          "bmi": 34.675,
          "charges": 4518.82625,
          "children": 0,
          "sex": "male"
         },
         {
          "age": 28,
          "bmi": 34.77,
          "charges": 3556.9223,
          "children": 0,
          "sex": "female"
         },
         {
          "age": 35,
          "bmi": 34.77,
          "charges": 5729.0053,
          "children": 2,
          "sex": "male"
         },
         {
          "age": 47,
          "bmi": 34.8,
          "charges": 21078.327515,
          "children": 1.5,
          "sex": "female"
         },
         {
          "age": 20.5,
          "bmi": 34.8,
          "charges": 19111.3395,
          "children": 1.5,
          "sex": "male"
         },
         {
          "age": 23,
          "bmi": 34.865,
          "charges": 2899.48935,
          "children": 0,
          "sex": "female"
         },
         {
          "age": 19,
          "bmi": 34.9,
          "charges": 34828.654,
          "children": 0,
          "sex": "male"
         },
         {
          "age": 51,
          "bmi": 34.96,
          "charges": 44641.1974,
          "children": 2,
          "sex": "female"
         },
         {
          "age": 43,
          "bmi": 34.96,
          "charges": 41034.2214,
          "children": 1,
          "sex": "male"
         },
         {
          "age": 63,
          "bmi": 35.09,
          "charges": 47055.5321,
          "children": 0,
          "sex": "male"
         },
         {
          "age": 60,
          "bmi": 35.1,
          "charges": 12644.589,
          "children": 0,
          "sex": "female"
         },
         {
          "age": 19,
          "bmi": 35.15,
          "charges": 2134.9015,
          "children": 0,
          "sex": "female"
         },
         {
          "age": 59,
          "bmi": 35.2,
          "charges": 29449.239,
          "children": 0.5,
          "sex": "female"
         },
         {
          "age": 27,
          "bmi": 35.2,
          "charges": 20218.358,
          "children": 1,
          "sex": "male"
         },
         {
          "age": 44,
          "bmi": 35.245,
          "charges": 11899.472324999999,
          "children": 0.5,
          "sex": "male"
         },
         {
          "age": 45,
          "bmi": 35.3,
          "charges": 7348.142,
          "children": 0,
          "sex": "female"
         },
         {
          "age": 40,
          "bmi": 35.3,
          "charges": 7196.866999999998,
          "children": 3,
          "sex": "male"
         },
         {
          "age": 20,
          "bmi": 35.31,
          "charges": 27724.28875,
          "children": 1,
          "sex": "male"
         },
         {
          "age": 26,
          "bmi": 35.42,
          "charges": 2322.6218,
          "children": 0,
          "sex": "male"
         },
         {
          "age": 28,
          "bmi": 35.435,
          "charges": 3268.84665,
          "children": 0,
          "sex": "male"
         },
         {
          "age": 36,
          "bmi": 35.53,
          "charges": 33537.912163333334,
          "children": 0,
          "sex": "female"
         },
         {
          "age": 23.333333333333332,
          "bmi": 35.53,
          "charges": 13376.385366666667,
          "children": 0,
          "sex": "male"
         },
         {
          "age": 22,
          "bmi": 35.6,
          "charges": 35585.576,
          "children": 0,
          "sex": "male"
         },
         {
          "age": 31,
          "bmi": 35.625,
          "charges": 16912.20275,
          "children": 2.3333333333333335,
          "sex": "male"
         },
         {
          "age": 43,
          "bmi": 35.64,
          "charges": 7345.7266,
          "children": 1,
          "sex": "female"
         },
         {
          "age": 58,
          "bmi": 35.7,
          "charges": 11362.755,
          "children": 0,
          "sex": "male"
         },
         {
          "age": 21,
          "bmi": 35.72,
          "charges": 2404.7338,
          "children": 0,
          "sex": "female"
         },
         {
          "age": 41,
          "bmi": 35.75,
          "charges": 40273.6455,
          "children": 1,
          "sex": "male"
         },
         {
          "age": 56,
          "bmi": 35.8,
          "charges": 11674.13,
          "children": 1,
          "sex": "female"
         },
         {
          "age": 42,
          "bmi": 35.8,
          "charges": 7160.094,
          "children": 2,
          "sex": "male"
         },
         {
          "age": 44.666666666666664,
          "bmi": 35.815,
          "charges": 8619.202183333333,
          "children": 1.3333333333333333,
          "sex": "female"
         },
         {
          "age": 34,
          "bmi": 35.815,
          "charges": 4320.41085,
          "children": 0,
          "sex": "male"
         },
         {
          "age": 36.5,
          "bmi": 35.86,
          "charges": 5055.6709,
          "children": 0,
          "sex": "male"
         },
         {
          "age": 53,
          "bmi": 35.9,
          "charges": 11163.568,
          "children": 2,
          "sex": "female"
         },
         {
          "age": 54.5,
          "bmi": 35.91,
          "charges": 20013.949095,
          "children": 0.5,
          "sex": "female"
         },
         {
          "age": 64,
          "bmi": 35.97,
          "charges": 14313.8463,
          "children": 0,
          "sex": "female"
         },
         {
          "age": 45.333333333333336,
          "bmi": 35.97,
          "charges": 19557.0023,
          "children": 2,
          "sex": "male"
         },
         {
          "age": 22,
          "bmi": 36,
          "charges": 2166.732,
          "children": 0,
          "sex": "female"
         },
         {
          "age": 60,
          "bmi": 36.005,
          "charges": 13228.84695,
          "children": 0,
          "sex": "female"
         },
         {
          "age": 41,
          "bmi": 36.08,
          "charges": 6781.3542,
          "children": 1,
          "sex": "female"
         },
         {
          "age": 52.5,
          "bmi": 36.08,
          "charges": 26787.2107,
          "children": 0.5,
          "sex": "male"
         },
         {
          "age": 58.5,
          "bmi": 36.1,
          "charges": 20152.41729,
          "children": 3,
          "sex": "male"
         },
         {
          "age": 42,
          "bmi": 36.19,
          "charges": 30445.393315000005,
          "children": 0,
          "sex": "male"
         },
         {
          "age": 42,
          "bmi": 36.195,
          "charges": 7443.64305,
          "children": 1,
          "sex": "female"
         },
         {
          "age": 48.5,
          "bmi": 36.2,
          "charges": 8263.0015,
          "children": 0.5,
          "sex": "male"
         },
         {
          "age": 33,
          "bmi": 36.29,
          "charges": 6551.7501,
          "children": 3,
          "sex": "female"
         },
         {
          "age": 45,
          "bmi": 36.3,
          "charges": 8527.532,
          "children": 2,
          "sex": "female"
         },
         {
          "age": 46,
          "bmi": 36.3,
          "charges": 43057.44,
          "children": 1.5,
          "sex": "male"
         },
         {
          "age": 61,
          "bmi": 36.385,
          "charges": 48517.56315,
          "children": 1,
          "sex": "female"
         },
         {
          "age": 28,
          "bmi": 36.4,
          "charges": 51194.55914,
          "children": 1,
          "sex": "male"
         },
         {
          "age": 58,
          "bmi": 36.48,
          "charges": 12235.8392,
          "children": 0,
          "sex": "female"
         },
         {
          "age": 59,
          "bmi": 36.52,
          "charges": 28287.89766,
          "children": 1,
          "sex": "female"
         },
         {
          "age": 19,
          "bmi": 36.575,
          "charges": 2136.88225,
          "children": 0,
          "sex": "female"
         },
         {
          "age": 42.333333333333336,
          "bmi": 36.63,
          "charges": 19433.6967,
          "children": 2,
          "sex": "female"
         },
         {
          "age": 51,
          "bmi": 36.67,
          "charges": 10848.1343,
          "children": 2,
          "sex": "female"
         },
         {
          "age": 41.5,
          "bmi": 36.67,
          "charges": 34121.597655,
          "children": 1,
          "sex": "male"
         },
         {
          "age": 52,
          "bmi": 36.7,
          "charges": 9144.565,
          "children": 0,
          "sex": "male"
         },
         {
          "age": 59,
          "bmi": 36.765,
          "charges": 47896.79135,
          "children": 1,
          "sex": "female"
         },
         {
          "age": 63,
          "bmi": 36.765,
          "charges": 13981.85035,
          "children": 0,
          "sex": "male"
         },
         {
          "age": 40.5,
          "bmi": 36.85,
          "charges": 7758.901000000001,
          "children": 0,
          "sex": "female"
         },
         {
          "age": 35,
          "bmi": 36.85,
          "charges": 4830.0445,
          "children": 0,
          "sex": "male"
         },
         {
          "age": 57.5,
          "bmi": 36.86,
          "charges": 39140.72173,
          "children": 2,
          "sex": "female"
         },
         {
          "age": 44,
          "bmi": 36.955,
          "charges": 8023.13545,
          "children": 1,
          "sex": "female"
         },
         {
          "age": 20,
          "bmi": 37,
          "charges": 4830.63,
          "children": 5,
          "sex": "female"
         },
         {
          "age": 51,
          "bmi": 37,
          "charges": 8798.593,
          "children": 0,
          "sex": "male"
         },
         {
          "age": 41,
          "bmi": 37.05,
          "charges": 7265.7025,
          "children": 2,
          "sex": "male"
         },
         {
          "age": 29.5,
          "bmi": 37.07,
          "charges": 38678.076799999995,
          "children": 1.5,
          "sex": "male"
         },
         {
          "age": 48,
          "bmi": 37.1,
          "charges": 9042.707999999999,
          "children": 1,
          "sex": "female"
         },
         {
          "age": 43.5,
          "bmi": 37.1,
          "charges": 7812.1665,
          "children": 1,
          "sex": "male"
         },
         {
          "age": 32,
          "bmi": 37.145,
          "charges": 6334.34355,
          "children": 3,
          "sex": "female"
         },
         {
          "age": 42,
          "bmi": 37.18,
          "charges": 7162.0122,
          "children": 2,
          "sex": "male"
         },
         {
          "age": 18,
          "bmi": 37.29,
          "charges": 2219.4451,
          "children": 1,
          "sex": "female"
         },
         {
          "age": 31.666666666666668,
          "bmi": 37.29,
          "charges": 4725.915433333333,
          "children": 1.3333333333333333,
          "sex": "male"
         },
         {
          "age": 34,
          "bmi": 37.335,
          "charges": 5989.52365,
          "children": 2,
          "sex": "female"
         },
         {
          "age": 52,
          "bmi": 37.4,
          "charges": 9634.538,
          "children": 0,
          "sex": "female"
         },
         {
          "age": 59,
          "bmi": 37.4,
          "charges": 21797.0004,
          "children": 0,
          "sex": "male"
         },
         {
          "age": 53,
          "bmi": 37.43,
          "charges": 10959.6947,
          "children": 1,
          "sex": "female"
         },
         {
          "age": 30,
          "bmi": 37.43,
          "charges": 5428.7277,
          "children": 3,
          "sex": "male"
         },
         {
          "age": 56,
          "bmi": 37.51,
          "charges": 12265.5069,
          "children": 2,
          "sex": "female"
         },
         {
          "age": 49,
          "bmi": 37.51,
          "charges": 9304.7019,
          "children": 2,
          "sex": "male"
         },
         {
          "age": 52,
          "bmi": 37.525,
          "charges": 33471.97189,
          "children": 2,
          "sex": "female"
         },
         {
          "age": 22,
          "bmi": 37.62,
          "charges": 37165.1638,
          "children": 1,
          "sex": "male"
         },
         {
          "age": 63,
          "bmi": 37.7,
          "charges": 48824.45,
          "children": 0,
          "sex": "female"
         },
         {
          "age": 55,
          "bmi": 37.715,
          "charges": 30063.58055,
          "children": 3,
          "sex": "male"
         },
         {
          "age": 51,
          "bmi": 37.73,
          "charges": 9877.6077,
          "children": 1,
          "sex": "female"
         },
         {
          "age": 30,
          "bmi": 37.8,
          "charges": 39241.442,
          "children": 2,
          "sex": "male"
         },
         {
          "age": 42,
          "bmi": 37.9,
          "charges": 6474.013000000001,
          "children": 0,
          "sex": "female"
         },
         {
          "age": 64,
          "bmi": 37.905,
          "charges": 14210.53595,
          "children": 0,
          "sex": "male"
         },
         {
          "age": 34,
          "bmi": 38,
          "charges": 6196.448,
          "children": 3,
          "sex": "female"
         },
         {
          "age": 49.333333333333336,
          "bmi": 38.06,
          "charges": 37916.17989000001,
          "children": 1,
          "sex": "female"
         },
         {
          "age": 43.5,
          "bmi": 38.06,
          "charges": 24856.5509,
          "children": 1.5,
          "sex": "male"
         },
         {
          "age": 42.666666666666664,
          "bmi": 38.095,
          "charges": 32905.48159666667,
          "children": 1.6666666666666667,
          "sex": "female"
         },
         {
          "age": 18,
          "bmi": 38.17,
          "charges": 1631.6683,
          "children": 0,
          "sex": "female"
         },
         {
          "age": 46,
          "bmi": 38.17,
          "charges": 8347.1643,
          "children": 2,
          "sex": "male"
         },
         {
          "age": 64,
          "bmi": 38.19,
          "charges": 14410.9321,
          "children": 0,
          "sex": "male"
         },
         {
          "age": 18,
          "bmi": 38.28,
          "charges": 7882.429475,
          "children": 0,
          "sex": "female"
         },
         {
          "age": 52,
          "bmi": 38.38,
          "charges": 11396.9002,
          "children": 2,
          "sex": "female"
         },
         {
          "age": 61,
          "bmi": 38.38,
          "charges": 12950.0712,
          "children": 0,
          "sex": "male"
         },
         {
          "age": 34.5,
          "bmi": 38.39,
          "charges": 23206.2246,
          "children": 2.5,
          "sex": "male"
         },
         {
          "age": 52,
          "bmi": 38.6,
          "charges": 10325.206,
          "children": 2,
          "sex": "male"
         },
         {
          "age": 18,
          "bmi": 38.665,
          "charges": 3393.35635,
          "children": 2,
          "sex": "female"
         },
         {
          "age": 46,
          "bmi": 38.83,
          "charges": 15972.25881,
          "children": 0.5,
          "sex": "male"
         },
         {
          "age": 33,
          "bmi": 38.9,
          "charges": 5972.3780000000015,
          "children": 3,
          "sex": "female"
         },
         {
          "age": 29,
          "bmi": 38.94,
          "charges": 3471.4096,
          "children": 1,
          "sex": "male"
         },
         {
          "age": 44,
          "bmi": 38.95,
          "charges": 42983.4585,
          "children": 0,
          "sex": "female"
         },
         {
          "age": 44,
          "bmi": 39.05,
          "charges": 26394.4205,
          "children": 1.5,
          "sex": "female"
         },
         {
          "age": 18,
          "bmi": 39.14,
          "charges": 12890.05765,
          "children": 0,
          "sex": "male"
         },
         {
          "age": 64,
          "bmi": 39.16,
          "charges": 14418.2804,
          "children": 1,
          "sex": "male"
         },
         {
          "age": 62,
          "bmi": 39.2,
          "charges": 13470.86,
          "children": 0,
          "sex": "female"
         },
         {
          "age": 23,
          "bmi": 39.27,
          "charges": 3500.6123,
          "children": 2,
          "sex": "female"
         },
         {
          "age": 64,
          "bmi": 39.33,
          "charges": 14901.5167,
          "children": 0,
          "sex": "female"
         },
         {
          "age": 20,
          "bmi": 39.4,
          "charges": 38344.566,
          "children": 2,
          "sex": "male"
         },
         {
          "age": 21,
          "bmi": 39.49,
          "charges": 2026.9741,
          "children": 0,
          "sex": "female"
         },
         {
          "age": 31,
          "bmi": 39.49,
          "charges": 3875.7341,
          "children": 1,
          "sex": "male"
         },
         {
          "age": 51,
          "bmi": 39.5,
          "charges": 9880.068,
          "children": 1,
          "sex": "female"
         },
         {
          "age": 22,
          "bmi": 39.5,
          "charges": 1682.5970000000002,
          "children": 0,
          "sex": "male"
         },
         {
          "age": 53,
          "bmi": 39.6,
          "charges": 10579.711,
          "children": 1,
          "sex": "female"
         },
         {
          "age": 54,
          "bmi": 39.6,
          "charges": 10450.552,
          "children": 1,
          "sex": "male"
         },
         {
          "age": 64,
          "bmi": 39.7,
          "charges": 14319.031,
          "children": 0,
          "sex": "female"
         },
         {
          "age": 51,
          "bmi": 39.7,
          "charges": 9391.346,
          "children": 1,
          "sex": "male"
         },
         {
          "age": 35,
          "bmi": 39.71,
          "charges": 19496.71917,
          "children": 4,
          "sex": "male"
         },
         {
          "age": 45,
          "bmi": 39.805,
          "charges": 7448.40395,
          "children": 0,
          "sex": "male"
         },
         {
          "age": 18,
          "bmi": 39.82,
          "charges": 1633.9618,
          "children": 0,
          "sex": "female"
         },
         {
          "age": 60,
          "bmi": 39.9,
          "charges": 48173.361,
          "children": 0,
          "sex": "male"
         },
         {
          "age": 45,
          "bmi": 39.995,
          "charges": 9704.66805,
          "children": 3,
          "sex": "female"
         },
         {
          "age": 36,
          "bmi": 40.15,
          "charges": 22965.2035,
          "children": 0,
          "sex": "male"
         },
         {
          "age": 22,
          "bmi": 40.185,
          "charges": 2709.35715,
          "children": 0,
          "sex": "female"
         },
         {
          "age": 18,
          "bmi": 40.26,
          "charges": 1634.5734,
          "children": 0,
          "sex": "female"
         },
         {
          "age": 41,
          "bmi": 40.26,
          "charges": 5709.1644,
          "children": 0,
          "sex": "male"
         },
         {
          "age": 42,
          "bmi": 40.37,
          "charges": 43896.3763,
          "children": 2,
          "sex": "female"
         },
         {
          "age": 46,
          "bmi": 40.375,
          "charges": 8733.22925,
          "children": 2,
          "sex": "male"
         },
         {
          "age": 20,
          "bmi": 40.47,
          "charges": 1984.4533,
          "children": 0,
          "sex": "male"
         },
         {
          "age": 64,
          "bmi": 40.48,
          "charges": 13831.1152,
          "children": 0,
          "sex": "male"
         },
         {
          "age": 38,
          "bmi": 40.565,
          "charges": 6373.55735,
          "children": 1,
          "sex": "female"
         },
         {
          "age": 54,
          "bmi": 40.565,
          "charges": 48549.17835,
          "children": 3,
          "sex": "male"
         },
         {
          "age": 51,
          "bmi": 40.66,
          "charges": 9875.6804,
          "children": 0,
          "sex": "female"
         },
         {
          "age": 60,
          "bmi": 40.92,
          "charges": 48673.5588,
          "children": 0,
          "sex": "male"
         },
         {
          "age": 57,
          "bmi": 40.945,
          "charges": 11566.30055,
          "children": 0,
          "sex": "male"
         },
         {
          "age": 32,
          "bmi": 41.1,
          "charges": 3989.841,
          "children": 0,
          "sex": "female"
         },
         {
          "age": 38.5,
          "bmi": 41.14,
          "charges": 25058.522100000002,
          "children": 0.5,
          "sex": "male"
         },
         {
          "age": 33.5,
          "bmi": 41.325,
          "charges": 12764.837215000001,
          "children": 0.5,
          "sex": "female"
         },
         {
          "age": 63,
          "bmi": 41.325,
          "charges": 15555.18875,
          "children": 3,
          "sex": "male"
         },
         {
          "age": 40,
          "bmi": 41.42,
          "charges": 28476.73499,
          "children": 1,
          "sex": "female"
         },
         {
          "age": 49,
          "bmi": 41.47,
          "charges": 10977.2063,
          "children": 4,
          "sex": "female"
         },
         {
          "age": 58,
          "bmi": 41.47,
          "charges": 11454.850299999998,
          "children": 0,
          "sex": "male"
         },
         {
          "age": 40,
          "bmi": 41.69,
          "charges": 5438.7491,
          "children": 0,
          "sex": "male"
         },
         {
          "age": 39,
          "bmi": 41.8,
          "charges": 5662.225,
          "children": 0,
          "sex": "female"
         },
         {
          "age": 52,
          "bmi": 41.8,
          "charges": 47269.85400000001,
          "children": 2,
          "sex": "male"
         },
         {
          "age": 58,
          "bmi": 41.91,
          "charges": 24227.33724,
          "children": 0,
          "sex": "female"
         },
         {
          "age": 23,
          "bmi": 41.91,
          "charges": 1837.2819,
          "children": 0,
          "sex": "male"
         },
         {
          "age": 25,
          "bmi": 42.13,
          "charges": 3238.4357,
          "children": 1,
          "sex": "female"
         },
         {
          "age": 42,
          "bmi": 42.13,
          "charges": 44143.6377,
          "children": 0.5,
          "sex": "male"
         },
         {
          "age": 18,
          "bmi": 42.24,
          "charges": 38792.6856,
          "children": 0,
          "sex": "female"
         },
         {
          "age": 46,
          "bmi": 42.35,
          "charges": 46151.1245,
          "children": 3,
          "sex": "male"
         },
         {
          "age": 33,
          "bmi": 42.4,
          "charges": 6666.243,
          "children": 5,
          "sex": "male"
         },
         {
          "age": 39,
          "bmi": 42.655,
          "charges": 5757.41345,
          "children": 0,
          "sex": "male"
         },
         {
          "age": 23,
          "bmi": 42.75,
          "charges": 40904.1995,
          "children": 1,
          "sex": "female"
         },
         {
          "age": 51,
          "bmi": 42.9,
          "charges": 47462.894,
          "children": 2,
          "sex": "male"
         },
         {
          "age": 18,
          "bmi": 43.01,
          "charges": 1149.3959,
          "children": 0,
          "sex": "male"
         },
         {
          "age": 30,
          "bmi": 43.12,
          "charges": 4753.6368,
          "children": 2,
          "sex": "female"
         },
         {
          "age": 35,
          "bmi": 43.34,
          "charges": 5846.9176,
          "children": 2,
          "sex": "female"
         },
         {
          "age": 61,
          "bmi": 43.4,
          "charges": 12574.049,
          "children": 0,
          "sex": "male"
         },
         {
          "age": 57,
          "bmi": 43.7,
          "charges": 11576.13,
          "children": 1,
          "sex": "male"
         },
         {
          "age": 32,
          "bmi": 44.22,
          "charges": 3994.1778,
          "children": 0,
          "sex": "female"
         },
         {
          "age": 30,
          "bmi": 44.22,
          "charges": 4266.1658,
          "children": 2,
          "sex": "male"
         },
         {
          "age": 50,
          "bmi": 44.77,
          "charges": 9058.7303,
          "children": 1,
          "sex": "male"
         },
         {
          "age": 19,
          "bmi": 44.88,
          "charges": 39722.7462,
          "children": 0,
          "sex": "male"
         },
         {
          "age": 47,
          "bmi": 45.32,
          "charges": 8569.8618,
          "children": 1,
          "sex": "female"
         },
         {
          "age": 25,
          "bmi": 45.54,
          "charges": 42112.2356,
          "children": 2,
          "sex": "male"
         },
         {
          "age": 27,
          "bmi": 45.9,
          "charges": 3693.428,
          "children": 2,
          "sex": "male"
         },
         {
          "age": 43,
          "bmi": 46.2,
          "charges": 45863.205,
          "children": 0,
          "sex": "female"
         },
         {
          "age": 34.5,
          "bmi": 46.53,
          "charges": 5561.0062,
          "children": 2.5,
          "sex": "male"
         },
         {
          "age": 52,
          "bmi": 46.75,
          "charges": 12592.5345,
          "children": 5,
          "sex": "female"
         },
         {
          "age": 47,
          "bmi": 47.52,
          "charges": 8083.9198,
          "children": 1,
          "sex": "male"
         },
         {
          "age": 46,
          "bmi": 48.07,
          "charges": 9432.9253,
          "children": 2,
          "sex": "female"
         },
         {
          "age": 58,
          "bmi": 49.06,
          "charges": 11381.3254,
          "children": 0,
          "sex": "male"
         },
         {
          "age": 23,
          "bmi": 50.38,
          "charges": 2438.0552,
          "children": 1,
          "sex": "male"
         },
         {
          "age": 22,
          "bmi": 52.58,
          "charges": 44501.3982,
          "children": 1,
          "sex": "male"
         }
        ]
       },
       "encoding": {
        "color": {
         "field": "sex",
         "type": "nominal"
        },
        "x": {
         "bin": {
          "maxbins": 60
         },
         "field": "bmi",
         "title": "BMI",
         "type": "quantitative"
        },
        "y": {
         "field": "charges",
         "title": "Charges",
         "type": "quantitative"
        }
       },
       "mark": "area",
       "title": "Charges VS BMI for each sex"
      },
      "image/png": "[encoded data removed]",
      "text/plain": [
       "<VegaLite 3 object>\n",
       "\n",
       "If you see this message, it means the renderer has not been properly enabled\n",
       "for the frontend that you are using. For more information, see\n",
       "https://altair-viz.github.io/user_guide/troubleshooting.html\n"
      ]
     },
     "execution_count": 34,
     "metadata": {},
     "output_type": "execute_result"
    }
   ],
   "source": [
    "training_df = X_train\n",
    "training_df['charges'] = y_train\n",
    "\n",
    "\n",
    "alt.Chart(training_df.groupby(['bmi','sex']).mean().reset_index()).mark_area().encode(\n",
    "    alt.X('bmi:Q', title = 'BMI', bin=alt.Bin(maxbins=60)),\n",
    "    alt.Y('charges:Q', title = 'Charges'),\n",
    "    alt.Color('sex:N')\n",
    ").properties(title='Charges VS BMI for each sex')"
   ]
  },
  {
   "cell_type": "markdown",
   "metadata": {},
   "source": [
    "The highest expenses seem to occur for people from both genders who have a BMI that is higher than 34. "
   ]
  }
 ],
 "metadata": {
  "kernelspec": {
   "display_name": "Python 3",
   "language": "python",
   "name": "python3"
  },
  "language_info": {
   "codemirror_mode": {
    "name": "ipython",
    "version": 3
   },
   "file_extension": ".py",
   "mimetype": "text/x-python",
   "name": "python",
   "nbconvert_exporter": "python",
   "pygments_lexer": "ipython3",
   "version": "3.7.3"
  }
 },
 "nbformat": 4,
 "nbformat_minor": 4
}
