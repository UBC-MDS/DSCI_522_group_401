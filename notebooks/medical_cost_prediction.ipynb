{
 "cells": [
  {
   "cell_type": "markdown",
   "metadata": {},
   "source": [
    "# UBC-MDS/DSCI_522_group_401\n",
    "# Predicting Medical Insurance Cost\n",
    "Authors: Karanpal Singh, Sreejith Munthikodu, Sirine Chahma  \n",
    "[Data Source](https://gist.github.com/meperezcuello/82a9f1c1c473d6585e750ad2e3c05a41)"
   ]
  },
  {
   "cell_type": "markdown",
   "metadata": {},
   "source": [
    "# Import libraries and packages"
   ]
  },
  {
   "cell_type": "code",
   "execution_count": 246,
   "metadata": {},
   "outputs": [
    {
     "ename": "ImportError",
     "evalue": "cannot import name 'root_mean_squared_error' from 'sklearn.metrics' (/home/sree/anaconda3/lib/python3.7/site-packages/sklearn/metrics/__init__.py)",
     "output_type": "error",
     "traceback": [
      "\u001b[0;31m---------------------------------------------------------------------------\u001b[0m",
      "\u001b[0;31mImportError\u001b[0m                               Traceback (most recent call last)",
      "\u001b[0;32m<ipython-input-246-eb4a54c76aec>\u001b[0m in \u001b[0;36m<module>\u001b[0;34m\u001b[0m\n\u001b[1;32m     21\u001b[0m \u001b[0;34m\u001b[0m\u001b[0m\n\u001b[1;32m     22\u001b[0m \u001b[0;34m\u001b[0m\u001b[0m\n\u001b[0;32m---> 23\u001b[0;31m \u001b[0;32mfrom\u001b[0m \u001b[0msklearn\u001b[0m\u001b[0;34m.\u001b[0m\u001b[0mmetrics\u001b[0m \u001b[0;32mimport\u001b[0m \u001b[0mmean_absolute_error\u001b[0m\u001b[0;34m,\u001b[0m \u001b[0mmean_squared_error\u001b[0m\u001b[0;34m,\u001b[0m \u001b[0mroot_mean_squared_error\u001b[0m\u001b[0;34m\u001b[0m\u001b[0;34m\u001b[0m\u001b[0m\n\u001b[0m",
      "\u001b[0;31mImportError\u001b[0m: cannot import name 'root_mean_squared_error' from 'sklearn.metrics' (/home/sree/anaconda3/lib/python3.7/site-packages/sklearn/metrics/__init__.py)"
     ]
    }
   ],
   "source": [
    "import pandas as pd\n",
    "import numpy as np\n",
    "import matplotlib.pyplot as plt\n",
    "import seaborn as sns\n",
    "import altair as alt\n",
    "\n",
    "import time\n",
    "\n",
    "from sklearn.preprocessing import StandardScaler, OneHotEncoder\n",
    "from sklearn.pipeline import Pipeline\n",
    "from sklearn.compose import ColumnTransformer\n",
    "\n",
    "from sklearn.linear_model import LinearRegression\n",
    "from sklearn.tree import DecisionTreeRegressor\n",
    "from sklearn.neighbors import KNeighborsRegressor\n",
    "from sklearn.ensemble import RandomForestRegressor\n",
    "from sklearn.svm import SVR\n",
    "from sklearn.preprocessing import PolynomialFeatures\n",
    "from sklearn.model_selection import train_test_split, GridSearchCV, cross_val_score\n",
    "from sklearn.feature_selection import RFECV\n",
    "\n",
    "\n",
    "from sklearn.metrics import mean_absolute_error, mean_squared_error, root_mean_squared_error\n"
   ]
  },
  {
   "cell_type": "markdown",
   "metadata": {},
   "source": [
    "# Load training data"
   ]
  },
  {
   "cell_type": "code",
   "execution_count": 208,
   "metadata": {},
   "outputs": [
    {
     "data": {
      "text/html": [
       "<div>\n",
       "<style scoped>\n",
       "    .dataframe tbody tr th:only-of-type {\n",
       "        vertical-align: middle;\n",
       "    }\n",
       "\n",
       "    .dataframe tbody tr th {\n",
       "        vertical-align: top;\n",
       "    }\n",
       "\n",
       "    .dataframe thead th {\n",
       "        text-align: right;\n",
       "    }\n",
       "</style>\n",
       "<table border=\"1\" class=\"dataframe\">\n",
       "  <thead>\n",
       "    <tr style=\"text-align: right;\">\n",
       "      <th></th>\n",
       "      <th>age</th>\n",
       "      <th>sex</th>\n",
       "      <th>bmi</th>\n",
       "      <th>children</th>\n",
       "      <th>smoker</th>\n",
       "      <th>region</th>\n",
       "      <th>charges</th>\n",
       "    </tr>\n",
       "  </thead>\n",
       "  <tbody>\n",
       "    <tr>\n",
       "      <th>0</th>\n",
       "      <td>36</td>\n",
       "      <td>male</td>\n",
       "      <td>27.55</td>\n",
       "      <td>3</td>\n",
       "      <td>no</td>\n",
       "      <td>northeast</td>\n",
       "      <td>6746.7425</td>\n",
       "    </tr>\n",
       "    <tr>\n",
       "      <th>1</th>\n",
       "      <td>60</td>\n",
       "      <td>female</td>\n",
       "      <td>35.10</td>\n",
       "      <td>0</td>\n",
       "      <td>no</td>\n",
       "      <td>southwest</td>\n",
       "      <td>12644.5890</td>\n",
       "    </tr>\n",
       "    <tr>\n",
       "      <th>2</th>\n",
       "      <td>30</td>\n",
       "      <td>male</td>\n",
       "      <td>31.57</td>\n",
       "      <td>3</td>\n",
       "      <td>no</td>\n",
       "      <td>southeast</td>\n",
       "      <td>4837.5823</td>\n",
       "    </tr>\n",
       "    <tr>\n",
       "      <th>3</th>\n",
       "      <td>49</td>\n",
       "      <td>male</td>\n",
       "      <td>25.60</td>\n",
       "      <td>2</td>\n",
       "      <td>yes</td>\n",
       "      <td>southwest</td>\n",
       "      <td>23306.5470</td>\n",
       "    </tr>\n",
       "    <tr>\n",
       "      <th>4</th>\n",
       "      <td>26</td>\n",
       "      <td>male</td>\n",
       "      <td>32.90</td>\n",
       "      <td>2</td>\n",
       "      <td>yes</td>\n",
       "      <td>southwest</td>\n",
       "      <td>36085.2190</td>\n",
       "    </tr>\n",
       "  </tbody>\n",
       "</table>\n",
       "</div>"
      ],
      "text/plain": [
       "   age     sex    bmi  children smoker     region     charges\n",
       "0   36    male  27.55         3     no  northeast   6746.7425\n",
       "1   60  female  35.10         0     no  southwest  12644.5890\n",
       "2   30    male  31.57         3     no  southeast   4837.5823\n",
       "3   49    male  25.60         2    yes  southwest  23306.5470\n",
       "4   26    male  32.90         2    yes  southwest  36085.2190"
      ]
     },
     "execution_count": 208,
     "metadata": {},
     "output_type": "execute_result"
    }
   ],
   "source": [
    "medical_data = pd.read_csv(\"../data/processed/medical_cost_data_training.csv\")\n",
    "X = medical_data.drop(\"charges\", axis=1)\n",
    "y = medical_data.charges\n",
    "medical_data.head()"
   ]
  },
  {
   "cell_type": "code",
   "execution_count": 210,
   "metadata": {},
   "outputs": [],
   "source": [
    "# X_train, X_test, y_train, y_test = train_test_split(X, y, test_size=0.3, random_state=42)"
   ]
  },
  {
   "cell_type": "markdown",
   "metadata": {},
   "source": [
    "# Identify categoric and numeric features"
   ]
  },
  {
   "cell_type": "code",
   "execution_count": 244,
   "metadata": {},
   "outputs": [],
   "source": [
    "# Identify categoric and numeric features\n",
    "def get_cat_num_features(x):\n",
    "    data_types = x.dtypes\n",
    "    categoric_features = []\n",
    "    numeric_features = []\n",
    "    for d_type, feature in zip(data_types, data_types.index):\n",
    "        if d_type == \"object\":\n",
    "            categoric_features.append(feature)\n",
    "        else:\n",
    "            numeric_features.append(feature)\n",
    "    return categoric_features, numeric_features\n",
    "\n",
    "categoric_features, numeric_features = get_cat_num_features(X)"
   ]
  },
  {
   "cell_type": "markdown",
   "metadata": {},
   "source": [
    "# Create a preprocessing pipeline"
   ]
  },
  {
   "cell_type": "code",
   "execution_count": 212,
   "metadata": {},
   "outputs": [],
   "source": [
    "numeric_transformer = Pipeline(steps=[(\"poly\" , PolynomialFeatures(degree=3)),\n",
    "                                      (\"scaler\", StandardScaler())])\n",
    "categoric_transformer = Pipeline(steps=[(\"ohe\", OneHotEncoder())])\n",
    "\n",
    "preprocessor = ColumnTransformer(transformers = [\n",
    "                                 (\"num\", numeric_transformer, numeric_features),\n",
    "                                 (\"cat\", categoric_transformer, categoric_features)])"
   ]
  },
  {
   "cell_type": "markdown",
   "metadata": {},
   "source": [
    "# No Free Lunch - Try various models"
   ]
  },
  {
   "cell_type": "markdown",
   "metadata": {},
   "source": [
    "1. linear regression\n",
    "2. Decisiontree regression\n",
    "3. knnregression\n",
    "4. Randomforestregression\n",
    "5. polynomial regression (Try polynomial features later)\n",
    "6. support vector machines\n",
    " "
   ]
  },
  {
   "cell_type": "code",
   "execution_count": 261,
   "metadata": {},
   "outputs": [],
   "source": [
    "models = {\n",
    "    \"linear_regression\" : LinearRegression(),\n",
    "    \"decision_tree_regressor\" : DecisionTreeRegressor(),\n",
    "    \"knn_regression\" : KNeighborsRegressor(),\n",
    "    \"rf_regression\" : RandomForestRegressor(n_estimators=100),\n",
    "    \"SVR\" : SVR(gamma=\"scale\")   \n",
    "}"
   ]
  },
  {
   "cell_type": "code",
   "execution_count": 262,
   "metadata": {},
   "outputs": [
    {
     "data": {
      "text/plain": [
       "(655, 6)"
      ]
     },
     "execution_count": 262,
     "metadata": {},
     "output_type": "execute_result"
    }
   ],
   "source": [
    "X_train.shape"
   ]
  },
  {
   "cell_type": "code",
   "execution_count": 263,
   "metadata": {},
   "outputs": [
    {
     "data": {
      "text/plain": [
       "(655,)"
      ]
     },
     "execution_count": 263,
     "metadata": {},
     "output_type": "execute_result"
    }
   ],
   "source": [
    "y_train.shape"
   ]
  },
  {
   "cell_type": "code",
   "execution_count": 277,
   "metadata": {},
   "outputs": [
    {
     "name": "stdout",
     "output_type": "stream",
     "text": [
      "(655,)\n"
     ]
    },
    {
     "data": {
      "text/html": [
       "<div>\n",
       "<style scoped>\n",
       "    .dataframe tbody tr th:only-of-type {\n",
       "        vertical-align: middle;\n",
       "    }\n",
       "\n",
       "    .dataframe tbody tr th {\n",
       "        vertical-align: top;\n",
       "    }\n",
       "\n",
       "    .dataframe thead th {\n",
       "        text-align: right;\n",
       "    }\n",
       "</style>\n",
       "<table border=\"1\" class=\"dataframe\">\n",
       "  <thead>\n",
       "    <tr style=\"text-align: right;\">\n",
       "      <th></th>\n",
       "      <th>linear_regression</th>\n",
       "      <th>decision_tree_regressor</th>\n",
       "      <th>knn_regression</th>\n",
       "      <th>rf_regression</th>\n",
       "      <th>SVR</th>\n",
       "    </tr>\n",
       "  </thead>\n",
       "  <tbody>\n",
       "    <tr>\n",
       "      <th>Mean absolute error, training</th>\n",
       "      <td>4541.9410</td>\n",
       "      <td>0.0000</td>\n",
       "      <td>3268.7340</td>\n",
       "      <td>1169.1330</td>\n",
       "      <td>8625.7510</td>\n",
       "    </tr>\n",
       "    <tr>\n",
       "      <th>Mean absolute error, test</th>\n",
       "      <td>4593.5290</td>\n",
       "      <td>3674.1330</td>\n",
       "      <td>4242.7680</td>\n",
       "      <td>3187.5020</td>\n",
       "      <td>8631.4270</td>\n",
       "    </tr>\n",
       "    <tr>\n",
       "      <th>training_time(s)</th>\n",
       "      <td>0.1446</td>\n",
       "      <td>0.0992</td>\n",
       "      <td>0.0676</td>\n",
       "      <td>1.0767</td>\n",
       "      <td>0.1752</td>\n",
       "    </tr>\n",
       "  </tbody>\n",
       "</table>\n",
       "</div>"
      ],
      "text/plain": [
       "                               linear_regression  decision_tree_regressor  \\\n",
       "Mean absolute error, training          4541.9410                   0.0000   \n",
       "Mean absolute error, test              4593.5290                3674.1330   \n",
       "training_time(s)                          0.1446                   0.0992   \n",
       "\n",
       "                               knn_regression  rf_regression        SVR  \n",
       "Mean absolute error, training       3268.7340      1169.1330  8625.7510  \n",
       "Mean absolute error, test           4242.7680      3187.5020  8631.4270  \n",
       "training_time(s)                       0.0676         1.0767     0.1752  "
      ]
     },
     "execution_count": 277,
     "metadata": {},
     "output_type": "execute_result"
    }
   ],
   "source": [
    "def try_models(models, X_train, y_train, preprocessor):\n",
    "    results_dict = {}\n",
    "    print(y_train.shape)\n",
    "    for model_name, model in models.items():\n",
    "#         print(f\"trainning {model}\")\n",
    "        t = time.time()\n",
    "        reg = Pipeline(steps=[('preprocessor', preprocessor),\n",
    "                              ('regressor', model)])\n",
    "        validation_error = np.mean(cross_val_score(reg, X_train, \n",
    "                                                   y_train, \n",
    "                                                   scoring = \"neg_mean_absolute_error\", \n",
    "                                                   cv=5) * -1)\n",
    "        reg.fit(X_train, y_train)\n",
    "        tr_err = mean_absolute_error(y_train, reg.predict(X_train))\n",
    "        elapsed_time = time.time() - t\n",
    "        results_dict[model_name] = [np.round(tr_err,3), np.round(validation_error,3), np.round(elapsed_time,4)]\n",
    "        indices = [\"Mean absolute error, training\", \"Mean absolute error, test\", \"training_time(s)\"]\n",
    "    results_df = pd.DataFrame(results_dict)\n",
    "    results_df.index = indices\n",
    "    return results_df\n",
    "results_df = try_models(models, X_train, y_train, preprocessor)\n",
    "results_df"
   ]
  },
  {
   "cell_type": "code",
   "execution_count": null,
   "metadata": {},
   "outputs": [],
   "source": []
  },
  {
   "cell_type": "code",
   "execution_count": 229,
   "metadata": {},
   "outputs": [
    {
     "data": {
      "text/html": [
       "<div>\n",
       "<style scoped>\n",
       "    .dataframe tbody tr th:only-of-type {\n",
       "        vertical-align: middle;\n",
       "    }\n",
       "\n",
       "    .dataframe tbody tr th {\n",
       "        vertical-align: top;\n",
       "    }\n",
       "\n",
       "    .dataframe thead th {\n",
       "        text-align: right;\n",
       "    }\n",
       "</style>\n",
       "<table border=\"1\" class=\"dataframe\">\n",
       "  <thead>\n",
       "    <tr style=\"text-align: right;\">\n",
       "      <th></th>\n",
       "      <th>0</th>\n",
       "      <th>1</th>\n",
       "      <th>2</th>\n",
       "    </tr>\n",
       "  </thead>\n",
       "  <tbody>\n",
       "    <tr>\n",
       "      <th>linear_regression</th>\n",
       "      <td>4339.149</td>\n",
       "      <td>4380.674</td>\n",
       "      <td>0.0215</td>\n",
       "    </tr>\n",
       "    <tr>\n",
       "      <th>decision_tree_regressor</th>\n",
       "      <td>0.000</td>\n",
       "      <td>3920.122</td>\n",
       "      <td>0.0359</td>\n",
       "    </tr>\n",
       "    <tr>\n",
       "      <th>knn_regression</th>\n",
       "      <td>4360.787</td>\n",
       "      <td>5479.350</td>\n",
       "      <td>0.0464</td>\n",
       "    </tr>\n",
       "    <tr>\n",
       "      <th>rf_regression</th>\n",
       "      <td>1243.239</td>\n",
       "      <td>2925.175</td>\n",
       "      <td>0.0736</td>\n",
       "    </tr>\n",
       "    <tr>\n",
       "      <th>SVR</th>\n",
       "      <td>8622.600</td>\n",
       "      <td>7868.797</td>\n",
       "      <td>0.0662</td>\n",
       "    </tr>\n",
       "  </tbody>\n",
       "</table>\n",
       "</div>"
      ],
      "text/plain": [
       "                                0         1       2\n",
       "linear_regression        4339.149  4380.674  0.0215\n",
       "decision_tree_regressor     0.000  3920.122  0.0359\n",
       "knn_regression           4360.787  5479.350  0.0464\n",
       "rf_regression            1243.239  2925.175  0.0736\n",
       "SVR                      8622.600  7868.797  0.0662"
      ]
     },
     "execution_count": 229,
     "metadata": {},
     "output_type": "execute_result"
    }
   ],
   "source": [
    "pd.DataFrame(results_dict).T"
   ]
  },
  {
   "cell_type": "markdown",
   "metadata": {},
   "source": [
    "# Hyperparameter optimization of DecisionTreeRegressor"
   ]
  },
  {
   "cell_type": "code",
   "execution_count": 287,
   "metadata": {},
   "outputs": [
    {
     "name": "stderr",
     "output_type": "stream",
     "text": [
      "/home/sree/anaconda3/lib/python3.7/site-packages/sklearn/model_selection/_search.py:814: DeprecationWarning: The default of the `iid` parameter will change from True to False in version 0.22 and will be removed in 0.24. This will change numeric results when test-set sizes are unequal.\n",
      "  DeprecationWarning)\n"
     ]
    },
    {
     "data": {
      "text/plain": [
       "GridSearchCV(cv=5, error_score='raise-deprecating',\n",
       "             estimator=Pipeline(memory=None,\n",
       "                                steps=[('preprocessor',\n",
       "                                        ColumnTransformer(n_jobs=None,\n",
       "                                                          remainder='drop',\n",
       "                                                          sparse_threshold=0.3,\n",
       "                                                          transformer_weights=None,\n",
       "                                                          transformers=[('num',\n",
       "                                                                         Pipeline(memory=None,\n",
       "                                                                                  steps=[('poly',\n",
       "                                                                                          PolynomialFeatures(degree=1,\n",
       "                                                                                                             include_bias=True,\n",
       "                                                                                                             interaction_only=False,\n",
       "                                                                                                             order='C')),\n",
       "                                                                                         ('scaler',\n",
       "                                                                                          Stand...\n",
       "                                                              random_state=None,\n",
       "                                                              splitter='best'))],\n",
       "                                verbose=False),\n",
       "             iid='warn', n_jobs=None,\n",
       "             param_grid={'preprocessor__num__poly__degree': [1, 2, 3, 4],\n",
       "                         'regressor__max_depth': [1, 2, 3, 4, 5, 6, 7, 8, 9, 10,\n",
       "                                                  11, 12, 13, 14, 15, 16, 17,\n",
       "                                                  18, 19],\n",
       "                         'regressor__min_samples_split': [2, 3, 4, 5, 6, 7, 8,\n",
       "                                                          9]},\n",
       "             pre_dispatch='2*n_jobs', refit=True, return_train_score=True,\n",
       "             scoring='neg_mean_absolute_error', verbose=0)"
      ]
     },
     "execution_count": 287,
     "metadata": {},
     "output_type": "execute_result"
    }
   ],
   "source": [
    "clf = Pipeline(steps=[('preprocessor', preprocessor),\n",
    "                      ('regressor', DecisionTreeRegressor())])\n",
    "\n",
    "param_grid = {\n",
    "    'preprocessor__num__poly__degree': list(range(1, 5)),\n",
    "    'regressor__max_depth': list(range(1, 20)),\n",
    "    \"regressor__min_samples_split\" : list(range(2, 10))\n",
    "}\n",
    "\n",
    "grid_search = GridSearchCV(clf, param_grid, cv=5, return_train_score=True, scoring=\"neg_mean_absolute_error\")\n",
    "grid_search.fit(X, y)\n",
    "\n"
   ]
  },
  {
   "cell_type": "code",
   "execution_count": 288,
   "metadata": {},
   "outputs": [
    {
     "name": "stdout",
     "output_type": "stream",
     "text": [
      "2441.528233227245\n",
      "2735.7976303364367\n"
     ]
    }
   ],
   "source": [
    "print(mean_absolute_error(y_train, grid_search.predict(X_train)))\n",
    "print(mean_absolute_error(y_test, grid_search.predict(X_test)))"
   ]
  },
  {
   "cell_type": "code",
   "execution_count": 294,
   "metadata": {},
   "outputs": [
    {
     "data": {
      "text/plain": [
       "<matplotlib.axes._subplots.AxesSubplot at 0x7fcbce544dd8>"
      ]
     },
     "execution_count": 294,
     "metadata": {},
     "output_type": "execute_result"
    },
    {
     "data": {
      "image/png": "[encoded data removed]",
      "text/plain": [
       "<Figure size 432x288 with 1 Axes>"
      ]
     },
     "metadata": {
      "needs_background": "light"
     },
     "output_type": "display_data"
    }
   ],
   "source": [
    "grid_results.plot()"
   ]
  },
  {
   "cell_type": "code",
   "execution_count": 289,
   "metadata": {},
   "outputs": [],
   "source": [
    "train_score = grid_search.cv_results_[\"mean_train_score\"] * -1\n",
    "test_score = grid_search.cv_results_[\"mean_test_score\"] * -1\n",
    "grid_results = pd.DataFrame({\"train_score\" : train_score, \"test_score\" : test_score})\n",
    "# grid_results[\"max_depth\"] = list(range(1, 20))"
   ]
  },
  {
   "cell_type": "code",
   "execution_count": 290,
   "metadata": {},
   "outputs": [
    {
     "ename": "ValueError",
     "evalue": "Could not interpret input 'max_depth'",
     "output_type": "error",
     "traceback": [
      "\u001b[0;31m---------------------------------------------------------------------------\u001b[0m",
      "\u001b[0;31mValueError\u001b[0m                                Traceback (most recent call last)",
      "\u001b[0;32m<ipython-input-290-76f0ce756b7c>\u001b[0m in \u001b[0;36m<module>\u001b[0;34m\u001b[0m\n\u001b[0;32m----> 1\u001b[0;31m \u001b[0msns\u001b[0m\u001b[0;34m.\u001b[0m\u001b[0mlineplot\u001b[0m\u001b[0;34m(\u001b[0m\u001b[0;34m\"max_depth\"\u001b[0m\u001b[0;34m,\u001b[0m \u001b[0;34m\"test_score\"\u001b[0m\u001b[0;34m,\u001b[0m \u001b[0mdata\u001b[0m\u001b[0;34m=\u001b[0m\u001b[0mgrid_results\u001b[0m\u001b[0;34m,\u001b[0m \u001b[0mcolor\u001b[0m\u001b[0;34m=\u001b[0m\u001b[0;34m\"r\"\u001b[0m\u001b[0;34m)\u001b[0m\u001b[0;34m\u001b[0m\u001b[0;34m\u001b[0m\u001b[0m\n\u001b[0m\u001b[1;32m      2\u001b[0m \u001b[0msns\u001b[0m\u001b[0;34m.\u001b[0m\u001b[0mlineplot\u001b[0m\u001b[0;34m(\u001b[0m\u001b[0;34m\"max_depth\"\u001b[0m\u001b[0;34m,\u001b[0m \u001b[0;34m\"train_score\"\u001b[0m\u001b[0;34m,\u001b[0m \u001b[0mdata\u001b[0m\u001b[0;34m=\u001b[0m\u001b[0mgrid_results\u001b[0m\u001b[0;34m)\u001b[0m\u001b[0;34m\u001b[0m\u001b[0;34m\u001b[0m\u001b[0m\n",
      "\u001b[0;32m~/anaconda3/lib/python3.7/site-packages/seaborn/relational.py\u001b[0m in \u001b[0;36mlineplot\u001b[0;34m(x, y, hue, size, style, data, palette, hue_order, hue_norm, sizes, size_order, size_norm, dashes, markers, style_order, units, estimator, ci, n_boot, sort, err_style, err_kws, legend, ax, **kwargs)\u001b[0m\n\u001b[1;32m   1076\u001b[0m         \u001b[0mdashes\u001b[0m\u001b[0;34m=\u001b[0m\u001b[0mdashes\u001b[0m\u001b[0;34m,\u001b[0m \u001b[0mmarkers\u001b[0m\u001b[0;34m=\u001b[0m\u001b[0mmarkers\u001b[0m\u001b[0;34m,\u001b[0m \u001b[0mstyle_order\u001b[0m\u001b[0;34m=\u001b[0m\u001b[0mstyle_order\u001b[0m\u001b[0;34m,\u001b[0m\u001b[0;34m\u001b[0m\u001b[0;34m\u001b[0m\u001b[0m\n\u001b[1;32m   1077\u001b[0m         \u001b[0munits\u001b[0m\u001b[0;34m=\u001b[0m\u001b[0munits\u001b[0m\u001b[0;34m,\u001b[0m \u001b[0mestimator\u001b[0m\u001b[0;34m=\u001b[0m\u001b[0mestimator\u001b[0m\u001b[0;34m,\u001b[0m \u001b[0mci\u001b[0m\u001b[0;34m=\u001b[0m\u001b[0mci\u001b[0m\u001b[0;34m,\u001b[0m \u001b[0mn_boot\u001b[0m\u001b[0;34m=\u001b[0m\u001b[0mn_boot\u001b[0m\u001b[0;34m,\u001b[0m\u001b[0;34m\u001b[0m\u001b[0;34m\u001b[0m\u001b[0m\n\u001b[0;32m-> 1078\u001b[0;31m         \u001b[0msort\u001b[0m\u001b[0;34m=\u001b[0m\u001b[0msort\u001b[0m\u001b[0;34m,\u001b[0m \u001b[0merr_style\u001b[0m\u001b[0;34m=\u001b[0m\u001b[0merr_style\u001b[0m\u001b[0;34m,\u001b[0m \u001b[0merr_kws\u001b[0m\u001b[0;34m=\u001b[0m\u001b[0merr_kws\u001b[0m\u001b[0;34m,\u001b[0m \u001b[0mlegend\u001b[0m\u001b[0;34m=\u001b[0m\u001b[0mlegend\u001b[0m\u001b[0;34m,\u001b[0m\u001b[0;34m\u001b[0m\u001b[0;34m\u001b[0m\u001b[0m\n\u001b[0m\u001b[1;32m   1079\u001b[0m     )\n\u001b[1;32m   1080\u001b[0m \u001b[0;34m\u001b[0m\u001b[0m\n",
      "\u001b[0;32m~/anaconda3/lib/python3.7/site-packages/seaborn/relational.py\u001b[0m in \u001b[0;36m__init__\u001b[0;34m(self, x, y, hue, size, style, data, palette, hue_order, hue_norm, sizes, size_order, size_norm, dashes, markers, style_order, units, estimator, ci, n_boot, sort, err_style, err_kws, legend)\u001b[0m\n\u001b[1;32m    661\u001b[0m \u001b[0;34m\u001b[0m\u001b[0m\n\u001b[1;32m    662\u001b[0m         plot_data = self.establish_variables(\n\u001b[0;32m--> 663\u001b[0;31m             \u001b[0mx\u001b[0m\u001b[0;34m,\u001b[0m \u001b[0my\u001b[0m\u001b[0;34m,\u001b[0m \u001b[0mhue\u001b[0m\u001b[0;34m,\u001b[0m \u001b[0msize\u001b[0m\u001b[0;34m,\u001b[0m \u001b[0mstyle\u001b[0m\u001b[0;34m,\u001b[0m \u001b[0munits\u001b[0m\u001b[0;34m,\u001b[0m \u001b[0mdata\u001b[0m\u001b[0;34m\u001b[0m\u001b[0;34m\u001b[0m\u001b[0m\n\u001b[0m\u001b[1;32m    664\u001b[0m         )\n\u001b[1;32m    665\u001b[0m \u001b[0;34m\u001b[0m\u001b[0m\n",
      "\u001b[0;32m~/anaconda3/lib/python3.7/site-packages/seaborn/relational.py\u001b[0m in \u001b[0;36mestablish_variables\u001b[0;34m(self, x, y, hue, size, style, units, data)\u001b[0m\n\u001b[1;32m    140\u001b[0m                 \u001b[0;32mif\u001b[0m \u001b[0misinstance\u001b[0m\u001b[0;34m(\u001b[0m\u001b[0mvar\u001b[0m\u001b[0;34m,\u001b[0m \u001b[0mstring_types\u001b[0m\u001b[0;34m)\u001b[0m\u001b[0;34m:\u001b[0m\u001b[0;34m\u001b[0m\u001b[0;34m\u001b[0m\u001b[0m\n\u001b[1;32m    141\u001b[0m                     \u001b[0merr\u001b[0m \u001b[0;34m=\u001b[0m \u001b[0;34m\"Could not interpret input '{}'\"\u001b[0m\u001b[0;34m.\u001b[0m\u001b[0mformat\u001b[0m\u001b[0;34m(\u001b[0m\u001b[0mvar\u001b[0m\u001b[0;34m)\u001b[0m\u001b[0;34m\u001b[0m\u001b[0;34m\u001b[0m\u001b[0m\n\u001b[0;32m--> 142\u001b[0;31m                     \u001b[0;32mraise\u001b[0m \u001b[0mValueError\u001b[0m\u001b[0;34m(\u001b[0m\u001b[0merr\u001b[0m\u001b[0;34m)\u001b[0m\u001b[0;34m\u001b[0m\u001b[0;34m\u001b[0m\u001b[0m\n\u001b[0m\u001b[1;32m    143\u001b[0m \u001b[0;34m\u001b[0m\u001b[0m\n\u001b[1;32m    144\u001b[0m             \u001b[0;31m# Extract variable names\u001b[0m\u001b[0;34m\u001b[0m\u001b[0;34m\u001b[0m\u001b[0;34m\u001b[0m\u001b[0m\n",
      "\u001b[0;31mValueError\u001b[0m: Could not interpret input 'max_depth'"
     ]
    }
   ],
   "source": [
    "sns.lineplot(\"max_depth\", \"test_score\", data=grid_results, color=\"r\")\n",
    "sns.lineplot(\"max_depth\", \"train_score\", data=grid_results)"
   ]
  },
  {
   "cell_type": "markdown",
   "metadata": {},
   "source": [
    "# Best model"
   ]
  },
  {
   "cell_type": "code",
   "execution_count": 283,
   "metadata": {},
   "outputs": [
    {
     "data": {
      "text/plain": [
       "{'regressor__max_depth': 5, 'regressor__min_samples_split': 4}"
      ]
     },
     "execution_count": 283,
     "metadata": {},
     "output_type": "execute_result"
    }
   ],
   "source": [
    " grid_search.best_params_"
   ]
  },
  {
   "cell_type": "code",
   "execution_count": 238,
   "metadata": {},
   "outputs": [],
   "source": [
    "numeric_transformer = Pipeline(steps=[(\"poly\" , PolynomialFeatures(degree=1)),\n",
    "                                      (\"scaler\", StandardScaler())])\n",
    "categoric_transformer = Pipeline(steps=[(\"ohe\", OneHotEncoder())])\n",
    "\n",
    "preprocessor = ColumnTransformer(transformers = [\n",
    "                                 (\"num\", numeric_transformer, numeric_features),\n",
    "                                 (\"cat\", categoric_transformer, categoric_features)])"
   ]
  },
  {
   "cell_type": "code",
   "execution_count": 239,
   "metadata": {},
   "outputs": [
    {
     "name": "stderr",
     "output_type": "stream",
     "text": [
      "/home/sree/anaconda3/lib/python3.7/site-packages/sklearn/ensemble/forest.py:245: FutureWarning: The default value of n_estimators will change from 10 in version 0.20 to 100 in 0.22.\n",
      "  \"10 in version 0.20 to 100 in 0.22.\", FutureWarning)\n"
     ]
    },
    {
     "data": {
      "text/plain": [
       "Pipeline(memory=None,\n",
       "         steps=[('preprocessor',\n",
       "                 ColumnTransformer(n_jobs=None, remainder='drop',\n",
       "                                   sparse_threshold=0.3,\n",
       "                                   transformer_weights=None,\n",
       "                                   transformers=[('num',\n",
       "                                                  Pipeline(memory=None,\n",
       "                                                           steps=[('poly',\n",
       "                                                                   PolynomialFeatures(degree=1,\n",
       "                                                                                      include_bias=True,\n",
       "                                                                                      interaction_only=False,\n",
       "                                                                                      order='C')),\n",
       "                                                                  ('scaler',\n",
       "                                                                   StandardScaler(copy=True,\n",
       "                                                                                  with_mean=True,\n",
       "                                                                                  with_std=True))],\n",
       "                                                           verbose=...\n",
       "                                   verbose=False)),\n",
       "                ('regressor',\n",
       "                 RandomForestRegressor(bootstrap=True, criterion='mse',\n",
       "                                       max_depth=5, max_features='auto',\n",
       "                                       max_leaf_nodes=None,\n",
       "                                       min_impurity_decrease=0.0,\n",
       "                                       min_impurity_split=None,\n",
       "                                       min_samples_leaf=1, min_samples_split=4,\n",
       "                                       min_weight_fraction_leaf=0.0,\n",
       "                                       n_estimators=10, n_jobs=None,\n",
       "                                       oob_score=False, random_state=None,\n",
       "                                       verbose=0, warm_start=False))],\n",
       "         verbose=False)"
      ]
     },
     "execution_count": 239,
     "metadata": {},
     "output_type": "execute_result"
    }
   ],
   "source": [
    "reg = RandomForestRegressor(max_depth=5, min_samples_split=4)\n",
    "model = Pipeline(steps = [(\"preprocessor\", preprocessor),\n",
    "                         (\"regressor\", reg)])\n",
    "\n",
    "model.fit(X, y)"
   ]
  },
  {
   "cell_type": "code",
   "execution_count": 240,
   "metadata": {},
   "outputs": [
    {
     "data": {
      "text/plain": [
       "2280.1845667722278"
      ]
     },
     "execution_count": 240,
     "metadata": {},
     "output_type": "execute_result"
    }
   ],
   "source": [
    "mean_absolute_error(y, model.predict(X))"
   ]
  },
  {
   "cell_type": "markdown",
   "metadata": {},
   "source": [
    "# Load test data and test"
   ]
  },
  {
   "cell_type": "code",
   "execution_count": 299,
   "metadata": {},
   "outputs": [],
   "source": [
    "medical_data_test = pd.read_csv(\"../data/processed/medical_cost_data_test.csv\")\n",
    "X_test = medical_data_test.drop(\"charges\", axis=1)\n",
    "y_test = medical_data_test.charges"
   ]
  },
  {
   "cell_type": "code",
   "execution_count": 300,
   "metadata": {},
   "outputs": [
    {
     "data": {
      "text/plain": [
       "2467.3160401134014"
      ]
     },
     "execution_count": 300,
     "metadata": {},
     "output_type": "execute_result"
    }
   ],
   "source": [
    "mean_absolute_error(y_test, model.predict(X_test))"
   ]
  },
  {
   "cell_type": "code",
   "execution_count": 298,
   "metadata": {},
   "outputs": [],
   "source": [
    "grid = grid_search\n",
    "y_predicted_training = grid.predict(X)\n",
    "mean_absolute_error_trn = mean_absolute_error(y, y_predicted_training)\n",
    "mean_squared_error_trn = mean_squared_error(y, y_predicted_training)\n",
    "root_mean_squared_error_trn = np.sqrt(mean_squared_error(y, y_predicted_training))"
   ]
  },
  {
   "cell_type": "code",
   "execution_count": 302,
   "metadata": {},
   "outputs": [],
   "source": [
    "y_predicted_test = grid.predict(X_test)\n",
    "mean_absolute_error_test = mean_absolute_error(y_test, y_predicted_test)\n",
    "mean_squared_error_test = mean_squared_error(y_test, y_predicted_test)\n",
    "root_mean_squared_error_test = np.sqrt(mean_squared_error(y_test, y_predicted_test))"
   ]
  },
  {
   "cell_type": "code",
   "execution_count": 304,
   "metadata": {},
   "outputs": [],
   "source": [
    "final_results = {\"train\" : [mean_absolute_error_trn, mean_squared_error_trn, root_mean_squared_error_trn],\n",
    "\"test\" : [mean_absolute_error_test, mean_squared_error_test, root_mean_squared_error_test]}"
   ]
  },
  {
   "cell_type": "code",
   "execution_count": 306,
   "metadata": {},
   "outputs": [
    {
     "data": {
      "text/html": [
       "<div>\n",
       "<style scoped>\n",
       "    .dataframe tbody tr th:only-of-type {\n",
       "        vertical-align: middle;\n",
       "    }\n",
       "\n",
       "    .dataframe tbody tr th {\n",
       "        vertical-align: top;\n",
       "    }\n",
       "\n",
       "    .dataframe thead th {\n",
       "        text-align: right;\n",
       "    }\n",
       "</style>\n",
       "<table border=\"1\" class=\"dataframe\">\n",
       "  <thead>\n",
       "    <tr style=\"text-align: right;\">\n",
       "      <th></th>\n",
       "      <th>train</th>\n",
       "      <th>test</th>\n",
       "    </tr>\n",
       "  </thead>\n",
       "  <tbody>\n",
       "    <tr>\n",
       "      <th>Mean Absolute Error</th>\n",
       "      <td>2.374845e+03</td>\n",
       "      <td>2.735798e+03</td>\n",
       "    </tr>\n",
       "    <tr>\n",
       "      <th>Mean Squared Error</th>\n",
       "      <td>1.808675e+07</td>\n",
       "      <td>2.106628e+07</td>\n",
       "    </tr>\n",
       "    <tr>\n",
       "      <th>Root Mean Squared Error</th>\n",
       "      <td>4.252852e+03</td>\n",
       "      <td>4.589802e+03</td>\n",
       "    </tr>\n",
       "  </tbody>\n",
       "</table>\n",
       "</div>"
      ],
      "text/plain": [
       "                                train          test\n",
       "Mean Absolute Error      2.374845e+03  2.735798e+03\n",
       "Mean Squared Error       1.808675e+07  2.106628e+07\n",
       "Root Mean Squared Error  4.252852e+03  4.589802e+03"
      ]
     },
     "execution_count": 306,
     "metadata": {},
     "output_type": "execute_result"
    }
   ],
   "source": [
    "df = pd.DataFrame(final_results)\n",
    "df.index = [\"Mean Absolute Error\", \"Mean Squared Error\", \"Root Mean Squared Error\"]\n",
    "df"
   ]
  },
  {
   "cell_type": "code",
   "execution_count": 312,
   "metadata": {},
   "outputs": [],
   "source": [
    "def get_error(model, X, y):\n",
    "    y_predicted = model.predict(X)\n",
    "    mean_abs_error = mean_absolute_error(y, y_predicted)\n",
    "    mean_sqrd_error = mean_squared_error(y, y_predicted)\n",
    "    root_mean_sqrd_error = np.sqrt(mean_squared_error(y, y_predicted))\n",
    "    return [mean_abs_error, mean_sqrd_error, root_mean_sqrd_error]\n"
   ]
  },
  {
   "cell_type": "code",
   "execution_count": 315,
   "metadata": {},
   "outputs": [
    {
     "data": {
      "text/html": [
       "<div>\n",
       "<style scoped>\n",
       "    .dataframe tbody tr th:only-of-type {\n",
       "        vertical-align: middle;\n",
       "    }\n",
       "\n",
       "    .dataframe tbody tr th {\n",
       "        vertical-align: top;\n",
       "    }\n",
       "\n",
       "    .dataframe thead th {\n",
       "        text-align: right;\n",
       "    }\n",
       "</style>\n",
       "<table border=\"1\" class=\"dataframe\">\n",
       "  <thead>\n",
       "    <tr style=\"text-align: right;\">\n",
       "      <th></th>\n",
       "      <th>train</th>\n",
       "      <th>test</th>\n",
       "    </tr>\n",
       "  </thead>\n",
       "  <tbody>\n",
       "    <tr>\n",
       "      <th>Mean Absolute Error</th>\n",
       "      <td>2.374845e+03</td>\n",
       "      <td>2.735798e+03</td>\n",
       "    </tr>\n",
       "    <tr>\n",
       "      <th>Mean Squared Error</th>\n",
       "      <td>1.808675e+07</td>\n",
       "      <td>2.106628e+07</td>\n",
       "    </tr>\n",
       "    <tr>\n",
       "      <th>Root Mean Squared Error</th>\n",
       "      <td>4.252852e+03</td>\n",
       "      <td>4.589802e+03</td>\n",
       "    </tr>\n",
       "  </tbody>\n",
       "</table>\n",
       "</div>"
      ],
      "text/plain": [
       "                                train          test\n",
       "Mean Absolute Error      2.374845e+03  2.735798e+03\n",
       "Mean Squared Error       1.808675e+07  2.106628e+07\n",
       "Root Mean Squared Error  4.252852e+03  4.589802e+03"
      ]
     },
     "execution_count": 315,
     "metadata": {},
     "output_type": "execute_result"
    }
   ],
   "source": [
    "train_errors = get_error(grid, X, y)\n",
    "test_errors = get_error(grid, X_test, y_test)\n",
    "\n",
    "final_results = {\"train\" : train_errors,\n",
    "                \"test\" : test_errors}\n",
    "results_df = pd.DataFrame(final_results)\n",
    "results_df.index = [\"Mean Absolute Error\", \"Mean Squared Error\", \"Root Mean Squared Error\"]\n",
    "results_df"
   ]
  },
  {
   "cell_type": "code",
   "execution_count": 318,
   "metadata": {},
   "outputs": [
    {
     "data": {
      "text/plain": [
       "<matplotlib.collections.PathCollection at 0x7fcbce5501d0>"
      ]
     },
     "execution_count": 318,
     "metadata": {},
     "output_type": "execute_result"
    },
    {
     "data": {
      "image/png": "[encoded data removed]",
      "text/plain": [
       "<Figure size 432x288 with 1 Axes>"
      ]
     },
     "metadata": {
      "needs_background": "light"
     },
     "output_type": "display_data"
    }
   ],
   "source": [
    "y_train_predicted = grid.predict(X)\n",
    "y_test_predicted = grid.predict(X_test)\n",
    "plt.scatter(y_test, y_test_predicted)"
   ]
  },
  {
   "cell_type": "code",
   "execution_count": 319,
   "metadata": {},
   "outputs": [
    {
     "data": {
      "text/html": [
       "<div>\n",
       "<style scoped>\n",
       "    .dataframe tbody tr th:only-of-type {\n",
       "        vertical-align: middle;\n",
       "    }\n",
       "\n",
       "    .dataframe tbody tr th {\n",
       "        vertical-align: top;\n",
       "    }\n",
       "\n",
       "    .dataframe thead th {\n",
       "        text-align: right;\n",
       "    }\n",
       "</style>\n",
       "<table border=\"1\" class=\"dataframe\">\n",
       "  <thead>\n",
       "    <tr style=\"text-align: right;\">\n",
       "      <th></th>\n",
       "      <th>y_actual</th>\n",
       "      <th>y_predicted</th>\n",
       "      <th>residuals</th>\n",
       "    </tr>\n",
       "  </thead>\n",
       "  <tbody>\n",
       "    <tr>\n",
       "      <th>0</th>\n",
       "      <td>9800.88820</td>\n",
       "      <td>9171.125862</td>\n",
       "      <td>629.762338</td>\n",
       "    </tr>\n",
       "    <tr>\n",
       "      <th>1</th>\n",
       "      <td>4667.60765</td>\n",
       "      <td>10686.236900</td>\n",
       "      <td>-6018.629250</td>\n",
       "    </tr>\n",
       "    <tr>\n",
       "      <th>2</th>\n",
       "      <td>34838.87300</td>\n",
       "      <td>39377.977464</td>\n",
       "      <td>-4539.104464</td>\n",
       "    </tr>\n",
       "    <tr>\n",
       "      <th>3</th>\n",
       "      <td>5125.21570</td>\n",
       "      <td>5604.665694</td>\n",
       "      <td>-479.449994</td>\n",
       "    </tr>\n",
       "    <tr>\n",
       "      <th>4</th>\n",
       "      <td>12142.57860</td>\n",
       "      <td>14403.149360</td>\n",
       "      <td>-2260.570760</td>\n",
       "    </tr>\n",
       "    <tr>\n",
       "      <th>...</th>\n",
       "      <td>...</td>\n",
       "      <td>...</td>\n",
       "      <td>...</td>\n",
       "    </tr>\n",
       "    <tr>\n",
       "      <th>397</th>\n",
       "      <td>6593.50830</td>\n",
       "      <td>8588.092618</td>\n",
       "      <td>-1994.584318</td>\n",
       "    </tr>\n",
       "    <tr>\n",
       "      <th>398</th>\n",
       "      <td>1759.33800</td>\n",
       "      <td>2576.034364</td>\n",
       "      <td>-816.696364</td>\n",
       "    </tr>\n",
       "    <tr>\n",
       "      <th>399</th>\n",
       "      <td>18648.42170</td>\n",
       "      <td>19708.828260</td>\n",
       "      <td>-1060.406560</td>\n",
       "    </tr>\n",
       "    <tr>\n",
       "      <th>400</th>\n",
       "      <td>5272.17580</td>\n",
       "      <td>6002.644324</td>\n",
       "      <td>-730.468524</td>\n",
       "    </tr>\n",
       "    <tr>\n",
       "      <th>401</th>\n",
       "      <td>2211.13075</td>\n",
       "      <td>2576.034364</td>\n",
       "      <td>-364.903614</td>\n",
       "    </tr>\n",
       "  </tbody>\n",
       "</table>\n",
       "<p>402 rows × 3 columns</p>\n",
       "</div>"
      ],
      "text/plain": [
       "        y_actual   y_predicted    residuals\n",
       "0     9800.88820   9171.125862   629.762338\n",
       "1     4667.60765  10686.236900 -6018.629250\n",
       "2    34838.87300  39377.977464 -4539.104464\n",
       "3     5125.21570   5604.665694  -479.449994\n",
       "4    12142.57860  14403.149360 -2260.570760\n",
       "..           ...           ...          ...\n",
       "397   6593.50830   8588.092618 -1994.584318\n",
       "398   1759.33800   2576.034364  -816.696364\n",
       "399  18648.42170  19708.828260 -1060.406560\n",
       "400   5272.17580   6002.644324  -730.468524\n",
       "401   2211.13075   2576.034364  -364.903614\n",
       "\n",
       "[402 rows x 3 columns]"
      ]
     },
     "execution_count": 319,
     "metadata": {},
     "output_type": "execute_result"
    }
   ],
   "source": [
    "res = pd.DataFrame({\"y_actual\" : y_test, \"y_predicted\" : y_test_predicted, \"residuals\" : y_test - y_test_predicted})\n",
    "res"
   ]
  },
  {
   "cell_type": "code",
   "execution_count": 336,
   "metadata": {},
   "outputs": [
    {
     "data": {
      "application/vnd.vegalite.v3+json": {
       "$schema": "https://vega.github.io/schema/vega-lite/v3.4.0.json",
       "config": {
        "axis": {
         "labelFontSize": 20,
         "titleFontSize": 20
        },
        "mark": {
         "tooltip": null
        },
        "title": {
         "fontSize": 20
        },
        "view": {
         "height": 300,
         "width": 400
        }
       },
       "data": {
        "name": "data-34062bd569aef9c8b55482456e849274"
       },
       "datasets": {
        "data-34062bd569aef9c8b55482456e849274": [
         {
          "residuals": 629.7623381578942,
          "y_actual": 9800.8882,
          "y_predicted": 9171.125861842105
         },
         {
          "residuals": -6018.629249999998,
          "y_actual": 4667.60765,
          "y_predicted": 10686.236899999998
         },
         {
          "residuals": -4539.104464000004,
          "y_actual": 34838.873,
          "y_predicted": 39377.977464
         },
         {
          "residuals": -479.449994444446,
          "y_actual": 5125.2157,
          "y_predicted": 5604.665694444446
         },
         {
          "residuals": -2260.570759555554,
          "y_actual": 12142.5786,
          "y_predicted": 14403.149359555555
         },
         {
          "residuals": 1531.5165381578954,
          "y_actual": 10702.6424,
          "y_predicted": 9171.125861842105
         },
         {
          "residuals": -5858.331949999998,
          "y_actual": 4827.90495,
          "y_predicted": 10686.236899999998
         },
         {
          "residuals": -838.6436944444458,
          "y_actual": 4766.022,
          "y_predicted": 5604.665694444446
         },
         {
          "residuals": -901.4020639325847,
          "y_actual": 1674.6323,
          "y_predicted": 2576.0343639325847
         },
         {
          "residuals": -1543.8535548387063,
          "y_actual": 9361.3268,
          "y_predicted": 10905.180354838707
         },
         {
          "residuals": -5091.391399999998,
          "y_actual": 5594.8455,
          "y_predicted": 10686.236899999998
         },
         {
          "residuals": -1400.9107168999963,
          "y_actual": 10976.24575,
          "y_predicted": 12377.156466899996
         },
         {
          "residuals": -2291.3104668999968,
          "y_actual": 10085.846,
          "y_predicted": 12377.156466899996
         },
         {
          "residuals": 1767.3906285714256,
          "y_actual": 36189.1017,
          "y_predicted": 34421.71107142857
         },
         {
          "residuals": 16809.325893100005,
          "y_actual": 29186.48236,
          "y_predicted": 12377.156466899996
         },
         {
          "residuals": 1064.7994903571453,
          "y_actual": 20773.62775,
          "y_predicted": 19708.828259642854
         },
         {
          "residuals": -5072.991342142857,
          "y_actual": 10602.385,
          "y_predicted": 15675.376342142858
         },
         {
          "residuals": -377.8445139325845,
          "y_actual": 2198.18985,
          "y_predicted": 2576.0343639325847
         },
         {
          "residuals": 725.9125359999962,
          "y_actual": 40103.89,
          "y_predicted": 39377.977464
         },
         {
          "residuals": 116.39034913043724,
          "y_actual": 43753.33705,
          "y_predicted": 43636.946700869565
         },
         {
          "residuals": 1810.4621849999967,
          "y_actual": 24520.264,
          "y_predicted": 22709.801815000003
         },
         {
          "residuals": 19194.07883777778,
          "y_actual": 63770.42801,
          "y_predicted": 44576.349172222224
         },
         {
          "residuals": -7406.368349999998,
          "y_actual": 3279.86855,
          "y_predicted": 10686.236899999998
         },
         {
          "residuals": 1047.3769763636374,
          "y_actual": 7050.0213,
          "y_predicted": 6002.644323636363
         },
         {
          "residuals": -2829.473544444446,
          "y_actual": 2775.19215,
          "y_predicted": 5604.665694444446
         },
         {
          "residuals": -2513.684666899997,
          "y_actual": 9863.4718,
          "y_predicted": 12377.156466899996
         },
         {
          "residuals": -2765.3580434615396,
          "y_actual": 15161.5344,
          "y_predicted": 17926.89244346154
         },
         {
          "residuals": 14417.960326363638,
          "y_actual": 20420.60465,
          "y_predicted": 6002.644323636363
         },
         {
          "residuals": 531.5577951612922,
          "y_actual": 11436.73815,
          "y_predicted": 10905.180354838707
         },
         {
          "residuals": -950.6006139325848,
          "y_actual": 1625.43375,
          "y_predicted": 2576.0343639325847
         },
         {
          "residuals": -2289.8803548387077,
          "y_actual": 8615.3,
          "y_predicted": 10905.180354838707
         },
         {
          "residuals": 5033.643997857142,
          "y_actual": 20709.02034,
          "y_predicted": 15675.376342142858
         },
         {
          "residuals": -3187.710694444446,
          "y_actual": 2416.955,
          "y_predicted": 5604.665694444446
         },
         {
          "residuals": -3624.595694444446,
          "y_actual": 1980.07,
          "y_predicted": 5604.665694444446
         },
         {
          "residuals": -1453.636994444446,
          "y_actual": 4151.0287,
          "y_predicted": 5604.665694444446
         },
         {
          "residuals": -952.0273595555554,
          "y_actual": 13451.122,
          "y_predicted": 14403.149359555555
         },
         {
          "residuals": -1339.266359555555,
          "y_actual": 13063.883,
          "y_predicted": 14403.149359555555
         },
         {
          "residuals": -1531.2774474999992,
          "y_actual": 2480.9791,
          "y_predicted": 4012.256547499999
         },
         {
          "residuals": -2788.5003548387067,
          "y_actual": 8116.68,
          "y_predicted": 10905.180354838707
         },
         {
          "residuals": 180.40644516129214,
          "y_actual": 11085.5868,
          "y_predicted": 10905.180354838707
         },
         {
          "residuals": -681.7497944444458,
          "y_actual": 4922.9159,
          "y_predicted": 5604.665694444446
         },
         {
          "residuals": -1817.9001182926831,
          "y_actual": 6770.1925,
          "y_predicted": 8588.092618292683
         },
         {
          "residuals": -437.9636639325845,
          "y_actual": 2138.0707,
          "y_predicted": 2576.0343639325847
         },
         {
          "residuals": -231.201815000004,
          "y_actual": 22478.6,
          "y_predicted": 22709.801815000003
         },
         {
          "residuals": 383.26637428571394,
          "y_actual": 7985.815,
          "y_predicted": 7602.548625714286
         },
         {
          "residuals": -3885.2293944444455,
          "y_actual": 1719.4363,
          "y_predicted": 5604.665694444446
         },
         {
          "residuals": -1812.2719668999962,
          "y_actual": 10564.8845,
          "y_predicted": 12377.156466899996
         },
         {
          "residuals": -614.1555668999972,
          "y_actual": 11763.0009,
          "y_predicted": 12377.156466899996
         },
         {
          "residuals": 642.0045831000043,
          "y_actual": 13019.16105,
          "y_predicted": 12377.156466899996
         },
         {
          "residuals": 329.71410555555394,
          "y_actual": 5934.3798,
          "y_predicted": 5604.665694444446
         },
         {
          "residuals": 14428.152485161292,
          "y_actual": 25333.33284,
          "y_predicted": 10905.180354838707
         },
         {
          "residuals": -1773.2526595555555,
          "y_actual": 12629.8967,
          "y_predicted": 14403.149359555555
         },
         {
          "residuals": -255.43807142857258,
          "y_actual": 34166.273,
          "y_predicted": 34421.71107142857
         },
         {
          "residuals": -2069.9154048387063,
          "y_actual": 8835.26495,
          "y_predicted": 10905.180354838707
         },
         {
          "residuals": -940.6293595555544,
          "y_actual": 13462.52,
          "y_predicted": 14403.149359555555
         },
         {
          "residuals": -3758.0753548387074,
          "y_actual": 7147.105,
          "y_predicted": 10905.180354838707
         },
         {
          "residuals": -938.4595150000023,
          "y_actual": 21771.3423,
          "y_predicted": 22709.801815000003
         },
         {
          "residuals": -3312.4199450000015,
          "y_actual": 36149.4835,
          "y_predicted": 39461.903445
         },
         {
          "residuals": 2065.0756491304346,
          "y_actual": 45702.02235,
          "y_predicted": 43636.946700869565
         },
         {
          "residuals": -35.756923636363354,
          "y_actual": 5966.8874,
          "y_predicted": 6002.644323636363
         },
         {
          "residuals": -2314.6990934615405,
          "y_actual": 15612.19335,
          "y_predicted": 17926.89244346154
         },
         {
          "residuals": 231.85470555555457,
          "y_actual": 5836.5204,
          "y_predicted": 5604.665694444446
         },
         {
          "residuals": 2264.7800750000024,
          "y_actual": 30942.1918,
          "y_predicted": 28677.411724999998
         },
         {
          "residuals": -2264.7438,
          "y_actual": 17179.522,
          "y_predicted": 19444.2658
         },
         {
          "residuals": -6825.027249999998,
          "y_actual": 3861.20965,
          "y_predicted": 10686.236899999998
         },
         {
          "residuals": -1415.5525944444462,
          "y_actual": 4189.1131,
          "y_predicted": 5604.665694444446
         },
         {
          "residuals": -4136.955342142857,
          "y_actual": 11538.421,
          "y_predicted": 15675.376342142858
         },
         {
          "residuals": -2315.615418292683,
          "y_actual": 6272.4772,
          "y_predicted": 8588.092618292683
         },
         {
          "residuals": -3029.169342142857,
          "y_actual": 12646.207,
          "y_predicted": 15675.376342142858
         },
         {
          "residuals": -432.5621168999969,
          "y_actual": 11944.59435,
          "y_predicted": 12377.156466899996
         },
         {
          "residuals": -647.4769668999961,
          "y_actual": 11729.6795,
          "y_predicted": 12377.156466899996
         },
         {
          "residuals": 10109.941900444446,
          "y_actual": 24513.09126,
          "y_predicted": 14403.149359555555
         },
         {
          "residuals": -1363.4848048387066,
          "y_actual": 9541.69555,
          "y_predicted": 10905.180354838707
         },
         {
          "residuals": -1420.2746595555545,
          "y_actual": 12982.8747,
          "y_predicted": 14403.149359555555
         },
         {
          "residuals": -2278.1569595555557,
          "y_actual": 12124.9924,
          "y_predicted": 14403.149359555555
         },
         {
          "residuals": -1450.4238650000043,
          "y_actual": 21259.37795,
          "y_predicted": 22709.801815000003
         },
         {
          "residuals": -1817.5464236363632,
          "y_actual": 4185.0979,
          "y_predicted": 6002.644323636363
         },
         {
          "residuals": -2158.618359555554,
          "y_actual": 12244.531,
          "y_predicted": 14403.149359555555
         },
         {
          "residuals": 1047.8631055555543,
          "y_actual": 6652.5288,
          "y_predicted": 5604.665694444446
         },
         {
          "residuals": 15535.791454999995,
          "y_actual": 38245.59327,
          "y_predicted": 22709.801815000003
         },
         {
          "residuals": -831.5693639325848,
          "y_actual": 1744.465,
          "y_predicted": 2576.0343639325847
         },
         {
          "residuals": 12359.572704999995,
          "y_actual": 35069.37452,
          "y_predicted": 22709.801815000003
         },
         {
          "residuals": -1449.612259642854,
          "y_actual": 18259.216,
          "y_predicted": 19708.828259642854
         },
         {
          "residuals": -4584.658542142857,
          "y_actual": 11090.7178,
          "y_predicted": 15675.376342142858
         },
         {
          "residuals": -805.7651974999994,
          "y_actual": 3206.49135,
          "y_predicted": 4012.256547499999
         },
         {
          "residuals": -1857.80769346154,
          "y_actual": 16069.08475,
          "y_predicted": 17926.89244346154
         },
         {
          "residuals": 1599.3001285714272,
          "y_actual": 36021.0112,
          "y_predicted": 34421.71107142857
         },
         {
          "residuals": 394.16264516129377,
          "y_actual": 11299.343,
          "y_predicted": 10905.180354838707
         },
         {
          "residuals": -539.9964668999964,
          "y_actual": 11837.16,
          "y_predicted": 12377.156466899996
         },
         {
          "residuals": -163.1348421428629,
          "y_actual": 47928.03,
          "y_predicted": 48091.16484214286
         },
         {
          "residuals": -2201.724354838707,
          "y_actual": 8703.456,
          "y_predicted": 10905.180354838707
         },
         {
          "residuals": -2250.017018292683,
          "y_actual": 6338.0756,
          "y_predicted": 8588.092618292683
         },
         {
          "residuals": 524.1317555555543,
          "y_actual": 6128.79745,
          "y_predicted": 5604.665694444446
         },
         {
          "residuals": -2026.666694444445,
          "y_actual": 3577.9990000000007,
          "y_predicted": 5604.665694444446
         },
         {
          "residuals": 17583.1257425,
          "y_actual": 21595.38229,
          "y_predicted": 4012.256547499999
         },
         {
          "residuals": 4747.700455067414,
          "y_actual": 7323.734818999998,
          "y_predicted": 2576.0343639325847
         },
         {
          "residuals": -452.53169444444575,
          "y_actual": 5152.134,
          "y_predicted": 5604.665694444446
         },
         {
          "residuals": -352.9293236363628,
          "y_actual": 5649.715,
          "y_predicted": 6002.644323636363
         },
         {
          "residuals": -16526.424160000002,
          "y_actual": 5458.04645,
          "y_predicted": 21984.47061
         },
         {
          "residuals": -2803.4068944444457,
          "y_actual": 2801.2588,
          "y_predicted": 5604.665694444446
         },
         {
          "residuals": -1879.5445595555557,
          "y_actual": 12523.6048,
          "y_predicted": 14403.149359555555
         },
         {
          "residuals": -1585.1964668999972,
          "y_actual": 10791.96,
          "y_predicted": 12377.156466899996
         },
         {
          "residuals": -438.90051689999564,
          "y_actual": 11938.25595,
          "y_predicted": 12377.156466899996
         },
         {
          "residuals": -358.43316393258465,
          "y_actual": 2217.6012,
          "y_predicted": 2576.0343639325847
         },
         {
          "residuals": 383.92662428571475,
          "y_actual": 7986.47525,
          "y_predicted": 7602.548625714286
         },
         {
          "residuals": 7005.221325555554,
          "y_actual": 12609.88702,
          "y_predicted": 5604.665694444446
         },
         {
          "residuals": 15438.700220357146,
          "y_actual": 35147.52848,
          "y_predicted": 19708.828259642854
         },
         {
          "residuals": 709.0933055555543,
          "y_actual": 6313.759,
          "y_predicted": 5604.665694444446
         },
         {
          "residuals": 14945.577393100008,
          "y_actual": 27322.733860000004,
          "y_predicted": 12377.156466899996
         },
         {
          "residuals": -2301.3569548387077,
          "y_actual": 8603.8234,
          "y_predicted": 10905.180354838707
         },
         {
          "residuals": -2185.4135474999994,
          "y_actual": 1826.843,
          "y_predicted": 4012.256547499999
         },
         {
          "residuals": 565.7068991304332,
          "y_actual": 44202.6536,
          "y_predicted": 43636.946700869565
         },
         {
          "residuals": -1486.1260150000016,
          "y_actual": 21223.6758,
          "y_predicted": 22709.801815000003
         },
         {
          "residuals": -2231.821918292683,
          "y_actual": 6356.2707,
          "y_predicted": 8588.092618292683
         },
         {
          "residuals": 948.5091691304333,
          "y_actual": 44585.45587,
          "y_predicted": 43636.946700869565
         },
         {
          "residuals": -945.1885595555541,
          "y_actual": 13457.9608,
          "y_predicted": 14403.149359555555
         },
         {
          "residuals": -4573.005849999998,
          "y_actual": 6113.23105,
          "y_predicted": 10686.236899999998
         },
         {
          "residuals": 477.739305555554,
          "y_actual": 6082.405,
          "y_predicted": 5604.665694444446
         },
         {
          "residuals": -1775.5242168999957,
          "y_actual": 10601.63225,
          "y_predicted": 12377.156466899996
         },
         {
          "residuals": -91.70032363636255,
          "y_actual": 5910.944,
          "y_predicted": 6002.644323636363
         },
         {
          "residuals": 2564.0383991304334,
          "y_actual": 46200.9851,
          "y_predicted": 43636.946700869565
         },
         {
          "residuals": 1043.820644999998,
          "y_actual": 16115.3045,
          "y_predicted": 15071.483855000002
         },
         {
          "residuals": -292.49584444444554,
          "y_actual": 5312.16985,
          "y_predicted": 5604.665694444446
         },
         {
          "residuals": -640.7382548387068,
          "y_actual": 10264.4421,
          "y_predicted": 10905.180354838707
         },
         {
          "residuals": -2470.5981182926835,
          "y_actual": 6117.4945,
          "y_predicted": 8588.092618292683
         },
         {
          "residuals": -5966.712849999998,
          "y_actual": 4719.52405,
          "y_predicted": 10686.236899999998
         },
         {
          "residuals": 458.541535999997,
          "y_actual": 39836.519,
          "y_predicted": 39377.977464
         },
         {
          "residuals": -525.3592257142855,
          "y_actual": 7077.1894,
          "y_predicted": 7602.548625714286
         },
         {
          "residuals": 2476.564299130434,
          "y_actual": 46113.511,
          "y_predicted": 43636.946700869565
         },
         {
          "residuals": -4512.225442142859,
          "y_actual": 43578.9394,
          "y_predicted": 48091.16484214286
         },
         {
          "residuals": 14573.005435555553,
          "y_actual": 20177.67113,
          "y_predicted": 5604.665694444446
         },
         {
          "residuals": -7195.687799999998,
          "y_actual": 3490.5491,
          "y_predicted": 10686.236899999998
         },
         {
          "residuals": -7518.781049999998,
          "y_actual": 3167.45585,
          "y_predicted": 10686.236899999998
         },
         {
          "residuals": -5449.0921421428575,
          "y_actual": 10226.2842,
          "y_predicted": 15675.376342142858
         },
         {
          "residuals": -1712.1316182926848,
          "y_actual": 6875.960999999998,
          "y_predicted": 8588.092618292683
         },
         {
          "residuals": -2007.0696944444462,
          "y_actual": 3597.5959999999995,
          "y_predicted": 5604.665694444446
         },
         {
          "residuals": -68.66114749999906,
          "y_actual": 3943.5954,
          "y_predicted": 4012.256547499999
         },
         {
          "residuals": -6645.678649999998,
          "y_actual": 4040.55825,
          "y_predicted": 10686.236899999998
         },
         {
          "residuals": -17484.13136,
          "y_actual": 4500.33925,
          "y_predicted": 21984.47061
         },
         {
          "residuals": 8253.127043100005,
          "y_actual": 20630.28351,
          "y_predicted": 12377.156466899996
         },
         {
          "residuals": -2211.688894444446,
          "y_actual": 3392.9768,
          "y_predicted": 5604.665694444446
         },
         {
          "residuals": -788.0244550000025,
          "y_actual": 14283.4594,
          "y_predicted": 15071.483855000002
         },
         {
          "residuals": 2290.2822449999985,
          "y_actual": 17361.7661,
          "y_predicted": 15071.483855000002
         },
         {
          "residuals": -1250.3446182926837,
          "y_actual": 7337.748,
          "y_predicted": 8588.092618292683
         },
         {
          "residuals": -2623.560659642855,
          "y_actual": 17085.2676,
          "y_predicted": 19708.828259642854
         },
         {
          "residuals": 966.8783055555541,
          "y_actual": 6571.544,
          "y_predicted": 5604.665694444446
         },
         {
          "residuals": -6503.048500869561,
          "y_actual": 37133.8982,
          "y_predicted": 43636.946700869565
         },
         {
          "residuals": -120.19839444444551,
          "y_actual": 5484.4673,
          "y_predicted": 5604.665694444446
         },
         {
          "residuals": 377.70313170731606,
          "y_actual": 8965.79575,
          "y_predicted": 8588.092618292683
         },
         {
          "residuals": -2527.570194444446,
          "y_actual": 3077.0955,
          "y_predicted": 5604.665694444446
         },
         {
          "residuals": -1440.0936639325846,
          "y_actual": 1135.9407,
          "y_predicted": 2576.0343639325847
         },
         {
          "residuals": -4702.199443461541,
          "y_actual": 13224.693,
          "y_predicted": 17926.89244346154
         },
         {
          "residuals": 106.72591875000217,
          "y_actual": 17178.6824,
          "y_predicted": 17071.95648125
         },
         {
          "residuals": -2570.5907548387077,
          "y_actual": 8334.5896,
          "y_predicted": 10905.180354838707
         },
         {
          "residuals": -1489.0870474999992,
          "y_actual": 2523.1695,
          "y_predicted": 4012.256547499999
         },
         {
          "residuals": -709.9123944444455,
          "y_actual": 4894.7533,
          "y_predicted": 5604.665694444446
         },
         {
          "residuals": -315.59927222222177,
          "y_actual": 44260.7499,
          "y_predicted": 44576.349172222224
         },
         {
          "residuals": -2507.3462668999964,
          "y_actual": 9869.8102,
          "y_predicted": 12377.156466899996
         },
         {
          "residuals": -633.0514595555542,
          "y_actual": 13770.0979,
          "y_predicted": 14403.149359555555
         },
         {
          "residuals": -2377.544594444446,
          "y_actual": 3227.1211,
          "y_predicted": 5604.665694444446
         },
         {
          "residuals": -736.2787236363629,
          "y_actual": 5266.3656,
          "y_predicted": 6002.644323636363
         },
         {
          "residuals": -838.9362182926834,
          "y_actual": 7749.1564,
          "y_predicted": 8588.092618292683
         },
         {
          "residuals": -714.6661944444459,
          "y_actual": 4889.9995,
          "y_predicted": 5604.665694444446
         },
         {
          "residuals": -876.444500869562,
          "y_actual": 42760.5022,
          "y_predicted": 43636.946700869565
         },
         {
          "residuals": -698.2560444444462,
          "y_actual": 4906.40965,
          "y_predicted": 5604.665694444446
         },
         {
          "residuals": -1312.7853639325847,
          "y_actual": 1263.249,
          "y_predicted": 2576.0343639325847
         },
         {
          "residuals": -2348.2733548387077,
          "y_actual": 8556.907,
          "y_predicted": 10905.180354838707
         },
         {
          "residuals": -3154.1051450000014,
          "y_actual": 36307.7983,
          "y_predicted": 39461.903445
         },
         {
          "residuals": 1067.2781949999971,
          "y_actual": 16138.76205,
          "y_predicted": 15071.483855000002
         },
         {
          "residuals": -1068.4066944444457,
          "y_actual": 4536.259,
          "y_predicted": 5604.665694444446
         },
         {
          "residuals": -1513.842147499999,
          "y_actual": 2498.4144,
          "y_predicted": 4012.256547499999
         },
         {
          "residuals": 300.80539035714537,
          "y_actual": 20009.63365,
          "y_predicted": 19708.828259642854
         },
         {
          "residuals": -2256.1783595555553,
          "y_actual": 12146.971,
          "y_predicted": 14403.149359555555
         },
         {
          "residuals": 2017.2416831000046,
          "y_actual": 14394.39815,
          "y_predicted": 12377.156466899996
         },
         {
          "residuals": 46.70504044444533,
          "y_actual": 14449.8544,
          "y_predicted": 14403.149359555555
         },
         {
          "residuals": -658.7159639325846,
          "y_actual": 1917.3184,
          "y_predicted": 2576.0343639325847
         },
         {
          "residuals": -2039.3065474999992,
          "y_actual": 1972.95,
          "y_predicted": 4012.256547499999
         },
         {
          "residuals": -1601.395618292684,
          "y_actual": 6986.696999999999,
          "y_predicted": 8588.092618292683
         },
         {
          "residuals": -1189.4997668999968,
          "y_actual": 11187.6567,
          "y_predicted": 12377.156466899996
         },
         {
          "residuals": 178.98658606741537,
          "y_actual": 2755.02095,
          "y_predicted": 2576.0343639325847
         },
         {
          "residuals": -229.6276944444444,
          "y_actual": 5375.038000000001,
          "y_predicted": 5604.665694444446
         },
         {
          "residuals": -1274.7833548387061,
          "y_actual": 9630.397,
          "y_predicted": 10905.180354838707
         },
         {
          "residuals": -809.008894444446,
          "y_actual": 4795.6568,
          "y_predicted": 5604.665694444446
         },
         {
          "residuals": -255.63494749999927,
          "y_actual": 3756.6216,
          "y_predicted": 4012.256547499999
         },
         {
          "residuals": -1494.1753548387078,
          "y_actual": 9411.005,
          "y_predicted": 10905.180354838707
         },
         {
          "residuals": 8753.698675555554,
          "y_actual": 14358.36437,
          "y_predicted": 5604.665694444446
         },
         {
          "residuals": -974.1139595555542,
          "y_actual": 13429.0354,
          "y_predicted": 14403.149359555555
         },
         {
          "residuals": -458.05354749999924,
          "y_actual": 3554.203,
          "y_predicted": 4012.256547499999
         },
         {
          "residuals": -571.0314682926828,
          "y_actual": 8017.06115,
          "y_predicted": 8588.092618292683
         },
         {
          "residuals": -3242.497995000005,
          "y_actual": 36219.40545,
          "y_predicted": 39461.903445
         },
         {
          "residuals": -1611.2477650000037,
          "y_actual": 21098.55405,
          "y_predicted": 22709.801815000003
         },
         {
          "residuals": -8.591459555555048,
          "y_actual": 14394.5579,
          "y_predicted": 14403.149359555555
         },
         {
          "residuals": 1257.5812349999978,
          "y_actual": 23967.38305,
          "y_predicted": 22709.801815000003
         },
         {
          "residuals": 9.816286067415149,
          "y_actual": 2585.85065,
          "y_predicted": 2576.0343639325847
         },
         {
          "residuals": -2677.600994444446,
          "y_actual": 2927.0647,
          "y_predicted": 5604.665694444446
         },
         {
          "residuals": -934.0256944444454,
          "y_actual": 4670.64,
          "y_predicted": 5604.665694444446
         },
         {
          "residuals": 5095.852174999996,
          "y_actual": 20167.33603,
          "y_predicted": 15071.483855000002
         },
         {
          "residuals": -1810.1121048387067,
          "y_actual": 9095.06825,
          "y_predicted": 10905.180354838707
         },
         {
          "residuals": 1702.8626285714272,
          "y_actual": 36124.5737,
          "y_predicted": 34421.71107142857
         },
         {
          "residuals": -1321.2870548387073,
          "y_actual": 9583.8933,
          "y_predicted": 10905.180354838707
         },
         {
          "residuals": -13766.28647,
          "y_actual": 46255.1125,
          "y_predicted": 60021.39897
         },
         {
          "residuals": -1012.5903595555556,
          "y_actual": 13390.559,
          "y_predicted": 14403.149359555555
         },
         {
          "residuals": -873.5790639325846,
          "y_actual": 1702.4553,
          "y_predicted": 2576.0343639325847
         },
         {
          "residuals": -1322.7611474999994,
          "y_actual": 2689.4954,
          "y_predicted": 4012.256547499999
         },
         {
          "residuals": -2700.5776944444456,
          "y_actual": 2904.088,
          "y_predicted": 5604.665694444446
         },
         {
          "residuals": -945.893921428571,
          "y_actual": 33475.81715,
          "y_predicted": 34421.71107142857
         },
         {
          "residuals": 2283.6245359999957,
          "y_actual": 41661.602,
          "y_predicted": 39377.977464
         },
         {
          "residuals": -1492.0564421428644,
          "y_actual": 46599.1084,
          "y_predicted": 48091.16484214286
         },
         {
          "residuals": -118.82321393258462,
          "y_actual": 2457.21115,
          "y_predicted": 2576.0343639325847
         },
         {
          "residuals": -806.5027139325848,
          "y_actual": 1769.53165,
          "y_predicted": 2576.0343639325847
         },
         {
          "residuals": -2298.3377182926833,
          "y_actual": 6289.7549,
          "y_predicted": 8588.092618292683
         },
         {
          "residuals": -568.0893639325848,
          "y_actual": 2007.945,
          "y_predicted": 2576.0343639325847
         },
         {
          "residuals": -2233.989104838707,
          "y_actual": 8671.19125,
          "y_predicted": 10905.180354838707
         },
         {
          "residuals": -1439.6987618421053,
          "y_actual": 7731.4271,
          "y_predicted": 9171.125861842105
         },
         {
          "residuals": -3956.4795548387074,
          "y_actual": 6948.7008,
          "y_predicted": 10905.180354838707
         },
         {
          "residuals": -2380.956992142863,
          "y_actual": 45710.20785,
          "y_predicted": 48091.16484214286
         },
         {
          "residuals": -5012.900043461541,
          "y_actual": 12913.9924,
          "y_predicted": 17926.89244346154
         },
         {
          "residuals": -1542.5936182926835,
          "y_actual": 7045.499,
          "y_predicted": 8588.092618292683
         },
         {
          "residuals": 1586.2335949999979,
          "y_actual": 16657.71745,
          "y_predicted": 15071.483855000002
         },
         {
          "residuals": -992.4389257142857,
          "y_actual": 6610.1097,
          "y_predicted": 7602.548625714286
         },
         {
          "residuals": -1674.8603596428547,
          "y_actual": 18033.9679,
          "y_predicted": 19708.828259642854
         },
         {
          "residuals": -1100.0032944444456,
          "y_actual": 4504.6624,
          "y_predicted": 5604.665694444446
         },
         {
          "residuals": -1711.3418548387071,
          "y_actual": 9193.8385,
          "y_predicted": 10905.180354838707
         },
         {
          "residuals": -1112.615466899997,
          "y_actual": 11264.541,
          "y_predicted": 12377.156466899996
         },
         {
          "residuals": -2045.6840596428556,
          "y_actual": 17663.1442,
          "y_predicted": 19708.828259642854
         },
         {
          "residuals": -695.9643639325848,
          "y_actual": 1880.07,
          "y_predicted": 2576.0343639325847
         },
         {
          "residuals": -126.6288944444459,
          "y_actual": 5478.0368,
          "y_predicted": 5604.665694444446
         },
         {
          "residuals": -1060.6894639325847,
          "y_actual": 1515.3449,
          "y_predicted": 2576.0343639325847
         },
         {
          "residuals": -5926.465742142858,
          "y_actual": 9748.9106,
          "y_predicted": 15675.376342142858
         },
         {
          "residuals": -4263.691342142858,
          "y_actual": 11411.685,
          "y_predicted": 15675.376342142858
         },
         {
          "residuals": -466.40899444444585,
          "y_actual": 5138.2567,
          "y_predicted": 5604.665694444446
         },
         {
          "residuals": -1314.5923639325847,
          "y_actual": 1261.442,
          "y_predicted": 2576.0343639325847
         },
         {
          "residuals": 1081.7656055555544,
          "y_actual": 6686.4313,
          "y_predicted": 5604.665694444446
         },
         {
          "residuals": 51.12992857142672,
          "y_actual": 34472.841,
          "y_predicted": 34421.71107142857
         },
         {
          "residuals": -2081.9013548387065,
          "y_actual": 8823.279,
          "y_predicted": 10905.180354838707
         },
         {
          "residuals": -480.47699444444606,
          "y_actual": 5124.1887,
          "y_predicted": 5604.665694444446
         },
         {
          "residuals": -6125.048399999998,
          "y_actual": 4561.1885,
          "y_predicted": 10686.236899999998
         },
         {
          "residuals": -1423.7913595555547,
          "y_actual": 12979.358,
          "y_predicted": 14403.149359555555
         },
         {
          "residuals": 219.42973599999823,
          "y_actual": 39597.4072,
          "y_predicted": 39377.977464
         },
         {
          "residuals": 1177.8608849999982,
          "y_actual": 23887.6627,
          "y_predicted": 22709.801815000003
         },
         {
          "residuals": -1812.1316182926848,
          "y_actual": 6775.960999999998,
          "y_predicted": 8588.092618292683
         },
         {
          "residuals": -605.0276236363634,
          "y_actual": 5397.6167,
          "y_predicted": 6002.644323636363
         },
         {
          "residuals": -123.09856184210548,
          "y_actual": 9048.0273,
          "y_predicted": 9171.125861842105
         },
         {
          "residuals": -2014.0408548387077,
          "y_actual": 8891.1395,
          "y_predicted": 10905.180354838707
         },
         {
          "residuals": -2162.520466899996,
          "y_actual": 10214.636,
          "y_predicted": 12377.156466899996
         },
         {
          "residuals": 98.19483310000396,
          "y_actual": 12475.3513,
          "y_predicted": 12377.156466899996
         },
         {
          "residuals": -5073.964342142857,
          "y_actual": 10601.412,
          "y_predicted": 15675.376342142858
         },
         {
          "residuals": -658.9725474999991,
          "y_actual": 3353.284,
          "y_predicted": 4012.256547499999
         },
         {
          "residuals": 13234.037965555553,
          "y_actual": 18838.70366,
          "y_predicted": 5604.665694444446
         },
         {
          "residuals": -962.5034640000013,
          "y_actual": 38415.474,
          "y_predicted": 39377.977464
         },
         {
          "residuals": -635.4304668999957,
          "y_actual": 11741.726,
          "y_predicted": 12377.156466899996
         },
         {
          "residuals": -1417.8264668999964,
          "y_actual": 10959.33,
          "y_predicted": 12377.156466899996
         },
         {
          "residuals": -3483.985804838707,
          "y_actual": 7421.19455,
          "y_predicted": 10905.180354838707
         },
         {
          "residuals": -3691.82044346154,
          "y_actual": 14235.072,
          "y_predicted": 17926.89244346154
         },
         {
          "residuals": -2081.194604838707,
          "y_actual": 8823.98575,
          "y_predicted": 10905.180354838707
         },
         {
          "residuals": -3933.1988999999967,
          "y_actual": 6753.038000000001,
          "y_predicted": 10686.236899999998
         },
         {
          "residuals": -950.2751450000069,
          "y_actual": 38511.6283,
          "y_predicted": 39461.903445
         },
         {
          "residuals": -1754.4459595555545,
          "y_actual": 12648.7034,
          "y_predicted": 14403.149359555555
         },
         {
          "residuals": -2969.889204838707,
          "y_actual": 7935.29115,
          "y_predicted": 10905.180354838707
         },
         {
          "residuals": -3164.8433548387093,
          "y_actual": 7740.336999999998,
          "y_predicted": 10905.180354838707
         },
         {
          "residuals": -379.43146400000114,
          "y_actual": 38998.546,
          "y_predicted": 39377.977464
         },
         {
          "residuals": -132.21669444444433,
          "y_actual": 5472.449000000001,
          "y_predicted": 5604.665694444446
         },
         {
          "residuals": -594.6703921428634,
          "y_actual": 47496.49445,
          "y_predicted": 48091.16484214286
         },
         {
          "residuals": -1739.0666182926834,
          "y_actual": 6849.026,
          "y_predicted": 8588.092618292683
         },
         {
          "residuals": 6133.183145555555,
          "y_actual": 11737.84884,
          "y_predicted": 5604.665694444446
         },
         {
          "residuals": -1189.3393548387066,
          "y_actual": 9715.841,
          "y_predicted": 10905.180354838707
         },
         {
          "residuals": -1622.6888944444459,
          "y_actual": 3981.9768,
          "y_predicted": 5604.665694444446
         },
         {
          "residuals": -3475.9812596428546,
          "y_actual": 16232.847,
          "y_predicted": 19708.828259642854
         },
         {
          "residuals": -2198.7147682926834,
          "y_actual": 6389.37785,
          "y_predicted": 8588.092618292683
         },
         {
          "residuals": -3217.927600869567,
          "y_actual": 40419.0191,
          "y_predicted": 43636.946700869565
         },
         {
          "residuals": -2460.706354838707,
          "y_actual": 8444.474,
          "y_predicted": 10905.180354838707
         },
         {
          "residuals": -1404.607304838706,
          "y_actual": 9500.57305,
          "y_predicted": 10905.180354838707
         },
         {
          "residuals": -3019.396694444446,
          "y_actual": 2585.269,
          "y_predicted": 5604.665694444446
         },
         {
          "residuals": -2659.850359555554,
          "y_actual": 11743.299,
          "y_predicted": 14403.149359555555
         },
         {
          "residuals": -2627.657354838706,
          "y_actual": 8277.523000000001,
          "y_predicted": 10905.180354838707
         },
         {
          "residuals": -931.2734944444455,
          "y_actual": 4673.3922,
          "y_predicted": 5604.665694444446
         },
         {
          "residuals": -2665.4868596428532,
          "y_actual": 17043.3414,
          "y_predicted": 19708.828259642854
         },
         {
          "residuals": 756.327905555554,
          "y_actual": 6360.9936,
          "y_predicted": 5604.665694444446
         },
         {
          "residuals": -491.68691500000205,
          "y_actual": 22218.1149,
          "y_predicted": 22709.801815000003
         },
         {
          "residuals": -1679.9239548387068,
          "y_actual": 9225.2564,
          "y_predicted": 10905.180354838707
         },
         {
          "residuals": -1941.0604668999968,
          "y_actual": 10436.096,
          "y_predicted": 12377.156466899996
         },
         {
          "residuals": -1075.188694444446,
          "y_actual": 4529.477,
          "y_predicted": 5604.665694444446
         },
         {
          "residuals": -1513.9838150000032,
          "y_actual": 21195.818,
          "y_predicted": 22709.801815000003
         },
         {
          "residuals": -623.4345618421048,
          "y_actual": 8547.6913,
          "y_predicted": 9171.125861842105
         },
         {
          "residuals": -2194.3416944444457,
          "y_actual": 3410.324,
          "y_predicted": 5604.665694444446
         },
         {
          "residuals": -1273.5459095555543,
          "y_actual": 13129.60345,
          "y_predicted": 14403.149359555555
         },
         {
          "residuals": -4135.087149999999,
          "y_actual": 22412.6485,
          "y_predicted": 26547.73565
         },
         {
          "residuals": 11542.027894285713,
          "y_actual": 19144.57652,
          "y_predicted": 7602.548625714286
         },
         {
          "residuals": -1259.284509555555,
          "y_actual": 13143.86485,
          "y_predicted": 14403.149359555555
         },
         {
          "residuals": -6449.110349999998,
          "y_actual": 4237.12655,
          "y_predicted": 10686.236899999998
         },
         {
          "residuals": -1770.4497640000045,
          "y_actual": 37607.5277,
          "y_predicted": 39377.977464
         },
         {
          "residuals": -2568.082674999998,
          "y_actual": 26109.32905,
          "y_predicted": 28677.411724999998
         },
         {
          "residuals": -601.6638236363633,
          "y_actual": 5400.9805,
          "y_predicted": 6002.644323636363
         },
         {
          "residuals": -1331.369518292683,
          "y_actual": 7256.7231,
          "y_predicted": 8588.092618292683
         },
         {
          "residuals": 128.48134516129358,
          "y_actual": 11033.6617,
          "y_predicted": 10905.180354838707
         },
         {
          "residuals": -576.078674999997,
          "y_actual": 28101.33305,
          "y_predicted": 28677.411724999998
         },
         {
          "residuals": -621.0617812499986,
          "y_actual": 16450.8947,
          "y_predicted": 17071.95648125
         },
         {
          "residuals": -1412.5716639325847,
          "y_actual": 1163.4627,
          "y_predicted": 2576.0343639325847
         },
         {
          "residuals": -515.9453595555551,
          "y_actual": 13887.204,
          "y_predicted": 14403.149359555555
         },
         {
          "residuals": -5839.316749999998,
          "y_actual": 4846.92015,
          "y_predicted": 10686.236899999998
         },
         {
          "residuals": -3890.842559642855,
          "y_actual": 15817.9857,
          "y_predicted": 19708.828259642854
         },
         {
          "residuals": -881.2379639325848,
          "y_actual": 1694.7964,
          "y_predicted": 2576.0343639325847
         },
         {
          "residuals": 10218.052851707316,
          "y_actual": 18806.14547,
          "y_predicted": 8588.092618292683
         },
         {
          "residuals": -2540.5104640000063,
          "y_actual": 36837.467,
          "y_predicted": 39377.977464
         },
         {
          "residuals": -66.08961829268264,
          "y_actual": 8522.003,
          "y_predicted": 8588.092618292683
         },
         {
          "residuals": -82.54022363636341,
          "y_actual": 5920.1041,
          "y_predicted": 6002.644323636363
         },
         {
          "residuals": -3189.5754421428574,
          "y_actual": 12485.8009,
          "y_predicted": 15675.376342142858
         },
         {
          "residuals": 1397.1107349999984,
          "y_actual": 24106.91255,
          "y_predicted": 22709.801815000003
         },
         {
          "residuals": 23214.895625999998,
          "y_actual": 62592.87309,
          "y_predicted": 39377.977464
         },
         {
          "residuals": -1616.7396944444458,
          "y_actual": 3987.926,
          "y_predicted": 5604.665694444446
         },
         {
          "residuals": 2477.0220085714245,
          "y_actual": 36898.73308,
          "y_predicted": 34421.71107142857
         },
         {
          "residuals": -3884.311994444446,
          "y_actual": 1720.3537,
          "y_predicted": 5604.665694444446
         },
         {
          "residuals": 684.005538157895,
          "y_actual": 9855.1314,
          "y_predicted": 9171.125861842105
         },
         {
          "residuals": -421.00580000000264,
          "y_actual": 19023.26,
          "y_predicted": 19444.2658
         },
         {
          "residuals": -304.6320548387066,
          "y_actual": 10600.5483,
          "y_predicted": 10905.180354838707
         },
         {
          "residuals": -1462.3327596428535,
          "y_actual": 18246.4955,
          "y_predicted": 19708.828259642854
         },
         {
          "residuals": -1973.0963548387062,
          "y_actual": 8932.084,
          "y_predicted": 10905.180354838707
         },
         {
          "residuals": -2242.028755000003,
          "y_actual": 12829.4551,
          "y_predicted": 15071.483855000002
         },
         {
          "residuals": -244.37297571428553,
          "y_actual": 7358.17565,
          "y_predicted": 7602.548625714286
         },
         {
          "residuals": -1974.245804838707,
          "y_actual": 8930.93455,
          "y_predicted": 10905.180354838707
         },
         {
          "residuals": -4998.10134346154,
          "y_actual": 12928.7911,
          "y_predicted": 17926.89244346154
         },
         {
          "residuals": -1837.7818944444457,
          "y_actual": 3766.8838,
          "y_predicted": 5604.665694444446
         },
         {
          "residuals": -2877.2123548387053,
          "y_actual": 8027.968000000002,
          "y_predicted": 10905.180354838707
         },
         {
          "residuals": -1453.2232668999968,
          "y_actual": 10923.9332,
          "y_predicted": 12377.156466899996
         },
         {
          "residuals": -347.1577444444456,
          "y_actual": 5257.50795,
          "y_predicted": 5604.665694444446
         },
         {
          "residuals": -2273.5352095555554,
          "y_actual": 12129.61415,
          "y_predicted": 14403.149359555555
         },
         {
          "residuals": 378.4392381578946,
          "y_actual": 9549.5651,
          "y_predicted": 9171.125861842105
         },
         {
          "residuals": -1306.6214668999964,
          "y_actual": 11070.535,
          "y_predicted": 12377.156466899996
         },
         {
          "residuals": -227.01076184210433,
          "y_actual": 8944.1151,
          "y_predicted": 9171.125861842105
         },
         {
          "residuals": -4692.875042142858,
          "y_actual": 10982.5013,
          "y_predicted": 15675.376342142858
         },
         {
          "residuals": -1942.0912168999967,
          "y_actual": 10435.06525,
          "y_predicted": 12377.156466899996
         },
         {
          "residuals": 14089.940903100003,
          "y_actual": 26467.09737,
          "y_predicted": 12377.156466899996
         },
         {
          "residuals": -2562.2716048387065,
          "y_actual": 8342.90875,
          "y_predicted": 10905.180354838707
         },
         {
          "residuals": -2042.6425474999992,
          "y_actual": 1969.614,
          "y_predicted": 4012.256547499999
         },
         {
          "residuals": 322.1803055555538,
          "y_actual": 5926.846,
          "y_predicted": 5604.665694444446
         },
         {
          "residuals": 3536.7781449999966,
          "y_actual": 18608.262,
          "y_predicted": 15071.483855000002
         },
         {
          "residuals": -942.9899639325847,
          "y_actual": 1633.0444,
          "y_predicted": 2576.0343639325847
         },
         {
          "residuals": 2622.738540357146,
          "y_actual": 22331.5668,
          "y_predicted": 19708.828259642854
         },
         {
          "residuals": 165.91363606741515,
          "y_actual": 2741.948,
          "y_predicted": 2576.0343639325847
         },
         {
          "residuals": -1841.7649434615396,
          "y_actual": 16085.1275,
          "y_predicted": 17926.89244346154
         },
         {
          "residuals": -2272.6570222222217,
          "y_actual": 42303.69215,
          "y_predicted": 44576.349172222224
         },
         {
          "residuals": 12099.322043100005,
          "y_actual": 24476.47851,
          "y_predicted": 12377.156466899996
         },
         {
          "residuals": -1431.2312736363629,
          "y_actual": 4571.41305,
          "y_predicted": 6002.644323636363
         },
         {
          "residuals": -1530.2119944444457,
          "y_actual": 4074.4537,
          "y_predicted": 5604.665694444446
         },
         {
          "residuals": -4309.424342142858,
          "y_actual": 11365.952,
          "y_predicted": 15675.376342142858
         },
         {
          "residuals": -3767.4286944444457,
          "y_actual": 1837.237,
          "y_predicted": 5604.665694444446
         },
         {
          "residuals": -808.2103548387076,
          "y_actual": 10096.97,
          "y_predicted": 10905.180354838707
         },
         {
          "residuals": 1892.0292651612926,
          "y_actual": 12797.20962,
          "y_predicted": 10905.180354838707
         },
         {
          "residuals": -2212.3004944444456,
          "y_actual": 3392.3652,
          "y_predicted": 5604.665694444446
         },
         {
          "residuals": -495.18686689999595,
          "y_actual": 11881.9696,
          "y_predicted": 12377.156466899996
         },
         {
          "residuals": 1546.4263055555539,
          "y_actual": 7151.092,
          "y_predicted": 5604.665694444446
         },
         {
          "residuals": -3942.064115000001,
          "y_actual": 18767.7377,
          "y_predicted": 22709.801815000003
         },
         {
          "residuals": -4581.753442142857,
          "y_actual": 11093.6229,
          "y_predicted": 15675.376342142858
         },
         {
          "residuals": -2091.206618292683,
          "y_actual": 6496.886,
          "y_predicted": 8588.092618292683
         },
         {
          "residuals": -1255.2036944444453,
          "y_actual": 4349.462,
          "y_predicted": 5604.665694444446
         },
         {
          "residuals": -411.2345548387075,
          "y_actual": 10493.9458,
          "y_predicted": 10905.180354838707
         },
         {
          "residuals": -6257.349049999998,
          "y_actual": 4428.88785,
          "y_predicted": 10686.236899999998
         },
         {
          "residuals": -6680.8143999999975,
          "y_actual": 4005.4225,
          "y_predicted": 10686.236899999998
         },
         {
          "residuals": -555.4820639325847,
          "y_actual": 2020.5523,
          "y_predicted": 2576.0343639325847
         },
         {
          "residuals": 1975.8649285714273,
          "y_actual": 36397.576,
          "y_predicted": 34421.71107142857
         },
         {
          "residuals": -5354.197200869567,
          "y_actual": 38282.7495,
          "y_predicted": 43636.946700869565
         },
         {
          "residuals": -1138.0442944444458,
          "y_actual": 4466.6214,
          "y_predicted": 5604.665694444446
         },
         {
          "residuals": -179.64234444444537,
          "y_actual": 5425.02335,
          "y_predicted": 5604.665694444446
         },
         {
          "residuals": -1023.9288668999961,
          "y_actual": 11353.2276,
          "y_predicted": 12377.156466899996
         },
         {
          "residuals": 18768.812336067414,
          "y_actual": 21344.8467,
          "y_predicted": 2576.0343639325847
         },
         {
          "residuals": -2874.557844444446,
          "y_actual": 2730.10785,
          "y_predicted": 5604.665694444446
         },
         {
          "residuals": -866.3974944444453,
          "y_actual": 4738.2682,
          "y_predicted": 5604.665694444446
         },
         {
          "residuals": 13615.664573100003,
          "y_actual": 25992.82104,
          "y_predicted": 12377.156466899996
         },
         {
          "residuals": 507.68725555555466,
          "y_actual": 6112.35295,
          "y_predicted": 5604.665694444446
         },
         {
          "residuals": -1522.8771257142853,
          "y_actual": 6079.6715,
          "y_predicted": 7602.548625714286
         },
         {
          "residuals": 834.724376363637,
          "y_actual": 6837.3687,
          "y_predicted": 6002.644323636363
         },
         {
          "residuals": -2066.962694444446,
          "y_actual": 3537.703,
          "y_predicted": 5604.665694444446
         },
         {
          "residuals": -282.67846689999715,
          "y_actual": 12094.478,
          "y_predicted": 12377.156466899996
         },
         {
          "residuals": -1439.6349639325847,
          "y_actual": 1136.3994,
          "y_predicted": 2576.0343639325847
         },
         {
          "residuals": 17662.702445,
          "y_actual": 32734.1863,
          "y_predicted": 15071.483855000002
         },
         {
          "residuals": 463.94857500000217,
          "y_actual": 29141.3603,
          "y_predicted": 28677.411724999998
         },
         {
          "residuals": -4571.509764000002,
          "y_actual": 34806.4677,
          "y_predicted": 39377.977464
         },
         {
          "residuals": -1260.9278548387065,
          "y_actual": 9644.2525,
          "y_predicted": 10905.180354838707
         },
         {
          "residuals": -689.0243714285753,
          "y_actual": 33732.6867,
          "y_predicted": 34421.71107142857
         },
         {
          "residuals": 15661.079182500007,
          "y_actual": 19673.335730000006,
          "y_predicted": 4012.256547499999
         },
         {
          "residuals": -842.3366944444442,
          "y_actual": 4762.3290000000015,
          "y_predicted": 5604.665694444446
         },
         {
          "residuals": -954.1516639325846,
          "y_actual": 1621.8827,
          "y_predicted": 2576.0343639325847
         },
         {
          "residuals": -724.5685257142859,
          "y_actual": 6877.9801,
          "y_predicted": 7602.548625714286
         },
         {
          "residuals": -536.3814168999961,
          "y_actual": 11840.77505,
          "y_predicted": 12377.156466899996
         },
         {
          "residuals": -867.1086139325846,
          "y_actual": 1708.92575,
          "y_predicted": 2576.0343639325847
         },
         {
          "residuals": -2756.8234434615406,
          "y_actual": 15170.069,
          "y_predicted": 17926.89244346154
         },
         {
          "residuals": 13200.086705555555,
          "y_actual": 18804.7524,
          "y_predicted": 5604.665694444446
         },
         {
          "residuals": 1389.3658381578953,
          "y_actual": 10560.4917,
          "y_predicted": 9171.125861842105
         },
         {
          "residuals": 1486.4975578571393,
          "y_actual": 49577.6624,
          "y_predicted": 48091.16484214286
         },
         {
          "residuals": -1764.9543595555551,
          "y_actual": 12638.195,
          "y_predicted": 14403.149359555555
         },
         {
          "residuals": -1308.3944944444456,
          "y_actual": 4296.2712,
          "y_predicted": 5604.665694444446
         },
         {
          "residuals": -932.3449595555539,
          "y_actual": 13470.8044,
          "y_predicted": 14403.149359555555
         },
         {
          "residuals": 15235.179945161293,
          "y_actual": 26140.3603,
          "y_predicted": 10905.180354838707
         },
         {
          "residuals": -1661.981909555554,
          "y_actual": 12741.16745,
          "y_predicted": 14403.149359555555
         },
         {
          "residuals": 5722.049175555554,
          "y_actual": 11326.71487,
          "y_predicted": 5604.665694444446
         },
         {
          "residuals": -1314.1753639325848,
          "y_actual": 1261.859,
          "y_predicted": 2576.0343639325847
         },
         {
          "residuals": -445.3584639325845,
          "y_actual": 2130.6759,
          "y_predicted": 2576.0343639325847
         },
         {
          "residuals": -1994.5843182926828,
          "y_actual": 6593.5083,
          "y_predicted": 8588.092618292683
         },
         {
          "residuals": -816.6963639325847,
          "y_actual": 1759.338,
          "y_predicted": 2576.0343639325847
         },
         {
          "residuals": -1060.4065596428554,
          "y_actual": 18648.4217,
          "y_predicted": 19708.828259642854
         },
         {
          "residuals": -730.468523636363,
          "y_actual": 5272.1758,
          "y_predicted": 6002.644323636363
         },
         {
          "residuals": -364.9036139325849,
          "y_actual": 2211.13075,
          "y_predicted": 2576.0343639325847
         }
        ]
       },
       "encoding": {
        "x": {
         "field": "y_predicted",
         "title": "Predicted Medical Expense ($)",
         "type": "quantitative"
        },
        "y": {
         "field": "y_actual",
         "title": "Actual Medical Expense ($)",
         "type": "quantitative"
        }
       },
       "height": 300,
       "mark": {
        "color": "green",
        "opacity": 0.4,
        "size": 60,
        "type": "circle"
       },
       "title": "Predicted Vs Actual",
       "width": 700
      },
      "image/png": "[encoded data removed]",
      "text/plain": [
       "<VegaLite 3 object>\n",
       "\n",
       "If you see this message, it means the renderer has not been properly enabled\n",
       "for the frontend that you are using. For more information, see\n",
       "https://altair-viz.github.io/user_guide/troubleshooting.html\n"
      ]
     },
     "execution_count": 336,
     "metadata": {},
     "output_type": "execute_result"
    }
   ],
   "source": [
    "alt.Chart(res).mark_circle(size=60, color=\"green\", opacity=0.4).encode(\n",
    "    alt.X('y_predicted', title = \"Predicted Medical Expense ($)\"),\n",
    "    alt.Y('y_actual', title = \"Actual Medical Expense ($)\") \n",
    "    ).properties(\n",
    "    title = \"Predicted Vs Actual\",\n",
    "    width = 700,\n",
    "    height = 300\n",
    "    ).configure_axis(\n",
    "    labelFontSize = 20,\n",
    "    titleFontSize = 20\n",
    "    ).configure_title(\n",
    "    fontSize = 20\n",
    "    )"
   ]
  },
  {
   "cell_type": "code",
   "execution_count": 337,
   "metadata": {},
   "outputs": [],
   "source": [
    "p1 = alt.Chart(res).mark_circle(size=60, color=\"red\", opacity=0.4).encode(\n",
    "    alt.X('y_predicted', title = \"Predicted Medical Expense ($)\"),\n",
    "    alt.Y('residuals', title = \"Residuals ($)\") \n",
    "    ).properties(\n",
    "    title = \"Residual Plot\",\n",
    "    width = 700,\n",
    "    height = 300\n",
    "    ).configure_axis(\n",
    "    labelFontSize = 20,\n",
    "    titleFontSize = 20\n",
    "    ).configure_title(\n",
    "    fontSize = 20\n",
    "    )"
   ]
  },
  {
   "cell_type": "code",
   "execution_count": 338,
   "metadata": {},
   "outputs": [
    {
     "ename": "TypeError",
     "evalue": "Image data of dtype object cannot be converted to float",
     "output_type": "error",
     "traceback": [
      "\u001b[0;31m---------------------------------------------------------------------------\u001b[0m",
      "\u001b[0;31mTypeError\u001b[0m                                 Traceback (most recent call last)",
      "\u001b[0;32m<ipython-input-338-b6ab4fa516ba>\u001b[0m in \u001b[0;36m<module>\u001b[0;34m\u001b[0m\n\u001b[0;32m----> 1\u001b[0;31m \u001b[0mplt\u001b[0m\u001b[0;34m.\u001b[0m\u001b[0mimshow\u001b[0m\u001b[0;34m(\u001b[0m\u001b[0mp1\u001b[0m\u001b[0;34m)\u001b[0m\u001b[0;34m\u001b[0m\u001b[0;34m\u001b[0m\u001b[0m\n\u001b[0m",
      "\u001b[0;32m~/anaconda3/lib/python3.7/site-packages/matplotlib/pyplot.py\u001b[0m in \u001b[0;36mimshow\u001b[0;34m(X, cmap, norm, aspect, interpolation, alpha, vmin, vmax, origin, extent, shape, filternorm, filterrad, imlim, resample, url, data, **kwargs)\u001b[0m\n\u001b[1;32m   2681\u001b[0m         \u001b[0mfilternorm\u001b[0m\u001b[0;34m=\u001b[0m\u001b[0mfilternorm\u001b[0m\u001b[0;34m,\u001b[0m \u001b[0mfilterrad\u001b[0m\u001b[0;34m=\u001b[0m\u001b[0mfilterrad\u001b[0m\u001b[0;34m,\u001b[0m \u001b[0mimlim\u001b[0m\u001b[0;34m=\u001b[0m\u001b[0mimlim\u001b[0m\u001b[0;34m,\u001b[0m\u001b[0;34m\u001b[0m\u001b[0;34m\u001b[0m\u001b[0m\n\u001b[1;32m   2682\u001b[0m         resample=resample, url=url, **({\"data\": data} if data is not\n\u001b[0;32m-> 2683\u001b[0;31m         None else {}), **kwargs)\n\u001b[0m\u001b[1;32m   2684\u001b[0m     \u001b[0msci\u001b[0m\u001b[0;34m(\u001b[0m\u001b[0m__ret\u001b[0m\u001b[0;34m)\u001b[0m\u001b[0;34m\u001b[0m\u001b[0;34m\u001b[0m\u001b[0m\n\u001b[1;32m   2685\u001b[0m     \u001b[0;32mreturn\u001b[0m \u001b[0m__ret\u001b[0m\u001b[0;34m\u001b[0m\u001b[0;34m\u001b[0m\u001b[0m\n",
      "\u001b[0;32m~/anaconda3/lib/python3.7/site-packages/matplotlib/__init__.py\u001b[0m in \u001b[0;36minner\u001b[0;34m(ax, data, *args, **kwargs)\u001b[0m\n\u001b[1;32m   1599\u001b[0m     \u001b[0;32mdef\u001b[0m \u001b[0minner\u001b[0m\u001b[0;34m(\u001b[0m\u001b[0max\u001b[0m\u001b[0;34m,\u001b[0m \u001b[0;34m*\u001b[0m\u001b[0margs\u001b[0m\u001b[0;34m,\u001b[0m \u001b[0mdata\u001b[0m\u001b[0;34m=\u001b[0m\u001b[0;32mNone\u001b[0m\u001b[0;34m,\u001b[0m \u001b[0;34m**\u001b[0m\u001b[0mkwargs\u001b[0m\u001b[0;34m)\u001b[0m\u001b[0;34m:\u001b[0m\u001b[0;34m\u001b[0m\u001b[0;34m\u001b[0m\u001b[0m\n\u001b[1;32m   1600\u001b[0m         \u001b[0;32mif\u001b[0m \u001b[0mdata\u001b[0m \u001b[0;32mis\u001b[0m \u001b[0;32mNone\u001b[0m\u001b[0;34m:\u001b[0m\u001b[0;34m\u001b[0m\u001b[0;34m\u001b[0m\u001b[0m\n\u001b[0;32m-> 1601\u001b[0;31m             \u001b[0;32mreturn\u001b[0m \u001b[0mfunc\u001b[0m\u001b[0;34m(\u001b[0m\u001b[0max\u001b[0m\u001b[0;34m,\u001b[0m \u001b[0;34m*\u001b[0m\u001b[0mmap\u001b[0m\u001b[0;34m(\u001b[0m\u001b[0msanitize_sequence\u001b[0m\u001b[0;34m,\u001b[0m \u001b[0margs\u001b[0m\u001b[0;34m)\u001b[0m\u001b[0;34m,\u001b[0m \u001b[0;34m**\u001b[0m\u001b[0mkwargs\u001b[0m\u001b[0;34m)\u001b[0m\u001b[0;34m\u001b[0m\u001b[0;34m\u001b[0m\u001b[0m\n\u001b[0m\u001b[1;32m   1602\u001b[0m \u001b[0;34m\u001b[0m\u001b[0m\n\u001b[1;32m   1603\u001b[0m         \u001b[0mbound\u001b[0m \u001b[0;34m=\u001b[0m \u001b[0mnew_sig\u001b[0m\u001b[0;34m.\u001b[0m\u001b[0mbind\u001b[0m\u001b[0;34m(\u001b[0m\u001b[0max\u001b[0m\u001b[0;34m,\u001b[0m \u001b[0;34m*\u001b[0m\u001b[0margs\u001b[0m\u001b[0;34m,\u001b[0m \u001b[0;34m**\u001b[0m\u001b[0mkwargs\u001b[0m\u001b[0;34m)\u001b[0m\u001b[0;34m\u001b[0m\u001b[0;34m\u001b[0m\u001b[0m\n",
      "\u001b[0;32m~/anaconda3/lib/python3.7/site-packages/matplotlib/cbook/deprecation.py\u001b[0m in \u001b[0;36mwrapper\u001b[0;34m(*args, **kwargs)\u001b[0m\n\u001b[1;32m    367\u001b[0m                 \u001b[0;34mf\"%(removal)s.  If any parameter follows {name!r}, they \"\u001b[0m\u001b[0;34m\u001b[0m\u001b[0;34m\u001b[0m\u001b[0m\n\u001b[1;32m    368\u001b[0m                 f\"should be pass as keyword, not positionally.\")\n\u001b[0;32m--> 369\u001b[0;31m         \u001b[0;32mreturn\u001b[0m \u001b[0mfunc\u001b[0m\u001b[0;34m(\u001b[0m\u001b[0;34m*\u001b[0m\u001b[0margs\u001b[0m\u001b[0;34m,\u001b[0m \u001b[0;34m**\u001b[0m\u001b[0mkwargs\u001b[0m\u001b[0;34m)\u001b[0m\u001b[0;34m\u001b[0m\u001b[0;34m\u001b[0m\u001b[0m\n\u001b[0m\u001b[1;32m    370\u001b[0m \u001b[0;34m\u001b[0m\u001b[0m\n\u001b[1;32m    371\u001b[0m     \u001b[0;32mreturn\u001b[0m \u001b[0mwrapper\u001b[0m\u001b[0;34m\u001b[0m\u001b[0;34m\u001b[0m\u001b[0m\n",
      "\u001b[0;32m~/anaconda3/lib/python3.7/site-packages/matplotlib/cbook/deprecation.py\u001b[0m in \u001b[0;36mwrapper\u001b[0;34m(*args, **kwargs)\u001b[0m\n\u001b[1;32m    367\u001b[0m                 \u001b[0;34mf\"%(removal)s.  If any parameter follows {name!r}, they \"\u001b[0m\u001b[0;34m\u001b[0m\u001b[0;34m\u001b[0m\u001b[0m\n\u001b[1;32m    368\u001b[0m                 f\"should be pass as keyword, not positionally.\")\n\u001b[0;32m--> 369\u001b[0;31m         \u001b[0;32mreturn\u001b[0m \u001b[0mfunc\u001b[0m\u001b[0;34m(\u001b[0m\u001b[0;34m*\u001b[0m\u001b[0margs\u001b[0m\u001b[0;34m,\u001b[0m \u001b[0;34m**\u001b[0m\u001b[0mkwargs\u001b[0m\u001b[0;34m)\u001b[0m\u001b[0;34m\u001b[0m\u001b[0;34m\u001b[0m\u001b[0m\n\u001b[0m\u001b[1;32m    370\u001b[0m \u001b[0;34m\u001b[0m\u001b[0m\n\u001b[1;32m    371\u001b[0m     \u001b[0;32mreturn\u001b[0m \u001b[0mwrapper\u001b[0m\u001b[0;34m\u001b[0m\u001b[0;34m\u001b[0m\u001b[0m\n",
      "\u001b[0;32m~/anaconda3/lib/python3.7/site-packages/matplotlib/axes/_axes.py\u001b[0m in \u001b[0;36mimshow\u001b[0;34m(self, X, cmap, norm, aspect, interpolation, alpha, vmin, vmax, origin, extent, shape, filternorm, filterrad, imlim, resample, url, **kwargs)\u001b[0m\n\u001b[1;32m   5669\u001b[0m                               resample=resample, **kwargs)\n\u001b[1;32m   5670\u001b[0m \u001b[0;34m\u001b[0m\u001b[0m\n\u001b[0;32m-> 5671\u001b[0;31m         \u001b[0mim\u001b[0m\u001b[0;34m.\u001b[0m\u001b[0mset_data\u001b[0m\u001b[0;34m(\u001b[0m\u001b[0mX\u001b[0m\u001b[0;34m)\u001b[0m\u001b[0;34m\u001b[0m\u001b[0;34m\u001b[0m\u001b[0m\n\u001b[0m\u001b[1;32m   5672\u001b[0m         \u001b[0mim\u001b[0m\u001b[0;34m.\u001b[0m\u001b[0mset_alpha\u001b[0m\u001b[0;34m(\u001b[0m\u001b[0malpha\u001b[0m\u001b[0;34m)\u001b[0m\u001b[0;34m\u001b[0m\u001b[0;34m\u001b[0m\u001b[0m\n\u001b[1;32m   5673\u001b[0m         \u001b[0;32mif\u001b[0m \u001b[0mim\u001b[0m\u001b[0;34m.\u001b[0m\u001b[0mget_clip_path\u001b[0m\u001b[0;34m(\u001b[0m\u001b[0;34m)\u001b[0m \u001b[0;32mis\u001b[0m \u001b[0;32mNone\u001b[0m\u001b[0;34m:\u001b[0m\u001b[0;34m\u001b[0m\u001b[0;34m\u001b[0m\u001b[0m\n",
      "\u001b[0;32m~/anaconda3/lib/python3.7/site-packages/matplotlib/image.py\u001b[0m in \u001b[0;36mset_data\u001b[0;34m(self, A)\u001b[0m\n\u001b[1;32m    683\u001b[0m                 not np.can_cast(self._A.dtype, float, \"same_kind\")):\n\u001b[1;32m    684\u001b[0m             raise TypeError(\"Image data of dtype {} cannot be converted to \"\n\u001b[0;32m--> 685\u001b[0;31m                             \"float\".format(self._A.dtype))\n\u001b[0m\u001b[1;32m    686\u001b[0m \u001b[0;34m\u001b[0m\u001b[0m\n\u001b[1;32m    687\u001b[0m         if not (self._A.ndim == 2\n",
      "\u001b[0;31mTypeError\u001b[0m: Image data of dtype object cannot be converted to float"
     ]
    },
    {
     "data": {
      "image/png": "[encoded data removed]",
      "text/plain": [
       "<Figure size 432x288 with 1 Axes>"
      ]
     },
     "metadata": {
      "needs_background": "light"
     },
     "output_type": "display_data"
    }
   ],
   "source": [
    "plt.imshow(p1)"
   ]
  },
  {
   "cell_type": "code",
   "execution_count": 339,
   "metadata": {},
   "outputs": [
    {
     "data": {
      "text/plain": [
       "pandas.core.series.Series"
      ]
     },
     "execution_count": 339,
     "metadata": {},
     "output_type": "execute_result"
    }
   ],
   "source": [
    "type(y)"
   ]
  },
  {
   "cell_type": "code",
   "execution_count": 342,
   "metadata": {},
   "outputs": [
    {
     "data": {
      "text/plain": [
       "sklearn.compose._column_transformer.ColumnTransformer"
      ]
     },
     "execution_count": 342,
     "metadata": {},
     "output_type": "execute_result"
    }
   ],
   "source": [
    "type(preprocessor)"
   ]
  },
  {
   "cell_type": "code",
   "execution_count": null,
   "metadata": {},
   "outputs": [],
   "source": [
    "results_df.to_csv()"
   ]
  }
 ],
 "metadata": {
  "kernelspec": {
   "display_name": "Python 3",
   "language": "python",
   "name": "python3"
  },
  "language_info": {
   "codemirror_mode": {
    "name": "ipython",
    "version": 3
   },
   "file_extension": ".py",
   "mimetype": "text/x-python",
   "name": "python",
   "nbconvert_exporter": "python",
   "pygments_lexer": "ipython3",
   "version": "3.7.3"
  }
 },
 "nbformat": 4,
 "nbformat_minor": 4
}
