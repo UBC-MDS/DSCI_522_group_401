{
 "cells": [
  {
   "cell_type": "markdown",
   "metadata": {},
   "source": [
    "# UBC-MDS/DSCI_522_group_401\n",
    "# Predicting Medical Insurance Cost\n",
    "Authors: Karanpal Singh, Sreejith Munthikodu, Sirine Chahma  \n",
    "[Data Source](https://gist.github.com/meperezcuello/82a9f1c1c473d6585e750ad2e3c05a41)"
   ]
  },
  {
   "cell_type": "markdown",
   "metadata": {},
   "source": [
    "# Import libraries and packages"
   ]
  },
  {
   "cell_type": "code",
   "execution_count": 246,
   "metadata": {},
   "outputs": [
    {
     "ename": "ImportError",
     "evalue": "cannot import name 'root_mean_squared_error' from 'sklearn.metrics' (/home/sree/anaconda3/lib/python3.7/site-packages/sklearn/metrics/__init__.py)",
     "output_type": "error",
     "traceback": [
      "\u001b[0;31m---------------------------------------------------------------------------\u001b[0m",
      "\u001b[0;31mImportError\u001b[0m                               Traceback (most recent call last)",
      "\u001b[0;32m<ipython-input-246-eb4a54c76aec>\u001b[0m in \u001b[0;36m<module>\u001b[0;34m\u001b[0m\n\u001b[1;32m     21\u001b[0m \u001b[0;34m\u001b[0m\u001b[0m\n\u001b[1;32m     22\u001b[0m \u001b[0;34m\u001b[0m\u001b[0m\n\u001b[0;32m---> 23\u001b[0;31m \u001b[0;32mfrom\u001b[0m \u001b[0msklearn\u001b[0m\u001b[0;34m.\u001b[0m\u001b[0mmetrics\u001b[0m \u001b[0;32mimport\u001b[0m \u001b[0mmean_absolute_error\u001b[0m\u001b[0;34m,\u001b[0m \u001b[0mmean_squared_error\u001b[0m\u001b[0;34m,\u001b[0m \u001b[0mroot_mean_squared_error\u001b[0m\u001b[0;34m\u001b[0m\u001b[0;34m\u001b[0m\u001b[0m\n\u001b[0m",
      "\u001b[0;31mImportError\u001b[0m: cannot import name 'root_mean_squared_error' from 'sklearn.metrics' (/home/sree/anaconda3/lib/python3.7/site-packages/sklearn/metrics/__init__.py)"
     ]
    }
   ],
   "source": [
    "import pandas as pd\n",
    "import numpy as np\n",
    "import matplotlib.pyplot as plt\n",
    "import seaborn as sns\n",
    "import altair as alt\n",
    "\n",
    "import time\n",
    "\n",
    "from sklearn.preprocessing import StandardScaler, OneHotEncoder\n",
    "from sklearn.pipeline import Pipeline\n",
    "from sklearn.compose import ColumnTransformer\n",
    "\n",
    "from sklearn.linear_model import LinearRegression\n",
    "from sklearn.tree import DecisionTreeRegressor\n",
    "from sklearn.neighbors import KNeighborsRegressor\n",
    "from sklearn.ensemble import RandomForestRegressor\n",
    "from sklearn.svm import SVR\n",
    "from sklearn.preprocessing import PolynomialFeatures\n",
    "from sklearn.model_selection import train_test_split, GridSearchCV, cross_val_score\n",
    "from sklearn.feature_selection import RFECV\n",
    "\n",
    "\n",
    "from sklearn.metrics import mean_absolute_error, mean_squared_error, root_mean_squared_error\n"
   ]
  },
  {
   "cell_type": "markdown",
   "metadata": {},
   "source": [
    "# Load training data"
   ]
  },
  {
   "cell_type": "code",
   "execution_count": 208,
   "metadata": {},
   "outputs": [
    {
     "data": {
      "text/html": [
       "<div>\n",
       "<style scoped>\n",
       "    .dataframe tbody tr th:only-of-type {\n",
       "        vertical-align: middle;\n",
       "    }\n",
       "\n",
       "    .dataframe tbody tr th {\n",
       "        vertical-align: top;\n",
       "    }\n",
       "\n",
       "    .dataframe thead th {\n",
       "        text-align: right;\n",
       "    }\n",
       "</style>\n",
       "<table border=\"1\" class=\"dataframe\">\n",
       "  <thead>\n",
       "    <tr style=\"text-align: right;\">\n",
       "      <th></th>\n",
       "      <th>age</th>\n",
       "      <th>sex</th>\n",
       "      <th>bmi</th>\n",
       "      <th>children</th>\n",
       "      <th>smoker</th>\n",
       "      <th>region</th>\n",
       "      <th>charges</th>\n",
       "    </tr>\n",
       "  </thead>\n",
       "  <tbody>\n",
       "    <tr>\n",
       "      <th>0</th>\n",
       "      <td>36</td>\n",
       "      <td>male</td>\n",
       "      <td>27.55</td>\n",
       "      <td>3</td>\n",
       "      <td>no</td>\n",
       "      <td>northeast</td>\n",
       "      <td>6746.7425</td>\n",
       "    </tr>\n",
       "    <tr>\n",
       "      <th>1</th>\n",
       "      <td>60</td>\n",
       "      <td>female</td>\n",
       "      <td>35.10</td>\n",
       "      <td>0</td>\n",
       "      <td>no</td>\n",
       "      <td>southwest</td>\n",
       "      <td>12644.5890</td>\n",
       "    </tr>\n",
       "    <tr>\n",
       "      <th>2</th>\n",
       "      <td>30</td>\n",
       "      <td>male</td>\n",
       "      <td>31.57</td>\n",
       "      <td>3</td>\n",
       "      <td>no</td>\n",
       "      <td>southeast</td>\n",
       "      <td>4837.5823</td>\n",
       "    </tr>\n",
       "    <tr>\n",
       "      <th>3</th>\n",
       "      <td>49</td>\n",
       "      <td>male</td>\n",
       "      <td>25.60</td>\n",
       "      <td>2</td>\n",
       "      <td>yes</td>\n",
       "      <td>southwest</td>\n",
       "      <td>23306.5470</td>\n",
       "    </tr>\n",
       "    <tr>\n",
       "      <th>4</th>\n",
       "      <td>26</td>\n",
       "      <td>male</td>\n",
       "      <td>32.90</td>\n",
       "      <td>2</td>\n",
       "      <td>yes</td>\n",
       "      <td>southwest</td>\n",
       "      <td>36085.2190</td>\n",
       "    </tr>\n",
       "  </tbody>\n",
       "</table>\n",
       "</div>"
      ],
      "text/plain": [
       "   age     sex    bmi  children smoker     region     charges\n",
       "0   36    male  27.55         3     no  northeast   6746.7425\n",
       "1   60  female  35.10         0     no  southwest  12644.5890\n",
       "2   30    male  31.57         3     no  southeast   4837.5823\n",
       "3   49    male  25.60         2    yes  southwest  23306.5470\n",
       "4   26    male  32.90         2    yes  southwest  36085.2190"
      ]
     },
     "execution_count": 208,
     "metadata": {},
     "output_type": "execute_result"
    }
   ],
   "source": [
    "medical_data = pd.read_csv(\"../data/processed/medical_cost_data_training.csv\")\n",
    "X = medical_data.drop(\"charges\", axis=1)\n",
    "y = medical_data.charges\n",
    "medical_data.head()"
   ]
  },
  {
   "cell_type": "code",
   "execution_count": 210,
   "metadata": {},
   "outputs": [],
   "source": [
    "# X_train, X_test, y_train, y_test = train_test_split(X, y, test_size=0.3, random_state=42)"
   ]
  },
  {
   "cell_type": "markdown",
   "metadata": {},
   "source": [
    "# Identify categoric and numeric features"
   ]
  },
  {
   "cell_type": "code",
   "execution_count": 244,
   "metadata": {},
   "outputs": [],
   "source": [
    "# Identify categoric and numeric features\n",
    "def get_cat_num_features(x):\n",
    "    data_types = x.dtypes\n",
    "    categoric_features = []\n",
    "    numeric_features = []\n",
    "    for d_type, feature in zip(data_types, data_types.index):\n",
    "        if d_type == \"object\":\n",
    "            categoric_features.append(feature)\n",
    "        else:\n",
    "            numeric_features.append(feature)\n",
    "    return categoric_features, numeric_features\n",
    "\n",
    "categoric_features, numeric_features = get_cat_num_features(X)"
   ]
  },
  {
   "cell_type": "markdown",
   "metadata": {},
   "source": [
    "# Create a preprocessing pipeline"
   ]
  },
  {
   "cell_type": "code",
   "execution_count": 212,
   "metadata": {},
   "outputs": [],
   "source": [
    "numeric_transformer = Pipeline(steps=[(\"poly\" , PolynomialFeatures(degree=3)),\n",
    "                                      (\"scaler\", StandardScaler())])\n",
    "categoric_transformer = Pipeline(steps=[(\"ohe\", OneHotEncoder())])\n",
    "\n",
    "preprocessor = ColumnTransformer(transformers = [\n",
    "                                 (\"num\", numeric_transformer, numeric_features),\n",
    "                                 (\"cat\", categoric_transformer, categoric_features)])"
   ]
  },
  {
   "cell_type": "markdown",
   "metadata": {},
   "source": [
    "# No Free Lunch - Try various models"
   ]
  },
  {
   "cell_type": "markdown",
   "metadata": {},
   "source": [
    "1. linear regression\n",
    "2. Decisiontree regression\n",
    "3. knnregression\n",
    "4. Randomforestregression\n",
    "5. polynomial regression (Try polynomial features later)\n",
    "6. support vector machines\n",
    " "
   ]
  },
  {
   "cell_type": "code",
   "execution_count": 261,
   "metadata": {},
   "outputs": [],
   "source": [
    "models = {\n",
    "    \"linear_regression\" : LinearRegression(),\n",
    "    \"decision_tree_regressor\" : DecisionTreeRegressor(),\n",
    "    \"knn_regression\" : KNeighborsRegressor(),\n",
    "    \"rf_regression\" : RandomForestRegressor(n_estimators=100),\n",
    "    \"SVR\" : SVR(gamma=\"scale\")   \n",
    "}"
   ]
  },
  {
   "cell_type": "code",
   "execution_count": 262,
   "metadata": {},
   "outputs": [
    {
     "data": {
      "text/plain": [
       "(655, 6)"
      ]
     },
     "execution_count": 262,
     "metadata": {},
     "output_type": "execute_result"
    }
   ],
   "source": [
    "X_train.shape"
   ]
  },
  {
   "cell_type": "code",
   "execution_count": 263,
   "metadata": {},
   "outputs": [
    {
     "data": {
      "text/plain": [
       "(655,)"
      ]
     },
     "execution_count": 263,
     "metadata": {},
     "output_type": "execute_result"
    }
   ],
   "source": [
    "y_train.shape"
   ]
  },
  {
   "cell_type": "code",
   "execution_count": 276,
   "metadata": {},
   "outputs": [
    {
     "name": "stdout",
     "output_type": "stream",
     "text": [
      "(655,)\n",
      "trainning LinearRegression(copy_X=True, fit_intercept=True, n_jobs=None, normalize=False)\n",
      "trainning DecisionTreeRegressor(criterion='mse', max_depth=None, max_features=None,\n",
      "                      max_leaf_nodes=None, min_impurity_decrease=0.0,\n",
      "                      min_impurity_split=None, min_samples_leaf=1,\n",
      "                      min_samples_split=2, min_weight_fraction_leaf=0.0,\n",
      "                      presort=False, random_state=None, splitter='best')\n",
      "trainning KNeighborsRegressor(algorithm='auto', leaf_size=30, metric='minkowski',\n",
      "                    metric_params=None, n_jobs=None, n_neighbors=5, p=2,\n",
      "                    weights='uniform')\n",
      "trainning RandomForestRegressor(bootstrap=True, criterion='mse', max_depth=None,\n",
      "                      max_features='auto', max_leaf_nodes=None,\n",
      "                      min_impurity_decrease=0.0, min_impurity_split=None,\n",
      "                      min_samples_leaf=1, min_samples_split=2,\n",
      "                      min_weight_fraction_leaf=0.0, n_estimators=100,\n",
      "                      n_jobs=None, oob_score=False, random_state=None,\n",
      "                      verbose=0, warm_start=False)\n",
      "trainning SVR(C=1.0, cache_size=200, coef0=0.0, degree=3, epsilon=0.1, gamma='scale',\n",
      "    kernel='rbf', max_iter=-1, shrinking=True, tol=0.001, verbose=False)\n"
     ]
    },
    {
     "data": {
      "text/html": [
       "<div>\n",
       "<style scoped>\n",
       "    .dataframe tbody tr th:only-of-type {\n",
       "        vertical-align: middle;\n",
       "    }\n",
       "\n",
       "    .dataframe tbody tr th {\n",
       "        vertical-align: top;\n",
       "    }\n",
       "\n",
       "    .dataframe thead th {\n",
       "        text-align: right;\n",
       "    }\n",
       "</style>\n",
       "<table border=\"1\" class=\"dataframe\">\n",
       "  <thead>\n",
       "    <tr style=\"text-align: right;\">\n",
       "      <th></th>\n",
       "      <th>linear_regression</th>\n",
       "      <th>decision_tree_regressor</th>\n",
       "      <th>knn_regression</th>\n",
       "      <th>rf_regression</th>\n",
       "      <th>SVR</th>\n",
       "    </tr>\n",
       "  </thead>\n",
       "  <tbody>\n",
       "    <tr>\n",
       "      <th>Mean absolute error, training</th>\n",
       "      <td>4541.9410</td>\n",
       "      <td>0.0000</td>\n",
       "      <td>3268.7340</td>\n",
       "      <td>1151.1690</td>\n",
       "      <td>8625.7510</td>\n",
       "    </tr>\n",
       "    <tr>\n",
       "      <th>Mean absolute error, test</th>\n",
       "      <td>4593.5290</td>\n",
       "      <td>3711.8030</td>\n",
       "      <td>4242.7680</td>\n",
       "      <td>3174.5240</td>\n",
       "      <td>8631.4270</td>\n",
       "    </tr>\n",
       "    <tr>\n",
       "      <th>training_time(s)</th>\n",
       "      <td>0.1395</td>\n",
       "      <td>0.0951</td>\n",
       "      <td>0.0968</td>\n",
       "      <td>1.0848</td>\n",
       "      <td>0.1767</td>\n",
       "    </tr>\n",
       "  </tbody>\n",
       "</table>\n",
       "</div>"
      ],
      "text/plain": [
       "                               linear_regression  decision_tree_regressor  \\\n",
       "Mean absolute error, training          4541.9410                   0.0000   \n",
       "Mean absolute error, test              4593.5290                3711.8030   \n",
       "training_time(s)                          0.1395                   0.0951   \n",
       "\n",
       "                               knn_regression  rf_regression        SVR  \n",
       "Mean absolute error, training       3268.7340      1151.1690  8625.7510  \n",
       "Mean absolute error, test           4242.7680      3174.5240  8631.4270  \n",
       "training_time(s)                       0.0968         1.0848     0.1767  "
      ]
     },
     "execution_count": 276,
     "metadata": {},
     "output_type": "execute_result"
    }
   ],
   "source": [
    "def try_models(models, X_train, y_train, preprocessor):\n",
    "    results_dict = {}\n",
    "    print(y_train.shape)\n",
    "    for model_name, model in models.items():\n",
    "        print(f\"trainning {model}\")\n",
    "        t = time.time()\n",
    "        reg = Pipeline(steps=[('preprocessor', preprocessor),\n",
    "                              ('regressor', model)])\n",
    "        validation_error = np.mean(cross_val_score(reg, X_train, \n",
    "                                                   y_train, \n",
    "                                                   scoring = \"neg_mean_absolute_error\", \n",
    "                                                   cv=5) * -1)\n",
    "        reg.fit(X_train, y_train)\n",
    "        tr_err = mean_absolute_error(y_train, reg.predict(X_train))\n",
    "        elapsed_time = time.time() - t\n",
    "        results_dict[model_name] = [np.round(tr_err,3), np.round(validation_error,3), np.round(elapsed_time,4)]\n",
    "        indices = [\"Mean absolute error, training\", \"Mean absolute error, test\", \"training_time(s)\"]\n",
    "    results_df = pd.DataFrame(results_dict)\n",
    "    results_df.index = indices\n",
    "    return results_df\n",
    "results_df = try_models(models, X_train, y_train, preprocessor)\n",
    "results_df"
   ]
  },
  {
   "cell_type": "code",
   "execution_count": null,
   "metadata": {},
   "outputs": [],
   "source": []
  },
  {
   "cell_type": "code",
   "execution_count": 229,
   "metadata": {},
   "outputs": [
    {
     "data": {
      "text/html": [
       "<div>\n",
       "<style scoped>\n",
       "    .dataframe tbody tr th:only-of-type {\n",
       "        vertical-align: middle;\n",
       "    }\n",
       "\n",
       "    .dataframe tbody tr th {\n",
       "        vertical-align: top;\n",
       "    }\n",
       "\n",
       "    .dataframe thead th {\n",
       "        text-align: right;\n",
       "    }\n",
       "</style>\n",
       "<table border=\"1\" class=\"dataframe\">\n",
       "  <thead>\n",
       "    <tr style=\"text-align: right;\">\n",
       "      <th></th>\n",
       "      <th>0</th>\n",
       "      <th>1</th>\n",
       "      <th>2</th>\n",
       "    </tr>\n",
       "  </thead>\n",
       "  <tbody>\n",
       "    <tr>\n",
       "      <th>linear_regression</th>\n",
       "      <td>4339.149</td>\n",
       "      <td>4380.674</td>\n",
       "      <td>0.0215</td>\n",
       "    </tr>\n",
       "    <tr>\n",
       "      <th>decision_tree_regressor</th>\n",
       "      <td>0.000</td>\n",
       "      <td>3920.122</td>\n",
       "      <td>0.0359</td>\n",
       "    </tr>\n",
       "    <tr>\n",
       "      <th>knn_regression</th>\n",
       "      <td>4360.787</td>\n",
       "      <td>5479.350</td>\n",
       "      <td>0.0464</td>\n",
       "    </tr>\n",
       "    <tr>\n",
       "      <th>rf_regression</th>\n",
       "      <td>1243.239</td>\n",
       "      <td>2925.175</td>\n",
       "      <td>0.0736</td>\n",
       "    </tr>\n",
       "    <tr>\n",
       "      <th>SVR</th>\n",
       "      <td>8622.600</td>\n",
       "      <td>7868.797</td>\n",
       "      <td>0.0662</td>\n",
       "    </tr>\n",
       "  </tbody>\n",
       "</table>\n",
       "</div>"
      ],
      "text/plain": [
       "                                0         1       2\n",
       "linear_regression        4339.149  4380.674  0.0215\n",
       "decision_tree_regressor     0.000  3920.122  0.0359\n",
       "knn_regression           4360.787  5479.350  0.0464\n",
       "rf_regression            1243.239  2925.175  0.0736\n",
       "SVR                      8622.600  7868.797  0.0662"
      ]
     },
     "execution_count": 229,
     "metadata": {},
     "output_type": "execute_result"
    }
   ],
   "source": [
    "pd.DataFrame(results_dict).T"
   ]
  },
  {
   "cell_type": "markdown",
   "metadata": {},
   "source": [
    "# Hyperparameter optimization of DecisionTreeRegressor"
   ]
  },
  {
   "cell_type": "code",
   "execution_count": 232,
   "metadata": {},
   "outputs": [
    {
     "name": "stderr",
     "output_type": "stream",
     "text": [
      "/home/sree/anaconda3/lib/python3.7/site-packages/sklearn/model_selection/_search.py:814: DeprecationWarning: The default of the `iid` parameter will change from True to False in version 0.22 and will be removed in 0.24. This will change numeric results when test-set sizes are unequal.\n",
      "  DeprecationWarning)\n"
     ]
    },
    {
     "data": {
      "text/plain": [
       "GridSearchCV(cv=5, error_score='raise-deprecating',\n",
       "             estimator=Pipeline(memory=None,\n",
       "                                steps=[('preprocessor',\n",
       "                                        ColumnTransformer(n_jobs=None,\n",
       "                                                          remainder='drop',\n",
       "                                                          sparse_threshold=0.3,\n",
       "                                                          transformer_weights=None,\n",
       "                                                          transformers=[('num',\n",
       "                                                                         Pipeline(memory=None,\n",
       "                                                                                  steps=[('poly',\n",
       "                                                                                          PolynomialFeatures(degree=3,\n",
       "                                                                                                             include_bias=True,\n",
       "                                                                                                             interaction_only=False,\n",
       "                                                                                                             order='C')),\n",
       "                                                                                         ('scaler',\n",
       "                                                                                          Stand...\n",
       "                                                              random_state=None,\n",
       "                                                              splitter='best'))],\n",
       "                                verbose=False),\n",
       "             iid='warn', n_jobs=None,\n",
       "             param_grid={'preprocessor__num__poly__degree': [1, 2, 3, 4],\n",
       "                         'regressor__max_depth': [1, 2, 3, 4, 5, 6, 7, 8, 9, 10,\n",
       "                                                  11, 12, 13, 14, 15, 16, 17,\n",
       "                                                  18, 19],\n",
       "                         'regressor__min_samples_split': [2, 3, 4, 5, 6, 7, 8,\n",
       "                                                          9]},\n",
       "             pre_dispatch='2*n_jobs', refit=True, return_train_score=True,\n",
       "             scoring='neg_mean_absolute_error', verbose=0)"
      ]
     },
     "execution_count": 232,
     "metadata": {},
     "output_type": "execute_result"
    }
   ],
   "source": [
    "clf = Pipeline(steps=[('preprocessor', preprocessor),\n",
    "                      ('regressor', DecisionTreeRegressor())])\n",
    "\n",
    "param_grid = {\n",
    "    'preprocessor__num__poly__degree': list(range(1, 5)),\n",
    "    'regressor__max_depth': list(range(1, 20)),\n",
    "    \"regressor__min_samples_split\" : list(range(2, 10))\n",
    "}\n",
    "\n",
    "grid_search = GridSearchCV(clf, param_grid, cv=5, return_train_score=True, scoring=\"neg_mean_absolute_error\")\n",
    "grid_search.fit(X, y)\n",
    "\n"
   ]
  },
  {
   "cell_type": "code",
   "execution_count": 233,
   "metadata": {},
   "outputs": [
    {
     "name": "stdout",
     "output_type": "stream",
     "text": [
      "2441.5282332272454\n",
      "2735.7976303364367\n"
     ]
    }
   ],
   "source": [
    "print(mean_absolute_error(y_train, grid_search.predict(X_train)))\n",
    "print(mean_absolute_error(y_test, grid_search.predict(X_test)))"
   ]
  },
  {
   "cell_type": "code",
   "execution_count": 236,
   "metadata": {},
   "outputs": [
    {
     "data": {
      "text/html": [
       "<div>\n",
       "<style scoped>\n",
       "    .dataframe tbody tr th:only-of-type {\n",
       "        vertical-align: middle;\n",
       "    }\n",
       "\n",
       "    .dataframe tbody tr th {\n",
       "        vertical-align: top;\n",
       "    }\n",
       "\n",
       "    .dataframe thead th {\n",
       "        text-align: right;\n",
       "    }\n",
       "</style>\n",
       "<table border=\"1\" class=\"dataframe\">\n",
       "  <thead>\n",
       "    <tr style=\"text-align: right;\">\n",
       "      <th></th>\n",
       "      <th>train_score</th>\n",
       "      <th>test_score</th>\n",
       "    </tr>\n",
       "  </thead>\n",
       "  <tbody>\n",
       "    <tr>\n",
       "      <th>0</th>\n",
       "      <td>5743.088522</td>\n",
       "      <td>5760.315666</td>\n",
       "    </tr>\n",
       "    <tr>\n",
       "      <th>1</th>\n",
       "      <td>5743.088522</td>\n",
       "      <td>5760.315666</td>\n",
       "    </tr>\n",
       "    <tr>\n",
       "      <th>2</th>\n",
       "      <td>5743.088522</td>\n",
       "      <td>5760.315666</td>\n",
       "    </tr>\n",
       "    <tr>\n",
       "      <th>3</th>\n",
       "      <td>5743.088522</td>\n",
       "      <td>5760.315666</td>\n",
       "    </tr>\n",
       "    <tr>\n",
       "      <th>4</th>\n",
       "      <td>5743.088522</td>\n",
       "      <td>5760.315666</td>\n",
       "    </tr>\n",
       "    <tr>\n",
       "      <th>...</th>\n",
       "      <td>...</td>\n",
       "      <td>...</td>\n",
       "    </tr>\n",
       "    <tr>\n",
       "      <th>603</th>\n",
       "      <td>627.290987</td>\n",
       "      <td>3319.338428</td>\n",
       "    </tr>\n",
       "    <tr>\n",
       "      <th>604</th>\n",
       "      <td>772.737610</td>\n",
       "      <td>3058.400595</td>\n",
       "    </tr>\n",
       "    <tr>\n",
       "      <th>605</th>\n",
       "      <td>899.223364</td>\n",
       "      <td>3139.133493</td>\n",
       "    </tr>\n",
       "    <tr>\n",
       "      <th>606</th>\n",
       "      <td>1000.096318</td>\n",
       "      <td>3143.752292</td>\n",
       "    </tr>\n",
       "    <tr>\n",
       "      <th>607</th>\n",
       "      <td>1078.101738</td>\n",
       "      <td>3133.549011</td>\n",
       "    </tr>\n",
       "  </tbody>\n",
       "</table>\n",
       "<p>608 rows × 2 columns</p>\n",
       "</div>"
      ],
      "text/plain": [
       "     train_score   test_score\n",
       "0    5743.088522  5760.315666\n",
       "1    5743.088522  5760.315666\n",
       "2    5743.088522  5760.315666\n",
       "3    5743.088522  5760.315666\n",
       "4    5743.088522  5760.315666\n",
       "..           ...          ...\n",
       "603   627.290987  3319.338428\n",
       "604   772.737610  3058.400595\n",
       "605   899.223364  3139.133493\n",
       "606  1000.096318  3143.752292\n",
       "607  1078.101738  3133.549011\n",
       "\n",
       "[608 rows x 2 columns]"
      ]
     },
     "execution_count": 236,
     "metadata": {},
     "output_type": "execute_result"
    }
   ],
   "source": [
    "grid_results"
   ]
  },
  {
   "cell_type": "code",
   "execution_count": 219,
   "metadata": {},
   "outputs": [],
   "source": [
    "train_score = grid_search.cv_results_[\"mean_train_score\"] * -1\n",
    "test_score = grid_search.cv_results_[\"mean_test_score\"] * -1\n",
    "grid_results = pd.DataFrame({\"train_score\" : train_score, \"test_score\" : test_score})\n",
    "# grid_results[\"max_depth\"] = list(range(1, 20))"
   ]
  },
  {
   "cell_type": "code",
   "execution_count": 108,
   "metadata": {},
   "outputs": [
    {
     "data": {
      "text/plain": [
       "<matplotlib.axes._subplots.AxesSubplot at 0x7fcbce95feb8>"
      ]
     },
     "execution_count": 108,
     "metadata": {},
     "output_type": "execute_result"
    },
    {
     "data": {
      "image/png": "[encoded data removed]",
      "text/plain": [
       "<Figure size 432x288 with 1 Axes>"
      ]
     },
     "metadata": {
      "needs_background": "light"
     },
     "output_type": "display_data"
    }
   ],
   "source": [
    "# sns.lineplot(\"max_depth\", \"test_score\", data=grid_results, color=\"r\")\n",
    "# sns.lineplot(\"max_depth\", \"train_score\", data=grid_results)"
   ]
  },
  {
   "cell_type": "markdown",
   "metadata": {},
   "source": [
    "# Best model"
   ]
  },
  {
   "cell_type": "code",
   "execution_count": 237,
   "metadata": {},
   "outputs": [
    {
     "data": {
      "text/plain": [
       "{'preprocessor__num__poly__degree': 1,\n",
       " 'regressor__max_depth': 5,\n",
       " 'regressor__min_samples_split': 4}"
      ]
     },
     "execution_count": 237,
     "metadata": {},
     "output_type": "execute_result"
    }
   ],
   "source": [
    " grid_search.best_params_"
   ]
  },
  {
   "cell_type": "code",
   "execution_count": 238,
   "metadata": {},
   "outputs": [],
   "source": [
    "numeric_transformer = Pipeline(steps=[(\"poly\" , PolynomialFeatures(degree=1)),\n",
    "                                      (\"scaler\", StandardScaler())])\n",
    "categoric_transformer = Pipeline(steps=[(\"ohe\", OneHotEncoder())])\n",
    "\n",
    "preprocessor = ColumnTransformer(transformers = [\n",
    "                                 (\"num\", numeric_transformer, numeric_features),\n",
    "                                 (\"cat\", categoric_transformer, categoric_features)])"
   ]
  },
  {
   "cell_type": "code",
   "execution_count": 239,
   "metadata": {},
   "outputs": [
    {
     "name": "stderr",
     "output_type": "stream",
     "text": [
      "/home/sree/anaconda3/lib/python3.7/site-packages/sklearn/ensemble/forest.py:245: FutureWarning: The default value of n_estimators will change from 10 in version 0.20 to 100 in 0.22.\n",
      "  \"10 in version 0.20 to 100 in 0.22.\", FutureWarning)\n"
     ]
    },
    {
     "data": {
      "text/plain": [
       "Pipeline(memory=None,\n",
       "         steps=[('preprocessor',\n",
       "                 ColumnTransformer(n_jobs=None, remainder='drop',\n",
       "                                   sparse_threshold=0.3,\n",
       "                                   transformer_weights=None,\n",
       "                                   transformers=[('num',\n",
       "                                                  Pipeline(memory=None,\n",
       "                                                           steps=[('poly',\n",
       "                                                                   PolynomialFeatures(degree=1,\n",
       "                                                                                      include_bias=True,\n",
       "                                                                                      interaction_only=False,\n",
       "                                                                                      order='C')),\n",
       "                                                                  ('scaler',\n",
       "                                                                   StandardScaler(copy=True,\n",
       "                                                                                  with_mean=True,\n",
       "                                                                                  with_std=True))],\n",
       "                                                           verbose=...\n",
       "                                   verbose=False)),\n",
       "                ('regressor',\n",
       "                 RandomForestRegressor(bootstrap=True, criterion='mse',\n",
       "                                       max_depth=5, max_features='auto',\n",
       "                                       max_leaf_nodes=None,\n",
       "                                       min_impurity_decrease=0.0,\n",
       "                                       min_impurity_split=None,\n",
       "                                       min_samples_leaf=1, min_samples_split=4,\n",
       "                                       min_weight_fraction_leaf=0.0,\n",
       "                                       n_estimators=10, n_jobs=None,\n",
       "                                       oob_score=False, random_state=None,\n",
       "                                       verbose=0, warm_start=False))],\n",
       "         verbose=False)"
      ]
     },
     "execution_count": 239,
     "metadata": {},
     "output_type": "execute_result"
    }
   ],
   "source": [
    "reg = RandomForestRegressor(max_depth=5, min_samples_split=4)\n",
    "model = Pipeline(steps = [(\"preprocessor\", preprocessor),\n",
    "                         (\"regressor\", reg)])\n",
    "\n",
    "model.fit(X, y)"
   ]
  },
  {
   "cell_type": "code",
   "execution_count": 240,
   "metadata": {},
   "outputs": [
    {
     "data": {
      "text/plain": [
       "2280.1845667722278"
      ]
     },
     "execution_count": 240,
     "metadata": {},
     "output_type": "execute_result"
    }
   ],
   "source": [
    "mean_absolute_error(y, model.predict(X))"
   ]
  },
  {
   "cell_type": "markdown",
   "metadata": {},
   "source": [
    "# Load test data and test"
   ]
  },
  {
   "cell_type": "code",
   "execution_count": 241,
   "metadata": {},
   "outputs": [],
   "source": [
    "medical_data_test = pd.read_csv(\"../data/processed/medical_cost_data_test.csv\")\n",
    "X_test = medical_data_test.drop(\"charges\", axis=1)\n",
    "y_test = medical_data_test.charges"
   ]
  },
  {
   "cell_type": "code",
   "execution_count": 242,
   "metadata": {},
   "outputs": [
    {
     "data": {
      "text/plain": [
       "2455.62435350827"
      ]
     },
     "execution_count": 242,
     "metadata": {},
     "output_type": "execute_result"
    }
   ],
   "source": [
    "mean_absolute_error(y_test, model.predict(X_test))"
   ]
  },
  {
   "cell_type": "code",
   "execution_count": null,
   "metadata": {},
   "outputs": [],
   "source": []
  }
 ],
 "metadata": {
  "kernelspec": {
   "display_name": "Python 3",
   "language": "python",
   "name": "python3"
  },
  "language_info": {
   "codemirror_mode": {
    "name": "ipython",
    "version": 3
   },
   "file_extension": ".py",
   "mimetype": "text/x-python",
   "name": "python",
   "nbconvert_exporter": "python",
   "pygments_lexer": "ipython3",
   "version": "3.7.3"
  }
 },
 "nbformat": 4,
 "nbformat_minor": 4
}
